{
 "cells": [
  {
   "cell_type": "markdown",
   "id": "1b18658d",
   "metadata": {},
   "source": [
    "# Agenda\n",
    "\n",
    "1. Iterators\n",
    "    - Adding iteration to our class\n",
    "    - Generator functions\n",
    "    - Generator expressions\n",
    "2. Decorators    "
   ]
  },
  {
   "cell_type": "code",
   "execution_count": 1,
   "id": "ac235f78",
   "metadata": {},
   "outputs": [
    {
     "name": "stdout",
     "output_type": "stream",
     "text": [
      "a\n",
      "b\n",
      "c\n",
      "d\n"
     ]
    }
   ],
   "source": [
    "s = 'abcd'\n",
    "\n",
    "for one_letter in s:\n",
    "    print(one_letter)"
   ]
  },
  {
   "cell_type": "code",
   "execution_count": 2,
   "id": "73968e6d",
   "metadata": {},
   "outputs": [
    {
     "ename": "TypeError",
     "evalue": "'int' object is not iterable",
     "output_type": "error",
     "traceback": [
      "\u001b[0;31m---------------------------------------------------------------------------\u001b[0m",
      "\u001b[0;31mTypeError\u001b[0m                                 Traceback (most recent call last)",
      "\u001b[0;32m/var/folders/rr/0mnyyv811fs5vyp22gf4fxk00000gn/T/ipykernel_28603/1987108268.py\u001b[0m in \u001b[0;36m<module>\u001b[0;34m\u001b[0m\n\u001b[0;32m----> 1\u001b[0;31m \u001b[0;32mfor\u001b[0m \u001b[0mone_item\u001b[0m \u001b[0;32min\u001b[0m \u001b[0;36m5\u001b[0m\u001b[0;34m:\u001b[0m\u001b[0;34m\u001b[0m\u001b[0;34m\u001b[0m\u001b[0m\n\u001b[0m\u001b[1;32m      2\u001b[0m     \u001b[0mprint\u001b[0m\u001b[0;34m(\u001b[0m\u001b[0mone_item\u001b[0m\u001b[0;34m)\u001b[0m\u001b[0;34m\u001b[0m\u001b[0;34m\u001b[0m\u001b[0m\n",
      "\u001b[0;31mTypeError\u001b[0m: 'int' object is not iterable"
     ]
    }
   ],
   "source": [
    "for one_item in 5:\n",
    "    print(one_item)"
   ]
  },
  {
   "cell_type": "markdown",
   "id": "fc832349",
   "metadata": {},
   "source": [
    "# Python's Iterator protocol\n",
    "\n",
    "1. The `for` loop runs `iter` on the object\n",
    "    - If the object isn't iterable, we get the `TypeError` exception\n",
    "    - If the object *is* iterable, we get an *iterator* object back\n",
    "2. The `for` loop runs `next` on the iterator we got back\n",
    "    - If we get a value back, we assign it to the loop variable and execute the loop body\n",
    "    - If there are no more values, we get a `StopIteration` exception\n",
    "3. Return to step 2     "
   ]
  },
  {
   "cell_type": "code",
   "execution_count": 7,
   "id": "d8e796a8",
   "metadata": {},
   "outputs": [],
   "source": [
    "s = 'abcd'\n",
    "\n",
    "i = iter(s)"
   ]
  },
  {
   "cell_type": "code",
   "execution_count": 8,
   "id": "70d3a704",
   "metadata": {},
   "outputs": [
    {
     "data": {
      "text/plain": [
       "'a'"
      ]
     },
     "execution_count": 8,
     "metadata": {},
     "output_type": "execute_result"
    }
   ],
   "source": [
    "next(i)"
   ]
  },
  {
   "cell_type": "code",
   "execution_count": 9,
   "id": "749e2552",
   "metadata": {},
   "outputs": [
    {
     "data": {
      "text/plain": [
       "'b'"
      ]
     },
     "execution_count": 9,
     "metadata": {},
     "output_type": "execute_result"
    }
   ],
   "source": [
    "next(i)"
   ]
  },
  {
   "cell_type": "code",
   "execution_count": 10,
   "id": "f7d24ce6",
   "metadata": {},
   "outputs": [
    {
     "data": {
      "text/plain": [
       "'c'"
      ]
     },
     "execution_count": 10,
     "metadata": {},
     "output_type": "execute_result"
    }
   ],
   "source": [
    "next(i)"
   ]
  },
  {
   "cell_type": "code",
   "execution_count": 11,
   "id": "5ca7a3a1",
   "metadata": {},
   "outputs": [
    {
     "data": {
      "text/plain": [
       "'d'"
      ]
     },
     "execution_count": 11,
     "metadata": {},
     "output_type": "execute_result"
    }
   ],
   "source": [
    "next(i)"
   ]
  },
  {
   "cell_type": "code",
   "execution_count": 12,
   "id": "36fe2b71",
   "metadata": {},
   "outputs": [
    {
     "ename": "StopIteration",
     "evalue": "",
     "output_type": "error",
     "traceback": [
      "\u001b[0;31m---------------------------------------------------------------------------\u001b[0m",
      "\u001b[0;31mStopIteration\u001b[0m                             Traceback (most recent call last)",
      "\u001b[0;32m/var/folders/rr/0mnyyv811fs5vyp22gf4fxk00000gn/T/ipykernel_28603/1939748483.py\u001b[0m in \u001b[0;36m<module>\u001b[0;34m\u001b[0m\n\u001b[0;32m----> 1\u001b[0;31m \u001b[0mnext\u001b[0m\u001b[0;34m(\u001b[0m\u001b[0mi\u001b[0m\u001b[0;34m)\u001b[0m\u001b[0;34m\u001b[0m\u001b[0;34m\u001b[0m\u001b[0m\n\u001b[0m",
      "\u001b[0;31mStopIteration\u001b[0m: "
     ]
    }
   ],
   "source": [
    "next(i)"
   ]
  },
  {
   "cell_type": "markdown",
   "id": "e0413666",
   "metadata": {},
   "source": [
    "# Iterable classes\n",
    "\n",
    "- If our class knows what to do when we run `iter`\n",
    "- If our class knows what to do when we run `next`\n",
    "- If our class raises `StopIteration` when we get to the end of the data\n",
    "\n",
    "If all of the above are true, then our class is iterable."
   ]
  },
  {
   "cell_type": "code",
   "execution_count": 19,
   "id": "68291d11",
   "metadata": {},
   "outputs": [
    {
     "name": "stdout",
     "output_type": "stream",
     "text": [
      "\tIn MyData.__init__, data='abcd'\n",
      "\tIn MyData.__iter__, self.data='abcd'\n",
      "\tIn MyData.__next__, self.data='abcd', self.index=0\n",
      "\tIn MyData.__next__, returning value='a'\n",
      "a\n",
      "\tIn MyData.__next__, self.data='abcd', self.index=1\n",
      "\tIn MyData.__next__, returning value='b'\n",
      "b\n",
      "\tIn MyData.__next__, self.data='abcd', self.index=2\n",
      "\tIn MyData.__next__, returning value='c'\n",
      "c\n",
      "\tIn MyData.__next__, self.data='abcd', self.index=3\n",
      "\tIn MyData.__next__, returning value='d'\n",
      "d\n",
      "\tIn MyData.__next__, self.data='abcd', self.index=4\n",
      "\tExiting with StopIteration\n"
     ]
    }
   ],
   "source": [
    "class MyData:\n",
    "    def __init__(self, data):\n",
    "        print(f'\\tIn MyData.__init__, {data=}')\n",
    "        self.data = data\n",
    "        self.index = 0\n",
    "        \n",
    "    def __iter__(self):\n",
    "        print(f'\\tIn MyData.__iter__, {self.data=}')\n",
    "        return self     # I'm my own iterator!\n",
    "    \n",
    "    def __next__(self):\n",
    "        print(f'\\tIn MyData.__next__, {self.data=}, {self.index=}')\n",
    "        if self.index >= len(self.data):\n",
    "            print(f'\\tExiting with StopIteration')\n",
    "            raise StopIteration\n",
    "            \n",
    "        value = self.data[self.index]\n",
    "        print(f'\\tIn MyData.__next__, returning {value=}')\n",
    "        \n",
    "        self.index += 1\n",
    "        return value\n",
    "        \n",
    "\n",
    "        \n",
    "\n",
    "m = MyData('abcd')\n",
    "\n",
    "for one_item in m:\n",
    "    print(one_item)"
   ]
  },
  {
   "cell_type": "code",
   "execution_count": 18,
   "id": "e7e12e95",
   "metadata": {},
   "outputs": [
    {
     "ename": "TypeError",
     "evalue": "'int' object is not an iterator",
     "output_type": "error",
     "traceback": [
      "\u001b[0;31m---------------------------------------------------------------------------\u001b[0m",
      "\u001b[0;31mTypeError\u001b[0m                                 Traceback (most recent call last)",
      "\u001b[0;32m/var/folders/rr/0mnyyv811fs5vyp22gf4fxk00000gn/T/ipykernel_28603/3665922388.py\u001b[0m in \u001b[0;36m<module>\u001b[0;34m\u001b[0m\n\u001b[0;32m----> 1\u001b[0;31m \u001b[0mnext\u001b[0m\u001b[0;34m(\u001b[0m\u001b[0;36m5\u001b[0m\u001b[0;34m)\u001b[0m\u001b[0;34m\u001b[0m\u001b[0;34m\u001b[0m\u001b[0m\n\u001b[0m",
      "\u001b[0;31mTypeError\u001b[0m: 'int' object is not an iterator"
     ]
    }
   ],
   "source": [
    "next(5)"
   ]
  },
  {
   "cell_type": "code",
   "execution_count": 23,
   "id": "34ed96a7",
   "metadata": {},
   "outputs": [],
   "source": [
    "class Animal:\n",
    "    number_of_legs = '(No legs; abstract!)'\n",
    "    \n",
    "    def __init__(self, color):\n",
    "        self.color = color\n",
    "        self.species = type(self).__name__\n",
    "        \n",
    "    def __repr__(self):\n",
    "        return f'{self.color} {self.species}, {self.number_of_legs} legs'\n",
    "\n",
    "class Wolf(Animal):\n",
    "    number_of_legs = 4   # Wolf.number_of_legs\n",
    "        \n",
    "class Sheep(Animal):\n",
    "    number_of_legs = 4   # Sheep.number_of_legs\n",
    "        \n",
    "class Snake(Animal):\n",
    "    number_of_legs = 0\n",
    "        \n",
    "class Parrot(Animal):\n",
    "    number_of_legs = 2\n",
    "\n",
    "class Cage:\n",
    "    def __init__(self, id_number):\n",
    "        self.id_number = id_number\n",
    "        self.animals = []\n",
    "        \n",
    "    def add_animals(self, *args):\n",
    "        self.animals += args\n",
    "        \n",
    "    def __repr__(self):\n",
    "        output = f'Cage {self.id_number}\\n'\n",
    "        \n",
    "        output += '\\n'.join([f'\\t{one_animal}'\n",
    "                            for one_animal in self.animals])\n",
    "        \n",
    "        return output\n",
    "\n",
    "\n",
    "class Zoo:\n",
    "    def __init__(self):\n",
    "        self.cages = []\n",
    "        self.index = 0\n",
    "        \n",
    "    def __iter__(self):\n",
    "        return self\n",
    "    \n",
    "    def __next__(self):\n",
    "        if self.index >= len(self.cages):\n",
    "            raise StopIteration\n",
    "            \n",
    "        value = self.cages[self.index]\n",
    "        self.index += 1\n",
    "        return value\n",
    "        \n",
    "    def add_cages(self, *args):\n",
    "        self.cages += args\n",
    "        \n",
    "    def __repr__(self):\n",
    "        return '\\n'.join([str(one_cage)\n",
    "                         for one_cage in self.cages])\n",
    "    \n",
    "    def animals_by_color(self, color):\n",
    "        return '\\n'.join([str(one_animal)\n",
    "                          for one_cage in self.cages\n",
    "                          for one_animal in one_cage.animals\n",
    "                          if one_animal.color == color])\n",
    "    \n",
    "    def number_of_legs(self):\n",
    "        return sum([one_animal.number_of_legs\n",
    "                    for one_cage in self.cages\n",
    "                    for one_animal in one_cage.animals])\n",
    "\n",
    "wolf = Wolf('black')            # species, color, # legs\n",
    "sheep1 = Sheep('white')\n",
    "sheep2 = Sheep('white')\n",
    "snake = Snake('brown')\n",
    "parrot = Parrot('black')\n",
    "    \n",
    "c1 = Cage(1)\n",
    "c1.add_animals(wolf, sheep1, sheep2)\n",
    "\n",
    "c2 = Cage(2)                    # an ID number, not that important\n",
    "c2.add_animals(snake, parrot)\n",
    "\n",
    "    \n",
    "z = Zoo()\n",
    "z.add_cages(c1, c2)\n"
   ]
  },
  {
   "cell_type": "code",
   "execution_count": 24,
   "id": "4ed91c9a",
   "metadata": {},
   "outputs": [
    {
     "name": "stdout",
     "output_type": "stream",
     "text": [
      "Cage 1\n",
      "\tblack Wolf, 4 legs\n",
      "\twhite Sheep, 4 legs\n",
      "\twhite Sheep, 4 legs\n",
      "Cage 2\n",
      "\tbrown Snake, 0 legs\n",
      "\tblack Parrot, 2 legs\n"
     ]
    }
   ],
   "source": [
    "for one_cage in z:\n",
    "    print(one_cage)"
   ]
  },
  {
   "cell_type": "code",
   "execution_count": null,
   "id": "0c78d789",
   "metadata": {},
   "outputs": [],
   "source": []
  }
 ],
 "metadata": {
  "kernelspec": {
   "display_name": "Python 3 (ipykernel)",
   "language": "python",
   "name": "python3"
  },
  "language_info": {
   "codemirror_mode": {
    "name": "ipython",
    "version": 3
   },
   "file_extension": ".py",
   "mimetype": "text/x-python",
   "name": "python",
   "nbconvert_exporter": "python",
   "pygments_lexer": "ipython3",
   "version": "3.10.5"
  }
 },
 "nbformat": 4,
 "nbformat_minor": 5
}

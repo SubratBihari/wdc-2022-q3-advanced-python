{
 "cells": [
  {
   "cell_type": "markdown",
   "id": "1b18658d",
   "metadata": {},
   "source": [
    "# Agenda\n",
    "\n",
    "1. Iterators\n",
    "    - Adding iteration to our class\n",
    "    - Generator functions\n",
    "    - Generator expressions\n",
    "2. Decorators    "
   ]
  },
  {
   "cell_type": "code",
   "execution_count": 1,
   "id": "9423a3b6",
   "metadata": {},
   "outputs": [
    {
     "name": "stdout",
     "output_type": "stream",
     "text": [
      "a\n",
      "b\n",
      "c\n",
      "d\n"
     ]
    }
   ],
   "source": [
    "s = 'abcd'\n",
    "\n",
    "for one_letter in s:\n",
    "    print(one_letter)"
   ]
  },
  {
   "cell_type": "code",
   "execution_count": 2,
   "id": "35d34dd7",
   "metadata": {},
   "outputs": [
    {
     "ename": "TypeError",
     "evalue": "'int' object is not iterable",
     "output_type": "error",
     "traceback": [
      "\u001b[0;31m---------------------------------------------------------------------------\u001b[0m",
      "\u001b[0;31mTypeError\u001b[0m                                 Traceback (most recent call last)",
      "\u001b[0;32m/var/folders/rr/0mnyyv811fs5vyp22gf4fxk00000gn/T/ipykernel_28603/1987108268.py\u001b[0m in \u001b[0;36m<module>\u001b[0;34m\u001b[0m\n\u001b[0;32m----> 1\u001b[0;31m \u001b[0;32mfor\u001b[0m \u001b[0mone_item\u001b[0m \u001b[0;32min\u001b[0m \u001b[0;36m5\u001b[0m\u001b[0;34m:\u001b[0m\u001b[0;34m\u001b[0m\u001b[0;34m\u001b[0m\u001b[0m\n\u001b[0m\u001b[1;32m      2\u001b[0m     \u001b[0mprint\u001b[0m\u001b[0;34m(\u001b[0m\u001b[0mone_item\u001b[0m\u001b[0;34m)\u001b[0m\u001b[0;34m\u001b[0m\u001b[0;34m\u001b[0m\u001b[0m\n",
      "\u001b[0;31mTypeError\u001b[0m: 'int' object is not iterable"
     ]
    }
   ],
   "source": [
    "for one_item in 5:\n",
    "    print(one_item)"
   ]
  },
  {
   "cell_type": "markdown",
   "id": "99c14ead",
   "metadata": {},
   "source": [
    "# Python's Iterator protocol\n",
    "\n",
    "1. The `for` loop runs `iter` on the object\n",
    "    - If the object isn't iterable, we get the `TypeError` exception\n",
    "    - If the object *is* iterable, we get an *iterator* object back\n",
    "2. The `for` loop runs `next` on the iterator we got back\n",
    "    - If we get a value back, we assign it to the loop variable and execute the loop body\n",
    "    - If there are no more values, we get a `StopIteration` exception\n",
    "3. Return to step 2     "
   ]
  },
  {
   "cell_type": "code",
   "execution_count": 7,
   "id": "862ca721",
   "metadata": {},
   "outputs": [],
   "source": [
    "s = 'abcd'\n",
    "\n",
    "i = iter(s)"
   ]
  },
  {
   "cell_type": "code",
   "execution_count": 8,
   "id": "2a8c5d3a",
   "metadata": {},
   "outputs": [
    {
     "data": {
      "text/plain": [
       "'a'"
      ]
     },
     "execution_count": 8,
     "metadata": {},
     "output_type": "execute_result"
    }
   ],
   "source": [
    "next(i)"
   ]
  },
  {
   "cell_type": "code",
   "execution_count": 9,
   "id": "5286e84e",
   "metadata": {},
   "outputs": [
    {
     "data": {
      "text/plain": [
       "'b'"
      ]
     },
     "execution_count": 9,
     "metadata": {},
     "output_type": "execute_result"
    }
   ],
   "source": [
    "next(i)"
   ]
  },
  {
   "cell_type": "code",
   "execution_count": 10,
   "id": "40a56186",
   "metadata": {},
   "outputs": [
    {
     "data": {
      "text/plain": [
       "'c'"
      ]
     },
     "execution_count": 10,
     "metadata": {},
     "output_type": "execute_result"
    }
   ],
   "source": [
    "next(i)"
   ]
  },
  {
   "cell_type": "code",
   "execution_count": 11,
   "id": "5e8200f9",
   "metadata": {},
   "outputs": [
    {
     "data": {
      "text/plain": [
       "'d'"
      ]
     },
     "execution_count": 11,
     "metadata": {},
     "output_type": "execute_result"
    }
   ],
   "source": [
    "next(i)"
   ]
  },
  {
   "cell_type": "code",
   "execution_count": 12,
   "id": "3301f865",
   "metadata": {},
   "outputs": [
    {
     "ename": "StopIteration",
     "evalue": "",
     "output_type": "error",
     "traceback": [
      "\u001b[0;31m---------------------------------------------------------------------------\u001b[0m",
      "\u001b[0;31mStopIteration\u001b[0m                             Traceback (most recent call last)",
      "\u001b[0;32m/var/folders/rr/0mnyyv811fs5vyp22gf4fxk00000gn/T/ipykernel_28603/1939748483.py\u001b[0m in \u001b[0;36m<module>\u001b[0;34m\u001b[0m\n\u001b[0;32m----> 1\u001b[0;31m \u001b[0mnext\u001b[0m\u001b[0;34m(\u001b[0m\u001b[0mi\u001b[0m\u001b[0;34m)\u001b[0m\u001b[0;34m\u001b[0m\u001b[0;34m\u001b[0m\u001b[0m\n\u001b[0m",
      "\u001b[0;31mStopIteration\u001b[0m: "
     ]
    }
   ],
   "source": [
    "next(i)"
   ]
  },
  {
   "cell_type": "markdown",
   "id": "3b516d42",
   "metadata": {},
   "source": [
    "# Iterable classes\n",
    "\n",
    "- If our class knows what to do when we run `iter`\n",
    "- If our class knows what to do when we run `next`\n",
    "- If our class raises `StopIteration` when we get to the end of the data\n",
    "\n",
    "If all of the above are true, then our class is iterable."
   ]
  },
  {
   "cell_type": "code",
   "execution_count": 19,
   "id": "a4c8a37d",
   "metadata": {},
   "outputs": [
    {
     "name": "stdout",
     "output_type": "stream",
     "text": [
      "\tIn MyData.__init__, data='abcd'\n",
      "\tIn MyData.__iter__, self.data='abcd'\n",
      "\tIn MyData.__next__, self.data='abcd', self.index=0\n",
      "\tIn MyData.__next__, returning value='a'\n",
      "a\n",
      "\tIn MyData.__next__, self.data='abcd', self.index=1\n",
      "\tIn MyData.__next__, returning value='b'\n",
      "b\n",
      "\tIn MyData.__next__, self.data='abcd', self.index=2\n",
      "\tIn MyData.__next__, returning value='c'\n",
      "c\n",
      "\tIn MyData.__next__, self.data='abcd', self.index=3\n",
      "\tIn MyData.__next__, returning value='d'\n",
      "d\n",
      "\tIn MyData.__next__, self.data='abcd', self.index=4\n",
      "\tExiting with StopIteration\n"
     ]
    }
   ],
   "source": [
    "class MyData:\n",
    "    def __init__(self, data):\n",
    "        print(f'\\tIn MyData.__init__, {data=}')\n",
    "        self.data = data\n",
    "        self.index = 0\n",
    "        \n",
    "    def __iter__(self):\n",
    "        print(f'\\tIn MyData.__iter__, {self.data=}')\n",
    "        return self     # I'm my own iterator!\n",
    "    \n",
    "    def __next__(self):\n",
    "        print(f'\\tIn MyData.__next__, {self.data=}, {self.index=}')\n",
    "        if self.index >= len(self.data):\n",
    "            print(f'\\tExiting with StopIteration')\n",
    "            raise StopIteration\n",
    "            \n",
    "        value = self.data[self.index]\n",
    "        print(f'\\tIn MyData.__next__, returning {value=}')\n",
    "        \n",
    "        self.index += 1\n",
    "        return value\n",
    "        \n",
    "\n",
    "        \n",
    "\n",
    "m = MyData('abcd')\n",
    "\n",
    "for one_item in m:\n",
    "    print(one_item)"
   ]
  },
  {
   "cell_type": "code",
   "execution_count": 18,
   "id": "4cdf7889",
   "metadata": {},
   "outputs": [
    {
     "ename": "TypeError",
     "evalue": "'int' object is not an iterator",
     "output_type": "error",
     "traceback": [
      "\u001b[0;31m---------------------------------------------------------------------------\u001b[0m",
      "\u001b[0;31mTypeError\u001b[0m                                 Traceback (most recent call last)",
      "\u001b[0;32m/var/folders/rr/0mnyyv811fs5vyp22gf4fxk00000gn/T/ipykernel_28603/3665922388.py\u001b[0m in \u001b[0;36m<module>\u001b[0;34m\u001b[0m\n\u001b[0;32m----> 1\u001b[0;31m \u001b[0mnext\u001b[0m\u001b[0;34m(\u001b[0m\u001b[0;36m5\u001b[0m\u001b[0;34m)\u001b[0m\u001b[0;34m\u001b[0m\u001b[0;34m\u001b[0m\u001b[0m\n\u001b[0m",
      "\u001b[0;31mTypeError\u001b[0m: 'int' object is not an iterator"
     ]
    }
   ],
   "source": [
    "next(5)"
   ]
  },
  {
   "cell_type": "code",
   "execution_count": 23,
   "id": "fd3f7ae0",
   "metadata": {},
   "outputs": [],
   "source": [
    "class Animal:\n",
    "    number_of_legs = '(No legs; abstract!)'\n",
    "    \n",
    "    def __init__(self, color):\n",
    "        self.color = color\n",
    "        self.species = type(self).__name__\n",
    "        \n",
    "    def __repr__(self):\n",
    "        return f'{self.color} {self.species}, {self.number_of_legs} legs'\n",
    "\n",
    "class Wolf(Animal):\n",
    "    number_of_legs = 4   # Wolf.number_of_legs\n",
    "        \n",
    "class Sheep(Animal):\n",
    "    number_of_legs = 4   # Sheep.number_of_legs\n",
    "        \n",
    "class Snake(Animal):\n",
    "    number_of_legs = 0\n",
    "        \n",
    "class Parrot(Animal):\n",
    "    number_of_legs = 2\n",
    "\n",
    "class Cage:\n",
    "    def __init__(self, id_number):\n",
    "        self.id_number = id_number\n",
    "        self.animals = []\n",
    "        \n",
    "    def add_animals(self, *args):\n",
    "        self.animals += args\n",
    "        \n",
    "    def __repr__(self):\n",
    "        output = f'Cage {self.id_number}\\n'\n",
    "        \n",
    "        output += '\\n'.join([f'\\t{one_animal}'\n",
    "                            for one_animal in self.animals])\n",
    "        \n",
    "        return output\n",
    "\n",
    "\n",
    "class Zoo:\n",
    "    def __init__(self):\n",
    "        self.cages = []\n",
    "        self.index = 0\n",
    "        \n",
    "    def __iter__(self):\n",
    "        return self\n",
    "    \n",
    "    def __next__(self):\n",
    "        if self.index >= len(self.cages):\n",
    "            raise StopIteration\n",
    "            \n",
    "        value = self.cages[self.index]\n",
    "        self.index += 1\n",
    "        return value\n",
    "        \n",
    "    def add_cages(self, *args):\n",
    "        self.cages += args\n",
    "        \n",
    "    def __repr__(self):\n",
    "        return '\\n'.join([str(one_cage)\n",
    "                         for one_cage in self.cages])\n",
    "    \n",
    "    def animals_by_color(self, color):\n",
    "        return '\\n'.join([str(one_animal)\n",
    "                          for one_cage in self.cages\n",
    "                          for one_animal in one_cage.animals\n",
    "                          if one_animal.color == color])\n",
    "    \n",
    "    def number_of_legs(self):\n",
    "        return sum([one_animal.number_of_legs\n",
    "                    for one_cage in self.cages\n",
    "                    for one_animal in one_cage.animals])\n",
    "\n",
    "wolf = Wolf('black')            # species, color, # legs\n",
    "sheep1 = Sheep('white')\n",
    "sheep2 = Sheep('white')\n",
    "snake = Snake('brown')\n",
    "parrot = Parrot('black')\n",
    "    \n",
    "c1 = Cage(1)\n",
    "c1.add_animals(wolf, sheep1, sheep2)\n",
    "\n",
    "c2 = Cage(2)                    # an ID number, not that important\n",
    "c2.add_animals(snake, parrot)\n",
    "\n",
    "    \n",
    "z = Zoo()\n",
    "z.add_cages(c1, c2)\n"
   ]
  },
  {
   "cell_type": "code",
   "execution_count": 24,
   "id": "00cda9f6",
   "metadata": {},
   "outputs": [
    {
     "name": "stdout",
     "output_type": "stream",
     "text": [
      "Cage 1\n",
      "\tblack Wolf, 4 legs\n",
      "\twhite Sheep, 4 legs\n",
      "\twhite Sheep, 4 legs\n",
      "Cage 2\n",
      "\tbrown Snake, 0 legs\n",
      "\tblack Parrot, 2 legs\n"
     ]
    }
   ],
   "source": [
    "for one_cage in z:\n",
    "    print(one_cage)"
   ]
  },
  {
   "cell_type": "markdown",
   "id": "31a8b71d",
   "metadata": {},
   "source": [
    "# Exercise: Circle\n",
    "\n",
    "1. Create a class called `Circle`, that will take two arguments:\n",
    "    - An iterable value\n",
    "    - A number — the number of iterations we want\n",
    "2. If I run a `for` loop on an object of type `Circle`.  If the number is bigger than the size of the iterable, then we should go back to the beginning.\n",
    "\n",
    "```python\n",
    "for one_item in Circle('abcd', 7):\n",
    "    print(one_item)   # a b c d a b c\n",
    "```"
   ]
  },
  {
   "cell_type": "code",
   "execution_count": 25,
   "id": "7e002fe8",
   "metadata": {},
   "outputs": [
    {
     "name": "stdout",
     "output_type": "stream",
     "text": [
      "a\n",
      "b\n",
      "c\n",
      "d\n",
      "a\n",
      "b\n",
      "c\n"
     ]
    }
   ],
   "source": [
    "class Circle:\n",
    "    def __init__(self, data, maxtimes):\n",
    "        self.data = data\n",
    "        self.maxtimes = maxtimes\n",
    "        self.index = 0\n",
    "        \n",
    "    def __iter__(self):\n",
    "        return self\n",
    "    \n",
    "    def __next__(self):\n",
    "        if self.index >= self.maxtimes:\n",
    "            raise StopIteration\n",
    "            \n",
    "        value = self.data[self.index % len(self.data)]\n",
    "        self.index += 1\n",
    "        return value\n",
    "    \n",
    "c = Circle('abcd', 7)\n",
    "\n",
    "for one_item in c:\n",
    "    print(one_item)  "
   ]
  },
  {
   "cell_type": "code",
   "execution_count": 27,
   "id": "f4a3fa70",
   "metadata": {},
   "outputs": [
    {
     "name": "stdout",
     "output_type": "stream",
     "text": [
      "a: 1\n",
      "b: 2\n",
      "c: 3\n"
     ]
    }
   ],
   "source": [
    "d = {'a':1, 'b':2, 'c':3}\n",
    "\n",
    "for key, value in d.items():\n",
    "    print(f'{key}: {value}')"
   ]
  },
  {
   "cell_type": "code",
   "execution_count": 28,
   "id": "d971cf30",
   "metadata": {},
   "outputs": [
    {
     "data": {
      "text/plain": [
       "dict_items([('a', 1), ('b', 2), ('c', 3)])"
      ]
     },
     "execution_count": 28,
     "metadata": {},
     "output_type": "execute_result"
    }
   ],
   "source": [
    "d.items()"
   ]
  },
  {
   "cell_type": "code",
   "execution_count": 29,
   "id": "9c59af88",
   "metadata": {},
   "outputs": [],
   "source": [
    "i = iter(d.items())"
   ]
  },
  {
   "cell_type": "code",
   "execution_count": 30,
   "id": "9f094235",
   "metadata": {},
   "outputs": [
    {
     "data": {
      "text/plain": [
       "<dict_itemiterator at 0x1110b5b20>"
      ]
     },
     "execution_count": 30,
     "metadata": {},
     "output_type": "execute_result"
    }
   ],
   "source": [
    "i"
   ]
  },
  {
   "cell_type": "code",
   "execution_count": 31,
   "id": "5f1a8eef",
   "metadata": {},
   "outputs": [
    {
     "data": {
      "text/plain": [
       "('a', 1)"
      ]
     },
     "execution_count": 31,
     "metadata": {},
     "output_type": "execute_result"
    }
   ],
   "source": [
    "next(i)"
   ]
  },
  {
   "cell_type": "code",
   "execution_count": 32,
   "id": "b5ce7af1",
   "metadata": {},
   "outputs": [
    {
     "data": {
      "text/plain": [
       "('b', 2)"
      ]
     },
     "execution_count": 32,
     "metadata": {},
     "output_type": "execute_result"
    }
   ],
   "source": [
    "next(i)"
   ]
  },
  {
   "cell_type": "code",
   "execution_count": 33,
   "id": "216276fa",
   "metadata": {},
   "outputs": [
    {
     "data": {
      "text/plain": [
       "('c', 3)"
      ]
     },
     "execution_count": 33,
     "metadata": {},
     "output_type": "execute_result"
    }
   ],
   "source": [
    "next(i)"
   ]
  },
  {
   "cell_type": "code",
   "execution_count": 34,
   "id": "22cf6f5d",
   "metadata": {},
   "outputs": [
    {
     "ename": "StopIteration",
     "evalue": "",
     "output_type": "error",
     "traceback": [
      "\u001b[0;31m---------------------------------------------------------------------------\u001b[0m",
      "\u001b[0;31mStopIteration\u001b[0m                             Traceback (most recent call last)",
      "\u001b[0;32m/var/folders/rr/0mnyyv811fs5vyp22gf4fxk00000gn/T/ipykernel_28603/1939748483.py\u001b[0m in \u001b[0;36m<module>\u001b[0;34m\u001b[0m\n\u001b[0;32m----> 1\u001b[0;31m \u001b[0mnext\u001b[0m\u001b[0;34m(\u001b[0m\u001b[0mi\u001b[0m\u001b[0;34m)\u001b[0m\u001b[0;34m\u001b[0m\u001b[0;34m\u001b[0m\u001b[0m\n\u001b[0m",
      "\u001b[0;31mStopIteration\u001b[0m: "
     ]
    }
   ],
   "source": [
    "next(i)"
   ]
  },
  {
   "cell_type": "code",
   "execution_count": 35,
   "id": "d551ba36",
   "metadata": {},
   "outputs": [
    {
     "name": "stdout",
     "output_type": "stream",
     "text": [
      "**** A ****\n",
      "a\n",
      "b\n",
      "c\n",
      "d\n",
      "a\n",
      "b\n",
      "c\n",
      "**** B ****\n"
     ]
    }
   ],
   "source": [
    "class Circle:\n",
    "    def __init__(self, data, maxtimes):\n",
    "        self.data = data\n",
    "        self.maxtimes = maxtimes\n",
    "        self.index = 0\n",
    "        \n",
    "    def __iter__(self):\n",
    "        return self\n",
    "    \n",
    "    def __next__(self):\n",
    "        if self.index >= self.maxtimes:\n",
    "            raise StopIteration\n",
    "            \n",
    "        value = self.data[self.index % len(self.data)]\n",
    "        self.index += 1\n",
    "        return value\n",
    "    \n",
    "c = Circle('abcd', 7)\n",
    "\n",
    "print(f'**** A ****')\n",
    "for one_item in c:\n",
    "    print(one_item)  \n",
    "    \n",
    "print(f'**** B ****')\n",
    "for one_item in c:\n",
    "    print(one_item)      "
   ]
  },
  {
   "cell_type": "code",
   "execution_count": 36,
   "id": "750a0411",
   "metadata": {},
   "outputs": [],
   "source": [
    "mylist = [10, 20, 30, 40, 50]\n",
    "\n",
    "i1 = iter(mylist)\n",
    "i2 = iter(mylist)"
   ]
  },
  {
   "cell_type": "code",
   "execution_count": 37,
   "id": "e8020e83",
   "metadata": {},
   "outputs": [
    {
     "data": {
      "text/plain": [
       "<list_iterator at 0x1110bd810>"
      ]
     },
     "execution_count": 37,
     "metadata": {},
     "output_type": "execute_result"
    }
   ],
   "source": [
    "i1"
   ]
  },
  {
   "cell_type": "code",
   "execution_count": 38,
   "id": "d5eb75a0",
   "metadata": {},
   "outputs": [
    {
     "data": {
      "text/plain": [
       "<list_iterator at 0x1110bf850>"
      ]
     },
     "execution_count": 38,
     "metadata": {},
     "output_type": "execute_result"
    }
   ],
   "source": [
    "i2"
   ]
  },
  {
   "cell_type": "code",
   "execution_count": 39,
   "id": "030442a7",
   "metadata": {},
   "outputs": [
    {
     "data": {
      "text/plain": [
       "10"
      ]
     },
     "execution_count": 39,
     "metadata": {},
     "output_type": "execute_result"
    }
   ],
   "source": [
    "next(i1)"
   ]
  },
  {
   "cell_type": "code",
   "execution_count": 40,
   "id": "ba0b2a84",
   "metadata": {},
   "outputs": [
    {
     "data": {
      "text/plain": [
       "20"
      ]
     },
     "execution_count": 40,
     "metadata": {},
     "output_type": "execute_result"
    }
   ],
   "source": [
    "next(i1)"
   ]
  },
  {
   "cell_type": "code",
   "execution_count": 41,
   "id": "b4432711",
   "metadata": {},
   "outputs": [
    {
     "data": {
      "text/plain": [
       "30"
      ]
     },
     "execution_count": 41,
     "metadata": {},
     "output_type": "execute_result"
    }
   ],
   "source": [
    "next(i1)"
   ]
  },
  {
   "cell_type": "code",
   "execution_count": 42,
   "id": "8fcf5eef",
   "metadata": {},
   "outputs": [
    {
     "data": {
      "text/plain": [
       "10"
      ]
     },
     "execution_count": 42,
     "metadata": {},
     "output_type": "execute_result"
    }
   ],
   "source": [
    "next(i2)"
   ]
  },
  {
   "cell_type": "code",
   "execution_count": 43,
   "id": "bce2c370",
   "metadata": {},
   "outputs": [
    {
     "name": "stdout",
     "output_type": "stream",
     "text": [
      "**** A ****\n",
      "a\n",
      "b\n",
      "c\n",
      "d\n",
      "a\n",
      "b\n",
      "c\n",
      "**** B ****\n",
      "a\n",
      "b\n",
      "c\n",
      "d\n",
      "a\n",
      "b\n",
      "c\n"
     ]
    }
   ],
   "source": [
    "class CircleIterator:\n",
    "    def __init__(self, data, maxtimes):\n",
    "        self.data = data\n",
    "        self.maxtimes = maxtimes\n",
    "        self.index = 0\n",
    "\n",
    "    def __next__(self):\n",
    "        if self.index >= self.maxtimes:\n",
    "            raise StopIteration\n",
    "            \n",
    "        value = self.data[self.index % len(self.data)]\n",
    "        self.index += 1\n",
    "        return value\n",
    "\n",
    "class Circle:\n",
    "    def __init__(self, data, maxtimes):\n",
    "        self.data = data\n",
    "        self.maxtimes = maxtimes\n",
    "        \n",
    "    def __iter__(self):\n",
    "        return CircleIterator(self.data, self.maxtimes)\n",
    "    \n",
    "    \n",
    "c = Circle('abcd', 7)\n",
    "\n",
    "print(f'**** A ****')\n",
    "for one_item in c:\n",
    "    print(one_item)  \n",
    "    \n",
    "print(f'**** B ****')\n",
    "for one_item in c:\n",
    "    print(one_item)      "
   ]
  },
  {
   "cell_type": "markdown",
   "id": "65f94042",
   "metadata": {},
   "source": [
    "# Exercise: `MyRange`\n",
    "\n",
    "Write a class, `MyRange`, that implements (most of) the same functionality as `range`, with two classes (rather than one).\n",
    "\n",
    "\n",
    "```python\n",
    "for one_item in MyRange(5):\n",
    "    print(one_item)  # 0 1 2 3 4\n",
    "\n",
    "for one_item in MyRange(5, 10):\n",
    "    print(one_item)  # 5 6 7 8 9\n",
    "\n",
    "for one_item in MyRange(5, 20, 3):\n",
    "    print(one_item)  # 5 8 11 14 17\n",
    "```"
   ]
  },
  {
   "cell_type": "code",
   "execution_count": 45,
   "id": "f206dc44",
   "metadata": {},
   "outputs": [
    {
     "name": "stdout",
     "output_type": "stream",
     "text": [
      "0 1 2 3 4 \n",
      "5 6 7 8 9 \n",
      "5 8 11 14 17 "
     ]
    }
   ],
   "source": [
    "class MyRangeIterator:\n",
    "    def __init__(self, current, end, step):\n",
    "        self.current = current\n",
    "        self.end = end\n",
    "        self.step = step\n",
    "\n",
    "    def __next__(self):\n",
    "        if self.current >= self.end:\n",
    "            raise StopIteration\n",
    "            \n",
    "        value = self.current\n",
    "        self.current += self.step\n",
    "        \n",
    "        return value\n",
    "\n",
    "class MyRange:\n",
    "    def __init__(self, first, second=None, step=1):\n",
    "        if second is None:\n",
    "            self.current = 0\n",
    "            self.end = first\n",
    "            \n",
    "        else:\n",
    "            self.current = first\n",
    "            self.end = second\n",
    "            \n",
    "        self.step = step\n",
    "        \n",
    "    def __iter__(self):\n",
    "        return MyRangeIterator(self.current, self.end, self.step)\n",
    "    \n",
    "    \n",
    "    \n",
    "for one_item in MyRange(5):\n",
    "    print(one_item, end=' ')  # 0 1 2 3 4\n",
    "print()\n",
    "\n",
    "for one_item in MyRange(5, 10):\n",
    "    print(one_item, end=' ')  # 5 6 7 8 9\n",
    "print()\n",
    "\n",
    "for one_item in MyRange(5, 20, 3):\n",
    "    print(one_item, end=' ')  # 5 8 11 14 17\n",
    "        "
   ]
  },
  {
   "cell_type": "code",
   "execution_count": 46,
   "id": "026da26c",
   "metadata": {},
   "outputs": [
    {
     "data": {
      "text/plain": [
       "['abcd', 'ef', 'ghij', 'kl']"
      ]
     },
     "execution_count": 46,
     "metadata": {},
     "output_type": "execute_result"
    }
   ],
   "source": [
    "s = 'abcd ef ghij kl'\n",
    "\n",
    "s.split()"
   ]
  },
  {
   "cell_type": "code",
   "execution_count": 48,
   "id": "cf1bc919",
   "metadata": {},
   "outputs": [
    {
     "data": {
      "text/plain": [
       "['abcd', 'ef', 'ghij', 'kl']"
      ]
     },
     "execution_count": 48,
     "metadata": {},
     "output_type": "execute_result"
    }
   ],
   "source": [
    "s.split(sep=None)"
   ]
  },
  {
   "cell_type": "code",
   "execution_count": 49,
   "id": "2ab32214",
   "metadata": {},
   "outputs": [],
   "source": [
    "f = open('/etc/passwd')"
   ]
  },
  {
   "cell_type": "code",
   "execution_count": 50,
   "id": "42998bd9",
   "metadata": {},
   "outputs": [
    {
     "data": {
      "text/plain": [
       "<_io.TextIOWrapper name='/etc/passwd' mode='r' encoding='UTF-8'>"
      ]
     },
     "execution_count": 50,
     "metadata": {},
     "output_type": "execute_result"
    }
   ],
   "source": [
    "iter(f)"
   ]
  },
  {
   "cell_type": "code",
   "execution_count": 51,
   "id": "0250d14a",
   "metadata": {},
   "outputs": [
    {
     "data": {
      "text/plain": [
       "True"
      ]
     },
     "execution_count": 51,
     "metadata": {},
     "output_type": "execute_result"
    }
   ],
   "source": [
    "iter(f) is f"
   ]
  },
  {
   "cell_type": "markdown",
   "id": "f26bd3ea",
   "metadata": {},
   "source": [
    "# Generators"
   ]
  },
  {
   "cell_type": "code",
   "execution_count": 52,
   "id": "ad316ab3",
   "metadata": {},
   "outputs": [],
   "source": [
    "def myfunc():\n",
    "    return 1\n",
    "    return 2\n",
    "    return 3"
   ]
  },
  {
   "cell_type": "code",
   "execution_count": 53,
   "id": "caec1963",
   "metadata": {},
   "outputs": [
    {
     "data": {
      "text/plain": [
       "1"
      ]
     },
     "execution_count": 53,
     "metadata": {},
     "output_type": "execute_result"
    }
   ],
   "source": [
    "myfunc()"
   ]
  },
  {
   "cell_type": "code",
   "execution_count": 54,
   "id": "d415926c",
   "metadata": {},
   "outputs": [],
   "source": [
    "import dis"
   ]
  },
  {
   "cell_type": "code",
   "execution_count": 55,
   "id": "33d598e3",
   "metadata": {},
   "outputs": [
    {
     "name": "stdout",
     "output_type": "stream",
     "text": [
      "  2           0 LOAD_CONST               1 (1)\n",
      "              2 RETURN_VALUE\n"
     ]
    }
   ],
   "source": [
    "dis.dis(myfunc)"
   ]
  },
  {
   "cell_type": "code",
   "execution_count": 56,
   "id": "2f87ccee",
   "metadata": {},
   "outputs": [],
   "source": [
    "def myfunc():\n",
    "    yield 1\n",
    "    yield 2\n",
    "    yield 3"
   ]
  },
  {
   "cell_type": "code",
   "execution_count": 58,
   "id": "ccd8e7c0",
   "metadata": {},
   "outputs": [
    {
     "data": {
      "text/plain": [
       "<generator object myfunc at 0x1110c8f90>"
      ]
     },
     "execution_count": 58,
     "metadata": {},
     "output_type": "execute_result"
    }
   ],
   "source": [
    "myfunc()   # we get a generator back!"
   ]
  },
  {
   "cell_type": "code",
   "execution_count": 59,
   "id": "8f8eb851",
   "metadata": {},
   "outputs": [],
   "source": [
    "g = myfunc()"
   ]
  },
  {
   "cell_type": "code",
   "execution_count": 60,
   "id": "1367357a",
   "metadata": {},
   "outputs": [
    {
     "data": {
      "text/plain": [
       "1"
      ]
     },
     "execution_count": 60,
     "metadata": {},
     "output_type": "execute_result"
    }
   ],
   "source": [
    "next(g)"
   ]
  },
  {
   "cell_type": "code",
   "execution_count": 61,
   "id": "5c6b820c",
   "metadata": {},
   "outputs": [
    {
     "data": {
      "text/plain": [
       "2"
      ]
     },
     "execution_count": 61,
     "metadata": {},
     "output_type": "execute_result"
    }
   ],
   "source": [
    "next(g)"
   ]
  },
  {
   "cell_type": "code",
   "execution_count": 62,
   "id": "490c62f1",
   "metadata": {},
   "outputs": [
    {
     "data": {
      "text/plain": [
       "3"
      ]
     },
     "execution_count": 62,
     "metadata": {},
     "output_type": "execute_result"
    }
   ],
   "source": [
    "next(g)"
   ]
  },
  {
   "cell_type": "code",
   "execution_count": 63,
   "id": "0d76146d",
   "metadata": {},
   "outputs": [
    {
     "ename": "StopIteration",
     "evalue": "",
     "output_type": "error",
     "traceback": [
      "\u001b[0;31m---------------------------------------------------------------------------\u001b[0m",
      "\u001b[0;31mStopIteration\u001b[0m                             Traceback (most recent call last)",
      "\u001b[0;32m/var/folders/rr/0mnyyv811fs5vyp22gf4fxk00000gn/T/ipykernel_28603/4253931490.py\u001b[0m in \u001b[0;36m<module>\u001b[0;34m\u001b[0m\n\u001b[0;32m----> 1\u001b[0;31m \u001b[0mnext\u001b[0m\u001b[0;34m(\u001b[0m\u001b[0mg\u001b[0m\u001b[0;34m)\u001b[0m\u001b[0;34m\u001b[0m\u001b[0;34m\u001b[0m\u001b[0m\n\u001b[0m",
      "\u001b[0;31mStopIteration\u001b[0m: "
     ]
    }
   ],
   "source": [
    "next(g)"
   ]
  },
  {
   "cell_type": "code",
   "execution_count": 64,
   "id": "16d4d6e5",
   "metadata": {},
   "outputs": [],
   "source": [
    "def myfunc():\n",
    "    print('A')\n",
    "    yield 1\n",
    "    print('B')\n",
    "    yield 2\n",
    "    print('C')\n",
    "    yield 3\n",
    "    print('D')"
   ]
  },
  {
   "cell_type": "code",
   "execution_count": 65,
   "id": "a037db82",
   "metadata": {},
   "outputs": [],
   "source": [
    "g = myfunc()"
   ]
  },
  {
   "cell_type": "code",
   "execution_count": 66,
   "id": "ef55566c",
   "metadata": {},
   "outputs": [
    {
     "name": "stdout",
     "output_type": "stream",
     "text": [
      "A\n"
     ]
    },
    {
     "data": {
      "text/plain": [
       "1"
      ]
     },
     "execution_count": 66,
     "metadata": {},
     "output_type": "execute_result"
    }
   ],
   "source": [
    "next(g)"
   ]
  },
  {
   "cell_type": "code",
   "execution_count": 67,
   "id": "af30dd99",
   "metadata": {},
   "outputs": [
    {
     "name": "stdout",
     "output_type": "stream",
     "text": [
      "B\n"
     ]
    },
    {
     "data": {
      "text/plain": [
       "2"
      ]
     },
     "execution_count": 67,
     "metadata": {},
     "output_type": "execute_result"
    }
   ],
   "source": [
    "next(g)"
   ]
  },
  {
   "cell_type": "code",
   "execution_count": 68,
   "id": "5e20e4a8",
   "metadata": {},
   "outputs": [
    {
     "name": "stdout",
     "output_type": "stream",
     "text": [
      "C\n"
     ]
    },
    {
     "data": {
      "text/plain": [
       "3"
      ]
     },
     "execution_count": 68,
     "metadata": {},
     "output_type": "execute_result"
    }
   ],
   "source": [
    "next(g)"
   ]
  },
  {
   "cell_type": "code",
   "execution_count": 69,
   "id": "435b7ec5",
   "metadata": {},
   "outputs": [
    {
     "name": "stdout",
     "output_type": "stream",
     "text": [
      "D\n"
     ]
    },
    {
     "ename": "StopIteration",
     "evalue": "",
     "output_type": "error",
     "traceback": [
      "\u001b[0;31m---------------------------------------------------------------------------\u001b[0m",
      "\u001b[0;31mStopIteration\u001b[0m                             Traceback (most recent call last)",
      "\u001b[0;32m/var/folders/rr/0mnyyv811fs5vyp22gf4fxk00000gn/T/ipykernel_28603/4253931490.py\u001b[0m in \u001b[0;36m<module>\u001b[0;34m\u001b[0m\n\u001b[0;32m----> 1\u001b[0;31m \u001b[0mnext\u001b[0m\u001b[0;34m(\u001b[0m\u001b[0mg\u001b[0m\u001b[0;34m)\u001b[0m\u001b[0;34m\u001b[0m\u001b[0;34m\u001b[0m\u001b[0m\n\u001b[0m",
      "\u001b[0;31mStopIteration\u001b[0m: "
     ]
    }
   ],
   "source": [
    "next(g)"
   ]
  },
  {
   "cell_type": "code",
   "execution_count": 70,
   "id": "4fd4104a",
   "metadata": {},
   "outputs": [],
   "source": [
    "def myfunc():\n",
    "    print('A')\n",
    "    yield 1\n",
    "    print('B')\n",
    "    yield 2\n",
    "    print('C')\n",
    "    yield 3\n",
    "    print('D')"
   ]
  },
  {
   "cell_type": "code",
   "execution_count": 71,
   "id": "d4d3bfc1",
   "metadata": {},
   "outputs": [],
   "source": [
    "g = myfunc()  # we get a generator back, which knows how to respond to \"next\""
   ]
  },
  {
   "cell_type": "code",
   "execution_count": 72,
   "id": "d782f755",
   "metadata": {},
   "outputs": [
    {
     "data": {
      "text/plain": [
       "True"
      ]
     },
     "execution_count": 72,
     "metadata": {},
     "output_type": "execute_result"
    }
   ],
   "source": [
    "iter(g) is g"
   ]
  },
  {
   "cell_type": "code",
   "execution_count": 73,
   "id": "3b30c8d2",
   "metadata": {},
   "outputs": [
    {
     "name": "stdout",
     "output_type": "stream",
     "text": [
      "A\n"
     ]
    },
    {
     "data": {
      "text/plain": [
       "1"
      ]
     },
     "execution_count": 73,
     "metadata": {},
     "output_type": "execute_result"
    }
   ],
   "source": [
    "next(g)   # run the function through the next yield -- and then go to sleep"
   ]
  },
  {
   "cell_type": "code",
   "execution_count": 74,
   "id": "78041d77",
   "metadata": {},
   "outputs": [
    {
     "name": "stdout",
     "output_type": "stream",
     "text": [
      "B\n"
     ]
    },
    {
     "data": {
      "text/plain": [
       "2"
      ]
     },
     "execution_count": 74,
     "metadata": {},
     "output_type": "execute_result"
    }
   ],
   "source": [
    "next(g)"
   ]
  },
  {
   "cell_type": "code",
   "execution_count": 76,
   "id": "85068057",
   "metadata": {},
   "outputs": [
    {
     "data": {
      "text/plain": [
       "5"
      ]
     },
     "execution_count": 76,
     "metadata": {},
     "output_type": "execute_result"
    }
   ],
   "source": [
    "g.gi_frame.f_lineno"
   ]
  },
  {
   "cell_type": "code",
   "execution_count": 77,
   "id": "d9d84bbd",
   "metadata": {},
   "outputs": [
    {
     "name": "stdout",
     "output_type": "stream",
     "text": [
      "C\n"
     ]
    },
    {
     "data": {
      "text/plain": [
       "3"
      ]
     },
     "execution_count": 77,
     "metadata": {},
     "output_type": "execute_result"
    }
   ],
   "source": [
    "next(g)"
   ]
  },
  {
   "cell_type": "code",
   "execution_count": 78,
   "id": "2d48856b",
   "metadata": {},
   "outputs": [
    {
     "data": {
      "text/plain": [
       "7"
      ]
     },
     "execution_count": 78,
     "metadata": {},
     "output_type": "execute_result"
    }
   ],
   "source": [
    "g.gi_frame.f_lineno"
   ]
  },
  {
   "cell_type": "code",
   "execution_count": 83,
   "id": "a52a0ace",
   "metadata": {},
   "outputs": [
    {
     "name": "stdout",
     "output_type": "stream",
     "text": [
      "A\n",
      "1\n",
      "B\n",
      "2\n"
     ]
    }
   ],
   "source": [
    "def myfunc():\n",
    "    print('A')\n",
    "    yield 1\n",
    "    print('B')\n",
    "    yield 2\n",
    "    print('C')\n",
    "    yield 3\n",
    "    print('D')\n",
    "    \n",
    "g = myfunc()   # g points to the generator result of myfunc(); the generator refers to the function\n",
    "\n",
    "print(next(g))\n",
    "print(next(g))\n"
   ]
  },
  {
   "cell_type": "code",
   "execution_count": 86,
   "id": "2e30d369",
   "metadata": {},
   "outputs": [],
   "source": [
    "def myfunc():\n",
    "    print('AA')\n",
    "    yield 11\n",
    "    print('BB')\n",
    "    yield 22\n",
    "    print('CC')\n",
    "    yield 33\n",
    "    print('DD')"
   ]
  },
  {
   "cell_type": "code",
   "execution_count": 85,
   "id": "9d81789f",
   "metadata": {},
   "outputs": [
    {
     "name": "stdout",
     "output_type": "stream",
     "text": [
      "C\n",
      "3\n"
     ]
    }
   ],
   "source": [
    "print(next(g))"
   ]
  },
  {
   "cell_type": "code",
   "execution_count": 87,
   "id": "74dba913",
   "metadata": {},
   "outputs": [
    {
     "name": "stdout",
     "output_type": "stream",
     "text": [
      "Name:              myfunc\n",
      "Filename:          /var/folders/rr/0mnyyv811fs5vyp22gf4fxk00000gn/T/ipykernel_28603/2959011689.py\n",
      "Argument count:    0\n",
      "Positional-only arguments: 0\n",
      "Kw-only arguments: 0\n",
      "Number of locals:  0\n",
      "Stack size:        2\n",
      "Flags:             OPTIMIZED, NEWLOCALS, GENERATOR, NOFREE\n",
      "Constants:\n",
      "   0: None\n",
      "   1: 'AA'\n",
      "   2: 11\n",
      "   3: 'BB'\n",
      "   4: 22\n",
      "   5: 'CC'\n",
      "   6: 33\n",
      "   7: 'DD'\n",
      "Names:\n",
      "   0: print\n"
     ]
    }
   ],
   "source": [
    "dis.show_code(myfunc)"
   ]
  },
  {
   "cell_type": "code",
   "execution_count": 88,
   "id": "38d93a80",
   "metadata": {},
   "outputs": [],
   "source": [
    "def myfunc():\n",
    "    print('AA')\n",
    "    yield 11\n",
    "    print('BB')\n",
    "    yield 22\n",
    "    print('CC')\n",
    "    yield 33\n",
    "    print('DD')\n",
    "    return [10, 20, 30]"
   ]
  },
  {
   "cell_type": "code",
   "execution_count": 89,
   "id": "e6ba9d9b",
   "metadata": {},
   "outputs": [],
   "source": [
    "g = myfunc()"
   ]
  },
  {
   "cell_type": "code",
   "execution_count": 90,
   "id": "6cd0a49b",
   "metadata": {},
   "outputs": [
    {
     "name": "stdout",
     "output_type": "stream",
     "text": [
      "AA\n"
     ]
    },
    {
     "data": {
      "text/plain": [
       "11"
      ]
     },
     "execution_count": 90,
     "metadata": {},
     "output_type": "execute_result"
    }
   ],
   "source": [
    "next(g)"
   ]
  },
  {
   "cell_type": "code",
   "execution_count": 91,
   "id": "a9a9e2d5",
   "metadata": {},
   "outputs": [
    {
     "name": "stdout",
     "output_type": "stream",
     "text": [
      "BB\n"
     ]
    },
    {
     "data": {
      "text/plain": [
       "22"
      ]
     },
     "execution_count": 91,
     "metadata": {},
     "output_type": "execute_result"
    }
   ],
   "source": [
    "next(g)"
   ]
  },
  {
   "cell_type": "code",
   "execution_count": 92,
   "id": "75d3d425",
   "metadata": {},
   "outputs": [
    {
     "name": "stdout",
     "output_type": "stream",
     "text": [
      "CC\n"
     ]
    },
    {
     "data": {
      "text/plain": [
       "33"
      ]
     },
     "execution_count": 92,
     "metadata": {},
     "output_type": "execute_result"
    }
   ],
   "source": [
    "next(g)"
   ]
  },
  {
   "cell_type": "code",
   "execution_count": 93,
   "id": "58cde88c",
   "metadata": {},
   "outputs": [
    {
     "name": "stdout",
     "output_type": "stream",
     "text": [
      "DD\n"
     ]
    },
    {
     "ename": "StopIteration",
     "evalue": "[10, 20, 30]",
     "output_type": "error",
     "traceback": [
      "\u001b[0;31m---------------------------------------------------------------------------\u001b[0m",
      "\u001b[0;31mStopIteration\u001b[0m                             Traceback (most recent call last)",
      "\u001b[0;32m/var/folders/rr/0mnyyv811fs5vyp22gf4fxk00000gn/T/ipykernel_28603/4253931490.py\u001b[0m in \u001b[0;36m<module>\u001b[0;34m\u001b[0m\n\u001b[0;32m----> 1\u001b[0;31m \u001b[0mnext\u001b[0m\u001b[0;34m(\u001b[0m\u001b[0mg\u001b[0m\u001b[0;34m)\u001b[0m\u001b[0;34m\u001b[0m\u001b[0;34m\u001b[0m\u001b[0m\n\u001b[0m",
      "\u001b[0;31mStopIteration\u001b[0m: [10, 20, 30]"
     ]
    }
   ],
   "source": [
    "next(g)"
   ]
  },
  {
   "cell_type": "code",
   "execution_count": 94,
   "id": "29e9afdd",
   "metadata": {},
   "outputs": [
    {
     "name": "stdout",
     "output_type": "stream",
     "text": [
      "Name:              myfunc\n",
      "Filename:          /var/folders/rr/0mnyyv811fs5vyp22gf4fxk00000gn/T/ipykernel_28603/4176498612.py\n",
      "Argument count:    0\n",
      "Positional-only arguments: 0\n",
      "Kw-only arguments: 0\n",
      "Number of locals:  0\n",
      "Stack size:        2\n",
      "Flags:             OPTIMIZED, NEWLOCALS, GENERATOR, NOFREE\n",
      "Constants:\n",
      "   0: None\n",
      "   1: 'AA'\n",
      "   2: 11\n",
      "   3: 'BB'\n",
      "   4: 22\n",
      "   5: 'CC'\n",
      "   6: 33\n",
      "   7: 'DD'\n",
      "   8: (10, 20, 30)\n",
      "Names:\n",
      "   0: print\n"
     ]
    }
   ],
   "source": [
    "dis.show_code(myfunc)"
   ]
  },
  {
   "cell_type": "code",
   "execution_count": 95,
   "id": "352d9794",
   "metadata": {},
   "outputs": [
    {
     "name": "stdout",
     "output_type": "stream",
     "text": [
      "AA\n",
      "11\n",
      "BB\n",
      "22\n",
      "CC\n",
      "33\n",
      "DD\n"
     ]
    }
   ],
   "source": [
    "def myfunc():\n",
    "    print('AA')\n",
    "    yield 11\n",
    "    print('BB')\n",
    "    yield 22\n",
    "    print('CC')\n",
    "    yield 33\n",
    "    print('DD')\n",
    "\n",
    "for one_item in myfunc():\n",
    "    print(one_item)\n"
   ]
  },
  {
   "cell_type": "code",
   "execution_count": 96,
   "id": "40383a35",
   "metadata": {},
   "outputs": [],
   "source": [
    "def fib():\n",
    "    first = 0\n",
    "    second = 1\n",
    "    \n",
    "    while True:\n",
    "        yield first\n",
    "        \n",
    "        first, second = second, first+second"
   ]
  },
  {
   "cell_type": "code",
   "execution_count": 98,
   "id": "d6ba1156",
   "metadata": {},
   "outputs": [
    {
     "name": "stdout",
     "output_type": "stream",
     "text": [
      "0 1 1 2 3 5 8 13 21 34 55 89 144 233 377 610 987 1597 2584 4181 6765 10946 17711 28657 46368 75025 121393 196418 317811 514229 832040 1346269 2178309 3524578 5702887 9227465 14930352 24157817 39088169 63245986 102334155 165580141 267914296 433494437 701408733 1134903170 1836311903 2971215073 4807526976 7778742049 12586269025 20365011074 32951280099 53316291173 86267571272 139583862445 225851433717 365435296162 591286729879 956722026041 1548008755920 2504730781961 4052739537881 6557470319842 10610209857723 17167680177565 27777890035288 44945570212853 72723460248141 117669030460994 "
     ]
    }
   ],
   "source": [
    "for one_number in fib():\n",
    "    print(one_number, end=' ')\n",
    "    \n",
    "    if one_number > 100_000_000_000_000:\n",
    "        break"
   ]
  },
  {
   "cell_type": "markdown",
   "id": "4f46ca45",
   "metadata": {},
   "source": [
    "# Exercise: `read_n`\n",
    "\n",
    "1. When we iterate over a (text) field, we get each line of the file, ending in `'\\n'`.\n",
    "2. Define a generator function, `read_n`, that takes two arguments:\n",
    "    - `filename`, name of a text file\n",
    "    - `n`, the number of lines I want in each iteration\n",
    "3. Each iteration over `filename` should give us a string containing `n` lines -- except the final chunk, which might be fewer.    \n",
    "    "
   ]
  },
  {
   "cell_type": "code",
   "execution_count": null,
   "id": "31ea82fb",
   "metadata": {},
   "outputs": [],
   "source": []
  }
 ],
 "metadata": {
  "kernelspec": {
   "display_name": "Python 3 (ipykernel)",
   "language": "python",
   "name": "python3"
  },
  "language_info": {
   "codemirror_mode": {
    "name": "ipython",
    "version": 3
   },
   "file_extension": ".py",
   "mimetype": "text/x-python",
   "name": "python",
   "nbconvert_exporter": "python",
   "pygments_lexer": "ipython3",
   "version": "3.10.5"
  }
 },
 "nbformat": 4,
 "nbformat_minor": 5
}

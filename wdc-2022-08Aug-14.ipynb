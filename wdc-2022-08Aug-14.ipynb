{
 "cells": [
  {
   "cell_type": "markdown",
   "id": "eaf8711c",
   "metadata": {},
   "source": [
    "# Agenda\n",
    "\n",
    "- Rest of decorators\n",
    "- Concurrency\n",
    "    - threading\n",
    "    - multiprocessing\n",
    "- Final test    "
   ]
  },
  {
   "cell_type": "code",
   "execution_count": 1,
   "id": "4c4162c1",
   "metadata": {},
   "outputs": [
    {
     "name": "stdout",
     "output_type": "stream",
     "text": [
      "5\n",
      "6\n",
      "9\n",
      "42\n"
     ]
    }
   ],
   "source": [
    "import time\n",
    "import random\n",
    "\n",
    "def once_per_minute(func):         # decorator function gets one arg, the decorated function -- run once per decoration\n",
    "    last_ran_at = 0\n",
    "    def wrapper(*args):            # inner function (\"wrapper\") gets *args, is run once per call to the function\n",
    "        nonlocal last_ran_at       # now, when we assign to last_ran_at, we change the enclosing var last_ran_at\n",
    "        current_time = time.time()\n",
    "        \n",
    "        if \n",
    "        \n",
    "\n",
    "@once_per_minute\n",
    "def slow_add(first, second):\n",
    "    time.sleep(random.randint(0, 3))\n",
    "    return first + second\n",
    "\n",
    "@once_per_minute\n",
    "def slow_mul(first, second):\n",
    "    time.sleep(random.randint(0, 3))\n",
    "    return first * second\n",
    "\n",
    "print(slow_add(2, 3))\n",
    "print(slow_mul(2, 3))\n",
    "print(slow_add(4, 5))\n",
    "print(slow_mul(6, 7))             "
   ]
  },
  {
   "cell_type": "code",
   "execution_count": null,
   "id": "01cfcff2",
   "metadata": {},
   "outputs": [],
   "source": []
  }
 ],
 "metadata": {
  "kernelspec": {
   "display_name": "Python 3 (ipykernel)",
   "language": "python",
   "name": "python3"
  },
  "language_info": {
   "codemirror_mode": {
    "name": "ipython",
    "version": 3
   },
   "file_extension": ".py",
   "mimetype": "text/x-python",
   "name": "python",
   "nbconvert_exporter": "python",
   "pygments_lexer": "ipython3",
   "version": "3.10.6"
  }
 },
 "nbformat": 4,
 "nbformat_minor": 5
}

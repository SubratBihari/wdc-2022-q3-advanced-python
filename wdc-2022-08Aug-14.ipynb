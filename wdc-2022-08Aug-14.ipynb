{
 "cells": [
  {
   "cell_type": "markdown",
   "id": "eaf8711c",
   "metadata": {},
   "source": [
    "# Agenda\n",
    "\n",
    "- Rest of decorators\n",
    "- Concurrency\n",
    "    - threading\n",
    "    - multiprocessing\n",
    "- Final test    "
   ]
  },
  {
   "cell_type": "code",
   "execution_count": 2,
   "id": "becbe937",
   "metadata": {},
   "outputs": [
    {
     "name": "stdout",
     "output_type": "stream",
     "text": [
      "5\n",
      "6\n"
     ]
    },
    {
     "ename": "CalledTooSoonError",
     "evalue": "Too soon!",
     "output_type": "error",
     "traceback": [
      "\u001b[0;31m---------------------------------------------------------------------------\u001b[0m",
      "\u001b[0;31mCalledTooSoonError\u001b[0m                        Traceback (most recent call last)",
      "\u001b[0;32m/var/folders/rr/0mnyyv811fs5vyp22gf4fxk00000gn/T/ipykernel_55950/2741484109.py\u001b[0m in \u001b[0;36m<module>\u001b[0;34m\u001b[0m\n\u001b[1;32m     32\u001b[0m \u001b[0mprint\u001b[0m\u001b[0;34m(\u001b[0m\u001b[0mslow_add\u001b[0m\u001b[0;34m(\u001b[0m\u001b[0;36m2\u001b[0m\u001b[0;34m,\u001b[0m \u001b[0;36m3\u001b[0m\u001b[0;34m)\u001b[0m\u001b[0;34m)\u001b[0m\u001b[0;34m\u001b[0m\u001b[0;34m\u001b[0m\u001b[0m\n\u001b[1;32m     33\u001b[0m \u001b[0mprint\u001b[0m\u001b[0;34m(\u001b[0m\u001b[0mslow_mul\u001b[0m\u001b[0;34m(\u001b[0m\u001b[0;36m2\u001b[0m\u001b[0;34m,\u001b[0m \u001b[0;36m3\u001b[0m\u001b[0;34m)\u001b[0m\u001b[0;34m)\u001b[0m\u001b[0;34m\u001b[0m\u001b[0;34m\u001b[0m\u001b[0m\n\u001b[0;32m---> 34\u001b[0;31m \u001b[0mprint\u001b[0m\u001b[0;34m(\u001b[0m\u001b[0mslow_add\u001b[0m\u001b[0;34m(\u001b[0m\u001b[0;36m4\u001b[0m\u001b[0;34m,\u001b[0m \u001b[0;36m5\u001b[0m\u001b[0;34m)\u001b[0m\u001b[0;34m)\u001b[0m\u001b[0;34m\u001b[0m\u001b[0;34m\u001b[0m\u001b[0m\n\u001b[0m\u001b[1;32m     35\u001b[0m \u001b[0mprint\u001b[0m\u001b[0;34m(\u001b[0m\u001b[0mslow_mul\u001b[0m\u001b[0;34m(\u001b[0m\u001b[0;36m6\u001b[0m\u001b[0;34m,\u001b[0m \u001b[0;36m7\u001b[0m\u001b[0;34m)\u001b[0m\u001b[0;34m)\u001b[0m\u001b[0;34m\u001b[0m\u001b[0;34m\u001b[0m\u001b[0m\n",
      "\u001b[0;32m/var/folders/rr/0mnyyv811fs5vyp22gf4fxk00000gn/T/ipykernel_55950/2741484109.py\u001b[0m in \u001b[0;36mwrapper\u001b[0;34m(*args)\u001b[0m\n\u001b[1;32m     12\u001b[0m \u001b[0;34m\u001b[0m\u001b[0m\n\u001b[1;32m     13\u001b[0m         \u001b[0;32mif\u001b[0m \u001b[0mcurrent_time\u001b[0m \u001b[0;34m-\u001b[0m \u001b[0mlast_ran_at\u001b[0m \u001b[0;34m<\u001b[0m \u001b[0;36m60\u001b[0m\u001b[0;34m:\u001b[0m\u001b[0;34m\u001b[0m\u001b[0;34m\u001b[0m\u001b[0m\n\u001b[0;32m---> 14\u001b[0;31m             \u001b[0;32mraise\u001b[0m \u001b[0mCalledTooSoonError\u001b[0m\u001b[0;34m(\u001b[0m\u001b[0;34m'Too soon!'\u001b[0m\u001b[0;34m)\u001b[0m\u001b[0;34m\u001b[0m\u001b[0;34m\u001b[0m\u001b[0m\n\u001b[0m\u001b[1;32m     15\u001b[0m \u001b[0;34m\u001b[0m\u001b[0m\n\u001b[1;32m     16\u001b[0m         \u001b[0mresult\u001b[0m \u001b[0;34m=\u001b[0m \u001b[0mfunc\u001b[0m\u001b[0;34m(\u001b[0m\u001b[0;34m*\u001b[0m\u001b[0margs\u001b[0m\u001b[0;34m)\u001b[0m       \u001b[0;31m# call the original function, with the args we got for it\u001b[0m\u001b[0;34m\u001b[0m\u001b[0;34m\u001b[0m\u001b[0m\n",
      "\u001b[0;31mCalledTooSoonError\u001b[0m: Too soon!"
     ]
    }
   ],
   "source": [
    "import time\n",
    "import random\n",
    "\n",
    "class CalledTooSoonError(Exception):\n",
    "    pass\n",
    "\n",
    "def once_per_minute(func):         # decorator function gets one arg, the decorated function -- run once per decoration\n",
    "    last_ran_at = 0\n",
    "    def wrapper(*args):            # inner function (\"wrapper\") gets *args, is run once per call to the function\n",
    "        nonlocal last_ran_at       # now, when we assign to last_ran_at, we change the enclosing var last_ran_at\n",
    "        current_time = time.time()\n",
    "        \n",
    "        if current_time - last_ran_at < 60:\n",
    "            raise CalledTooSoonError('Too soon!')\n",
    "        \n",
    "        result = func(*args)       # call the original function, with the args we got for it\n",
    "        last_ran_at = current_time\n",
    "        return result\n",
    "    return wrapper\n",
    "\n",
    "\n",
    "@once_per_minute\n",
    "def slow_add(first, second):\n",
    "    time.sleep(random.randint(0, 3))\n",
    "    return first + second\n",
    "\n",
    "@once_per_minute\n",
    "def slow_mul(first, second):\n",
    "    time.sleep(random.randint(0, 3))\n",
    "    return first * second\n",
    "\n",
    "print(slow_add(2, 3))\n",
    "print(slow_mul(2, 3))\n",
    "print(slow_add(4, 5))\n",
    "print(slow_mul(6, 7))             "
   ]
  },
  {
   "cell_type": "markdown",
   "id": "a44b4d4f",
   "metadata": {},
   "source": [
    "# Exercise: Memoization\n",
    "\n",
    "Memoization means: When we call a function, we check the arguments:\n",
    "    - If we have seen the arguments before, return the value from the previous run with those args.\n",
    "    - If we *not* seen the arguments before, then call the function, and store the combination of args + result\n",
    "    \n",
    "Define a decorator, `memoize`, which implements memoization"
   ]
  },
  {
   "cell_type": "code",
   "execution_count": 4,
   "id": "e7caa74f",
   "metadata": {},
   "outputs": [
    {
     "name": "stdout",
     "output_type": "stream",
     "text": [
      "Running slow_add\n",
      "5\n",
      "Running slow_mul\n",
      "6\n",
      "5\n",
      "6\n"
     ]
    }
   ],
   "source": [
    "def memoize(func):\n",
    "    cache = {}\n",
    "    def wrapper(*args):\n",
    "        if args not in cache:\n",
    "            cache[args] = func(*args)   # --> cache.__setitem__(args, func(*args))\n",
    "            \n",
    "        return cache[args]\n",
    "    return wrapper\n",
    "\n",
    "\n",
    "@memoize\n",
    "def slow_add(first, second):\n",
    "    time.sleep(random.randint(0, 3))\n",
    "    print('Running slow_add')\n",
    "    return first + second\n",
    "\n",
    "@memoize\n",
    "def slow_mul(first, second):\n",
    "    time.sleep(random.randint(0, 3))\n",
    "    print('Running slow_mul')\n",
    "    return first * second\n",
    "\n",
    "print(slow_add(2, 3))  # prints \"running slow_add\"\n",
    "print(slow_mul(2, 3))  # prints \"running slow_mul\"\n",
    "print(slow_add(2, 3))  # no printout (and faster result)\n",
    "print(slow_mul(2, 3))  # no printout (and faster result)"
   ]
  },
  {
   "cell_type": "code",
   "execution_count": 5,
   "id": "f075a1d6",
   "metadata": {},
   "outputs": [
    {
     "name": "stdout",
     "output_type": "stream",
     "text": [
      "5\n",
      "6\n"
     ]
    },
    {
     "ename": "CalledTooSoonError",
     "evalue": "Too soon, wait another 6.995551109313965",
     "output_type": "error",
     "traceback": [
      "\u001b[0;31m---------------------------------------------------------------------------\u001b[0m",
      "\u001b[0;31mCalledTooSoonError\u001b[0m                        Traceback (most recent call last)",
      "\u001b[0;32m/var/folders/rr/0mnyyv811fs5vyp22gf4fxk00000gn/T/ipykernel_55950/3398406363.py\u001b[0m in \u001b[0;36m<module>\u001b[0;34m\u001b[0m\n\u001b[1;32m     37\u001b[0m \u001b[0mprint\u001b[0m\u001b[0;34m(\u001b[0m\u001b[0mslow_add\u001b[0m\u001b[0;34m(\u001b[0m\u001b[0;36m2\u001b[0m\u001b[0;34m,\u001b[0m \u001b[0;36m3\u001b[0m\u001b[0;34m)\u001b[0m\u001b[0;34m)\u001b[0m\u001b[0;34m\u001b[0m\u001b[0;34m\u001b[0m\u001b[0m\n\u001b[1;32m     38\u001b[0m \u001b[0mprint\u001b[0m\u001b[0;34m(\u001b[0m\u001b[0mslow_mul\u001b[0m\u001b[0;34m(\u001b[0m\u001b[0;36m2\u001b[0m\u001b[0;34m,\u001b[0m \u001b[0;36m3\u001b[0m\u001b[0;34m)\u001b[0m\u001b[0;34m)\u001b[0m\u001b[0;34m\u001b[0m\u001b[0;34m\u001b[0m\u001b[0m\n\u001b[0;32m---> 39\u001b[0;31m \u001b[0mprint\u001b[0m\u001b[0;34m(\u001b[0m\u001b[0mslow_add\u001b[0m\u001b[0;34m(\u001b[0m\u001b[0;36m4\u001b[0m\u001b[0;34m,\u001b[0m \u001b[0;36m5\u001b[0m\u001b[0;34m)\u001b[0m\u001b[0;34m)\u001b[0m\u001b[0;34m\u001b[0m\u001b[0;34m\u001b[0m\u001b[0m\n\u001b[0m\u001b[1;32m     40\u001b[0m \u001b[0mprint\u001b[0m\u001b[0;34m(\u001b[0m\u001b[0mslow_mul\u001b[0m\u001b[0;34m(\u001b[0m\u001b[0;36m6\u001b[0m\u001b[0;34m,\u001b[0m \u001b[0;36m7\u001b[0m\u001b[0;34m)\u001b[0m\u001b[0;34m)\u001b[0m\u001b[0;34m\u001b[0m\u001b[0;34m\u001b[0m\u001b[0m\n",
      "\u001b[0;32m/var/folders/rr/0mnyyv811fs5vyp22gf4fxk00000gn/T/ipykernel_55950/3398406363.py\u001b[0m in \u001b[0;36mwrapper\u001b[0;34m(*args)\u001b[0m\n\u001b[1;32m     13\u001b[0m \u001b[0;34m\u001b[0m\u001b[0m\n\u001b[1;32m     14\u001b[0m             \u001b[0;32mif\u001b[0m \u001b[0mcurrent_time\u001b[0m \u001b[0;34m-\u001b[0m \u001b[0mlast_ran_at\u001b[0m \u001b[0;34m<\u001b[0m \u001b[0mn\u001b[0m\u001b[0;34m:\u001b[0m\u001b[0;34m\u001b[0m\u001b[0;34m\u001b[0m\u001b[0m\n\u001b[0;32m---> 15\u001b[0;31m                 \u001b[0;32mraise\u001b[0m \u001b[0mCalledTooSoonError\u001b[0m\u001b[0;34m(\u001b[0m\u001b[0;34mf'Too soon, wait another {n - (current_time - last_ran_at)}'\u001b[0m\u001b[0;34m)\u001b[0m\u001b[0;34m\u001b[0m\u001b[0;34m\u001b[0m\u001b[0m\n\u001b[0m\u001b[1;32m     16\u001b[0m \u001b[0;34m\u001b[0m\u001b[0m\n\u001b[1;32m     17\u001b[0m             \u001b[0mresult\u001b[0m \u001b[0;34m=\u001b[0m \u001b[0mfunc\u001b[0m\u001b[0;34m(\u001b[0m\u001b[0;34m*\u001b[0m\u001b[0margs\u001b[0m\u001b[0;34m)\u001b[0m       \u001b[0;31m# call the original function, with the args we got for it\u001b[0m\u001b[0;34m\u001b[0m\u001b[0;34m\u001b[0m\u001b[0m\n",
      "\u001b[0;31mCalledTooSoonError\u001b[0m: Too soon, wait another 6.995551109313965"
     ]
    }
   ],
   "source": [
    "import time\n",
    "import random\n",
    "\n",
    "class CalledTooSoonError(Exception):\n",
    "    pass\n",
    "\n",
    "def once_per_n(n):                    # decorator, taking an argument\n",
    "    def middle(func):                 # middle now takes the decorated function\n",
    "        last_ran_at = 0\n",
    "        def wrapper(*args):           # wrapper remains as it was before\n",
    "            nonlocal last_ran_at \n",
    "            current_time = time.time()\n",
    "\n",
    "            if current_time - last_ran_at < n:\n",
    "                raise CalledTooSoonError(f'Too soon, wait another {n - (current_time - last_ran_at)}')\n",
    "\n",
    "            result = func(*args)       # call the original function, with the args we got for it\n",
    "            last_ran_at = current_time\n",
    "            return result\n",
    "        return wrapper\n",
    "    return middle\n",
    "\n",
    "@once_per_n(10)\n",
    "def slow_add(first, second):\n",
    "    time.sleep(random.randint(0, 3))\n",
    "    return first + second\n",
    "\n",
    "slow_add = once_per_n(10)(slow_add)\n",
    "\n",
    "@once_per_n(5)\n",
    "def slow_mul(first, second):\n",
    "    time.sleep(random.randint(0, 3))\n",
    "    return first * second\n",
    "\n",
    "slow_mul = once_per_n(5)(slow_mul)\n",
    "\n",
    "print(slow_add(2, 3))\n",
    "print(slow_mul(2, 3))\n",
    "print(slow_add(4, 5))\n",
    "print(slow_mul(6, 7))             "
   ]
  },
  {
   "cell_type": "markdown",
   "id": "93243084",
   "metadata": {},
   "source": [
    "# Exercise: Only one type\n",
    "\n",
    "1. Write a decorator, `only_ints`, that removes any arguments to the decorated function that are *not* integers.\n",
    "2. The modify this decorator to be `only_of_type`, that takes an argument, a class."
   ]
  },
  {
   "cell_type": "code",
   "execution_count": 10,
   "id": "d74454ac",
   "metadata": {},
   "outputs": [
    {
     "data": {
      "text/plain": [
       "60"
      ]
     },
     "execution_count": 10,
     "metadata": {},
     "output_type": "execute_result"
    }
   ],
   "source": [
    "def only_ints(func):\n",
    "    def wrapper(*args):\n",
    "        int_args = [one_arg\n",
    "                   for one_arg in args\n",
    "                   if isinstance(one_arg, int)]\n",
    "        \n",
    "        \n",
    "        return func(*int_args)\n",
    "    return wrapper\n",
    "\n",
    "@only_ints\n",
    "def mysum(*numbers):\n",
    "    total = 0\n",
    "    \n",
    "    for one_number in numbers:\n",
    "        total += one_number\n",
    "        \n",
    "    return total\n",
    "\n",
    "mysum(10, 20, 'abcd', 30)   # 60"
   ]
  },
  {
   "cell_type": "code",
   "execution_count": 11,
   "id": "7e78ff3b",
   "metadata": {},
   "outputs": [
    {
     "data": {
      "text/plain": [
       "60"
      ]
     },
     "execution_count": 11,
     "metadata": {},
     "output_type": "execute_result"
    }
   ],
   "source": [
    "# we can rewrite it to be shorter!\n",
    "\n",
    "def only_ints(func):\n",
    "    def wrapper(*args):\n",
    "        return func(*[one_arg\n",
    "                       for one_arg in args\n",
    "                       if isinstance(one_arg, int)])\n",
    "    return wrapper\n",
    "\n",
    "@only_ints\n",
    "def mysum(*numbers):\n",
    "    total = 0\n",
    "    \n",
    "    for one_number in numbers:\n",
    "        total += one_number\n",
    "        \n",
    "    return total\n",
    "\n",
    "mysum(10, 20, 'abcd', 30)   # 60"
   ]
  },
  {
   "cell_type": "code",
   "execution_count": 7,
   "id": "b59963da",
   "metadata": {},
   "outputs": [
    {
     "name": "stdout",
     "output_type": "stream",
     "text": [
      "Yes!\n"
     ]
    }
   ],
   "source": [
    "x = 10\n",
    "\n",
    "if type(x) == int:\n",
    "    print('Yes!')"
   ]
  },
  {
   "cell_type": "code",
   "execution_count": 8,
   "id": "c2d5d8b0",
   "metadata": {},
   "outputs": [
    {
     "name": "stdout",
     "output_type": "stream",
     "text": [
      "Yes!\n"
     ]
    }
   ],
   "source": [
    "if isinstance(x, int):\n",
    "    print('Yes!')"
   ]
  },
  {
   "cell_type": "code",
   "execution_count": 21,
   "id": "1b264517",
   "metadata": {},
   "outputs": [
    {
     "name": "stdout",
     "output_type": "stream",
     "text": [
      "numbers=(10, 20, 30)\n"
     ]
    },
    {
     "data": {
      "text/plain": [
       "60"
      ]
     },
     "execution_count": 21,
     "metadata": {},
     "output_type": "execute_result"
    }
   ],
   "source": [
    "def only_of_type(the_type):\n",
    "    def middle(func):\n",
    "        def wrapper(*args):\n",
    "            return func(*[one_arg\n",
    "                           for one_arg in args\n",
    "                           if isinstance(one_arg, the_type)])\n",
    "        return wrapper\n",
    "    return middle\n",
    "\n",
    "\n",
    "@only_of_type(int)\n",
    "def mysum(*numbers):   # numbers is a tuple, containing all arguments\n",
    "    print(f'{numbers=}')\n",
    "    total = 0\n",
    "    \n",
    "    for one_number in numbers:\n",
    "        total += one_number\n",
    "    return total\n",
    "\n",
    "# mysum = only_of_type(int)(mysum)\n",
    "\n",
    "\n",
    "mysum(10, 20, 'abcd', 30)   # 60"
   ]
  },
  {
   "cell_type": "code",
   "execution_count": null,
   "id": "781cf93b",
   "metadata": {},
   "outputs": [],
   "source": [
    "def shortest_word(*words):\n",
    "    return min(words, key=len)  # sorts, then returns the first element -- like sorted, it takes a len"
   ]
  },
  {
   "cell_type": "code",
   "execution_count": 13,
   "id": "6f951729",
   "metadata": {},
   "outputs": [
    {
     "ename": "TypeError",
     "evalue": "add() missing 1 required positional argument: 'second'",
     "output_type": "error",
     "traceback": [
      "\u001b[0;31m---------------------------------------------------------------------------\u001b[0m",
      "\u001b[0;31mTypeError\u001b[0m                                 Traceback (most recent call last)",
      "\u001b[0;32m/var/folders/rr/0mnyyv811fs5vyp22gf4fxk00000gn/T/ipykernel_55950/926090711.py\u001b[0m in \u001b[0;36m<module>\u001b[0;34m\u001b[0m\n\u001b[1;32m      4\u001b[0m \u001b[0mt\u001b[0m \u001b[0;34m=\u001b[0m \u001b[0;34m(\u001b[0m\u001b[0;36m10\u001b[0m\u001b[0;34m,\u001b[0m \u001b[0;36m20\u001b[0m\u001b[0;34m)\u001b[0m\u001b[0;34m\u001b[0m\u001b[0;34m\u001b[0m\u001b[0m\n\u001b[1;32m      5\u001b[0m \u001b[0;34m\u001b[0m\u001b[0m\n\u001b[0;32m----> 6\u001b[0;31m \u001b[0madd\u001b[0m\u001b[0;34m(\u001b[0m\u001b[0mt\u001b[0m\u001b[0;34m)\u001b[0m\u001b[0;34m\u001b[0m\u001b[0;34m\u001b[0m\u001b[0m\n\u001b[0m",
      "\u001b[0;31mTypeError\u001b[0m: add() missing 1 required positional argument: 'second'"
     ]
    }
   ],
   "source": [
    "def add(first, second):\n",
    "    return first + second\n",
    "\n",
    "t = (10, 20)\n",
    "\n",
    "add(t)"
   ]
  },
  {
   "cell_type": "code",
   "execution_count": 14,
   "id": "cd5c77e9",
   "metadata": {},
   "outputs": [
    {
     "data": {
      "text/plain": [
       "30"
      ]
     },
     "execution_count": 14,
     "metadata": {},
     "output_type": "execute_result"
    }
   ],
   "source": [
    "add(*t)"
   ]
  },
  {
   "cell_type": "code",
   "execution_count": 17,
   "id": "0bc2c280",
   "metadata": {},
   "outputs": [
    {
     "data": {
      "text/plain": [
       "'10*20*30'"
      ]
     },
     "execution_count": 17,
     "metadata": {},
     "output_type": "execute_result"
    }
   ],
   "source": [
    "mylist = [10, 20, 30]\n",
    "\n",
    "'*'.join(str(one_item)\n",
    "        for one_item in mylist)"
   ]
  },
  {
   "cell_type": "code",
   "execution_count": 23,
   "id": "0b88a671",
   "metadata": {},
   "outputs": [
    {
     "name": "stdout",
     "output_type": "stream",
     "text": [
      "numbers=(10, 20, 30)\n"
     ]
    },
    {
     "data": {
      "text/plain": [
       "60"
      ]
     },
     "execution_count": 23,
     "metadata": {},
     "output_type": "execute_result"
    }
   ],
   "source": [
    "def only_of_type(the_type):\n",
    "    def middle(func):\n",
    "        def wrapper(*args):\n",
    "            return func(*[one_arg\n",
    "                           for one_arg in args\n",
    "                           if isinstance(one_arg, the_type)])\n",
    "        return wrapper\n",
    "    return middle\n",
    "\n",
    "\n",
    "@only_of_type(int)\n",
    "def mysum(*numbers):   # numbers is a tuple, containing all arguments\n",
    "    \"\"\"Sum numbers!\n",
    "    \n",
    "    Expects: Positional arguments, all numbers\n",
    "    Modifies: Nothing\n",
    "    Returns: Sum of numbers\"\"\"\n",
    "    print(f'{numbers=}')\n",
    "    total = 0\n",
    "    \n",
    "    for one_number in numbers:\n",
    "        total += one_number\n",
    "    return total\n",
    "\n",
    "# mysum = only_of_type(int)(mysum)\n",
    "\n",
    "\n",
    "mysum(10, 20, 'abcd', 30)   # 60"
   ]
  },
  {
   "cell_type": "code",
   "execution_count": 24,
   "id": "5c115dde",
   "metadata": {},
   "outputs": [
    {
     "name": "stdout",
     "output_type": "stream",
     "text": [
      "Help on function wrapper in module __main__:\n",
      "\n",
      "wrapper(*args)\n",
      "\n"
     ]
    }
   ],
   "source": [
    "help(mysum)"
   ]
  },
  {
   "cell_type": "code",
   "execution_count": 25,
   "id": "9b9a2e9f",
   "metadata": {},
   "outputs": [
    {
     "name": "stdout",
     "output_type": "stream",
     "text": [
      "numbers=(10, 20, 30)\n"
     ]
    },
    {
     "data": {
      "text/plain": [
       "60"
      ]
     },
     "execution_count": 25,
     "metadata": {},
     "output_type": "execute_result"
    }
   ],
   "source": [
    "# get the (a) function signature and (b) docstring back\n",
    "\n",
    "from functools import wraps\n",
    "\n",
    "def only_of_type(the_type):\n",
    "    def middle(func):\n",
    "\n",
    "        @wraps(func)   # assign to wrapper the signature + docstring from func\n",
    "        def wrapper(*args):\n",
    "            return func(*[one_arg\n",
    "                           for one_arg in args\n",
    "                           if isinstance(one_arg, the_type)])\n",
    "        return wrapper\n",
    "    return middle\n",
    "\n",
    "\n",
    "@only_of_type(int)\n",
    "def mysum(*numbers):   # numbers is a tuple, containing all arguments\n",
    "    \"\"\"Sum numbers!\n",
    "    \n",
    "    Expects: Positional arguments, all numbers\n",
    "    Modifies: Nothing\n",
    "    Returns: Sum of numbers\"\"\"\n",
    "    print(f'{numbers=}')\n",
    "    total = 0\n",
    "    \n",
    "    for one_number in numbers:\n",
    "        total += one_number\n",
    "    return total\n",
    "\n",
    "# mysum = only_of_type(int)(mysum)\n",
    "\n",
    "\n",
    "mysum(10, 20, 'abcd', 30)   # 60"
   ]
  },
  {
   "cell_type": "code",
   "execution_count": 26,
   "id": "d5842f9b",
   "metadata": {},
   "outputs": [
    {
     "name": "stdout",
     "output_type": "stream",
     "text": [
      "Help on function mysum in module __main__:\n",
      "\n",
      "mysum(*numbers)\n",
      "    Sum numbers!\n",
      "    \n",
      "    Expects: Positional arguments, all numbers\n",
      "    Modifies: Nothing\n",
      "    Returns: Sum of numbers\n",
      "\n"
     ]
    }
   ],
   "source": [
    "help(mysum)"
   ]
  },
  {
   "cell_type": "markdown",
   "id": "5fc5efdf",
   "metadata": {},
   "source": [
    "# Concurrency in Python (threads and processes)"
   ]
  },
  {
   "cell_type": "code",
   "execution_count": 27,
   "id": "de549362",
   "metadata": {},
   "outputs": [],
   "source": [
    "# GIL -- global interpreter lock"
   ]
  },
  {
   "cell_type": "code",
   "execution_count": 28,
   "id": "cae7a090",
   "metadata": {},
   "outputs": [],
   "source": [
    "import sys\n"
   ]
  },
  {
   "cell_type": "code",
   "execution_count": 29,
   "id": "19482432",
   "metadata": {},
   "outputs": [
    {
     "data": {
      "text/plain": [
       "0.005"
      ]
     },
     "execution_count": 29,
     "metadata": {},
     "output_type": "execute_result"
    }
   ],
   "source": [
    "sys.getswitchinterval()"
   ]
  },
  {
   "cell_type": "markdown",
   "id": "e84399c4",
   "metadata": {},
   "source": [
    "# Exercise: File lengths\n",
    "\n",
    "1. Write a function, `file_length`, that takes a filename (string) as an input, and returns the length of the file.  Iterate over the file, one line at a time, to get its length.\n",
    "2. Use `concurrent.futures` and `ThreadPoolExecutor` to run this function on each text file in a directory.\n",
    "3. How many bytes, total, are there in those files?"
   ]
  },
  {
   "cell_type": "code",
   "execution_count": 31,
   "id": "05021408",
   "metadata": {},
   "outputs": [
    {
     "data": {
      "text/plain": [
       "[4, 2, 1, 4]"
      ]
     },
     "execution_count": 31,
     "metadata": {},
     "output_type": "execute_result"
    }
   ],
   "source": [
    "list(map(len, 'this is a test'.split()))"
   ]
  },
  {
   "cell_type": "code",
   "execution_count": 32,
   "id": "a44eb1ce",
   "metadata": {},
   "outputs": [
    {
     "data": {
      "text/plain": [
       "0.005"
      ]
     },
     "execution_count": 32,
     "metadata": {},
     "output_type": "execute_result"
    }
   ],
   "source": [
    "sys.getswitchinterval()"
   ]
  },
  {
   "cell_type": "code",
   "execution_count": 33,
   "id": "7f4c0981",
   "metadata": {},
   "outputs": [
    {
     "name": "stdout",
     "output_type": "stream",
     "text": [
      "Help on built-in function setswitchinterval in module sys:\n",
      "\n",
      "setswitchinterval(interval, /)\n",
      "    Set the ideal thread switching delay inside the Python interpreter.\n",
      "    \n",
      "    The actual frequency of switching threads can be lower if the\n",
      "    interpreter executes long sequences of uninterruptible code\n",
      "    (this is implementation-specific and workload-dependent).\n",
      "    \n",
      "    The parameter must represent the desired switching delay in seconds\n",
      "    A typical value is 0.005 (5 milliseconds).\n",
      "\n"
     ]
    }
   ],
   "source": [
    "help(sys.setswitchinterval)"
   ]
  },
  {
   "cell_type": "code",
   "execution_count": null,
   "id": "c3a5e1b6",
   "metadata": {},
   "outputs": [],
   "source": []
  }
 ],
 "metadata": {
  "kernelspec": {
   "display_name": "Python 3 (ipykernel)",
   "language": "python",
   "name": "python3"
  },
  "language_info": {
   "codemirror_mode": {
    "name": "ipython",
    "version": 3
   },
   "file_extension": ".py",
   "mimetype": "text/x-python",
   "name": "python",
   "nbconvert_exporter": "python",
   "pygments_lexer": "ipython3",
   "version": "3.10.6"
  }
 },
 "nbformat": 4,
 "nbformat_minor": 5
}

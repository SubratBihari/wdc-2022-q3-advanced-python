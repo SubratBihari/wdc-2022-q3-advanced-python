{
 "cells": [
  {
   "cell_type": "markdown",
   "id": "65b1b150",
   "metadata": {},
   "source": [
    "# Agenda\n",
    "\n",
    "1. Q&A\n",
    "2. Dispatch tables\n",
    "3. Comprehensions (list, dict, set, nested)\n",
    "4. Functional programming (passing functions as arguments)\n",
    "5. `lambda`"
   ]
  },
  {
   "cell_type": "code",
   "execution_count": 1,
   "id": "22cb388d",
   "metadata": {},
   "outputs": [
    {
     "name": "stdout",
     "output_type": "stream",
     "text": [
      "Enter function name: a\n",
      "A\n",
      "Enter function name: b\n",
      "B\n",
      "Enter function name: x\n",
      "x is not a valid option\n",
      "Enter function name: z\n",
      "z is not a valid option\n",
      "Enter function name: q\n",
      "q is not a valid option\n",
      "Enter function name: w\n",
      "w is not a valid option\n",
      "Enter function name: ab\n",
      "ab is not a valid option\n",
      "Enter function name: \n"
     ]
    }
   ],
   "source": [
    "def a():\n",
    "    return 'A'\n",
    "\n",
    "def b():\n",
    "    return 'B'\n",
    "\n",
    "while True:\n",
    "    s = input('Enter function name: ').strip()\n",
    "    \n",
    "    if not s:\n",
    "        break\n",
    "        \n",
    "    if s == 'a':\n",
    "        print(a())\n",
    "    elif s == 'b':\n",
    "        print(b())\n",
    "    else:\n",
    "        print(f'{s} is not a valid option')"
   ]
  },
  {
   "cell_type": "markdown",
   "id": "1fc78d38",
   "metadata": {},
   "source": [
    "# Dispatch table"
   ]
  },
  {
   "cell_type": "code",
   "execution_count": 2,
   "id": "722e0563",
   "metadata": {},
   "outputs": [
    {
     "name": "stdout",
     "output_type": "stream",
     "text": [
      "Enter function name: a\n",
      "A\n",
      "Enter function name: b\n",
      "B\n",
      "Enter function name: c\n",
      "c is not a valid option\n",
      "Enter function name: \n"
     ]
    }
   ],
   "source": [
    "def a():\n",
    "    return 'A'\n",
    "\n",
    "def b():\n",
    "    return 'B'\n",
    "\n",
    "funcs = {'a':a,\n",
    "         'b':b}\n",
    "\n",
    "while True:\n",
    "    s = input('Enter function name: ').strip()\n",
    "    \n",
    "    if not s:\n",
    "        break\n",
    "        \n",
    "    if s in funcs:\n",
    "        print(funcs[s]())\n",
    "    else:\n",
    "        print(f'{s} is not a valid option')"
   ]
  },
  {
   "cell_type": "markdown",
   "id": "520d5531",
   "metadata": {},
   "source": [
    "# Exercise: Calculator\n",
    "\n",
    "1. Write two functions, `add` and `mul`, that implement addition and multiplication.\n",
    "2. Ask the user, repeatedly, to enter a simple math expression with two numbers and either `+` or `*`.\n",
    "    - If the operator is known, then run the appropriate function, and display the expression and the result.\n",
    "    - If not, then give the user a message that makes it clear the operator isn't known.\n",
    "3. Use a dispatch table to implement this functionality.\n",
    "4. How easy will it be to add new operators, and functions?\n",
    "\n",
    "Example:\n",
    "\n",
    "    Enter expression: 2 + 5\n",
    "    2 + 5 = 7\n",
    "    Enter expression: 3 * 10\n",
    "    3 * 10 = 30\n",
    "    Enter expression: 10 / 2\n",
    "    10 / 2 = (not implemented)"
   ]
  },
  {
   "cell_type": "code",
   "execution_count": 6,
   "id": "aee34d40",
   "metadata": {},
   "outputs": [
    {
     "name": "stdout",
     "output_type": "stream",
     "text": [
      "Enter expression: 2 + 3\n",
      "2 + 3 = 5\n",
      "Enter expression: \n"
     ]
    }
   ],
   "source": [
    "def add(first, second):\n",
    "    return first + second\n",
    "\n",
    "def mul(first, second):\n",
    "    return first * second\n",
    "\n",
    "def sub(first, second):\n",
    "    return first - second\n",
    "\n",
    "funcs = {'+':add,\n",
    "         '*':mul,\n",
    "         '-':sub        }\n",
    "\n",
    "while True:\n",
    "    s = input('Enter expression: ').strip()\n",
    "    \n",
    "    if not s:\n",
    "        break\n",
    "        \n",
    "    fields = s.split()\n",
    "    if len(fields) != 3:\n",
    "        print(f'Illegal input; enter an expression as X op Y')\n",
    "        continue\n",
    "        \n",
    "    x, op, y = fields\n",
    "    x = int(x)\n",
    "    y = int(y)\n",
    "    \n",
    "    if op in funcs:\n",
    "        result = funcs[op](x, y)\n",
    "    else:\n",
    "        result = f'({op} is not implemented)'\n",
    "        \n",
    "    print(f'{x} {op} {y} = {result}')\n",
    "    "
   ]
  },
  {
   "cell_type": "code",
   "execution_count": 8,
   "id": "dd83d345",
   "metadata": {},
   "outputs": [
    {
     "name": "stdout",
     "output_type": "stream",
     "text": [
      "Enter expression: + 2 3 4\n",
      "2 + 3 = 9\n",
      "Enter expression: * 2 3 4\n",
      "2 * 3 = 24\n",
      "Enter expression: \n"
     ]
    }
   ],
   "source": [
    "# prefix syntax\n",
    "# + 2 3 4 5\n",
    "# * 2 3 4 5\n",
    "\n",
    "def add(*numbers):\n",
    "    total = 0\n",
    "    \n",
    "    for one_number in numbers:\n",
    "        total += one_number\n",
    "\n",
    "    return total\n",
    "\n",
    "def mul(*numbers):\n",
    "    product = 1\n",
    "    \n",
    "    for one_number in numbers:\n",
    "        product *= one_number\n",
    "        \n",
    "    return product\n",
    "\n",
    "    \n",
    "funcs = {'+':add,\n",
    "         '*':mul}\n",
    "\n",
    "while True:\n",
    "    s = input('Enter expression: ').strip()\n",
    "    \n",
    "    if not s:\n",
    "        break\n",
    "        \n",
    "    op, *str_numbers = s.split()     # str_numbers will be a list\n",
    "        \n",
    "    numbers = []\n",
    "    for one_number in str_numbers:\n",
    "        if one_number.isdigit():\n",
    "            numbers.append(int(one_number))\n",
    "        else:\n",
    "            print(f'Ignoring {one_number}; not intable')\n",
    "\n",
    "    if op in funcs:\n",
    "        result = funcs[op](*numbers)  # turn the list numbers into many individual arguments, from its elements\n",
    "    else:\n",
    "        result = f'({op} is not implemented)'\n",
    "        \n",
    "    print(f'{x} {op} {y} = {result}')\n",
    "    "
   ]
  },
  {
   "cell_type": "markdown",
   "id": "e0f84727",
   "metadata": {},
   "source": [
    "# Uses for `*NAME`\n",
    "\n",
    "- In the definition of a function, `*args` is a tuple, with all positional args no one else wanted\n",
    "- In calling a function, `*name` must be an iterable, and its elements will be arguments to the function\n",
    "- In unpacking, `*name` makes `name` a list, with all elements that other variables didn't get."
   ]
  },
  {
   "cell_type": "code",
   "execution_count": 12,
   "id": "ca071b4b",
   "metadata": {},
   "outputs": [],
   "source": [
    "s = {10, 20, 30}\n",
    "\n",
    "def mysum(*numbers):\n",
    "    print(f'{numbers=}')\n",
    "    total = 0\n",
    "    \n",
    "    for one_number in numbers:\n",
    "        total += one_number\n",
    "        \n",
    "    return total"
   ]
  },
  {
   "cell_type": "code",
   "execution_count": 13,
   "id": "2ce0bd1a",
   "metadata": {},
   "outputs": [
    {
     "name": "stdout",
     "output_type": "stream",
     "text": [
      "numbers=({10, 20, 30},)\n"
     ]
    },
    {
     "ename": "TypeError",
     "evalue": "unsupported operand type(s) for +=: 'int' and 'set'",
     "output_type": "error",
     "traceback": [
      "\u001b[0;31m---------------------------------------------------------------------------\u001b[0m",
      "\u001b[0;31mTypeError\u001b[0m                                 Traceback (most recent call last)",
      "\u001b[0;32m/var/folders/rr/0mnyyv811fs5vyp22gf4fxk00000gn/T/ipykernel_82208/1600672252.py\u001b[0m in \u001b[0;36m<module>\u001b[0;34m\u001b[0m\n\u001b[0;32m----> 1\u001b[0;31m \u001b[0mmysum\u001b[0m\u001b[0;34m(\u001b[0m\u001b[0ms\u001b[0m\u001b[0;34m)\u001b[0m\u001b[0;34m\u001b[0m\u001b[0;34m\u001b[0m\u001b[0m\n\u001b[0m",
      "\u001b[0;32m/var/folders/rr/0mnyyv811fs5vyp22gf4fxk00000gn/T/ipykernel_82208/3236763817.py\u001b[0m in \u001b[0;36mmysum\u001b[0;34m(*numbers)\u001b[0m\n\u001b[1;32m      6\u001b[0m \u001b[0;34m\u001b[0m\u001b[0m\n\u001b[1;32m      7\u001b[0m     \u001b[0;32mfor\u001b[0m \u001b[0mone_number\u001b[0m \u001b[0;32min\u001b[0m \u001b[0mnumbers\u001b[0m\u001b[0;34m:\u001b[0m\u001b[0;34m\u001b[0m\u001b[0;34m\u001b[0m\u001b[0m\n\u001b[0;32m----> 8\u001b[0;31m         \u001b[0mtotal\u001b[0m \u001b[0;34m+=\u001b[0m \u001b[0mone_number\u001b[0m\u001b[0;34m\u001b[0m\u001b[0;34m\u001b[0m\u001b[0m\n\u001b[0m\u001b[1;32m      9\u001b[0m \u001b[0;34m\u001b[0m\u001b[0m\n\u001b[1;32m     10\u001b[0m     \u001b[0;32mreturn\u001b[0m \u001b[0mtotal\u001b[0m\u001b[0;34m\u001b[0m\u001b[0;34m\u001b[0m\u001b[0m\n",
      "\u001b[0;31mTypeError\u001b[0m: unsupported operand type(s) for +=: 'int' and 'set'"
     ]
    }
   ],
   "source": [
    "mysum(s)"
   ]
  },
  {
   "cell_type": "code",
   "execution_count": 14,
   "id": "44bcd20d",
   "metadata": {},
   "outputs": [
    {
     "name": "stdout",
     "output_type": "stream",
     "text": [
      "numbers=(10, 20, 30)\n"
     ]
    },
    {
     "data": {
      "text/plain": [
       "60"
      ]
     },
     "execution_count": 14,
     "metadata": {},
     "output_type": "execute_result"
    }
   ],
   "source": [
    "mysum(*s)"
   ]
  },
  {
   "cell_type": "code",
   "execution_count": 15,
   "id": "d3f84d33",
   "metadata": {},
   "outputs": [],
   "source": [
    "x,*y,z = range(10, 20)"
   ]
  },
  {
   "cell_type": "code",
   "execution_count": 16,
   "id": "ab21561f",
   "metadata": {},
   "outputs": [
    {
     "data": {
      "text/plain": [
       "10"
      ]
     },
     "execution_count": 16,
     "metadata": {},
     "output_type": "execute_result"
    }
   ],
   "source": [
    "x"
   ]
  },
  {
   "cell_type": "code",
   "execution_count": 17,
   "id": "e0002fc3",
   "metadata": {},
   "outputs": [
    {
     "data": {
      "text/plain": [
       "[11, 12, 13, 14, 15, 16, 17, 18]"
      ]
     },
     "execution_count": 17,
     "metadata": {},
     "output_type": "execute_result"
    }
   ],
   "source": [
    "y"
   ]
  },
  {
   "cell_type": "code",
   "execution_count": 18,
   "id": "80b86225",
   "metadata": {},
   "outputs": [
    {
     "data": {
      "text/plain": [
       "19"
      ]
     },
     "execution_count": 18,
     "metadata": {},
     "output_type": "execute_result"
    }
   ],
   "source": [
    "z"
   ]
  },
  {
   "cell_type": "code",
   "execution_count": 19,
   "id": "be18c5e7",
   "metadata": {},
   "outputs": [],
   "source": [
    "w,*x,y,z = range(10, 20)"
   ]
  },
  {
   "cell_type": "code",
   "execution_count": 20,
   "id": "059842ee",
   "metadata": {},
   "outputs": [
    {
     "data": {
      "text/plain": [
       "10"
      ]
     },
     "execution_count": 20,
     "metadata": {},
     "output_type": "execute_result"
    }
   ],
   "source": [
    "w"
   ]
  },
  {
   "cell_type": "code",
   "execution_count": 21,
   "id": "27f5f21c",
   "metadata": {},
   "outputs": [
    {
     "data": {
      "text/plain": [
       "[11, 12, 13, 14, 15, 16, 17]"
      ]
     },
     "execution_count": 21,
     "metadata": {},
     "output_type": "execute_result"
    }
   ],
   "source": [
    "x"
   ]
  },
  {
   "cell_type": "code",
   "execution_count": 22,
   "id": "34f23cac",
   "metadata": {},
   "outputs": [
    {
     "data": {
      "text/plain": [
       "18"
      ]
     },
     "execution_count": 22,
     "metadata": {},
     "output_type": "execute_result"
    }
   ],
   "source": [
    "y"
   ]
  },
  {
   "cell_type": "code",
   "execution_count": 23,
   "id": "c5ea2d3b",
   "metadata": {},
   "outputs": [
    {
     "data": {
      "text/plain": [
       "19"
      ]
     },
     "execution_count": 23,
     "metadata": {},
     "output_type": "execute_result"
    }
   ],
   "source": [
    "z"
   ]
  },
  {
   "cell_type": "markdown",
   "id": "cd0671a3",
   "metadata": {},
   "source": [
    "# Comprehensions"
   ]
  },
  {
   "cell_type": "code",
   "execution_count": 24,
   "id": "f0c0fcfa",
   "metadata": {},
   "outputs": [
    {
     "data": {
      "text/plain": [
       "[0, 1, 4, 9, 16, 25, 36, 49, 64, 81]"
      ]
     },
     "execution_count": 24,
     "metadata": {},
     "output_type": "execute_result"
    }
   ],
   "source": [
    "numbers = range(10)\n",
    "\n",
    "# I want a new list whose elements are the same as numbers, but **2\n",
    "output = []\n",
    "\n",
    "for one_number in numbers:\n",
    "    output.append(one_number ** 2)\n",
    "    \n",
    "output    "
   ]
  },
  {
   "cell_type": "code",
   "execution_count": 26,
   "id": "db098d26",
   "metadata": {},
   "outputs": [
    {
     "data": {
      "text/plain": [
       "[10, 20, 30, 40, 50]"
      ]
     },
     "execution_count": 26,
     "metadata": {},
     "output_type": "execute_result"
    }
   ],
   "source": [
    "str_numbers = '10 20 30 40 50'\n",
    "\n",
    "numbers = []\n",
    "for one_number in str_numbers.split():\n",
    "    if one_number.isdigit():\n",
    "        numbers.append(int(one_number))\n",
    "    else:\n",
    "        print(f'Ignoring {one_number}; not intable')\n",
    "\n",
    "numbers        "
   ]
  },
  {
   "cell_type": "code",
   "execution_count": 27,
   "id": "124d9c3d",
   "metadata": {},
   "outputs": [
    {
     "data": {
      "text/plain": [
       "[0, 1, 4, 9, 16, 25, 36, 49, 64, 81]"
      ]
     },
     "execution_count": 27,
     "metadata": {},
     "output_type": "execute_result"
    }
   ],
   "source": [
    "# list comprehension\n",
    "# creates a new list!\n",
    "\n",
    "[one_number ** 2 for one_number in range(10)]"
   ]
  },
  {
   "cell_type": "code",
   "execution_count": 28,
   "id": "8f947864",
   "metadata": {},
   "outputs": [
    {
     "data": {
      "text/plain": [
       "[10, 20, 30, 40, 50]"
      ]
     },
     "execution_count": 28,
     "metadata": {},
     "output_type": "execute_result"
    }
   ],
   "source": [
    "[int(one_item) for one_item in str_numbers.split()]"
   ]
  },
  {
   "cell_type": "code",
   "execution_count": 29,
   "id": "480ba04d",
   "metadata": {},
   "outputs": [
    {
     "data": {
      "text/plain": [
       "[0, 1, 4, 9, 16, 25, 36, 49, 64, 81]"
      ]
     },
     "execution_count": 29,
     "metadata": {},
     "output_type": "execute_result"
    }
   ],
   "source": [
    "[one_number ** 2                # expression \n",
    " for one_number in range(10)]   # iteration"
   ]
  },
  {
   "cell_type": "code",
   "execution_count": 30,
   "id": "1146cfe3",
   "metadata": {},
   "outputs": [
    {
     "data": {
      "text/plain": [
       "[10, 20, 30, 40, 50]"
      ]
     },
     "execution_count": 30,
     "metadata": {},
     "output_type": "execute_result"
    }
   ],
   "source": [
    "[int(one_item)                         # SELECT -- any Python expression can be here!\n",
    " for one_item in str_numbers.split()]  # FROM  -- any Python iterable can be here!"
   ]
  },
  {
   "cell_type": "markdown",
   "id": "f2fb7201",
   "metadata": {},
   "source": [
    "# Exercises: Comprehensions\n",
    "\n",
    "1. Define a list of integers. Use `str.join` to join the integers together with spaces. Remember that `str.join` won't work on a list of int; you need to turn each int into a string.\n",
    "2. Ask the user to enter a sentence.  Use a list comprehension to count the non-whitespace characters in all of the words."
   ]
  },
  {
   "cell_type": "code",
   "execution_count": 35,
   "id": "c4534adb",
   "metadata": {},
   "outputs": [
    {
     "ename": "TypeError",
     "evalue": "sequence item 0: expected str instance, int found",
     "output_type": "error",
     "traceback": [
      "\u001b[0;31m---------------------------------------------------------------------------\u001b[0m",
      "\u001b[0;31mTypeError\u001b[0m                                 Traceback (most recent call last)",
      "\u001b[0;32m/var/folders/rr/0mnyyv811fs5vyp22gf4fxk00000gn/T/ipykernel_82208/4052595089.py\u001b[0m in \u001b[0;36m<module>\u001b[0;34m\u001b[0m\n\u001b[1;32m      1\u001b[0m \u001b[0mmylist\u001b[0m \u001b[0;34m=\u001b[0m \u001b[0;34m[\u001b[0m\u001b[0;36m10\u001b[0m\u001b[0;34m,\u001b[0m \u001b[0;36m20\u001b[0m\u001b[0;34m,\u001b[0m \u001b[0;36m30\u001b[0m\u001b[0;34m,\u001b[0m \u001b[0;36m40\u001b[0m\u001b[0;34m,\u001b[0m \u001b[0;36m50\u001b[0m\u001b[0;34m]\u001b[0m\u001b[0;34m\u001b[0m\u001b[0;34m\u001b[0m\u001b[0m\n\u001b[1;32m      2\u001b[0m \u001b[0;34m\u001b[0m\u001b[0m\n\u001b[0;32m----> 3\u001b[0;31m \u001b[0;34m' '\u001b[0m\u001b[0;34m.\u001b[0m\u001b[0mjoin\u001b[0m\u001b[0;34m(\u001b[0m\u001b[0mmylist\u001b[0m\u001b[0;34m)\u001b[0m\u001b[0;34m\u001b[0m\u001b[0;34m\u001b[0m\u001b[0m\n\u001b[0m",
      "\u001b[0;31mTypeError\u001b[0m: sequence item 0: expected str instance, int found"
     ]
    }
   ],
   "source": [
    "mylist = [10, 20, 30, 40, 50]\n",
    "\n",
    "' '.join(mylist)"
   ]
  },
  {
   "cell_type": "code",
   "execution_count": 32,
   "id": "7aae3477",
   "metadata": {},
   "outputs": [
    {
     "data": {
      "text/plain": [
       "['10', '20', '30', '40', '50']"
      ]
     },
     "execution_count": 32,
     "metadata": {},
     "output_type": "execute_result"
    }
   ],
   "source": [
    "# comprehension check:\n",
    "\n",
    "# - what do I have as input? list of integers\n",
    "# - what do I want as output? list of strings\n",
    "# - do I have an expression that translates from the first to the second? Yes, str\n",
    "\n",
    "[str(one_item)\n",
    " for one_item in mylist]"
   ]
  },
  {
   "cell_type": "code",
   "execution_count": 34,
   "id": "ef290c34",
   "metadata": {},
   "outputs": [
    {
     "data": {
      "text/plain": [
       "'10 20 30 40 50'"
      ]
     },
     "execution_count": 34,
     "metadata": {},
     "output_type": "execute_result"
    }
   ],
   "source": [
    "' '.join([str(one_item)\n",
    "             for one_item in mylist])"
   ]
  },
  {
   "cell_type": "code",
   "execution_count": 36,
   "id": "0ca85c05",
   "metadata": {},
   "outputs": [],
   "source": [
    "s = 'This is a fantastic test sentence for our exercise'"
   ]
  },
  {
   "cell_type": "code",
   "execution_count": 37,
   "id": "82b80807",
   "metadata": {},
   "outputs": [
    {
     "data": {
      "text/plain": [
       "50"
      ]
     },
     "execution_count": 37,
     "metadata": {},
     "output_type": "execute_result"
    }
   ],
   "source": [
    "len(s)"
   ]
  },
  {
   "cell_type": "code",
   "execution_count": 38,
   "id": "f4c9e237",
   "metadata": {},
   "outputs": [
    {
     "data": {
      "text/plain": [
       "['This', 'is', 'a', 'fantastic', 'test', 'sentence', 'for', 'our', 'exercise']"
      ]
     },
     "execution_count": 38,
     "metadata": {},
     "output_type": "execute_result"
    }
   ],
   "source": [
    "s.split()"
   ]
  },
  {
   "cell_type": "code",
   "execution_count": 40,
   "id": "e4f7a237",
   "metadata": {},
   "outputs": [
    {
     "data": {
      "text/plain": [
       "[4, 2, 1, 9, 4, 8, 3, 3, 8]"
      ]
     },
     "execution_count": 40,
     "metadata": {},
     "output_type": "execute_result"
    }
   ],
   "source": [
    "[len(one_word)\n",
    " for one_word in s.split()]"
   ]
  },
  {
   "cell_type": "code",
   "execution_count": 41,
   "id": "99d5d591",
   "metadata": {},
   "outputs": [
    {
     "data": {
      "text/plain": [
       "42"
      ]
     },
     "execution_count": 41,
     "metadata": {},
     "output_type": "execute_result"
    }
   ],
   "source": [
    "sum([len(one_word)\n",
    " for one_word in s.split()])"
   ]
  },
  {
   "cell_type": "code",
   "execution_count": 42,
   "id": "144be741",
   "metadata": {},
   "outputs": [],
   "source": [
    "# input is a list of strings\n",
    "# output is a list of integers, the length of each word\n",
    "# transform by running len"
   ]
  },
  {
   "cell_type": "code",
   "execution_count": 43,
   "id": "2e407bcd",
   "metadata": {},
   "outputs": [
    {
     "data": {
      "text/plain": [
       "['', '', 'a', '', 'b', '', 'c', '', 'd', '', '', '']"
      ]
     },
     "execution_count": 43,
     "metadata": {},
     "output_type": "execute_result"
    }
   ],
   "source": [
    "s = '  a  b  c  d   '\n",
    "\n",
    "s.split(' ')"
   ]
  },
  {
   "cell_type": "code",
   "execution_count": 44,
   "id": "56c605d9",
   "metadata": {},
   "outputs": [
    {
     "data": {
      "text/plain": [
       "['a', 'b', 'c', 'd']"
      ]
     },
     "execution_count": 44,
     "metadata": {},
     "output_type": "execute_result"
    }
   ],
   "source": [
    "s.split()  "
   ]
  },
  {
   "cell_type": "code",
   "execution_count": 45,
   "id": "f740fa12",
   "metadata": {},
   "outputs": [
    {
     "data": {
      "text/plain": [
       "'This is a bunch of words for my class'"
      ]
     },
     "execution_count": 45,
     "metadata": {},
     "output_type": "execute_result"
    }
   ],
   "source": [
    "s = 'this is a bunch of words for my class'\n",
    "\n",
    "s.capitalize()"
   ]
  },
  {
   "cell_type": "code",
   "execution_count": 46,
   "id": "995681c0",
   "metadata": {},
   "outputs": [
    {
     "data": {
      "text/plain": [
       "'This Is A Bunch Of Words For My Class'"
      ]
     },
     "execution_count": 46,
     "metadata": {},
     "output_type": "execute_result"
    }
   ],
   "source": [
    "s.title()"
   ]
  },
  {
   "cell_type": "code",
   "execution_count": 47,
   "id": "ffc34b14",
   "metadata": {},
   "outputs": [
    {
     "data": {
      "text/plain": [
       "['This', 'Is', 'A', 'Bunch', 'Of', 'Words', 'For', 'My', 'Class']"
      ]
     },
     "execution_count": 47,
     "metadata": {},
     "output_type": "execute_result"
    }
   ],
   "source": [
    "# how can I get the same output as title, but using only capitalize?\n",
    "\n",
    "[one_word.capitalize()\n",
    " for one_word in s.split()]"
   ]
  },
  {
   "cell_type": "code",
   "execution_count": 48,
   "id": "74481cce",
   "metadata": {},
   "outputs": [
    {
     "data": {
      "text/plain": [
       "'This Is A Bunch Of Words For My Class'"
      ]
     },
     "execution_count": 48,
     "metadata": {},
     "output_type": "execute_result"
    }
   ],
   "source": [
    "' '.join([one_word.capitalize()\n",
    "         for one_word in s.split()])"
   ]
  },
  {
   "cell_type": "code",
   "execution_count": 51,
   "id": "14b759ce",
   "metadata": {},
   "outputs": [
    {
     "data": {
      "text/plain": [
       "['##\\n',\n",
       " '# User Database\\n',\n",
       " '# \\n',\n",
       " '# Note that this file is consulted directly only when the system is running\\n',\n",
       " '# in single-user mode.  At other times this information is provided by\\n',\n",
       " '# Open Directory.\\n',\n",
       " '#\\n',\n",
       " '# See the opendirectoryd(8) man page for additional information about\\n',\n",
       " '# Open Directory.\\n',\n",
       " '##\\n',\n",
       " 'nobody',\n",
       " 'root',\n",
       " 'daemon',\n",
       " '_uucp',\n",
       " '_taskgated',\n",
       " '_networkd',\n",
       " '_installassistant',\n",
       " '_lp',\n",
       " '_postfix',\n",
       " '_scsd',\n",
       " '_ces',\n",
       " '_appstore',\n",
       " '_mcxalr',\n",
       " '_appleevents',\n",
       " '_geod',\n",
       " '_devdocs',\n",
       " '_sandbox',\n",
       " '_mdnsresponder',\n",
       " '_ard',\n",
       " '_www',\n",
       " '_eppc',\n",
       " '_cvs',\n",
       " '_svn',\n",
       " '_mysql',\n",
       " '_sshd',\n",
       " '_qtss',\n",
       " '_cyrus',\n",
       " '_mailman',\n",
       " '_appserver',\n",
       " '_clamav',\n",
       " '_amavisd',\n",
       " '_jabber',\n",
       " '_appowner',\n",
       " '_windowserver',\n",
       " '_spotlight',\n",
       " '_tokend',\n",
       " '_securityagent',\n",
       " '_calendar',\n",
       " '_teamsserver',\n",
       " '_update_sharing',\n",
       " '_installer',\n",
       " '_atsserver',\n",
       " '_ftp',\n",
       " '_unknown',\n",
       " '_softwareupdate',\n",
       " '_coreaudiod',\n",
       " '_screensaver',\n",
       " '_locationd',\n",
       " '_trustevaluationagent',\n",
       " '_timezone',\n",
       " '_lda',\n",
       " '_cvmsroot',\n",
       " '_usbmuxd',\n",
       " '_dovecot',\n",
       " '_dpaudio',\n",
       " '_postgres',\n",
       " '_krbtgt',\n",
       " '_kadmin_admin',\n",
       " '_kadmin_changepw',\n",
       " '_devicemgr',\n",
       " '_webauthserver',\n",
       " '_netbios',\n",
       " '_warmd',\n",
       " '_dovenull',\n",
       " '_netstatistics',\n",
       " '_avbdeviced',\n",
       " '_krb_krbtgt',\n",
       " '_krb_kadmin',\n",
       " '_krb_changepw',\n",
       " '_krb_kerberos',\n",
       " '_krb_anonymous',\n",
       " '_assetcache',\n",
       " '_coremediaiod',\n",
       " '_launchservicesd',\n",
       " '_iconservices',\n",
       " '_distnote',\n",
       " '_nsurlsessiond',\n",
       " '_displaypolicyd',\n",
       " '_astris',\n",
       " '_krbfast',\n",
       " '_gamecontrollerd',\n",
       " '_mbsetupuser',\n",
       " '_ondemand',\n",
       " '_xserverdocs',\n",
       " '_wwwproxy',\n",
       " '_mobileasset',\n",
       " '_findmydevice',\n",
       " '_datadetectors',\n",
       " '_captiveagent',\n",
       " '_ctkd',\n",
       " '_applepay',\n",
       " '_hidd',\n",
       " '_cmiodalassistants',\n",
       " '_analyticsd',\n",
       " '_fpsd',\n",
       " '_timed',\n",
       " '_nearbyd',\n",
       " '_reportmemoryexception',\n",
       " '_driverkit',\n",
       " '_diskimagesiod',\n",
       " '_logd',\n",
       " '_appinstalld',\n",
       " '_installcoordinationd',\n",
       " '_demod',\n",
       " '_rmd',\n",
       " '_accessoryupdater',\n",
       " '_knowledgegraphd',\n",
       " '_coreml',\n",
       " '_sntpd',\n",
       " '_trustd',\n",
       " '_darwindaemon',\n",
       " '_notification_proxy',\n",
       " '_oahd']"
      ]
     },
     "execution_count": 51,
     "metadata": {},
     "output_type": "execute_result"
    }
   ],
   "source": [
    "[one_line.split(':')[0]   # get the first field from the list we got from splitting on ':'\n",
    " for one_line in open('/etc/passwd')]"
   ]
  },
  {
   "cell_type": "code",
   "execution_count": 52,
   "id": "873734ed",
   "metadata": {},
   "outputs": [
    {
     "data": {
      "text/plain": [
       "['nobody',\n",
       " 'root',\n",
       " 'daemon',\n",
       " '_uucp',\n",
       " '_taskgated',\n",
       " '_networkd',\n",
       " '_installassistant',\n",
       " '_lp',\n",
       " '_postfix',\n",
       " '_scsd',\n",
       " '_ces',\n",
       " '_appstore',\n",
       " '_mcxalr',\n",
       " '_appleevents',\n",
       " '_geod',\n",
       " '_devdocs',\n",
       " '_sandbox',\n",
       " '_mdnsresponder',\n",
       " '_ard',\n",
       " '_www',\n",
       " '_eppc',\n",
       " '_cvs',\n",
       " '_svn',\n",
       " '_mysql',\n",
       " '_sshd',\n",
       " '_qtss',\n",
       " '_cyrus',\n",
       " '_mailman',\n",
       " '_appserver',\n",
       " '_clamav',\n",
       " '_amavisd',\n",
       " '_jabber',\n",
       " '_appowner',\n",
       " '_windowserver',\n",
       " '_spotlight',\n",
       " '_tokend',\n",
       " '_securityagent',\n",
       " '_calendar',\n",
       " '_teamsserver',\n",
       " '_update_sharing',\n",
       " '_installer',\n",
       " '_atsserver',\n",
       " '_ftp',\n",
       " '_unknown',\n",
       " '_softwareupdate',\n",
       " '_coreaudiod',\n",
       " '_screensaver',\n",
       " '_locationd',\n",
       " '_trustevaluationagent',\n",
       " '_timezone',\n",
       " '_lda',\n",
       " '_cvmsroot',\n",
       " '_usbmuxd',\n",
       " '_dovecot',\n",
       " '_dpaudio',\n",
       " '_postgres',\n",
       " '_krbtgt',\n",
       " '_kadmin_admin',\n",
       " '_kadmin_changepw',\n",
       " '_devicemgr',\n",
       " '_webauthserver',\n",
       " '_netbios',\n",
       " '_warmd',\n",
       " '_dovenull',\n",
       " '_netstatistics',\n",
       " '_avbdeviced',\n",
       " '_krb_krbtgt',\n",
       " '_krb_kadmin',\n",
       " '_krb_changepw',\n",
       " '_krb_kerberos',\n",
       " '_krb_anonymous',\n",
       " '_assetcache',\n",
       " '_coremediaiod',\n",
       " '_launchservicesd',\n",
       " '_iconservices',\n",
       " '_distnote',\n",
       " '_nsurlsessiond',\n",
       " '_displaypolicyd',\n",
       " '_astris',\n",
       " '_krbfast',\n",
       " '_gamecontrollerd',\n",
       " '_mbsetupuser',\n",
       " '_ondemand',\n",
       " '_xserverdocs',\n",
       " '_wwwproxy',\n",
       " '_mobileasset',\n",
       " '_findmydevice',\n",
       " '_datadetectors',\n",
       " '_captiveagent',\n",
       " '_ctkd',\n",
       " '_applepay',\n",
       " '_hidd',\n",
       " '_cmiodalassistants',\n",
       " '_analyticsd',\n",
       " '_fpsd',\n",
       " '_timed',\n",
       " '_nearbyd',\n",
       " '_reportmemoryexception',\n",
       " '_driverkit',\n",
       " '_diskimagesiod',\n",
       " '_logd',\n",
       " '_appinstalld',\n",
       " '_installcoordinationd',\n",
       " '_demod',\n",
       " '_rmd',\n",
       " '_accessoryupdater',\n",
       " '_knowledgegraphd',\n",
       " '_coreml',\n",
       " '_sntpd',\n",
       " '_trustd',\n",
       " '_darwindaemon',\n",
       " '_notification_proxy',\n",
       " '_oahd']"
      ]
     },
     "execution_count": 52,
     "metadata": {},
     "output_type": "execute_result"
    }
   ],
   "source": [
    "# ignore lines starting with #\n",
    "[one_line.split(':')[0]                 # (3) SELECT\n",
    " for one_line in open('/etc/passwd')    # (1) FROM \n",
    " if not one_line.startswith('#')]       # (2) WHERE"
   ]
  },
  {
   "cell_type": "code",
   "execution_count": 53,
   "id": "967a3003",
   "metadata": {},
   "outputs": [
    {
     "name": "stdout",
     "output_type": "stream",
     "text": [
      "a\n",
      "b\n",
      "c\n",
      "d\n"
     ]
    }
   ],
   "source": [
    "for one_item in 'abcd':\n",
    "    print(one_item)"
   ]
  },
  {
   "cell_type": "code",
   "execution_count": 54,
   "id": "6f77f0ba",
   "metadata": {},
   "outputs": [
    {
     "ename": "TypeError",
     "evalue": "'int' object is not iterable",
     "output_type": "error",
     "traceback": [
      "\u001b[0;31m---------------------------------------------------------------------------\u001b[0m",
      "\u001b[0;31mTypeError\u001b[0m                                 Traceback (most recent call last)",
      "\u001b[0;32m/var/folders/rr/0mnyyv811fs5vyp22gf4fxk00000gn/T/ipykernel_82208/1987108268.py\u001b[0m in \u001b[0;36m<module>\u001b[0;34m\u001b[0m\n\u001b[0;32m----> 1\u001b[0;31m \u001b[0;32mfor\u001b[0m \u001b[0mone_item\u001b[0m \u001b[0;32min\u001b[0m \u001b[0;36m5\u001b[0m\u001b[0;34m:\u001b[0m\u001b[0;34m\u001b[0m\u001b[0;34m\u001b[0m\u001b[0m\n\u001b[0m\u001b[1;32m      2\u001b[0m     \u001b[0mprint\u001b[0m\u001b[0;34m(\u001b[0m\u001b[0mone_item\u001b[0m\u001b[0;34m)\u001b[0m\u001b[0;34m\u001b[0m\u001b[0;34m\u001b[0m\u001b[0m\n",
      "\u001b[0;31mTypeError\u001b[0m: 'int' object is not iterable"
     ]
    }
   ],
   "source": [
    "for one_item in 5:\n",
    "    print(one_item)"
   ]
  },
  {
   "cell_type": "code",
   "execution_count": 55,
   "id": "f0a90be8",
   "metadata": {},
   "outputs": [
    {
     "data": {
      "text/plain": [
       "False"
      ]
     },
     "execution_count": 55,
     "metadata": {},
     "output_type": "execute_result"
    }
   ],
   "source": [
    "'c' in one_item"
   ]
  },
  {
   "cell_type": "code",
   "execution_count": 56,
   "id": "0cf6c1ab",
   "metadata": {},
   "outputs": [
    {
     "ename": "TypeError",
     "evalue": "argument of type 'int' is not iterable",
     "output_type": "error",
     "traceback": [
      "\u001b[0;31m---------------------------------------------------------------------------\u001b[0m",
      "\u001b[0;31mTypeError\u001b[0m                                 Traceback (most recent call last)",
      "\u001b[0;32m/var/folders/rr/0mnyyv811fs5vyp22gf4fxk00000gn/T/ipykernel_82208/2968440704.py\u001b[0m in \u001b[0;36m<module>\u001b[0;34m\u001b[0m\n\u001b[0;32m----> 1\u001b[0;31m \u001b[0;34m'c'\u001b[0m \u001b[0;32min\u001b[0m \u001b[0;36m5\u001b[0m\u001b[0;34m\u001b[0m\u001b[0;34m\u001b[0m\u001b[0m\n\u001b[0m",
      "\u001b[0;31mTypeError\u001b[0m: argument of type 'int' is not iterable"
     ]
    }
   ],
   "source": [
    "'c' in 5"
   ]
  },
  {
   "cell_type": "code",
   "execution_count": 57,
   "id": "0fc5dfd1",
   "metadata": {},
   "outputs": [
    {
     "name": "stdout",
     "output_type": "stream",
     "text": [
      "linux-etc-passwd.txt  myconf.txt  output.txt\r\n",
      "mini-access-log.txt   nums.txt\t  shoe-data.txt\r\n"
     ]
    }
   ],
   "source": [
    "!ls *.txt"
   ]
  },
  {
   "cell_type": "code",
   "execution_count": 58,
   "id": "a905d844",
   "metadata": {},
   "outputs": [
    {
     "name": "stdout",
     "output_type": "stream",
     "text": [
      "Adidas\torange\t43\r\n",
      "Nike\tblack\t41\r\n",
      "Adidas\tblack\t39\r\n",
      "New Balance\tpink\t41\r\n",
      "Nike\twhite\t44\r\n",
      "New Balance\torange\t38\r\n",
      "Nike\tpink\t44\r\n",
      "Adidas\tpink\t44\r\n",
      "New Balance\torange\t39\r\n",
      "New Balance\tblack\t43\r\n"
     ]
    }
   ],
   "source": [
    "!head shoe-data.txt"
   ]
  },
  {
   "cell_type": "markdown",
   "id": "d68fbcc8",
   "metadata": {},
   "source": [
    "# Exercise: Shoe dicts from shoe data\n",
    "\n",
    "1. From the file `shoe-data.txt`, I want you to create a list of dicts.\n",
    "2. Because there are 100 lines in the file (each with three columns -- `brand`, `color`, and `size` -- separated by tabs, `\\t`), there will be 100 dicts in the list.\n",
    "3. Each dict should look like\n",
    "\n",
    "        {'brand':'Adidas',\n",
    "         'color':'orange',\n",
    "         'size':'43'}\n",
    "     \n",
    "4. I suggest writing a function for use in the list comprehension's expression.     "
   ]
  },
  {
   "cell_type": "code",
   "execution_count": 64,
   "id": "4a346d1d",
   "metadata": {},
   "outputs": [
    {
     "data": {
      "text/plain": [
       "[{'brand': 'Adidas', 'color': 'orange', 'size': '43'},\n",
       " {'brand': 'Nike', 'color': 'black', 'size': '41'},\n",
       " {'brand': 'Adidas', 'color': 'black', 'size': '39'},\n",
       " {'brand': 'New Balance', 'color': 'pink', 'size': '41'},\n",
       " {'brand': 'Nike', 'color': 'white', 'size': '44'},\n",
       " {'brand': 'New Balance', 'color': 'orange', 'size': '38'},\n",
       " {'brand': 'Nike', 'color': 'pink', 'size': '44'},\n",
       " {'brand': 'Adidas', 'color': 'pink', 'size': '44'},\n",
       " {'brand': 'New Balance', 'color': 'orange', 'size': '39'},\n",
       " {'brand': 'New Balance', 'color': 'black', 'size': '43'},\n",
       " {'brand': 'New Balance', 'color': 'orange', 'size': '44'},\n",
       " {'brand': 'Nike', 'color': 'black', 'size': '41'},\n",
       " {'brand': 'Adidas', 'color': 'orange', 'size': '37'},\n",
       " {'brand': 'Adidas', 'color': 'black', 'size': '38'},\n",
       " {'brand': 'Adidas', 'color': 'pink', 'size': '41'},\n",
       " {'brand': 'Adidas', 'color': 'white', 'size': '36'},\n",
       " {'brand': 'Adidas', 'color': 'orange', 'size': '36'},\n",
       " {'brand': 'Nike', 'color': 'pink', 'size': '41'},\n",
       " {'brand': 'Adidas', 'color': 'pink', 'size': '35'},\n",
       " {'brand': 'New Balance', 'color': 'orange', 'size': '37'},\n",
       " {'brand': 'Nike', 'color': 'pink', 'size': '43'},\n",
       " {'brand': 'Nike', 'color': 'black', 'size': '43'},\n",
       " {'brand': 'Nike', 'color': 'black', 'size': '42'},\n",
       " {'brand': 'Nike', 'color': 'black', 'size': '35'},\n",
       " {'brand': 'Adidas', 'color': 'black', 'size': '41'},\n",
       " {'brand': 'New Balance', 'color': 'pink', 'size': '40'},\n",
       " {'brand': 'Adidas', 'color': 'white', 'size': '35'},\n",
       " {'brand': 'New Balance', 'color': 'pink', 'size': '41'},\n",
       " {'brand': 'New Balance', 'color': 'orange', 'size': '41'},\n",
       " {'brand': 'Adidas', 'color': 'orange', 'size': '40'},\n",
       " {'brand': 'New Balance', 'color': 'orange', 'size': '40'},\n",
       " {'brand': 'New Balance', 'color': 'white', 'size': '44'},\n",
       " {'brand': 'New Balance', 'color': 'pink', 'size': '40'},\n",
       " {'brand': 'Nike', 'color': 'black', 'size': '43'},\n",
       " {'brand': 'Nike', 'color': 'pink', 'size': '36'},\n",
       " {'brand': 'New Balance', 'color': 'white', 'size': '39'},\n",
       " {'brand': 'Nike', 'color': 'black', 'size': '42'},\n",
       " {'brand': 'Adidas', 'color': 'black', 'size': '41'},\n",
       " {'brand': 'New Balance', 'color': 'orange', 'size': '40'},\n",
       " {'brand': 'New Balance', 'color': 'black', 'size': '40'},\n",
       " {'brand': 'Nike', 'color': 'white', 'size': '37'},\n",
       " {'brand': 'Adidas', 'color': 'black', 'size': '39'},\n",
       " {'brand': 'Adidas', 'color': 'black', 'size': '40'},\n",
       " {'brand': 'Adidas', 'color': 'orange', 'size': '38'},\n",
       " {'brand': 'New Balance', 'color': 'orange', 'size': '39'},\n",
       " {'brand': 'Nike', 'color': 'black', 'size': '35'},\n",
       " {'brand': 'Adidas', 'color': 'white', 'size': '39'},\n",
       " {'brand': 'Nike', 'color': 'white', 'size': '37'},\n",
       " {'brand': 'Adidas', 'color': 'orange', 'size': '37'},\n",
       " {'brand': 'Adidas', 'color': 'pink', 'size': '35'},\n",
       " {'brand': 'New Balance', 'color': 'orange', 'size': '41'},\n",
       " {'brand': 'Nike', 'color': 'pink', 'size': '44'},\n",
       " {'brand': 'Nike', 'color': 'pink', 'size': '38'},\n",
       " {'brand': 'Adidas', 'color': 'black', 'size': '39'},\n",
       " {'brand': 'New Balance', 'color': 'white', 'size': '35'},\n",
       " {'brand': 'Nike', 'color': 'pink', 'size': '40'},\n",
       " {'brand': 'Nike', 'color': 'white', 'size': '44'},\n",
       " {'brand': 'Nike', 'color': 'orange', 'size': '38'},\n",
       " {'brand': 'Adidas', 'color': 'orange', 'size': '42'},\n",
       " {'brand': 'New Balance', 'color': 'orange', 'size': '43'},\n",
       " {'brand': 'Adidas', 'color': 'pink', 'size': '39'},\n",
       " {'brand': 'Adidas', 'color': 'pink', 'size': '41'},\n",
       " {'brand': 'Adidas', 'color': 'pink', 'size': '39'},\n",
       " {'brand': 'Nike', 'color': 'white', 'size': '37'},\n",
       " {'brand': 'Nike', 'color': 'orange', 'size': '38'},\n",
       " {'brand': 'Adidas', 'color': 'orange', 'size': '39'},\n",
       " {'brand': 'Nike', 'color': 'pink', 'size': '40'},\n",
       " {'brand': 'Adidas', 'color': 'white', 'size': '36'},\n",
       " {'brand': 'Nike', 'color': 'orange', 'size': '40'},\n",
       " {'brand': 'New Balance', 'color': 'pink', 'size': '40'},\n",
       " {'brand': 'New Balance', 'color': 'black', 'size': '40'},\n",
       " {'brand': 'New Balance', 'color': 'pink', 'size': '40'},\n",
       " {'brand': 'Adidas', 'color': 'pink', 'size': '41'},\n",
       " {'brand': 'Nike', 'color': 'pink', 'size': '40'},\n",
       " {'brand': 'Nike', 'color': 'black', 'size': '41'},\n",
       " {'brand': 'Nike', 'color': 'black', 'size': '39'},\n",
       " {'brand': 'New Balance', 'color': 'white', 'size': '38'},\n",
       " {'brand': 'Adidas', 'color': 'black', 'size': '41'},\n",
       " {'brand': 'Nike', 'color': 'orange', 'size': '36'},\n",
       " {'brand': 'Nike', 'color': 'black', 'size': '38'},\n",
       " {'brand': 'New Balance', 'color': 'black', 'size': '40'},\n",
       " {'brand': 'New Balance', 'color': 'pink', 'size': '40'},\n",
       " {'brand': 'Adidas', 'color': 'black', 'size': '42'},\n",
       " {'brand': 'Adidas', 'color': 'white', 'size': '40'},\n",
       " {'brand': 'New Balance', 'color': 'orange', 'size': '38'},\n",
       " {'brand': 'Nike', 'color': 'pink', 'size': '41'},\n",
       " {'brand': 'Adidas', 'color': 'orange', 'size': '37'},\n",
       " {'brand': 'Nike', 'color': 'black', 'size': '44'},\n",
       " {'brand': 'Adidas', 'color': 'pink', 'size': '36'},\n",
       " {'brand': 'Adidas', 'color': 'white', 'size': '35'},\n",
       " {'brand': 'Nike', 'color': 'black', 'size': '38'},\n",
       " {'brand': 'Nike', 'color': 'pink', 'size': '42'},\n",
       " {'brand': 'New Balance', 'color': 'black', 'size': '43'},\n",
       " {'brand': 'Nike', 'color': 'white', 'size': '38'},\n",
       " {'brand': 'New Balance', 'color': 'pink', 'size': '39'},\n",
       " {'brand': 'Nike', 'color': 'orange', 'size': '39'},\n",
       " {'brand': 'New Balance', 'color': 'orange', 'size': '40'},\n",
       " {'brand': 'New Balance', 'color': 'white', 'size': '44'},\n",
       " {'brand': 'Adidas', 'color': 'black', 'size': '42'},\n",
       " {'brand': 'Nike', 'color': 'black', 'size': '35'}]"
      ]
     },
     "execution_count": 64,
     "metadata": {},
     "output_type": "execute_result"
    }
   ],
   "source": [
    "def line_to_dict(one_line):\n",
    "    brand, color, size = one_line.strip().split('\\t')\n",
    "    \n",
    "    return {'brand': brand,\n",
    "           'color': color,\n",
    "           'size': size}\n",
    "\n",
    "[line_to_dict(one_line)\n",
    " for one_line in open('shoe-data.txt')]"
   ]
  },
  {
   "cell_type": "code",
   "execution_count": 67,
   "id": "aa9716ec",
   "metadata": {},
   "outputs": [
    {
     "data": {
      "text/plain": [
       "[{'brand': 'Adidas', 'color': 'orange', 'size': '43'},\n",
       " {'brand': 'Nike', 'color': 'black', 'size': '41'},\n",
       " {'brand': 'Adidas', 'color': 'black', 'size': '39'},\n",
       " {'brand': 'New Balance', 'color': 'pink', 'size': '41'},\n",
       " {'brand': 'Nike', 'color': 'white', 'size': '44'},\n",
       " {'brand': 'New Balance', 'color': 'orange', 'size': '38'},\n",
       " {'brand': 'Nike', 'color': 'pink', 'size': '44'},\n",
       " {'brand': 'Adidas', 'color': 'pink', 'size': '44'},\n",
       " {'brand': 'New Balance', 'color': 'orange', 'size': '39'},\n",
       " {'brand': 'New Balance', 'color': 'black', 'size': '43'},\n",
       " {'brand': 'New Balance', 'color': 'orange', 'size': '44'},\n",
       " {'brand': 'Nike', 'color': 'black', 'size': '41'},\n",
       " {'brand': 'Adidas', 'color': 'orange', 'size': '37'},\n",
       " {'brand': 'Adidas', 'color': 'black', 'size': '38'},\n",
       " {'brand': 'Adidas', 'color': 'pink', 'size': '41'},\n",
       " {'brand': 'Adidas', 'color': 'white', 'size': '36'},\n",
       " {'brand': 'Adidas', 'color': 'orange', 'size': '36'},\n",
       " {'brand': 'Nike', 'color': 'pink', 'size': '41'},\n",
       " {'brand': 'Adidas', 'color': 'pink', 'size': '35'},\n",
       " {'brand': 'New Balance', 'color': 'orange', 'size': '37'},\n",
       " {'brand': 'Nike', 'color': 'pink', 'size': '43'},\n",
       " {'brand': 'Nike', 'color': 'black', 'size': '43'},\n",
       " {'brand': 'Nike', 'color': 'black', 'size': '42'},\n",
       " {'brand': 'Nike', 'color': 'black', 'size': '35'},\n",
       " {'brand': 'Adidas', 'color': 'black', 'size': '41'},\n",
       " {'brand': 'New Balance', 'color': 'pink', 'size': '40'},\n",
       " {'brand': 'Adidas', 'color': 'white', 'size': '35'},\n",
       " {'brand': 'New Balance', 'color': 'pink', 'size': '41'},\n",
       " {'brand': 'New Balance', 'color': 'orange', 'size': '41'},\n",
       " {'brand': 'Adidas', 'color': 'orange', 'size': '40'},\n",
       " {'brand': 'New Balance', 'color': 'orange', 'size': '40'},\n",
       " {'brand': 'New Balance', 'color': 'white', 'size': '44'},\n",
       " {'brand': 'New Balance', 'color': 'pink', 'size': '40'},\n",
       " {'brand': 'Nike', 'color': 'black', 'size': '43'},\n",
       " {'brand': 'Nike', 'color': 'pink', 'size': '36'},\n",
       " {'brand': 'New Balance', 'color': 'white', 'size': '39'},\n",
       " {'brand': 'Nike', 'color': 'black', 'size': '42'},\n",
       " {'brand': 'Adidas', 'color': 'black', 'size': '41'},\n",
       " {'brand': 'New Balance', 'color': 'orange', 'size': '40'},\n",
       " {'brand': 'New Balance', 'color': 'black', 'size': '40'},\n",
       " {'brand': 'Nike', 'color': 'white', 'size': '37'},\n",
       " {'brand': 'Adidas', 'color': 'black', 'size': '39'},\n",
       " {'brand': 'Adidas', 'color': 'black', 'size': '40'},\n",
       " {'brand': 'Adidas', 'color': 'orange', 'size': '38'},\n",
       " {'brand': 'New Balance', 'color': 'orange', 'size': '39'},\n",
       " {'brand': 'Nike', 'color': 'black', 'size': '35'},\n",
       " {'brand': 'Adidas', 'color': 'white', 'size': '39'},\n",
       " {'brand': 'Nike', 'color': 'white', 'size': '37'},\n",
       " {'brand': 'Adidas', 'color': 'orange', 'size': '37'},\n",
       " {'brand': 'Adidas', 'color': 'pink', 'size': '35'},\n",
       " {'brand': 'New Balance', 'color': 'orange', 'size': '41'},\n",
       " {'brand': 'Nike', 'color': 'pink', 'size': '44'},\n",
       " {'brand': 'Nike', 'color': 'pink', 'size': '38'},\n",
       " {'brand': 'Adidas', 'color': 'black', 'size': '39'},\n",
       " {'brand': 'New Balance', 'color': 'white', 'size': '35'},\n",
       " {'brand': 'Nike', 'color': 'pink', 'size': '40'},\n",
       " {'brand': 'Nike', 'color': 'white', 'size': '44'},\n",
       " {'brand': 'Nike', 'color': 'orange', 'size': '38'},\n",
       " {'brand': 'Adidas', 'color': 'orange', 'size': '42'},\n",
       " {'brand': 'New Balance', 'color': 'orange', 'size': '43'},\n",
       " {'brand': 'Adidas', 'color': 'pink', 'size': '39'},\n",
       " {'brand': 'Adidas', 'color': 'pink', 'size': '41'},\n",
       " {'brand': 'Adidas', 'color': 'pink', 'size': '39'},\n",
       " {'brand': 'Nike', 'color': 'white', 'size': '37'},\n",
       " {'brand': 'Nike', 'color': 'orange', 'size': '38'},\n",
       " {'brand': 'Adidas', 'color': 'orange', 'size': '39'},\n",
       " {'brand': 'Nike', 'color': 'pink', 'size': '40'},\n",
       " {'brand': 'Adidas', 'color': 'white', 'size': '36'},\n",
       " {'brand': 'Nike', 'color': 'orange', 'size': '40'},\n",
       " {'brand': 'New Balance', 'color': 'pink', 'size': '40'},\n",
       " {'brand': 'New Balance', 'color': 'black', 'size': '40'},\n",
       " {'brand': 'New Balance', 'color': 'pink', 'size': '40'},\n",
       " {'brand': 'Adidas', 'color': 'pink', 'size': '41'},\n",
       " {'brand': 'Nike', 'color': 'pink', 'size': '40'},\n",
       " {'brand': 'Nike', 'color': 'black', 'size': '41'},\n",
       " {'brand': 'Nike', 'color': 'black', 'size': '39'},\n",
       " {'brand': 'New Balance', 'color': 'white', 'size': '38'},\n",
       " {'brand': 'Adidas', 'color': 'black', 'size': '41'},\n",
       " {'brand': 'Nike', 'color': 'orange', 'size': '36'},\n",
       " {'brand': 'Nike', 'color': 'black', 'size': '38'},\n",
       " {'brand': 'New Balance', 'color': 'black', 'size': '40'},\n",
       " {'brand': 'New Balance', 'color': 'pink', 'size': '40'},\n",
       " {'brand': 'Adidas', 'color': 'black', 'size': '42'},\n",
       " {'brand': 'Adidas', 'color': 'white', 'size': '40'},\n",
       " {'brand': 'New Balance', 'color': 'orange', 'size': '38'},\n",
       " {'brand': 'Nike', 'color': 'pink', 'size': '41'},\n",
       " {'brand': 'Adidas', 'color': 'orange', 'size': '37'},\n",
       " {'brand': 'Nike', 'color': 'black', 'size': '44'},\n",
       " {'brand': 'Adidas', 'color': 'pink', 'size': '36'},\n",
       " {'brand': 'Adidas', 'color': 'white', 'size': '35'},\n",
       " {'brand': 'Nike', 'color': 'black', 'size': '38'},\n",
       " {'brand': 'Nike', 'color': 'pink', 'size': '42'},\n",
       " {'brand': 'New Balance', 'color': 'black', 'size': '43'},\n",
       " {'brand': 'Nike', 'color': 'white', 'size': '38'},\n",
       " {'brand': 'New Balance', 'color': 'pink', 'size': '39'},\n",
       " {'brand': 'Nike', 'color': 'orange', 'size': '39'},\n",
       " {'brand': 'New Balance', 'color': 'orange', 'size': '40'},\n",
       " {'brand': 'New Balance', 'color': 'white', 'size': '44'},\n",
       " {'brand': 'Adidas', 'color': 'black', 'size': '42'},\n",
       " {'brand': 'Nike', 'color': 'black', 'size': '35'}]"
      ]
     },
     "execution_count": 67,
     "metadata": {},
     "output_type": "execute_result"
    }
   ],
   "source": [
    "# other way to do this -- warning! short code\n",
    "\n",
    "def line_to_dict(one_line):\n",
    "    return dict(zip(['brand', 'color', 'size'],\n",
    "                   one_line.strip().split('\\t')))\n",
    "\n",
    "\n",
    "[line_to_dict(one_line)\n",
    " for one_line in open('shoe-data.txt')]"
   ]
  },
  {
   "cell_type": "code",
   "execution_count": 66,
   "id": "f9beeae5",
   "metadata": {},
   "outputs": [
    {
     "data": {
      "text/plain": [
       "[('a', 10), ('b', 20), ('c', 30)]"
      ]
     },
     "execution_count": 66,
     "metadata": {},
     "output_type": "execute_result"
    }
   ],
   "source": [
    "list(zip('abc', [10,20, 30]))"
   ]
  },
  {
   "cell_type": "code",
   "execution_count": 68,
   "id": "207cb722",
   "metadata": {},
   "outputs": [
    {
     "data": {
      "text/plain": [
       "[{'brand': 'Adidas', 'color': 'orange', 'size': '43'},\n",
       " {'brand': 'Nike', 'color': 'black', 'size': '41'},\n",
       " {'brand': 'Adidas', 'color': 'black', 'size': '39'},\n",
       " {'brand': 'New Balance', 'color': 'pink', 'size': '41'},\n",
       " {'brand': 'Nike', 'color': 'white', 'size': '44'},\n",
       " {'brand': 'New Balance', 'color': 'orange', 'size': '38'},\n",
       " {'brand': 'Nike', 'color': 'pink', 'size': '44'},\n",
       " {'brand': 'Adidas', 'color': 'pink', 'size': '44'},\n",
       " {'brand': 'New Balance', 'color': 'orange', 'size': '39'},\n",
       " {'brand': 'New Balance', 'color': 'black', 'size': '43'},\n",
       " {'brand': 'New Balance', 'color': 'orange', 'size': '44'},\n",
       " {'brand': 'Nike', 'color': 'black', 'size': '41'},\n",
       " {'brand': 'Adidas', 'color': 'orange', 'size': '37'},\n",
       " {'brand': 'Adidas', 'color': 'black', 'size': '38'},\n",
       " {'brand': 'Adidas', 'color': 'pink', 'size': '41'},\n",
       " {'brand': 'Adidas', 'color': 'white', 'size': '36'},\n",
       " {'brand': 'Adidas', 'color': 'orange', 'size': '36'},\n",
       " {'brand': 'Nike', 'color': 'pink', 'size': '41'},\n",
       " {'brand': 'Adidas', 'color': 'pink', 'size': '35'},\n",
       " {'brand': 'New Balance', 'color': 'orange', 'size': '37'},\n",
       " {'brand': 'Nike', 'color': 'pink', 'size': '43'},\n",
       " {'brand': 'Nike', 'color': 'black', 'size': '43'},\n",
       " {'brand': 'Nike', 'color': 'black', 'size': '42'},\n",
       " {'brand': 'Nike', 'color': 'black', 'size': '35'},\n",
       " {'brand': 'Adidas', 'color': 'black', 'size': '41'},\n",
       " {'brand': 'New Balance', 'color': 'pink', 'size': '40'},\n",
       " {'brand': 'Adidas', 'color': 'white', 'size': '35'},\n",
       " {'brand': 'New Balance', 'color': 'pink', 'size': '41'},\n",
       " {'brand': 'New Balance', 'color': 'orange', 'size': '41'},\n",
       " {'brand': 'Adidas', 'color': 'orange', 'size': '40'},\n",
       " {'brand': 'New Balance', 'color': 'orange', 'size': '40'},\n",
       " {'brand': 'New Balance', 'color': 'white', 'size': '44'},\n",
       " {'brand': 'New Balance', 'color': 'pink', 'size': '40'},\n",
       " {'brand': 'Nike', 'color': 'black', 'size': '43'},\n",
       " {'brand': 'Nike', 'color': 'pink', 'size': '36'},\n",
       " {'brand': 'New Balance', 'color': 'white', 'size': '39'},\n",
       " {'brand': 'Nike', 'color': 'black', 'size': '42'},\n",
       " {'brand': 'Adidas', 'color': 'black', 'size': '41'},\n",
       " {'brand': 'New Balance', 'color': 'orange', 'size': '40'},\n",
       " {'brand': 'New Balance', 'color': 'black', 'size': '40'},\n",
       " {'brand': 'Nike', 'color': 'white', 'size': '37'},\n",
       " {'brand': 'Adidas', 'color': 'black', 'size': '39'},\n",
       " {'brand': 'Adidas', 'color': 'black', 'size': '40'},\n",
       " {'brand': 'Adidas', 'color': 'orange', 'size': '38'},\n",
       " {'brand': 'New Balance', 'color': 'orange', 'size': '39'},\n",
       " {'brand': 'Nike', 'color': 'black', 'size': '35'},\n",
       " {'brand': 'Adidas', 'color': 'white', 'size': '39'},\n",
       " {'brand': 'Nike', 'color': 'white', 'size': '37'},\n",
       " {'brand': 'Adidas', 'color': 'orange', 'size': '37'},\n",
       " {'brand': 'Adidas', 'color': 'pink', 'size': '35'},\n",
       " {'brand': 'New Balance', 'color': 'orange', 'size': '41'},\n",
       " {'brand': 'Nike', 'color': 'pink', 'size': '44'},\n",
       " {'brand': 'Nike', 'color': 'pink', 'size': '38'},\n",
       " {'brand': 'Adidas', 'color': 'black', 'size': '39'},\n",
       " {'brand': 'New Balance', 'color': 'white', 'size': '35'},\n",
       " {'brand': 'Nike', 'color': 'pink', 'size': '40'},\n",
       " {'brand': 'Nike', 'color': 'white', 'size': '44'},\n",
       " {'brand': 'Nike', 'color': 'orange', 'size': '38'},\n",
       " {'brand': 'Adidas', 'color': 'orange', 'size': '42'},\n",
       " {'brand': 'New Balance', 'color': 'orange', 'size': '43'},\n",
       " {'brand': 'Adidas', 'color': 'pink', 'size': '39'},\n",
       " {'brand': 'Adidas', 'color': 'pink', 'size': '41'},\n",
       " {'brand': 'Adidas', 'color': 'pink', 'size': '39'},\n",
       " {'brand': 'Nike', 'color': 'white', 'size': '37'},\n",
       " {'brand': 'Nike', 'color': 'orange', 'size': '38'},\n",
       " {'brand': 'Adidas', 'color': 'orange', 'size': '39'},\n",
       " {'brand': 'Nike', 'color': 'pink', 'size': '40'},\n",
       " {'brand': 'Adidas', 'color': 'white', 'size': '36'},\n",
       " {'brand': 'Nike', 'color': 'orange', 'size': '40'},\n",
       " {'brand': 'New Balance', 'color': 'pink', 'size': '40'},\n",
       " {'brand': 'New Balance', 'color': 'black', 'size': '40'},\n",
       " {'brand': 'New Balance', 'color': 'pink', 'size': '40'},\n",
       " {'brand': 'Adidas', 'color': 'pink', 'size': '41'},\n",
       " {'brand': 'Nike', 'color': 'pink', 'size': '40'},\n",
       " {'brand': 'Nike', 'color': 'black', 'size': '41'},\n",
       " {'brand': 'Nike', 'color': 'black', 'size': '39'},\n",
       " {'brand': 'New Balance', 'color': 'white', 'size': '38'},\n",
       " {'brand': 'Adidas', 'color': 'black', 'size': '41'},\n",
       " {'brand': 'Nike', 'color': 'orange', 'size': '36'},\n",
       " {'brand': 'Nike', 'color': 'black', 'size': '38'},\n",
       " {'brand': 'New Balance', 'color': 'black', 'size': '40'},\n",
       " {'brand': 'New Balance', 'color': 'pink', 'size': '40'},\n",
       " {'brand': 'Adidas', 'color': 'black', 'size': '42'},\n",
       " {'brand': 'Adidas', 'color': 'white', 'size': '40'},\n",
       " {'brand': 'New Balance', 'color': 'orange', 'size': '38'},\n",
       " {'brand': 'Nike', 'color': 'pink', 'size': '41'},\n",
       " {'brand': 'Adidas', 'color': 'orange', 'size': '37'},\n",
       " {'brand': 'Nike', 'color': 'black', 'size': '44'},\n",
       " {'brand': 'Adidas', 'color': 'pink', 'size': '36'},\n",
       " {'brand': 'Adidas', 'color': 'white', 'size': '35'},\n",
       " {'brand': 'Nike', 'color': 'black', 'size': '38'},\n",
       " {'brand': 'Nike', 'color': 'pink', 'size': '42'},\n",
       " {'brand': 'New Balance', 'color': 'black', 'size': '43'},\n",
       " {'brand': 'Nike', 'color': 'white', 'size': '38'},\n",
       " {'brand': 'New Balance', 'color': 'pink', 'size': '39'},\n",
       " {'brand': 'Nike', 'color': 'orange', 'size': '39'},\n",
       " {'brand': 'New Balance', 'color': 'orange', 'size': '40'},\n",
       " {'brand': 'New Balance', 'color': 'white', 'size': '44'},\n",
       " {'brand': 'Adidas', 'color': 'black', 'size': '42'},\n",
       " {'brand': 'Nike', 'color': 'black', 'size': '35'}]"
      ]
     },
     "execution_count": 68,
     "metadata": {},
     "output_type": "execute_result"
    }
   ],
   "source": [
    "# return the expression to the comprehension... at your own professional risk\n",
    "\n",
    "[ dict(zip(['brand', 'color', 'size'],\n",
    "           one_line.strip().split('\\t')))\n",
    " for one_line in open('shoe-data.txt')]"
   ]
  },
  {
   "cell_type": "code",
   "execution_count": 70,
   "id": "c01a1e1c",
   "metadata": {},
   "outputs": [
    {
     "data": {
      "text/plain": [
       "[(10, 100), (20, 200), (30, 300)]"
      ]
     },
     "execution_count": 70,
     "metadata": {},
     "output_type": "execute_result"
    }
   ],
   "source": [
    "list(zip([10, 20, 30], (100, 200, 300)))"
   ]
  },
  {
   "cell_type": "code",
   "execution_count": 74,
   "id": "156803f9",
   "metadata": {},
   "outputs": [
    {
     "data": {
      "text/plain": [
       "[(10, 100, 'w'), (20, 200, 'x'), (30, 300, 'y')]"
      ]
     },
     "execution_count": 74,
     "metadata": {},
     "output_type": "execute_result"
    }
   ],
   "source": [
    "# normally, zip stops at the shortest argument's length\n",
    "list(zip([10, 20, 30], (100, 200, 300), 'wxyz'))"
   ]
  },
  {
   "cell_type": "code",
   "execution_count": 73,
   "id": "74ac508c",
   "metadata": {},
   "outputs": [
    {
     "ename": "ValueError",
     "evalue": "zip() argument 3 is longer than arguments 1-2",
     "output_type": "error",
     "traceback": [
      "\u001b[0;31m---------------------------------------------------------------------------\u001b[0m",
      "\u001b[0;31mValueError\u001b[0m                                Traceback (most recent call last)",
      "\u001b[0;32m/var/folders/rr/0mnyyv811fs5vyp22gf4fxk00000gn/T/ipykernel_82208/4093850914.py\u001b[0m in \u001b[0;36m<module>\u001b[0;34m\u001b[0m\n\u001b[1;32m      1\u001b[0m \u001b[0;31m# new in Python 3.10\u001b[0m\u001b[0;34m\u001b[0m\u001b[0;34m\u001b[0m\u001b[0m\n\u001b[0;32m----> 2\u001b[0;31m \u001b[0mlist\u001b[0m\u001b[0;34m(\u001b[0m\u001b[0mzip\u001b[0m\u001b[0;34m(\u001b[0m\u001b[0;34m[\u001b[0m\u001b[0;36m10\u001b[0m\u001b[0;34m,\u001b[0m \u001b[0;36m20\u001b[0m\u001b[0;34m,\u001b[0m \u001b[0;36m30\u001b[0m\u001b[0;34m]\u001b[0m\u001b[0;34m,\u001b[0m \u001b[0;34m(\u001b[0m\u001b[0;36m100\u001b[0m\u001b[0;34m,\u001b[0m \u001b[0;36m200\u001b[0m\u001b[0;34m,\u001b[0m \u001b[0;36m300\u001b[0m\u001b[0;34m)\u001b[0m\u001b[0;34m,\u001b[0m \u001b[0;34m'wxyz'\u001b[0m\u001b[0;34m,\u001b[0m \u001b[0mstrict\u001b[0m\u001b[0;34m=\u001b[0m\u001b[0;32mTrue\u001b[0m\u001b[0;34m)\u001b[0m\u001b[0;34m)\u001b[0m\u001b[0;34m\u001b[0m\u001b[0;34m\u001b[0m\u001b[0m\n\u001b[0m",
      "\u001b[0;31mValueError\u001b[0m: zip() argument 3 is longer than arguments 1-2"
     ]
    }
   ],
   "source": [
    "# new in Python 3.10\n",
    "list(zip([10, 20, 30], (100, 200, 300), 'wxyz', strict=True))"
   ]
  },
  {
   "cell_type": "markdown",
   "id": "bec3cc88",
   "metadata": {},
   "source": [
    "# Next up\n",
    "\n",
    "1. Comprehensions\n",
    "    1. Set comprehension\n",
    "    2. Dict comprehension\n",
    "    3. Nested comprehensions\n",
    "2. Sorting in Python, and passing functions as args\n",
    "\n",
    "Resume at 11:05"
   ]
  },
  {
   "cell_type": "code",
   "execution_count": 75,
   "id": "29e60a36",
   "metadata": {},
   "outputs": [
    {
     "name": "stdout",
     "output_type": "stream",
     "text": [
      "17 14 16 20 14 22 13 15 22 21 22 14 17 16 15 16 17 13 15 22 13 14 14 14 16 20 16 20 22 17 22 21 20 14 13 21 14 16 22 21 14 16 16 17 22 14 16 14 17 15 22 13 13 16 21 13 14 15 17 22 15 15 15 14 15 17 13 16 15 20 21 20 15 13 14 14 21 16 15 14 21 20 16 16 22 13 17 14 15 16 14 13 21 14 20 15 22 21 16 14 "
     ]
    }
   ],
   "source": [
    "with open('shoe-data.txt') as f:\n",
    "    # f.__enter__()\n",
    "    for one_line in f:\n",
    "        print(len(one_line), end=' ')\n",
    "    # f.__exit__()  # with a file -- flushes + closes"
   ]
  },
  {
   "cell_type": "code",
   "execution_count": null,
   "id": "39804337",
   "metadata": {},
   "outputs": [],
   "source": [
    "def line_to_dict(one_line):\n",
    "    brand, color, size = one_line.strip().split('\\t')\n",
    "    \n",
    "    return {'brand': brand,\n",
    "           'color': color,\n",
    "           'size': size}\n",
    "\n",
    "[line_to_dict(one_line)\n",
    " for one_line in open('shoe-data.txt')]"
   ]
  },
  {
   "cell_type": "code",
   "execution_count": 78,
   "id": "992824cd",
   "metadata": {},
   "outputs": [
    {
     "name": "stdout",
     "output_type": "stream",
     "text": [
      "Enter numbers: 10 20 30 10 20 30\n"
     ]
    },
    {
     "data": {
      "text/plain": [
       "120"
      ]
     },
     "execution_count": 78,
     "metadata": {},
     "output_type": "execute_result"
    }
   ],
   "source": [
    "s = input('Enter numbers: ').strip()\n",
    "\n",
    "sum([int(x)\n",
    " for x in s.split()])"
   ]
  },
  {
   "cell_type": "code",
   "execution_count": 79,
   "id": "68c20c63",
   "metadata": {},
   "outputs": [
    {
     "name": "stdout",
     "output_type": "stream",
     "text": [
      "Enter numbers: 10 20 30 10 20 30\n"
     ]
    },
    {
     "data": {
      "text/plain": [
       "60"
      ]
     },
     "execution_count": 79,
     "metadata": {},
     "output_type": "execute_result"
    }
   ],
   "source": [
    "# sum only the different/unique numbers\n",
    "\n",
    "s = input('Enter numbers: ').strip()\n",
    "\n",
    "sum(set([int(x)\n",
    " for x in s.split()]))"
   ]
  },
  {
   "cell_type": "code",
   "execution_count": 80,
   "id": "0f54d59d",
   "metadata": {},
   "outputs": [
    {
     "data": {
      "text/plain": [
       "{10, 20, 30}"
      ]
     },
     "execution_count": 80,
     "metadata": {},
     "output_type": "execute_result"
    }
   ],
   "source": [
    "# set comprehension!\n",
    "# use {} instead of [], and we get a set back\n",
    "# all elements must be hashable (basically immutable)\n",
    "\n",
    "{int(x)\n",
    "for x in s.split()}\n"
   ]
  },
  {
   "cell_type": "code",
   "execution_count": 81,
   "id": "c7fa4c63",
   "metadata": {},
   "outputs": [
    {
     "name": "stdout",
     "output_type": "stream",
     "text": [
      "# This is a comment\r\n",
      "# You should ignore me\r\n",
      "root:x:0:0:root:/root:/bin/bash\r\n",
      "daemon:x:1:1:daemon:/usr/sbin:/usr/sbin/nologin\r\n",
      "bin:x:2:2:bin:/bin:/usr/sbin/nologin\r\n",
      "sys:x:3:3:sys:/dev:/usr/sbin/nologin\r\n",
      "sync:x:4:65534:sync:/bin:/bin/sync\r\n",
      "games:x:5:60:games:/usr/games:/usr/sbin/nologin\r\n",
      "man:x:6:12:man:/var/cache/man:/usr/sbin/nologin\r\n",
      "lp:x:7:7:lp:/var/spool/lpd:/usr/sbin/nologin\r\n",
      "mail:x:8:8:mail:/var/mail:/usr/sbin/nologin\r\n",
      "\r\n",
      "\r\n",
      "\r\n",
      "news:x:9:9:news:/var/spool/news:/usr/sbin/nologin\r\n",
      "uucp:x:10:10:uucp:/var/spool/uucp:/usr/sbin/nologin\r\n",
      "proxy:x:13:13:proxy:/bin:/usr/sbin/nologin\r\n",
      "www-data:x:33:33:www-data:/var/www:/usr/sbin/nologin\r\n",
      "backup:x:34:34:backup:/var/backups:/usr/sbin/nologin\r\n",
      "list:x:38:38:Mailing List Manager:/var/list:/usr/sbin/nologin\r\n",
      "irc:x:39:39:ircd:/var/run/ircd:/usr/sbin/nologin\r\n",
      "gnats:x:41:41:Gnats Bug-Reporting System (admin):/var/lib/gnats:/usr/sbin/nologin\r\n",
      "\r\n",
      "nobody:x:65534:65534:nobody:/nonexistent:/usr/sbin/nologin\r\n",
      "syslog:x:101:104::/home/syslog:/bin/false\r\n",
      "messagebus:x:102:106::/var/run/dbus:/bin/false\r\n",
      "landscape:x:103:109::/var/lib/landscape:/bin/false\r\n",
      "jci:x:955:955::/home/jci:/bin/bash\r\n",
      "sshd:x:104:65534::/var/run/sshd:/usr/sbin/nologin\r\n",
      "user:x:1000:1000:user,,,:/home/user:/bin/bash\r\n"
     ]
    }
   ],
   "source": [
    "!head -30 linux-etc-passwd.txt"
   ]
  },
  {
   "cell_type": "markdown",
   "id": "834bea82",
   "metadata": {},
   "source": [
    "# Exercise: What shells?\n",
    "\n",
    "1. On each line of a passwd file, we have a record describing a user.  The final field is the \"shell,\" the command interpreter.\n",
    "2. Use a set comprehension to find the different shells in `linux-etc-passwd.txt.`\n",
    "3. Note that the file contains both comment lines (starting with `#` and blank/empty lines)!  Ignore these two types of lines."
   ]
  },
  {
   "cell_type": "code",
   "execution_count": 85,
   "id": "692a73f3",
   "metadata": {},
   "outputs": [
    {
     "data": {
      "text/plain": [
       "['root:x:0:0:root:/root:/bin/bash\\n',\n",
       " 'daemon:x:1:1:daemon:/usr/sbin:/usr/sbin/nologin\\n',\n",
       " 'bin:x:2:2:bin:/bin:/usr/sbin/nologin\\n',\n",
       " 'sys:x:3:3:sys:/dev:/usr/sbin/nologin\\n',\n",
       " 'sync:x:4:65534:sync:/bin:/bin/sync\\n',\n",
       " 'games:x:5:60:games:/usr/games:/usr/sbin/nologin\\n',\n",
       " 'man:x:6:12:man:/var/cache/man:/usr/sbin/nologin\\n',\n",
       " 'lp:x:7:7:lp:/var/spool/lpd:/usr/sbin/nologin\\n',\n",
       " 'mail:x:8:8:mail:/var/mail:/usr/sbin/nologin\\n',\n",
       " 'news:x:9:9:news:/var/spool/news:/usr/sbin/nologin\\n',\n",
       " 'uucp:x:10:10:uucp:/var/spool/uucp:/usr/sbin/nologin\\n',\n",
       " 'proxy:x:13:13:proxy:/bin:/usr/sbin/nologin\\n',\n",
       " 'www-data:x:33:33:www-data:/var/www:/usr/sbin/nologin\\n',\n",
       " 'backup:x:34:34:backup:/var/backups:/usr/sbin/nologin\\n',\n",
       " 'list:x:38:38:Mailing List Manager:/var/list:/usr/sbin/nologin\\n',\n",
       " 'irc:x:39:39:ircd:/var/run/ircd:/usr/sbin/nologin\\n',\n",
       " 'gnats:x:41:41:Gnats Bug-Reporting System (admin):/var/lib/gnats:/usr/sbin/nologin\\n',\n",
       " 'nobody:x:65534:65534:nobody:/nonexistent:/usr/sbin/nologin\\n',\n",
       " 'syslog:x:101:104::/home/syslog:/bin/false\\n',\n",
       " 'messagebus:x:102:106::/var/run/dbus:/bin/false\\n',\n",
       " 'landscape:x:103:109::/var/lib/landscape:/bin/false\\n',\n",
       " 'jci:x:955:955::/home/jci:/bin/bash\\n',\n",
       " 'sshd:x:104:65534::/var/run/sshd:/usr/sbin/nologin\\n',\n",
       " 'user:x:1000:1000:user,,,:/home/user:/bin/bash\\n',\n",
       " 'reuven:x:1001:1001:Reuven M. Lerner,,,:/home/reuven:/bin/bash\\n',\n",
       " 'postfix:x:105:113::/var/spool/postfix:/bin/false\\n',\n",
       " 'colord:x:106:116:colord colour management daemon,,,:/var/lib/colord:/bin/false\\n',\n",
       " 'postgres:x:107:117:PostgreSQL administrator,,,:/var/lib/postgresql:/bin/bash\\n',\n",
       " 'dovecot:x:108:119:Dovecot mail server,,,:/usr/lib/dovecot:/bin/false\\n',\n",
       " 'dovenull:x:109:120:Dovecot login user,,,:/nonexistent:/bin/false\\n',\n",
       " 'postgrey:x:110:121::/var/lib/postgrey:/bin/false\\n',\n",
       " 'debian-spamd:x:111:122::/var/lib/spamassassin:/bin/sh\\n',\n",
       " 'memcache:x:113:124:Memcached,,,:/nonexistent:/bin/false\\n',\n",
       " 'genadi:x:1002:1003:Genadi Reznichenko,,,:/home/genadi:/bin/bash\\n',\n",
       " 'shira:x:1003:1004:Shira Friedman,,,:/home/shira:/bin/bash\\n',\n",
       " 'atara:x:1004:1005:Atara Lerner-Friedman,,,:/home/atara:/bin/bash\\n',\n",
       " 'shikma:x:1005:1006:Shikma Lerner-Friedman,,,:/home/shikma:/bin/bash\\n',\n",
       " 'amotz:x:1006:1007:Amotz Lerner-Friedman,,,:/home/amotz:/bin/bash\\n',\n",
       " 'mysql:x:114:125:MySQL Server,,,:/nonexistent:/bin/false\\n',\n",
       " 'clamav:x:115:126::/var/lib/clamav:/bin/false\\n',\n",
       " 'amavis:x:116:127:AMaViS system user,,,:/var/lib/amavis:/bin/sh\\n',\n",
       " 'opendkim:x:117:128::/var/run/opendkim:/bin/false\\n',\n",
       " 'gitlab-redis:x:999:1009::/var/opt/gitlab/redis:/bin/nologin\\n',\n",
       " 'gitlab-psql:x:998:1010::/var/opt/gitlab/postgresql:/bin/sh\\n',\n",
       " 'git:x:1007:1008:GitLab,,,:/home/git:/bin/bash\\n',\n",
       " 'opendmarc:x:118:129::/var/run/opendmarc:/bin/false\\n',\n",
       " 'dkim-milter-python:x:119:130::/var/run/dkim-milter-python:/bin/false\\n',\n",
       " 'deploy:x:1008:1011:Deploy,,,:/home/deploy:/bin/bash\\n',\n",
       " 'redis:x:112:123:redis server,,,:/var/lib/redis:/bin/false\\n']"
      ]
     },
     "execution_count": 85,
     "metadata": {},
     "output_type": "execute_result"
    }
   ],
   "source": [
    "[one_line\n",
    "  for one_line in open('linux-etc-passwd.txt')\n",
    "  if not one_line.startswith('#') and one_line.strip()]"
   ]
  },
  {
   "cell_type": "code",
   "execution_count": 94,
   "id": "bd7aaedc",
   "metadata": {},
   "outputs": [
    {
     "data": {
      "text/plain": [
       "{'/bin/bash',\n",
       " '/bin/false',\n",
       " '/bin/nologin',\n",
       " '/bin/sh',\n",
       " '/bin/sync',\n",
       " '/usr/sbin/nologin'}"
      ]
     },
     "execution_count": 94,
     "metadata": {},
     "output_type": "execute_result"
    }
   ],
   "source": [
    "# set comprehension showing different shells from linux-etc-passwd.txt\n",
    "{one_line.split(':')[-1].strip()\n",
    "  for one_line in open('linux-etc-passwd.txt')\n",
    "  if not one_line.startswith(('#', '\\n'))}  # startswith can take a string, or a tuple of strings"
   ]
  },
  {
   "cell_type": "code",
   "execution_count": 97,
   "id": "7fe52473",
   "metadata": {},
   "outputs": [
    {
     "data": {
      "text/plain": [
       "{'this': 4,\n",
       " 'is': 2,\n",
       " 'a': 1,\n",
       " 'bunch': 5,\n",
       " 'of': 2,\n",
       " 'words': 5,\n",
       " 'and': 3,\n",
       " 'great': 5,\n",
       " 'example': 7}"
      ]
     },
     "execution_count": 97,
     "metadata": {},
     "output_type": "execute_result"
    }
   ],
   "source": [
    "# dict comprehension\n",
    "# creates one dict; the expression describes/defines one key-value pair\n",
    "\n",
    "words = 'this is a bunch of words and is a great example'.split()\n",
    "\n",
    "{ one_word : len(one_word)     # two separate expressions -- one for the key, one for the value\n",
    " for one_word in words }"
   ]
  },
  {
   "cell_type": "code",
   "execution_count": 98,
   "id": "c4ee30a7",
   "metadata": {},
   "outputs": [
    {
     "data": {
      "text/plain": [
       "{1: 'a', 2: 'b', 3: 'c'}"
      ]
     },
     "execution_count": 98,
     "metadata": {},
     "output_type": "execute_result"
    }
   ],
   "source": [
    "# flip a dict\n",
    "\n",
    "d = {'a':1, 'b':2, 'c':3}\n",
    "\n",
    "{ value : key\n",
    "  for key, value in d.items() \n",
    "}\n"
   ]
  },
  {
   "cell_type": "code",
   "execution_count": 100,
   "id": "b9b0dac1",
   "metadata": {},
   "outputs": [
    {
     "data": {
      "text/plain": [
       "{1: 'a', 2: 'g', 3: 'f', 4: 'e'}"
      ]
     },
     "execution_count": 100,
     "metadata": {},
     "output_type": "execute_result"
    }
   ],
   "source": [
    "# flip a dict\n",
    "\n",
    "d = {'a':1, 'b':2, 'c':3, 'd':4, 'e':4, 'f':3, 'g':2}\n",
    "\n",
    "{ value : key\n",
    "  for key, value in d.items() \n",
    "}\n"
   ]
  },
  {
   "cell_type": "code",
   "execution_count": 99,
   "id": "e88d2707",
   "metadata": {},
   "outputs": [
    {
     "name": "stdout",
     "output_type": "stream",
     "text": [
      "myconf.txt\r\n"
     ]
    }
   ],
   "source": [
    "!ls *conf*"
   ]
  },
  {
   "cell_type": "code",
   "execution_count": 102,
   "id": "4674a731",
   "metadata": {},
   "outputs": [
    {
     "name": "stdout",
     "output_type": "stream",
     "text": [
      "a:10\r\n",
      "b:20\r\n",
      "c:30\r\n"
     ]
    }
   ],
   "source": [
    "!cat myconf.txt"
   ]
  },
  {
   "cell_type": "code",
   "execution_count": 103,
   "id": "091f4045",
   "metadata": {},
   "outputs": [
    {
     "data": {
      "text/plain": [
       "{'a': '10', 'b': '20', 'c': '30'}"
      ]
     },
     "execution_count": 103,
     "metadata": {},
     "output_type": "execute_result"
    }
   ],
   "source": [
    "# read from the config file via a dict comprehension\n",
    "\n",
    "{ one_line.split(':')[0]  :  one_line.split(':')[1].strip()\n",
    " for one_line in open('myconf.txt')\n",
    "}"
   ]
  },
  {
   "cell_type": "code",
   "execution_count": 106,
   "id": "b9f82a37",
   "metadata": {},
   "outputs": [
    {
     "data": {
      "text/plain": [
       "{'a': '10', 'b': '20', 'c': '30'}"
      ]
     },
     "execution_count": 106,
     "metadata": {},
     "output_type": "execute_result"
    }
   ],
   "source": [
    "# if you really insist, we can use := to share data\n",
    "\n",
    "# := walrus (assignment expression operator)\n",
    "\n",
    "\n",
    "{ fields[0]  :  fields[1]\n",
    " for one_line in open('myconf.txt')\n",
    " if (fields := one_line.strip().split(':'))\n",
    "}"
   ]
  },
  {
   "cell_type": "markdown",
   "id": "985ce6f7",
   "metadata": {},
   "source": [
    "# Exercise: Usernames and user IDs\n",
    "\n",
    "Use a dict comprehension on `linux-etc-passwd.txt` to create a dict where the usernames (index 0) are keys and the user ID (index 2) numbers are values."
   ]
  },
  {
   "cell_type": "code",
   "execution_count": 107,
   "id": "594a353c",
   "metadata": {},
   "outputs": [
    {
     "name": "stdout",
     "output_type": "stream",
     "text": [
      "# This is a comment\r\n",
      "# You should ignore me\r\n",
      "root:x:0:0:root:/root:/bin/bash\r\n",
      "daemon:x:1:1:daemon:/usr/sbin:/usr/sbin/nologin\r\n",
      "bin:x:2:2:bin:/bin:/usr/sbin/nologin\r\n",
      "sys:x:3:3:sys:/dev:/usr/sbin/nologin\r\n",
      "sync:x:4:65534:sync:/bin:/bin/sync\r\n",
      "games:x:5:60:games:/usr/games:/usr/sbin/nologin\r\n",
      "man:x:6:12:man:/var/cache/man:/usr/sbin/nologin\r\n",
      "lp:x:7:7:lp:/var/spool/lpd:/usr/sbin/nologin\r\n"
     ]
    }
   ],
   "source": [
    "!head linux-etc-passwd.txt"
   ]
  },
  {
   "cell_type": "code",
   "execution_count": 112,
   "id": "45fcb9b5",
   "metadata": {},
   "outputs": [
    {
     "data": {
      "text/plain": [
       "{'root': ['0', '0'],\n",
       " 'daemon': ['1', '1'],\n",
       " 'bin': ['2', '2'],\n",
       " 'sys': ['3', '3'],\n",
       " 'sync': ['4', '65534'],\n",
       " 'games': ['5', '60'],\n",
       " 'man': ['6', '12'],\n",
       " 'lp': ['7', '7'],\n",
       " 'mail': ['8', '8'],\n",
       " 'news': ['9', '9'],\n",
       " 'uucp': ['10', '10'],\n",
       " 'proxy': ['13', '13'],\n",
       " 'www-data': ['33', '33'],\n",
       " 'backup': ['34', '34'],\n",
       " 'list': ['38', '38'],\n",
       " 'irc': ['39', '39'],\n",
       " 'gnats': ['41', '41'],\n",
       " 'nobody': ['65534', '65534'],\n",
       " 'syslog': ['101', '104'],\n",
       " 'messagebus': ['102', '106'],\n",
       " 'landscape': ['103', '109'],\n",
       " 'jci': ['955', '955'],\n",
       " 'sshd': ['104', '65534'],\n",
       " 'user': ['1000', '1000'],\n",
       " 'reuven': ['1001', '1001'],\n",
       " 'postfix': ['105', '113'],\n",
       " 'colord': ['106', '116'],\n",
       " 'postgres': ['107', '117'],\n",
       " 'dovecot': ['108', '119'],\n",
       " 'dovenull': ['109', '120'],\n",
       " 'postgrey': ['110', '121'],\n",
       " 'debian-spamd': ['111', '122'],\n",
       " 'memcache': ['113', '124'],\n",
       " 'genadi': ['1002', '1003'],\n",
       " 'shira': ['1003', '1004'],\n",
       " 'atara': ['1004', '1005'],\n",
       " 'shikma': ['1005', '1006'],\n",
       " 'amotz': ['1006', '1007'],\n",
       " 'mysql': ['114', '125'],\n",
       " 'clamav': ['115', '126'],\n",
       " 'amavis': ['116', '127'],\n",
       " 'opendkim': ['117', '128'],\n",
       " 'gitlab-redis': ['999', '1009'],\n",
       " 'gitlab-psql': ['998', '1010'],\n",
       " 'git': ['1007', '1008'],\n",
       " 'opendmarc': ['118', '129'],\n",
       " 'dkim-milter-python': ['119', '130'],\n",
       " 'deploy': ['1008', '1011'],\n",
       " 'redis': ['112', '123']}"
      ]
     },
     "execution_count": 112,
     "metadata": {},
     "output_type": "execute_result"
    }
   ],
   "source": [
    "{one_line.split(':')[0]     :   one_line.split(':')[2:4]   # slice for user ID + group ID\n",
    "for one_line in open('linux-etc-passwd.txt')\n",
    "if not one_line.startswith(('#', '\\n'))}"
   ]
  },
  {
   "cell_type": "code",
   "execution_count": 120,
   "id": "65b5007a",
   "metadata": {},
   "outputs": [],
   "source": [
    "import random\n",
    "\n",
    "random.seed(0)\n",
    "mylist = [[random.randint(-50, 50) for i in range(random.randint(1, 5))],\n",
    "         [random.randint(-50, 50) for i in range(random.randint(1, 5))],\n",
    "         [random.randint(-50, 50) for i in range(random.randint(1, 5))],\n",
    "         [random.randint(-50, 50) for i in range(random.randint(1, 5))],\n",
    "         [random.randint(-50, 50) for i in range(random.randint(1, 5))]\n",
    "         ]"
   ]
  },
  {
   "cell_type": "code",
   "execution_count": 121,
   "id": "15e5c339",
   "metadata": {},
   "outputs": [
    {
     "data": {
      "text/plain": [
       "[[47, 3, -45, -17], [12, 1, 50, -12, 11], [24, -23, 14], [-14, -33], [29]]"
      ]
     },
     "execution_count": 121,
     "metadata": {},
     "output_type": "execute_result"
    }
   ],
   "source": [
    "mylist  # list of lists!"
   ]
  },
  {
   "cell_type": "code",
   "execution_count": 122,
   "id": "a4901a04",
   "metadata": {},
   "outputs": [
    {
     "data": {
      "text/plain": [
       "[47, 3, -45, -17, 12, 1, 50, -12, 11, 24, -23, 14, -14, -33, 29]"
      ]
     },
     "execution_count": 122,
     "metadata": {},
     "output_type": "execute_result"
    }
   ],
   "source": [
    "# I want a flattened , 1D list --with integers in it\n",
    "# nested list comprehension\n",
    "\n",
    "[one_number\n",
    " for one_sublist in mylist\n",
    " for one_number in one_sublist]\n"
   ]
  },
  {
   "cell_type": "code",
   "execution_count": 125,
   "id": "3377f5e0",
   "metadata": {},
   "outputs": [
    {
     "ename": "SyntaxError",
     "evalue": "iterable unpacking cannot be used in comprehension (3722370174.py, line 1)",
     "output_type": "error",
     "traceback": [
      "\u001b[0;36m  File \u001b[0;32m\"/var/folders/rr/0mnyyv811fs5vyp22gf4fxk00000gn/T/ipykernel_82208/3722370174.py\"\u001b[0;36m, line \u001b[0;32m1\u001b[0m\n\u001b[0;31m    [*one_number\u001b[0m\n\u001b[0m     ^\u001b[0m\n\u001b[0;31mSyntaxError\u001b[0m\u001b[0;31m:\u001b[0m iterable unpacking cannot be used in comprehension\n"
     ]
    }
   ],
   "source": [
    "[*one_number\n",
    " for one_number in mylist]\n"
   ]
  },
  {
   "cell_type": "code",
   "execution_count": 126,
   "id": "ae17c8f5",
   "metadata": {},
   "outputs": [
    {
     "data": {
      "text/plain": [
       "[47, 3, -45, -17, 12, 1, 50, -12, 11, 24, -23, 14, -14, -33, 29]"
      ]
     },
     "execution_count": 126,
     "metadata": {},
     "output_type": "execute_result"
    }
   ],
   "source": [
    "[one_number\n",
    " for one_sublist in mylist\n",
    " for one_number in one_sublist]\n"
   ]
  },
  {
   "cell_type": "code",
   "execution_count": 128,
   "id": "343759b1",
   "metadata": {},
   "outputs": [
    {
     "data": {
      "text/plain": [
       "[47, 3, 12, 1, 50, 11]"
      ]
     },
     "execution_count": 128,
     "metadata": {},
     "output_type": "execute_result"
    }
   ],
   "source": [
    "[one_number\n",
    " for one_sublist in mylist\n",
    "    if len(one_sublist) > 3\n",
    " for one_number in one_sublist\n",
    "    if one_number > 0]\n"
   ]
  },
  {
   "cell_type": "code",
   "execution_count": 129,
   "id": "de51d8f4",
   "metadata": {},
   "outputs": [
    {
     "name": "stdout",
     "output_type": "stream",
     "text": [
      "1::Toy Story (1995)::Animation|Children's|Comedy\r\n",
      "2::Jumanji (1995)::Adventure|Children's|Fantasy\r\n",
      "3::Grumpier Old Men (1995)::Comedy|Romance\r\n",
      "4::Waiting to Exhale (1995)::Comedy|Drama\r\n",
      "5::Father of the Bride Part II (1995)::Comedy\r\n",
      "6::Heat (1995)::Action|Crime|Thriller\r\n",
      "7::Sabrina (1995)::Comedy|Romance\r\n",
      "8::Tom and Huck (1995)::Adventure|Children's\r\n",
      "9::Sudden Death (1995)::Action\r\n",
      "10::GoldenEye (1995)::Action|Adventure|Thriller\r\n"
     ]
    }
   ],
   "source": [
    "!head movies.dat"
   ]
  },
  {
   "cell_type": "markdown",
   "id": "c0b4e912",
   "metadata": {},
   "source": [
    "# Exercise: Popular movie categories\n",
    "\n",
    "1. Use a nested comprehension to create a list of movie categories.\n",
    "2. Hand this list to `Counter`, which will count the number of times each category appears.\n",
    "3. What were the 5 most common categories for all of these movies?"
   ]
  },
  {
   "cell_type": "code",
   "execution_count": 130,
   "id": "39ef2934",
   "metadata": {},
   "outputs": [
    {
     "name": "stdout",
     "output_type": "stream",
     "text": [
      "movies.dat: Unicode text, UTF-8 text\r\n"
     ]
    }
   ],
   "source": [
    "!file movies.dat"
   ]
  },
  {
   "cell_type": "code",
   "execution_count": 131,
   "id": "e00fc5a1",
   "metadata": {},
   "outputs": [],
   "source": [
    "f = open('movies.dat', encoding='UTF-8')"
   ]
  },
  {
   "cell_type": "code",
   "execution_count": 133,
   "id": "9d363c15",
   "metadata": {},
   "outputs": [
    {
     "data": {
      "text/plain": [
       "['1',\n",
       " 'Toy Story (1995)',\n",
       " \"Animation|Children's|Comedy\\n\",\n",
       " '2',\n",
       " 'Jumanji (1995)',\n",
       " \"Adventure|Children's|Fantasy\\n\",\n",
       " '3',\n",
       " 'Grumpier Old Men (1995)',\n",
       " 'Comedy|Romance\\n',\n",
       " '4',\n",
       " 'Waiting to Exhale (1995)',\n",
       " 'Comedy|Drama\\n',\n",
       " '5',\n",
       " 'Father of the Bride Part II (1995)',\n",
       " 'Comedy\\n',\n",
       " '6',\n",
       " 'Heat (1995)',\n",
       " 'Action|Crime|Thriller\\n',\n",
       " '7',\n",
       " 'Sabrina (1995)',\n",
       " 'Comedy|Romance\\n',\n",
       " '8',\n",
       " 'Tom and Huck (1995)',\n",
       " \"Adventure|Children's\\n\",\n",
       " '9',\n",
       " 'Sudden Death (1995)',\n",
       " 'Action\\n',\n",
       " '10',\n",
       " 'GoldenEye (1995)',\n",
       " 'Action|Adventure|Thriller\\n',\n",
       " '11',\n",
       " 'American President, The (1995)',\n",
       " 'Comedy|Drama|Romance\\n',\n",
       " '12',\n",
       " 'Dracula: Dead and Loving It (1995)',\n",
       " 'Comedy|Horror\\n',\n",
       " '13',\n",
       " 'Balto (1995)',\n",
       " \"Animation|Children's\\n\",\n",
       " '14',\n",
       " 'Nixon (1995)',\n",
       " 'Drama\\n',\n",
       " '15',\n",
       " 'Cutthroat Island (1995)',\n",
       " 'Action|Adventure|Romance\\n',\n",
       " '16',\n",
       " 'Casino (1995)',\n",
       " 'Drama|Thriller\\n',\n",
       " '17',\n",
       " 'Sense and Sensibility (1995)',\n",
       " 'Drama|Romance\\n',\n",
       " '18',\n",
       " 'Four Rooms (1995)',\n",
       " 'Thriller\\n',\n",
       " '19',\n",
       " 'Ace Ventura: When Nature Calls (1995)',\n",
       " 'Comedy\\n',\n",
       " '20',\n",
       " 'Money Train (1995)',\n",
       " 'Action\\n',\n",
       " '21',\n",
       " 'Get Shorty (1995)',\n",
       " 'Action|Comedy|Drama\\n',\n",
       " '22',\n",
       " 'Copycat (1995)',\n",
       " 'Crime|Drama|Thriller\\n',\n",
       " '23',\n",
       " 'Assassins (1995)',\n",
       " 'Thriller\\n',\n",
       " '24',\n",
       " 'Powder (1995)',\n",
       " 'Drama|Sci-Fi\\n',\n",
       " '25',\n",
       " 'Leaving Las Vegas (1995)',\n",
       " 'Drama|Romance\\n',\n",
       " '26',\n",
       " 'Othello (1995)',\n",
       " 'Drama\\n',\n",
       " '27',\n",
       " 'Now and Then (1995)',\n",
       " 'Drama\\n',\n",
       " '28',\n",
       " 'Persuasion (1995)',\n",
       " 'Romance\\n',\n",
       " '29',\n",
       " 'City of Lost Children, The (1995)',\n",
       " 'Adventure|Sci-Fi\\n',\n",
       " '30',\n",
       " 'Shanghai Triad (Yao a yao yao dao waipo qiao) (1995)',\n",
       " 'Drama\\n',\n",
       " '31',\n",
       " 'Dangerous Minds (1995)',\n",
       " 'Drama\\n',\n",
       " '32',\n",
       " 'Twelve Monkeys (1995)',\n",
       " 'Drama|Sci-Fi\\n',\n",
       " '33',\n",
       " 'Wings of Courage (1995)',\n",
       " 'Adventure|Romance\\n',\n",
       " '34',\n",
       " 'Babe (1995)',\n",
       " \"Children's|Comedy|Drama\\n\",\n",
       " '35',\n",
       " 'Carrington (1995)',\n",
       " 'Drama|Romance\\n',\n",
       " '36',\n",
       " 'Dead Man Walking (1995)',\n",
       " 'Drama\\n',\n",
       " '37',\n",
       " 'Across the Sea of Time (1995)',\n",
       " 'Documentary\\n',\n",
       " '38',\n",
       " 'It Takes Two (1995)',\n",
       " 'Comedy\\n',\n",
       " '39',\n",
       " 'Clueless (1995)',\n",
       " 'Comedy|Romance\\n',\n",
       " '40',\n",
       " 'Cry, the Beloved Country (1995)',\n",
       " 'Drama\\n',\n",
       " '41',\n",
       " 'Richard III (1995)',\n",
       " 'Drama|War\\n',\n",
       " '42',\n",
       " 'Dead Presidents (1995)',\n",
       " 'Action|Crime|Drama\\n',\n",
       " '43',\n",
       " 'Restoration (1995)',\n",
       " 'Drama\\n',\n",
       " '44',\n",
       " 'Mortal Kombat (1995)',\n",
       " 'Action|Adventure\\n',\n",
       " '45',\n",
       " 'To Die For (1995)',\n",
       " 'Comedy|Drama\\n',\n",
       " '46',\n",
       " 'How to Make an American Quilt (1995)',\n",
       " 'Drama|Romance\\n',\n",
       " '47',\n",
       " 'Seven (Se7en) (1995)',\n",
       " 'Crime|Thriller\\n',\n",
       " '48',\n",
       " 'Pocahontas (1995)',\n",
       " \"Animation|Children's|Musical|Romance\\n\",\n",
       " '49',\n",
       " 'When Night Is Falling (1995)',\n",
       " 'Drama|Romance\\n',\n",
       " '50',\n",
       " 'Usual Suspects, The (1995)',\n",
       " 'Crime|Thriller\\n',\n",
       " '51',\n",
       " 'Guardian Angel (1994)',\n",
       " 'Action|Drama|Thriller\\n',\n",
       " '52',\n",
       " 'Mighty Aphrodite (1995)',\n",
       " 'Comedy\\n',\n",
       " '53',\n",
       " 'Lamerica (1994)',\n",
       " 'Drama\\n',\n",
       " '54',\n",
       " 'Big Green, The (1995)',\n",
       " \"Children's|Comedy\\n\",\n",
       " '55',\n",
       " 'Georgia (1995)',\n",
       " 'Drama\\n',\n",
       " '56',\n",
       " 'Kids of the Round Table (1995)',\n",
       " \"Adventure|Children's|Fantasy\\n\",\n",
       " '57',\n",
       " 'Home for the Holidays (1995)',\n",
       " 'Drama\\n',\n",
       " '58',\n",
       " 'Postino, Il (The Postman) (1994)',\n",
       " 'Drama|Romance\\n',\n",
       " '59',\n",
       " 'Confessional, The (Le Confessionnal) (1995)',\n",
       " 'Drama|Mystery\\n',\n",
       " '60',\n",
       " 'Indian in the Cupboard, The (1995)',\n",
       " \"Adventure|Children's|Fantasy\\n\",\n",
       " '61',\n",
       " 'Eye for an Eye (1996)',\n",
       " 'Drama|Thriller\\n',\n",
       " '62',\n",
       " \"Mr. Holland's Opus (1995)\",\n",
       " 'Drama\\n',\n",
       " '63',\n",
       " \"Don't Be a Menace to South Central While Drinking Your Juice in the Hood (1996)\",\n",
       " 'Comedy\\n',\n",
       " '64',\n",
       " 'Two if by Sea (1996)',\n",
       " 'Comedy|Romance\\n',\n",
       " '65',\n",
       " 'Bio-Dome (1996)',\n",
       " 'Comedy\\n',\n",
       " '66',\n",
       " 'Lawnmower Man 2: Beyond Cyberspace (1996)',\n",
       " 'Sci-Fi|Thriller\\n',\n",
       " '67',\n",
       " 'Two Bits (1995)',\n",
       " 'Drama\\n',\n",
       " '68',\n",
       " 'French Twist (Gazon maudit) (1995)',\n",
       " 'Comedy|Romance\\n',\n",
       " '69',\n",
       " 'Friday (1995)',\n",
       " 'Comedy\\n',\n",
       " '70',\n",
       " 'From Dusk Till Dawn (1996)',\n",
       " 'Action|Comedy|Crime|Horror|Thriller\\n',\n",
       " '71',\n",
       " 'Fair Game (1995)',\n",
       " 'Action\\n',\n",
       " '72',\n",
       " 'Kicking and Screaming (1995)',\n",
       " 'Comedy|Drama\\n',\n",
       " '73',\n",
       " 'Misérables, Les (1995)',\n",
       " 'Drama|Musical\\n',\n",
       " '74',\n",
       " 'Bed of Roses (1996)',\n",
       " 'Drama|Romance\\n',\n",
       " '75',\n",
       " 'Big Bully (1996)',\n",
       " 'Comedy|Drama\\n',\n",
       " '76',\n",
       " 'Screamers (1995)',\n",
       " 'Sci-Fi|Thriller\\n',\n",
       " '77',\n",
       " 'Nico Icon (1995)',\n",
       " 'Documentary\\n',\n",
       " '78',\n",
       " 'Crossing Guard, The (1995)',\n",
       " 'Drama\\n',\n",
       " '79',\n",
       " 'Juror, The (1996)',\n",
       " 'Drama|Thriller\\n',\n",
       " '80',\n",
       " 'White Balloon, The (Badkonake Sefid ) (1995)',\n",
       " 'Drama\\n',\n",
       " '81',\n",
       " \"Things to Do in Denver when You're Dead (1995)\",\n",
       " 'Crime|Drama|Romance\\n',\n",
       " '82',\n",
       " \"Antonia's Line (Antonia) (1995)\",\n",
       " 'Drama\\n',\n",
       " '83',\n",
       " 'Once Upon a Time... When We Were Colored (1995)',\n",
       " 'Drama\\n',\n",
       " '84',\n",
       " 'Last Summer in the Hamptons (1995)',\n",
       " 'Comedy|Drama\\n',\n",
       " '85',\n",
       " 'Angels and Insects (1995)',\n",
       " 'Drama|Romance\\n',\n",
       " '86',\n",
       " 'White Squall (1996)',\n",
       " 'Adventure|Drama\\n',\n",
       " '87',\n",
       " 'Dunston Checks In (1996)',\n",
       " \"Children's|Comedy\\n\",\n",
       " '88',\n",
       " 'Black Sheep (1996)',\n",
       " 'Comedy\\n',\n",
       " '89',\n",
       " 'Nick of Time (1995)',\n",
       " 'Action|Thriller\\n',\n",
       " '90',\n",
       " 'Journey of August King, The (1995)',\n",
       " 'Drama\\n',\n",
       " '92',\n",
       " 'Mary Reilly (1996)',\n",
       " 'Drama|Thriller\\n',\n",
       " '93',\n",
       " 'Vampire in Brooklyn (1995)',\n",
       " 'Comedy|Romance\\n',\n",
       " '94',\n",
       " 'Beautiful Girls (1996)',\n",
       " 'Drama\\n',\n",
       " '95',\n",
       " 'Broken Arrow (1996)',\n",
       " 'Action|Thriller\\n',\n",
       " '96',\n",
       " 'In the Bleak Midwinter (1995)',\n",
       " 'Comedy\\n',\n",
       " '97',\n",
       " 'Hate (Haine, La) (1995)',\n",
       " 'Drama\\n',\n",
       " '98',\n",
       " 'Shopping (1994)',\n",
       " 'Action|Thriller\\n',\n",
       " '99',\n",
       " 'Heidi Fleiss: Hollywood Madam (1995)',\n",
       " 'Documentary\\n',\n",
       " '100',\n",
       " 'City Hall (1996)',\n",
       " 'Drama|Thriller\\n',\n",
       " '101',\n",
       " 'Bottle Rocket (1996)',\n",
       " 'Comedy\\n',\n",
       " '102',\n",
       " 'Mr. Wrong (1996)',\n",
       " 'Comedy\\n',\n",
       " '103',\n",
       " 'Unforgettable (1996)',\n",
       " 'Thriller\\n',\n",
       " '104',\n",
       " 'Happy Gilmore (1996)',\n",
       " 'Comedy\\n',\n",
       " '105',\n",
       " 'Bridges of Madison County, The (1995)',\n",
       " 'Drama|Romance\\n',\n",
       " '106',\n",
       " 'Nobody Loves Me (Keiner liebt mich) (1994)',\n",
       " 'Comedy|Drama\\n',\n",
       " '107',\n",
       " 'Muppet Treasure Island (1996)',\n",
       " \"Adventure|Children's|Comedy|Musical\\n\",\n",
       " '108',\n",
       " 'Catwalk (1995)',\n",
       " 'Documentary\\n',\n",
       " '109',\n",
       " 'Headless Body in Topless Bar (1995)',\n",
       " 'Comedy\\n',\n",
       " '110',\n",
       " 'Braveheart (1995)',\n",
       " 'Action|Drama|War\\n',\n",
       " '111',\n",
       " 'Taxi Driver (1976)',\n",
       " 'Drama|Thriller\\n',\n",
       " '112',\n",
       " 'Rumble in the Bronx (1995)',\n",
       " 'Action|Adventure|Crime\\n',\n",
       " '113',\n",
       " 'Before and After (1996)',\n",
       " 'Drama|Mystery\\n',\n",
       " '114',\n",
       " \"Margaret's Museum (1995)\",\n",
       " 'Drama\\n',\n",
       " '115',\n",
       " 'Happiness Is in the Field (1995)',\n",
       " 'Comedy\\n',\n",
       " '116',\n",
       " 'Anne Frank Remembered (1995)',\n",
       " 'Documentary\\n',\n",
       " '117',\n",
       " \"Young Poisoner's Handbook, The (1995)\",\n",
       " 'Crime\\n',\n",
       " '118',\n",
       " 'If Lucy Fell (1996)',\n",
       " 'Comedy|Romance\\n',\n",
       " '119',\n",
       " 'Steal Big, Steal Little (1995)',\n",
       " 'Comedy\\n',\n",
       " '120',\n",
       " 'Race the Sun (1996)',\n",
       " 'Drama\\n',\n",
       " '121',\n",
       " 'Boys of St. Vincent, The (1993)',\n",
       " 'Drama\\n',\n",
       " '122',\n",
       " 'Boomerang (1992)',\n",
       " 'Comedy|Romance\\n',\n",
       " '123',\n",
       " 'Chungking Express (1994)',\n",
       " 'Drama|Mystery|Romance\\n',\n",
       " '124',\n",
       " \"Star Maker, The (Uomo delle stelle, L') (1995)\",\n",
       " 'Drama\\n',\n",
       " '125',\n",
       " 'Flirting With Disaster (1996)',\n",
       " 'Comedy\\n',\n",
       " '126',\n",
       " 'NeverEnding Story III, The (1994)',\n",
       " \"Adventure|Children's|Fantasy\\n\",\n",
       " '127',\n",
       " 'Silence of the Palace, The (Saimt el Qusur) (1994)',\n",
       " 'Drama\\n',\n",
       " '128',\n",
       " \"Jupiter's Wife (1994)\",\n",
       " 'Documentary\\n',\n",
       " '129',\n",
       " 'Pie in the Sky (1995)',\n",
       " 'Comedy|Romance\\n',\n",
       " '130',\n",
       " 'Angela (1995)',\n",
       " 'Drama\\n',\n",
       " '131',\n",
       " 'Frankie Starlight (1995)',\n",
       " 'Drama|Romance\\n',\n",
       " '132',\n",
       " 'Jade (1995)',\n",
       " 'Thriller\\n',\n",
       " '133',\n",
       " 'Nueba Yol (1995)',\n",
       " 'Comedy|Drama\\n',\n",
       " '134',\n",
       " 'Sonic Outlaws (1995)',\n",
       " 'Documentary\\n',\n",
       " '135',\n",
       " 'Down Periscope (1996)',\n",
       " 'Comedy\\n',\n",
       " '136',\n",
       " 'From the Journals of Jean Seberg (1995)',\n",
       " 'Documentary\\n',\n",
       " '137',\n",
       " 'Man of the Year (1995)',\n",
       " 'Documentary\\n',\n",
       " '138',\n",
       " 'Neon Bible, The (1995)',\n",
       " 'Drama\\n',\n",
       " '139',\n",
       " 'Target (1995)',\n",
       " 'Action|Drama\\n',\n",
       " '140',\n",
       " 'Up Close and Personal (1996)',\n",
       " 'Drama|Romance\\n',\n",
       " '141',\n",
       " 'Birdcage, The (1996)',\n",
       " 'Comedy\\n',\n",
       " '142',\n",
       " 'Shadows (Cienie) (1988)',\n",
       " 'Drama\\n',\n",
       " '143',\n",
       " 'Gospa (1995)',\n",
       " 'Drama\\n',\n",
       " '144',\n",
       " 'Brothers McMullen, The (1995)',\n",
       " 'Comedy\\n',\n",
       " '145',\n",
       " 'Bad Boys (1995)',\n",
       " 'Action\\n',\n",
       " '146',\n",
       " 'Amazing Panda Adventure, The (1995)',\n",
       " \"Adventure|Children's\\n\",\n",
       " '147',\n",
       " 'Basketball Diaries, The (1995)',\n",
       " 'Drama\\n',\n",
       " '148',\n",
       " 'Awfully Big Adventure, An (1995)',\n",
       " 'Drama\\n',\n",
       " '149',\n",
       " 'Amateur (1994)',\n",
       " 'Crime|Drama|Thriller\\n',\n",
       " '150',\n",
       " 'Apollo 13 (1995)',\n",
       " 'Drama\\n',\n",
       " '151',\n",
       " 'Rob Roy (1995)',\n",
       " 'Drama|Romance|War\\n',\n",
       " '152',\n",
       " 'Addiction, The (1995)',\n",
       " 'Horror\\n',\n",
       " '153',\n",
       " 'Batman Forever (1995)',\n",
       " 'Action|Adventure|Comedy|Crime\\n',\n",
       " '154',\n",
       " 'Belle de jour (1967)',\n",
       " 'Drama\\n',\n",
       " '155',\n",
       " 'Beyond Rangoon (1995)',\n",
       " 'Drama|War\\n',\n",
       " '156',\n",
       " 'Blue in the Face (1995)',\n",
       " 'Comedy\\n',\n",
       " '157',\n",
       " 'Canadian Bacon (1994)',\n",
       " 'Comedy|War\\n',\n",
       " '158',\n",
       " 'Casper (1995)',\n",
       " \"Adventure|Children's\\n\",\n",
       " '159',\n",
       " 'Clockers (1995)',\n",
       " 'Drama\\n',\n",
       " '160',\n",
       " 'Congo (1995)',\n",
       " 'Action|Adventure|Mystery|Sci-Fi\\n',\n",
       " '161',\n",
       " 'Crimson Tide (1995)',\n",
       " 'Drama|Thriller|War\\n',\n",
       " '162',\n",
       " 'Crumb (1994)',\n",
       " 'Documentary\\n',\n",
       " '163',\n",
       " 'Desperado (1995)',\n",
       " 'Action|Romance|Thriller\\n',\n",
       " '164',\n",
       " 'Devil in a Blue Dress (1995)',\n",
       " 'Crime|Film-Noir|Mystery|Thriller\\n',\n",
       " '165',\n",
       " 'Die Hard: With a Vengeance (1995)',\n",
       " 'Action|Thriller\\n',\n",
       " '166',\n",
       " 'Doom Generation, The (1995)',\n",
       " 'Comedy|Drama\\n',\n",
       " '167',\n",
       " 'Feast of July (1995)',\n",
       " 'Drama\\n',\n",
       " '168',\n",
       " 'First Knight (1995)',\n",
       " 'Action|Adventure|Drama|Romance\\n',\n",
       " '169',\n",
       " 'Free Willy 2: The Adventure Home (1995)',\n",
       " \"Adventure|Children's|Drama\\n\",\n",
       " '170',\n",
       " 'Hackers (1995)',\n",
       " 'Action|Crime|Thriller\\n',\n",
       " '171',\n",
       " 'Jeffrey (1995)',\n",
       " 'Comedy\\n',\n",
       " '172',\n",
       " 'Johnny Mnemonic (1995)',\n",
       " 'Action|Sci-Fi|Thriller\\n',\n",
       " '173',\n",
       " 'Judge Dredd (1995)',\n",
       " 'Action|Adventure|Sci-Fi\\n',\n",
       " '174',\n",
       " 'Jury Duty (1995)',\n",
       " 'Comedy\\n',\n",
       " '175',\n",
       " 'Kids (1995)',\n",
       " 'Drama\\n',\n",
       " '176',\n",
       " 'Living in Oblivion (1995)',\n",
       " 'Comedy\\n',\n",
       " '177',\n",
       " 'Lord of Illusions (1995)',\n",
       " 'Horror\\n',\n",
       " '178',\n",
       " 'Love & Human Remains (1993)',\n",
       " 'Comedy\\n',\n",
       " '179',\n",
       " 'Mad Love (1995)',\n",
       " 'Drama|Romance\\n',\n",
       " '180',\n",
       " 'Mallrats (1995)',\n",
       " 'Comedy\\n',\n",
       " '181',\n",
       " 'Mighty Morphin Power Rangers: The Movie (1995)',\n",
       " \"Action|Children's\\n\",\n",
       " '182',\n",
       " 'Moonlight and Valentino (1995)',\n",
       " 'Drama|Romance\\n',\n",
       " '183',\n",
       " 'Mute Witness (1994)',\n",
       " 'Thriller\\n',\n",
       " '184',\n",
       " 'Nadja (1994)',\n",
       " 'Drama\\n',\n",
       " '185',\n",
       " 'Net, The (1995)',\n",
       " 'Sci-Fi|Thriller\\n',\n",
       " '186',\n",
       " 'Nine Months (1995)',\n",
       " 'Comedy\\n',\n",
       " '187',\n",
       " 'Party Girl (1995)',\n",
       " 'Comedy\\n',\n",
       " '188',\n",
       " 'Prophecy, The (1995)',\n",
       " 'Horror\\n',\n",
       " '189',\n",
       " 'Reckless (1995)',\n",
       " 'Comedy\\n',\n",
       " '190',\n",
       " 'Safe (1995)',\n",
       " 'Thriller\\n',\n",
       " '191',\n",
       " 'Scarlet Letter, The (1995)',\n",
       " 'Drama\\n',\n",
       " '192',\n",
       " 'Show, The (1995)',\n",
       " 'Documentary\\n',\n",
       " '193',\n",
       " 'Showgirls (1995)',\n",
       " 'Drama\\n',\n",
       " '194',\n",
       " 'Smoke (1995)',\n",
       " 'Drama\\n',\n",
       " '195',\n",
       " 'Something to Talk About (1995)',\n",
       " 'Comedy|Drama|Romance\\n',\n",
       " '196',\n",
       " 'Species (1995)',\n",
       " 'Horror|Sci-Fi\\n',\n",
       " '197',\n",
       " 'Stars Fell on Henrietta, The (1995)',\n",
       " 'Drama\\n',\n",
       " '198',\n",
       " 'Strange Days (1995)',\n",
       " 'Action|Crime|Sci-Fi\\n',\n",
       " '199',\n",
       " 'Umbrellas of Cherbourg, The (Parapluies de Cherbourg, Les) (1964)',\n",
       " 'Drama|Musical\\n',\n",
       " '200',\n",
       " 'Tie That Binds, The (1995)',\n",
       " 'Thriller\\n',\n",
       " '201',\n",
       " 'Three Wishes (1995)',\n",
       " 'Drama\\n',\n",
       " '202',\n",
       " 'Total Eclipse (1995)',\n",
       " 'Drama|Romance\\n',\n",
       " '203',\n",
       " 'To Wong Foo, Thanks for Everything! Julie Newmar (1995)',\n",
       " 'Comedy\\n',\n",
       " '204',\n",
       " 'Under Siege 2: Dark Territory (1995)',\n",
       " 'Action\\n',\n",
       " '205',\n",
       " 'Unstrung Heroes (1995)',\n",
       " 'Comedy|Drama\\n',\n",
       " '206',\n",
       " 'Unzipped (1995)',\n",
       " 'Documentary\\n',\n",
       " '207',\n",
       " 'Walk in the Clouds, A (1995)',\n",
       " 'Drama|Romance\\n',\n",
       " '208',\n",
       " 'Waterworld (1995)',\n",
       " 'Action|Adventure\\n',\n",
       " '209',\n",
       " \"White Man's Burden (1995)\",\n",
       " 'Drama\\n',\n",
       " '210',\n",
       " 'Wild Bill (1995)',\n",
       " 'Western\\n',\n",
       " '211',\n",
       " 'Browning Version, The (1994)',\n",
       " 'Drama\\n',\n",
       " '212',\n",
       " 'Bushwhacked (1995)',\n",
       " 'Comedy\\n',\n",
       " '213',\n",
       " 'Burnt By the Sun (Utomlyonnye solntsem) (1994)',\n",
       " 'Drama\\n',\n",
       " '214',\n",
       " 'Before the Rain (Pred dozhdot) (1994)',\n",
       " 'Drama\\n',\n",
       " '215',\n",
       " 'Before Sunrise (1995)',\n",
       " 'Drama|Romance\\n',\n",
       " '216',\n",
       " 'Billy Madison (1995)',\n",
       " 'Comedy\\n',\n",
       " '217',\n",
       " 'Babysitter, The (1995)',\n",
       " 'Drama|Thriller\\n',\n",
       " '218',\n",
       " 'Boys on the Side (1995)',\n",
       " 'Comedy|Drama\\n',\n",
       " '219',\n",
       " 'Cure, The (1995)',\n",
       " 'Drama\\n',\n",
       " '220',\n",
       " 'Castle Freak (1995)',\n",
       " 'Horror\\n',\n",
       " '222',\n",
       " 'Circle of Friends (1995)',\n",
       " 'Drama|Romance\\n',\n",
       " '223',\n",
       " 'Clerks (1994)',\n",
       " 'Comedy\\n',\n",
       " '224',\n",
       " 'Don Juan DeMarco (1995)',\n",
       " 'Comedy|Drama|Romance\\n',\n",
       " '225',\n",
       " 'Disclosure (1994)',\n",
       " 'Drama|Thriller\\n',\n",
       " '226',\n",
       " 'Dream Man (1995)',\n",
       " 'Thriller\\n',\n",
       " '227',\n",
       " 'Drop Zone (1994)',\n",
       " 'Action\\n',\n",
       " '228',\n",
       " 'Destiny Turns on the Radio (1995)',\n",
       " 'Comedy\\n',\n",
       " '229',\n",
       " 'Death and the Maiden (1994)',\n",
       " 'Drama|Thriller\\n',\n",
       " '230',\n",
       " 'Dolores Claiborne (1994)',\n",
       " 'Drama|Thriller\\n',\n",
       " '231',\n",
       " 'Dumb & Dumber (1994)',\n",
       " 'Comedy\\n',\n",
       " '232',\n",
       " 'Eat Drink Man Woman (1994)',\n",
       " 'Comedy|Drama\\n',\n",
       " '233',\n",
       " 'Exotica (1994)',\n",
       " 'Drama\\n',\n",
       " '234',\n",
       " 'Exit to Eden (1994)',\n",
       " 'Comedy\\n',\n",
       " '235',\n",
       " 'Ed Wood (1994)',\n",
       " 'Comedy|Drama\\n',\n",
       " '236',\n",
       " 'French Kiss (1995)',\n",
       " 'Comedy|Romance\\n',\n",
       " '237',\n",
       " 'Forget Paris (1995)',\n",
       " 'Comedy|Romance\\n',\n",
       " '238',\n",
       " 'Far From Home: The Adventures of Yellow Dog (1995)',\n",
       " \"Adventure|Children's\\n\",\n",
       " '239',\n",
       " 'Goofy Movie, A (1995)',\n",
       " \"Animation|Children's|Comedy|Romance\\n\",\n",
       " '240',\n",
       " 'Hideaway (1995)',\n",
       " 'Thriller\\n',\n",
       " '241',\n",
       " 'Fluke (1995)',\n",
       " \"Children's|Drama\\n\",\n",
       " '242',\n",
       " 'Farinelli: il castrato (1994)',\n",
       " 'Drama|Musical\\n',\n",
       " '243',\n",
       " 'Gordy (1995)',\n",
       " 'Comedy\\n',\n",
       " '244',\n",
       " 'Gumby: The Movie (1995)',\n",
       " \"Animation|Children's\\n\",\n",
       " '245',\n",
       " 'Glass Shield, The (1994)',\n",
       " 'Crime|Drama\\n',\n",
       " '246',\n",
       " 'Hoop Dreams (1994)',\n",
       " 'Documentary\\n',\n",
       " '247',\n",
       " 'Heavenly Creatures (1994)',\n",
       " 'Drama|Fantasy|Romance|Thriller\\n',\n",
       " '248',\n",
       " 'Houseguest (1994)',\n",
       " 'Comedy\\n',\n",
       " '249',\n",
       " 'Immortal Beloved (1994)',\n",
       " 'Drama|Romance\\n',\n",
       " '250',\n",
       " 'Heavyweights (1994)',\n",
       " \"Children's|Comedy\\n\",\n",
       " '251',\n",
       " 'Hunted, The (1995)',\n",
       " 'Action\\n',\n",
       " '252',\n",
       " 'I.Q. (1994)',\n",
       " 'Comedy|Romance\\n',\n",
       " '253',\n",
       " 'Interview with the Vampire (1994)',\n",
       " 'Drama|Horror\\n',\n",
       " '254',\n",
       " 'Jefferson in Paris (1995)',\n",
       " 'Drama\\n',\n",
       " '255',\n",
       " 'Jerky Boys, The (1994)',\n",
       " 'Comedy\\n',\n",
       " '256',\n",
       " 'Junior (1994)',\n",
       " 'Comedy|Sci-Fi\\n',\n",
       " '257',\n",
       " 'Just Cause (1995)',\n",
       " 'Mystery|Thriller\\n',\n",
       " '258',\n",
       " \"Kid in King Arthur's Court, A (1995)\",\n",
       " \"Adventure|Children's|Comedy|Fantasy|Romance\\n\",\n",
       " '259',\n",
       " 'Kiss of Death (1995)',\n",
       " 'Crime|Drama|Thriller\\n',\n",
       " '260',\n",
       " 'Star Wars: Episode IV - A New Hope (1977)',\n",
       " 'Action|Adventure|Fantasy|Sci-Fi\\n',\n",
       " '261',\n",
       " 'Little Women (1994)',\n",
       " 'Drama\\n',\n",
       " '262',\n",
       " 'Little Princess, A (1995)',\n",
       " \"Children's|Drama\\n\",\n",
       " '263',\n",
       " 'Ladybird Ladybird (1994)',\n",
       " 'Drama\\n',\n",
       " '264',\n",
       " \"Enfer, L' (1994)\",\n",
       " 'Drama\\n',\n",
       " '265',\n",
       " 'Like Water for Chocolate (Como agua para chocolate) (1992)',\n",
       " 'Drama|Romance\\n',\n",
       " '266',\n",
       " 'Legends of the Fall (1994)',\n",
       " 'Drama|Romance|War|Western\\n',\n",
       " '267',\n",
       " 'Major Payne (1994)',\n",
       " 'Comedy\\n',\n",
       " '268',\n",
       " 'Little Odessa (1994)',\n",
       " 'Drama\\n',\n",
       " '269',\n",
       " 'My Crazy Life (Mi vida loca) (1993)',\n",
       " 'Drama\\n',\n",
       " '270',\n",
       " 'Love Affair (1994)',\n",
       " 'Drama|Romance\\n',\n",
       " '271',\n",
       " 'Losing Isaiah (1995)',\n",
       " 'Drama\\n',\n",
       " '272',\n",
       " 'Madness of King George, The (1994)',\n",
       " 'Drama\\n',\n",
       " '273',\n",
       " \"Mary Shelley's Frankenstein (1994)\",\n",
       " 'Drama|Horror\\n',\n",
       " '274',\n",
       " 'Man of the House (1995)',\n",
       " 'Comedy\\n',\n",
       " '275',\n",
       " 'Mixed Nuts (1994)',\n",
       " 'Comedy\\n',\n",
       " '276',\n",
       " 'Milk Money (1994)',\n",
       " 'Comedy|Romance\\n',\n",
       " '277',\n",
       " 'Miracle on 34th Street (1994)',\n",
       " 'Drama\\n',\n",
       " '278',\n",
       " 'Miami Rhapsody (1995)',\n",
       " 'Comedy\\n',\n",
       " '279',\n",
       " 'My Family (1995)',\n",
       " 'Drama\\n',\n",
       " '280',\n",
       " 'Murder in the First (1995)',\n",
       " 'Drama|Thriller\\n',\n",
       " '281',\n",
       " \"Nobody's Fool (1994)\",\n",
       " 'Drama\\n',\n",
       " '282',\n",
       " 'Nell (1994)',\n",
       " 'Drama\\n',\n",
       " '283',\n",
       " 'New Jersey Drive (1995)',\n",
       " 'Crime|Drama\\n',\n",
       " '284',\n",
       " 'New York Cop (1996)',\n",
       " 'Action|Crime\\n',\n",
       " '285',\n",
       " 'Beyond Bedlam (1993)',\n",
       " 'Drama|Horror\\n',\n",
       " '286',\n",
       " 'Nemesis 2: Nebula (1995)',\n",
       " 'Action|Sci-Fi|Thriller\\n',\n",
       " '287',\n",
       " 'Nina Takes a Lover (1994)',\n",
       " 'Comedy|Romance\\n',\n",
       " '288',\n",
       " 'Natural Born Killers (1994)',\n",
       " 'Action|Thriller\\n',\n",
       " '289',\n",
       " 'Only You (1994)',\n",
       " 'Comedy|Romance\\n',\n",
       " '290',\n",
       " 'Once Were Warriors (1994)',\n",
       " 'Crime|Drama\\n',\n",
       " '291',\n",
       " 'Poison Ivy II (1995)',\n",
       " 'Thriller\\n',\n",
       " '292',\n",
       " 'Outbreak (1995)',\n",
       " 'Action|Drama|Thriller\\n',\n",
       " '293',\n",
       " 'Professional, The (a.k.a. Leon: The Professional) (1994)',\n",
       " 'Crime|Drama|Romance|Thriller\\n',\n",
       " '294',\n",
       " 'Perez Family, The (1995)',\n",
       " 'Comedy|Romance\\n',\n",
       " '295',\n",
       " \"Pyromaniac's Love Story, A (1995)\",\n",
       " 'Comedy|Romance\\n',\n",
       " '296',\n",
       " 'Pulp Fiction (1994)',\n",
       " 'Crime|Drama\\n',\n",
       " '297',\n",
       " 'Panther (1995)',\n",
       " 'Drama\\n',\n",
       " '298',\n",
       " 'Pushing Hands (1992)',\n",
       " 'Comedy\\n',\n",
       " '299',\n",
       " 'Priest (1994)',\n",
       " 'Drama\\n',\n",
       " '300',\n",
       " 'Quiz Show (1994)',\n",
       " 'Drama\\n',\n",
       " '301',\n",
       " 'Picture Bride (1995)',\n",
       " 'Drama|Romance\\n',\n",
       " '302',\n",
       " 'Queen Margot (La Reine Margot) (1994)',\n",
       " 'Drama|Romance\\n',\n",
       " '303',\n",
       " 'Quick and the Dead, The (1995)',\n",
       " 'Action|Adventure|Western\\n',\n",
       " '304',\n",
       " 'Roommates (1995)',\n",
       " 'Comedy|Drama\\n',\n",
       " '305',\n",
       " 'Ready to Wear (Pret-A-Porter) (1994)',\n",
       " 'Comedy\\n',\n",
       " '306',\n",
       " 'Three Colors: Red (1994)',\n",
       " 'Drama\\n',\n",
       " '307',\n",
       " 'Three Colors: Blue (1993)',\n",
       " 'Drama\\n',\n",
       " '308',\n",
       " 'Three Colors: White (1994)',\n",
       " 'Drama\\n',\n",
       " '309',\n",
       " 'Red Firecracker, Green Firecracker (1994)',\n",
       " 'Drama\\n',\n",
       " '310',\n",
       " 'Rent-a-Kid (1995)',\n",
       " 'Comedy\\n',\n",
       " '311',\n",
       " 'Relative Fear (1994)',\n",
       " 'Horror|Thriller\\n',\n",
       " '312',\n",
       " 'Stuart Saves His Family (1995)',\n",
       " 'Comedy\\n',\n",
       " '313',\n",
       " 'Swan Princess, The (1994)',\n",
       " \"Animation|Children's\\n\",\n",
       " '314',\n",
       " 'Secret of Roan Inish, The (1994)',\n",
       " 'Drama\\n',\n",
       " '315',\n",
       " 'Specialist, The (1994)',\n",
       " 'Action\\n',\n",
       " '316',\n",
       " 'Stargate (1994)',\n",
       " 'Action|Adventure|Sci-Fi\\n',\n",
       " '317',\n",
       " 'Santa Clause, The (1994)',\n",
       " \"Children's|Comedy|Fantasy\\n\",\n",
       " '318',\n",
       " 'Shawshank Redemption, The (1994)',\n",
       " 'Drama\\n',\n",
       " '319',\n",
       " 'Shallow Grave (1994)',\n",
       " 'Thriller\\n',\n",
       " '320',\n",
       " 'Suture (1993)',\n",
       " 'Film-Noir|Thriller\\n',\n",
       " '321',\n",
       " 'Strawberry and Chocolate (Fresa y chocolate) (1993)',\n",
       " 'Drama\\n',\n",
       " '322',\n",
       " 'Swimming with Sharks (1995)',\n",
       " 'Comedy|Drama\\n',\n",
       " '324',\n",
       " 'Sum of Us, The (1994)',\n",
       " 'Comedy\\n',\n",
       " '325',\n",
       " \"National Lampoon's Senior Trip (1995)\",\n",
       " 'Comedy\\n',\n",
       " '326',\n",
       " 'To Live (Huozhe) (1994)',\n",
       " 'Drama\\n',\n",
       " '327',\n",
       " 'Tank Girl (1995)',\n",
       " 'Action|Comedy|Musical|Sci-Fi\\n',\n",
       " '328',\n",
       " 'Tales From the Crypt Presents: Demon Knight (1995)',\n",
       " 'Horror\\n',\n",
       " '329',\n",
       " 'Star Trek: Generations (1994)',\n",
       " 'Action|Adventure|Sci-Fi\\n',\n",
       " '330',\n",
       " 'Tales from the Hood (1995)',\n",
       " 'Comedy|Horror\\n',\n",
       " '331',\n",
       " 'Tom & Viv (1994)',\n",
       " 'Drama\\n',\n",
       " '332',\n",
       " 'Village of the Damned (1995)',\n",
       " 'Horror|Sci-Fi\\n',\n",
       " '333',\n",
       " 'Tommy Boy (1995)',\n",
       " 'Comedy\\n',\n",
       " '334',\n",
       " 'Vanya on 42nd Street (1994)',\n",
       " 'Drama\\n',\n",
       " '335',\n",
       " 'Underneath, The (1995)',\n",
       " 'Mystery|Thriller\\n',\n",
       " '336',\n",
       " 'Walking Dead, The (1995)',\n",
       " 'Drama|War\\n',\n",
       " '337',\n",
       " ...]"
      ]
     },
     "execution_count": 133,
     "metadata": {},
     "output_type": "execute_result"
    }
   ],
   "source": [
    "[one_category\n",
    " for one_line in open('movies.dat', encoding='UTF-8')\n",
    " for one_category in one_line.split('::')[-1]]"
   ]
  },
  {
   "cell_type": "code",
   "execution_count": null,
   "id": "998afcfb",
   "metadata": {},
   "outputs": [],
   "source": []
  }
 ],
 "metadata": {
  "kernelspec": {
   "display_name": "Python 3 (ipykernel)",
   "language": "python",
   "name": "python3"
  },
  "language_info": {
   "codemirror_mode": {
    "name": "ipython",
    "version": 3
   },
   "file_extension": ".py",
   "mimetype": "text/x-python",
   "name": "python",
   "nbconvert_exporter": "python",
   "pygments_lexer": "ipython3",
   "version": "3.10.5"
  }
 },
 "nbformat": 4,
 "nbformat_minor": 5
}

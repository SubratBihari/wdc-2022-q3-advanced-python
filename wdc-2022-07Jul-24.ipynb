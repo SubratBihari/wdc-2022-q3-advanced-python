{
 "cells": [
  {
   "cell_type": "markdown",
   "id": "65b1b150",
   "metadata": {},
   "source": [
    "# Agenda\n",
    "\n",
    "1. Q&A\n",
    "2. Dispatch tables\n",
    "3. Comprehensions (list, dict, set, nested)\n",
    "4. Functional programming (passing functions as arguments)\n",
    "5. `lambda`"
   ]
  },
  {
   "cell_type": "code",
   "execution_count": 1,
   "id": "e913b355",
   "metadata": {},
   "outputs": [
    {
     "name": "stdout",
     "output_type": "stream",
     "text": [
      "Enter function name: a\n",
      "A\n",
      "Enter function name: b\n",
      "B\n",
      "Enter function name: x\n",
      "x is not a valid option\n",
      "Enter function name: z\n",
      "z is not a valid option\n",
      "Enter function name: q\n",
      "q is not a valid option\n",
      "Enter function name: w\n",
      "w is not a valid option\n",
      "Enter function name: ab\n",
      "ab is not a valid option\n",
      "Enter function name: \n"
     ]
    }
   ],
   "source": [
    "def a():\n",
    "    return 'A'\n",
    "\n",
    "def b():\n",
    "    return 'B'\n",
    "\n",
    "while True:\n",
    "    s = input('Enter function name: ').strip()\n",
    "    \n",
    "    if not s:\n",
    "        break\n",
    "        \n",
    "    if s == 'a':\n",
    "        print(a())\n",
    "    elif s == 'b':\n",
    "        print(b())\n",
    "    else:\n",
    "        print(f'{s} is not a valid option')"
   ]
  },
  {
   "cell_type": "markdown",
   "id": "809e38e7",
   "metadata": {},
   "source": [
    "# Dispatch table"
   ]
  },
  {
   "cell_type": "code",
   "execution_count": 2,
   "id": "ad13ed77",
   "metadata": {},
   "outputs": [
    {
     "name": "stdout",
     "output_type": "stream",
     "text": [
      "Enter function name: a\n",
      "A\n",
      "Enter function name: b\n",
      "B\n",
      "Enter function name: c\n",
      "c is not a valid option\n",
      "Enter function name: \n"
     ]
    }
   ],
   "source": [
    "def a():\n",
    "    return 'A'\n",
    "\n",
    "def b():\n",
    "    return 'B'\n",
    "\n",
    "funcs = {'a':a,\n",
    "         'b':b}\n",
    "\n",
    "while True:\n",
    "    s = input('Enter function name: ').strip()\n",
    "    \n",
    "    if not s:\n",
    "        break\n",
    "        \n",
    "    if s in funcs:\n",
    "        print(funcs[s]())\n",
    "    else:\n",
    "        print(f'{s} is not a valid option')"
   ]
  },
  {
   "cell_type": "markdown",
   "id": "449ab01d",
   "metadata": {},
   "source": [
    "# Exercise: Calculator\n",
    "\n",
    "1. Write two functions, `add` and `mul`, that implement addition and multiplication.\n",
    "2. Ask the user, repeatedly, to enter a simple math expression with two numbers and either `+` or `*`.\n",
    "    - If the operator is known, then run the appropriate function, and display the expression and the result.\n",
    "    - If not, then give the user a message that makes it clear the operator isn't known.\n",
    "3. Use a dispatch table to implement this functionality.\n",
    "4. How easy will it be to add new operators, and functions?\n",
    "\n",
    "Example:\n",
    "\n",
    "    Enter expression: 2 + 5\n",
    "    2 + 5 = 7\n",
    "    Enter expression: 3 * 10\n",
    "    3 * 10 = 30\n",
    "    Enter expression: 10 / 2\n",
    "    10 / 2 = (not implemented)"
   ]
  },
  {
   "cell_type": "code",
   "execution_count": 6,
   "id": "ae8efc76",
   "metadata": {},
   "outputs": [
    {
     "name": "stdout",
     "output_type": "stream",
     "text": [
      "Enter expression: 2 + 3\n",
      "2 + 3 = 5\n",
      "Enter expression: \n"
     ]
    }
   ],
   "source": [
    "def add(first, second):\n",
    "    return first + second\n",
    "\n",
    "def mul(first, second):\n",
    "    return first * second\n",
    "\n",
    "def sub(first, second):\n",
    "    return first - second\n",
    "\n",
    "funcs = {'+':add,\n",
    "         '*':mul,\n",
    "         '-':sub        }\n",
    "\n",
    "while True:\n",
    "    s = input('Enter expression: ').strip()\n",
    "    \n",
    "    if not s:\n",
    "        break\n",
    "        \n",
    "    fields = s.split()\n",
    "    if len(fields) != 3:\n",
    "        print(f'Illegal input; enter an expression as X op Y')\n",
    "        continue\n",
    "        \n",
    "    x, op, y = fields\n",
    "    x = int(x)\n",
    "    y = int(y)\n",
    "    \n",
    "    if op in funcs:\n",
    "        result = funcs[op](x, y)\n",
    "    else:\n",
    "        result = f'({op} is not implemented)'\n",
    "        \n",
    "    print(f'{x} {op} {y} = {result}')\n",
    "    "
   ]
  },
  {
   "cell_type": "code",
   "execution_count": 8,
   "id": "479ac416",
   "metadata": {},
   "outputs": [
    {
     "name": "stdout",
     "output_type": "stream",
     "text": [
      "Enter expression: + 2 3 4\n",
      "2 + 3 = 9\n",
      "Enter expression: * 2 3 4\n",
      "2 * 3 = 24\n",
      "Enter expression: \n"
     ]
    }
   ],
   "source": [
    "# prefix syntax\n",
    "# + 2 3 4 5\n",
    "# * 2 3 4 5\n",
    "\n",
    "def add(*numbers):\n",
    "    total = 0\n",
    "    \n",
    "    for one_number in numbers:\n",
    "        total += one_number\n",
    "\n",
    "    return total\n",
    "\n",
    "def mul(*numbers):\n",
    "    product = 1\n",
    "    \n",
    "    for one_number in numbers:\n",
    "        product *= one_number\n",
    "        \n",
    "    return product\n",
    "\n",
    "    \n",
    "funcs = {'+':add,\n",
    "         '*':mul}\n",
    "\n",
    "while True:\n",
    "    s = input('Enter expression: ').strip()\n",
    "    \n",
    "    if not s:\n",
    "        break\n",
    "        \n",
    "    op, *str_numbers = s.split()     # str_numbers will be a list\n",
    "        \n",
    "    numbers = []\n",
    "    for one_number in str_numbers:\n",
    "        if one_number.isdigit():\n",
    "            numbers.append(int(one_number))\n",
    "        else:\n",
    "            print(f'Ignoring {one_number}; not intable')\n",
    "\n",
    "    if op in funcs:\n",
    "        result = funcs[op](*numbers)  # turn the list numbers into many individual arguments, from its elements\n",
    "    else:\n",
    "        result = f'({op} is not implemented)'\n",
    "        \n",
    "    print(f'{x} {op} {y} = {result}')\n",
    "    "
   ]
  },
  {
   "cell_type": "markdown",
   "id": "2aa5b203",
   "metadata": {},
   "source": [
    "# Uses for `*NAME`\n",
    "\n",
    "- In the definition of a function, `*args` is a tuple, with all positional args no one else wanted\n",
    "- In calling a function, `*name` must be an iterable, and its elements will be arguments to the function\n",
    "- In unpacking, `*name` makes `name` a list, with all elements that other variables didn't get."
   ]
  },
  {
   "cell_type": "code",
   "execution_count": 12,
   "id": "06de4544",
   "metadata": {},
   "outputs": [],
   "source": [
    "s = {10, 20, 30}\n",
    "\n",
    "def mysum(*numbers):\n",
    "    print(f'{numbers=}')\n",
    "    total = 0\n",
    "    \n",
    "    for one_number in numbers:\n",
    "        total += one_number\n",
    "        \n",
    "    return total"
   ]
  },
  {
   "cell_type": "code",
   "execution_count": 13,
   "id": "65551d32",
   "metadata": {},
   "outputs": [
    {
     "name": "stdout",
     "output_type": "stream",
     "text": [
      "numbers=({10, 20, 30},)\n"
     ]
    },
    {
     "ename": "TypeError",
     "evalue": "unsupported operand type(s) for +=: 'int' and 'set'",
     "output_type": "error",
     "traceback": [
      "\u001b[0;31m---------------------------------------------------------------------------\u001b[0m",
      "\u001b[0;31mTypeError\u001b[0m                                 Traceback (most recent call last)",
      "\u001b[0;32m/var/folders/rr/0mnyyv811fs5vyp22gf4fxk00000gn/T/ipykernel_82208/1600672252.py\u001b[0m in \u001b[0;36m<module>\u001b[0;34m\u001b[0m\n\u001b[0;32m----> 1\u001b[0;31m \u001b[0mmysum\u001b[0m\u001b[0;34m(\u001b[0m\u001b[0ms\u001b[0m\u001b[0;34m)\u001b[0m\u001b[0;34m\u001b[0m\u001b[0;34m\u001b[0m\u001b[0m\n\u001b[0m",
      "\u001b[0;32m/var/folders/rr/0mnyyv811fs5vyp22gf4fxk00000gn/T/ipykernel_82208/3236763817.py\u001b[0m in \u001b[0;36mmysum\u001b[0;34m(*numbers)\u001b[0m\n\u001b[1;32m      6\u001b[0m \u001b[0;34m\u001b[0m\u001b[0m\n\u001b[1;32m      7\u001b[0m     \u001b[0;32mfor\u001b[0m \u001b[0mone_number\u001b[0m \u001b[0;32min\u001b[0m \u001b[0mnumbers\u001b[0m\u001b[0;34m:\u001b[0m\u001b[0;34m\u001b[0m\u001b[0;34m\u001b[0m\u001b[0m\n\u001b[0;32m----> 8\u001b[0;31m         \u001b[0mtotal\u001b[0m \u001b[0;34m+=\u001b[0m \u001b[0mone_number\u001b[0m\u001b[0;34m\u001b[0m\u001b[0;34m\u001b[0m\u001b[0m\n\u001b[0m\u001b[1;32m      9\u001b[0m \u001b[0;34m\u001b[0m\u001b[0m\n\u001b[1;32m     10\u001b[0m     \u001b[0;32mreturn\u001b[0m \u001b[0mtotal\u001b[0m\u001b[0;34m\u001b[0m\u001b[0;34m\u001b[0m\u001b[0m\n",
      "\u001b[0;31mTypeError\u001b[0m: unsupported operand type(s) for +=: 'int' and 'set'"
     ]
    }
   ],
   "source": [
    "mysum(s)"
   ]
  },
  {
   "cell_type": "code",
   "execution_count": 14,
   "id": "09dd3b29",
   "metadata": {},
   "outputs": [
    {
     "name": "stdout",
     "output_type": "stream",
     "text": [
      "numbers=(10, 20, 30)\n"
     ]
    },
    {
     "data": {
      "text/plain": [
       "60"
      ]
     },
     "execution_count": 14,
     "metadata": {},
     "output_type": "execute_result"
    }
   ],
   "source": [
    "mysum(*s)"
   ]
  },
  {
   "cell_type": "code",
   "execution_count": 15,
   "id": "f721a2f4",
   "metadata": {},
   "outputs": [],
   "source": [
    "x,*y,z = range(10, 20)"
   ]
  },
  {
   "cell_type": "code",
   "execution_count": 16,
   "id": "5a656157",
   "metadata": {},
   "outputs": [
    {
     "data": {
      "text/plain": [
       "10"
      ]
     },
     "execution_count": 16,
     "metadata": {},
     "output_type": "execute_result"
    }
   ],
   "source": [
    "x"
   ]
  },
  {
   "cell_type": "code",
   "execution_count": 17,
   "id": "5895cea4",
   "metadata": {},
   "outputs": [
    {
     "data": {
      "text/plain": [
       "[11, 12, 13, 14, 15, 16, 17, 18]"
      ]
     },
     "execution_count": 17,
     "metadata": {},
     "output_type": "execute_result"
    }
   ],
   "source": [
    "y"
   ]
  },
  {
   "cell_type": "code",
   "execution_count": 18,
   "id": "5d1d9a02",
   "metadata": {},
   "outputs": [
    {
     "data": {
      "text/plain": [
       "19"
      ]
     },
     "execution_count": 18,
     "metadata": {},
     "output_type": "execute_result"
    }
   ],
   "source": [
    "z"
   ]
  },
  {
   "cell_type": "code",
   "execution_count": 19,
   "id": "489197d1",
   "metadata": {},
   "outputs": [],
   "source": [
    "w,*x,y,z = range(10, 20)"
   ]
  },
  {
   "cell_type": "code",
   "execution_count": 20,
   "id": "9914028b",
   "metadata": {},
   "outputs": [
    {
     "data": {
      "text/plain": [
       "10"
      ]
     },
     "execution_count": 20,
     "metadata": {},
     "output_type": "execute_result"
    }
   ],
   "source": [
    "w"
   ]
  },
  {
   "cell_type": "code",
   "execution_count": 21,
   "id": "b978c683",
   "metadata": {},
   "outputs": [
    {
     "data": {
      "text/plain": [
       "[11, 12, 13, 14, 15, 16, 17]"
      ]
     },
     "execution_count": 21,
     "metadata": {},
     "output_type": "execute_result"
    }
   ],
   "source": [
    "x"
   ]
  },
  {
   "cell_type": "code",
   "execution_count": 22,
   "id": "ef58d6ae",
   "metadata": {},
   "outputs": [
    {
     "data": {
      "text/plain": [
       "18"
      ]
     },
     "execution_count": 22,
     "metadata": {},
     "output_type": "execute_result"
    }
   ],
   "source": [
    "y"
   ]
  },
  {
   "cell_type": "code",
   "execution_count": 23,
   "id": "ec6a666a",
   "metadata": {},
   "outputs": [
    {
     "data": {
      "text/plain": [
       "19"
      ]
     },
     "execution_count": 23,
     "metadata": {},
     "output_type": "execute_result"
    }
   ],
   "source": [
    "z"
   ]
  },
  {
   "cell_type": "markdown",
   "id": "ace43eaa",
   "metadata": {},
   "source": [
    "# Comprehensions"
   ]
  },
  {
   "cell_type": "code",
   "execution_count": null,
   "id": "030ab78a",
   "metadata": {},
   "outputs": [],
   "source": [
    "numbers = range(10)\n",
    "\n",
    "# I want a new list whose elements are the same as numbers, "
   ]
  }
 ],
 "metadata": {
  "kernelspec": {
   "display_name": "Python 3 (ipykernel)",
   "language": "python",
   "name": "python3"
  },
  "language_info": {
   "codemirror_mode": {
    "name": "ipython",
    "version": 3
   },
   "file_extension": ".py",
   "mimetype": "text/x-python",
   "name": "python",
   "nbconvert_exporter": "python",
   "pygments_lexer": "ipython3",
   "version": "3.10.5"
  }
 },
 "nbformat": 4,
 "nbformat_minor": 5
}

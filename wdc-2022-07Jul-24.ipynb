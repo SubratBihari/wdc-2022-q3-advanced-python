{
 "cells": [
  {
   "cell_type": "markdown",
   "id": "65b1b150",
   "metadata": {},
   "source": [
    "# Agenda\n",
    "\n",
    "1. Q&A\n",
    "2. Dispatch tables\n",
    "3. Comprehensions (list, dict, set, nested)\n",
    "4. Functional programming (passing functions as arguments)\n",
    "5. `lambda`"
   ]
  },
  {
   "cell_type": "code",
   "execution_count": 1,
   "id": "4b336141",
   "metadata": {},
   "outputs": [
    {
     "name": "stdout",
     "output_type": "stream",
     "text": [
      "Enter function name: a\n",
      "A\n",
      "Enter function name: b\n",
      "B\n",
      "Enter function name: x\n",
      "x is not a valid option\n",
      "Enter function name: z\n",
      "z is not a valid option\n",
      "Enter function name: q\n",
      "q is not a valid option\n",
      "Enter function name: w\n",
      "w is not a valid option\n",
      "Enter function name: ab\n",
      "ab is not a valid option\n",
      "Enter function name: \n"
     ]
    }
   ],
   "source": [
    "def a():\n",
    "    return 'A'\n",
    "\n",
    "def b():\n",
    "    return 'B'\n",
    "\n",
    "while True:\n",
    "    s = input('Enter function name: ').strip()\n",
    "    \n",
    "    if not s:\n",
    "        break\n",
    "        \n",
    "    if s == 'a':\n",
    "        print(a())\n",
    "    elif s == 'b':\n",
    "        print(b())\n",
    "    else:\n",
    "        print(f'{s} is not a valid option')"
   ]
  },
  {
   "cell_type": "markdown",
   "id": "a599cc1f",
   "metadata": {},
   "source": [
    "# Dispatch table"
   ]
  },
  {
   "cell_type": "code",
   "execution_count": 2,
   "id": "38924f4a",
   "metadata": {},
   "outputs": [
    {
     "name": "stdout",
     "output_type": "stream",
     "text": [
      "Enter function name: a\n",
      "A\n",
      "Enter function name: b\n",
      "B\n",
      "Enter function name: c\n",
      "c is not a valid option\n",
      "Enter function name: \n"
     ]
    }
   ],
   "source": [
    "def a():\n",
    "    return 'A'\n",
    "\n",
    "def b():\n",
    "    return 'B'\n",
    "\n",
    "funcs = {'a':a,\n",
    "         'b':b}\n",
    "\n",
    "while True:\n",
    "    s = input('Enter function name: ').strip()\n",
    "    \n",
    "    if not s:\n",
    "        break\n",
    "        \n",
    "    if s in funcs:\n",
    "        print(funcs[s]())\n",
    "    else:\n",
    "        print(f'{s} is not a valid option')"
   ]
  },
  {
   "cell_type": "markdown",
   "id": "215a1c18",
   "metadata": {},
   "source": [
    "# Exercise: Calculator\n",
    "\n",
    "1. Write two functions, `add` and `mul`, that implement addition and multiplication.\n",
    "2. Ask the user, repeatedly, to enter a sim"
   ]
  }
 ],
 "metadata": {
  "kernelspec": {
   "display_name": "Python 3 (ipykernel)",
   "language": "python",
   "name": "python3"
  },
  "language_info": {
   "codemirror_mode": {
    "name": "ipython",
    "version": 3
   },
   "file_extension": ".py",
   "mimetype": "text/x-python",
   "name": "python",
   "nbconvert_exporter": "python",
   "pygments_lexer": "ipython3",
   "version": "3.10.5"
  }
 },
 "nbformat": 4,
 "nbformat_minor": 5
}

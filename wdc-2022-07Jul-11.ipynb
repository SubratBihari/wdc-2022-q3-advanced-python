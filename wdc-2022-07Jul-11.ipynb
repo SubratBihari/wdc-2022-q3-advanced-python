{
 "cells": [
  {
   "cell_type": "markdown",
   "id": "5eb2b038",
   "metadata": {},
   "source": [
    "# Agenda\n",
    "\n",
    "1. How dictionaries work\n",
    "2. Dictionary variants\n",
    "3. Functions\n",
    "     - Function objects\n",
    "     - Arguments and parameters"
   ]
  },
  {
   "cell_type": "code",
   "execution_count": null,
   "id": "c6630dda",
   "metadata": {},
   "outputs": [],
   "source": [
    "for VARIABLE in OBJECT:\n",
    "    BODY"
   ]
  },
  {
   "cell_type": "code",
   "execution_count": 1,
   "id": "89a6fdeb",
   "metadata": {},
   "outputs": [
    {
     "name": "stdout",
     "output_type": "stream",
     "text": [
      "a\n",
      "b\n",
      "c\n",
      "d\n"
     ]
    }
   ],
   "source": [
    "d1 = {'a':1, 'b':2, 'c':3}\n",
    "d2 = {'b':3, 'c':4, 'd':5}\n",
    "\n",
    "for one_item in d1 | d2:  \n",
    "    print(one_item)"
   ]
  },
  {
   "cell_type": "code",
   "execution_count": 2,
   "id": "d5714e54",
   "metadata": {},
   "outputs": [
    {
     "name": "stdout",
     "output_type": "stream",
     "text": [
      "('a', 1)\n",
      "('b', 3)\n",
      "('c', 4)\n",
      "('d', 5)\n"
     ]
    }
   ],
   "source": [
    "for one_item in (d1 | d2).items():  \n",
    "    print(one_item)"
   ]
  },
  {
   "cell_type": "code",
   "execution_count": 3,
   "id": "36faeb47",
   "metadata": {},
   "outputs": [
    {
     "name": "stdout",
     "output_type": "stream",
     "text": [
      "('b', 2)\n",
      "('c', 3)\n",
      "('d', 5)\n",
      "('a', 1)\n"
     ]
    }
   ],
   "source": [
    "for one_item in (d2 | d1).items():  \n",
    "    print(one_item)"
   ]
  },
  {
   "cell_type": "code",
   "execution_count": 4,
   "id": "3a3596bb",
   "metadata": {},
   "outputs": [],
   "source": [
    "d = {'c':100, 'b':200, 'd':300, 'a':400, 'e':500}"
   ]
  },
  {
   "cell_type": "code",
   "execution_count": 5,
   "id": "e693390d",
   "metadata": {},
   "outputs": [
    {
     "data": {
      "text/plain": [
       "dict_keys(['c', 'b', 'd', 'a', 'e'])"
      ]
     },
     "execution_count": 5,
     "metadata": {},
     "output_type": "execute_result"
    }
   ],
   "source": [
    "d.keys()"
   ]
  },
  {
   "cell_type": "code",
   "execution_count": 6,
   "id": "10d81a61",
   "metadata": {},
   "outputs": [
    {
     "data": {
      "text/plain": [
       "dict_keys(['c', 'b', 'd', 'a', 'e', 'g', 'f'])"
      ]
     },
     "execution_count": 6,
     "metadata": {},
     "output_type": "execute_result"
    }
   ],
   "source": [
    "d['g'] = 600\n",
    "d['f'] = 700\n",
    "\n",
    "d.keys()"
   ]
  },
  {
   "cell_type": "code",
   "execution_count": 9,
   "id": "c58fe35c",
   "metadata": {},
   "outputs": [
    {
     "data": {
      "text/plain": [
       "['f', 'b', 'g', 'd', 'e', 'a', 'c']"
      ]
     },
     "execution_count": 9,
     "metadata": {},
     "output_type": "execute_result"
    }
   ],
   "source": [
    "list(set(d.keys()))"
   ]
  },
  {
   "cell_type": "code",
   "execution_count": 10,
   "id": "dd9a6db1",
   "metadata": {},
   "outputs": [
    {
     "data": {
      "text/plain": [
       "{'a': 1, 'b': 3, 'c': 4, 'd': 5}"
      ]
     },
     "execution_count": 10,
     "metadata": {},
     "output_type": "execute_result"
    }
   ],
   "source": [
    "d1 | d2"
   ]
  },
  {
   "cell_type": "code",
   "execution_count": 12,
   "id": "cff97572",
   "metadata": {},
   "outputs": [
    {
     "data": {
      "text/plain": [
       "['a', 'c', 'd', 'b']"
      ]
     },
     "execution_count": 12,
     "metadata": {},
     "output_type": "execute_result"
    }
   ],
   "source": [
    "list(d1.keys() | d2.keys())"
   ]
  },
  {
   "cell_type": "code",
   "execution_count": 13,
   "id": "e0d7fd66",
   "metadata": {},
   "outputs": [
    {
     "data": {
      "text/plain": [
       "{'a': 1, 'b': 3, 'c': 4, 'd': 5}"
      ]
     },
     "execution_count": 13,
     "metadata": {},
     "output_type": "execute_result"
    }
   ],
   "source": [
    "d1 | d2"
   ]
  },
  {
   "cell_type": "code",
   "execution_count": 16,
   "id": "0cb34afb",
   "metadata": {},
   "outputs": [
    {
     "data": {
      "text/plain": [
       "['a', 'c', 'd', 'b']"
      ]
     },
     "execution_count": 16,
     "metadata": {},
     "output_type": "execute_result"
    }
   ],
   "source": [
    "list(d1.keys() | d2.keys())"
   ]
  },
  {
   "cell_type": "code",
   "execution_count": 17,
   "id": "b2ad08d0",
   "metadata": {},
   "outputs": [
    {
     "data": {
      "text/plain": [
       "['a', 'c', 'd', 'b']"
      ]
     },
     "execution_count": 17,
     "metadata": {},
     "output_type": "execute_result"
    }
   ],
   "source": [
    "d1 = {'a':1, 'b':2, 'c':3}\n",
    "d2 = {'b':3, 'c':4, 'd':5}\n",
    "\n",
    "list(d1.keys() | d2.keys())"
   ]
  },
  {
   "cell_type": "code",
   "execution_count": 18,
   "id": "7eec0bd6",
   "metadata": {},
   "outputs": [
    {
     "data": {
      "text/plain": [
       "{'a', 'b', 'c', 'd'}"
      ]
     },
     "execution_count": 18,
     "metadata": {},
     "output_type": "execute_result"
    }
   ],
   "source": [
    "d1.keys() | d2.keys()    # sets are ordered when displayed in Jupyter"
   ]
  },
  {
   "cell_type": "code",
   "execution_count": 19,
   "id": "a00f8118",
   "metadata": {},
   "outputs": [
    {
     "name": "stdout",
     "output_type": "stream",
     "text": [
      "a\n",
      "c\n",
      "d\n",
      "b\n"
     ]
    }
   ],
   "source": [
    "for one_item in (d1.keys() | d2.keys()):   #but sets have a different internal order we can see via \"for\"\n",
    "    print(one_item)"
   ]
  },
  {
   "cell_type": "code",
   "execution_count": 20,
   "id": "981d9622",
   "metadata": {},
   "outputs": [
    {
     "data": {
      "text/plain": [
       "['a', 'c', 'd', 'b']"
      ]
     },
     "execution_count": 20,
     "metadata": {},
     "output_type": "execute_result"
    }
   ],
   "source": [
    "list(d1.keys()|d2.keys())"
   ]
  },
  {
   "cell_type": "code",
   "execution_count": 21,
   "id": "82abef33",
   "metadata": {},
   "outputs": [],
   "source": [
    "d1 = {'a':1, 'b':2, 'c':3}\n",
    "d2 = {'b':3, 'c':4, 'd':5}\n"
   ]
  },
  {
   "cell_type": "code",
   "execution_count": 22,
   "id": "0111b4e6",
   "metadata": {},
   "outputs": [
    {
     "data": {
      "text/plain": [
       "{'a': 1, 'b': 2, 'c': 3}"
      ]
     },
     "execution_count": 22,
     "metadata": {},
     "output_type": "execute_result"
    }
   ],
   "source": [
    "d1"
   ]
  },
  {
   "cell_type": "code",
   "execution_count": 24,
   "id": "61c380d1",
   "metadata": {},
   "outputs": [
    {
     "data": {
      "text/plain": [
       "{'a': 1, 'b': 100, 'c': 3}"
      ]
     },
     "execution_count": 24,
     "metadata": {},
     "output_type": "execute_result"
    }
   ],
   "source": [
    "d1['b'] = 100\n",
    "d1"
   ]
  },
  {
   "cell_type": "code",
   "execution_count": 25,
   "id": "7ea2ff95",
   "metadata": {},
   "outputs": [
    {
     "data": {
      "text/plain": [
       "{'a': 1, 'b': 3, 'c': 4, 'd': 5}"
      ]
     },
     "execution_count": 25,
     "metadata": {},
     "output_type": "execute_result"
    }
   ],
   "source": [
    "d1 = {'a':1, 'b':2, 'c':3}\n",
    "d2 = {'b':3, 'c':4, 'd':5}\n",
    "\n",
    "d1 | d2    "
   ]
  },
  {
   "cell_type": "code",
   "execution_count": 28,
   "id": "5127195f",
   "metadata": {},
   "outputs": [],
   "source": [
    "# rewrite of the above\n",
    "\n",
    "def my_dict_union(d1, d2):\n",
    "    output = d1.copy()\n",
    "    \n",
    "    for key, value in d2.items():\n",
    "        output[key] = value\n",
    "        \n",
    "    return output\n",
    "        "
   ]
  },
  {
   "cell_type": "code",
   "execution_count": 29,
   "id": "f95a8c41",
   "metadata": {},
   "outputs": [
    {
     "data": {
      "text/plain": [
       "{'a': 1, 'b': 3, 'c': 4, 'd': 5}"
      ]
     },
     "execution_count": 29,
     "metadata": {},
     "output_type": "execute_result"
    }
   ],
   "source": [
    "my_dict_union(d1, d2)"
   ]
  },
  {
   "cell_type": "code",
   "execution_count": 30,
   "id": "b615b037",
   "metadata": {},
   "outputs": [
    {
     "data": {
      "text/plain": [
       "dict_keys"
      ]
     },
     "execution_count": 30,
     "metadata": {},
     "output_type": "execute_result"
    }
   ],
   "source": [
    "type(d1.keys())"
   ]
  },
  {
   "cell_type": "code",
   "execution_count": 31,
   "id": "80f5e7a6",
   "metadata": {},
   "outputs": [
    {
     "data": {
      "text/plain": [
       "set"
      ]
     },
     "execution_count": 31,
     "metadata": {},
     "output_type": "execute_result"
    }
   ],
   "source": [
    "type(d1.keys() | d2.keys())"
   ]
  },
  {
   "cell_type": "code",
   "execution_count": 34,
   "id": "e0ce9676",
   "metadata": {},
   "outputs": [
    {
     "data": {
      "text/plain": [
       "{'a', 'b', 'c', 'd'}"
      ]
     },
     "execution_count": 34,
     "metadata": {},
     "output_type": "execute_result"
    }
   ],
   "source": [
    "d1.keys().__ror__(d2.keys())"
   ]
  },
  {
   "cell_type": "raw",
   "id": "629330be",
   "metadata": {},
   "source": [
    "Python 2 dict  (through Python 3.5)\n",
    "\n",
    "a new dict creates a 2-column table with 8 rows\n",
    "\n",
    "     key     value\n",
    "0     'a'      10\n",
    "1     'i'      100\n",
    "2     'c'     30\n",
    "3     'b'       20\n",
    "4\n",
    "5\n",
    "6\n",
    "7\n"
   ]
  },
  {
   "cell_type": "raw",
   "id": "50ac1083",
   "metadata": {},
   "source": [
    "Python 3 dict (starting with Python 3.6)\n",
    "\n",
    "Two data structures behind the scene: (1) table and (2) array\n",
    "\n",
    "Table\n",
    "\n",
    "index    key    value\n",
    "---------------------\n",
    "  0      'a'      100\n",
    "  1      'b'      200\n",
    "  2      'c'      300\n",
    "\n",
    "Array\n",
    "\n",
    "[None,None,0,None,None,1,2,None]"
   ]
  },
  {
   "cell_type": "code",
   "execution_count": 35,
   "id": "04fac8ae",
   "metadata": {},
   "outputs": [],
   "source": [
    "d = {}"
   ]
  },
  {
   "cell_type": "code",
   "execution_count": 36,
   "id": "f002656a",
   "metadata": {},
   "outputs": [],
   "source": [
    "d['a'] = 100"
   ]
  },
  {
   "cell_type": "code",
   "execution_count": 37,
   "id": "b1eaacfa",
   "metadata": {},
   "outputs": [
    {
     "data": {
      "text/plain": [
       "2"
      ]
     },
     "execution_count": 37,
     "metadata": {},
     "output_type": "execute_result"
    }
   ],
   "source": [
    "hash('a') % 8"
   ]
  },
  {
   "cell_type": "code",
   "execution_count": null,
   "id": "79d3f137",
   "metadata": {},
   "outputs": [],
   "source": [
    "'a' in d"
   ]
  },
  {
   "cell_type": "code",
   "execution_count": 38,
   "id": "d2570fbe",
   "metadata": {},
   "outputs": [],
   "source": [
    "d['b'] = 200\n",
    "d['c'] = 300"
   ]
  },
  {
   "cell_type": "code",
   "execution_count": 39,
   "id": "c768fdf2",
   "metadata": {},
   "outputs": [
    {
     "data": {
      "text/plain": [
       "5"
      ]
     },
     "execution_count": 39,
     "metadata": {},
     "output_type": "execute_result"
    }
   ],
   "source": [
    "hash('b') % 8"
   ]
  },
  {
   "cell_type": "code",
   "execution_count": 40,
   "id": "5708c9ed",
   "metadata": {},
   "outputs": [
    {
     "data": {
      "text/plain": [
       "5"
      ]
     },
     "execution_count": 40,
     "metadata": {},
     "output_type": "execute_result"
    }
   ],
   "source": [
    "hash('c') % 8"
   ]
  },
  {
   "cell_type": "code",
   "execution_count": 41,
   "id": "f23939c3",
   "metadata": {},
   "outputs": [
    {
     "data": {
      "text/plain": [
       "True"
      ]
     },
     "execution_count": 41,
     "metadata": {},
     "output_type": "execute_result"
    }
   ],
   "source": [
    "'c' in d"
   ]
  },
  {
   "cell_type": "code",
   "execution_count": 42,
   "id": "a0ccacb2",
   "metadata": {},
   "outputs": [],
   "source": [
    "from collections import OrderedDict"
   ]
  },
  {
   "cell_type": "code",
   "execution_count": 43,
   "id": "3b530bb9",
   "metadata": {},
   "outputs": [],
   "source": [
    "d = OrderedDict()\n",
    "d['a'] = 100\n",
    "d['b'] = 200\n",
    "d['c'] = 300"
   ]
  },
  {
   "cell_type": "code",
   "execution_count": 44,
   "id": "b6a6195f",
   "metadata": {},
   "outputs": [
    {
     "data": {
      "text/plain": [
       "OrderedDict([('a', 100), ('b', 200), ('c', 300)])"
      ]
     },
     "execution_count": 44,
     "metadata": {},
     "output_type": "execute_result"
    }
   ],
   "source": [
    "d"
   ]
  },
  {
   "cell_type": "code",
   "execution_count": 45,
   "id": "a868bb55",
   "metadata": {},
   "outputs": [],
   "source": [
    "d1 = {'a':100, 'b':200, 'c':300}\n",
    "d2 = {'a':100, 'c':300, 'b':200}"
   ]
  },
  {
   "cell_type": "code",
   "execution_count": 46,
   "id": "77ae3b13",
   "metadata": {},
   "outputs": [
    {
     "data": {
      "text/plain": [
       "{'a': 100, 'b': 200, 'c': 300}"
      ]
     },
     "execution_count": 46,
     "metadata": {},
     "output_type": "execute_result"
    }
   ],
   "source": [
    "d1"
   ]
  },
  {
   "cell_type": "code",
   "execution_count": 47,
   "id": "8ccd6080",
   "metadata": {},
   "outputs": [
    {
     "data": {
      "text/plain": [
       "{'a': 100, 'c': 300, 'b': 200}"
      ]
     },
     "execution_count": 47,
     "metadata": {},
     "output_type": "execute_result"
    }
   ],
   "source": [
    "d2"
   ]
  },
  {
   "cell_type": "code",
   "execution_count": 48,
   "id": "8ac9aea4",
   "metadata": {},
   "outputs": [
    {
     "data": {
      "text/plain": [
       "True"
      ]
     },
     "execution_count": 48,
     "metadata": {},
     "output_type": "execute_result"
    }
   ],
   "source": [
    "d1 == d2"
   ]
  },
  {
   "cell_type": "code",
   "execution_count": 49,
   "id": "7c1f3a61",
   "metadata": {},
   "outputs": [],
   "source": [
    "d1 = OrderedDict(a=100, b=200, c=300)\n",
    "d2 = OrderedDict(a=100, c=300, b=200)"
   ]
  },
  {
   "cell_type": "code",
   "execution_count": 50,
   "id": "c38c7770",
   "metadata": {},
   "outputs": [
    {
     "data": {
      "text/plain": [
       "OrderedDict([('a', 100), ('b', 200), ('c', 300)])"
      ]
     },
     "execution_count": 50,
     "metadata": {},
     "output_type": "execute_result"
    }
   ],
   "source": [
    "d1"
   ]
  },
  {
   "cell_type": "code",
   "execution_count": 51,
   "id": "cd9e02cf",
   "metadata": {},
   "outputs": [
    {
     "data": {
      "text/plain": [
       "OrderedDict([('a', 100), ('c', 300), ('b', 200)])"
      ]
     },
     "execution_count": 51,
     "metadata": {},
     "output_type": "execute_result"
    }
   ],
   "source": [
    "d2"
   ]
  },
  {
   "cell_type": "code",
   "execution_count": 52,
   "id": "debb2a9d",
   "metadata": {},
   "outputs": [
    {
     "data": {
      "text/plain": [
       "False"
      ]
     },
     "execution_count": 52,
     "metadata": {},
     "output_type": "execute_result"
    }
   ],
   "source": [
    "d1 == d2"
   ]
  },
  {
   "cell_type": "code",
   "execution_count": 53,
   "id": "cf40eabf",
   "metadata": {},
   "outputs": [],
   "source": [
    "from collections import defaultdict"
   ]
  },
  {
   "cell_type": "code",
   "execution_count": 54,
   "id": "8aeeb40a",
   "metadata": {},
   "outputs": [
    {
     "ename": "TypeError",
     "evalue": "first argument must be callable or None",
     "output_type": "error",
     "traceback": [
      "\u001b[0;31m---------------------------------------------------------------------------\u001b[0m",
      "\u001b[0;31mTypeError\u001b[0m                                 Traceback (most recent call last)",
      "\u001b[0;32m/var/folders/rr/0mnyyv811fs5vyp22gf4fxk00000gn/T/ipykernel_200/1654680976.py\u001b[0m in \u001b[0;36m<module>\u001b[0;34m\u001b[0m\n\u001b[0;32m----> 1\u001b[0;31m \u001b[0md\u001b[0m \u001b[0;34m=\u001b[0m \u001b[0mdefaultdict\u001b[0m\u001b[0;34m(\u001b[0m\u001b[0;36m0\u001b[0m\u001b[0;34m)\u001b[0m\u001b[0;34m\u001b[0m\u001b[0;34m\u001b[0m\u001b[0m\n\u001b[0m",
      "\u001b[0;31mTypeError\u001b[0m: first argument must be callable or None"
     ]
    }
   ],
   "source": [
    "d = defaultdict(0)"
   ]
  },
  {
   "cell_type": "code",
   "execution_count": 55,
   "id": "b82f8a7d",
   "metadata": {},
   "outputs": [],
   "source": [
    "d = defaultdict(int)"
   ]
  },
  {
   "cell_type": "code",
   "execution_count": 56,
   "id": "e979eb38",
   "metadata": {},
   "outputs": [
    {
     "data": {
      "text/plain": [
       "0"
      ]
     },
     "execution_count": 56,
     "metadata": {},
     "output_type": "execute_result"
    }
   ],
   "source": [
    "int()"
   ]
  },
  {
   "cell_type": "code",
   "execution_count": 57,
   "id": "903d8125",
   "metadata": {},
   "outputs": [
    {
     "data": {
      "text/plain": [
       "0"
      ]
     },
     "execution_count": 57,
     "metadata": {},
     "output_type": "execute_result"
    }
   ],
   "source": [
    "d['a']"
   ]
  },
  {
   "cell_type": "code",
   "execution_count": 58,
   "id": "0875732c",
   "metadata": {},
   "outputs": [
    {
     "data": {
      "text/plain": [
       "defaultdict(int, {'a': 0})"
      ]
     },
     "execution_count": 58,
     "metadata": {},
     "output_type": "execute_result"
    }
   ],
   "source": [
    "d"
   ]
  },
  {
   "cell_type": "code",
   "execution_count": 59,
   "id": "a829df4d",
   "metadata": {},
   "outputs": [
    {
     "data": {
      "text/plain": [
       "0"
      ]
     },
     "execution_count": 59,
     "metadata": {},
     "output_type": "execute_result"
    }
   ],
   "source": [
    "d['b']"
   ]
  },
  {
   "cell_type": "code",
   "execution_count": 60,
   "id": "b09a2c5d",
   "metadata": {},
   "outputs": [
    {
     "data": {
      "text/plain": [
       "0"
      ]
     },
     "execution_count": 60,
     "metadata": {},
     "output_type": "execute_result"
    }
   ],
   "source": [
    "d['c']"
   ]
  },
  {
   "cell_type": "code",
   "execution_count": 61,
   "id": "b4857f17",
   "metadata": {},
   "outputs": [
    {
     "data": {
      "text/plain": [
       "defaultdict(int, {'a': 0, 'b': 0, 'c': 0})"
      ]
     },
     "execution_count": 61,
     "metadata": {},
     "output_type": "execute_result"
    }
   ],
   "source": [
    "d"
   ]
  },
  {
   "cell_type": "code",
   "execution_count": 62,
   "id": "7b86997e",
   "metadata": {},
   "outputs": [],
   "source": [
    "d = defaultdict(int)\n",
    "\n",
    "d['a'] += 10\n",
    "d['b'] += 20\n",
    "d['c'] += 100\n",
    "d['b'] += 15"
   ]
  },
  {
   "cell_type": "code",
   "execution_count": 63,
   "id": "83c9ec9d",
   "metadata": {},
   "outputs": [
    {
     "data": {
      "text/plain": [
       "defaultdict(int, {'a': 10, 'b': 35, 'c': 100})"
      ]
     },
     "execution_count": 63,
     "metadata": {},
     "output_type": "execute_result"
    }
   ],
   "source": [
    "d"
   ]
  },
  {
   "cell_type": "code",
   "execution_count": 64,
   "id": "6bdd4af2",
   "metadata": {},
   "outputs": [
    {
     "ename": "NameError",
     "evalue": "name 'a' is not defined",
     "output_type": "error",
     "traceback": [
      "\u001b[0;31m---------------------------------------------------------------------------\u001b[0m",
      "\u001b[0;31mNameError\u001b[0m                                 Traceback (most recent call last)",
      "\u001b[0;32m/var/folders/rr/0mnyyv811fs5vyp22gf4fxk00000gn/T/ipykernel_200/492326894.py\u001b[0m in \u001b[0;36m<module>\u001b[0;34m\u001b[0m\n\u001b[1;32m      1\u001b[0m \u001b[0md\u001b[0m \u001b[0;34m=\u001b[0m \u001b[0;34m{\u001b[0m\u001b[0;34m}\u001b[0m\u001b[0;34m\u001b[0m\u001b[0;34m\u001b[0m\u001b[0m\n\u001b[0;32m----> 2\u001b[0;31m \u001b[0ma\u001b[0m\u001b[0;34m[\u001b[0m\u001b[0;34m'a'\u001b[0m\u001b[0;34m]\u001b[0m \u001b[0;34m+=\u001b[0m \u001b[0;36m10\u001b[0m\u001b[0;34m\u001b[0m\u001b[0;34m\u001b[0m\u001b[0m\n\u001b[0m",
      "\u001b[0;31mNameError\u001b[0m: name 'a' is not defined"
     ]
    }
   ],
   "source": [
    "d = {}\n",
    "a['a'] += 10"
   ]
  },
  {
   "cell_type": "code",
   "execution_count": 66,
   "id": "d883c125",
   "metadata": {},
   "outputs": [],
   "source": [
    "d = defaultdict(int)\n",
    "\n",
    "d['a'] += 10    # d['a'] = d['a'] + 10\n"
   ]
  },
  {
   "cell_type": "code",
   "execution_count": 67,
   "id": "5304d67c",
   "metadata": {},
   "outputs": [
    {
     "data": {
      "text/plain": [
       "defaultdict(int, {'a': 10})"
      ]
     },
     "execution_count": 67,
     "metadata": {},
     "output_type": "execute_result"
    }
   ],
   "source": [
    "d"
   ]
  },
  {
   "cell_type": "code",
   "execution_count": 68,
   "id": "6dc034e5",
   "metadata": {},
   "outputs": [
    {
     "data": {
      "text/plain": [
       "0"
      ]
     },
     "execution_count": 68,
     "metadata": {},
     "output_type": "execute_result"
    }
   ],
   "source": [
    "int()"
   ]
  },
  {
   "cell_type": "code",
   "execution_count": 69,
   "id": "4f647f73",
   "metadata": {},
   "outputs": [
    {
     "data": {
      "text/plain": [
       "[]"
      ]
     },
     "execution_count": 69,
     "metadata": {},
     "output_type": "execute_result"
    }
   ],
   "source": [
    "list()\n"
   ]
  },
  {
   "cell_type": "code",
   "execution_count": 70,
   "id": "6c354183",
   "metadata": {},
   "outputs": [
    {
     "data": {
      "text/plain": [
       "{}"
      ]
     },
     "execution_count": 70,
     "metadata": {},
     "output_type": "execute_result"
    }
   ],
   "source": [
    "dict()"
   ]
  },
  {
   "cell_type": "code",
   "execution_count": 76,
   "id": "d5296fc4",
   "metadata": {},
   "outputs": [],
   "source": [
    "def return_5():\n",
    "    print('Now running return_5')\n",
    "    return 5\n",
    "\n",
    "d = defaultdict(return_5)"
   ]
  },
  {
   "cell_type": "code",
   "execution_count": 77,
   "id": "ef03c04f",
   "metadata": {},
   "outputs": [
    {
     "name": "stdout",
     "output_type": "stream",
     "text": [
      "Now running return_5\n"
     ]
    },
    {
     "data": {
      "text/plain": [
       "5"
      ]
     },
     "execution_count": 77,
     "metadata": {},
     "output_type": "execute_result"
    }
   ],
   "source": [
    "d['a']"
   ]
  },
  {
   "cell_type": "code",
   "execution_count": 78,
   "id": "cd1de827",
   "metadata": {},
   "outputs": [
    {
     "name": "stdout",
     "output_type": "stream",
     "text": [
      "Now running return_5\n"
     ]
    },
    {
     "data": {
      "text/plain": [
       "5"
      ]
     },
     "execution_count": 78,
     "metadata": {},
     "output_type": "execute_result"
    }
   ],
   "source": [
    "d['b']"
   ]
  },
  {
   "cell_type": "code",
   "execution_count": 79,
   "id": "1a1e3145",
   "metadata": {},
   "outputs": [
    {
     "name": "stdout",
     "output_type": "stream",
     "text": [
      "Now running return_5\n"
     ]
    }
   ],
   "source": [
    "d['c'] += 10"
   ]
  },
  {
   "cell_type": "code",
   "execution_count": 80,
   "id": "09f344c7",
   "metadata": {},
   "outputs": [
    {
     "data": {
      "text/plain": [
       "defaultdict(<function __main__.return_5()>, {'a': 5, 'b': 5, 'c': 15})"
      ]
     },
     "execution_count": 80,
     "metadata": {},
     "output_type": "execute_result"
    }
   ],
   "source": [
    "d"
   ]
  },
  {
   "cell_type": "code",
   "execution_count": 81,
   "id": "680d392d",
   "metadata": {},
   "outputs": [
    {
     "data": {
      "text/plain": [
       "{'__name__': '__main__',\n",
       " '__doc__': 'Automatically created module for IPython interactive environment',\n",
       " '__package__': None,\n",
       " '__loader__': None,\n",
       " '__spec__': None,\n",
       " '__builtin__': <module 'builtins' (built-in)>,\n",
       " '__builtins__': <module 'builtins' (built-in)>,\n",
       " '_ih': ['',\n",
       "  \"d1 = {'a':1, 'b':2, 'c':3}\\nd2 = {'b':3, 'c':4, 'd':5}\\n\\nfor one_item in d1 | d2:  \\n    print(one_item)\",\n",
       "  'for one_item in (d1 | d2).items():  \\n    print(one_item)',\n",
       "  'for one_item in (d2 | d1).items():  \\n    print(one_item)',\n",
       "  \"d = {'c':100, 'b':200, 'd':300, 'a':400, 'e':500}\",\n",
       "  'd.keys()',\n",
       "  \"d['g'] = 600\\nd['f'] = 700\\n\\nd.keys()\",\n",
       "  'd.keys()',\n",
       "  'set(d.keys())',\n",
       "  'list(set(d.keys()))',\n",
       "  'd1 | d2',\n",
       "  'd1.keys() | d2.keys()',\n",
       "  'list(d1.keys() | d2.keys())',\n",
       "  'd1 | d2',\n",
       "  'd1.keys()',\n",
       "  'd1.keys() | d2.keys()',\n",
       "  'list(d1.keys() | d2.keys())',\n",
       "  \"d1 = {'a':1, 'b':2, 'c':3}\\nd2 = {'b':3, 'c':4, 'd':5}\\n\\nlist(d1.keys() | d2.keys())\",\n",
       "  'd1.keys() | d2.keys()',\n",
       "  'for one_item in (d1.keys() | d2.keys()):\\n    print(one_item)',\n",
       "  'list(d1.keys()|d2.keys())',\n",
       "  \"d1 = {'a':1, 'b':2, 'c':3}\\nd2 = {'b':3, 'c':4, 'd':5}\",\n",
       "  'd1',\n",
       "  \"d1['b'] = 100\\nd\",\n",
       "  \"d1['b'] = 100\\nd1\",\n",
       "  \"d1 = {'a':1, 'b':2, 'c':3}\\nd2 = {'b':3, 'c':4, 'd':5}\\n\\nd1 | d2    \",\n",
       "  '# rewrite of the above\\n\\ndef my_dict_union(d1, d2):\\n    output = d1.copy()\\n    \\n    ',\n",
       "  'my_dict_union(d1, d2)',\n",
       "  '# rewrite of the above\\n\\ndef my_dict_union(d1, d2):\\n    output = d1.copy()\\n    \\n    for key, value in d2.items():\\n        output[key] = value\\n        \\n    return output\\n        ',\n",
       "  'my_dict_union(d1, d2)',\n",
       "  'type(d1.keys())',\n",
       "  'type(d1.keys()|d2.keys())',\n",
       "  'd1.values() | d2.values()',\n",
       "  'dir(d1.keys())',\n",
       "  'd1.keys().__ror__(d2.keys())',\n",
       "  'd = {}',\n",
       "  \"d['a'] = 100\",\n",
       "  \"hash('a') % 8\",\n",
       "  \"d['b'] = 200\\nd['c'] = 300\",\n",
       "  \"hash('b') % 8\",\n",
       "  \"hash('c') % 8\",\n",
       "  \"'c' in d\",\n",
       "  'from collections import OrderedDict',\n",
       "  \"d = OrderedDict()\\nd['a'] = 100\\nd['b'] = 200\\nd['c'] = 300\",\n",
       "  'd',\n",
       "  \"d1 = {'a':100, 'b':200, 'c':300}\\nd2 = {'a':100, 'c':300, 'b':200}\",\n",
       "  'd1',\n",
       "  'd2',\n",
       "  'd1 == d2',\n",
       "  'd1 = OrderedDict(a=100, b=200, c=300)\\nd2 = OrderedDict(a=100, c=300, b=200)',\n",
       "  'd1',\n",
       "  'd2',\n",
       "  'd1 == d2',\n",
       "  'from collections import defaultdict',\n",
       "  'd = defaultdict(0)',\n",
       "  'd = defaultdict(int)',\n",
       "  'int()',\n",
       "  \"d['a']\",\n",
       "  'd',\n",
       "  \"d['b']\",\n",
       "  \"d['c']\",\n",
       "  'd',\n",
       "  \"d = defaultdict(int)\\n\\nd['a'] += 10\\nd['b'] += 20\\nd['c'] += 100\\nd['b'] += 15\",\n",
       "  'd',\n",
       "  \"d = {}\\na['a'] += 10\",\n",
       "  \"d = defaultdict(int)\\n\\nd['a'] += 10\",\n",
       "  \"d = defaultdict(int)\\n\\nd['a'] += 10    # d['a'] = d['a'] + 10\",\n",
       "  'd',\n",
       "  'int()',\n",
       "  'list()',\n",
       "  'dict()',\n",
       "  'def return_5():\\n    return 5\\n\\nd = defaultdict(return_5)',\n",
       "  \"d['a']\",\n",
       "  \"d['b']\",\n",
       "  \"d['c'] += 10\",\n",
       "  'd',\n",
       "  \"def return_5():\\n    print('Now running return_5')\\n    return 5\\n\\nd = defaultdict(return_5)\",\n",
       "  \"d['a']\",\n",
       "  \"d['b']\",\n",
       "  \"d['c'] += 10\",\n",
       "  'd',\n",
       "  'globals()'],\n",
       " '_oh': {5: dict_keys(['c', 'b', 'd', 'a', 'e', 'g', 'f']),\n",
       "  6: dict_keys(['c', 'b', 'd', 'a', 'e', 'g', 'f']),\n",
       "  7: dict_keys(['c', 'b', 'd', 'a', 'e', 'g', 'f']),\n",
       "  8: {'a', 'b', 'c', 'd', 'e', 'f', 'g'},\n",
       "  9: ['f', 'b', 'g', 'd', 'e', 'a', 'c'],\n",
       "  10: {'a': 1, 'b': 3, 'c': 4, 'd': 5},\n",
       "  11: {'a', 'b', 'c', 'd'},\n",
       "  12: ['a', 'c', 'd', 'b'],\n",
       "  13: {'a': 1, 'b': 3, 'c': 4, 'd': 5},\n",
       "  14: dict_keys(['a', 'b', 'c']),\n",
       "  15: {'a', 'b', 'c', 'd'},\n",
       "  16: ['a', 'c', 'd', 'b'],\n",
       "  17: ['a', 'c', 'd', 'b'],\n",
       "  18: {'a', 'b', 'c', 'd'},\n",
       "  20: ['a', 'c', 'd', 'b'],\n",
       "  22: {'a': 1, 'b': 100, 'c': 3},\n",
       "  23: {'c': 100, 'b': 200, 'd': 300, 'a': 400, 'e': 500, 'g': 600, 'f': 700},\n",
       "  24: {'a': 1, 'b': 100, 'c': 3},\n",
       "  25: {'a': 1, 'b': 3, 'c': 4, 'd': 5},\n",
       "  29: {'a': 1, 'b': 3, 'c': 4, 'd': 5},\n",
       "  30: dict_keys,\n",
       "  31: set,\n",
       "  33: ['__and__',\n",
       "   '__class__',\n",
       "   '__contains__',\n",
       "   '__delattr__',\n",
       "   '__dir__',\n",
       "   '__doc__',\n",
       "   '__eq__',\n",
       "   '__format__',\n",
       "   '__ge__',\n",
       "   '__getattribute__',\n",
       "   '__gt__',\n",
       "   '__hash__',\n",
       "   '__init__',\n",
       "   '__init_subclass__',\n",
       "   '__iter__',\n",
       "   '__le__',\n",
       "   '__len__',\n",
       "   '__lt__',\n",
       "   '__ne__',\n",
       "   '__new__',\n",
       "   '__or__',\n",
       "   '__rand__',\n",
       "   '__reduce__',\n",
       "   '__reduce_ex__',\n",
       "   '__repr__',\n",
       "   '__reversed__',\n",
       "   '__ror__',\n",
       "   '__rsub__',\n",
       "   '__rxor__',\n",
       "   '__setattr__',\n",
       "   '__sizeof__',\n",
       "   '__str__',\n",
       "   '__sub__',\n",
       "   '__subclasshook__',\n",
       "   '__xor__',\n",
       "   'isdisjoint',\n",
       "   'mapping'],\n",
       "  34: {'a', 'b', 'c', 'd'},\n",
       "  37: 2,\n",
       "  39: 5,\n",
       "  40: 5,\n",
       "  41: True,\n",
       "  44: OrderedDict([('a', 100), ('b', 200), ('c', 300)]),\n",
       "  46: {'a': 100, 'b': 200, 'c': 300},\n",
       "  47: {'a': 100, 'c': 300, 'b': 200},\n",
       "  48: True,\n",
       "  50: OrderedDict([('a', 100), ('b', 200), ('c', 300)]),\n",
       "  51: OrderedDict([('a', 100), ('c', 300), ('b', 200)]),\n",
       "  52: False,\n",
       "  56: 0,\n",
       "  57: 0,\n",
       "  58: defaultdict(int, {'a': 0, 'b': 0, 'c': 0}),\n",
       "  59: 0,\n",
       "  60: 0,\n",
       "  61: defaultdict(int, {'a': 0, 'b': 0, 'c': 0}),\n",
       "  63: defaultdict(int, {'a': 10, 'b': 35, 'c': 100}),\n",
       "  67: defaultdict(int, {'a': 10}),\n",
       "  68: 0,\n",
       "  69: [],\n",
       "  70: {},\n",
       "  72: 5,\n",
       "  73: 5,\n",
       "  75: defaultdict(<function __main__.return_5()>, {'a': 5, 'b': 5, 'c': 15}),\n",
       "  77: 5,\n",
       "  78: 5,\n",
       "  80: defaultdict(<function __main__.return_5()>, {'a': 5, 'b': 5, 'c': 15})},\n",
       " '_dh': ['/Users/reuven/Courses/Current/WDC-2022-q3-advanced-python'],\n",
       " 'In': ['',\n",
       "  \"d1 = {'a':1, 'b':2, 'c':3}\\nd2 = {'b':3, 'c':4, 'd':5}\\n\\nfor one_item in d1 | d2:  \\n    print(one_item)\",\n",
       "  'for one_item in (d1 | d2).items():  \\n    print(one_item)',\n",
       "  'for one_item in (d2 | d1).items():  \\n    print(one_item)',\n",
       "  \"d = {'c':100, 'b':200, 'd':300, 'a':400, 'e':500}\",\n",
       "  'd.keys()',\n",
       "  \"d['g'] = 600\\nd['f'] = 700\\n\\nd.keys()\",\n",
       "  'd.keys()',\n",
       "  'set(d.keys())',\n",
       "  'list(set(d.keys()))',\n",
       "  'd1 | d2',\n",
       "  'd1.keys() | d2.keys()',\n",
       "  'list(d1.keys() | d2.keys())',\n",
       "  'd1 | d2',\n",
       "  'd1.keys()',\n",
       "  'd1.keys() | d2.keys()',\n",
       "  'list(d1.keys() | d2.keys())',\n",
       "  \"d1 = {'a':1, 'b':2, 'c':3}\\nd2 = {'b':3, 'c':4, 'd':5}\\n\\nlist(d1.keys() | d2.keys())\",\n",
       "  'd1.keys() | d2.keys()',\n",
       "  'for one_item in (d1.keys() | d2.keys()):\\n    print(one_item)',\n",
       "  'list(d1.keys()|d2.keys())',\n",
       "  \"d1 = {'a':1, 'b':2, 'c':3}\\nd2 = {'b':3, 'c':4, 'd':5}\",\n",
       "  'd1',\n",
       "  \"d1['b'] = 100\\nd\",\n",
       "  \"d1['b'] = 100\\nd1\",\n",
       "  \"d1 = {'a':1, 'b':2, 'c':3}\\nd2 = {'b':3, 'c':4, 'd':5}\\n\\nd1 | d2    \",\n",
       "  '# rewrite of the above\\n\\ndef my_dict_union(d1, d2):\\n    output = d1.copy()\\n    \\n    ',\n",
       "  'my_dict_union(d1, d2)',\n",
       "  '# rewrite of the above\\n\\ndef my_dict_union(d1, d2):\\n    output = d1.copy()\\n    \\n    for key, value in d2.items():\\n        output[key] = value\\n        \\n    return output\\n        ',\n",
       "  'my_dict_union(d1, d2)',\n",
       "  'type(d1.keys())',\n",
       "  'type(d1.keys()|d2.keys())',\n",
       "  'd1.values() | d2.values()',\n",
       "  'dir(d1.keys())',\n",
       "  'd1.keys().__ror__(d2.keys())',\n",
       "  'd = {}',\n",
       "  \"d['a'] = 100\",\n",
       "  \"hash('a') % 8\",\n",
       "  \"d['b'] = 200\\nd['c'] = 300\",\n",
       "  \"hash('b') % 8\",\n",
       "  \"hash('c') % 8\",\n",
       "  \"'c' in d\",\n",
       "  'from collections import OrderedDict',\n",
       "  \"d = OrderedDict()\\nd['a'] = 100\\nd['b'] = 200\\nd['c'] = 300\",\n",
       "  'd',\n",
       "  \"d1 = {'a':100, 'b':200, 'c':300}\\nd2 = {'a':100, 'c':300, 'b':200}\",\n",
       "  'd1',\n",
       "  'd2',\n",
       "  'd1 == d2',\n",
       "  'd1 = OrderedDict(a=100, b=200, c=300)\\nd2 = OrderedDict(a=100, c=300, b=200)',\n",
       "  'd1',\n",
       "  'd2',\n",
       "  'd1 == d2',\n",
       "  'from collections import defaultdict',\n",
       "  'd = defaultdict(0)',\n",
       "  'd = defaultdict(int)',\n",
       "  'int()',\n",
       "  \"d['a']\",\n",
       "  'd',\n",
       "  \"d['b']\",\n",
       "  \"d['c']\",\n",
       "  'd',\n",
       "  \"d = defaultdict(int)\\n\\nd['a'] += 10\\nd['b'] += 20\\nd['c'] += 100\\nd['b'] += 15\",\n",
       "  'd',\n",
       "  \"d = {}\\na['a'] += 10\",\n",
       "  \"d = defaultdict(int)\\n\\nd['a'] += 10\",\n",
       "  \"d = defaultdict(int)\\n\\nd['a'] += 10    # d['a'] = d['a'] + 10\",\n",
       "  'd',\n",
       "  'int()',\n",
       "  'list()',\n",
       "  'dict()',\n",
       "  'def return_5():\\n    return 5\\n\\nd = defaultdict(return_5)',\n",
       "  \"d['a']\",\n",
       "  \"d['b']\",\n",
       "  \"d['c'] += 10\",\n",
       "  'd',\n",
       "  \"def return_5():\\n    print('Now running return_5')\\n    return 5\\n\\nd = defaultdict(return_5)\",\n",
       "  \"d['a']\",\n",
       "  \"d['b']\",\n",
       "  \"d['c'] += 10\",\n",
       "  'd',\n",
       "  'globals()'],\n",
       " 'Out': {5: dict_keys(['c', 'b', 'd', 'a', 'e', 'g', 'f']),\n",
       "  6: dict_keys(['c', 'b', 'd', 'a', 'e', 'g', 'f']),\n",
       "  7: dict_keys(['c', 'b', 'd', 'a', 'e', 'g', 'f']),\n",
       "  8: {'a', 'b', 'c', 'd', 'e', 'f', 'g'},\n",
       "  9: ['f', 'b', 'g', 'd', 'e', 'a', 'c'],\n",
       "  10: {'a': 1, 'b': 3, 'c': 4, 'd': 5},\n",
       "  11: {'a', 'b', 'c', 'd'},\n",
       "  12: ['a', 'c', 'd', 'b'],\n",
       "  13: {'a': 1, 'b': 3, 'c': 4, 'd': 5},\n",
       "  14: dict_keys(['a', 'b', 'c']),\n",
       "  15: {'a', 'b', 'c', 'd'},\n",
       "  16: ['a', 'c', 'd', 'b'],\n",
       "  17: ['a', 'c', 'd', 'b'],\n",
       "  18: {'a', 'b', 'c', 'd'},\n",
       "  20: ['a', 'c', 'd', 'b'],\n",
       "  22: {'a': 1, 'b': 100, 'c': 3},\n",
       "  23: {'c': 100, 'b': 200, 'd': 300, 'a': 400, 'e': 500, 'g': 600, 'f': 700},\n",
       "  24: {'a': 1, 'b': 100, 'c': 3},\n",
       "  25: {'a': 1, 'b': 3, 'c': 4, 'd': 5},\n",
       "  29: {'a': 1, 'b': 3, 'c': 4, 'd': 5},\n",
       "  30: dict_keys,\n",
       "  31: set,\n",
       "  33: ['__and__',\n",
       "   '__class__',\n",
       "   '__contains__',\n",
       "   '__delattr__',\n",
       "   '__dir__',\n",
       "   '__doc__',\n",
       "   '__eq__',\n",
       "   '__format__',\n",
       "   '__ge__',\n",
       "   '__getattribute__',\n",
       "   '__gt__',\n",
       "   '__hash__',\n",
       "   '__init__',\n",
       "   '__init_subclass__',\n",
       "   '__iter__',\n",
       "   '__le__',\n",
       "   '__len__',\n",
       "   '__lt__',\n",
       "   '__ne__',\n",
       "   '__new__',\n",
       "   '__or__',\n",
       "   '__rand__',\n",
       "   '__reduce__',\n",
       "   '__reduce_ex__',\n",
       "   '__repr__',\n",
       "   '__reversed__',\n",
       "   '__ror__',\n",
       "   '__rsub__',\n",
       "   '__rxor__',\n",
       "   '__setattr__',\n",
       "   '__sizeof__',\n",
       "   '__str__',\n",
       "   '__sub__',\n",
       "   '__subclasshook__',\n",
       "   '__xor__',\n",
       "   'isdisjoint',\n",
       "   'mapping'],\n",
       "  34: {'a', 'b', 'c', 'd'},\n",
       "  37: 2,\n",
       "  39: 5,\n",
       "  40: 5,\n",
       "  41: True,\n",
       "  44: OrderedDict([('a', 100), ('b', 200), ('c', 300)]),\n",
       "  46: {'a': 100, 'b': 200, 'c': 300},\n",
       "  47: {'a': 100, 'c': 300, 'b': 200},\n",
       "  48: True,\n",
       "  50: OrderedDict([('a', 100), ('b', 200), ('c', 300)]),\n",
       "  51: OrderedDict([('a', 100), ('c', 300), ('b', 200)]),\n",
       "  52: False,\n",
       "  56: 0,\n",
       "  57: 0,\n",
       "  58: defaultdict(int, {'a': 0, 'b': 0, 'c': 0}),\n",
       "  59: 0,\n",
       "  60: 0,\n",
       "  61: defaultdict(int, {'a': 0, 'b': 0, 'c': 0}),\n",
       "  63: defaultdict(int, {'a': 10, 'b': 35, 'c': 100}),\n",
       "  67: defaultdict(int, {'a': 10}),\n",
       "  68: 0,\n",
       "  69: [],\n",
       "  70: {},\n",
       "  72: 5,\n",
       "  73: 5,\n",
       "  75: defaultdict(<function __main__.return_5()>, {'a': 5, 'b': 5, 'c': 15}),\n",
       "  77: 5,\n",
       "  78: 5,\n",
       "  80: defaultdict(<function __main__.return_5()>, {'a': 5, 'b': 5, 'c': 15})},\n",
       " 'get_ipython': <bound method InteractiveShell.get_ipython of <ipykernel.zmqshell.ZMQInteractiveShell object at 0x1080affa0>>,\n",
       " 'exit': <IPython.core.autocall.ZMQExitAutocall at 0x108104a90>,\n",
       " 'quit': <IPython.core.autocall.ZMQExitAutocall at 0x108104a90>,\n",
       " '_': defaultdict(<function __main__.return_5()>, {'a': 5, 'b': 5, 'c': 15}),\n",
       " '__': 5,\n",
       " '___': 5,\n",
       " '_i': 'd',\n",
       " '_ii': \"d['c'] += 10\",\n",
       " '_iii': \"d['b']\",\n",
       " '_i1': \"d1 = {'a':1, 'b':2, 'c':3}\\nd2 = {'b':3, 'c':4, 'd':5}\\n\\nfor one_item in d1 | d2:  \\n    print(one_item)\",\n",
       " 'd1': OrderedDict([('a', 100), ('b', 200), ('c', 300)]),\n",
       " 'd2': OrderedDict([('a', 100), ('c', 300), ('b', 200)]),\n",
       " 'one_item': 'b',\n",
       " '_i2': 'for one_item in (d1 | d2).items():  \\n    print(one_item)',\n",
       " '_i3': 'for one_item in (d2 | d1).items():  \\n    print(one_item)',\n",
       " '_i4': \"d = {'c':100, 'b':200, 'd':300, 'a':400, 'e':500}\",\n",
       " 'd': defaultdict(<function __main__.return_5()>, {'a': 5, 'b': 5, 'c': 15}),\n",
       " '_i5': 'd.keys()',\n",
       " '_5': dict_keys(['c', 'b', 'd', 'a', 'e', 'g', 'f']),\n",
       " '_i6': \"d['g'] = 600\\nd['f'] = 700\\n\\nd.keys()\",\n",
       " '_6': dict_keys(['c', 'b', 'd', 'a', 'e', 'g', 'f']),\n",
       " '_i7': 'd.keys()',\n",
       " '_7': dict_keys(['c', 'b', 'd', 'a', 'e', 'g', 'f']),\n",
       " '_i8': 'set(d.keys())',\n",
       " '_8': {'a', 'b', 'c', 'd', 'e', 'f', 'g'},\n",
       " '_i9': 'list(set(d.keys()))',\n",
       " '_9': ['f', 'b', 'g', 'd', 'e', 'a', 'c'],\n",
       " '_i10': 'd1 | d2',\n",
       " '_10': {'a': 1, 'b': 3, 'c': 4, 'd': 5},\n",
       " '_i11': 'd1.keys() | d2.keys()',\n",
       " '_11': {'a', 'b', 'c', 'd'},\n",
       " '_i12': 'list(d1.keys() | d2.keys())',\n",
       " '_12': ['a', 'c', 'd', 'b'],\n",
       " '_i13': 'd1 | d2',\n",
       " '_13': {'a': 1, 'b': 3, 'c': 4, 'd': 5},\n",
       " '_i14': 'd1.keys()',\n",
       " '_14': dict_keys(['a', 'b', 'c']),\n",
       " '_i15': 'd1.keys() | d2.keys()',\n",
       " '_15': {'a', 'b', 'c', 'd'},\n",
       " '_i16': 'list(d1.keys() | d2.keys())',\n",
       " '_16': ['a', 'c', 'd', 'b'],\n",
       " '_i17': \"d1 = {'a':1, 'b':2, 'c':3}\\nd2 = {'b':3, 'c':4, 'd':5}\\n\\nlist(d1.keys() | d2.keys())\",\n",
       " '_17': ['a', 'c', 'd', 'b'],\n",
       " '_i18': 'd1.keys() | d2.keys()',\n",
       " '_18': {'a', 'b', 'c', 'd'},\n",
       " '_i19': 'for one_item in (d1.keys() | d2.keys()):\\n    print(one_item)',\n",
       " '_i20': 'list(d1.keys()|d2.keys())',\n",
       " '_20': ['a', 'c', 'd', 'b'],\n",
       " '_i21': \"d1 = {'a':1, 'b':2, 'c':3}\\nd2 = {'b':3, 'c':4, 'd':5}\",\n",
       " '_i22': 'd1',\n",
       " '_22': {'a': 1, 'b': 100, 'c': 3},\n",
       " '_i23': \"d1['b'] = 100\\nd\",\n",
       " '_23': {'c': 100, 'b': 200, 'd': 300, 'a': 400, 'e': 500, 'g': 600, 'f': 700},\n",
       " '_i24': \"d1['b'] = 100\\nd1\",\n",
       " '_24': {'a': 1, 'b': 100, 'c': 3},\n",
       " '_i25': \"d1 = {'a':1, 'b':2, 'c':3}\\nd2 = {'b':3, 'c':4, 'd':5}\\n\\nd1 | d2    \",\n",
       " '_25': {'a': 1, 'b': 3, 'c': 4, 'd': 5},\n",
       " '_i26': '# rewrite of the above\\n\\ndef my_dict_union(d1, d2):\\n    output = d1.copy()\\n    \\n    ',\n",
       " 'my_dict_union': <function __main__.my_dict_union(d1, d2)>,\n",
       " '_i27': 'my_dict_union(d1, d2)',\n",
       " '_i28': '# rewrite of the above\\n\\ndef my_dict_union(d1, d2):\\n    output = d1.copy()\\n    \\n    for key, value in d2.items():\\n        output[key] = value\\n        \\n    return output\\n        ',\n",
       " '_i29': 'my_dict_union(d1, d2)',\n",
       " '_29': {'a': 1, 'b': 3, 'c': 4, 'd': 5},\n",
       " '_i30': 'type(d1.keys())',\n",
       " '_30': dict_keys,\n",
       " '_i31': 'type(d1.keys()|d2.keys())',\n",
       " '_31': set,\n",
       " '_i32': 'd1.values() | d2.values()',\n",
       " '_i33': 'dir(d1.keys())',\n",
       " '_33': ['__and__',\n",
       "  '__class__',\n",
       "  '__contains__',\n",
       "  '__delattr__',\n",
       "  '__dir__',\n",
       "  '__doc__',\n",
       "  '__eq__',\n",
       "  '__format__',\n",
       "  '__ge__',\n",
       "  '__getattribute__',\n",
       "  '__gt__',\n",
       "  '__hash__',\n",
       "  '__init__',\n",
       "  '__init_subclass__',\n",
       "  '__iter__',\n",
       "  '__le__',\n",
       "  '__len__',\n",
       "  '__lt__',\n",
       "  '__ne__',\n",
       "  '__new__',\n",
       "  '__or__',\n",
       "  '__rand__',\n",
       "  '__reduce__',\n",
       "  '__reduce_ex__',\n",
       "  '__repr__',\n",
       "  '__reversed__',\n",
       "  '__ror__',\n",
       "  '__rsub__',\n",
       "  '__rxor__',\n",
       "  '__setattr__',\n",
       "  '__sizeof__',\n",
       "  '__str__',\n",
       "  '__sub__',\n",
       "  '__subclasshook__',\n",
       "  '__xor__',\n",
       "  'isdisjoint',\n",
       "  'mapping'],\n",
       " '_i34': 'd1.keys().__ror__(d2.keys())',\n",
       " '_34': {'a', 'b', 'c', 'd'},\n",
       " '_i35': 'd = {}',\n",
       " '_i36': \"d['a'] = 100\",\n",
       " '_i37': \"hash('a') % 8\",\n",
       " '_37': 2,\n",
       " '_i38': \"d['b'] = 200\\nd['c'] = 300\",\n",
       " '_i39': \"hash('b') % 8\",\n",
       " '_39': 5,\n",
       " '_i40': \"hash('c') % 8\",\n",
       " '_40': 5,\n",
       " '_i41': \"'c' in d\",\n",
       " '_41': True,\n",
       " '_i42': 'from collections import OrderedDict',\n",
       " 'OrderedDict': collections.OrderedDict,\n",
       " '_i43': \"d = OrderedDict()\\nd['a'] = 100\\nd['b'] = 200\\nd['c'] = 300\",\n",
       " '_i44': 'd',\n",
       " '_44': OrderedDict([('a', 100), ('b', 200), ('c', 300)]),\n",
       " '_i45': \"d1 = {'a':100, 'b':200, 'c':300}\\nd2 = {'a':100, 'c':300, 'b':200}\",\n",
       " '_i46': 'd1',\n",
       " '_46': {'a': 100, 'b': 200, 'c': 300},\n",
       " '_i47': 'd2',\n",
       " '_47': {'a': 100, 'c': 300, 'b': 200},\n",
       " '_i48': 'd1 == d2',\n",
       " '_48': True,\n",
       " '_i49': 'd1 = OrderedDict(a=100, b=200, c=300)\\nd2 = OrderedDict(a=100, c=300, b=200)',\n",
       " '_i50': 'd1',\n",
       " '_50': OrderedDict([('a', 100), ('b', 200), ('c', 300)]),\n",
       " '_i51': 'd2',\n",
       " '_51': OrderedDict([('a', 100), ('c', 300), ('b', 200)]),\n",
       " '_i52': 'd1 == d2',\n",
       " '_52': False,\n",
       " '_i53': 'from collections import defaultdict',\n",
       " 'defaultdict': collections.defaultdict,\n",
       " '_i54': 'd = defaultdict(0)',\n",
       " '_i55': 'd = defaultdict(int)',\n",
       " '_i56': 'int()',\n",
       " '_56': 0,\n",
       " '_i57': \"d['a']\",\n",
       " '_57': 0,\n",
       " '_i58': 'd',\n",
       " '_58': defaultdict(int, {'a': 0, 'b': 0, 'c': 0}),\n",
       " '_i59': \"d['b']\",\n",
       " '_59': 0,\n",
       " '_i60': \"d['c']\",\n",
       " '_60': 0,\n",
       " '_i61': 'd',\n",
       " '_61': defaultdict(int, {'a': 0, 'b': 0, 'c': 0}),\n",
       " '_i62': \"d = defaultdict(int)\\n\\nd['a'] += 10\\nd['b'] += 20\\nd['c'] += 100\\nd['b'] += 15\",\n",
       " '_i63': 'd',\n",
       " '_63': defaultdict(int, {'a': 10, 'b': 35, 'c': 100}),\n",
       " '_i64': \"d = {}\\na['a'] += 10\",\n",
       " '_i65': \"d = defaultdict(int)\\n\\nd['a'] += 10\",\n",
       " '_i66': \"d = defaultdict(int)\\n\\nd['a'] += 10    # d['a'] = d['a'] + 10\",\n",
       " '_i67': 'd',\n",
       " '_67': defaultdict(int, {'a': 10}),\n",
       " '_i68': 'int()',\n",
       " '_68': 0,\n",
       " '_i69': 'list()',\n",
       " '_69': [],\n",
       " '_i70': 'dict()',\n",
       " '_70': {},\n",
       " '_i71': 'def return_5():\\n    return 5\\n\\nd = defaultdict(return_5)',\n",
       " 'return_5': <function __main__.return_5()>,\n",
       " '_i72': \"d['a']\",\n",
       " '_72': 5,\n",
       " '_i73': \"d['b']\",\n",
       " '_73': 5,\n",
       " '_i74': \"d['c'] += 10\",\n",
       " '_i75': 'd',\n",
       " '_75': defaultdict(<function __main__.return_5()>, {'a': 5, 'b': 5, 'c': 15}),\n",
       " '_i76': \"def return_5():\\n    print('Now running return_5')\\n    return 5\\n\\nd = defaultdict(return_5)\",\n",
       " '_i77': \"d['a']\",\n",
       " '_77': 5,\n",
       " '_i78': \"d['b']\",\n",
       " '_78': 5,\n",
       " '_i79': \"d['c'] += 10\",\n",
       " '_i80': 'd',\n",
       " '_80': defaultdict(<function __main__.return_5()>, {'a': 5, 'b': 5, 'c': 15}),\n",
       " '_i81': 'globals()'}"
      ]
     },
     "execution_count": 81,
     "metadata": {},
     "output_type": "execute_result"
    }
   ],
   "source": [
    "globals()"
   ]
  },
  {
   "cell_type": "code",
   "execution_count": 82,
   "id": "25b0269e",
   "metadata": {},
   "outputs": [],
   "source": [
    "x =100\n",
    "y = [10, 20, 30]"
   ]
  },
  {
   "cell_type": "code",
   "execution_count": 83,
   "id": "36c14faf",
   "metadata": {},
   "outputs": [
    {
     "data": {
      "text/plain": [
       "100"
      ]
     },
     "execution_count": 83,
     "metadata": {},
     "output_type": "execute_result"
    }
   ],
   "source": [
    "globals()['x']"
   ]
  },
  {
   "cell_type": "code",
   "execution_count": 84,
   "id": "f9f3e5b3",
   "metadata": {},
   "outputs": [
    {
     "data": {
      "text/plain": [
       "[10, 20, 30]"
      ]
     },
     "execution_count": 84,
     "metadata": {},
     "output_type": "execute_result"
    }
   ],
   "source": [
    "globals()['y']"
   ]
  },
  {
   "cell_type": "code",
   "execution_count": 85,
   "id": "a71afef6",
   "metadata": {},
   "outputs": [],
   "source": [
    "import random\n",
    "\n",
    "def random_type_back():\n",
    "    n = random.randint(0, 2)\n",
    "    \n",
    "    if n == 0:\n",
    "        return 100\n",
    "    elif n == 1:\n",
    "        return 'abcd'\n",
    "    elif n == 2:\n",
    "        return [10, 20, 30]"
   ]
  },
  {
   "cell_type": "code",
   "execution_count": 86,
   "id": "65c4a010",
   "metadata": {},
   "outputs": [],
   "source": [
    "d = defaultdict(random_type_back)"
   ]
  },
  {
   "cell_type": "code",
   "execution_count": 87,
   "id": "086df49b",
   "metadata": {},
   "outputs": [
    {
     "data": {
      "text/plain": [
       "[10, 20, 30]"
      ]
     },
     "execution_count": 87,
     "metadata": {},
     "output_type": "execute_result"
    }
   ],
   "source": [
    "d['a']"
   ]
  },
  {
   "cell_type": "code",
   "execution_count": 88,
   "id": "bf96175b",
   "metadata": {},
   "outputs": [
    {
     "data": {
      "text/plain": [
       "100"
      ]
     },
     "execution_count": 88,
     "metadata": {},
     "output_type": "execute_result"
    }
   ],
   "source": [
    "d['b']"
   ]
  },
  {
   "cell_type": "code",
   "execution_count": 89,
   "id": "d7aa9401",
   "metadata": {},
   "outputs": [
    {
     "data": {
      "text/plain": [
       "[10, 20, 30]"
      ]
     },
     "execution_count": 89,
     "metadata": {},
     "output_type": "execute_result"
    }
   ],
   "source": [
    "d['c']"
   ]
  },
  {
   "cell_type": "code",
   "execution_count": 90,
   "id": "2e22d566",
   "metadata": {},
   "outputs": [
    {
     "data": {
      "text/plain": [
       "[10, 20, 30]"
      ]
     },
     "execution_count": 90,
     "metadata": {},
     "output_type": "execute_result"
    }
   ],
   "source": [
    "d['d']"
   ]
  },
  {
   "cell_type": "code",
   "execution_count": 91,
   "id": "3db6df2d",
   "metadata": {},
   "outputs": [
    {
     "data": {
      "text/plain": [
       "100"
      ]
     },
     "execution_count": 91,
     "metadata": {},
     "output_type": "execute_result"
    }
   ],
   "source": [
    "d['e']"
   ]
  },
  {
   "cell_type": "code",
   "execution_count": 92,
   "id": "f652b55f",
   "metadata": {},
   "outputs": [
    {
     "data": {
      "text/plain": [
       "defaultdict(<function __main__.random_type_back()>,\n",
       "            {'a': [10, 20, 30],\n",
       "             'b': 100,\n",
       "             'c': [10, 20, 30],\n",
       "             'd': [10, 20, 30],\n",
       "             'e': 100})"
      ]
     },
     "execution_count": 92,
     "metadata": {},
     "output_type": "execute_result"
    }
   ],
   "source": [
    "d"
   ]
  },
  {
   "cell_type": "code",
   "execution_count": 93,
   "id": "0706047b",
   "metadata": {},
   "outputs": [
    {
     "data": {
      "text/plain": [
       "100"
      ]
     },
     "execution_count": 93,
     "metadata": {},
     "output_type": "execute_result"
    }
   ],
   "source": [
    "d['f']"
   ]
  },
  {
   "cell_type": "code",
   "execution_count": 94,
   "id": "d0e2e111",
   "metadata": {},
   "outputs": [
    {
     "data": {
      "text/plain": [
       "100"
      ]
     },
     "execution_count": 94,
     "metadata": {},
     "output_type": "execute_result"
    }
   ],
   "source": [
    "d['g']"
   ]
  },
  {
   "cell_type": "code",
   "execution_count": 95,
   "id": "0052534b",
   "metadata": {},
   "outputs": [
    {
     "data": {
      "text/plain": [
       "'abcd'"
      ]
     },
     "execution_count": 95,
     "metadata": {},
     "output_type": "execute_result"
    }
   ],
   "source": [
    "d['h']"
   ]
  },
  {
   "cell_type": "code",
   "execution_count": 96,
   "id": "783f48a9",
   "metadata": {},
   "outputs": [
    {
     "data": {
      "text/plain": [
       "defaultdict(<function __main__.random_type_back()>,\n",
       "            {'a': [10, 20, 30],\n",
       "             'b': 100,\n",
       "             'c': [10, 20, 30],\n",
       "             'd': [10, 20, 30],\n",
       "             'e': 100,\n",
       "             'f': 100,\n",
       "             'g': 100,\n",
       "             'h': 'abcd'})"
      ]
     },
     "execution_count": 96,
     "metadata": {},
     "output_type": "execute_result"
    }
   ],
   "source": [
    "d"
   ]
  },
  {
   "cell_type": "code",
   "execution_count": 97,
   "id": "72fb0c05",
   "metadata": {},
   "outputs": [
    {
     "data": {
      "text/plain": [
       "['__class__',\n",
       " '__class_getitem__',\n",
       " '__contains__',\n",
       " '__copy__',\n",
       " '__delattr__',\n",
       " '__delitem__',\n",
       " '__dir__',\n",
       " '__doc__',\n",
       " '__eq__',\n",
       " '__format__',\n",
       " '__ge__',\n",
       " '__getattribute__',\n",
       " '__getitem__',\n",
       " '__gt__',\n",
       " '__hash__',\n",
       " '__init__',\n",
       " '__init_subclass__',\n",
       " '__ior__',\n",
       " '__iter__',\n",
       " '__le__',\n",
       " '__len__',\n",
       " '__lt__',\n",
       " '__missing__',\n",
       " '__ne__',\n",
       " '__new__',\n",
       " '__or__',\n",
       " '__reduce__',\n",
       " '__reduce_ex__',\n",
       " '__repr__',\n",
       " '__reversed__',\n",
       " '__ror__',\n",
       " '__setattr__',\n",
       " '__setitem__',\n",
       " '__sizeof__',\n",
       " '__str__',\n",
       " '__subclasshook__',\n",
       " 'clear',\n",
       " 'copy',\n",
       " 'default_factory',\n",
       " 'fromkeys',\n",
       " 'get',\n",
       " 'items',\n",
       " 'keys',\n",
       " 'pop',\n",
       " 'popitem',\n",
       " 'setdefault',\n",
       " 'update',\n",
       " 'values']"
      ]
     },
     "execution_count": 97,
     "metadata": {},
     "output_type": "execute_result"
    }
   ],
   "source": [
    "dir(d)"
   ]
  },
  {
   "cell_type": "code",
   "execution_count": 100,
   "id": "3b1c2503",
   "metadata": {},
   "outputs": [
    {
     "data": {
      "text/plain": [
       "'abcd'"
      ]
     },
     "execution_count": 100,
     "metadata": {},
     "output_type": "execute_result"
    }
   ],
   "source": [
    "d.__missing__('a')"
   ]
  },
  {
   "cell_type": "code",
   "execution_count": 101,
   "id": "e0850156",
   "metadata": {},
   "outputs": [],
   "source": [
    "d = defaultdict(dict)"
   ]
  },
  {
   "cell_type": "code",
   "execution_count": 102,
   "id": "df2ef760",
   "metadata": {},
   "outputs": [],
   "source": [
    "d['a']['b'] = 100\n",
    "d['a']['c'] = 200\n",
    "d['x']['y'] = 123\n",
    "d['x']['z'] = 456"
   ]
  },
  {
   "cell_type": "code",
   "execution_count": 103,
   "id": "ac235563",
   "metadata": {},
   "outputs": [
    {
     "data": {
      "text/plain": [
       "defaultdict(dict, {'a': {'b': 100, 'c': 200}, 'x': {'y': 123, 'z': 456}})"
      ]
     },
     "execution_count": 103,
     "metadata": {},
     "output_type": "execute_result"
    }
   ],
   "source": [
    "d"
   ]
  },
  {
   "cell_type": "code",
   "execution_count": 104,
   "id": "61de9e61",
   "metadata": {},
   "outputs": [],
   "source": [
    "import time"
   ]
  },
  {
   "cell_type": "code",
   "execution_count": 105,
   "id": "2a800234",
   "metadata": {},
   "outputs": [
    {
     "data": {
      "text/plain": [
       "1657522683.9108832"
      ]
     },
     "execution_count": 105,
     "metadata": {},
     "output_type": "execute_result"
    }
   ],
   "source": [
    "time.time()"
   ]
  },
  {
   "cell_type": "code",
   "execution_count": 106,
   "id": "106be5cc",
   "metadata": {},
   "outputs": [],
   "source": [
    "d = defaultdict(time.time)"
   ]
  },
  {
   "cell_type": "code",
   "execution_count": 107,
   "id": "cd9c03f0",
   "metadata": {},
   "outputs": [
    {
     "data": {
      "text/plain": [
       "1657522701.5419688"
      ]
     },
     "execution_count": 107,
     "metadata": {},
     "output_type": "execute_result"
    }
   ],
   "source": [
    "d['a']"
   ]
  },
  {
   "cell_type": "code",
   "execution_count": 108,
   "id": "506175d2",
   "metadata": {},
   "outputs": [
    {
     "data": {
      "text/plain": [
       "1657522702.617017"
      ]
     },
     "execution_count": 108,
     "metadata": {},
     "output_type": "execute_result"
    }
   ],
   "source": [
    "d['b']"
   ]
  },
  {
   "cell_type": "code",
   "execution_count": 109,
   "id": "feee7d13",
   "metadata": {},
   "outputs": [
    {
     "data": {
      "text/plain": [
       "1657522703.423865"
      ]
     },
     "execution_count": 109,
     "metadata": {},
     "output_type": "execute_result"
    }
   ],
   "source": [
    "d['c']"
   ]
  },
  {
   "cell_type": "code",
   "execution_count": 111,
   "id": "ad1bfaee",
   "metadata": {},
   "outputs": [
    {
     "data": {
      "text/plain": [
       "1657522701.5419688"
      ]
     },
     "execution_count": 111,
     "metadata": {},
     "output_type": "execute_result"
    }
   ],
   "source": [
    "d['a']"
   ]
  },
  {
   "cell_type": "code",
   "execution_count": 112,
   "id": "20ddac23",
   "metadata": {},
   "outputs": [
    {
     "data": {
      "text/plain": [
       "{}"
      ]
     },
     "execution_count": 112,
     "metadata": {},
     "output_type": "execute_result"
    }
   ],
   "source": [
    "dict()"
   ]
  },
  {
   "cell_type": "code",
   "execution_count": 114,
   "id": "9cd0fbc6",
   "metadata": {},
   "outputs": [],
   "source": [
    "d = defaultdict(dict)\n",
    "\n",
    "d['x']['y'] = 100      # 'x' in d --> d['x'] = dict() --> d['x']['y'] = 100"
   ]
  },
  {
   "cell_type": "markdown",
   "id": "abc56f0f",
   "metadata": {},
   "source": [
    "# Exercise: Travel\n",
    "\n",
    "1. Ask the user, repeatedly, to enter a string indicating the city + country where they traveled. The format should be \"city, country\".\n",
    "2. The dict that we create will have country names as keys, and lists of cities as values.\n",
    "3. When the user enters an empty string, print all countries, and all cities in each country.\n",
    "\n",
    "Example:\n",
    "\n",
    "    Destination: Beijing, China\n",
    "    Destination: Shanghai, China\n",
    "    Destination: Chicago, USA\n",
    "    Destination: Boston, USA\n",
    "    Destination: [ENTER]\n",
    "    \n",
    "    China:\n",
    "        Beijing\n",
    "        Shanghai\n",
    "    USA:\n",
    "        Chicago\n",
    "        Boston\n",
    "        \n",
    "        "
   ]
  },
  {
   "cell_type": "code",
   "execution_count": 117,
   "id": "2462eb63",
   "metadata": {},
   "outputs": [
    {
     "name": "stdout",
     "output_type": "stream",
     "text": [
      "Destination: Shanghai, China\n",
      "Destination: Beijing, China\n",
      "Destination: asdfasfsa\n",
      "Enter city, country\n",
      "Destination: Boston, USA\n",
      "Destination: New York, USA\n",
      "Destination: \n",
      "China\n",
      "\tShanghai\n",
      "\tBeijing\n",
      "USA\n",
      "\tBoston\n",
      "\tNew York\n"
     ]
    }
   ],
   "source": [
    "all_places = {}\n",
    "\n",
    "while True:\n",
    "    s = input('Destination: ').strip()\n",
    "    \n",
    "    if not s:\n",
    "        break\n",
    "        \n",
    "    if s.count(',') != 1:\n",
    "        print(f'Enter city, country')\n",
    "        continue\n",
    "        \n",
    "    one_city, one_country = s.split(',')\n",
    "    one_city = one_city.strip()\n",
    "    one_country = one_country.strip()\n",
    "    \n",
    "    if one_country not in all_places:\n",
    "        all_places[one_country] = []\n",
    "        \n",
    "    all_places[one_country].append(one_city)\n",
    "    \n",
    "for one_country, all_cities in all_places.items():\n",
    "    print(one_country)\n",
    "\n",
    "    for one_city in all_cities:\n",
    "        print(f'\\t{one_city}')\n",
    "    \n",
    "    \n",
    "    "
   ]
  },
  {
   "cell_type": "code",
   "execution_count": null,
   "id": "a091d04d",
   "metadata": {},
   "outputs": [],
   "source": [
    "from collections import defaultdict\n",
    "\n",
    "all_places = defaultdict(list)\n",
    "\n",
    "while True:\n",
    "    s = input('Destination: ').strip()\n",
    "    \n",
    "    if not s:\n",
    "        break\n",
    "        \n",
    "    if s.count(',') != 1:\n",
    "        print(f'Enter city, country')\n",
    "        continue\n",
    "        \n",
    "    one_city, one_country = s.split(',')\n",
    "\n",
    "    all_places[one_country.strip()].append(one_city.strip())\n",
    "\n",
    "for one_country, all_cities in all_places.items():\n",
    "    print(one_country)\n",
    "\n",
    "    for one_city in all_cities:\n",
    "        print(f'\\t{one_city}')  "
   ]
  },
  {
   "cell_type": "code",
   "execution_count": 118,
   "id": "aba2dc9e",
   "metadata": {},
   "outputs": [],
   "source": [
    "from collections import Counter"
   ]
  },
  {
   "cell_type": "code",
   "execution_count": 119,
   "id": "ab119ac8",
   "metadata": {},
   "outputs": [],
   "source": [
    "c = Counter()"
   ]
  },
  {
   "cell_type": "code",
   "execution_count": 120,
   "id": "816fb5f8",
   "metadata": {},
   "outputs": [
    {
     "data": {
      "text/plain": [
       "Counter({'a': 22, 'b': 35, 'c': 30})"
      ]
     },
     "execution_count": 120,
     "metadata": {},
     "output_type": "execute_result"
    }
   ],
   "source": [
    "c['a'] += 10\n",
    "c['b'] += 20\n",
    "c['c'] += 30\n",
    "c['b'] += 15\n",
    "c['a'] += 12\n",
    "\n",
    "c"
   ]
  },
  {
   "cell_type": "code",
   "execution_count": 121,
   "id": "3663e7db",
   "metadata": {},
   "outputs": [],
   "source": [
    "c = Counter('abcdbcbbbccbcdbcdbbcd')"
   ]
  },
  {
   "cell_type": "code",
   "execution_count": 122,
   "id": "eebdb803",
   "metadata": {},
   "outputs": [
    {
     "data": {
      "text/plain": [
       "Counter({'a': 1, 'b': 9, 'c': 7, 'd': 4})"
      ]
     },
     "execution_count": 122,
     "metadata": {},
     "output_type": "execute_result"
    }
   ],
   "source": [
    "c"
   ]
  },
  {
   "cell_type": "code",
   "execution_count": 123,
   "id": "c471e439",
   "metadata": {},
   "outputs": [],
   "source": [
    "c = Counter([10, 20, 30, 20, 30, 40, 20, 30, 40, 20, 30, 40, 50, 20, 30, 20])"
   ]
  },
  {
   "cell_type": "code",
   "execution_count": 124,
   "id": "2140ac83",
   "metadata": {},
   "outputs": [
    {
     "data": {
      "text/plain": [
       "Counter({10: 1, 20: 6, 30: 5, 40: 3, 50: 1})"
      ]
     },
     "execution_count": 124,
     "metadata": {},
     "output_type": "execute_result"
    }
   ],
   "source": [
    "c"
   ]
  },
  {
   "cell_type": "code",
   "execution_count": 125,
   "id": "6d59660f",
   "metadata": {},
   "outputs": [
    {
     "data": {
      "text/plain": [
       "[(20, 6), (30, 5), (40, 3), (10, 1), (50, 1)]"
      ]
     },
     "execution_count": 125,
     "metadata": {},
     "output_type": "execute_result"
    }
   ],
   "source": [
    "c.most_common()"
   ]
  },
  {
   "cell_type": "code",
   "execution_count": 126,
   "id": "74d21555",
   "metadata": {},
   "outputs": [
    {
     "data": {
      "text/plain": [
       "[(20, 6), (30, 5), (40, 3)]"
      ]
     },
     "execution_count": 126,
     "metadata": {},
     "output_type": "execute_result"
    }
   ],
   "source": [
    "c.most_common(3)"
   ]
  },
  {
   "cell_type": "code",
   "execution_count": 127,
   "id": "f3a534bc",
   "metadata": {},
   "outputs": [],
   "source": [
    "c1 = Counter([10, 20, 30, 20, 30, 40])\n",
    "c2 = Counter([30, 40, 50, 30, 40, 50, 30])"
   ]
  },
  {
   "cell_type": "code",
   "execution_count": 128,
   "id": "4301809a",
   "metadata": {},
   "outputs": [
    {
     "data": {
      "text/plain": [
       "Counter({10: 1, 20: 2, 30: 2, 40: 1})"
      ]
     },
     "execution_count": 128,
     "metadata": {},
     "output_type": "execute_result"
    }
   ],
   "source": [
    "c1"
   ]
  },
  {
   "cell_type": "code",
   "execution_count": 129,
   "id": "e88458f0",
   "metadata": {},
   "outputs": [
    {
     "data": {
      "text/plain": [
       "Counter({30: 3, 40: 2, 50: 2})"
      ]
     },
     "execution_count": 129,
     "metadata": {},
     "output_type": "execute_result"
    }
   ],
   "source": [
    "c2"
   ]
  },
  {
   "cell_type": "code",
   "execution_count": 130,
   "id": "8909887f",
   "metadata": {},
   "outputs": [
    {
     "data": {
      "text/plain": [
       "Counter({10: 1, 20: 2, 30: 5, 40: 3, 50: 2})"
      ]
     },
     "execution_count": 130,
     "metadata": {},
     "output_type": "execute_result"
    }
   ],
   "source": [
    "c1 + c2"
   ]
  },
  {
   "cell_type": "code",
   "execution_count": 131,
   "id": "7d555308",
   "metadata": {},
   "outputs": [
    {
     "data": {
      "text/plain": [
       "Counter({10: 1, 20: 2, 30: 3, 40: 2, 50: 2})"
      ]
     },
     "execution_count": 131,
     "metadata": {},
     "output_type": "execute_result"
    }
   ],
   "source": [
    "c1 | c2   # union of the two counters"
   ]
  },
  {
   "cell_type": "code",
   "execution_count": 132,
   "id": "5001f9e5",
   "metadata": {},
   "outputs": [
    {
     "data": {
      "text/plain": [
       "{'a': 10, 'b': 100, 'c': 200, 'd': 300}"
      ]
     },
     "execution_count": 132,
     "metadata": {},
     "output_type": "execute_result"
    }
   ],
   "source": [
    "d1 = {'a':10, 'b':20, 'c':30}\n",
    "d2 = {'b':100, 'c':200, 'd':300}\n",
    "\n",
    "d1 | d2"
   ]
  },
  {
   "cell_type": "code",
   "execution_count": 133,
   "id": "0ecfe582",
   "metadata": {},
   "outputs": [
    {
     "data": {
      "text/plain": [
       "{'a': 10, 'b': 100, 'c': 200, 'd': 300}"
      ]
     },
     "execution_count": 133,
     "metadata": {},
     "output_type": "execute_result"
    }
   ],
   "source": [
    "d1.update(d2)  # this modifies d1!\n",
    "\n",
    "d1"
   ]
  },
  {
   "cell_type": "code",
   "execution_count": 134,
   "id": "0a4f7dcf",
   "metadata": {},
   "outputs": [
    {
     "ename": "TypeError",
     "evalue": "unsupported operand type(s) for +: 'dict' and 'dict'",
     "output_type": "error",
     "traceback": [
      "\u001b[0;31m---------------------------------------------------------------------------\u001b[0m",
      "\u001b[0;31mTypeError\u001b[0m                                 Traceback (most recent call last)",
      "\u001b[0;32m/var/folders/rr/0mnyyv811fs5vyp22gf4fxk00000gn/T/ipykernel_200/1575791415.py\u001b[0m in \u001b[0;36m<module>\u001b[0;34m\u001b[0m\n\u001b[0;32m----> 1\u001b[0;31m \u001b[0md1\u001b[0m \u001b[0;34m+\u001b[0m \u001b[0md2\u001b[0m\u001b[0;34m\u001b[0m\u001b[0;34m\u001b[0m\u001b[0m\n\u001b[0m",
      "\u001b[0;31mTypeError\u001b[0m: unsupported operand type(s) for +: 'dict' and 'dict'"
     ]
    }
   ],
   "source": [
    "d1 + d2"
   ]
  },
  {
   "cell_type": "markdown",
   "id": "ca9777a3",
   "metadata": {},
   "source": [
    "# Next up:\n",
    "\n",
    "1. Functions\n",
    "     - Bytecodes\n",
    "     - Function objects\n",
    "     - Scoping\n",
    "\n",
    "Resume at 10:55"
   ]
  },
  {
   "cell_type": "code",
   "execution_count": null,
   "id": "d2396c39",
   "metadata": {},
   "outputs": [],
   "source": [
    "from collections import defaultdict\n",
    "\n",
    "all_places = defaultdict(list)\n",
    "\n",
    "while True:\n",
    "    s = input('Destination: ').strip()\n",
    "    \n",
    "    if not s:\n",
    "        break\n",
    "        \n",
    "    if s.count(',') != 1:\n",
    "        print(f'Enter city, country')\n",
    "        continue\n",
    "        \n",
    "    one_city, one_country = s.split(',')\n",
    "\n",
    "    all_places[one_country.strip()].append(one_city.strip())"
   ]
  },
  {
   "cell_type": "code",
   "execution_count": 135,
   "id": "560a6dcf",
   "metadata": {},
   "outputs": [
    {
     "data": {
      "text/plain": [
       "{'China': ['Shanghai', 'Beijing'], 'USA': ['Boston', 'New York']}"
      ]
     },
     "execution_count": 135,
     "metadata": {},
     "output_type": "execute_result"
    }
   ],
   "source": [
    "all_places"
   ]
  },
  {
   "cell_type": "code",
   "execution_count": 137,
   "id": "683fc090",
   "metadata": {},
   "outputs": [
    {
     "name": "stdout",
     "output_type": "stream",
     "text": [
      "China\n",
      "all_cities=['Shanghai', 'Beijing']\n",
      "\tShanghai\n",
      "\tBeijing\n",
      "USA\n",
      "all_cities=['Boston', 'New York']\n",
      "\tBoston\n",
      "\tNew York\n"
     ]
    }
   ],
   "source": [
    "for one_country, all_cities in all_places.items():\n",
    "    print(one_country)\n",
    "    print(f'{all_cities=}')\n",
    "\n",
    "    for one_city in all_cities:\n",
    "        print(f'\\t{one_city}')  "
   ]
  },
  {
   "cell_type": "code",
   "execution_count": 138,
   "id": "d1a2daf0",
   "metadata": {},
   "outputs": [
    {
     "data": {
      "text/plain": [
       "str"
      ]
     },
     "execution_count": 138,
     "metadata": {},
     "output_type": "execute_result"
    }
   ],
   "source": [
    "type(one_city)"
   ]
  },
  {
   "cell_type": "code",
   "execution_count": 139,
   "id": "4c44e639",
   "metadata": {},
   "outputs": [
    {
     "data": {
      "text/plain": [
       "'New York'"
      ]
     },
     "execution_count": 139,
     "metadata": {},
     "output_type": "execute_result"
    }
   ],
   "source": [
    "one_city"
   ]
  },
  {
   "cell_type": "code",
   "execution_count": 140,
   "id": "fd43bb19",
   "metadata": {},
   "outputs": [
    {
     "name": "stdout",
     "output_type": "stream",
     "text": [
      "China\n",
      "\t\t city='Shanghai' <class 'str'>\n",
      "\t\t city='Beijing' <class 'str'>\n",
      "USA\n",
      "\t\t city='Boston' <class 'str'>\n",
      "\t\t city='New York' <class 'str'>\n"
     ]
    }
   ],
   "source": [
    "from collections import defaultdict\n",
    "dTravel = defaultdict(list)\n",
    "while True:\n",
    "    user_input = input('Please enter a string indicating the city + country where you traveled. The format should be \"city, country\".').strip()\n",
    "    if not user_input:\n",
    "        break\n",
    "    strCity, strCountry = user_input.split(',')\n",
    "    dTravel[strCountry.strip()].append([strCity.strip()])\n",
    "for one_country, all_cities in dTravel.items():\n",
    "    print(f'{one_country}')\n",
    "    for city in all_cities:\n",
    "        print(f'\\t\\t {city=} {type(city)}')"
   ]
  },
  {
   "cell_type": "code",
   "execution_count": 141,
   "id": "4571fd00",
   "metadata": {},
   "outputs": [],
   "source": [
    "mylist = [10, 20, 30]\n",
    "\n",
    "mylist.append(40)"
   ]
  },
  {
   "cell_type": "code",
   "execution_count": 142,
   "id": "ca69a88e",
   "metadata": {},
   "outputs": [
    {
     "data": {
      "text/plain": [
       "[10, 20, 30, 40]"
      ]
     },
     "execution_count": 142,
     "metadata": {},
     "output_type": "execute_result"
    }
   ],
   "source": [
    "mylist"
   ]
  },
  {
   "cell_type": "code",
   "execution_count": 143,
   "id": "4a36fe65",
   "metadata": {},
   "outputs": [
    {
     "data": {
      "text/plain": [
       "[10, 20, 30, 40, [40]]"
      ]
     },
     "execution_count": 143,
     "metadata": {},
     "output_type": "execute_result"
    }
   ],
   "source": [
    "mylist.append([40])\n",
    "mylist"
   ]
  },
  {
   "cell_type": "code",
   "execution_count": 144,
   "id": "6782f023",
   "metadata": {},
   "outputs": [],
   "source": [
    "def hello():\n",
    "    return 'Hello'"
   ]
  },
  {
   "cell_type": "code",
   "execution_count": 145,
   "id": "3829db59",
   "metadata": {},
   "outputs": [
    {
     "data": {
      "text/plain": [
       "function"
      ]
     },
     "execution_count": 145,
     "metadata": {},
     "output_type": "execute_result"
    }
   ],
   "source": [
    "type(hello)"
   ]
  },
  {
   "cell_type": "code",
   "execution_count": 146,
   "id": "3e6a65ba",
   "metadata": {},
   "outputs": [],
   "source": [
    "hello = 7"
   ]
  },
  {
   "cell_type": "code",
   "execution_count": 147,
   "id": "05960d7e",
   "metadata": {},
   "outputs": [
    {
     "ename": "TypeError",
     "evalue": "'int' object is not callable",
     "output_type": "error",
     "traceback": [
      "\u001b[0;31m---------------------------------------------------------------------------\u001b[0m",
      "\u001b[0;31mTypeError\u001b[0m                                 Traceback (most recent call last)",
      "\u001b[0;32m/var/folders/rr/0mnyyv811fs5vyp22gf4fxk00000gn/T/ipykernel_200/2674044599.py\u001b[0m in \u001b[0;36m<module>\u001b[0;34m\u001b[0m\n\u001b[0;32m----> 1\u001b[0;31m \u001b[0mhello\u001b[0m\u001b[0;34m(\u001b[0m\u001b[0;34m)\u001b[0m\u001b[0;34m\u001b[0m\u001b[0;34m\u001b[0m\u001b[0m\n\u001b[0m",
      "\u001b[0;31mTypeError\u001b[0m: 'int' object is not callable"
     ]
    }
   ],
   "source": [
    "hello()"
   ]
  },
  {
   "cell_type": "code",
   "execution_count": 148,
   "id": "37aa17e2",
   "metadata": {},
   "outputs": [
    {
     "data": {
      "text/plain": [
       "int"
      ]
     },
     "execution_count": 148,
     "metadata": {},
     "output_type": "execute_result"
    }
   ],
   "source": [
    "type(hello)"
   ]
  },
  {
   "cell_type": "code",
   "execution_count": 149,
   "id": "c30c13ab",
   "metadata": {},
   "outputs": [],
   "source": [
    "def hello():\n",
    "    return 'Hello'"
   ]
  },
  {
   "cell_type": "code",
   "execution_count": 150,
   "id": "f0f62086",
   "metadata": {},
   "outputs": [],
   "source": [
    "def hello(name):\n",
    "    return f'Hello, {name}!'"
   ]
  },
  {
   "cell_type": "code",
   "execution_count": 151,
   "id": "1bff853c",
   "metadata": {},
   "outputs": [
    {
     "data": {
      "text/plain": [
       "'Hello, Reuven!'"
      ]
     },
     "execution_count": 151,
     "metadata": {},
     "output_type": "execute_result"
    }
   ],
   "source": [
    "hello('Reuven')"
   ]
  },
  {
   "cell_type": "code",
   "execution_count": 152,
   "id": "e0a45f17",
   "metadata": {},
   "outputs": [
    {
     "ename": "TypeError",
     "evalue": "hello() missing 1 required positional argument: 'name'",
     "output_type": "error",
     "traceback": [
      "\u001b[0;31m---------------------------------------------------------------------------\u001b[0m",
      "\u001b[0;31mTypeError\u001b[0m                                 Traceback (most recent call last)",
      "\u001b[0;32m/var/folders/rr/0mnyyv811fs5vyp22gf4fxk00000gn/T/ipykernel_200/2674044599.py\u001b[0m in \u001b[0;36m<module>\u001b[0;34m\u001b[0m\n\u001b[0;32m----> 1\u001b[0;31m \u001b[0mhello\u001b[0m\u001b[0;34m(\u001b[0m\u001b[0;34m)\u001b[0m\u001b[0;34m\u001b[0m\u001b[0;34m\u001b[0m\u001b[0m\n\u001b[0m",
      "\u001b[0;31mTypeError\u001b[0m: hello() missing 1 required positional argument: 'name'"
     ]
    }
   ],
   "source": [
    "hello()"
   ]
  },
  {
   "cell_type": "code",
   "execution_count": 153,
   "id": "574a3dce",
   "metadata": {},
   "outputs": [],
   "source": [
    "def hello():\n",
    "    return 'Hello'"
   ]
  },
  {
   "cell_type": "code",
   "execution_count": 154,
   "id": "6f353c66",
   "metadata": {},
   "outputs": [
    {
     "ename": "TypeError",
     "evalue": "hello() takes 0 positional arguments but 1 was given",
     "output_type": "error",
     "traceback": [
      "\u001b[0;31m---------------------------------------------------------------------------\u001b[0m",
      "\u001b[0;31mTypeError\u001b[0m                                 Traceback (most recent call last)",
      "\u001b[0;32m/var/folders/rr/0mnyyv811fs5vyp22gf4fxk00000gn/T/ipykernel_200/2504046000.py\u001b[0m in \u001b[0;36m<module>\u001b[0;34m\u001b[0m\n\u001b[0;32m----> 1\u001b[0;31m \u001b[0mhello\u001b[0m\u001b[0;34m(\u001b[0m\u001b[0;34m'Reuven'\u001b[0m\u001b[0;34m)\u001b[0m\u001b[0;34m\u001b[0m\u001b[0;34m\u001b[0m\u001b[0m\n\u001b[0m",
      "\u001b[0;31mTypeError\u001b[0m: hello() takes 0 positional arguments but 1 was given"
     ]
    }
   ],
   "source": [
    "hello('Reuven')"
   ]
  },
  {
   "cell_type": "markdown",
   "id": "df079930",
   "metadata": {},
   "source": [
    "# Arguments in Python\n",
    "\n",
    "There are two types of arguments in Python:\n",
    "\n",
    "1. Positional arguments -- based on their positions in the argument list, the values will be assigned to parameters.\n",
    "2. Keyword arguments -- they always look like `name=value`, and they are assigned based on the `name`."
   ]
  },
  {
   "cell_type": "code",
   "execution_count": 155,
   "id": "b45b274f",
   "metadata": {},
   "outputs": [
    {
     "data": {
      "text/plain": [
       "0"
      ]
     },
     "execution_count": 155,
     "metadata": {},
     "output_type": "execute_result"
    }
   ],
   "source": [
    "hello.__code__.co_argcount"
   ]
  },
  {
   "cell_type": "code",
   "execution_count": 156,
   "id": "9dae9867",
   "metadata": {},
   "outputs": [
    {
     "data": {
      "text/plain": [
       "True"
      ]
     },
     "execution_count": 156,
     "metadata": {},
     "output_type": "execute_result"
    }
   ],
   "source": [
    "callable(hello)"
   ]
  },
  {
   "cell_type": "code",
   "execution_count": 157,
   "id": "20407100",
   "metadata": {},
   "outputs": [],
   "source": [
    "x = hello()"
   ]
  },
  {
   "cell_type": "code",
   "execution_count": 158,
   "id": "d06e8303",
   "metadata": {},
   "outputs": [
    {
     "name": "stdout",
     "output_type": "stream",
     "text": [
      "Hello\n"
     ]
    }
   ],
   "source": [
    "print(x)"
   ]
  },
  {
   "cell_type": "code",
   "execution_count": 160,
   "id": "0f084abc",
   "metadata": {},
   "outputs": [],
   "source": [
    "import dis  # disassemble"
   ]
  },
  {
   "cell_type": "code",
   "execution_count": 161,
   "id": "57851af2",
   "metadata": {},
   "outputs": [
    {
     "data": {
      "text/plain": [
       "b'd\\x01S\\x00'"
      ]
     },
     "execution_count": 161,
     "metadata": {},
     "output_type": "execute_result"
    }
   ],
   "source": [
    "hello.__code__.co_code"
   ]
  },
  {
   "cell_type": "code",
   "execution_count": 163,
   "id": "02ec87e3",
   "metadata": {},
   "outputs": [
    {
     "name": "stdout",
     "output_type": "stream",
     "text": [
      "  2           0 LOAD_CONST               1 ('Hello')\n",
      "              2 RETURN_VALUE\n"
     ]
    }
   ],
   "source": [
    "def hello():\n",
    "    return 'Hello'\n",
    "\n",
    "dis.dis(hello)"
   ]
  },
  {
   "cell_type": "code",
   "execution_count": 164,
   "id": "01e4be41",
   "metadata": {},
   "outputs": [
    {
     "data": {
      "text/plain": [
       "(None, 'Hello')"
      ]
     },
     "execution_count": 164,
     "metadata": {},
     "output_type": "execute_result"
    }
   ],
   "source": [
    "hello.__code__.co_consts"
   ]
  },
  {
   "cell_type": "code",
   "execution_count": 165,
   "id": "eb18669f",
   "metadata": {},
   "outputs": [],
   "source": [
    "def hello():\n",
    "    pass"
   ]
  },
  {
   "cell_type": "code",
   "execution_count": 166,
   "id": "11fb336a",
   "metadata": {},
   "outputs": [
    {
     "name": "stdout",
     "output_type": "stream",
     "text": [
      "None\n"
     ]
    }
   ],
   "source": [
    "print(hello())"
   ]
  },
  {
   "cell_type": "code",
   "execution_count": 167,
   "id": "aeadcbb9",
   "metadata": {},
   "outputs": [
    {
     "name": "stdout",
     "output_type": "stream",
     "text": [
      "  2           0 LOAD_CONST               0 (None)\n",
      "              2 RETURN_VALUE\n"
     ]
    }
   ],
   "source": [
    "dis.dis(hello)"
   ]
  },
  {
   "cell_type": "code",
   "execution_count": 168,
   "id": "ae370805",
   "metadata": {},
   "outputs": [],
   "source": [
    "def add():\n",
    "    x = 10 + 3\n",
    "    "
   ]
  },
  {
   "cell_type": "code",
   "execution_count": 169,
   "id": "2d8e7d48",
   "metadata": {},
   "outputs": [
    {
     "name": "stdout",
     "output_type": "stream",
     "text": [
      "  2           0 LOAD_CONST               1 (13)\n",
      "              2 STORE_FAST               0 (x)\n",
      "              4 LOAD_CONST               0 (None)\n",
      "              6 RETURN_VALUE\n"
     ]
    }
   ],
   "source": [
    "dis.dis(add)"
   ]
  },
  {
   "cell_type": "code",
   "execution_count": 170,
   "id": "0aac886a",
   "metadata": {},
   "outputs": [],
   "source": [
    "def myfunc():\n",
    "    x = [10, 20, 30]\n",
    "    return x"
   ]
  },
  {
   "cell_type": "code",
   "execution_count": 171,
   "id": "83e90182",
   "metadata": {},
   "outputs": [
    {
     "name": "stdout",
     "output_type": "stream",
     "text": [
      "  2           0 BUILD_LIST               0\n",
      "              2 LOAD_CONST               1 ((10, 20, 30))\n",
      "              4 LIST_EXTEND              1\n",
      "              6 STORE_FAST               0 (x)\n",
      "\n",
      "  3           8 LOAD_FAST                0 (x)\n",
      "             10 RETURN_VALUE\n"
     ]
    }
   ],
   "source": [
    "dis.dis(myfunc)"
   ]
  },
  {
   "cell_type": "code",
   "execution_count": 172,
   "id": "02cc87fb",
   "metadata": {},
   "outputs": [],
   "source": [
    "mylist = []\n",
    "mylist.extend((10, 20, 30))"
   ]
  },
  {
   "cell_type": "code",
   "execution_count": 173,
   "id": "5025e073",
   "metadata": {},
   "outputs": [
    {
     "data": {
      "text/plain": [
       "(None, (10, 20, 30))"
      ]
     },
     "execution_count": 173,
     "metadata": {},
     "output_type": "execute_result"
    }
   ],
   "source": [
    "myfunc.__code__.co_consts"
   ]
  },
  {
   "cell_type": "code",
   "execution_count": 174,
   "id": "6a57e61c",
   "metadata": {},
   "outputs": [],
   "source": [
    "def myfunc():\n",
    "    x = (10, 20, 30)\n",
    "    return x"
   ]
  },
  {
   "cell_type": "code",
   "execution_count": 175,
   "id": "2865c157",
   "metadata": {},
   "outputs": [
    {
     "name": "stdout",
     "output_type": "stream",
     "text": [
      "  2           0 LOAD_CONST               1 ((10, 20, 30))\n",
      "              2 STORE_FAST               0 (x)\n",
      "\n",
      "  3           4 LOAD_FAST                0 (x)\n",
      "              6 RETURN_VALUE\n"
     ]
    }
   ],
   "source": [
    "dis.dis(myfunc)"
   ]
  },
  {
   "cell_type": "code",
   "execution_count": 176,
   "id": "335604d2",
   "metadata": {},
   "outputs": [],
   "source": [
    "def myfunc():\n",
    "    x = [10]\n",
    "    return x"
   ]
  },
  {
   "cell_type": "code",
   "execution_count": 177,
   "id": "8873a070",
   "metadata": {},
   "outputs": [
    {
     "name": "stdout",
     "output_type": "stream",
     "text": [
      "  2           0 LOAD_CONST               1 (10)\n",
      "              2 BUILD_LIST               1\n",
      "              4 STORE_FAST               0 (x)\n",
      "\n",
      "  3           6 LOAD_FAST                0 (x)\n",
      "              8 RETURN_VALUE\n"
     ]
    }
   ],
   "source": [
    "dis.dis(myfunc)"
   ]
  },
  {
   "cell_type": "code",
   "execution_count": 178,
   "id": "1d7e2641",
   "metadata": {},
   "outputs": [],
   "source": [
    "def myfunc():\n",
    "    x = [10, 20]\n",
    "    return x"
   ]
  },
  {
   "cell_type": "code",
   "execution_count": 179,
   "id": "6fe455a6",
   "metadata": {},
   "outputs": [
    {
     "name": "stdout",
     "output_type": "stream",
     "text": [
      "  2           0 LOAD_CONST               1 (10)\n",
      "              2 LOAD_CONST               2 (20)\n",
      "              4 BUILD_LIST               2\n",
      "              6 STORE_FAST               0 (x)\n",
      "\n",
      "  3           8 LOAD_FAST                0 (x)\n",
      "             10 RETURN_VALUE\n"
     ]
    }
   ],
   "source": [
    "dis.dis(myfunc)"
   ]
  },
  {
   "cell_type": "code",
   "execution_count": 182,
   "id": "6e26fbdc",
   "metadata": {},
   "outputs": [],
   "source": [
    "def myfunc():\n",
    "    d = {'a':10, 'b':20, 'c':30}\n",
    "    return d"
   ]
  },
  {
   "cell_type": "code",
   "execution_count": 183,
   "id": "351b4de5",
   "metadata": {},
   "outputs": [
    {
     "name": "stdout",
     "output_type": "stream",
     "text": [
      "  2           0 LOAD_CONST               1 (10)\n",
      "              2 LOAD_CONST               2 (20)\n",
      "              4 LOAD_CONST               3 (30)\n",
      "              6 LOAD_CONST               4 (('a', 'b', 'c'))\n",
      "              8 BUILD_CONST_KEY_MAP      3\n",
      "             10 STORE_FAST               0 (d)\n",
      "\n",
      "  3          12 LOAD_FAST                0 (d)\n",
      "             14 RETURN_VALUE\n"
     ]
    }
   ],
   "source": [
    "dis.dis(myfunc)"
   ]
  },
  {
   "cell_type": "code",
   "execution_count": 185,
   "id": "05f4fdd1",
   "metadata": {},
   "outputs": [],
   "source": [
    "def hello(name):\n",
    "    return name"
   ]
  },
  {
   "cell_type": "code",
   "execution_count": 186,
   "id": "04a3728d",
   "metadata": {},
   "outputs": [
    {
     "name": "stdout",
     "output_type": "stream",
     "text": [
      "  2           0 LOAD_FAST                0 (name)\n",
      "              2 RETURN_VALUE\n"
     ]
    }
   ],
   "source": [
    "dis.dis(hello)"
   ]
  },
  {
   "cell_type": "code",
   "execution_count": 187,
   "id": "44501aae",
   "metadata": {},
   "outputs": [
    {
     "data": {
      "text/plain": [
       "1"
      ]
     },
     "execution_count": 187,
     "metadata": {},
     "output_type": "execute_result"
    }
   ],
   "source": [
    "hello.__code__.co_argcount"
   ]
  },
  {
   "cell_type": "code",
   "execution_count": 188,
   "id": "ab210ea7",
   "metadata": {},
   "outputs": [
    {
     "data": {
      "text/plain": [
       "('name',)"
      ]
     },
     "execution_count": 188,
     "metadata": {},
     "output_type": "execute_result"
    }
   ],
   "source": [
    "hello.__code__.co_varnames"
   ]
  },
  {
   "cell_type": "code",
   "execution_count": 189,
   "id": "6882c62a",
   "metadata": {},
   "outputs": [
    {
     "data": {
      "text/plain": [
       "'Reuven'"
      ]
     },
     "execution_count": 189,
     "metadata": {},
     "output_type": "execute_result"
    }
   ],
   "source": [
    "# parameters: name\n",
    "# arguments: 'Reuven'\n",
    "\n",
    "\n",
    "hello('Reuven')"
   ]
  },
  {
   "cell_type": "code",
   "execution_count": 190,
   "id": "1bc93c3a",
   "metadata": {},
   "outputs": [
    {
     "data": {
      "text/plain": [
       "'Reuven'"
      ]
     },
     "execution_count": 190,
     "metadata": {},
     "output_type": "execute_result"
    }
   ],
   "source": [
    "# parameters: name\n",
    "# arguments: 'Reuven'\n",
    "\n",
    "\n",
    "hello(name='Reuven')"
   ]
  },
  {
   "cell_type": "code",
   "execution_count": 191,
   "id": "61236bfa",
   "metadata": {},
   "outputs": [],
   "source": [
    "def add(first, second):\n",
    "    return first + second"
   ]
  },
  {
   "cell_type": "code",
   "execution_count": 193,
   "id": "72c536a1",
   "metadata": {},
   "outputs": [
    {
     "data": {
      "text/plain": [
       "13"
      ]
     },
     "execution_count": 193,
     "metadata": {},
     "output_type": "execute_result"
    }
   ],
   "source": [
    "# parameters: first second\n",
    "# arguments:   10    3\n",
    "\n",
    "add(10, 3)"
   ]
  },
  {
   "cell_type": "code",
   "execution_count": 194,
   "id": "3b0d0f3b",
   "metadata": {},
   "outputs": [
    {
     "data": {
      "text/plain": [
       "13"
      ]
     },
     "execution_count": 194,
     "metadata": {},
     "output_type": "execute_result"
    }
   ],
   "source": [
    "# parameters: first second\n",
    "# arguments:  10      3\n",
    "\n",
    "add(first=10, second=3)"
   ]
  },
  {
   "cell_type": "code",
   "execution_count": 195,
   "id": "5b2ced6c",
   "metadata": {},
   "outputs": [
    {
     "data": {
      "text/plain": [
       "13"
      ]
     },
     "execution_count": 195,
     "metadata": {},
     "output_type": "execute_result"
    }
   ],
   "source": [
    "# parameters: first second\n",
    "# arguments:   10    3\n",
    "\n",
    "add(10, second=3)"
   ]
  },
  {
   "cell_type": "code",
   "execution_count": 196,
   "id": "ed89fca7",
   "metadata": {},
   "outputs": [
    {
     "ename": "SyntaxError",
     "evalue": "positional argument follows keyword argument (3828676014.py, line 4)",
     "output_type": "error",
     "traceback": [
      "\u001b[0;36m  File \u001b[0;32m\"/var/folders/rr/0mnyyv811fs5vyp22gf4fxk00000gn/T/ipykernel_200/3828676014.py\"\u001b[0;36m, line \u001b[0;32m4\u001b[0m\n\u001b[0;31m    add(first=10, 3)\u001b[0m\n\u001b[0m                   ^\u001b[0m\n\u001b[0;31mSyntaxError\u001b[0m\u001b[0;31m:\u001b[0m positional argument follows keyword argument\n"
     ]
    }
   ],
   "source": [
    "# parameters: first second\n",
    "# arguments:  \n",
    "\n",
    "add(first=10, 3)     # keyword argument first=10  comes before positional argument 3"
   ]
  },
  {
   "cell_type": "code",
   "execution_count": 197,
   "id": "7700f363",
   "metadata": {},
   "outputs": [
    {
     "data": {
      "text/plain": [
       "13"
      ]
     },
     "execution_count": 197,
     "metadata": {},
     "output_type": "execute_result"
    }
   ],
   "source": [
    "# parameters: first second\n",
    "# arguments:  3      10\n",
    "\n",
    "add(second=10, first=3)"
   ]
  },
  {
   "cell_type": "code",
   "execution_count": 199,
   "id": "39f3c46d",
   "metadata": {},
   "outputs": [],
   "source": [
    "# here, we have a function with a default argument for the parameter \"second\"\n",
    "\n",
    "def add(first, second=10):\n",
    "    return first + second"
   ]
  },
  {
   "cell_type": "code",
   "execution_count": 201,
   "id": "cd025258",
   "metadata": {},
   "outputs": [
    {
     "data": {
      "text/plain": [
       "5"
      ]
     },
     "execution_count": 201,
     "metadata": {},
     "output_type": "execute_result"
    }
   ],
   "source": [
    "# parameters: first second\n",
    "# arguments:   2     3\n",
    "\n",
    "add(2, 3)"
   ]
  },
  {
   "cell_type": "code",
   "execution_count": 203,
   "id": "4150ce0b",
   "metadata": {},
   "outputs": [
    {
     "data": {
      "text/plain": [
       "12"
      ]
     },
     "execution_count": 203,
     "metadata": {},
     "output_type": "execute_result"
    }
   ],
   "source": [
    "# parameters: first second\n",
    "# arguments:    2    10\n",
    "\n",
    "add(2)"
   ]
  },
  {
   "cell_type": "code",
   "execution_count": 202,
   "id": "5eec0d7d",
   "metadata": {},
   "outputs": [
    {
     "data": {
      "text/plain": [
       "(10,)"
      ]
     },
     "execution_count": 202,
     "metadata": {},
     "output_type": "execute_result"
    }
   ],
   "source": [
    "add.__defaults__"
   ]
  },
  {
   "cell_type": "code",
   "execution_count": 204,
   "id": "72841f16",
   "metadata": {},
   "outputs": [],
   "source": [
    "def add(w,x=2,y=3,z=4):\n",
    "    return w + x + y +z"
   ]
  },
  {
   "cell_type": "code",
   "execution_count": 205,
   "id": "5bf4b210",
   "metadata": {},
   "outputs": [
    {
     "data": {
      "text/plain": [
       "(2, 3, 4)"
      ]
     },
     "execution_count": 205,
     "metadata": {},
     "output_type": "execute_result"
    }
   ],
   "source": [
    "add.__defaults__"
   ]
  },
  {
   "cell_type": "code",
   "execution_count": 206,
   "id": "f9b8192a",
   "metadata": {},
   "outputs": [
    {
     "data": {
      "text/plain": [
       "37"
      ]
     },
     "execution_count": 206,
     "metadata": {},
     "output_type": "execute_result"
    }
   ],
   "source": [
    "# parameters:  w   x   y   z\n",
    "# arguments:  10   20  3   4\n",
    "\n",
    "add(10, 20)"
   ]
  },
  {
   "cell_type": "code",
   "execution_count": 209,
   "id": "e46aee77",
   "metadata": {},
   "outputs": [
    {
     "data": {
      "text/plain": [
       "36"
      ]
     },
     "execution_count": 209,
     "metadata": {},
     "output_type": "execute_result"
    }
   ],
   "source": [
    "# parameters:  w   x   y   z\n",
    "# arguments:   10   2   20   4\n",
    "\n",
    "add(10, y=20)"
   ]
  },
  {
   "cell_type": "code",
   "execution_count": 207,
   "id": "4fe4f2dd",
   "metadata": {},
   "outputs": [
    {
     "data": {
      "text/plain": [
       "('w', 'x', 'y', 'z')"
      ]
     },
     "execution_count": 207,
     "metadata": {},
     "output_type": "execute_result"
    }
   ],
   "source": [
    "add.__code__.co_varnames"
   ]
  },
  {
   "cell_type": "code",
   "execution_count": 210,
   "id": "6fa48430",
   "metadata": {},
   "outputs": [
    {
     "data": {
      "text/plain": [
       "(2, 3, 4)"
      ]
     },
     "execution_count": 210,
     "metadata": {},
     "output_type": "execute_result"
    }
   ],
   "source": [
    "add.__defaults__      # \"dunder defaults\" == \"double underscore\""
   ]
  },
  {
   "cell_type": "code",
   "execution_count": 211,
   "id": "2a7abe80",
   "metadata": {},
   "outputs": [
    {
     "data": {
      "text/plain": [
       "35"
      ]
     },
     "execution_count": 211,
     "metadata": {},
     "output_type": "execute_result"
    }
   ],
   "source": [
    "add(10, z=20)"
   ]
  },
  {
   "cell_type": "markdown",
   "id": "36c28fa6",
   "metadata": {},
   "source": [
    "# Parameters\n",
    "\n",
    "1. Mandatory parameters (can accept positional or keyword arguments)\n",
    "2. Optional parameters (can accept positional or keyword arguments), with default values in `__defaults__`\n"
   ]
  },
  {
   "cell_type": "code",
   "execution_count": 212,
   "id": "a46a0bf4",
   "metadata": {},
   "outputs": [
    {
     "data": {
      "text/plain": [
       "[10, 20, 30, 1]"
      ]
     },
     "execution_count": 212,
     "metadata": {},
     "output_type": "execute_result"
    }
   ],
   "source": [
    "def add_one(x=[]):\n",
    "    x.append(1)\n",
    "    return x\n",
    "\n",
    "mylist = [10, 20, 30]\n",
    "add_one(mylist)"
   ]
  },
  {
   "cell_type": "code",
   "execution_count": 213,
   "id": "c44dc7de",
   "metadata": {},
   "outputs": [
    {
     "data": {
      "text/plain": [
       "[10, 20, 30, 1]"
      ]
     },
     "execution_count": 213,
     "metadata": {},
     "output_type": "execute_result"
    }
   ],
   "source": [
    "mylist"
   ]
  },
  {
   "cell_type": "code",
   "execution_count": 214,
   "id": "6bde9939",
   "metadata": {},
   "outputs": [
    {
     "data": {
      "text/plain": [
       "[1]"
      ]
     },
     "execution_count": 214,
     "metadata": {},
     "output_type": "execute_result"
    }
   ],
   "source": [
    "add_one()"
   ]
  },
  {
   "cell_type": "code",
   "execution_count": 215,
   "id": "e54e0fab",
   "metadata": {},
   "outputs": [
    {
     "data": {
      "text/plain": [
       "[1, 1]"
      ]
     },
     "execution_count": 215,
     "metadata": {},
     "output_type": "execute_result"
    }
   ],
   "source": [
    "add_one()"
   ]
  },
  {
   "cell_type": "code",
   "execution_count": 216,
   "id": "4855966a",
   "metadata": {},
   "outputs": [
    {
     "data": {
      "text/plain": [
       "[1, 1, 1]"
      ]
     },
     "execution_count": 216,
     "metadata": {},
     "output_type": "execute_result"
    }
   ],
   "source": [
    "add_one()"
   ]
  },
  {
   "cell_type": "code",
   "execution_count": 217,
   "id": "4f978e28",
   "metadata": {},
   "outputs": [],
   "source": [
    "def add_one(x=[]):\n",
    "    x.append(1)\n",
    "    return x"
   ]
  },
  {
   "cell_type": "code",
   "execution_count": 219,
   "id": "5f4291bf",
   "metadata": {},
   "outputs": [
    {
     "data": {
      "text/plain": [
       "[1]"
      ]
     },
     "execution_count": 219,
     "metadata": {},
     "output_type": "execute_result"
    }
   ],
   "source": [
    "# parameters:  x\n",
    "# arguments:   []\n",
    "\n",
    "add_one()"
   ]
  },
  {
   "cell_type": "code",
   "execution_count": 220,
   "id": "4082c8c4",
   "metadata": {},
   "outputs": [
    {
     "data": {
      "text/plain": [
       "([1],)"
      ]
     },
     "execution_count": 220,
     "metadata": {},
     "output_type": "execute_result"
    }
   ],
   "source": [
    "add_one.__defaults__"
   ]
  },
  {
   "cell_type": "code",
   "execution_count": 221,
   "id": "2e0654cb",
   "metadata": {},
   "outputs": [
    {
     "data": {
      "text/plain": [
       "[1, 1]"
      ]
     },
     "execution_count": 221,
     "metadata": {},
     "output_type": "execute_result"
    }
   ],
   "source": [
    "add_one()"
   ]
  },
  {
   "cell_type": "code",
   "execution_count": 222,
   "id": "494043ab",
   "metadata": {},
   "outputs": [
    {
     "data": {
      "text/plain": [
       "([1, 1],)"
      ]
     },
     "execution_count": 222,
     "metadata": {},
     "output_type": "execute_result"
    }
   ],
   "source": [
    "add_one.__defaults__"
   ]
  },
  {
   "cell_type": "code",
   "execution_count": 225,
   "id": "2f774f63",
   "metadata": {},
   "outputs": [],
   "source": [
    "def add_one(x=None):\n",
    "    \n",
    "    if x is None:\n",
    "        x = []    # this [] is created at run time -- every run will create a new empty list!\n",
    "    \n",
    "    x.append(1)\n",
    "    return x"
   ]
  },
  {
   "cell_type": "code",
   "execution_count": 226,
   "id": "fd2b147a",
   "metadata": {},
   "outputs": [
    {
     "data": {
      "text/plain": [
       "[1]"
      ]
     },
     "execution_count": 226,
     "metadata": {},
     "output_type": "execute_result"
    }
   ],
   "source": [
    "add_one()"
   ]
  },
  {
   "cell_type": "code",
   "execution_count": null,
   "id": "051316ce",
   "metadata": {},
   "outputs": [],
   "source": []
  },
  {
   "cell_type": "code",
   "execution_count": 227,
   "id": "40be91e8",
   "metadata": {},
   "outputs": [
    {
     "data": {
      "text/plain": [
       "[1]"
      ]
     },
     "execution_count": 227,
     "metadata": {},
     "output_type": "execute_result"
    }
   ],
   "source": [
    "add_one()"
   ]
  },
  {
   "cell_type": "code",
   "execution_count": 228,
   "id": "1e3f6024",
   "metadata": {},
   "outputs": [
    {
     "data": {
      "text/plain": [
       "[1]"
      ]
     },
     "execution_count": 228,
     "metadata": {},
     "output_type": "execute_result"
    }
   ],
   "source": [
    "add_one()"
   ]
  },
  {
   "cell_type": "code",
   "execution_count": 229,
   "id": "36e4aac1",
   "metadata": {},
   "outputs": [
    {
     "data": {
      "text/plain": [
       "4446205760"
      ]
     },
     "execution_count": 229,
     "metadata": {},
     "output_type": "execute_result"
    }
   ],
   "source": [
    "id(add_one())"
   ]
  },
  {
   "cell_type": "code",
   "execution_count": 230,
   "id": "2cc01806",
   "metadata": {},
   "outputs": [
    {
     "data": {
      "text/plain": [
       "4452363264"
      ]
     },
     "execution_count": 230,
     "metadata": {},
     "output_type": "execute_result"
    }
   ],
   "source": [
    "id(add_one())"
   ]
  },
  {
   "cell_type": "code",
   "execution_count": 238,
   "id": "43345c9b",
   "metadata": {},
   "outputs": [],
   "source": [
    "def add_one(x=[]):\n",
    "    x.append(1)\n",
    "    return x"
   ]
  },
  {
   "cell_type": "code",
   "execution_count": 239,
   "id": "b0eeefcb",
   "metadata": {},
   "outputs": [
    {
     "data": {
      "text/plain": [
       "[10, 20, 30, 1]"
      ]
     },
     "execution_count": 239,
     "metadata": {},
     "output_type": "execute_result"
    }
   ],
   "source": [
    "# parameters: x\n",
    "# arguments: [10, 20, 30]\n",
    "\n",
    "add_one([10, 20, 30])"
   ]
  },
  {
   "cell_type": "code",
   "execution_count": 240,
   "id": "65966d86",
   "metadata": {},
   "outputs": [
    {
     "data": {
      "text/plain": [
       "[1]"
      ]
     },
     "execution_count": 240,
     "metadata": {},
     "output_type": "execute_result"
    }
   ],
   "source": [
    "# parameters: x\n",
    "# arguments: []\n",
    "\n",
    "add_one()"
   ]
  },
  {
   "cell_type": "code",
   "execution_count": 241,
   "id": "f440f439",
   "metadata": {},
   "outputs": [
    {
     "data": {
      "text/plain": [
       "[100, 200, 300, 1]"
      ]
     },
     "execution_count": 241,
     "metadata": {},
     "output_type": "execute_result"
    }
   ],
   "source": [
    "# parameters: x\n",
    "# arguments: [100, 200, 300]\n",
    "\n",
    "add_one([100, 200, 300])"
   ]
  },
  {
   "cell_type": "code",
   "execution_count": 242,
   "id": "c5834e57",
   "metadata": {},
   "outputs": [
    {
     "data": {
      "text/plain": [
       "[1, 1]"
      ]
     },
     "execution_count": 242,
     "metadata": {},
     "output_type": "execute_result"
    }
   ],
   "source": [
    "# parameters: x\n",
    "# arguments: [1]\n",
    "add_one()"
   ]
  },
  {
   "cell_type": "code",
   "execution_count": 243,
   "id": "c7f45405",
   "metadata": {},
   "outputs": [
    {
     "data": {
      "text/plain": [
       "([1, 1],)"
      ]
     },
     "execution_count": 243,
     "metadata": {},
     "output_type": "execute_result"
    }
   ],
   "source": [
    "add_one.__defaults__"
   ]
  },
  {
   "cell_type": "code",
   "execution_count": 251,
   "id": "37790af5",
   "metadata": {},
   "outputs": [],
   "source": [
    "def add_one(x=[]):\n",
    "    x.append(1)\n",
    "    return x"
   ]
  },
  {
   "cell_type": "code",
   "execution_count": 252,
   "id": "c2848d5b",
   "metadata": {},
   "outputs": [
    {
     "data": {
      "text/plain": [
       "([],)"
      ]
     },
     "execution_count": 252,
     "metadata": {},
     "output_type": "execute_result"
    }
   ],
   "source": [
    "add_one.__defaults__"
   ]
  },
  {
   "cell_type": "code",
   "execution_count": 253,
   "id": "3cf06335",
   "metadata": {},
   "outputs": [],
   "source": [
    "add_one.__defaults__[0].append(55)"
   ]
  },
  {
   "cell_type": "code",
   "execution_count": 254,
   "id": "14e3de17",
   "metadata": {},
   "outputs": [
    {
     "data": {
      "text/plain": [
       "([55],)"
      ]
     },
     "execution_count": 254,
     "metadata": {},
     "output_type": "execute_result"
    }
   ],
   "source": [
    "add_one.__defaults__"
   ]
  },
  {
   "cell_type": "code",
   "execution_count": 255,
   "id": "c84b9f3c",
   "metadata": {},
   "outputs": [],
   "source": [
    "add_one.__defaults__[0].append(66)"
   ]
  },
  {
   "cell_type": "code",
   "execution_count": 256,
   "id": "5c9c3cae",
   "metadata": {},
   "outputs": [
    {
     "data": {
      "text/plain": [
       "([55, 66],)"
      ]
     },
     "execution_count": 256,
     "metadata": {},
     "output_type": "execute_result"
    }
   ],
   "source": [
    "add_one.__defaults__"
   ]
  },
  {
   "cell_type": "code",
   "execution_count": 257,
   "id": "8f599a4b",
   "metadata": {},
   "outputs": [],
   "source": [
    "add_one.__defaults__[0].append(77)"
   ]
  },
  {
   "cell_type": "code",
   "execution_count": 258,
   "id": "25374323",
   "metadata": {},
   "outputs": [
    {
     "data": {
      "text/plain": [
       "([55, 66, 77],)"
      ]
     },
     "execution_count": 258,
     "metadata": {},
     "output_type": "execute_result"
    }
   ],
   "source": [
    "add_one.__defaults__"
   ]
  },
  {
   "cell_type": "code",
   "execution_count": 259,
   "id": "1ffeffe8",
   "metadata": {},
   "outputs": [
    {
     "data": {
      "text/plain": [
       "[55, 66, 77, 1]"
      ]
     },
     "execution_count": 259,
     "metadata": {},
     "output_type": "execute_result"
    }
   ],
   "source": [
    "# parameters: x\n",
    "# arguments: [55, 66, 77]\n",
    "\n",
    "add_one()"
   ]
  },
  {
   "cell_type": "code",
   "execution_count": 260,
   "id": "85feebfc",
   "metadata": {},
   "outputs": [
    {
     "data": {
      "text/plain": [
       "([55, 66, 77, 1],)"
      ]
     },
     "execution_count": 260,
     "metadata": {},
     "output_type": "execute_result"
    }
   ],
   "source": [
    "add_one.__defaults__"
   ]
  },
  {
   "cell_type": "code",
   "execution_count": 261,
   "id": "215a393c",
   "metadata": {},
   "outputs": [],
   "source": [
    "add_one.__defaults__ = ([],)"
   ]
  },
  {
   "cell_type": "code",
   "execution_count": 262,
   "id": "902d934f",
   "metadata": {},
   "outputs": [
    {
     "ename": "AttributeError",
     "evalue": "'tuple' object has no attribute 'append'",
     "output_type": "error",
     "traceback": [
      "\u001b[0;31m---------------------------------------------------------------------------\u001b[0m",
      "\u001b[0;31mAttributeError\u001b[0m                            Traceback (most recent call last)",
      "\u001b[0;32m/var/folders/rr/0mnyyv811fs5vyp22gf4fxk00000gn/T/ipykernel_200/3109563930.py\u001b[0m in \u001b[0;36m<module>\u001b[0;34m\u001b[0m\n\u001b[0;32m----> 1\u001b[0;31m \u001b[0madd_one\u001b[0m\u001b[0;34m(\u001b[0m\u001b[0;34m(\u001b[0m\u001b[0;36m10\u001b[0m\u001b[0;34m,\u001b[0m \u001b[0;36m20\u001b[0m\u001b[0;34m,\u001b[0m \u001b[0;36m30\u001b[0m\u001b[0;34m)\u001b[0m\u001b[0;34m)\u001b[0m\u001b[0;34m\u001b[0m\u001b[0;34m\u001b[0m\u001b[0m\n\u001b[0m",
      "\u001b[0;32m/var/folders/rr/0mnyyv811fs5vyp22gf4fxk00000gn/T/ipykernel_200/966100987.py\u001b[0m in \u001b[0;36madd_one\u001b[0;34m(x)\u001b[0m\n\u001b[1;32m      1\u001b[0m \u001b[0;32mdef\u001b[0m \u001b[0madd_one\u001b[0m\u001b[0;34m(\u001b[0m\u001b[0mx\u001b[0m\u001b[0;34m=\u001b[0m\u001b[0;34m[\u001b[0m\u001b[0;34m]\u001b[0m\u001b[0;34m)\u001b[0m\u001b[0;34m:\u001b[0m\u001b[0;34m\u001b[0m\u001b[0;34m\u001b[0m\u001b[0m\n\u001b[0;32m----> 2\u001b[0;31m     \u001b[0mx\u001b[0m\u001b[0;34m.\u001b[0m\u001b[0mappend\u001b[0m\u001b[0;34m(\u001b[0m\u001b[0;36m1\u001b[0m\u001b[0;34m)\u001b[0m\u001b[0;34m\u001b[0m\u001b[0;34m\u001b[0m\u001b[0m\n\u001b[0m\u001b[1;32m      3\u001b[0m     \u001b[0;32mreturn\u001b[0m \u001b[0mx\u001b[0m\u001b[0;34m\u001b[0m\u001b[0;34m\u001b[0m\u001b[0m\n",
      "\u001b[0;31mAttributeError\u001b[0m: 'tuple' object has no attribute 'append'"
     ]
    }
   ],
   "source": [
    "add_one((10, 20, 30))"
   ]
  },
  {
   "cell_type": "code",
   "execution_count": 265,
   "id": "2e2a2f40",
   "metadata": {},
   "outputs": [],
   "source": [
    "def add_one(x=()):\n",
    "    x = list(x)\n",
    "    x.append(1)\n",
    "    return x"
   ]
  },
  {
   "cell_type": "code",
   "execution_count": 266,
   "id": "71958d0d",
   "metadata": {},
   "outputs": [
    {
     "data": {
      "text/plain": [
       "[10, 20, 30, 40, 1]"
      ]
     },
     "execution_count": 266,
     "metadata": {},
     "output_type": "execute_result"
    }
   ],
   "source": [
    "add_one([10, 20, 30, 40])"
   ]
  },
  {
   "cell_type": "code",
   "execution_count": null,
   "id": "ac673b60",
   "metadata": {},
   "outputs": [],
   "source": []
  },
  {
   "cell_type": "markdown",
   "id": "050e2943",
   "metadata": {},
   "source": [
    "# Parameters\n",
    "\n",
    "1. Mandatory parameters (can accept positional or keyword arguments)\n",
    "2. Optional parameters (can accept positional or keyword arguments), with default values in `__defaults__`\n",
    "3. `*args`"
   ]
  },
  {
   "cell_type": "code",
   "execution_count": 267,
   "id": "82c3b39e",
   "metadata": {},
   "outputs": [],
   "source": [
    "def mysum(numbers):\n",
    "    total = 0\n",
    "    \n",
    "    for one_number in numbers:\n",
    "        total += one_number\n",
    "        \n",
    "    return total"
   ]
  },
  {
   "cell_type": "code",
   "execution_count": 269,
   "id": "e0e8351c",
   "metadata": {},
   "outputs": [
    {
     "data": {
      "text/plain": [
       "60"
      ]
     },
     "execution_count": 269,
     "metadata": {},
     "output_type": "execute_result"
    }
   ],
   "source": [
    "# parameters: numbers\n",
    "# arguments: [10, 20, 30]\n",
    "\n",
    "mysum([10, 20, 30])"
   ]
  },
  {
   "cell_type": "code",
   "execution_count": 270,
   "id": "f5ba7733",
   "metadata": {},
   "outputs": [
    {
     "ename": "TypeError",
     "evalue": "mysum() takes 1 positional argument but 3 were given",
     "output_type": "error",
     "traceback": [
      "\u001b[0;31m---------------------------------------------------------------------------\u001b[0m",
      "\u001b[0;31mTypeError\u001b[0m                                 Traceback (most recent call last)",
      "\u001b[0;32m/var/folders/rr/0mnyyv811fs5vyp22gf4fxk00000gn/T/ipykernel_200/1367105100.py\u001b[0m in \u001b[0;36m<module>\u001b[0;34m\u001b[0m\n\u001b[0;32m----> 1\u001b[0;31m \u001b[0mmysum\u001b[0m\u001b[0;34m(\u001b[0m\u001b[0;36m10\u001b[0m\u001b[0;34m,\u001b[0m \u001b[0;36m20\u001b[0m\u001b[0;34m,\u001b[0m \u001b[0;36m30\u001b[0m\u001b[0;34m)\u001b[0m\u001b[0;34m\u001b[0m\u001b[0;34m\u001b[0m\u001b[0m\n\u001b[0m",
      "\u001b[0;31mTypeError\u001b[0m: mysum() takes 1 positional argument but 3 were given"
     ]
    }
   ],
   "source": [
    "mysum(10, 20, 30)"
   ]
  },
  {
   "cell_type": "code",
   "execution_count": 273,
   "id": "826d3214",
   "metadata": {},
   "outputs": [],
   "source": [
    "# *numbers == numbers will be a tuple, with all positional arguments uncaught by other parameters\n",
    "\n",
    "def mysum(*numbers):\n",
    "    print(f'{numbers=}')\n",
    "    total = 0\n",
    "    \n",
    "    for one_number in numbers:\n",
    "        total += one_number\n",
    "        \n",
    "    return total"
   ]
  },
  {
   "cell_type": "code",
   "execution_count": 274,
   "id": "3b0e891d",
   "metadata": {},
   "outputs": [
    {
     "name": "stdout",
     "output_type": "stream",
     "text": [
      "numbers=(10, 20, 30, 40, 50)\n"
     ]
    },
    {
     "data": {
      "text/plain": [
       "150"
      ]
     },
     "execution_count": 274,
     "metadata": {},
     "output_type": "execute_result"
    }
   ],
   "source": [
    "mysum(10, 20, 30, 40, 50)"
   ]
  },
  {
   "cell_type": "code",
   "execution_count": 276,
   "id": "e6b9e8b6",
   "metadata": {},
   "outputs": [
    {
     "data": {
      "text/plain": [
       "0"
      ]
     },
     "execution_count": 276,
     "metadata": {},
     "output_type": "execute_result"
    }
   ],
   "source": [
    "mysum.__code__.co_argcount"
   ]
  },
  {
   "cell_type": "code",
   "execution_count": 277,
   "id": "bf7838a5",
   "metadata": {},
   "outputs": [
    {
     "data": {
      "text/plain": [
       "('numbers', 'total', 'one_number')"
      ]
     },
     "execution_count": 277,
     "metadata": {},
     "output_type": "execute_result"
    }
   ],
   "source": [
    "mysum.__code__.co_varnames"
   ]
  },
  {
   "cell_type": "code",
   "execution_count": 279,
   "id": "27b3d4e7",
   "metadata": {},
   "outputs": [
    {
     "data": {
      "text/plain": [
       "71"
      ]
     },
     "execution_count": 279,
     "metadata": {},
     "output_type": "execute_result"
    }
   ],
   "source": [
    "mysum.__code__.co_flags   # bitflags that tell Python what to do\n"
   ]
  },
  {
   "cell_type": "code",
   "execution_count": 280,
   "id": "603a4f86",
   "metadata": {},
   "outputs": [
    {
     "data": {
      "text/plain": [
       "'0b1000111'"
      ]
     },
     "execution_count": 280,
     "metadata": {},
     "output_type": "execute_result"
    }
   ],
   "source": [
    "bin(mysum.__code__.co_flags)"
   ]
  },
  {
   "cell_type": "code",
   "execution_count": 281,
   "id": "78606489",
   "metadata": {},
   "outputs": [
    {
     "name": "stdout",
     "output_type": "stream",
     "text": [
      "Name:              mysum\n",
      "Filename:          /var/folders/rr/0mnyyv811fs5vyp22gf4fxk00000gn/T/ipykernel_200/2315407093.py\n",
      "Argument count:    0\n",
      "Positional-only arguments: 0\n",
      "Kw-only arguments: 0\n",
      "Number of locals:  3\n",
      "Stack size:        3\n",
      "Flags:             OPTIMIZED, NEWLOCALS, VARARGS, NOFREE\n",
      "Constants:\n",
      "   0: None\n",
      "   1: 'numbers='\n",
      "   2: 0\n",
      "Names:\n",
      "   0: print\n",
      "Variable names:\n",
      "   0: numbers\n",
      "   1: total\n",
      "   2: one_number\n"
     ]
    }
   ],
   "source": [
    "dis.show_code(mysum)"
   ]
  },
  {
   "cell_type": "code",
   "execution_count": 282,
   "id": "53f15ffb",
   "metadata": {},
   "outputs": [
    {
     "name": "stdout",
     "output_type": "stream",
     "text": [
      "  4           0 LOAD_GLOBAL              0 (print)\n",
      "              2 LOAD_CONST               1 ('numbers=')\n",
      "              4 LOAD_FAST                0 (numbers)\n",
      "              6 FORMAT_VALUE             2 (repr)\n",
      "              8 BUILD_STRING             2\n",
      "             10 CALL_FUNCTION            1\n",
      "             12 POP_TOP\n",
      "\n",
      "  5          14 LOAD_CONST               2 (0)\n",
      "             16 STORE_FAST               1 (total)\n",
      "\n",
      "  7          18 LOAD_FAST                0 (numbers)\n",
      "             20 GET_ITER\n",
      "        >>   22 FOR_ITER                 6 (to 36)\n",
      "             24 STORE_FAST               2 (one_number)\n",
      "\n",
      "  8          26 LOAD_FAST                1 (total)\n",
      "             28 LOAD_FAST                2 (one_number)\n",
      "             30 INPLACE_ADD\n",
      "             32 STORE_FAST               1 (total)\n",
      "             34 JUMP_ABSOLUTE           11 (to 22)\n",
      "\n",
      " 10     >>   36 LOAD_FAST                1 (total)\n",
      "             38 RETURN_VALUE\n"
     ]
    }
   ],
   "source": [
    "dis.dis(mysum)"
   ]
  },
  {
   "cell_type": "code",
   "execution_count": 283,
   "id": "ba378713",
   "metadata": {},
   "outputs": [],
   "source": [
    "def myfunc(a, b, *args):\n",
    "    return f'{a=}, {b=}, {args=}'"
   ]
  },
  {
   "cell_type": "code",
   "execution_count": 284,
   "id": "2f047807",
   "metadata": {},
   "outputs": [
    {
     "data": {
      "text/plain": [
       "'a=10, b=20, args=(30, 40, 50)'"
      ]
     },
     "execution_count": 284,
     "metadata": {},
     "output_type": "execute_result"
    }
   ],
   "source": [
    "myfunc(10, 20, 30, 40, 50)"
   ]
  },
  {
   "cell_type": "code",
   "execution_count": 285,
   "id": "76451670",
   "metadata": {},
   "outputs": [],
   "source": [
    "# what if I want b to have a default of 99?\n",
    "\n",
    "def myfunc(a, b=99, *args):\n",
    "    return f'{a=}, {b=}, {args=}'"
   ]
  },
  {
   "cell_type": "code",
   "execution_count": 286,
   "id": "9153a6dd",
   "metadata": {},
   "outputs": [
    {
     "data": {
      "text/plain": [
       "'a=10, b=20, args=(30, 40, 50)'"
      ]
     },
     "execution_count": 286,
     "metadata": {},
     "output_type": "execute_result"
    }
   ],
   "source": [
    "myfunc(10, 20, 30, 40, 50)"
   ]
  },
  {
   "cell_type": "code",
   "execution_count": 287,
   "id": "f583ce4f",
   "metadata": {},
   "outputs": [],
   "source": [
    "# how can I call myfunc, giving an argument to a and args, but not b?"
   ]
  },
  {
   "cell_type": "code",
   "execution_count": 288,
   "id": "14aa5649",
   "metadata": {},
   "outputs": [
    {
     "ename": "SyntaxError",
     "evalue": "invalid syntax (416794111.py, line 1)",
     "output_type": "error",
     "traceback": [
      "\u001b[0;36m  File \u001b[0;32m\"/var/folders/rr/0mnyyv811fs5vyp22gf4fxk00000gn/T/ipykernel_200/416794111.py\"\u001b[0;36m, line \u001b[0;32m1\u001b[0m\n\u001b[0;31m    myfunc(10, , 30, 40, 50)\u001b[0m\n\u001b[0m               ^\u001b[0m\n\u001b[0;31mSyntaxError\u001b[0m\u001b[0;31m:\u001b[0m invalid syntax\n"
     ]
    }
   ],
   "source": [
    "myfunc(10, , 30, 40, 50)"
   ]
  },
  {
   "cell_type": "code",
   "execution_count": null,
   "id": "db90955d",
   "metadata": {},
   "outputs": [],
   "source": [
    "myfunc(10, args=(30, 40, 50))"
   ]
  },
  {
   "cell_type": "markdown",
   "id": "9c480418",
   "metadata": {},
   "source": [
    "# Parameters\n",
    "\n",
    "1. Mandatory parameters (can accept positional or keyword arguments)\n",
    "2. Optional parameters (can accept positional or keyword arguments), with default values in `__defaults__`\n",
    "3. `*args`\n",
    "4. Mandatory keyword-only parameters\n",
    "5. Optional keyword-only parameters"
   ]
  },
  {
   "cell_type": "code",
   "execution_count": 289,
   "id": "a829889c",
   "metadata": {},
   "outputs": [],
   "source": [
    "def myfunc(a, *args, b=99):\n",
    "    return f'{a=}, {b=}, {args=}'"
   ]
  },
  {
   "cell_type": "code",
   "execution_count": 292,
   "id": "91061486",
   "metadata": {},
   "outputs": [
    {
     "data": {
      "text/plain": [
       "'a=10, b=99, args=(20, 30, 40, 50)'"
      ]
     },
     "execution_count": 292,
     "metadata": {},
     "output_type": "execute_result"
    }
   ],
   "source": [
    "# parameters:  a   args                 b\n",
    "# arguments:   10  (20, 30, 40, 50)    99\n",
    "\n",
    "myfunc(10, 20, 30, 40, 50)"
   ]
  },
  {
   "cell_type": "code",
   "execution_count": 293,
   "id": "ee344360",
   "metadata": {},
   "outputs": [],
   "source": [
    "def myfunc(a, *args, b):\n",
    "    return f'{a=}, {b=}, {args=}'"
   ]
  },
  {
   "cell_type": "code",
   "execution_count": 295,
   "id": "7b6ecf67",
   "metadata": {},
   "outputs": [
    {
     "data": {
      "text/plain": [
       "'a=10, b=88, args=(20, 30, 40, 50)'"
      ]
     },
     "execution_count": 295,
     "metadata": {},
     "output_type": "execute_result"
    }
   ],
   "source": [
    "myfunc(10, 20, 30, 40, 50, b=88)"
   ]
  },
  {
   "cell_type": "code",
   "execution_count": 296,
   "id": "ff5dae84",
   "metadata": {},
   "outputs": [
    {
     "name": "stdout",
     "output_type": "stream",
     "text": [
      "Name:              myfunc\n",
      "Filename:          /var/folders/rr/0mnyyv811fs5vyp22gf4fxk00000gn/T/ipykernel_200/2447674701.py\n",
      "Argument count:    1\n",
      "Positional-only arguments: 0\n",
      "Kw-only arguments: 1\n",
      "Number of locals:  3\n",
      "Stack size:        6\n",
      "Flags:             OPTIMIZED, NEWLOCALS, VARARGS, NOFREE\n",
      "Constants:\n",
      "   0: None\n",
      "   1: 'a='\n",
      "   2: ', b='\n",
      "   3: ', args='\n",
      "Variable names:\n",
      "   0: a\n",
      "   1: b\n",
      "   2: args\n"
     ]
    }
   ],
   "source": [
    "dis.show_code(myfunc)"
   ]
  },
  {
   "cell_type": "code",
   "execution_count": 298,
   "id": "109e6f8f",
   "metadata": {},
   "outputs": [
    {
     "data": {
      "text/plain": [
       "1"
      ]
     },
     "execution_count": 298,
     "metadata": {},
     "output_type": "execute_result"
    }
   ],
   "source": [
    "myfunc.__code__.co_kwonlyargcount"
   ]
  },
  {
   "cell_type": "code",
   "execution_count": 299,
   "id": "4ea6344d",
   "metadata": {},
   "outputs": [],
   "source": [
    "# I want b to be keyword only\n",
    "# I don't want *args\n",
    "# How?\n",
    "\n",
    "def myfunc(a, b):\n",
    "    return f'{a=}, {b=}'"
   ]
  },
  {
   "cell_type": "code",
   "execution_count": 300,
   "id": "585c8367",
   "metadata": {},
   "outputs": [
    {
     "data": {
      "text/plain": [
       "'a=10, b=20'"
      ]
     },
     "execution_count": 300,
     "metadata": {},
     "output_type": "execute_result"
    }
   ],
   "source": [
    "myfunc(10, 20)"
   ]
  },
  {
   "cell_type": "code",
   "execution_count": 301,
   "id": "ca15576e",
   "metadata": {},
   "outputs": [],
   "source": [
    "# If you don't have *args in your function, just use *\n",
    "# * by itself doesn't define *args, but does start keyword-only parameters\n",
    "def myfunc(a, *, b):\n",
    "    return f'{a=}, {b=}'"
   ]
  },
  {
   "cell_type": "code",
   "execution_count": null,
   "id": "e80a3937",
   "metadata": {},
   "outputs": [],
   "source": []
  },
  {
   "cell_type": "markdown",
   "id": "f8a3ac74",
   "metadata": {},
   "source": [
    "# Parameters\n",
    "\n",
    "1. Mandatory parameters (can accept positional or keyword arguments)\n",
    "2. Optional parameters (can accept positional or keyword arguments), with default values in `__defaults__`\n",
    "3. `*args`\n",
    "4. Mandatory keyword-only parameters\n",
    "5. Optional keyword-only parameters"
   ]
  },
  {
   "cell_type": "markdown",
   "id": "d5ca0d7d",
   "metadata": {},
   "source": [
    "# Exercise: `all_lines`\n",
    "\n",
    "1. This function will, in the end, write all lines from many text files into a single text file.  It will take the following arguments:\n",
    "    - Mandatory, a filename into which we'll write our argument\n",
    "    - Optional, all of the filenames from which we want to read our inputs\n",
    "    - Optional, and keyword only, the string that we want to be a divider between files.  The default value should be `'---'`.\n",
    "2. When I call the function, all lines from all of the input files will be written to the output file. The output file will contain all lines from the first input file, then all lines from the 2nd input file, etc.  Between each file, we'll have the divider (the 3rd argument)."
   ]
  },
  {
   "cell_type": "markdown",
   "id": "581d4039",
   "metadata": {},
   "source": [
    "You can download text files from here, if you need:\n",
    "\n",
    "https://files.lerner.co.il/advanced-exercise-files.zip"
   ]
  },
  {
   "cell_type": "code",
   "execution_count": null,
   "id": "894b1e83",
   "metadata": {},
   "outputs": [],
   "source": [
    "def all_lines(outfilename, *infilenames, divider='---'):\n",
    "    with open(outfilename, 'w') as outfile:\n",
    "        for one_filename in infilenames:\n",
    "            for one_line in open(one_filename):\n",
    "                outfile.write(one_line)"
   ]
  }
 ],
 "metadata": {
  "kernelspec": {
   "display_name": "Python 3 (ipykernel)",
   "language": "python",
   "name": "python3"
  },
  "language_info": {
   "codemirror_mode": {
    "name": "ipython",
    "version": 3
   },
   "file_extension": ".py",
   "mimetype": "text/x-python",
   "name": "python",
   "nbconvert_exporter": "python",
   "pygments_lexer": "ipython3",
   "version": "3.10.5"
  }
 },
 "nbformat": 4,
 "nbformat_minor": 5
}

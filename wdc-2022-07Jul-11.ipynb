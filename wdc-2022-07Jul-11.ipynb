{
 "cells": [
  {
   "cell_type": "markdown",
   "id": "1725e029",
   "metadata": {},
   "source": [
    "# Agenda\n",
    "\n",
    "1. How dictionaries work\n",
    "2. Dictionary variants\n",
    "3. Functions\n",
    "     - Function objects\n",
    "     - Arguments and parameters"
   ]
  },
  {
   "cell_type": "code",
   "execution_count": null,
   "id": "e4c778d0",
   "metadata": {},
   "outputs": [],
   "source": [
    "for VARIABLE in OBJECT:\n",
    "    BODY"
   ]
  },
  {
   "cell_type": "code",
   "execution_count": 1,
   "id": "f0ceb914",
   "metadata": {},
   "outputs": [
    {
     "name": "stdout",
     "output_type": "stream",
     "text": [
      "a\n",
      "b\n",
      "c\n",
      "d\n"
     ]
    }
   ],
   "source": [
    "d1 = {'a':1, 'b':2, 'c':3}\n",
    "d2 = {'b':3, 'c':4, 'd':5}\n",
    "\n",
    "for one_item in d1 | d2:  \n",
    "    print(one_item)"
   ]
  },
  {
   "cell_type": "code",
   "execution_count": 2,
   "id": "d244b2b0",
   "metadata": {},
   "outputs": [
    {
     "name": "stdout",
     "output_type": "stream",
     "text": [
      "('a', 1)\n",
      "('b', 3)\n",
      "('c', 4)\n",
      "('d', 5)\n"
     ]
    }
   ],
   "source": [
    "for one_item in (d1 | d2).items():  \n",
    "    print(one_item)"
   ]
  },
  {
   "cell_type": "code",
   "execution_count": 3,
   "id": "9256b7ae",
   "metadata": {},
   "outputs": [
    {
     "name": "stdout",
     "output_type": "stream",
     "text": [
      "('b', 2)\n",
      "('c', 3)\n",
      "('d', 5)\n",
      "('a', 1)\n"
     ]
    }
   ],
   "source": [
    "for one_item in (d2 | d1).items():  \n",
    "    print(one_item)"
   ]
  },
  {
   "cell_type": "code",
   "execution_count": 4,
   "id": "c591d1cb",
   "metadata": {},
   "outputs": [],
   "source": [
    "d = {'c':100, 'b':200, 'd':300, 'a':400, 'e':500}"
   ]
  },
  {
   "cell_type": "code",
   "execution_count": 5,
   "id": "b962ad7d",
   "metadata": {},
   "outputs": [
    {
     "data": {
      "text/plain": [
       "dict_keys(['c', 'b', 'd', 'a', 'e'])"
      ]
     },
     "execution_count": 5,
     "metadata": {},
     "output_type": "execute_result"
    }
   ],
   "source": [
    "d.keys()"
   ]
  },
  {
   "cell_type": "code",
   "execution_count": 6,
   "id": "5cd63fd2",
   "metadata": {},
   "outputs": [
    {
     "data": {
      "text/plain": [
       "dict_keys(['c', 'b', 'd', 'a', 'e', 'g', 'f'])"
      ]
     },
     "execution_count": 6,
     "metadata": {},
     "output_type": "execute_result"
    }
   ],
   "source": [
    "d['g'] = 600\n",
    "d['f'] = 700\n",
    "\n",
    "d.keys()"
   ]
  },
  {
   "cell_type": "code",
   "execution_count": 9,
   "id": "caa7c6bd",
   "metadata": {},
   "outputs": [
    {
     "data": {
      "text/plain": [
       "['f', 'b', 'g', 'd', 'e', 'a', 'c']"
      ]
     },
     "execution_count": 9,
     "metadata": {},
     "output_type": "execute_result"
    }
   ],
   "source": [
    "list(set(d.keys()))"
   ]
  },
  {
   "cell_type": "code",
   "execution_count": 10,
   "id": "a3a62b98",
   "metadata": {},
   "outputs": [
    {
     "data": {
      "text/plain": [
       "{'a': 1, 'b': 3, 'c': 4, 'd': 5}"
      ]
     },
     "execution_count": 10,
     "metadata": {},
     "output_type": "execute_result"
    }
   ],
   "source": [
    "d1 | d2"
   ]
  },
  {
   "cell_type": "code",
   "execution_count": 12,
   "id": "b08e5994",
   "metadata": {},
   "outputs": [
    {
     "data": {
      "text/plain": [
       "['a', 'c', 'd', 'b']"
      ]
     },
     "execution_count": 12,
     "metadata": {},
     "output_type": "execute_result"
    }
   ],
   "source": [
    "list(d1.keys() | d2.keys())"
   ]
  },
  {
   "cell_type": "code",
   "execution_count": 13,
   "id": "3e983afb",
   "metadata": {},
   "outputs": [
    {
     "data": {
      "text/plain": [
       "{'a': 1, 'b': 3, 'c': 4, 'd': 5}"
      ]
     },
     "execution_count": 13,
     "metadata": {},
     "output_type": "execute_result"
    }
   ],
   "source": [
    "d1 | d2"
   ]
  },
  {
   "cell_type": "code",
   "execution_count": 16,
   "id": "e28d81e2",
   "metadata": {},
   "outputs": [
    {
     "data": {
      "text/plain": [
       "['a', 'c', 'd', 'b']"
      ]
     },
     "execution_count": 16,
     "metadata": {},
     "output_type": "execute_result"
    }
   ],
   "source": [
    "list(d1.keys() | d2.keys())"
   ]
  },
  {
   "cell_type": "code",
   "execution_count": 17,
   "id": "ac0ade0a",
   "metadata": {},
   "outputs": [
    {
     "data": {
      "text/plain": [
       "['a', 'c', 'd', 'b']"
      ]
     },
     "execution_count": 17,
     "metadata": {},
     "output_type": "execute_result"
    }
   ],
   "source": [
    "d1 = {'a':1, 'b':2, 'c':3}\n",
    "d2 = {'b':3, 'c':4, 'd':5}\n",
    "\n",
    "list(d1.keys() | d2.keys())"
   ]
  },
  {
   "cell_type": "code",
   "execution_count": 18,
   "id": "056b8c63",
   "metadata": {},
   "outputs": [
    {
     "data": {
      "text/plain": [
       "{'a', 'b', 'c', 'd'}"
      ]
     },
     "execution_count": 18,
     "metadata": {},
     "output_type": "execute_result"
    }
   ],
   "source": [
    "d1.keys() | d2.keys()    # sets are ordered when displayed in Jupyter"
   ]
  },
  {
   "cell_type": "code",
   "execution_count": 19,
   "id": "137b29fb",
   "metadata": {},
   "outputs": [
    {
     "name": "stdout",
     "output_type": "stream",
     "text": [
      "a\n",
      "c\n",
      "d\n",
      "b\n"
     ]
    }
   ],
   "source": [
    "for one_item in (d1.keys() | d2.keys()):   #but sets have a different internal order we can see via \"for\"\n",
    "    print(one_item)"
   ]
  },
  {
   "cell_type": "code",
   "execution_count": 20,
   "id": "9e60be01",
   "metadata": {},
   "outputs": [
    {
     "data": {
      "text/plain": [
       "['a', 'c', 'd', 'b']"
      ]
     },
     "execution_count": 20,
     "metadata": {},
     "output_type": "execute_result"
    }
   ],
   "source": [
    "list(d1.keys()|d2.keys())"
   ]
  },
  {
   "cell_type": "code",
   "execution_count": 21,
   "id": "9f715a09",
   "metadata": {},
   "outputs": [],
   "source": [
    "d1 = {'a':1, 'b':2, 'c':3}\n",
    "d2 = {'b':3, 'c':4, 'd':5}\n"
   ]
  },
  {
   "cell_type": "code",
   "execution_count": 22,
   "id": "1b488007",
   "metadata": {},
   "outputs": [
    {
     "data": {
      "text/plain": [
       "{'a': 1, 'b': 2, 'c': 3}"
      ]
     },
     "execution_count": 22,
     "metadata": {},
     "output_type": "execute_result"
    }
   ],
   "source": [
    "d1"
   ]
  },
  {
   "cell_type": "code",
   "execution_count": 24,
   "id": "7f728418",
   "metadata": {},
   "outputs": [
    {
     "data": {
      "text/plain": [
       "{'a': 1, 'b': 100, 'c': 3}"
      ]
     },
     "execution_count": 24,
     "metadata": {},
     "output_type": "execute_result"
    }
   ],
   "source": [
    "d1['b'] = 100\n",
    "d1"
   ]
  },
  {
   "cell_type": "code",
   "execution_count": 25,
   "id": "9d0ab8d4",
   "metadata": {},
   "outputs": [
    {
     "data": {
      "text/plain": [
       "{'a': 1, 'b': 3, 'c': 4, 'd': 5}"
      ]
     },
     "execution_count": 25,
     "metadata": {},
     "output_type": "execute_result"
    }
   ],
   "source": [
    "d1 = {'a':1, 'b':2, 'c':3}\n",
    "d2 = {'b':3, 'c':4, 'd':5}\n",
    "\n",
    "d1 | d2    "
   ]
  },
  {
   "cell_type": "code",
   "execution_count": 28,
   "id": "235eff91",
   "metadata": {},
   "outputs": [],
   "source": [
    "# rewrite of the above\n",
    "\n",
    "def my_dict_union(d1, d2):\n",
    "    output = d1.copy()\n",
    "    \n",
    "    for key, value in d2.items():\n",
    "        output[key] = value\n",
    "        \n",
    "    return output\n",
    "        "
   ]
  },
  {
   "cell_type": "code",
   "execution_count": 29,
   "id": "0cd127f7",
   "metadata": {},
   "outputs": [
    {
     "data": {
      "text/plain": [
       "{'a': 1, 'b': 3, 'c': 4, 'd': 5}"
      ]
     },
     "execution_count": 29,
     "metadata": {},
     "output_type": "execute_result"
    }
   ],
   "source": [
    "my_dict_union(d1, d2)"
   ]
  },
  {
   "cell_type": "code",
   "execution_count": 30,
   "id": "687d91cf",
   "metadata": {},
   "outputs": [
    {
     "data": {
      "text/plain": [
       "dict_keys"
      ]
     },
     "execution_count": 30,
     "metadata": {},
     "output_type": "execute_result"
    }
   ],
   "source": [
    "type(d1.keys())"
   ]
  },
  {
   "cell_type": "code",
   "execution_count": 31,
   "id": "528fa2a2",
   "metadata": {},
   "outputs": [
    {
     "data": {
      "text/plain": [
       "set"
      ]
     },
     "execution_count": 31,
     "metadata": {},
     "output_type": "execute_result"
    }
   ],
   "source": [
    "type(d1.keys() | d2.keys())"
   ]
  },
  {
   "cell_type": "code",
   "execution_count": 34,
   "id": "9e0e9ae2",
   "metadata": {},
   "outputs": [
    {
     "data": {
      "text/plain": [
       "{'a', 'b', 'c', 'd'}"
      ]
     },
     "execution_count": 34,
     "metadata": {},
     "output_type": "execute_result"
    }
   ],
   "source": [
    "d1.keys().__ror__(d2.keys())"
   ]
  },
  {
   "cell_type": "raw",
   "id": "4e49b5db",
   "metadata": {},
   "source": [
    "Python 2 dict  (through Python 3.5)\n",
    "\n",
    "a new dict creates a 2-column table with 8 rows\n",
    "\n",
    "     key     value\n",
    "0     'a'      10\n",
    "1     'i'      100\n",
    "2     'c'     30\n",
    "3     'b'       20\n",
    "4\n",
    "5\n",
    "6\n",
    "7\n"
   ]
  },
  {
   "cell_type": "raw",
   "id": "d04baae5",
   "metadata": {},
   "source": [
    "Python 3 dict (starting with Python 3.6)\n",
    "\n",
    "Two data structures behind the scene: (1) table and (2) array\n",
    "\n",
    "Table\n",
    "\n",
    "index    key    value\n",
    "---------------------\n",
    "\n",
    "\n",
    "Array"
   ]
  },
  {
   "cell_type": "code",
   "execution_count": 35,
   "id": "0e238867",
   "metadata": {},
   "outputs": [],
   "source": [
    "d = {}"
   ]
  },
  {
   "cell_type": "code",
   "execution_count": null,
   "id": "2293cf59",
   "metadata": {},
   "outputs": [],
   "source": []
  }
 ],
 "metadata": {
  "kernelspec": {
   "display_name": "Python 3 (ipykernel)",
   "language": "python",
   "name": "python3"
  },
  "language_info": {
   "codemirror_mode": {
    "name": "ipython",
    "version": 3
   },
   "file_extension": ".py",
   "mimetype": "text/x-python",
   "name": "python",
   "nbconvert_exporter": "python",
   "pygments_lexer": "ipython3",
   "version": "3.10.5"
  }
 },
 "nbformat": 4,
 "nbformat_minor": 5
}

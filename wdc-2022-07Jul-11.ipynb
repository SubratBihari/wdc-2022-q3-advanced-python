{
 "cells": [
  {
   "cell_type": "markdown",
   "id": "466877c9",
   "metadata": {},
   "source": [
    "# Agenda\n",
    "\n",
    "1. How dictionaries work\n",
    "2. Dictionary variants\n",
    "3. Functions\n",
    "     - Function objects\n",
    "     - Arguments and parameters"
   ]
  },
  {
   "cell_type": "code",
   "execution_count": null,
   "id": "8a625432",
   "metadata": {},
   "outputs": [],
   "source": [
    "for VARIABLE in OBJECT:\n",
    "    BODY"
   ]
  },
  {
   "cell_type": "code",
   "execution_count": 1,
   "id": "21cc3258",
   "metadata": {},
   "outputs": [
    {
     "name": "stdout",
     "output_type": "stream",
     "text": [
      "a\n",
      "b\n",
      "c\n",
      "d\n"
     ]
    }
   ],
   "source": [
    "d1 = {'a':1, 'b':2, 'c':3}\n",
    "d2 = {'b':3, 'c':4, 'd':5}\n",
    "\n",
    "for one_item in d1 | d2:  \n",
    "    print(one_item)"
   ]
  },
  {
   "cell_type": "code",
   "execution_count": 2,
   "id": "52b14062",
   "metadata": {},
   "outputs": [
    {
     "name": "stdout",
     "output_type": "stream",
     "text": [
      "('a', 1)\n",
      "('b', 3)\n",
      "('c', 4)\n",
      "('d', 5)\n"
     ]
    }
   ],
   "source": [
    "for one_item in (d1 | d2).items():  \n",
    "    print(one_item)"
   ]
  },
  {
   "cell_type": "code",
   "execution_count": 3,
   "id": "b2a34aa4",
   "metadata": {},
   "outputs": [
    {
     "name": "stdout",
     "output_type": "stream",
     "text": [
      "('b', 2)\n",
      "('c', 3)\n",
      "('d', 5)\n",
      "('a', 1)\n"
     ]
    }
   ],
   "source": [
    "for one_item in (d2 | d1).items():  \n",
    "    print(one_item)"
   ]
  },
  {
   "cell_type": "code",
   "execution_count": 4,
   "id": "974baf17",
   "metadata": {},
   "outputs": [],
   "source": [
    "d = {'c':100, 'b':200, 'd':300, 'a':400, 'e':500}"
   ]
  },
  {
   "cell_type": "code",
   "execution_count": 5,
   "id": "f241f5fb",
   "metadata": {},
   "outputs": [
    {
     "data": {
      "text/plain": [
       "dict_keys(['c', 'b', 'd', 'a', 'e'])"
      ]
     },
     "execution_count": 5,
     "metadata": {},
     "output_type": "execute_result"
    }
   ],
   "source": [
    "d.keys()"
   ]
  },
  {
   "cell_type": "code",
   "execution_count": 6,
   "id": "fa853b62",
   "metadata": {},
   "outputs": [
    {
     "data": {
      "text/plain": [
       "dict_keys(['c', 'b', 'd', 'a', 'e', 'g', 'f'])"
      ]
     },
     "execution_count": 6,
     "metadata": {},
     "output_type": "execute_result"
    }
   ],
   "source": [
    "d['g'] = 600\n",
    "d['f'] = 700\n",
    "\n",
    "d.keys()"
   ]
  },
  {
   "cell_type": "code",
   "execution_count": 9,
   "id": "e780c147",
   "metadata": {},
   "outputs": [
    {
     "data": {
      "text/plain": [
       "['f', 'b', 'g', 'd', 'e', 'a', 'c']"
      ]
     },
     "execution_count": 9,
     "metadata": {},
     "output_type": "execute_result"
    }
   ],
   "source": [
    "list(set(d.keys()))"
   ]
  },
  {
   "cell_type": "code",
   "execution_count": 10,
   "id": "f69e2fbf",
   "metadata": {},
   "outputs": [
    {
     "data": {
      "text/plain": [
       "{'a': 1, 'b': 3, 'c': 4, 'd': 5}"
      ]
     },
     "execution_count": 10,
     "metadata": {},
     "output_type": "execute_result"
    }
   ],
   "source": [
    "d1 | d2"
   ]
  },
  {
   "cell_type": "code",
   "execution_count": 12,
   "id": "2f449c3c",
   "metadata": {},
   "outputs": [
    {
     "data": {
      "text/plain": [
       "['a', 'c', 'd', 'b']"
      ]
     },
     "execution_count": 12,
     "metadata": {},
     "output_type": "execute_result"
    }
   ],
   "source": [
    "list(d1.keys() | d2.keys())"
   ]
  },
  {
   "cell_type": "code",
   "execution_count": 13,
   "id": "296ca3e2",
   "metadata": {},
   "outputs": [
    {
     "data": {
      "text/plain": [
       "{'a': 1, 'b': 3, 'c': 4, 'd': 5}"
      ]
     },
     "execution_count": 13,
     "metadata": {},
     "output_type": "execute_result"
    }
   ],
   "source": [
    "d1 | d2"
   ]
  },
  {
   "cell_type": "code",
   "execution_count": 16,
   "id": "9afbf116",
   "metadata": {},
   "outputs": [
    {
     "data": {
      "text/plain": [
       "['a', 'c', 'd', 'b']"
      ]
     },
     "execution_count": 16,
     "metadata": {},
     "output_type": "execute_result"
    }
   ],
   "source": [
    "list(d1.keys() | d2.keys())"
   ]
  },
  {
   "cell_type": "code",
   "execution_count": 17,
   "id": "e92662e5",
   "metadata": {},
   "outputs": [
    {
     "data": {
      "text/plain": [
       "['a', 'c', 'd', 'b']"
      ]
     },
     "execution_count": 17,
     "metadata": {},
     "output_type": "execute_result"
    }
   ],
   "source": [
    "d1 = {'a':1, 'b':2, 'c':3}\n",
    "d2 = {'b':3, 'c':4, 'd':5}\n",
    "\n",
    "list(d1.keys() | d2.keys())"
   ]
  },
  {
   "cell_type": "code",
   "execution_count": 18,
   "id": "20b825d4",
   "metadata": {},
   "outputs": [
    {
     "data": {
      "text/plain": [
       "{'a', 'b', 'c', 'd'}"
      ]
     },
     "execution_count": 18,
     "metadata": {},
     "output_type": "execute_result"
    }
   ],
   "source": [
    "d1.keys() | d2.keys()    # sets are ordered when displayed in Jupyter"
   ]
  },
  {
   "cell_type": "code",
   "execution_count": 19,
   "id": "6aed56db",
   "metadata": {},
   "outputs": [
    {
     "name": "stdout",
     "output_type": "stream",
     "text": [
      "a\n",
      "c\n",
      "d\n",
      "b\n"
     ]
    }
   ],
   "source": [
    "for one_item in (d1.keys() | d2.keys()):   #but sets have a different internal order we can see via \"for\"\n",
    "    print(one_item)"
   ]
  },
  {
   "cell_type": "code",
   "execution_count": 20,
   "id": "cc51445d",
   "metadata": {},
   "outputs": [
    {
     "data": {
      "text/plain": [
       "['a', 'c', 'd', 'b']"
      ]
     },
     "execution_count": 20,
     "metadata": {},
     "output_type": "execute_result"
    }
   ],
   "source": [
    "list(d1.keys()|d2.keys())"
   ]
  },
  {
   "cell_type": "code",
   "execution_count": 21,
   "id": "9bc96fc2",
   "metadata": {},
   "outputs": [],
   "source": [
    "d1 = {'a':1, 'b':2, 'c':3}\n",
    "d2 = {'b':3, 'c':4, 'd':5}\n"
   ]
  },
  {
   "cell_type": "code",
   "execution_count": 22,
   "id": "00db0527",
   "metadata": {},
   "outputs": [
    {
     "data": {
      "text/plain": [
       "{'a': 1, 'b': 2, 'c': 3}"
      ]
     },
     "execution_count": 22,
     "metadata": {},
     "output_type": "execute_result"
    }
   ],
   "source": [
    "d1"
   ]
  },
  {
   "cell_type": "code",
   "execution_count": 24,
   "id": "65bf4676",
   "metadata": {},
   "outputs": [
    {
     "data": {
      "text/plain": [
       "{'a': 1, 'b': 100, 'c': 3}"
      ]
     },
     "execution_count": 24,
     "metadata": {},
     "output_type": "execute_result"
    }
   ],
   "source": [
    "d1['b'] = 100\n",
    "d1"
   ]
  },
  {
   "cell_type": "code",
   "execution_count": 25,
   "id": "be4615f2",
   "metadata": {},
   "outputs": [
    {
     "data": {
      "text/plain": [
       "{'a': 1, 'b': 3, 'c': 4, 'd': 5}"
      ]
     },
     "execution_count": 25,
     "metadata": {},
     "output_type": "execute_result"
    }
   ],
   "source": [
    "d1 = {'a':1, 'b':2, 'c':3}\n",
    "d2 = {'b':3, 'c':4, 'd':5}\n",
    "\n",
    "d1 | d2    "
   ]
  },
  {
   "cell_type": "code",
   "execution_count": 28,
   "id": "fb264ccf",
   "metadata": {},
   "outputs": [],
   "source": [
    "# rewrite of the above\n",
    "\n",
    "def my_dict_union(d1, d2):\n",
    "    output = d1.copy()\n",
    "    \n",
    "    for key, value in d2.items():\n",
    "        output[key] = value\n",
    "        \n",
    "    return output\n",
    "        "
   ]
  },
  {
   "cell_type": "code",
   "execution_count": 29,
   "id": "1e590fea",
   "metadata": {},
   "outputs": [
    {
     "data": {
      "text/plain": [
       "{'a': 1, 'b': 3, 'c': 4, 'd': 5}"
      ]
     },
     "execution_count": 29,
     "metadata": {},
     "output_type": "execute_result"
    }
   ],
   "source": [
    "my_dict_union(d1, d2)"
   ]
  },
  {
   "cell_type": "code",
   "execution_count": 30,
   "id": "982d8879",
   "metadata": {},
   "outputs": [
    {
     "data": {
      "text/plain": [
       "dict_keys"
      ]
     },
     "execution_count": 30,
     "metadata": {},
     "output_type": "execute_result"
    }
   ],
   "source": [
    "type(d1.keys())"
   ]
  },
  {
   "cell_type": "code",
   "execution_count": 31,
   "id": "395656fd",
   "metadata": {},
   "outputs": [
    {
     "data": {
      "text/plain": [
       "set"
      ]
     },
     "execution_count": 31,
     "metadata": {},
     "output_type": "execute_result"
    }
   ],
   "source": [
    "type(d1.keys() | d2.keys())"
   ]
  },
  {
   "cell_type": "code",
   "execution_count": 34,
   "id": "8801fab5",
   "metadata": {},
   "outputs": [
    {
     "data": {
      "text/plain": [
       "{'a', 'b', 'c', 'd'}"
      ]
     },
     "execution_count": 34,
     "metadata": {},
     "output_type": "execute_result"
    }
   ],
   "source": [
    "d1.keys().__ror__(d2.keys())"
   ]
  },
  {
   "cell_type": "raw",
   "id": "1e010a84",
   "metadata": {},
   "source": [
    "Python 2 dict  (through Python 3.5)\n",
    "\n",
    "a new dict creates a 2-column table with 8 rows\n",
    "\n",
    "     key     value\n",
    "0     'a'      10\n",
    "1     'i'      100\n",
    "2     'c'     30\n",
    "3     'b'       20\n",
    "4\n",
    "5\n",
    "6\n",
    "7\n"
   ]
  },
  {
   "cell_type": "raw",
   "id": "f2c0c02d",
   "metadata": {},
   "source": [
    "Python 3 dict (starting with Python 3.6)\n",
    "\n",
    "Two data structures behind the scene: (1) table and (2) array\n",
    "\n",
    "Table\n",
    "\n",
    "index    key    value\n",
    "---------------------\n",
    "  0      'a'      100\n",
    "  1      'b'      200\n",
    "  2      'c'      300\n",
    "\n",
    "Array\n",
    "\n",
    "[None,None,0,None,None,1,2,None]"
   ]
  },
  {
   "cell_type": "code",
   "execution_count": 35,
   "id": "305edc8b",
   "metadata": {},
   "outputs": [],
   "source": [
    "d = {}"
   ]
  },
  {
   "cell_type": "code",
   "execution_count": 36,
   "id": "0354947b",
   "metadata": {},
   "outputs": [],
   "source": [
    "d['a'] = 100"
   ]
  },
  {
   "cell_type": "code",
   "execution_count": 37,
   "id": "34c9fc7f",
   "metadata": {},
   "outputs": [
    {
     "data": {
      "text/plain": [
       "2"
      ]
     },
     "execution_count": 37,
     "metadata": {},
     "output_type": "execute_result"
    }
   ],
   "source": [
    "hash('a') % 8"
   ]
  },
  {
   "cell_type": "code",
   "execution_count": null,
   "id": "124a4091",
   "metadata": {},
   "outputs": [],
   "source": [
    "'a' in d"
   ]
  },
  {
   "cell_type": "code",
   "execution_count": 38,
   "id": "18437158",
   "metadata": {},
   "outputs": [],
   "source": [
    "d['b'] = 200\n",
    "d['c'] = 300"
   ]
  },
  {
   "cell_type": "code",
   "execution_count": 39,
   "id": "83ce3ccf",
   "metadata": {},
   "outputs": [
    {
     "data": {
      "text/plain": [
       "5"
      ]
     },
     "execution_count": 39,
     "metadata": {},
     "output_type": "execute_result"
    }
   ],
   "source": [
    "hash('b') % 8"
   ]
  },
  {
   "cell_type": "code",
   "execution_count": 40,
   "id": "c1daae10",
   "metadata": {},
   "outputs": [
    {
     "data": {
      "text/plain": [
       "5"
      ]
     },
     "execution_count": 40,
     "metadata": {},
     "output_type": "execute_result"
    }
   ],
   "source": [
    "hash('c') % 8"
   ]
  },
  {
   "cell_type": "code",
   "execution_count": 41,
   "id": "a1431385",
   "metadata": {},
   "outputs": [
    {
     "data": {
      "text/plain": [
       "True"
      ]
     },
     "execution_count": 41,
     "metadata": {},
     "output_type": "execute_result"
    }
   ],
   "source": [
    "'c' in d"
   ]
  },
  {
   "cell_type": "code",
   "execution_count": 42,
   "id": "ea123abb",
   "metadata": {},
   "outputs": [],
   "source": [
    "from collections import OrderedDict"
   ]
  },
  {
   "cell_type": "code",
   "execution_count": 43,
   "id": "b6fb150a",
   "metadata": {},
   "outputs": [],
   "source": [
    "d = OrderedDict()\n",
    "d['a'] = 100\n",
    "d['b'] = 200\n",
    "d['c'] = 300"
   ]
  },
  {
   "cell_type": "code",
   "execution_count": 44,
   "id": "1caeaf78",
   "metadata": {},
   "outputs": [
    {
     "data": {
      "text/plain": [
       "OrderedDict([('a', 100), ('b', 200), ('c', 300)])"
      ]
     },
     "execution_count": 44,
     "metadata": {},
     "output_type": "execute_result"
    }
   ],
   "source": [
    "d"
   ]
  },
  {
   "cell_type": "code",
   "execution_count": 45,
   "id": "e343392d",
   "metadata": {},
   "outputs": [],
   "source": [
    "d1 = {'a':100, 'b':200, 'c':300}\n",
    "d2 = {'a':100, 'c':300, 'b':200}"
   ]
  },
  {
   "cell_type": "code",
   "execution_count": 46,
   "id": "f00d75da",
   "metadata": {},
   "outputs": [
    {
     "data": {
      "text/plain": [
       "{'a': 100, 'b': 200, 'c': 300}"
      ]
     },
     "execution_count": 46,
     "metadata": {},
     "output_type": "execute_result"
    }
   ],
   "source": [
    "d1"
   ]
  },
  {
   "cell_type": "code",
   "execution_count": 47,
   "id": "5a5a49cf",
   "metadata": {},
   "outputs": [
    {
     "data": {
      "text/plain": [
       "{'a': 100, 'c': 300, 'b': 200}"
      ]
     },
     "execution_count": 47,
     "metadata": {},
     "output_type": "execute_result"
    }
   ],
   "source": [
    "d2"
   ]
  },
  {
   "cell_type": "code",
   "execution_count": 48,
   "id": "ad9c1e1f",
   "metadata": {},
   "outputs": [
    {
     "data": {
      "text/plain": [
       "True"
      ]
     },
     "execution_count": 48,
     "metadata": {},
     "output_type": "execute_result"
    }
   ],
   "source": [
    "d1 == d2"
   ]
  },
  {
   "cell_type": "code",
   "execution_count": 49,
   "id": "d988032c",
   "metadata": {},
   "outputs": [],
   "source": [
    "d1 = OrderedDict(a=100, b=200, c=300)\n",
    "d2 = OrderedDict(a=100, c=300, b=200)"
   ]
  },
  {
   "cell_type": "code",
   "execution_count": 50,
   "id": "8a408c76",
   "metadata": {},
   "outputs": [
    {
     "data": {
      "text/plain": [
       "OrderedDict([('a', 100), ('b', 200), ('c', 300)])"
      ]
     },
     "execution_count": 50,
     "metadata": {},
     "output_type": "execute_result"
    }
   ],
   "source": [
    "d1"
   ]
  },
  {
   "cell_type": "code",
   "execution_count": 51,
   "id": "8fdc9fd9",
   "metadata": {},
   "outputs": [
    {
     "data": {
      "text/plain": [
       "OrderedDict([('a', 100), ('c', 300), ('b', 200)])"
      ]
     },
     "execution_count": 51,
     "metadata": {},
     "output_type": "execute_result"
    }
   ],
   "source": [
    "d2"
   ]
  },
  {
   "cell_type": "code",
   "execution_count": 52,
   "id": "c5a764d5",
   "metadata": {},
   "outputs": [
    {
     "data": {
      "text/plain": [
       "False"
      ]
     },
     "execution_count": 52,
     "metadata": {},
     "output_type": "execute_result"
    }
   ],
   "source": [
    "d1 == d2"
   ]
  },
  {
   "cell_type": "code",
   "execution_count": 53,
   "id": "ab595e10",
   "metadata": {},
   "outputs": [],
   "source": [
    "from collections import defaultdict"
   ]
  },
  {
   "cell_type": "code",
   "execution_count": 54,
   "id": "a8be0233",
   "metadata": {},
   "outputs": [
    {
     "ename": "TypeError",
     "evalue": "first argument must be callable or None",
     "output_type": "error",
     "traceback": [
      "\u001b[0;31m---------------------------------------------------------------------------\u001b[0m",
      "\u001b[0;31mTypeError\u001b[0m                                 Traceback (most recent call last)",
      "\u001b[0;32m/var/folders/rr/0mnyyv811fs5vyp22gf4fxk00000gn/T/ipykernel_200/1654680976.py\u001b[0m in \u001b[0;36m<module>\u001b[0;34m\u001b[0m\n\u001b[0;32m----> 1\u001b[0;31m \u001b[0md\u001b[0m \u001b[0;34m=\u001b[0m \u001b[0mdefaultdict\u001b[0m\u001b[0;34m(\u001b[0m\u001b[0;36m0\u001b[0m\u001b[0;34m)\u001b[0m\u001b[0;34m\u001b[0m\u001b[0;34m\u001b[0m\u001b[0m\n\u001b[0m",
      "\u001b[0;31mTypeError\u001b[0m: first argument must be callable or None"
     ]
    }
   ],
   "source": [
    "d = defaultdict(0)"
   ]
  },
  {
   "cell_type": "code",
   "execution_count": 55,
   "id": "9211bdec",
   "metadata": {},
   "outputs": [],
   "source": [
    "d = defaultdict(int)"
   ]
  },
  {
   "cell_type": "code",
   "execution_count": 56,
   "id": "1517393e",
   "metadata": {},
   "outputs": [
    {
     "data": {
      "text/plain": [
       "0"
      ]
     },
     "execution_count": 56,
     "metadata": {},
     "output_type": "execute_result"
    }
   ],
   "source": [
    "int()"
   ]
  },
  {
   "cell_type": "code",
   "execution_count": 57,
   "id": "14166180",
   "metadata": {},
   "outputs": [
    {
     "data": {
      "text/plain": [
       "0"
      ]
     },
     "execution_count": 57,
     "metadata": {},
     "output_type": "execute_result"
    }
   ],
   "source": [
    "d['a']"
   ]
  },
  {
   "cell_type": "code",
   "execution_count": 58,
   "id": "be522228",
   "metadata": {},
   "outputs": [
    {
     "data": {
      "text/plain": [
       "defaultdict(int, {'a': 0})"
      ]
     },
     "execution_count": 58,
     "metadata": {},
     "output_type": "execute_result"
    }
   ],
   "source": [
    "d"
   ]
  },
  {
   "cell_type": "code",
   "execution_count": 59,
   "id": "2f03395e",
   "metadata": {},
   "outputs": [
    {
     "data": {
      "text/plain": [
       "0"
      ]
     },
     "execution_count": 59,
     "metadata": {},
     "output_type": "execute_result"
    }
   ],
   "source": [
    "d['b']"
   ]
  },
  {
   "cell_type": "code",
   "execution_count": 60,
   "id": "53dedb90",
   "metadata": {},
   "outputs": [
    {
     "data": {
      "text/plain": [
       "0"
      ]
     },
     "execution_count": 60,
     "metadata": {},
     "output_type": "execute_result"
    }
   ],
   "source": [
    "d['c']"
   ]
  },
  {
   "cell_type": "code",
   "execution_count": 61,
   "id": "62f37fd4",
   "metadata": {},
   "outputs": [
    {
     "data": {
      "text/plain": [
       "defaultdict(int, {'a': 0, 'b': 0, 'c': 0})"
      ]
     },
     "execution_count": 61,
     "metadata": {},
     "output_type": "execute_result"
    }
   ],
   "source": [
    "d"
   ]
  },
  {
   "cell_type": "code",
   "execution_count": 62,
   "id": "71096cf7",
   "metadata": {},
   "outputs": [],
   "source": [
    "d = defaultdict(int)\n",
    "\n",
    "d['a'] += 10\n",
    "d['b'] += 20\n",
    "d['c'] += 100\n",
    "d['b'] += 15"
   ]
  },
  {
   "cell_type": "code",
   "execution_count": 63,
   "id": "59a5fc80",
   "metadata": {},
   "outputs": [
    {
     "data": {
      "text/plain": [
       "defaultdict(int, {'a': 10, 'b': 35, 'c': 100})"
      ]
     },
     "execution_count": 63,
     "metadata": {},
     "output_type": "execute_result"
    }
   ],
   "source": [
    "d"
   ]
  },
  {
   "cell_type": "code",
   "execution_count": 64,
   "id": "99965fb7",
   "metadata": {},
   "outputs": [
    {
     "ename": "NameError",
     "evalue": "name 'a' is not defined",
     "output_type": "error",
     "traceback": [
      "\u001b[0;31m---------------------------------------------------------------------------\u001b[0m",
      "\u001b[0;31mNameError\u001b[0m                                 Traceback (most recent call last)",
      "\u001b[0;32m/var/folders/rr/0mnyyv811fs5vyp22gf4fxk00000gn/T/ipykernel_200/492326894.py\u001b[0m in \u001b[0;36m<module>\u001b[0;34m\u001b[0m\n\u001b[1;32m      1\u001b[0m \u001b[0md\u001b[0m \u001b[0;34m=\u001b[0m \u001b[0;34m{\u001b[0m\u001b[0;34m}\u001b[0m\u001b[0;34m\u001b[0m\u001b[0;34m\u001b[0m\u001b[0m\n\u001b[0;32m----> 2\u001b[0;31m \u001b[0ma\u001b[0m\u001b[0;34m[\u001b[0m\u001b[0;34m'a'\u001b[0m\u001b[0;34m]\u001b[0m \u001b[0;34m+=\u001b[0m \u001b[0;36m10\u001b[0m\u001b[0;34m\u001b[0m\u001b[0;34m\u001b[0m\u001b[0m\n\u001b[0m",
      "\u001b[0;31mNameError\u001b[0m: name 'a' is not defined"
     ]
    }
   ],
   "source": [
    "d = {}\n",
    "a['a'] += 10"
   ]
  },
  {
   "cell_type": "code",
   "execution_count": 66,
   "id": "1d935a00",
   "metadata": {},
   "outputs": [],
   "source": [
    "d = defaultdict(int)\n",
    "\n",
    "d['a'] += 10    # d['a'] = d['a'] + 10\n"
   ]
  },
  {
   "cell_type": "code",
   "execution_count": 67,
   "id": "593c3de7",
   "metadata": {},
   "outputs": [
    {
     "data": {
      "text/plain": [
       "defaultdict(int, {'a': 10})"
      ]
     },
     "execution_count": 67,
     "metadata": {},
     "output_type": "execute_result"
    }
   ],
   "source": [
    "d"
   ]
  },
  {
   "cell_type": "code",
   "execution_count": 68,
   "id": "18e20774",
   "metadata": {},
   "outputs": [
    {
     "data": {
      "text/plain": [
       "0"
      ]
     },
     "execution_count": 68,
     "metadata": {},
     "output_type": "execute_result"
    }
   ],
   "source": [
    "int()"
   ]
  },
  {
   "cell_type": "code",
   "execution_count": 69,
   "id": "14ea45b3",
   "metadata": {},
   "outputs": [
    {
     "data": {
      "text/plain": [
       "[]"
      ]
     },
     "execution_count": 69,
     "metadata": {},
     "output_type": "execute_result"
    }
   ],
   "source": [
    "list()\n"
   ]
  },
  {
   "cell_type": "code",
   "execution_count": 70,
   "id": "dd2978c6",
   "metadata": {},
   "outputs": [
    {
     "data": {
      "text/plain": [
       "{}"
      ]
     },
     "execution_count": 70,
     "metadata": {},
     "output_type": "execute_result"
    }
   ],
   "source": [
    "dict()"
   ]
  },
  {
   "cell_type": "code",
   "execution_count": 76,
   "id": "07fb4437",
   "metadata": {},
   "outputs": [],
   "source": [
    "def return_5():\n",
    "    print('Now running return_5')\n",
    "    return 5\n",
    "\n",
    "d = defaultdict(return_5)"
   ]
  },
  {
   "cell_type": "code",
   "execution_count": 77,
   "id": "f6baa957",
   "metadata": {},
   "outputs": [
    {
     "name": "stdout",
     "output_type": "stream",
     "text": [
      "Now running return_5\n"
     ]
    },
    {
     "data": {
      "text/plain": [
       "5"
      ]
     },
     "execution_count": 77,
     "metadata": {},
     "output_type": "execute_result"
    }
   ],
   "source": [
    "d['a']"
   ]
  },
  {
   "cell_type": "code",
   "execution_count": 78,
   "id": "75143876",
   "metadata": {},
   "outputs": [
    {
     "name": "stdout",
     "output_type": "stream",
     "text": [
      "Now running return_5\n"
     ]
    },
    {
     "data": {
      "text/plain": [
       "5"
      ]
     },
     "execution_count": 78,
     "metadata": {},
     "output_type": "execute_result"
    }
   ],
   "source": [
    "d['b']"
   ]
  },
  {
   "cell_type": "code",
   "execution_count": 79,
   "id": "b097f3cf",
   "metadata": {},
   "outputs": [
    {
     "name": "stdout",
     "output_type": "stream",
     "text": [
      "Now running return_5\n"
     ]
    }
   ],
   "source": [
    "d['c'] += 10"
   ]
  },
  {
   "cell_type": "code",
   "execution_count": 80,
   "id": "ca2488dc",
   "metadata": {},
   "outputs": [
    {
     "data": {
      "text/plain": [
       "defaultdict(<function __main__.return_5()>, {'a': 5, 'b': 5, 'c': 15})"
      ]
     },
     "execution_count": 80,
     "metadata": {},
     "output_type": "execute_result"
    }
   ],
   "source": [
    "d"
   ]
  },
  {
   "cell_type": "code",
   "execution_count": 81,
   "id": "5268ced4",
   "metadata": {},
   "outputs": [
    {
     "data": {
      "text/plain": [
       "{'__name__': '__main__',\n",
       " '__doc__': 'Automatically created module for IPython interactive environment',\n",
       " '__package__': None,\n",
       " '__loader__': None,\n",
       " '__spec__': None,\n",
       " '__builtin__': <module 'builtins' (built-in)>,\n",
       " '__builtins__': <module 'builtins' (built-in)>,\n",
       " '_ih': ['',\n",
       "  \"d1 = {'a':1, 'b':2, 'c':3}\\nd2 = {'b':3, 'c':4, 'd':5}\\n\\nfor one_item in d1 | d2:  \\n    print(one_item)\",\n",
       "  'for one_item in (d1 | d2).items():  \\n    print(one_item)',\n",
       "  'for one_item in (d2 | d1).items():  \\n    print(one_item)',\n",
       "  \"d = {'c':100, 'b':200, 'd':300, 'a':400, 'e':500}\",\n",
       "  'd.keys()',\n",
       "  \"d['g'] = 600\\nd['f'] = 700\\n\\nd.keys()\",\n",
       "  'd.keys()',\n",
       "  'set(d.keys())',\n",
       "  'list(set(d.keys()))',\n",
       "  'd1 | d2',\n",
       "  'd1.keys() | d2.keys()',\n",
       "  'list(d1.keys() | d2.keys())',\n",
       "  'd1 | d2',\n",
       "  'd1.keys()',\n",
       "  'd1.keys() | d2.keys()',\n",
       "  'list(d1.keys() | d2.keys())',\n",
       "  \"d1 = {'a':1, 'b':2, 'c':3}\\nd2 = {'b':3, 'c':4, 'd':5}\\n\\nlist(d1.keys() | d2.keys())\",\n",
       "  'd1.keys() | d2.keys()',\n",
       "  'for one_item in (d1.keys() | d2.keys()):\\n    print(one_item)',\n",
       "  'list(d1.keys()|d2.keys())',\n",
       "  \"d1 = {'a':1, 'b':2, 'c':3}\\nd2 = {'b':3, 'c':4, 'd':5}\",\n",
       "  'd1',\n",
       "  \"d1['b'] = 100\\nd\",\n",
       "  \"d1['b'] = 100\\nd1\",\n",
       "  \"d1 = {'a':1, 'b':2, 'c':3}\\nd2 = {'b':3, 'c':4, 'd':5}\\n\\nd1 | d2    \",\n",
       "  '# rewrite of the above\\n\\ndef my_dict_union(d1, d2):\\n    output = d1.copy()\\n    \\n    ',\n",
       "  'my_dict_union(d1, d2)',\n",
       "  '# rewrite of the above\\n\\ndef my_dict_union(d1, d2):\\n    output = d1.copy()\\n    \\n    for key, value in d2.items():\\n        output[key] = value\\n        \\n    return output\\n        ',\n",
       "  'my_dict_union(d1, d2)',\n",
       "  'type(d1.keys())',\n",
       "  'type(d1.keys()|d2.keys())',\n",
       "  'd1.values() | d2.values()',\n",
       "  'dir(d1.keys())',\n",
       "  'd1.keys().__ror__(d2.keys())',\n",
       "  'd = {}',\n",
       "  \"d['a'] = 100\",\n",
       "  \"hash('a') % 8\",\n",
       "  \"d['b'] = 200\\nd['c'] = 300\",\n",
       "  \"hash('b') % 8\",\n",
       "  \"hash('c') % 8\",\n",
       "  \"'c' in d\",\n",
       "  'from collections import OrderedDict',\n",
       "  \"d = OrderedDict()\\nd['a'] = 100\\nd['b'] = 200\\nd['c'] = 300\",\n",
       "  'd',\n",
       "  \"d1 = {'a':100, 'b':200, 'c':300}\\nd2 = {'a':100, 'c':300, 'b':200}\",\n",
       "  'd1',\n",
       "  'd2',\n",
       "  'd1 == d2',\n",
       "  'd1 = OrderedDict(a=100, b=200, c=300)\\nd2 = OrderedDict(a=100, c=300, b=200)',\n",
       "  'd1',\n",
       "  'd2',\n",
       "  'd1 == d2',\n",
       "  'from collections import defaultdict',\n",
       "  'd = defaultdict(0)',\n",
       "  'd = defaultdict(int)',\n",
       "  'int()',\n",
       "  \"d['a']\",\n",
       "  'd',\n",
       "  \"d['b']\",\n",
       "  \"d['c']\",\n",
       "  'd',\n",
       "  \"d = defaultdict(int)\\n\\nd['a'] += 10\\nd['b'] += 20\\nd['c'] += 100\\nd['b'] += 15\",\n",
       "  'd',\n",
       "  \"d = {}\\na['a'] += 10\",\n",
       "  \"d = defaultdict(int)\\n\\nd['a'] += 10\",\n",
       "  \"d = defaultdict(int)\\n\\nd['a'] += 10    # d['a'] = d['a'] + 10\",\n",
       "  'd',\n",
       "  'int()',\n",
       "  'list()',\n",
       "  'dict()',\n",
       "  'def return_5():\\n    return 5\\n\\nd = defaultdict(return_5)',\n",
       "  \"d['a']\",\n",
       "  \"d['b']\",\n",
       "  \"d['c'] += 10\",\n",
       "  'd',\n",
       "  \"def return_5():\\n    print('Now running return_5')\\n    return 5\\n\\nd = defaultdict(return_5)\",\n",
       "  \"d['a']\",\n",
       "  \"d['b']\",\n",
       "  \"d['c'] += 10\",\n",
       "  'd',\n",
       "  'globals()'],\n",
       " '_oh': {5: dict_keys(['c', 'b', 'd', 'a', 'e', 'g', 'f']),\n",
       "  6: dict_keys(['c', 'b', 'd', 'a', 'e', 'g', 'f']),\n",
       "  7: dict_keys(['c', 'b', 'd', 'a', 'e', 'g', 'f']),\n",
       "  8: {'a', 'b', 'c', 'd', 'e', 'f', 'g'},\n",
       "  9: ['f', 'b', 'g', 'd', 'e', 'a', 'c'],\n",
       "  10: {'a': 1, 'b': 3, 'c': 4, 'd': 5},\n",
       "  11: {'a', 'b', 'c', 'd'},\n",
       "  12: ['a', 'c', 'd', 'b'],\n",
       "  13: {'a': 1, 'b': 3, 'c': 4, 'd': 5},\n",
       "  14: dict_keys(['a', 'b', 'c']),\n",
       "  15: {'a', 'b', 'c', 'd'},\n",
       "  16: ['a', 'c', 'd', 'b'],\n",
       "  17: ['a', 'c', 'd', 'b'],\n",
       "  18: {'a', 'b', 'c', 'd'},\n",
       "  20: ['a', 'c', 'd', 'b'],\n",
       "  22: {'a': 1, 'b': 100, 'c': 3},\n",
       "  23: {'c': 100, 'b': 200, 'd': 300, 'a': 400, 'e': 500, 'g': 600, 'f': 700},\n",
       "  24: {'a': 1, 'b': 100, 'c': 3},\n",
       "  25: {'a': 1, 'b': 3, 'c': 4, 'd': 5},\n",
       "  29: {'a': 1, 'b': 3, 'c': 4, 'd': 5},\n",
       "  30: dict_keys,\n",
       "  31: set,\n",
       "  33: ['__and__',\n",
       "   '__class__',\n",
       "   '__contains__',\n",
       "   '__delattr__',\n",
       "   '__dir__',\n",
       "   '__doc__',\n",
       "   '__eq__',\n",
       "   '__format__',\n",
       "   '__ge__',\n",
       "   '__getattribute__',\n",
       "   '__gt__',\n",
       "   '__hash__',\n",
       "   '__init__',\n",
       "   '__init_subclass__',\n",
       "   '__iter__',\n",
       "   '__le__',\n",
       "   '__len__',\n",
       "   '__lt__',\n",
       "   '__ne__',\n",
       "   '__new__',\n",
       "   '__or__',\n",
       "   '__rand__',\n",
       "   '__reduce__',\n",
       "   '__reduce_ex__',\n",
       "   '__repr__',\n",
       "   '__reversed__',\n",
       "   '__ror__',\n",
       "   '__rsub__',\n",
       "   '__rxor__',\n",
       "   '__setattr__',\n",
       "   '__sizeof__',\n",
       "   '__str__',\n",
       "   '__sub__',\n",
       "   '__subclasshook__',\n",
       "   '__xor__',\n",
       "   'isdisjoint',\n",
       "   'mapping'],\n",
       "  34: {'a', 'b', 'c', 'd'},\n",
       "  37: 2,\n",
       "  39: 5,\n",
       "  40: 5,\n",
       "  41: True,\n",
       "  44: OrderedDict([('a', 100), ('b', 200), ('c', 300)]),\n",
       "  46: {'a': 100, 'b': 200, 'c': 300},\n",
       "  47: {'a': 100, 'c': 300, 'b': 200},\n",
       "  48: True,\n",
       "  50: OrderedDict([('a', 100), ('b', 200), ('c', 300)]),\n",
       "  51: OrderedDict([('a', 100), ('c', 300), ('b', 200)]),\n",
       "  52: False,\n",
       "  56: 0,\n",
       "  57: 0,\n",
       "  58: defaultdict(int, {'a': 0, 'b': 0, 'c': 0}),\n",
       "  59: 0,\n",
       "  60: 0,\n",
       "  61: defaultdict(int, {'a': 0, 'b': 0, 'c': 0}),\n",
       "  63: defaultdict(int, {'a': 10, 'b': 35, 'c': 100}),\n",
       "  67: defaultdict(int, {'a': 10}),\n",
       "  68: 0,\n",
       "  69: [],\n",
       "  70: {},\n",
       "  72: 5,\n",
       "  73: 5,\n",
       "  75: defaultdict(<function __main__.return_5()>, {'a': 5, 'b': 5, 'c': 15}),\n",
       "  77: 5,\n",
       "  78: 5,\n",
       "  80: defaultdict(<function __main__.return_5()>, {'a': 5, 'b': 5, 'c': 15})},\n",
       " '_dh': ['/Users/reuven/Courses/Current/WDC-2022-q3-advanced-python'],\n",
       " 'In': ['',\n",
       "  \"d1 = {'a':1, 'b':2, 'c':3}\\nd2 = {'b':3, 'c':4, 'd':5}\\n\\nfor one_item in d1 | d2:  \\n    print(one_item)\",\n",
       "  'for one_item in (d1 | d2).items():  \\n    print(one_item)',\n",
       "  'for one_item in (d2 | d1).items():  \\n    print(one_item)',\n",
       "  \"d = {'c':100, 'b':200, 'd':300, 'a':400, 'e':500}\",\n",
       "  'd.keys()',\n",
       "  \"d['g'] = 600\\nd['f'] = 700\\n\\nd.keys()\",\n",
       "  'd.keys()',\n",
       "  'set(d.keys())',\n",
       "  'list(set(d.keys()))',\n",
       "  'd1 | d2',\n",
       "  'd1.keys() | d2.keys()',\n",
       "  'list(d1.keys() | d2.keys())',\n",
       "  'd1 | d2',\n",
       "  'd1.keys()',\n",
       "  'd1.keys() | d2.keys()',\n",
       "  'list(d1.keys() | d2.keys())',\n",
       "  \"d1 = {'a':1, 'b':2, 'c':3}\\nd2 = {'b':3, 'c':4, 'd':5}\\n\\nlist(d1.keys() | d2.keys())\",\n",
       "  'd1.keys() | d2.keys()',\n",
       "  'for one_item in (d1.keys() | d2.keys()):\\n    print(one_item)',\n",
       "  'list(d1.keys()|d2.keys())',\n",
       "  \"d1 = {'a':1, 'b':2, 'c':3}\\nd2 = {'b':3, 'c':4, 'd':5}\",\n",
       "  'd1',\n",
       "  \"d1['b'] = 100\\nd\",\n",
       "  \"d1['b'] = 100\\nd1\",\n",
       "  \"d1 = {'a':1, 'b':2, 'c':3}\\nd2 = {'b':3, 'c':4, 'd':5}\\n\\nd1 | d2    \",\n",
       "  '# rewrite of the above\\n\\ndef my_dict_union(d1, d2):\\n    output = d1.copy()\\n    \\n    ',\n",
       "  'my_dict_union(d1, d2)',\n",
       "  '# rewrite of the above\\n\\ndef my_dict_union(d1, d2):\\n    output = d1.copy()\\n    \\n    for key, value in d2.items():\\n        output[key] = value\\n        \\n    return output\\n        ',\n",
       "  'my_dict_union(d1, d2)',\n",
       "  'type(d1.keys())',\n",
       "  'type(d1.keys()|d2.keys())',\n",
       "  'd1.values() | d2.values()',\n",
       "  'dir(d1.keys())',\n",
       "  'd1.keys().__ror__(d2.keys())',\n",
       "  'd = {}',\n",
       "  \"d['a'] = 100\",\n",
       "  \"hash('a') % 8\",\n",
       "  \"d['b'] = 200\\nd['c'] = 300\",\n",
       "  \"hash('b') % 8\",\n",
       "  \"hash('c') % 8\",\n",
       "  \"'c' in d\",\n",
       "  'from collections import OrderedDict',\n",
       "  \"d = OrderedDict()\\nd['a'] = 100\\nd['b'] = 200\\nd['c'] = 300\",\n",
       "  'd',\n",
       "  \"d1 = {'a':100, 'b':200, 'c':300}\\nd2 = {'a':100, 'c':300, 'b':200}\",\n",
       "  'd1',\n",
       "  'd2',\n",
       "  'd1 == d2',\n",
       "  'd1 = OrderedDict(a=100, b=200, c=300)\\nd2 = OrderedDict(a=100, c=300, b=200)',\n",
       "  'd1',\n",
       "  'd2',\n",
       "  'd1 == d2',\n",
       "  'from collections import defaultdict',\n",
       "  'd = defaultdict(0)',\n",
       "  'd = defaultdict(int)',\n",
       "  'int()',\n",
       "  \"d['a']\",\n",
       "  'd',\n",
       "  \"d['b']\",\n",
       "  \"d['c']\",\n",
       "  'd',\n",
       "  \"d = defaultdict(int)\\n\\nd['a'] += 10\\nd['b'] += 20\\nd['c'] += 100\\nd['b'] += 15\",\n",
       "  'd',\n",
       "  \"d = {}\\na['a'] += 10\",\n",
       "  \"d = defaultdict(int)\\n\\nd['a'] += 10\",\n",
       "  \"d = defaultdict(int)\\n\\nd['a'] += 10    # d['a'] = d['a'] + 10\",\n",
       "  'd',\n",
       "  'int()',\n",
       "  'list()',\n",
       "  'dict()',\n",
       "  'def return_5():\\n    return 5\\n\\nd = defaultdict(return_5)',\n",
       "  \"d['a']\",\n",
       "  \"d['b']\",\n",
       "  \"d['c'] += 10\",\n",
       "  'd',\n",
       "  \"def return_5():\\n    print('Now running return_5')\\n    return 5\\n\\nd = defaultdict(return_5)\",\n",
       "  \"d['a']\",\n",
       "  \"d['b']\",\n",
       "  \"d['c'] += 10\",\n",
       "  'd',\n",
       "  'globals()'],\n",
       " 'Out': {5: dict_keys(['c', 'b', 'd', 'a', 'e', 'g', 'f']),\n",
       "  6: dict_keys(['c', 'b', 'd', 'a', 'e', 'g', 'f']),\n",
       "  7: dict_keys(['c', 'b', 'd', 'a', 'e', 'g', 'f']),\n",
       "  8: {'a', 'b', 'c', 'd', 'e', 'f', 'g'},\n",
       "  9: ['f', 'b', 'g', 'd', 'e', 'a', 'c'],\n",
       "  10: {'a': 1, 'b': 3, 'c': 4, 'd': 5},\n",
       "  11: {'a', 'b', 'c', 'd'},\n",
       "  12: ['a', 'c', 'd', 'b'],\n",
       "  13: {'a': 1, 'b': 3, 'c': 4, 'd': 5},\n",
       "  14: dict_keys(['a', 'b', 'c']),\n",
       "  15: {'a', 'b', 'c', 'd'},\n",
       "  16: ['a', 'c', 'd', 'b'],\n",
       "  17: ['a', 'c', 'd', 'b'],\n",
       "  18: {'a', 'b', 'c', 'd'},\n",
       "  20: ['a', 'c', 'd', 'b'],\n",
       "  22: {'a': 1, 'b': 100, 'c': 3},\n",
       "  23: {'c': 100, 'b': 200, 'd': 300, 'a': 400, 'e': 500, 'g': 600, 'f': 700},\n",
       "  24: {'a': 1, 'b': 100, 'c': 3},\n",
       "  25: {'a': 1, 'b': 3, 'c': 4, 'd': 5},\n",
       "  29: {'a': 1, 'b': 3, 'c': 4, 'd': 5},\n",
       "  30: dict_keys,\n",
       "  31: set,\n",
       "  33: ['__and__',\n",
       "   '__class__',\n",
       "   '__contains__',\n",
       "   '__delattr__',\n",
       "   '__dir__',\n",
       "   '__doc__',\n",
       "   '__eq__',\n",
       "   '__format__',\n",
       "   '__ge__',\n",
       "   '__getattribute__',\n",
       "   '__gt__',\n",
       "   '__hash__',\n",
       "   '__init__',\n",
       "   '__init_subclass__',\n",
       "   '__iter__',\n",
       "   '__le__',\n",
       "   '__len__',\n",
       "   '__lt__',\n",
       "   '__ne__',\n",
       "   '__new__',\n",
       "   '__or__',\n",
       "   '__rand__',\n",
       "   '__reduce__',\n",
       "   '__reduce_ex__',\n",
       "   '__repr__',\n",
       "   '__reversed__',\n",
       "   '__ror__',\n",
       "   '__rsub__',\n",
       "   '__rxor__',\n",
       "   '__setattr__',\n",
       "   '__sizeof__',\n",
       "   '__str__',\n",
       "   '__sub__',\n",
       "   '__subclasshook__',\n",
       "   '__xor__',\n",
       "   'isdisjoint',\n",
       "   'mapping'],\n",
       "  34: {'a', 'b', 'c', 'd'},\n",
       "  37: 2,\n",
       "  39: 5,\n",
       "  40: 5,\n",
       "  41: True,\n",
       "  44: OrderedDict([('a', 100), ('b', 200), ('c', 300)]),\n",
       "  46: {'a': 100, 'b': 200, 'c': 300},\n",
       "  47: {'a': 100, 'c': 300, 'b': 200},\n",
       "  48: True,\n",
       "  50: OrderedDict([('a', 100), ('b', 200), ('c', 300)]),\n",
       "  51: OrderedDict([('a', 100), ('c', 300), ('b', 200)]),\n",
       "  52: False,\n",
       "  56: 0,\n",
       "  57: 0,\n",
       "  58: defaultdict(int, {'a': 0, 'b': 0, 'c': 0}),\n",
       "  59: 0,\n",
       "  60: 0,\n",
       "  61: defaultdict(int, {'a': 0, 'b': 0, 'c': 0}),\n",
       "  63: defaultdict(int, {'a': 10, 'b': 35, 'c': 100}),\n",
       "  67: defaultdict(int, {'a': 10}),\n",
       "  68: 0,\n",
       "  69: [],\n",
       "  70: {},\n",
       "  72: 5,\n",
       "  73: 5,\n",
       "  75: defaultdict(<function __main__.return_5()>, {'a': 5, 'b': 5, 'c': 15}),\n",
       "  77: 5,\n",
       "  78: 5,\n",
       "  80: defaultdict(<function __main__.return_5()>, {'a': 5, 'b': 5, 'c': 15})},\n",
       " 'get_ipython': <bound method InteractiveShell.get_ipython of <ipykernel.zmqshell.ZMQInteractiveShell object at 0x1080affa0>>,\n",
       " 'exit': <IPython.core.autocall.ZMQExitAutocall at 0x108104a90>,\n",
       " 'quit': <IPython.core.autocall.ZMQExitAutocall at 0x108104a90>,\n",
       " '_': defaultdict(<function __main__.return_5()>, {'a': 5, 'b': 5, 'c': 15}),\n",
       " '__': 5,\n",
       " '___': 5,\n",
       " '_i': 'd',\n",
       " '_ii': \"d['c'] += 10\",\n",
       " '_iii': \"d['b']\",\n",
       " '_i1': \"d1 = {'a':1, 'b':2, 'c':3}\\nd2 = {'b':3, 'c':4, 'd':5}\\n\\nfor one_item in d1 | d2:  \\n    print(one_item)\",\n",
       " 'd1': OrderedDict([('a', 100), ('b', 200), ('c', 300)]),\n",
       " 'd2': OrderedDict([('a', 100), ('c', 300), ('b', 200)]),\n",
       " 'one_item': 'b',\n",
       " '_i2': 'for one_item in (d1 | d2).items():  \\n    print(one_item)',\n",
       " '_i3': 'for one_item in (d2 | d1).items():  \\n    print(one_item)',\n",
       " '_i4': \"d = {'c':100, 'b':200, 'd':300, 'a':400, 'e':500}\",\n",
       " 'd': defaultdict(<function __main__.return_5()>, {'a': 5, 'b': 5, 'c': 15}),\n",
       " '_i5': 'd.keys()',\n",
       " '_5': dict_keys(['c', 'b', 'd', 'a', 'e', 'g', 'f']),\n",
       " '_i6': \"d['g'] = 600\\nd['f'] = 700\\n\\nd.keys()\",\n",
       " '_6': dict_keys(['c', 'b', 'd', 'a', 'e', 'g', 'f']),\n",
       " '_i7': 'd.keys()',\n",
       " '_7': dict_keys(['c', 'b', 'd', 'a', 'e', 'g', 'f']),\n",
       " '_i8': 'set(d.keys())',\n",
       " '_8': {'a', 'b', 'c', 'd', 'e', 'f', 'g'},\n",
       " '_i9': 'list(set(d.keys()))',\n",
       " '_9': ['f', 'b', 'g', 'd', 'e', 'a', 'c'],\n",
       " '_i10': 'd1 | d2',\n",
       " '_10': {'a': 1, 'b': 3, 'c': 4, 'd': 5},\n",
       " '_i11': 'd1.keys() | d2.keys()',\n",
       " '_11': {'a', 'b', 'c', 'd'},\n",
       " '_i12': 'list(d1.keys() | d2.keys())',\n",
       " '_12': ['a', 'c', 'd', 'b'],\n",
       " '_i13': 'd1 | d2',\n",
       " '_13': {'a': 1, 'b': 3, 'c': 4, 'd': 5},\n",
       " '_i14': 'd1.keys()',\n",
       " '_14': dict_keys(['a', 'b', 'c']),\n",
       " '_i15': 'd1.keys() | d2.keys()',\n",
       " '_15': {'a', 'b', 'c', 'd'},\n",
       " '_i16': 'list(d1.keys() | d2.keys())',\n",
       " '_16': ['a', 'c', 'd', 'b'],\n",
       " '_i17': \"d1 = {'a':1, 'b':2, 'c':3}\\nd2 = {'b':3, 'c':4, 'd':5}\\n\\nlist(d1.keys() | d2.keys())\",\n",
       " '_17': ['a', 'c', 'd', 'b'],\n",
       " '_i18': 'd1.keys() | d2.keys()',\n",
       " '_18': {'a', 'b', 'c', 'd'},\n",
       " '_i19': 'for one_item in (d1.keys() | d2.keys()):\\n    print(one_item)',\n",
       " '_i20': 'list(d1.keys()|d2.keys())',\n",
       " '_20': ['a', 'c', 'd', 'b'],\n",
       " '_i21': \"d1 = {'a':1, 'b':2, 'c':3}\\nd2 = {'b':3, 'c':4, 'd':5}\",\n",
       " '_i22': 'd1',\n",
       " '_22': {'a': 1, 'b': 100, 'c': 3},\n",
       " '_i23': \"d1['b'] = 100\\nd\",\n",
       " '_23': {'c': 100, 'b': 200, 'd': 300, 'a': 400, 'e': 500, 'g': 600, 'f': 700},\n",
       " '_i24': \"d1['b'] = 100\\nd1\",\n",
       " '_24': {'a': 1, 'b': 100, 'c': 3},\n",
       " '_i25': \"d1 = {'a':1, 'b':2, 'c':3}\\nd2 = {'b':3, 'c':4, 'd':5}\\n\\nd1 | d2    \",\n",
       " '_25': {'a': 1, 'b': 3, 'c': 4, 'd': 5},\n",
       " '_i26': '# rewrite of the above\\n\\ndef my_dict_union(d1, d2):\\n    output = d1.copy()\\n    \\n    ',\n",
       " 'my_dict_union': <function __main__.my_dict_union(d1, d2)>,\n",
       " '_i27': 'my_dict_union(d1, d2)',\n",
       " '_i28': '# rewrite of the above\\n\\ndef my_dict_union(d1, d2):\\n    output = d1.copy()\\n    \\n    for key, value in d2.items():\\n        output[key] = value\\n        \\n    return output\\n        ',\n",
       " '_i29': 'my_dict_union(d1, d2)',\n",
       " '_29': {'a': 1, 'b': 3, 'c': 4, 'd': 5},\n",
       " '_i30': 'type(d1.keys())',\n",
       " '_30': dict_keys,\n",
       " '_i31': 'type(d1.keys()|d2.keys())',\n",
       " '_31': set,\n",
       " '_i32': 'd1.values() | d2.values()',\n",
       " '_i33': 'dir(d1.keys())',\n",
       " '_33': ['__and__',\n",
       "  '__class__',\n",
       "  '__contains__',\n",
       "  '__delattr__',\n",
       "  '__dir__',\n",
       "  '__doc__',\n",
       "  '__eq__',\n",
       "  '__format__',\n",
       "  '__ge__',\n",
       "  '__getattribute__',\n",
       "  '__gt__',\n",
       "  '__hash__',\n",
       "  '__init__',\n",
       "  '__init_subclass__',\n",
       "  '__iter__',\n",
       "  '__le__',\n",
       "  '__len__',\n",
       "  '__lt__',\n",
       "  '__ne__',\n",
       "  '__new__',\n",
       "  '__or__',\n",
       "  '__rand__',\n",
       "  '__reduce__',\n",
       "  '__reduce_ex__',\n",
       "  '__repr__',\n",
       "  '__reversed__',\n",
       "  '__ror__',\n",
       "  '__rsub__',\n",
       "  '__rxor__',\n",
       "  '__setattr__',\n",
       "  '__sizeof__',\n",
       "  '__str__',\n",
       "  '__sub__',\n",
       "  '__subclasshook__',\n",
       "  '__xor__',\n",
       "  'isdisjoint',\n",
       "  'mapping'],\n",
       " '_i34': 'd1.keys().__ror__(d2.keys())',\n",
       " '_34': {'a', 'b', 'c', 'd'},\n",
       " '_i35': 'd = {}',\n",
       " '_i36': \"d['a'] = 100\",\n",
       " '_i37': \"hash('a') % 8\",\n",
       " '_37': 2,\n",
       " '_i38': \"d['b'] = 200\\nd['c'] = 300\",\n",
       " '_i39': \"hash('b') % 8\",\n",
       " '_39': 5,\n",
       " '_i40': \"hash('c') % 8\",\n",
       " '_40': 5,\n",
       " '_i41': \"'c' in d\",\n",
       " '_41': True,\n",
       " '_i42': 'from collections import OrderedDict',\n",
       " 'OrderedDict': collections.OrderedDict,\n",
       " '_i43': \"d = OrderedDict()\\nd['a'] = 100\\nd['b'] = 200\\nd['c'] = 300\",\n",
       " '_i44': 'd',\n",
       " '_44': OrderedDict([('a', 100), ('b', 200), ('c', 300)]),\n",
       " '_i45': \"d1 = {'a':100, 'b':200, 'c':300}\\nd2 = {'a':100, 'c':300, 'b':200}\",\n",
       " '_i46': 'd1',\n",
       " '_46': {'a': 100, 'b': 200, 'c': 300},\n",
       " '_i47': 'd2',\n",
       " '_47': {'a': 100, 'c': 300, 'b': 200},\n",
       " '_i48': 'd1 == d2',\n",
       " '_48': True,\n",
       " '_i49': 'd1 = OrderedDict(a=100, b=200, c=300)\\nd2 = OrderedDict(a=100, c=300, b=200)',\n",
       " '_i50': 'd1',\n",
       " '_50': OrderedDict([('a', 100), ('b', 200), ('c', 300)]),\n",
       " '_i51': 'd2',\n",
       " '_51': OrderedDict([('a', 100), ('c', 300), ('b', 200)]),\n",
       " '_i52': 'd1 == d2',\n",
       " '_52': False,\n",
       " '_i53': 'from collections import defaultdict',\n",
       " 'defaultdict': collections.defaultdict,\n",
       " '_i54': 'd = defaultdict(0)',\n",
       " '_i55': 'd = defaultdict(int)',\n",
       " '_i56': 'int()',\n",
       " '_56': 0,\n",
       " '_i57': \"d['a']\",\n",
       " '_57': 0,\n",
       " '_i58': 'd',\n",
       " '_58': defaultdict(int, {'a': 0, 'b': 0, 'c': 0}),\n",
       " '_i59': \"d['b']\",\n",
       " '_59': 0,\n",
       " '_i60': \"d['c']\",\n",
       " '_60': 0,\n",
       " '_i61': 'd',\n",
       " '_61': defaultdict(int, {'a': 0, 'b': 0, 'c': 0}),\n",
       " '_i62': \"d = defaultdict(int)\\n\\nd['a'] += 10\\nd['b'] += 20\\nd['c'] += 100\\nd['b'] += 15\",\n",
       " '_i63': 'd',\n",
       " '_63': defaultdict(int, {'a': 10, 'b': 35, 'c': 100}),\n",
       " '_i64': \"d = {}\\na['a'] += 10\",\n",
       " '_i65': \"d = defaultdict(int)\\n\\nd['a'] += 10\",\n",
       " '_i66': \"d = defaultdict(int)\\n\\nd['a'] += 10    # d['a'] = d['a'] + 10\",\n",
       " '_i67': 'd',\n",
       " '_67': defaultdict(int, {'a': 10}),\n",
       " '_i68': 'int()',\n",
       " '_68': 0,\n",
       " '_i69': 'list()',\n",
       " '_69': [],\n",
       " '_i70': 'dict()',\n",
       " '_70': {},\n",
       " '_i71': 'def return_5():\\n    return 5\\n\\nd = defaultdict(return_5)',\n",
       " 'return_5': <function __main__.return_5()>,\n",
       " '_i72': \"d['a']\",\n",
       " '_72': 5,\n",
       " '_i73': \"d['b']\",\n",
       " '_73': 5,\n",
       " '_i74': \"d['c'] += 10\",\n",
       " '_i75': 'd',\n",
       " '_75': defaultdict(<function __main__.return_5()>, {'a': 5, 'b': 5, 'c': 15}),\n",
       " '_i76': \"def return_5():\\n    print('Now running return_5')\\n    return 5\\n\\nd = defaultdict(return_5)\",\n",
       " '_i77': \"d['a']\",\n",
       " '_77': 5,\n",
       " '_i78': \"d['b']\",\n",
       " '_78': 5,\n",
       " '_i79': \"d['c'] += 10\",\n",
       " '_i80': 'd',\n",
       " '_80': defaultdict(<function __main__.return_5()>, {'a': 5, 'b': 5, 'c': 15}),\n",
       " '_i81': 'globals()'}"
      ]
     },
     "execution_count": 81,
     "metadata": {},
     "output_type": "execute_result"
    }
   ],
   "source": [
    "globals()"
   ]
  },
  {
   "cell_type": "code",
   "execution_count": 82,
   "id": "f249ebd1",
   "metadata": {},
   "outputs": [],
   "source": [
    "x =100\n",
    "y = [10, 20, 30]"
   ]
  },
  {
   "cell_type": "code",
   "execution_count": 83,
   "id": "89d7f4be",
   "metadata": {},
   "outputs": [
    {
     "data": {
      "text/plain": [
       "100"
      ]
     },
     "execution_count": 83,
     "metadata": {},
     "output_type": "execute_result"
    }
   ],
   "source": [
    "globals()['x']"
   ]
  },
  {
   "cell_type": "code",
   "execution_count": 84,
   "id": "6cdbc44e",
   "metadata": {},
   "outputs": [
    {
     "data": {
      "text/plain": [
       "[10, 20, 30]"
      ]
     },
     "execution_count": 84,
     "metadata": {},
     "output_type": "execute_result"
    }
   ],
   "source": [
    "globals()['y']"
   ]
  },
  {
   "cell_type": "code",
   "execution_count": 85,
   "id": "b678ac62",
   "metadata": {},
   "outputs": [],
   "source": [
    "import random\n",
    "\n",
    "def random_type_back():\n",
    "    n = random.randint(0, 2)\n",
    "    \n",
    "    if n == 0:\n",
    "        return 100\n",
    "    elif n == 1:\n",
    "        return 'abcd'\n",
    "    elif n == 2:\n",
    "        return [10, 20, 30]"
   ]
  },
  {
   "cell_type": "code",
   "execution_count": 86,
   "id": "d4e16868",
   "metadata": {},
   "outputs": [],
   "source": [
    "d = defaultdict(random_type_back)"
   ]
  },
  {
   "cell_type": "code",
   "execution_count": 87,
   "id": "69814448",
   "metadata": {},
   "outputs": [
    {
     "data": {
      "text/plain": [
       "[10, 20, 30]"
      ]
     },
     "execution_count": 87,
     "metadata": {},
     "output_type": "execute_result"
    }
   ],
   "source": [
    "d['a']"
   ]
  },
  {
   "cell_type": "code",
   "execution_count": 88,
   "id": "6b964e0c",
   "metadata": {},
   "outputs": [
    {
     "data": {
      "text/plain": [
       "100"
      ]
     },
     "execution_count": 88,
     "metadata": {},
     "output_type": "execute_result"
    }
   ],
   "source": [
    "d['b']"
   ]
  },
  {
   "cell_type": "code",
   "execution_count": 89,
   "id": "e8295210",
   "metadata": {},
   "outputs": [
    {
     "data": {
      "text/plain": [
       "[10, 20, 30]"
      ]
     },
     "execution_count": 89,
     "metadata": {},
     "output_type": "execute_result"
    }
   ],
   "source": [
    "d['c']"
   ]
  },
  {
   "cell_type": "code",
   "execution_count": 90,
   "id": "28616418",
   "metadata": {},
   "outputs": [
    {
     "data": {
      "text/plain": [
       "[10, 20, 30]"
      ]
     },
     "execution_count": 90,
     "metadata": {},
     "output_type": "execute_result"
    }
   ],
   "source": [
    "d['d']"
   ]
  },
  {
   "cell_type": "code",
   "execution_count": 91,
   "id": "b8ff4f93",
   "metadata": {},
   "outputs": [
    {
     "data": {
      "text/plain": [
       "100"
      ]
     },
     "execution_count": 91,
     "metadata": {},
     "output_type": "execute_result"
    }
   ],
   "source": [
    "d['e']"
   ]
  },
  {
   "cell_type": "code",
   "execution_count": 92,
   "id": "ae902398",
   "metadata": {},
   "outputs": [
    {
     "data": {
      "text/plain": [
       "defaultdict(<function __main__.random_type_back()>,\n",
       "            {'a': [10, 20, 30],\n",
       "             'b': 100,\n",
       "             'c': [10, 20, 30],\n",
       "             'd': [10, 20, 30],\n",
       "             'e': 100})"
      ]
     },
     "execution_count": 92,
     "metadata": {},
     "output_type": "execute_result"
    }
   ],
   "source": [
    "d"
   ]
  },
  {
   "cell_type": "code",
   "execution_count": 93,
   "id": "a20227ea",
   "metadata": {},
   "outputs": [
    {
     "data": {
      "text/plain": [
       "100"
      ]
     },
     "execution_count": 93,
     "metadata": {},
     "output_type": "execute_result"
    }
   ],
   "source": [
    "d['f']"
   ]
  },
  {
   "cell_type": "code",
   "execution_count": 94,
   "id": "bedeb398",
   "metadata": {},
   "outputs": [
    {
     "data": {
      "text/plain": [
       "100"
      ]
     },
     "execution_count": 94,
     "metadata": {},
     "output_type": "execute_result"
    }
   ],
   "source": [
    "d['g']"
   ]
  },
  {
   "cell_type": "code",
   "execution_count": 95,
   "id": "9cd3a341",
   "metadata": {},
   "outputs": [
    {
     "data": {
      "text/plain": [
       "'abcd'"
      ]
     },
     "execution_count": 95,
     "metadata": {},
     "output_type": "execute_result"
    }
   ],
   "source": [
    "d['h']"
   ]
  },
  {
   "cell_type": "code",
   "execution_count": 96,
   "id": "8b5f85ef",
   "metadata": {},
   "outputs": [
    {
     "data": {
      "text/plain": [
       "defaultdict(<function __main__.random_type_back()>,\n",
       "            {'a': [10, 20, 30],\n",
       "             'b': 100,\n",
       "             'c': [10, 20, 30],\n",
       "             'd': [10, 20, 30],\n",
       "             'e': 100,\n",
       "             'f': 100,\n",
       "             'g': 100,\n",
       "             'h': 'abcd'})"
      ]
     },
     "execution_count": 96,
     "metadata": {},
     "output_type": "execute_result"
    }
   ],
   "source": [
    "d"
   ]
  },
  {
   "cell_type": "code",
   "execution_count": 97,
   "id": "be4e37a5",
   "metadata": {},
   "outputs": [
    {
     "data": {
      "text/plain": [
       "['__class__',\n",
       " '__class_getitem__',\n",
       " '__contains__',\n",
       " '__copy__',\n",
       " '__delattr__',\n",
       " '__delitem__',\n",
       " '__dir__',\n",
       " '__doc__',\n",
       " '__eq__',\n",
       " '__format__',\n",
       " '__ge__',\n",
       " '__getattribute__',\n",
       " '__getitem__',\n",
       " '__gt__',\n",
       " '__hash__',\n",
       " '__init__',\n",
       " '__init_subclass__',\n",
       " '__ior__',\n",
       " '__iter__',\n",
       " '__le__',\n",
       " '__len__',\n",
       " '__lt__',\n",
       " '__missing__',\n",
       " '__ne__',\n",
       " '__new__',\n",
       " '__or__',\n",
       " '__reduce__',\n",
       " '__reduce_ex__',\n",
       " '__repr__',\n",
       " '__reversed__',\n",
       " '__ror__',\n",
       " '__setattr__',\n",
       " '__setitem__',\n",
       " '__sizeof__',\n",
       " '__str__',\n",
       " '__subclasshook__',\n",
       " 'clear',\n",
       " 'copy',\n",
       " 'default_factory',\n",
       " 'fromkeys',\n",
       " 'get',\n",
       " 'items',\n",
       " 'keys',\n",
       " 'pop',\n",
       " 'popitem',\n",
       " 'setdefault',\n",
       " 'update',\n",
       " 'values']"
      ]
     },
     "execution_count": 97,
     "metadata": {},
     "output_type": "execute_result"
    }
   ],
   "source": [
    "dir(d)"
   ]
  },
  {
   "cell_type": "code",
   "execution_count": 100,
   "id": "e8041396",
   "metadata": {},
   "outputs": [
    {
     "data": {
      "text/plain": [
       "'abcd'"
      ]
     },
     "execution_count": 100,
     "metadata": {},
     "output_type": "execute_result"
    }
   ],
   "source": [
    "d.__missing__('a')"
   ]
  },
  {
   "cell_type": "code",
   "execution_count": 101,
   "id": "bcea6857",
   "metadata": {},
   "outputs": [],
   "source": [
    "d = defaultdict(dict)"
   ]
  },
  {
   "cell_type": "code",
   "execution_count": 102,
   "id": "92e6121b",
   "metadata": {},
   "outputs": [],
   "source": [
    "d['a']['b'] = 100\n",
    "d['a']['c'] = 200\n",
    "d['x']['y'] = 123\n",
    "d['x']['z'] = 456"
   ]
  },
  {
   "cell_type": "code",
   "execution_count": 103,
   "id": "b71209f3",
   "metadata": {},
   "outputs": [
    {
     "data": {
      "text/plain": [
       "defaultdict(dict, {'a': {'b': 100, 'c': 200}, 'x': {'y': 123, 'z': 456}})"
      ]
     },
     "execution_count": 103,
     "metadata": {},
     "output_type": "execute_result"
    }
   ],
   "source": [
    "d"
   ]
  },
  {
   "cell_type": "code",
   "execution_count": 104,
   "id": "2aaced83",
   "metadata": {},
   "outputs": [],
   "source": [
    "import time"
   ]
  },
  {
   "cell_type": "code",
   "execution_count": 105,
   "id": "9e3dc959",
   "metadata": {},
   "outputs": [
    {
     "data": {
      "text/plain": [
       "1657522683.9108832"
      ]
     },
     "execution_count": 105,
     "metadata": {},
     "output_type": "execute_result"
    }
   ],
   "source": [
    "time.time()"
   ]
  },
  {
   "cell_type": "code",
   "execution_count": 106,
   "id": "4ab51ed8",
   "metadata": {},
   "outputs": [],
   "source": [
    "d = defaultdict(time.time)"
   ]
  },
  {
   "cell_type": "code",
   "execution_count": 107,
   "id": "cb971c28",
   "metadata": {},
   "outputs": [
    {
     "data": {
      "text/plain": [
       "1657522701.5419688"
      ]
     },
     "execution_count": 107,
     "metadata": {},
     "output_type": "execute_result"
    }
   ],
   "source": [
    "d['a']"
   ]
  },
  {
   "cell_type": "code",
   "execution_count": 108,
   "id": "6f414250",
   "metadata": {},
   "outputs": [
    {
     "data": {
      "text/plain": [
       "1657522702.617017"
      ]
     },
     "execution_count": 108,
     "metadata": {},
     "output_type": "execute_result"
    }
   ],
   "source": [
    "d['b']"
   ]
  },
  {
   "cell_type": "code",
   "execution_count": 109,
   "id": "379c50dd",
   "metadata": {},
   "outputs": [
    {
     "data": {
      "text/plain": [
       "1657522703.423865"
      ]
     },
     "execution_count": 109,
     "metadata": {},
     "output_type": "execute_result"
    }
   ],
   "source": [
    "d['c']"
   ]
  },
  {
   "cell_type": "code",
   "execution_count": 111,
   "id": "940a5c89",
   "metadata": {},
   "outputs": [
    {
     "data": {
      "text/plain": [
       "1657522701.5419688"
      ]
     },
     "execution_count": 111,
     "metadata": {},
     "output_type": "execute_result"
    }
   ],
   "source": [
    "d['a']"
   ]
  },
  {
   "cell_type": "code",
   "execution_count": 112,
   "id": "e687e5ca",
   "metadata": {},
   "outputs": [
    {
     "data": {
      "text/plain": [
       "{}"
      ]
     },
     "execution_count": 112,
     "metadata": {},
     "output_type": "execute_result"
    }
   ],
   "source": [
    "dict()"
   ]
  },
  {
   "cell_type": "code",
   "execution_count": 114,
   "id": "09c56880",
   "metadata": {},
   "outputs": [],
   "source": [
    "d = defaultdict(dict)\n",
    "\n",
    "d['x']['y'] = 100      # 'x' in d --> d['x'] = dict() --> d['x']['y'] = 100"
   ]
  },
  {
   "cell_type": "markdown",
   "id": "84ed60a5",
   "metadata": {},
   "source": [
    "# Exercise: Travel\n",
    "\n",
    "1. Ask the user, repeatedly, to enter a string indicating the city + country where they traveled. The format should be \"city, country\".\n",
    "2. The dict that we create will have country names as keys, and lists of cities as values.\n",
    "3. When the user enters an empty string, print all countries, and all cities in each country.\n",
    "\n",
    "Example:\n",
    "\n",
    "    Destination: Beijing, China\n",
    "    Destination: Shanghai, China\n",
    "    Destination: Chicago, USA\n",
    "    Destination: Boston, USA\n",
    "    Destination: [ENTER]\n",
    "    \n",
    "    China:\n",
    "        Beijing\n",
    "        Shanghai\n",
    "    USA:\n",
    "        Chicago\n",
    "        Boston\n",
    "        \n",
    "        "
   ]
  },
  {
   "cell_type": "code",
   "execution_count": 117,
   "id": "741fc217",
   "metadata": {},
   "outputs": [
    {
     "name": "stdout",
     "output_type": "stream",
     "text": [
      "Destination: Shanghai, China\n",
      "Destination: Beijing, China\n",
      "Destination: asdfasfsa\n",
      "Enter city, country\n",
      "Destination: Boston, USA\n",
      "Destination: New York, USA\n",
      "Destination: \n",
      "China\n",
      "\tShanghai\n",
      "\tBeijing\n",
      "USA\n",
      "\tBoston\n",
      "\tNew York\n"
     ]
    }
   ],
   "source": [
    "all_places = {}\n",
    "\n",
    "while True:\n",
    "    s = input('Destination: ').strip()\n",
    "    \n",
    "    if not s:\n",
    "        break\n",
    "        \n",
    "    if s.count(',') != 1:\n",
    "        print(f'Enter city, country')\n",
    "        continue\n",
    "        \n",
    "    one_city, one_country = s.split(',')\n",
    "    one_city = one_city.strip()\n",
    "    one_country = one_country.strip()\n",
    "    \n",
    "    if one_country not in all_places:\n",
    "        all_places[one_country] = []\n",
    "        \n",
    "    all_places[one_country].append(one_city)\n",
    "    \n",
    "for one_country, all_cities in all_places.items():\n",
    "    print(one_country)\n",
    "\n",
    "    for one_city in all_cities:\n",
    "        print(f'\\t{one_city}')\n",
    "    \n",
    "    \n",
    "    "
   ]
  },
  {
   "cell_type": "code",
   "execution_count": null,
   "id": "2daddab8",
   "metadata": {},
   "outputs": [],
   "source": [
    "from collections import defaultdict\n",
    "\n",
    "all_places = defaultdict(list)\n",
    "\n",
    "while True:\n",
    "    s = input('Destination: ').strip()\n",
    "    \n",
    "    if not s:\n",
    "        break\n",
    "        \n",
    "    if s.count(',') != 1:\n",
    "        print(f'Enter city, country')\n",
    "        continue\n",
    "        \n",
    "    one_city, one_country = s.split(',')\n",
    "\n",
    "    all_places[one_country.strip()].append(one_city.strip())\n",
    "\n",
    "for one_country, all_cities in all_places.items():\n",
    "    print(one_country)\n",
    "\n",
    "    for one_city in all_cities:\n",
    "        print(f'\\t{one_city}')  "
   ]
  },
  {
   "cell_type": "code",
   "execution_count": 118,
   "id": "3539c294",
   "metadata": {},
   "outputs": [],
   "source": [
    "from collections import Counter"
   ]
  },
  {
   "cell_type": "code",
   "execution_count": 119,
   "id": "fa3e6587",
   "metadata": {},
   "outputs": [],
   "source": [
    "c = Counter()"
   ]
  },
  {
   "cell_type": "code",
   "execution_count": 120,
   "id": "d4861822",
   "metadata": {},
   "outputs": [
    {
     "data": {
      "text/plain": [
       "Counter({'a': 22, 'b': 35, 'c': 30})"
      ]
     },
     "execution_count": 120,
     "metadata": {},
     "output_type": "execute_result"
    }
   ],
   "source": [
    "c['a'] += 10\n",
    "c['b'] += 20\n",
    "c['c'] += 30\n",
    "c['b'] += 15\n",
    "c['a'] += 12\n",
    "\n",
    "c"
   ]
  },
  {
   "cell_type": "code",
   "execution_count": 121,
   "id": "4b3fde90",
   "metadata": {},
   "outputs": [],
   "source": [
    "c = Counter('abcdbcbbbccbcdbcdbbcd')"
   ]
  },
  {
   "cell_type": "code",
   "execution_count": 122,
   "id": "7f623adf",
   "metadata": {},
   "outputs": [
    {
     "data": {
      "text/plain": [
       "Counter({'a': 1, 'b': 9, 'c': 7, 'd': 4})"
      ]
     },
     "execution_count": 122,
     "metadata": {},
     "output_type": "execute_result"
    }
   ],
   "source": [
    "c"
   ]
  },
  {
   "cell_type": "code",
   "execution_count": 123,
   "id": "9d1804b4",
   "metadata": {},
   "outputs": [],
   "source": [
    "c = Counter([10, 20, 30, 20, 30, 40, 20, 30, 40, 20, 30, 40, 50, 20, 30, 20])"
   ]
  },
  {
   "cell_type": "code",
   "execution_count": 124,
   "id": "c931d22a",
   "metadata": {},
   "outputs": [
    {
     "data": {
      "text/plain": [
       "Counter({10: 1, 20: 6, 30: 5, 40: 3, 50: 1})"
      ]
     },
     "execution_count": 124,
     "metadata": {},
     "output_type": "execute_result"
    }
   ],
   "source": [
    "c"
   ]
  },
  {
   "cell_type": "code",
   "execution_count": 125,
   "id": "7a1de057",
   "metadata": {},
   "outputs": [
    {
     "data": {
      "text/plain": [
       "[(20, 6), (30, 5), (40, 3), (10, 1), (50, 1)]"
      ]
     },
     "execution_count": 125,
     "metadata": {},
     "output_type": "execute_result"
    }
   ],
   "source": [
    "c.most_common()"
   ]
  },
  {
   "cell_type": "code",
   "execution_count": 126,
   "id": "de399bd6",
   "metadata": {},
   "outputs": [
    {
     "data": {
      "text/plain": [
       "[(20, 6), (30, 5), (40, 3)]"
      ]
     },
     "execution_count": 126,
     "metadata": {},
     "output_type": "execute_result"
    }
   ],
   "source": [
    "c.most_common(3)"
   ]
  },
  {
   "cell_type": "code",
   "execution_count": 127,
   "id": "178055d6",
   "metadata": {},
   "outputs": [],
   "source": [
    "c1 = Counter([10, 20, 30, 20, 30, 40])\n",
    "c2 = Counter([30, 40, 50, 30, 40, 50, 30])"
   ]
  },
  {
   "cell_type": "code",
   "execution_count": 128,
   "id": "2a3debe6",
   "metadata": {},
   "outputs": [
    {
     "data": {
      "text/plain": [
       "Counter({10: 1, 20: 2, 30: 2, 40: 1})"
      ]
     },
     "execution_count": 128,
     "metadata": {},
     "output_type": "execute_result"
    }
   ],
   "source": [
    "c1"
   ]
  },
  {
   "cell_type": "code",
   "execution_count": 129,
   "id": "12eea437",
   "metadata": {},
   "outputs": [
    {
     "data": {
      "text/plain": [
       "Counter({30: 3, 40: 2, 50: 2})"
      ]
     },
     "execution_count": 129,
     "metadata": {},
     "output_type": "execute_result"
    }
   ],
   "source": [
    "c2"
   ]
  },
  {
   "cell_type": "code",
   "execution_count": 130,
   "id": "fac65a6d",
   "metadata": {},
   "outputs": [
    {
     "data": {
      "text/plain": [
       "Counter({10: 1, 20: 2, 30: 5, 40: 3, 50: 2})"
      ]
     },
     "execution_count": 130,
     "metadata": {},
     "output_type": "execute_result"
    }
   ],
   "source": [
    "c1 + c2"
   ]
  },
  {
   "cell_type": "code",
   "execution_count": 131,
   "id": "8b7ecccd",
   "metadata": {},
   "outputs": [
    {
     "data": {
      "text/plain": [
       "Counter({10: 1, 20: 2, 30: 3, 40: 2, 50: 2})"
      ]
     },
     "execution_count": 131,
     "metadata": {},
     "output_type": "execute_result"
    }
   ],
   "source": [
    "c1 | c2   # union of the two counters"
   ]
  },
  {
   "cell_type": "code",
   "execution_count": 132,
   "id": "99ca5876",
   "metadata": {},
   "outputs": [
    {
     "data": {
      "text/plain": [
       "{'a': 10, 'b': 100, 'c': 200, 'd': 300}"
      ]
     },
     "execution_count": 132,
     "metadata": {},
     "output_type": "execute_result"
    }
   ],
   "source": [
    "d1 = {'a':10, 'b':20, 'c':30}\n",
    "d2 = {'b':100, 'c':200, 'd':300}\n",
    "\n",
    "d1 | d2"
   ]
  },
  {
   "cell_type": "code",
   "execution_count": 133,
   "id": "ce510495",
   "metadata": {},
   "outputs": [
    {
     "data": {
      "text/plain": [
       "{'a': 10, 'b': 100, 'c': 200, 'd': 300}"
      ]
     },
     "execution_count": 133,
     "metadata": {},
     "output_type": "execute_result"
    }
   ],
   "source": [
    "d1.update(d2)  # this modifies d1!\n",
    "\n",
    "d1"
   ]
  },
  {
   "cell_type": "code",
   "execution_count": 134,
   "id": "7e4675c6",
   "metadata": {},
   "outputs": [
    {
     "ename": "TypeError",
     "evalue": "unsupported operand type(s) for +: 'dict' and 'dict'",
     "output_type": "error",
     "traceback": [
      "\u001b[0;31m---------------------------------------------------------------------------\u001b[0m",
      "\u001b[0;31mTypeError\u001b[0m                                 Traceback (most recent call last)",
      "\u001b[0;32m/var/folders/rr/0mnyyv811fs5vyp22gf4fxk00000gn/T/ipykernel_200/1575791415.py\u001b[0m in \u001b[0;36m<module>\u001b[0;34m\u001b[0m\n\u001b[0;32m----> 1\u001b[0;31m \u001b[0md1\u001b[0m \u001b[0;34m+\u001b[0m \u001b[0md2\u001b[0m\u001b[0;34m\u001b[0m\u001b[0;34m\u001b[0m\u001b[0m\n\u001b[0m",
      "\u001b[0;31mTypeError\u001b[0m: unsupported operand type(s) for +: 'dict' and 'dict'"
     ]
    }
   ],
   "source": [
    "d1 + d2"
   ]
  },
  {
   "cell_type": "markdown",
   "id": "a25f73db",
   "metadata": {},
   "source": [
    "# Next up:\n",
    "\n",
    "1. Functions\n",
    "     - Bytecodes\n",
    "     - Function objects\n",
    "     - Scoping\n",
    "\n",
    "Resume at 10:55"
   ]
  },
  {
   "cell_type": "code",
   "execution_count": null,
   "id": "e97100a7",
   "metadata": {},
   "outputs": [],
   "source": [
    "from collections import defaultdict\n",
    "\n",
    "all_places = defaultdict(list)\n",
    "\n",
    "while True:\n",
    "    s = input('Destination: ').strip()\n",
    "    \n",
    "    if not s:\n",
    "        break\n",
    "        \n",
    "    if s.count(',') != 1:\n",
    "        print(f'Enter city, country')\n",
    "        continue\n",
    "        \n",
    "    one_city, one_country = s.split(',')\n",
    "\n",
    "    all_places[one_country.strip()].append(one_city.strip())"
   ]
  },
  {
   "cell_type": "code",
   "execution_count": 135,
   "id": "b2eba024",
   "metadata": {},
   "outputs": [
    {
     "data": {
      "text/plain": [
       "{'China': ['Shanghai', 'Beijing'], 'USA': ['Boston', 'New York']}"
      ]
     },
     "execution_count": 135,
     "metadata": {},
     "output_type": "execute_result"
    }
   ],
   "source": [
    "all_places"
   ]
  },
  {
   "cell_type": "code",
   "execution_count": 137,
   "id": "c0eff6ab",
   "metadata": {},
   "outputs": [
    {
     "name": "stdout",
     "output_type": "stream",
     "text": [
      "China\n",
      "all_cities=['Shanghai', 'Beijing']\n",
      "\tShanghai\n",
      "\tBeijing\n",
      "USA\n",
      "all_cities=['Boston', 'New York']\n",
      "\tBoston\n",
      "\tNew York\n"
     ]
    }
   ],
   "source": [
    "for one_country, all_cities in all_places.items():\n",
    "    print(one_country)\n",
    "    print(f'{all_cities=}')\n",
    "\n",
    "    for one_city in all_cities:\n",
    "        print(f'\\t{one_city}')  "
   ]
  },
  {
   "cell_type": "code",
   "execution_count": 138,
   "id": "3cb38aff",
   "metadata": {},
   "outputs": [
    {
     "data": {
      "text/plain": [
       "str"
      ]
     },
     "execution_count": 138,
     "metadata": {},
     "output_type": "execute_result"
    }
   ],
   "source": [
    "type(one_city)"
   ]
  },
  {
   "cell_type": "code",
   "execution_count": 139,
   "id": "19cadd35",
   "metadata": {},
   "outputs": [
    {
     "data": {
      "text/plain": [
       "'New York'"
      ]
     },
     "execution_count": 139,
     "metadata": {},
     "output_type": "execute_result"
    }
   ],
   "source": [
    "one_city"
   ]
  },
  {
   "cell_type": "code",
   "execution_count": 140,
   "id": "8800f53d",
   "metadata": {},
   "outputs": [
    {
     "name": "stdout",
     "output_type": "stream",
     "text": [
      "China\n",
      "\t\t city='Shanghai' <class 'str'>\n",
      "\t\t city='Beijing' <class 'str'>\n",
      "USA\n",
      "\t\t city='Boston' <class 'str'>\n",
      "\t\t city='New York' <class 'str'>\n"
     ]
    }
   ],
   "source": [
    "from collections import defaultdict\n",
    "dTravel = defaultdict(list)\n",
    "while True:\n",
    "    user_input = input('Please enter a string indicating the city + country where you traveled. The format should be \"city, country\".').strip()\n",
    "    if not user_input:\n",
    "        break\n",
    "    strCity, strCountry = user_input.split(',')\n",
    "    dTravel[strCountry.strip()].append([strCity.strip()])\n",
    "for one_country, all_cities in dTravel.items():\n",
    "    print(f'{one_country}')\n",
    "    for city in all_cities:\n",
    "        print(f'\\t\\t {city=} {type(city)}')"
   ]
  },
  {
   "cell_type": "code",
   "execution_count": 141,
   "id": "545fb06a",
   "metadata": {},
   "outputs": [],
   "source": [
    "mylist = [10, 20, 30]\n",
    "\n",
    "mylist.append(40)"
   ]
  },
  {
   "cell_type": "code",
   "execution_count": 142,
   "id": "b6796fc8",
   "metadata": {},
   "outputs": [
    {
     "data": {
      "text/plain": [
       "[10, 20, 30, 40]"
      ]
     },
     "execution_count": 142,
     "metadata": {},
     "output_type": "execute_result"
    }
   ],
   "source": [
    "mylist"
   ]
  },
  {
   "cell_type": "code",
   "execution_count": 143,
   "id": "80a6e269",
   "metadata": {},
   "outputs": [
    {
     "data": {
      "text/plain": [
       "[10, 20, 30, 40, [40]]"
      ]
     },
     "execution_count": 143,
     "metadata": {},
     "output_type": "execute_result"
    }
   ],
   "source": [
    "mylist.append([40])\n",
    "mylist"
   ]
  },
  {
   "cell_type": "code",
   "execution_count": 144,
   "id": "07fab651",
   "metadata": {},
   "outputs": [],
   "source": [
    "def hello():\n",
    "    return 'Hello'"
   ]
  },
  {
   "cell_type": "code",
   "execution_count": 145,
   "id": "9b5db2d4",
   "metadata": {},
   "outputs": [
    {
     "data": {
      "text/plain": [
       "function"
      ]
     },
     "execution_count": 145,
     "metadata": {},
     "output_type": "execute_result"
    }
   ],
   "source": [
    "type(hello)"
   ]
  },
  {
   "cell_type": "code",
   "execution_count": 146,
   "id": "d7d741cb",
   "metadata": {},
   "outputs": [],
   "source": [
    "hello = 7"
   ]
  },
  {
   "cell_type": "code",
   "execution_count": 147,
   "id": "cdd51945",
   "metadata": {},
   "outputs": [
    {
     "ename": "TypeError",
     "evalue": "'int' object is not callable",
     "output_type": "error",
     "traceback": [
      "\u001b[0;31m---------------------------------------------------------------------------\u001b[0m",
      "\u001b[0;31mTypeError\u001b[0m                                 Traceback (most recent call last)",
      "\u001b[0;32m/var/folders/rr/0mnyyv811fs5vyp22gf4fxk00000gn/T/ipykernel_200/2674044599.py\u001b[0m in \u001b[0;36m<module>\u001b[0;34m\u001b[0m\n\u001b[0;32m----> 1\u001b[0;31m \u001b[0mhello\u001b[0m\u001b[0;34m(\u001b[0m\u001b[0;34m)\u001b[0m\u001b[0;34m\u001b[0m\u001b[0;34m\u001b[0m\u001b[0m\n\u001b[0m",
      "\u001b[0;31mTypeError\u001b[0m: 'int' object is not callable"
     ]
    }
   ],
   "source": [
    "hello()"
   ]
  },
  {
   "cell_type": "code",
   "execution_count": 148,
   "id": "5aca6933",
   "metadata": {},
   "outputs": [
    {
     "data": {
      "text/plain": [
       "int"
      ]
     },
     "execution_count": 148,
     "metadata": {},
     "output_type": "execute_result"
    }
   ],
   "source": [
    "type(hello)"
   ]
  },
  {
   "cell_type": "code",
   "execution_count": 149,
   "id": "428ad306",
   "metadata": {},
   "outputs": [],
   "source": [
    "def hello():\n",
    "    return 'Hello'"
   ]
  },
  {
   "cell_type": "code",
   "execution_count": 150,
   "id": "776a95dc",
   "metadata": {},
   "outputs": [],
   "source": [
    "def hello(name):\n",
    "    return f'Hello, {name}!'"
   ]
  },
  {
   "cell_type": "code",
   "execution_count": 151,
   "id": "1023c720",
   "metadata": {},
   "outputs": [
    {
     "data": {
      "text/plain": [
       "'Hello, Reuven!'"
      ]
     },
     "execution_count": 151,
     "metadata": {},
     "output_type": "execute_result"
    }
   ],
   "source": [
    "hello('Reuven')"
   ]
  },
  {
   "cell_type": "code",
   "execution_count": 152,
   "id": "e34c58f6",
   "metadata": {},
   "outputs": [
    {
     "ename": "TypeError",
     "evalue": "hello() missing 1 required positional argument: 'name'",
     "output_type": "error",
     "traceback": [
      "\u001b[0;31m---------------------------------------------------------------------------\u001b[0m",
      "\u001b[0;31mTypeError\u001b[0m                                 Traceback (most recent call last)",
      "\u001b[0;32m/var/folders/rr/0mnyyv811fs5vyp22gf4fxk00000gn/T/ipykernel_200/2674044599.py\u001b[0m in \u001b[0;36m<module>\u001b[0;34m\u001b[0m\n\u001b[0;32m----> 1\u001b[0;31m \u001b[0mhello\u001b[0m\u001b[0;34m(\u001b[0m\u001b[0;34m)\u001b[0m\u001b[0;34m\u001b[0m\u001b[0;34m\u001b[0m\u001b[0m\n\u001b[0m",
      "\u001b[0;31mTypeError\u001b[0m: hello() missing 1 required positional argument: 'name'"
     ]
    }
   ],
   "source": [
    "hello()"
   ]
  },
  {
   "cell_type": "code",
   "execution_count": 153,
   "id": "0a4d2021",
   "metadata": {},
   "outputs": [],
   "source": [
    "def hello():\n",
    "    return 'Hello'"
   ]
  },
  {
   "cell_type": "code",
   "execution_count": 154,
   "id": "f1465cd7",
   "metadata": {},
   "outputs": [
    {
     "ename": "TypeError",
     "evalue": "hello() takes 0 positional arguments but 1 was given",
     "output_type": "error",
     "traceback": [
      "\u001b[0;31m---------------------------------------------------------------------------\u001b[0m",
      "\u001b[0;31mTypeError\u001b[0m                                 Traceback (most recent call last)",
      "\u001b[0;32m/var/folders/rr/0mnyyv811fs5vyp22gf4fxk00000gn/T/ipykernel_200/2504046000.py\u001b[0m in \u001b[0;36m<module>\u001b[0;34m\u001b[0m\n\u001b[0;32m----> 1\u001b[0;31m \u001b[0mhello\u001b[0m\u001b[0;34m(\u001b[0m\u001b[0;34m'Reuven'\u001b[0m\u001b[0;34m)\u001b[0m\u001b[0;34m\u001b[0m\u001b[0;34m\u001b[0m\u001b[0m\n\u001b[0m",
      "\u001b[0;31mTypeError\u001b[0m: hello() takes 0 positional arguments but 1 was given"
     ]
    }
   ],
   "source": [
    "hello('Reuven')"
   ]
  },
  {
   "cell_type": "markdown",
   "id": "bacc856d",
   "metadata": {},
   "source": [
    "# Arguments in Python\n",
    "\n",
    "There are two types of arguments in Python:\n",
    "\n",
    "1. Positional arguments -- based on their positions in the argument list, the values will be assigned to parameters.\n",
    "2. Keyword arguments -- they always look like `name=value`, and they are assigned based on the `name`."
   ]
  },
  {
   "cell_type": "code",
   "execution_count": 155,
   "id": "7366557e",
   "metadata": {},
   "outputs": [
    {
     "data": {
      "text/plain": [
       "0"
      ]
     },
     "execution_count": 155,
     "metadata": {},
     "output_type": "execute_result"
    }
   ],
   "source": [
    "hello.__code__.co_argcount"
   ]
  },
  {
   "cell_type": "code",
   "execution_count": 156,
   "id": "cdd12faa",
   "metadata": {},
   "outputs": [
    {
     "data": {
      "text/plain": [
       "True"
      ]
     },
     "execution_count": 156,
     "metadata": {},
     "output_type": "execute_result"
    }
   ],
   "source": [
    "callable(hello)"
   ]
  },
  {
   "cell_type": "code",
   "execution_count": 157,
   "id": "1d97fa3e",
   "metadata": {},
   "outputs": [],
   "source": [
    "x = hello()"
   ]
  },
  {
   "cell_type": "code",
   "execution_count": 158,
   "id": "a96bdc59",
   "metadata": {},
   "outputs": [
    {
     "name": "stdout",
     "output_type": "stream",
     "text": [
      "Hello\n"
     ]
    }
   ],
   "source": [
    "print(x)"
   ]
  },
  {
   "cell_type": "code",
   "execution_count": 160,
   "id": "ef407172",
   "metadata": {},
   "outputs": [],
   "source": [
    "import dis  # disassemble"
   ]
  },
  {
   "cell_type": "code",
   "execution_count": 161,
   "id": "b1e6a4b4",
   "metadata": {},
   "outputs": [
    {
     "data": {
      "text/plain": [
       "b'd\\x01S\\x00'"
      ]
     },
     "execution_count": 161,
     "metadata": {},
     "output_type": "execute_result"
    }
   ],
   "source": [
    "hello.__code__.co_code"
   ]
  },
  {
   "cell_type": "code",
   "execution_count": 163,
   "id": "32f64c38",
   "metadata": {},
   "outputs": [
    {
     "name": "stdout",
     "output_type": "stream",
     "text": [
      "  2           0 LOAD_CONST               1 ('Hello')\n",
      "              2 RETURN_VALUE\n"
     ]
    }
   ],
   "source": [
    "def hello():\n",
    "    return 'Hello'\n",
    "\n",
    "dis.dis(hello)"
   ]
  },
  {
   "cell_type": "code",
   "execution_count": 164,
   "id": "a8bd34b5",
   "metadata": {},
   "outputs": [
    {
     "data": {
      "text/plain": [
       "(None, 'Hello')"
      ]
     },
     "execution_count": 164,
     "metadata": {},
     "output_type": "execute_result"
    }
   ],
   "source": [
    "hello.__code__.co_consts"
   ]
  },
  {
   "cell_type": "code",
   "execution_count": 165,
   "id": "17d4f1d3",
   "metadata": {},
   "outputs": [],
   "source": [
    "def hello():\n",
    "    pass"
   ]
  },
  {
   "cell_type": "code",
   "execution_count": 166,
   "id": "1944e764",
   "metadata": {},
   "outputs": [
    {
     "name": "stdout",
     "output_type": "stream",
     "text": [
      "None\n"
     ]
    }
   ],
   "source": [
    "print(hello())"
   ]
  },
  {
   "cell_type": "code",
   "execution_count": 167,
   "id": "4c1523c3",
   "metadata": {},
   "outputs": [
    {
     "name": "stdout",
     "output_type": "stream",
     "text": [
      "  2           0 LOAD_CONST               0 (None)\n",
      "              2 RETURN_VALUE\n"
     ]
    }
   ],
   "source": [
    "dis.dis(hello)"
   ]
  },
  {
   "cell_type": "code",
   "execution_count": 168,
   "id": "a3192e20",
   "metadata": {},
   "outputs": [],
   "source": [
    "def add():\n",
    "    x = 10 + 3\n",
    "    "
   ]
  },
  {
   "cell_type": "code",
   "execution_count": 169,
   "id": "d2076e23",
   "metadata": {},
   "outputs": [
    {
     "name": "stdout",
     "output_type": "stream",
     "text": [
      "  2           0 LOAD_CONST               1 (13)\n",
      "              2 STORE_FAST               0 (x)\n",
      "              4 LOAD_CONST               0 (None)\n",
      "              6 RETURN_VALUE\n"
     ]
    }
   ],
   "source": [
    "dis.dis(add)"
   ]
  },
  {
   "cell_type": "code",
   "execution_count": 170,
   "id": "bd37d7cc",
   "metadata": {},
   "outputs": [],
   "source": [
    "def myfunc():\n",
    "    x = [10, 20, 30]\n",
    "    return x"
   ]
  },
  {
   "cell_type": "code",
   "execution_count": 171,
   "id": "5c3aad36",
   "metadata": {},
   "outputs": [
    {
     "name": "stdout",
     "output_type": "stream",
     "text": [
      "  2           0 BUILD_LIST               0\n",
      "              2 LOAD_CONST               1 ((10, 20, 30))\n",
      "              4 LIST_EXTEND              1\n",
      "              6 STORE_FAST               0 (x)\n",
      "\n",
      "  3           8 LOAD_FAST                0 (x)\n",
      "             10 RETURN_VALUE\n"
     ]
    }
   ],
   "source": [
    "dis.dis(myfunc)"
   ]
  },
  {
   "cell_type": "code",
   "execution_count": 172,
   "id": "65fe911e",
   "metadata": {},
   "outputs": [],
   "source": [
    "mylist = []\n",
    "mylist.extend((10, 20, 30))"
   ]
  },
  {
   "cell_type": "code",
   "execution_count": 173,
   "id": "5601b059",
   "metadata": {},
   "outputs": [
    {
     "data": {
      "text/plain": [
       "(None, (10, 20, 30))"
      ]
     },
     "execution_count": 173,
     "metadata": {},
     "output_type": "execute_result"
    }
   ],
   "source": [
    "myfunc.__code__.co_consts"
   ]
  },
  {
   "cell_type": "code",
   "execution_count": 174,
   "id": "d7bbc6a3",
   "metadata": {},
   "outputs": [],
   "source": [
    "def myfunc():\n",
    "    x = (10, 20, 30)\n",
    "    return x"
   ]
  },
  {
   "cell_type": "code",
   "execution_count": 175,
   "id": "b2bdede2",
   "metadata": {},
   "outputs": [
    {
     "name": "stdout",
     "output_type": "stream",
     "text": [
      "  2           0 LOAD_CONST               1 ((10, 20, 30))\n",
      "              2 STORE_FAST               0 (x)\n",
      "\n",
      "  3           4 LOAD_FAST                0 (x)\n",
      "              6 RETURN_VALUE\n"
     ]
    }
   ],
   "source": [
    "dis.dis(myfunc)"
   ]
  },
  {
   "cell_type": "code",
   "execution_count": 176,
   "id": "d438a813",
   "metadata": {},
   "outputs": [],
   "source": [
    "def myfunc():\n",
    "    x = [10]\n",
    "    return x"
   ]
  },
  {
   "cell_type": "code",
   "execution_count": 177,
   "id": "6fc32f5f",
   "metadata": {},
   "outputs": [
    {
     "name": "stdout",
     "output_type": "stream",
     "text": [
      "  2           0 LOAD_CONST               1 (10)\n",
      "              2 BUILD_LIST               1\n",
      "              4 STORE_FAST               0 (x)\n",
      "\n",
      "  3           6 LOAD_FAST                0 (x)\n",
      "              8 RETURN_VALUE\n"
     ]
    }
   ],
   "source": [
    "dis.dis(myfunc)"
   ]
  },
  {
   "cell_type": "code",
   "execution_count": 178,
   "id": "19568d09",
   "metadata": {},
   "outputs": [],
   "source": [
    "def myfunc():\n",
    "    x = [10, 20]\n",
    "    return x"
   ]
  },
  {
   "cell_type": "code",
   "execution_count": 179,
   "id": "50a26d64",
   "metadata": {},
   "outputs": [
    {
     "name": "stdout",
     "output_type": "stream",
     "text": [
      "  2           0 LOAD_CONST               1 (10)\n",
      "              2 LOAD_CONST               2 (20)\n",
      "              4 BUILD_LIST               2\n",
      "              6 STORE_FAST               0 (x)\n",
      "\n",
      "  3           8 LOAD_FAST                0 (x)\n",
      "             10 RETURN_VALUE\n"
     ]
    }
   ],
   "source": [
    "dis.dis(myfunc)"
   ]
  },
  {
   "cell_type": "code",
   "execution_count": 182,
   "id": "ca8b3f17",
   "metadata": {},
   "outputs": [],
   "source": [
    "def myfunc():\n",
    "    d = {'a':10, 'b':20, 'c':30}\n",
    "    return d"
   ]
  },
  {
   "cell_type": "code",
   "execution_count": 183,
   "id": "5c1ba1ad",
   "metadata": {},
   "outputs": [
    {
     "name": "stdout",
     "output_type": "stream",
     "text": [
      "  2           0 LOAD_CONST               1 (10)\n",
      "              2 LOAD_CONST               2 (20)\n",
      "              4 LOAD_CONST               3 (30)\n",
      "              6 LOAD_CONST               4 (('a', 'b', 'c'))\n",
      "              8 BUILD_CONST_KEY_MAP      3\n",
      "             10 STORE_FAST               0 (d)\n",
      "\n",
      "  3          12 LOAD_FAST                0 (d)\n",
      "             14 RETURN_VALUE\n"
     ]
    }
   ],
   "source": [
    "dis.dis(myfunc)"
   ]
  },
  {
   "cell_type": "code",
   "execution_count": 185,
   "id": "a795b884",
   "metadata": {},
   "outputs": [],
   "source": [
    "def hello(name):\n",
    "    return name"
   ]
  },
  {
   "cell_type": "code",
   "execution_count": 186,
   "id": "c82ecd0a",
   "metadata": {},
   "outputs": [
    {
     "name": "stdout",
     "output_type": "stream",
     "text": [
      "  2           0 LOAD_FAST                0 (name)\n",
      "              2 RETURN_VALUE\n"
     ]
    }
   ],
   "source": [
    "dis.dis(hello)"
   ]
  },
  {
   "cell_type": "code",
   "execution_count": 187,
   "id": "d2ed0e09",
   "metadata": {},
   "outputs": [
    {
     "data": {
      "text/plain": [
       "1"
      ]
     },
     "execution_count": 187,
     "metadata": {},
     "output_type": "execute_result"
    }
   ],
   "source": [
    "hello.__code__.co_argcount"
   ]
  },
  {
   "cell_type": "code",
   "execution_count": 188,
   "id": "3e3b25ea",
   "metadata": {},
   "outputs": [
    {
     "data": {
      "text/plain": [
       "('name',)"
      ]
     },
     "execution_count": 188,
     "metadata": {},
     "output_type": "execute_result"
    }
   ],
   "source": [
    "hello.__code__.co_varnames"
   ]
  },
  {
   "cell_type": "code",
   "execution_count": 189,
   "id": "93e4aea8",
   "metadata": {},
   "outputs": [
    {
     "data": {
      "text/plain": [
       "'Reuven'"
      ]
     },
     "execution_count": 189,
     "metadata": {},
     "output_type": "execute_result"
    }
   ],
   "source": [
    "# parameters: name\n",
    "# arguments: 'Reuven'\n",
    "\n",
    "\n",
    "hello('Reuven')"
   ]
  },
  {
   "cell_type": "code",
   "execution_count": 190,
   "id": "1699efb4",
   "metadata": {},
   "outputs": [
    {
     "data": {
      "text/plain": [
       "'Reuven'"
      ]
     },
     "execution_count": 190,
     "metadata": {},
     "output_type": "execute_result"
    }
   ],
   "source": [
    "# parameters: name\n",
    "# arguments: 'Reuven'\n",
    "\n",
    "\n",
    "hello(name='Reuven')"
   ]
  },
  {
   "cell_type": "code",
   "execution_count": 191,
   "id": "8a4459f5",
   "metadata": {},
   "outputs": [],
   "source": [
    "def add(first, second):\n",
    "    return first + second"
   ]
  },
  {
   "cell_type": "code",
   "execution_count": 193,
   "id": "2b860694",
   "metadata": {},
   "outputs": [
    {
     "data": {
      "text/plain": [
       "13"
      ]
     },
     "execution_count": 193,
     "metadata": {},
     "output_type": "execute_result"
    }
   ],
   "source": [
    "# parameters: first second\n",
    "# arguments:   10    3\n",
    "\n",
    "add(10, 3)"
   ]
  },
  {
   "cell_type": "code",
   "execution_count": 194,
   "id": "b56262af",
   "metadata": {},
   "outputs": [
    {
     "data": {
      "text/plain": [
       "13"
      ]
     },
     "execution_count": 194,
     "metadata": {},
     "output_type": "execute_result"
    }
   ],
   "source": [
    "# parameters: first second\n",
    "# arguments:  10      3\n",
    "\n",
    "add(first=10, second=3)"
   ]
  },
  {
   "cell_type": "code",
   "execution_count": 195,
   "id": "aa2d7a66",
   "metadata": {},
   "outputs": [
    {
     "data": {
      "text/plain": [
       "13"
      ]
     },
     "execution_count": 195,
     "metadata": {},
     "output_type": "execute_result"
    }
   ],
   "source": [
    "# parameters: first second\n",
    "# arguments:   10    3\n",
    "\n",
    "add(10, second=3)"
   ]
  },
  {
   "cell_type": "code",
   "execution_count": 196,
   "id": "8703974f",
   "metadata": {},
   "outputs": [
    {
     "ename": "SyntaxError",
     "evalue": "positional argument follows keyword argument (3828676014.py, line 4)",
     "output_type": "error",
     "traceback": [
      "\u001b[0;36m  File \u001b[0;32m\"/var/folders/rr/0mnyyv811fs5vyp22gf4fxk00000gn/T/ipykernel_200/3828676014.py\"\u001b[0;36m, line \u001b[0;32m4\u001b[0m\n\u001b[0;31m    add(first=10, 3)\u001b[0m\n\u001b[0m                   ^\u001b[0m\n\u001b[0;31mSyntaxError\u001b[0m\u001b[0;31m:\u001b[0m positional argument follows keyword argument\n"
     ]
    }
   ],
   "source": [
    "# parameters: first second\n",
    "# arguments:  \n",
    "\n",
    "add(first=10, 3)     # keyword argument first=10  comes before positional argument 3"
   ]
  },
  {
   "cell_type": "code",
   "execution_count": 197,
   "id": "e1f4e79e",
   "metadata": {},
   "outputs": [
    {
     "data": {
      "text/plain": [
       "13"
      ]
     },
     "execution_count": 197,
     "metadata": {},
     "output_type": "execute_result"
    }
   ],
   "source": [
    "# parameters: first second\n",
    "# arguments:  3      10\n",
    "\n",
    "add(second=10, first=3)"
   ]
  },
  {
   "cell_type": "code",
   "execution_count": 199,
   "id": "ef47fd1a",
   "metadata": {},
   "outputs": [],
   "source": [
    "# here, we have a function with a default argument for the parameter \"second\"\n",
    "\n",
    "def add(first, second=10):\n",
    "    return first + second"
   ]
  },
  {
   "cell_type": "code",
   "execution_count": 201,
   "id": "bc42399f",
   "metadata": {},
   "outputs": [
    {
     "data": {
      "text/plain": [
       "5"
      ]
     },
     "execution_count": 201,
     "metadata": {},
     "output_type": "execute_result"
    }
   ],
   "source": [
    "# parameters: first second\n",
    "# arguments:   2     3\n",
    "\n",
    "add(2, 3)"
   ]
  },
  {
   "cell_type": "code",
   "execution_count": 203,
   "id": "ffa7cab7",
   "metadata": {},
   "outputs": [
    {
     "data": {
      "text/plain": [
       "12"
      ]
     },
     "execution_count": 203,
     "metadata": {},
     "output_type": "execute_result"
    }
   ],
   "source": [
    "# parameters: first second\n",
    "# arguments:    2    10\n",
    "\n",
    "add(2)"
   ]
  },
  {
   "cell_type": "code",
   "execution_count": 202,
   "id": "c71ee0aa",
   "metadata": {},
   "outputs": [
    {
     "data": {
      "text/plain": [
       "(10,)"
      ]
     },
     "execution_count": 202,
     "metadata": {},
     "output_type": "execute_result"
    }
   ],
   "source": [
    "add.__defaults__"
   ]
  },
  {
   "cell_type": "code",
   "execution_count": 204,
   "id": "4b6a76a0",
   "metadata": {},
   "outputs": [],
   "source": [
    "def add(w,x=2,y=3,z=4):\n",
    "    return w + x + y +z"
   ]
  },
  {
   "cell_type": "code",
   "execution_count": 205,
   "id": "23d1bd18",
   "metadata": {},
   "outputs": [
    {
     "data": {
      "text/plain": [
       "(2, 3, 4)"
      ]
     },
     "execution_count": 205,
     "metadata": {},
     "output_type": "execute_result"
    }
   ],
   "source": [
    "add.__defaults__"
   ]
  },
  {
   "cell_type": "code",
   "execution_count": 206,
   "id": "9d14f81d",
   "metadata": {},
   "outputs": [
    {
     "data": {
      "text/plain": [
       "37"
      ]
     },
     "execution_count": 206,
     "metadata": {},
     "output_type": "execute_result"
    }
   ],
   "source": [
    "# parameters:  w   x   y   z\n",
    "# arguments:  10   20  3   4\n",
    "\n",
    "add(10, 20)"
   ]
  },
  {
   "cell_type": "code",
   "execution_count": 209,
   "id": "56032071",
   "metadata": {},
   "outputs": [
    {
     "data": {
      "text/plain": [
       "36"
      ]
     },
     "execution_count": 209,
     "metadata": {},
     "output_type": "execute_result"
    }
   ],
   "source": [
    "# parameters:  w   x   y   z\n",
    "# arguments:   10   2   20   4\n",
    "\n",
    "add(10, y=20)"
   ]
  },
  {
   "cell_type": "code",
   "execution_count": 207,
   "id": "860dee5c",
   "metadata": {},
   "outputs": [
    {
     "data": {
      "text/plain": [
       "('w', 'x', 'y', 'z')"
      ]
     },
     "execution_count": 207,
     "metadata": {},
     "output_type": "execute_result"
    }
   ],
   "source": [
    "add.__code__.co_varnames"
   ]
  },
  {
   "cell_type": "code",
   "execution_count": 210,
   "id": "58a7a38c",
   "metadata": {},
   "outputs": [
    {
     "data": {
      "text/plain": [
       "(2, 3, 4)"
      ]
     },
     "execution_count": 210,
     "metadata": {},
     "output_type": "execute_result"
    }
   ],
   "source": [
    "add.__defaults__      # \"dunder defaults\" == \"double underscore\""
   ]
  },
  {
   "cell_type": "code",
   "execution_count": 211,
   "id": "9fd4f4b0",
   "metadata": {},
   "outputs": [
    {
     "data": {
      "text/plain": [
       "35"
      ]
     },
     "execution_count": 211,
     "metadata": {},
     "output_type": "execute_result"
    }
   ],
   "source": [
    "add(10, z=20)"
   ]
  },
  {
   "cell_type": "markdown",
   "id": "0b3619b1",
   "metadata": {},
   "source": [
    "# Parameters\n",
    "\n",
    "1. Mandatory parameters (can accept positional or keyword arguments)\n",
    "2. Optional parameters (can accept positional or keyword arguments), with default values in `__defaults__`\n"
   ]
  },
  {
   "cell_type": "code",
   "execution_count": 212,
   "id": "b3530357",
   "metadata": {},
   "outputs": [
    {
     "data": {
      "text/plain": [
       "[10, 20, 30, 1]"
      ]
     },
     "execution_count": 212,
     "metadata": {},
     "output_type": "execute_result"
    }
   ],
   "source": [
    "def add_one(x=[]):\n",
    "    x.append(1)\n",
    "    return x\n",
    "\n",
    "mylist = [10, 20, 30]\n",
    "add_one(mylist)"
   ]
  },
  {
   "cell_type": "code",
   "execution_count": 213,
   "id": "ae5f850f",
   "metadata": {},
   "outputs": [
    {
     "data": {
      "text/plain": [
       "[10, 20, 30, 1]"
      ]
     },
     "execution_count": 213,
     "metadata": {},
     "output_type": "execute_result"
    }
   ],
   "source": [
    "mylist"
   ]
  },
  {
   "cell_type": "code",
   "execution_count": 214,
   "id": "f6e9f25d",
   "metadata": {},
   "outputs": [
    {
     "data": {
      "text/plain": [
       "[1]"
      ]
     },
     "execution_count": 214,
     "metadata": {},
     "output_type": "execute_result"
    }
   ],
   "source": [
    "add_one()"
   ]
  },
  {
   "cell_type": "code",
   "execution_count": 215,
   "id": "29d6da52",
   "metadata": {},
   "outputs": [
    {
     "data": {
      "text/plain": [
       "[1, 1]"
      ]
     },
     "execution_count": 215,
     "metadata": {},
     "output_type": "execute_result"
    }
   ],
   "source": [
    "add_one()"
   ]
  },
  {
   "cell_type": "code",
   "execution_count": 216,
   "id": "3ed253f0",
   "metadata": {},
   "outputs": [
    {
     "data": {
      "text/plain": [
       "[1, 1, 1]"
      ]
     },
     "execution_count": 216,
     "metadata": {},
     "output_type": "execute_result"
    }
   ],
   "source": [
    "add_one()"
   ]
  },
  {
   "cell_type": "code",
   "execution_count": 217,
   "id": "96e90976",
   "metadata": {},
   "outputs": [],
   "source": [
    "def add_one(x=[]):\n",
    "    x.append(1)\n",
    "    return x"
   ]
  },
  {
   "cell_type": "code",
   "execution_count": 219,
   "id": "8c6d4d07",
   "metadata": {},
   "outputs": [
    {
     "data": {
      "text/plain": [
       "[1]"
      ]
     },
     "execution_count": 219,
     "metadata": {},
     "output_type": "execute_result"
    }
   ],
   "source": [
    "# parameters:  x\n",
    "# arguments:   []\n",
    "\n",
    "add_one()"
   ]
  },
  {
   "cell_type": "code",
   "execution_count": 220,
   "id": "50648ca0",
   "metadata": {},
   "outputs": [
    {
     "data": {
      "text/plain": [
       "([1],)"
      ]
     },
     "execution_count": 220,
     "metadata": {},
     "output_type": "execute_result"
    }
   ],
   "source": [
    "add_one.__defaults__"
   ]
  },
  {
   "cell_type": "code",
   "execution_count": 221,
   "id": "32f0ab5c",
   "metadata": {},
   "outputs": [
    {
     "data": {
      "text/plain": [
       "[1, 1]"
      ]
     },
     "execution_count": 221,
     "metadata": {},
     "output_type": "execute_result"
    }
   ],
   "source": [
    "add_one()"
   ]
  },
  {
   "cell_type": "code",
   "execution_count": 222,
   "id": "65a85692",
   "metadata": {},
   "outputs": [
    {
     "data": {
      "text/plain": [
       "([1, 1],)"
      ]
     },
     "execution_count": 222,
     "metadata": {},
     "output_type": "execute_result"
    }
   ],
   "source": [
    "add_one.__defaults__"
   ]
  },
  {
   "cell_type": "code",
   "execution_count": 225,
   "id": "7687e645",
   "metadata": {},
   "outputs": [],
   "source": [
    "def add_one(x=None):\n",
    "    \n",
    "    if x is None:\n",
    "        x = []    # this [] is created at run time -- every run will create a new empty list!\n",
    "    \n",
    "    x.append(1)\n",
    "    return x"
   ]
  },
  {
   "cell_type": "code",
   "execution_count": 226,
   "id": "de43fea5",
   "metadata": {},
   "outputs": [
    {
     "data": {
      "text/plain": [
       "[1]"
      ]
     },
     "execution_count": 226,
     "metadata": {},
     "output_type": "execute_result"
    }
   ],
   "source": [
    "add_one()"
   ]
  },
  {
   "cell_type": "code",
   "execution_count": null,
   "id": "9a7f0560",
   "metadata": {},
   "outputs": [],
   "source": []
  },
  {
   "cell_type": "code",
   "execution_count": 227,
   "id": "e1c964c9",
   "metadata": {},
   "outputs": [
    {
     "data": {
      "text/plain": [
       "[1]"
      ]
     },
     "execution_count": 227,
     "metadata": {},
     "output_type": "execute_result"
    }
   ],
   "source": [
    "add_one()"
   ]
  },
  {
   "cell_type": "code",
   "execution_count": 228,
   "id": "fa5600e9",
   "metadata": {},
   "outputs": [
    {
     "data": {
      "text/plain": [
       "[1]"
      ]
     },
     "execution_count": 228,
     "metadata": {},
     "output_type": "execute_result"
    }
   ],
   "source": [
    "add_one()"
   ]
  },
  {
   "cell_type": "code",
   "execution_count": 229,
   "id": "1da03e5b",
   "metadata": {},
   "outputs": [
    {
     "data": {
      "text/plain": [
       "4446205760"
      ]
     },
     "execution_count": 229,
     "metadata": {},
     "output_type": "execute_result"
    }
   ],
   "source": [
    "id(add_one())"
   ]
  },
  {
   "cell_type": "code",
   "execution_count": 230,
   "id": "8153f9da",
   "metadata": {},
   "outputs": [
    {
     "data": {
      "text/plain": [
       "4452363264"
      ]
     },
     "execution_count": 230,
     "metadata": {},
     "output_type": "execute_result"
    }
   ],
   "source": [
    "id(add_one())"
   ]
  },
  {
   "cell_type": "code",
   "execution_count": 238,
   "id": "9d387289",
   "metadata": {},
   "outputs": [],
   "source": [
    "def add_one(x=[]):\n",
    "    x.append(1)\n",
    "    return x"
   ]
  },
  {
   "cell_type": "code",
   "execution_count": 239,
   "id": "3cc8a047",
   "metadata": {},
   "outputs": [
    {
     "data": {
      "text/plain": [
       "[10, 20, 30, 1]"
      ]
     },
     "execution_count": 239,
     "metadata": {},
     "output_type": "execute_result"
    }
   ],
   "source": [
    "# parameters: x\n",
    "# arguments: [10, 20, 30]\n",
    "\n",
    "add_one([10, 20, 30])"
   ]
  },
  {
   "cell_type": "code",
   "execution_count": 240,
   "id": "ad3ff836",
   "metadata": {},
   "outputs": [
    {
     "data": {
      "text/plain": [
       "[1]"
      ]
     },
     "execution_count": 240,
     "metadata": {},
     "output_type": "execute_result"
    }
   ],
   "source": [
    "# parameters: x\n",
    "# arguments: []\n",
    "\n",
    "add_one()"
   ]
  },
  {
   "cell_type": "code",
   "execution_count": 241,
   "id": "7cda2501",
   "metadata": {},
   "outputs": [
    {
     "data": {
      "text/plain": [
       "[100, 200, 300, 1]"
      ]
     },
     "execution_count": 241,
     "metadata": {},
     "output_type": "execute_result"
    }
   ],
   "source": [
    "# parameters: x\n",
    "# arguments: [100, 200, 300]\n",
    "\n",
    "add_one([100, 200, 300])"
   ]
  },
  {
   "cell_type": "code",
   "execution_count": 242,
   "id": "65d0731b",
   "metadata": {},
   "outputs": [
    {
     "data": {
      "text/plain": [
       "[1, 1]"
      ]
     },
     "execution_count": 242,
     "metadata": {},
     "output_type": "execute_result"
    }
   ],
   "source": [
    "# parameters: x\n",
    "# arguments: [1]\n",
    "add_one()"
   ]
  },
  {
   "cell_type": "code",
   "execution_count": 243,
   "id": "d224c32e",
   "metadata": {},
   "outputs": [
    {
     "data": {
      "text/plain": [
       "([1, 1],)"
      ]
     },
     "execution_count": 243,
     "metadata": {},
     "output_type": "execute_result"
    }
   ],
   "source": [
    "add_one.__defaults__"
   ]
  },
  {
   "cell_type": "code",
   "execution_count": 251,
   "id": "eb511ddd",
   "metadata": {},
   "outputs": [],
   "source": [
    "def add_one(x=[]):\n",
    "    x.append(1)\n",
    "    return x"
   ]
  },
  {
   "cell_type": "code",
   "execution_count": 252,
   "id": "1847469b",
   "metadata": {},
   "outputs": [
    {
     "data": {
      "text/plain": [
       "([],)"
      ]
     },
     "execution_count": 252,
     "metadata": {},
     "output_type": "execute_result"
    }
   ],
   "source": [
    "add_one.__defaults__"
   ]
  },
  {
   "cell_type": "code",
   "execution_count": 253,
   "id": "145cafcb",
   "metadata": {},
   "outputs": [],
   "source": [
    "add_one.__defaults__[0].append(55)"
   ]
  },
  {
   "cell_type": "code",
   "execution_count": 254,
   "id": "42560ea5",
   "metadata": {},
   "outputs": [
    {
     "data": {
      "text/plain": [
       "([55],)"
      ]
     },
     "execution_count": 254,
     "metadata": {},
     "output_type": "execute_result"
    }
   ],
   "source": [
    "add_one.__defaults__"
   ]
  },
  {
   "cell_type": "code",
   "execution_count": 255,
   "id": "dd8b74ef",
   "metadata": {},
   "outputs": [],
   "source": [
    "add_one.__defaults__[0].append(66)"
   ]
  },
  {
   "cell_type": "code",
   "execution_count": 256,
   "id": "a8d84e90",
   "metadata": {},
   "outputs": [
    {
     "data": {
      "text/plain": [
       "([55, 66],)"
      ]
     },
     "execution_count": 256,
     "metadata": {},
     "output_type": "execute_result"
    }
   ],
   "source": [
    "add_one.__defaults__"
   ]
  },
  {
   "cell_type": "code",
   "execution_count": 257,
   "id": "b287a3be",
   "metadata": {},
   "outputs": [],
   "source": [
    "add_one.__defaults__[0].append(77)"
   ]
  },
  {
   "cell_type": "code",
   "execution_count": 258,
   "id": "46bc33e3",
   "metadata": {},
   "outputs": [
    {
     "data": {
      "text/plain": [
       "([55, 66, 77],)"
      ]
     },
     "execution_count": 258,
     "metadata": {},
     "output_type": "execute_result"
    }
   ],
   "source": [
    "add_one.__defaults__"
   ]
  },
  {
   "cell_type": "code",
   "execution_count": 259,
   "id": "cc5b2158",
   "metadata": {},
   "outputs": [
    {
     "data": {
      "text/plain": [
       "[55, 66, 77, 1]"
      ]
     },
     "execution_count": 259,
     "metadata": {},
     "output_type": "execute_result"
    }
   ],
   "source": [
    "# parameters: x\n",
    "# arguments: [55, 66, 77]\n",
    "\n",
    "add_one()"
   ]
  },
  {
   "cell_type": "code",
   "execution_count": 260,
   "id": "1643089c",
   "metadata": {},
   "outputs": [
    {
     "data": {
      "text/plain": [
       "([55, 66, 77, 1],)"
      ]
     },
     "execution_count": 260,
     "metadata": {},
     "output_type": "execute_result"
    }
   ],
   "source": [
    "add_one.__defaults__"
   ]
  },
  {
   "cell_type": "code",
   "execution_count": 261,
   "id": "4060089d",
   "metadata": {},
   "outputs": [],
   "source": [
    "add_one.__defaults__ = ([],)"
   ]
  },
  {
   "cell_type": "code",
   "execution_count": 262,
   "id": "4c5166b7",
   "metadata": {},
   "outputs": [
    {
     "ename": "AttributeError",
     "evalue": "'tuple' object has no attribute 'append'",
     "output_type": "error",
     "traceback": [
      "\u001b[0;31m---------------------------------------------------------------------------\u001b[0m",
      "\u001b[0;31mAttributeError\u001b[0m                            Traceback (most recent call last)",
      "\u001b[0;32m/var/folders/rr/0mnyyv811fs5vyp22gf4fxk00000gn/T/ipykernel_200/3109563930.py\u001b[0m in \u001b[0;36m<module>\u001b[0;34m\u001b[0m\n\u001b[0;32m----> 1\u001b[0;31m \u001b[0madd_one\u001b[0m\u001b[0;34m(\u001b[0m\u001b[0;34m(\u001b[0m\u001b[0;36m10\u001b[0m\u001b[0;34m,\u001b[0m \u001b[0;36m20\u001b[0m\u001b[0;34m,\u001b[0m \u001b[0;36m30\u001b[0m\u001b[0;34m)\u001b[0m\u001b[0;34m)\u001b[0m\u001b[0;34m\u001b[0m\u001b[0;34m\u001b[0m\u001b[0m\n\u001b[0m",
      "\u001b[0;32m/var/folders/rr/0mnyyv811fs5vyp22gf4fxk00000gn/T/ipykernel_200/966100987.py\u001b[0m in \u001b[0;36madd_one\u001b[0;34m(x)\u001b[0m\n\u001b[1;32m      1\u001b[0m \u001b[0;32mdef\u001b[0m \u001b[0madd_one\u001b[0m\u001b[0;34m(\u001b[0m\u001b[0mx\u001b[0m\u001b[0;34m=\u001b[0m\u001b[0;34m[\u001b[0m\u001b[0;34m]\u001b[0m\u001b[0;34m)\u001b[0m\u001b[0;34m:\u001b[0m\u001b[0;34m\u001b[0m\u001b[0;34m\u001b[0m\u001b[0m\n\u001b[0;32m----> 2\u001b[0;31m     \u001b[0mx\u001b[0m\u001b[0;34m.\u001b[0m\u001b[0mappend\u001b[0m\u001b[0;34m(\u001b[0m\u001b[0;36m1\u001b[0m\u001b[0;34m)\u001b[0m\u001b[0;34m\u001b[0m\u001b[0;34m\u001b[0m\u001b[0m\n\u001b[0m\u001b[1;32m      3\u001b[0m     \u001b[0;32mreturn\u001b[0m \u001b[0mx\u001b[0m\u001b[0;34m\u001b[0m\u001b[0;34m\u001b[0m\u001b[0m\n",
      "\u001b[0;31mAttributeError\u001b[0m: 'tuple' object has no attribute 'append'"
     ]
    }
   ],
   "source": [
    "add_one((10, 20, 30))"
   ]
  },
  {
   "cell_type": "code",
   "execution_count": 265,
   "id": "472a050c",
   "metadata": {},
   "outputs": [],
   "source": [
    "def add_one(x=()):\n",
    "    x = list(x)\n",
    "    x.append(1)\n",
    "    return x"
   ]
  },
  {
   "cell_type": "code",
   "execution_count": 266,
   "id": "738e6a95",
   "metadata": {},
   "outputs": [
    {
     "data": {
      "text/plain": [
       "[10, 20, 30, 40, 1]"
      ]
     },
     "execution_count": 266,
     "metadata": {},
     "output_type": "execute_result"
    }
   ],
   "source": [
    "add_one([10, 20, 30, 40])"
   ]
  },
  {
   "cell_type": "code",
   "execution_count": null,
   "id": "28a645a7",
   "metadata": {},
   "outputs": [],
   "source": []
  },
  {
   "cell_type": "markdown",
   "id": "f9a747ae",
   "metadata": {},
   "source": [
    "# Parameters\n",
    "\n",
    "1. Mandatory parameters (can accept positional or keyword arguments)\n",
    "2. Optional parameters (can accept positional or keyword arguments), with default values in `__defaults__`\n",
    "3. `*args`"
   ]
  },
  {
   "cell_type": "code",
   "execution_count": 267,
   "id": "d5c13fee",
   "metadata": {},
   "outputs": [],
   "source": [
    "def mysum(numbers):\n",
    "    total = 0\n",
    "    \n",
    "    for one_number in numbers:\n",
    "        total += one_number\n",
    "        \n",
    "    return total"
   ]
  },
  {
   "cell_type": "code",
   "execution_count": 269,
   "id": "f518a293",
   "metadata": {},
   "outputs": [
    {
     "data": {
      "text/plain": [
       "60"
      ]
     },
     "execution_count": 269,
     "metadata": {},
     "output_type": "execute_result"
    }
   ],
   "source": [
    "# parameters: numbers\n",
    "# arguments: [10, 20, 30]\n",
    "\n",
    "mysum([10, 20, 30])"
   ]
  },
  {
   "cell_type": "code",
   "execution_count": 270,
   "id": "da507124",
   "metadata": {},
   "outputs": [
    {
     "ename": "TypeError",
     "evalue": "mysum() takes 1 positional argument but 3 were given",
     "output_type": "error",
     "traceback": [
      "\u001b[0;31m---------------------------------------------------------------------------\u001b[0m",
      "\u001b[0;31mTypeError\u001b[0m                                 Traceback (most recent call last)",
      "\u001b[0;32m/var/folders/rr/0mnyyv811fs5vyp22gf4fxk00000gn/T/ipykernel_200/1367105100.py\u001b[0m in \u001b[0;36m<module>\u001b[0;34m\u001b[0m\n\u001b[0;32m----> 1\u001b[0;31m \u001b[0mmysum\u001b[0m\u001b[0;34m(\u001b[0m\u001b[0;36m10\u001b[0m\u001b[0;34m,\u001b[0m \u001b[0;36m20\u001b[0m\u001b[0;34m,\u001b[0m \u001b[0;36m30\u001b[0m\u001b[0;34m)\u001b[0m\u001b[0;34m\u001b[0m\u001b[0;34m\u001b[0m\u001b[0m\n\u001b[0m",
      "\u001b[0;31mTypeError\u001b[0m: mysum() takes 1 positional argument but 3 were given"
     ]
    }
   ],
   "source": [
    "mysum(10, 20, 30)"
   ]
  },
  {
   "cell_type": "code",
   "execution_count": 273,
   "id": "9a1f77f3",
   "metadata": {},
   "outputs": [],
   "source": [
    "# *numbers == numbers will be a tuple, with all positional arguments uncaught by other parameters\n",
    "\n",
    "def mysum(*numbers):\n",
    "    print(f'{numbers=}')\n",
    "    total = 0\n",
    "    \n",
    "    for one_number in numbers:\n",
    "        total += one_number\n",
    "        \n",
    "    return total"
   ]
  },
  {
   "cell_type": "code",
   "execution_count": 274,
   "id": "302a7cb0",
   "metadata": {},
   "outputs": [
    {
     "name": "stdout",
     "output_type": "stream",
     "text": [
      "numbers=(10, 20, 30, 40, 50)\n"
     ]
    },
    {
     "data": {
      "text/plain": [
       "150"
      ]
     },
     "execution_count": 274,
     "metadata": {},
     "output_type": "execute_result"
    }
   ],
   "source": [
    "mysum(10, 20, 30, 40, 50)"
   ]
  },
  {
   "cell_type": "code",
   "execution_count": 276,
   "id": "7bcce09a",
   "metadata": {},
   "outputs": [
    {
     "data": {
      "text/plain": [
       "0"
      ]
     },
     "execution_count": 276,
     "metadata": {},
     "output_type": "execute_result"
    }
   ],
   "source": [
    "mysum.__code__.co_argcount"
   ]
  },
  {
   "cell_type": "code",
   "execution_count": 277,
   "id": "d6267401",
   "metadata": {},
   "outputs": [
    {
     "data": {
      "text/plain": [
       "('numbers', 'total', 'one_number')"
      ]
     },
     "execution_count": 277,
     "metadata": {},
     "output_type": "execute_result"
    }
   ],
   "source": [
    "mysum.__code__.co_varnames"
   ]
  },
  {
   "cell_type": "code",
   "execution_count": 279,
   "id": "a437df5d",
   "metadata": {},
   "outputs": [
    {
     "data": {
      "text/plain": [
       "71"
      ]
     },
     "execution_count": 279,
     "metadata": {},
     "output_type": "execute_result"
    }
   ],
   "source": [
    "mysum.__code__.co_flags   # bitflags that tell Python what to do\n"
   ]
  },
  {
   "cell_type": "code",
   "execution_count": 280,
   "id": "9d4592e9",
   "metadata": {},
   "outputs": [
    {
     "data": {
      "text/plain": [
       "'0b1000111'"
      ]
     },
     "execution_count": 280,
     "metadata": {},
     "output_type": "execute_result"
    }
   ],
   "source": [
    "bin(mysum.__code__.co_flags)"
   ]
  },
  {
   "cell_type": "code",
   "execution_count": 281,
   "id": "d892eaf1",
   "metadata": {},
   "outputs": [
    {
     "name": "stdout",
     "output_type": "stream",
     "text": [
      "Name:              mysum\n",
      "Filename:          /var/folders/rr/0mnyyv811fs5vyp22gf4fxk00000gn/T/ipykernel_200/2315407093.py\n",
      "Argument count:    0\n",
      "Positional-only arguments: 0\n",
      "Kw-only arguments: 0\n",
      "Number of locals:  3\n",
      "Stack size:        3\n",
      "Flags:             OPTIMIZED, NEWLOCALS, VARARGS, NOFREE\n",
      "Constants:\n",
      "   0: None\n",
      "   1: 'numbers='\n",
      "   2: 0\n",
      "Names:\n",
      "   0: print\n",
      "Variable names:\n",
      "   0: numbers\n",
      "   1: total\n",
      "   2: one_number\n"
     ]
    }
   ],
   "source": [
    "dis.show_code(mysum)"
   ]
  },
  {
   "cell_type": "code",
   "execution_count": 282,
   "id": "2eed781d",
   "metadata": {},
   "outputs": [
    {
     "name": "stdout",
     "output_type": "stream",
     "text": [
      "  4           0 LOAD_GLOBAL              0 (print)\n",
      "              2 LOAD_CONST               1 ('numbers=')\n",
      "              4 LOAD_FAST                0 (numbers)\n",
      "              6 FORMAT_VALUE             2 (repr)\n",
      "              8 BUILD_STRING             2\n",
      "             10 CALL_FUNCTION            1\n",
      "             12 POP_TOP\n",
      "\n",
      "  5          14 LOAD_CONST               2 (0)\n",
      "             16 STORE_FAST               1 (total)\n",
      "\n",
      "  7          18 LOAD_FAST                0 (numbers)\n",
      "             20 GET_ITER\n",
      "        >>   22 FOR_ITER                 6 (to 36)\n",
      "             24 STORE_FAST               2 (one_number)\n",
      "\n",
      "  8          26 LOAD_FAST                1 (total)\n",
      "             28 LOAD_FAST                2 (one_number)\n",
      "             30 INPLACE_ADD\n",
      "             32 STORE_FAST               1 (total)\n",
      "             34 JUMP_ABSOLUTE           11 (to 22)\n",
      "\n",
      " 10     >>   36 LOAD_FAST                1 (total)\n",
      "             38 RETURN_VALUE\n"
     ]
    }
   ],
   "source": [
    "dis.dis(mysum)"
   ]
  },
  {
   "cell_type": "code",
   "execution_count": 283,
   "id": "daf392ee",
   "metadata": {},
   "outputs": [],
   "source": [
    "def myfunc(a, b, *args):\n",
    "    return f'{a=}, {b=}, {args=}'"
   ]
  },
  {
   "cell_type": "code",
   "execution_count": 284,
   "id": "e4a58e12",
   "metadata": {},
   "outputs": [
    {
     "data": {
      "text/plain": [
       "'a=10, b=20, args=(30, 40, 50)'"
      ]
     },
     "execution_count": 284,
     "metadata": {},
     "output_type": "execute_result"
    }
   ],
   "source": [
    "myfunc(10, 20, 30, 40, 50)"
   ]
  },
  {
   "cell_type": "code",
   "execution_count": 285,
   "id": "be0b3cf7",
   "metadata": {},
   "outputs": [],
   "source": [
    "# what if I want b to have a default of 99?\n",
    "\n",
    "def myfunc(a, b=99, *args):\n",
    "    return f'{a=}, {b=}, {args=}'"
   ]
  },
  {
   "cell_type": "code",
   "execution_count": 286,
   "id": "f31cbdde",
   "metadata": {},
   "outputs": [
    {
     "data": {
      "text/plain": [
       "'a=10, b=20, args=(30, 40, 50)'"
      ]
     },
     "execution_count": 286,
     "metadata": {},
     "output_type": "execute_result"
    }
   ],
   "source": [
    "myfunc(10, 20, 30, 40, 50)"
   ]
  },
  {
   "cell_type": "code",
   "execution_count": 287,
   "id": "07ac5c0d",
   "metadata": {},
   "outputs": [],
   "source": [
    "# how can I call myfunc, giving an argument to a and args, but not b?"
   ]
  },
  {
   "cell_type": "code",
   "execution_count": 288,
   "id": "410bb254",
   "metadata": {},
   "outputs": [
    {
     "ename": "SyntaxError",
     "evalue": "invalid syntax (416794111.py, line 1)",
     "output_type": "error",
     "traceback": [
      "\u001b[0;36m  File \u001b[0;32m\"/var/folders/rr/0mnyyv811fs5vyp22gf4fxk00000gn/T/ipykernel_200/416794111.py\"\u001b[0;36m, line \u001b[0;32m1\u001b[0m\n\u001b[0;31m    myfunc(10, , 30, 40, 50)\u001b[0m\n\u001b[0m               ^\u001b[0m\n\u001b[0;31mSyntaxError\u001b[0m\u001b[0;31m:\u001b[0m invalid syntax\n"
     ]
    }
   ],
   "source": [
    "myfunc(10, , 30, 40, 50)"
   ]
  },
  {
   "cell_type": "code",
   "execution_count": null,
   "id": "74cf4ec4",
   "metadata": {},
   "outputs": [],
   "source": [
    "myfunc(10, args=(30, 40, 50))"
   ]
  },
  {
   "cell_type": "markdown",
   "id": "42282979",
   "metadata": {},
   "source": [
    "# Parameters\n",
    "\n",
    "1. Mandatory parameters (can accept positional or keyword arguments)\n",
    "2. Optional parameters (can accept positional or keyword arguments), with default values in `__defaults__`\n",
    "3. `*args`\n",
    "4. Mandatory keyword-only parameters\n",
    "5. Optional keyword-only parameters"
   ]
  },
  {
   "cell_type": "code",
   "execution_count": 289,
   "id": "61f34915",
   "metadata": {},
   "outputs": [],
   "source": [
    "def myfunc(a, *args, b=99):\n",
    "    return f'{a=}, {b=}, {args=}'"
   ]
  },
  {
   "cell_type": "code",
   "execution_count": 292,
   "id": "6d73bb92",
   "metadata": {},
   "outputs": [
    {
     "data": {
      "text/plain": [
       "'a=10, b=99, args=(20, 30, 40, 50)'"
      ]
     },
     "execution_count": 292,
     "metadata": {},
     "output_type": "execute_result"
    }
   ],
   "source": [
    "# parameters:  a   args                 b\n",
    "# arguments:   10  (20, 30, 40, 50)    99\n",
    "\n",
    "myfunc(10, 20, 30, 40, 50)"
   ]
  },
  {
   "cell_type": "code",
   "execution_count": 293,
   "id": "acb28d48",
   "metadata": {},
   "outputs": [],
   "source": [
    "def myfunc(a, *args, b):\n",
    "    return f'{a=}, {b=}, {args=}'"
   ]
  },
  {
   "cell_type": "code",
   "execution_count": 295,
   "id": "2984f4e6",
   "metadata": {},
   "outputs": [
    {
     "data": {
      "text/plain": [
       "'a=10, b=88, args=(20, 30, 40, 50)'"
      ]
     },
     "execution_count": 295,
     "metadata": {},
     "output_type": "execute_result"
    }
   ],
   "source": [
    "myfunc(10, 20, 30, 40, 50, b=88)"
   ]
  },
  {
   "cell_type": "code",
   "execution_count": 296,
   "id": "39845412",
   "metadata": {},
   "outputs": [
    {
     "name": "stdout",
     "output_type": "stream",
     "text": [
      "Name:              myfunc\n",
      "Filename:          /var/folders/rr/0mnyyv811fs5vyp22gf4fxk00000gn/T/ipykernel_200/2447674701.py\n",
      "Argument count:    1\n",
      "Positional-only arguments: 0\n",
      "Kw-only arguments: 1\n",
      "Number of locals:  3\n",
      "Stack size:        6\n",
      "Flags:             OPTIMIZED, NEWLOCALS, VARARGS, NOFREE\n",
      "Constants:\n",
      "   0: None\n",
      "   1: 'a='\n",
      "   2: ', b='\n",
      "   3: ', args='\n",
      "Variable names:\n",
      "   0: a\n",
      "   1: b\n",
      "   2: args\n"
     ]
    }
   ],
   "source": [
    "dis.show_code(myfunc)"
   ]
  },
  {
   "cell_type": "code",
   "execution_count": 298,
   "id": "238d0046",
   "metadata": {},
   "outputs": [
    {
     "data": {
      "text/plain": [
       "1"
      ]
     },
     "execution_count": 298,
     "metadata": {},
     "output_type": "execute_result"
    }
   ],
   "source": [
    "myfunc.__code__.co_kwonlyargcount"
   ]
  },
  {
   "cell_type": "code",
   "execution_count": 299,
   "id": "47a3d643",
   "metadata": {},
   "outputs": [],
   "source": [
    "# I want b to be keyword only\n",
    "# I don't want *args\n",
    "# How?\n",
    "\n",
    "def myfunc(a, b):\n",
    "    return f'{a=}, {b=}'"
   ]
  },
  {
   "cell_type": "code",
   "execution_count": 300,
   "id": "26b2b518",
   "metadata": {},
   "outputs": [
    {
     "data": {
      "text/plain": [
       "'a=10, b=20'"
      ]
     },
     "execution_count": 300,
     "metadata": {},
     "output_type": "execute_result"
    }
   ],
   "source": [
    "myfunc(10, 20)"
   ]
  },
  {
   "cell_type": "code",
   "execution_count": 301,
   "id": "0e5bb41b",
   "metadata": {},
   "outputs": [],
   "source": [
    "# If you don't have *args in your function, just use *\n",
    "# * by itself doesn't define *args, but does start keyword-only parameters\n",
    "def myfunc(a, *, b):\n",
    "    return f'{a=}, {b=}'"
   ]
  },
  {
   "cell_type": "code",
   "execution_count": null,
   "id": "3cd7cec8",
   "metadata": {},
   "outputs": [],
   "source": []
  },
  {
   "cell_type": "markdown",
   "id": "20f004ec",
   "metadata": {},
   "source": [
    "# Parameters\n",
    "\n",
    "1. Mandatory parameters (can accept positional or keyword arguments)\n",
    "2. Optional parameters (can accept positional or keyword arguments), with default values in `__defaults__`\n",
    "3. `*args`\n",
    "4. Mandatory keyword-only parameters\n",
    "5. Optional keyword-only parameters"
   ]
  },
  {
   "cell_type": "markdown",
   "id": "bdb5bc35",
   "metadata": {},
   "source": [
    "# Exercise: `all_lines`\n",
    "\n",
    "1. This function "
   ]
  }
 ],
 "metadata": {
  "kernelspec": {
   "display_name": "Python 3 (ipykernel)",
   "language": "python",
   "name": "python3"
  },
  "language_info": {
   "codemirror_mode": {
    "name": "ipython",
    "version": 3
   },
   "file_extension": ".py",
   "mimetype": "text/x-python",
   "name": "python",
   "nbconvert_exporter": "python",
   "pygments_lexer": "ipython3",
   "version": "3.10.5"
  }
 },
 "nbformat": 4,
 "nbformat_minor": 5
}

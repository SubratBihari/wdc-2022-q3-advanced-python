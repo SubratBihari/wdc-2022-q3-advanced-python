{
 "cells": [
  {
   "cell_type": "markdown",
   "id": "441b2c59",
   "metadata": {},
   "source": [
    "# Agenda\n",
    "\n",
    "1. How dictionaries work\n",
    "2. Dictionary variants\n",
    "3. Functions\n",
    "     - Function objects\n",
    "     - Arguments and parameters"
   ]
  },
  {
   "cell_type": "code",
   "execution_count": null,
   "id": "3abddefc",
   "metadata": {},
   "outputs": [],
   "source": [
    "for VARIABLE in OBJECT:\n",
    "    BODY"
   ]
  },
  {
   "cell_type": "code",
   "execution_count": 1,
   "id": "32d62c3a",
   "metadata": {},
   "outputs": [
    {
     "name": "stdout",
     "output_type": "stream",
     "text": [
      "a\n",
      "b\n",
      "c\n",
      "d\n"
     ]
    }
   ],
   "source": [
    "d1 = {'a':1, 'b':2, 'c':3}\n",
    "d2 = {'b':3, 'c':4, 'd':5}\n",
    "\n",
    "for one_item in d1 | d2:  \n",
    "    print(one_item)"
   ]
  },
  {
   "cell_type": "code",
   "execution_count": 2,
   "id": "712025bb",
   "metadata": {},
   "outputs": [
    {
     "name": "stdout",
     "output_type": "stream",
     "text": [
      "('a', 1)\n",
      "('b', 3)\n",
      "('c', 4)\n",
      "('d', 5)\n"
     ]
    }
   ],
   "source": [
    "for one_item in (d1 | d2).items():  \n",
    "    print(one_item)"
   ]
  },
  {
   "cell_type": "code",
   "execution_count": 3,
   "id": "5d048908",
   "metadata": {},
   "outputs": [
    {
     "name": "stdout",
     "output_type": "stream",
     "text": [
      "('b', 2)\n",
      "('c', 3)\n",
      "('d', 5)\n",
      "('a', 1)\n"
     ]
    }
   ],
   "source": [
    "for one_item in (d2 | d1).items():  \n",
    "    print(one_item)"
   ]
  },
  {
   "cell_type": "code",
   "execution_count": 4,
   "id": "4ac16f16",
   "metadata": {},
   "outputs": [],
   "source": [
    "d = {'c':100, 'b':200, 'd':300, 'a':400, 'e':500}"
   ]
  },
  {
   "cell_type": "code",
   "execution_count": 5,
   "id": "3582b22b",
   "metadata": {},
   "outputs": [
    {
     "data": {
      "text/plain": [
       "dict_keys(['c', 'b', 'd', 'a', 'e'])"
      ]
     },
     "execution_count": 5,
     "metadata": {},
     "output_type": "execute_result"
    }
   ],
   "source": [
    "d.keys()"
   ]
  },
  {
   "cell_type": "code",
   "execution_count": 6,
   "id": "972242cb",
   "metadata": {},
   "outputs": [
    {
     "data": {
      "text/plain": [
       "dict_keys(['c', 'b', 'd', 'a', 'e', 'g', 'f'])"
      ]
     },
     "execution_count": 6,
     "metadata": {},
     "output_type": "execute_result"
    }
   ],
   "source": [
    "d['g'] = 600\n",
    "d['f'] = 700\n",
    "\n",
    "d.keys()"
   ]
  },
  {
   "cell_type": "code",
   "execution_count": 9,
   "id": "b5b98a66",
   "metadata": {},
   "outputs": [
    {
     "data": {
      "text/plain": [
       "['f', 'b', 'g', 'd', 'e', 'a', 'c']"
      ]
     },
     "execution_count": 9,
     "metadata": {},
     "output_type": "execute_result"
    }
   ],
   "source": [
    "list(set(d.keys()))"
   ]
  },
  {
   "cell_type": "code",
   "execution_count": 10,
   "id": "7664a742",
   "metadata": {},
   "outputs": [
    {
     "data": {
      "text/plain": [
       "{'a': 1, 'b': 3, 'c': 4, 'd': 5}"
      ]
     },
     "execution_count": 10,
     "metadata": {},
     "output_type": "execute_result"
    }
   ],
   "source": [
    "d1 | d2"
   ]
  },
  {
   "cell_type": "code",
   "execution_count": 12,
   "id": "4809b30c",
   "metadata": {},
   "outputs": [
    {
     "data": {
      "text/plain": [
       "['a', 'c', 'd', 'b']"
      ]
     },
     "execution_count": 12,
     "metadata": {},
     "output_type": "execute_result"
    }
   ],
   "source": [
    "list(d1.keys() | d2.keys())"
   ]
  },
  {
   "cell_type": "code",
   "execution_count": 13,
   "id": "5b92d0b2",
   "metadata": {},
   "outputs": [
    {
     "data": {
      "text/plain": [
       "{'a': 1, 'b': 3, 'c': 4, 'd': 5}"
      ]
     },
     "execution_count": 13,
     "metadata": {},
     "output_type": "execute_result"
    }
   ],
   "source": [
    "d1 | d2"
   ]
  },
  {
   "cell_type": "code",
   "execution_count": 16,
   "id": "a0323c76",
   "metadata": {},
   "outputs": [
    {
     "data": {
      "text/plain": [
       "['a', 'c', 'd', 'b']"
      ]
     },
     "execution_count": 16,
     "metadata": {},
     "output_type": "execute_result"
    }
   ],
   "source": [
    "list(d1.keys() | d2.keys())"
   ]
  },
  {
   "cell_type": "code",
   "execution_count": 17,
   "id": "2d6b8601",
   "metadata": {},
   "outputs": [
    {
     "data": {
      "text/plain": [
       "['a', 'c', 'd', 'b']"
      ]
     },
     "execution_count": 17,
     "metadata": {},
     "output_type": "execute_result"
    }
   ],
   "source": [
    "d1 = {'a':1, 'b':2, 'c':3}\n",
    "d2 = {'b':3, 'c':4, 'd':5}\n",
    "\n",
    "list(d1.keys() | d2.keys())"
   ]
  },
  {
   "cell_type": "code",
   "execution_count": 18,
   "id": "1498b937",
   "metadata": {},
   "outputs": [
    {
     "data": {
      "text/plain": [
       "{'a', 'b', 'c', 'd'}"
      ]
     },
     "execution_count": 18,
     "metadata": {},
     "output_type": "execute_result"
    }
   ],
   "source": [
    "d1.keys() | d2.keys()    # sets are ordered when displayed in Jupyter"
   ]
  },
  {
   "cell_type": "code",
   "execution_count": 19,
   "id": "fd9d88e3",
   "metadata": {},
   "outputs": [
    {
     "name": "stdout",
     "output_type": "stream",
     "text": [
      "a\n",
      "c\n",
      "d\n",
      "b\n"
     ]
    }
   ],
   "source": [
    "for one_item in (d1.keys() | d2.keys()):   #but sets have a different internal order we can see via \"for\"\n",
    "    print(one_item)"
   ]
  },
  {
   "cell_type": "code",
   "execution_count": 20,
   "id": "422d3faf",
   "metadata": {},
   "outputs": [
    {
     "data": {
      "text/plain": [
       "['a', 'c', 'd', 'b']"
      ]
     },
     "execution_count": 20,
     "metadata": {},
     "output_type": "execute_result"
    }
   ],
   "source": [
    "list(d1.keys()|d2.keys())"
   ]
  },
  {
   "cell_type": "code",
   "execution_count": 21,
   "id": "550101b9",
   "metadata": {},
   "outputs": [],
   "source": [
    "d1 = {'a':1, 'b':2, 'c':3}\n",
    "d2 = {'b':3, 'c':4, 'd':5}\n"
   ]
  },
  {
   "cell_type": "code",
   "execution_count": 22,
   "id": "c1a350e6",
   "metadata": {},
   "outputs": [
    {
     "data": {
      "text/plain": [
       "{'a': 1, 'b': 2, 'c': 3}"
      ]
     },
     "execution_count": 22,
     "metadata": {},
     "output_type": "execute_result"
    }
   ],
   "source": [
    "d1"
   ]
  },
  {
   "cell_type": "code",
   "execution_count": 24,
   "id": "af443be2",
   "metadata": {},
   "outputs": [
    {
     "data": {
      "text/plain": [
       "{'a': 1, 'b': 100, 'c': 3}"
      ]
     },
     "execution_count": 24,
     "metadata": {},
     "output_type": "execute_result"
    }
   ],
   "source": [
    "d1['b'] = 100\n",
    "d1"
   ]
  },
  {
   "cell_type": "code",
   "execution_count": 25,
   "id": "8d03832f",
   "metadata": {},
   "outputs": [
    {
     "data": {
      "text/plain": [
       "{'a': 1, 'b': 3, 'c': 4, 'd': 5}"
      ]
     },
     "execution_count": 25,
     "metadata": {},
     "output_type": "execute_result"
    }
   ],
   "source": [
    "d1 = {'a':1, 'b':2, 'c':3}\n",
    "d2 = {'b':3, 'c':4, 'd':5}\n",
    "\n",
    "d1 | d2    "
   ]
  },
  {
   "cell_type": "code",
   "execution_count": 28,
   "id": "9f72acc7",
   "metadata": {},
   "outputs": [],
   "source": [
    "# rewrite of the above\n",
    "\n",
    "def my_dict_union(d1, d2):\n",
    "    output = d1.copy()\n",
    "    \n",
    "    for key, value in d2.items():\n",
    "        output[key] = value\n",
    "        \n",
    "    return output\n",
    "        "
   ]
  },
  {
   "cell_type": "code",
   "execution_count": 29,
   "id": "a5b9d74e",
   "metadata": {},
   "outputs": [
    {
     "data": {
      "text/plain": [
       "{'a': 1, 'b': 3, 'c': 4, 'd': 5}"
      ]
     },
     "execution_count": 29,
     "metadata": {},
     "output_type": "execute_result"
    }
   ],
   "source": [
    "my_dict_union(d1, d2)"
   ]
  },
  {
   "cell_type": "code",
   "execution_count": 30,
   "id": "9448aa90",
   "metadata": {},
   "outputs": [
    {
     "data": {
      "text/plain": [
       "dict_keys"
      ]
     },
     "execution_count": 30,
     "metadata": {},
     "output_type": "execute_result"
    }
   ],
   "source": [
    "type(d1.keys())"
   ]
  },
  {
   "cell_type": "code",
   "execution_count": 31,
   "id": "0a865edf",
   "metadata": {},
   "outputs": [
    {
     "data": {
      "text/plain": [
       "set"
      ]
     },
     "execution_count": 31,
     "metadata": {},
     "output_type": "execute_result"
    }
   ],
   "source": [
    "type(d1.keys() | d2.keys())"
   ]
  },
  {
   "cell_type": "code",
   "execution_count": 34,
   "id": "9432ae1a",
   "metadata": {},
   "outputs": [
    {
     "data": {
      "text/plain": [
       "{'a', 'b', 'c', 'd'}"
      ]
     },
     "execution_count": 34,
     "metadata": {},
     "output_type": "execute_result"
    }
   ],
   "source": [
    "d1.keys().__ror__(d2.keys())"
   ]
  },
  {
   "cell_type": "raw",
   "id": "171f6733",
   "metadata": {},
   "source": [
    "Python 2 dict  (through Python 3.5)\n",
    "\n",
    "a new dict creates a 2-column table with 8 rows\n",
    "\n",
    "     key     value\n",
    "0     'a'      10\n",
    "1     'i'      100\n",
    "2     'c'     30\n",
    "3     'b'       20\n",
    "4\n",
    "5\n",
    "6\n",
    "7\n"
   ]
  },
  {
   "cell_type": "raw",
   "id": "b433e8cd",
   "metadata": {},
   "source": [
    "Python 3 dict (starting with Python 3.6)\n",
    "\n",
    "Two data structures behind the scene: (1) table and (2) array\n",
    "\n",
    "Table\n",
    "\n",
    "index    key    value\n",
    "---------------------\n",
    "  0      'a'      100\n",
    "  1      'b'      200\n",
    "  2      'c'      300\n",
    "\n",
    "Array\n",
    "\n",
    "[None,None,0,None,None,1,2,None]"
   ]
  },
  {
   "cell_type": "code",
   "execution_count": 35,
   "id": "0b0f1869",
   "metadata": {},
   "outputs": [],
   "source": [
    "d = {}"
   ]
  },
  {
   "cell_type": "code",
   "execution_count": 36,
   "id": "e1abbde2",
   "metadata": {},
   "outputs": [],
   "source": [
    "d['a'] = 100"
   ]
  },
  {
   "cell_type": "code",
   "execution_count": 37,
   "id": "2486caad",
   "metadata": {},
   "outputs": [
    {
     "data": {
      "text/plain": [
       "2"
      ]
     },
     "execution_count": 37,
     "metadata": {},
     "output_type": "execute_result"
    }
   ],
   "source": [
    "hash('a') % 8"
   ]
  },
  {
   "cell_type": "code",
   "execution_count": null,
   "id": "ee253b3e",
   "metadata": {},
   "outputs": [],
   "source": [
    "'a' in d"
   ]
  },
  {
   "cell_type": "code",
   "execution_count": 38,
   "id": "8973b8bf",
   "metadata": {},
   "outputs": [],
   "source": [
    "d['b'] = 200\n",
    "d['c'] = 300"
   ]
  },
  {
   "cell_type": "code",
   "execution_count": 39,
   "id": "3cd8d54d",
   "metadata": {},
   "outputs": [
    {
     "data": {
      "text/plain": [
       "5"
      ]
     },
     "execution_count": 39,
     "metadata": {},
     "output_type": "execute_result"
    }
   ],
   "source": [
    "hash('b') % 8"
   ]
  },
  {
   "cell_type": "code",
   "execution_count": 40,
   "id": "187a3b97",
   "metadata": {},
   "outputs": [
    {
     "data": {
      "text/plain": [
       "5"
      ]
     },
     "execution_count": 40,
     "metadata": {},
     "output_type": "execute_result"
    }
   ],
   "source": [
    "hash('c') % 8"
   ]
  },
  {
   "cell_type": "code",
   "execution_count": 41,
   "id": "768de7c1",
   "metadata": {},
   "outputs": [
    {
     "data": {
      "text/plain": [
       "True"
      ]
     },
     "execution_count": 41,
     "metadata": {},
     "output_type": "execute_result"
    }
   ],
   "source": [
    "'c' in d"
   ]
  },
  {
   "cell_type": "code",
   "execution_count": null,
   "id": "fbd6c586",
   "metadata": {},
   "outputs": [],
   "source": []
  }
 ],
 "metadata": {
  "kernelspec": {
   "display_name": "Python 3 (ipykernel)",
   "language": "python",
   "name": "python3"
  },
  "language_info": {
   "codemirror_mode": {
    "name": "ipython",
    "version": 3
   },
   "file_extension": ".py",
   "mimetype": "text/x-python",
   "name": "python",
   "nbconvert_exporter": "python",
   "pygments_lexer": "ipython3",
   "version": "3.10.5"
  }
 },
 "nbformat": 4,
 "nbformat_minor": 5
}

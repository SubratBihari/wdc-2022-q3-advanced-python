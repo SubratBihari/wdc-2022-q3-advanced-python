{
 "cells": [
  {
   "cell_type": "markdown",
   "id": "431a18fc",
   "metadata": {},
   "source": [
    "# Agenda\n",
    "\n",
    "1. How dictionaries work\n",
    "2. Dictionary variants\n",
    "3. Functions\n",
    "     - Function objects\n",
    "     - Arguments and parameters"
   ]
  },
  {
   "cell_type": "code",
   "execution_count": null,
   "id": "b8cc59af",
   "metadata": {},
   "outputs": [],
   "source": [
    "for VARIABLE in OBJECT:\n",
    "    BODY"
   ]
  },
  {
   "cell_type": "code",
   "execution_count": 1,
   "id": "1e26b656",
   "metadata": {},
   "outputs": [
    {
     "name": "stdout",
     "output_type": "stream",
     "text": [
      "a\n",
      "b\n",
      "c\n",
      "d\n"
     ]
    }
   ],
   "source": [
    "d1 = {'a':1, 'b':2, 'c':3}\n",
    "d2 = {'b':3, 'c':4, 'd':5}\n",
    "\n",
    "for one_item in d1 | d2:  \n",
    "    print(one_item)"
   ]
  },
  {
   "cell_type": "code",
   "execution_count": 2,
   "id": "6bd645a5",
   "metadata": {},
   "outputs": [
    {
     "name": "stdout",
     "output_type": "stream",
     "text": [
      "('a', 1)\n",
      "('b', 3)\n",
      "('c', 4)\n",
      "('d', 5)\n"
     ]
    }
   ],
   "source": [
    "for one_item in (d1 | d2).items():  \n",
    "    print(one_item)"
   ]
  },
  {
   "cell_type": "code",
   "execution_count": 3,
   "id": "8ace6f6e",
   "metadata": {},
   "outputs": [
    {
     "name": "stdout",
     "output_type": "stream",
     "text": [
      "('b', 2)\n",
      "('c', 3)\n",
      "('d', 5)\n",
      "('a', 1)\n"
     ]
    }
   ],
   "source": [
    "for one_item in (d2 | d1).items():  \n",
    "    print(one_item)"
   ]
  },
  {
   "cell_type": "code",
   "execution_count": 4,
   "id": "c4898698",
   "metadata": {},
   "outputs": [],
   "source": [
    "d = {'c':100, 'b':200, 'd':300, 'a':400, 'e':500}"
   ]
  },
  {
   "cell_type": "code",
   "execution_count": 5,
   "id": "88a96b33",
   "metadata": {},
   "outputs": [
    {
     "data": {
      "text/plain": [
       "dict_keys(['c', 'b', 'd', 'a', 'e'])"
      ]
     },
     "execution_count": 5,
     "metadata": {},
     "output_type": "execute_result"
    }
   ],
   "source": [
    "d.keys()"
   ]
  },
  {
   "cell_type": "code",
   "execution_count": 6,
   "id": "23b446f4",
   "metadata": {},
   "outputs": [
    {
     "data": {
      "text/plain": [
       "dict_keys(['c', 'b', 'd', 'a', 'e', 'g', 'f'])"
      ]
     },
     "execution_count": 6,
     "metadata": {},
     "output_type": "execute_result"
    }
   ],
   "source": [
    "d['g'] = 600\n",
    "d['f'] = 700\n",
    "\n",
    "d.keys()"
   ]
  },
  {
   "cell_type": "code",
   "execution_count": 9,
   "id": "0db7812e",
   "metadata": {},
   "outputs": [
    {
     "data": {
      "text/plain": [
       "['f', 'b', 'g', 'd', 'e', 'a', 'c']"
      ]
     },
     "execution_count": 9,
     "metadata": {},
     "output_type": "execute_result"
    }
   ],
   "source": [
    "list(set(d.keys()))"
   ]
  },
  {
   "cell_type": "code",
   "execution_count": 10,
   "id": "beeb1db5",
   "metadata": {},
   "outputs": [
    {
     "data": {
      "text/plain": [
       "{'a': 1, 'b': 3, 'c': 4, 'd': 5}"
      ]
     },
     "execution_count": 10,
     "metadata": {},
     "output_type": "execute_result"
    }
   ],
   "source": [
    "d1 | d2"
   ]
  },
  {
   "cell_type": "code",
   "execution_count": 12,
   "id": "b75f507c",
   "metadata": {},
   "outputs": [
    {
     "data": {
      "text/plain": [
       "['a', 'c', 'd', 'b']"
      ]
     },
     "execution_count": 12,
     "metadata": {},
     "output_type": "execute_result"
    }
   ],
   "source": [
    "list(d1.keys() | d2.keys())"
   ]
  },
  {
   "cell_type": "code",
   "execution_count": 13,
   "id": "5f224547",
   "metadata": {},
   "outputs": [
    {
     "data": {
      "text/plain": [
       "{'a': 1, 'b': 3, 'c': 4, 'd': 5}"
      ]
     },
     "execution_count": 13,
     "metadata": {},
     "output_type": "execute_result"
    }
   ],
   "source": [
    "d1 | d2"
   ]
  },
  {
   "cell_type": "code",
   "execution_count": 16,
   "id": "9d9cda6d",
   "metadata": {},
   "outputs": [
    {
     "data": {
      "text/plain": [
       "['a', 'c', 'd', 'b']"
      ]
     },
     "execution_count": 16,
     "metadata": {},
     "output_type": "execute_result"
    }
   ],
   "source": [
    "list(d1.keys() | d2.keys())"
   ]
  },
  {
   "cell_type": "code",
   "execution_count": 17,
   "id": "83ed418c",
   "metadata": {},
   "outputs": [
    {
     "data": {
      "text/plain": [
       "['a', 'c', 'd', 'b']"
      ]
     },
     "execution_count": 17,
     "metadata": {},
     "output_type": "execute_result"
    }
   ],
   "source": [
    "d1 = {'a':1, 'b':2, 'c':3}\n",
    "d2 = {'b':3, 'c':4, 'd':5}\n",
    "\n",
    "list(d1.keys() | d2.keys())"
   ]
  },
  {
   "cell_type": "code",
   "execution_count": 18,
   "id": "e1ee1d8d",
   "metadata": {},
   "outputs": [
    {
     "data": {
      "text/plain": [
       "{'a', 'b', 'c', 'd'}"
      ]
     },
     "execution_count": 18,
     "metadata": {},
     "output_type": "execute_result"
    }
   ],
   "source": [
    "d1.keys() | d2.keys()    # sets are ordered when displayed in Jupyter"
   ]
  },
  {
   "cell_type": "code",
   "execution_count": 19,
   "id": "5645a0e7",
   "metadata": {},
   "outputs": [
    {
     "name": "stdout",
     "output_type": "stream",
     "text": [
      "a\n",
      "c\n",
      "d\n",
      "b\n"
     ]
    }
   ],
   "source": [
    "for one_item in (d1.keys() | d2.keys()):   #but sets have a different internal order we can see via \"for\"\n",
    "    print(one_item)"
   ]
  },
  {
   "cell_type": "code",
   "execution_count": 20,
   "id": "cecd0015",
   "metadata": {},
   "outputs": [
    {
     "data": {
      "text/plain": [
       "['a', 'c', 'd', 'b']"
      ]
     },
     "execution_count": 20,
     "metadata": {},
     "output_type": "execute_result"
    }
   ],
   "source": [
    "list(d1.keys()|d2.keys())"
   ]
  },
  {
   "cell_type": "code",
   "execution_count": 21,
   "id": "2f0432da",
   "metadata": {},
   "outputs": [],
   "source": [
    "d1 = {'a':1, 'b':2, 'c':3}\n",
    "d2 = {'b':3, 'c':4, 'd':5}\n"
   ]
  },
  {
   "cell_type": "code",
   "execution_count": 22,
   "id": "ea117b6a",
   "metadata": {},
   "outputs": [
    {
     "data": {
      "text/plain": [
       "{'a': 1, 'b': 2, 'c': 3}"
      ]
     },
     "execution_count": 22,
     "metadata": {},
     "output_type": "execute_result"
    }
   ],
   "source": [
    "d1"
   ]
  },
  {
   "cell_type": "code",
   "execution_count": 24,
   "id": "c3dba6af",
   "metadata": {},
   "outputs": [
    {
     "data": {
      "text/plain": [
       "{'a': 1, 'b': 100, 'c': 3}"
      ]
     },
     "execution_count": 24,
     "metadata": {},
     "output_type": "execute_result"
    }
   ],
   "source": [
    "d1['b'] = 100\n",
    "d1"
   ]
  },
  {
   "cell_type": "code",
   "execution_count": 25,
   "id": "0feed76a",
   "metadata": {},
   "outputs": [
    {
     "data": {
      "text/plain": [
       "{'a': 1, 'b': 3, 'c': 4, 'd': 5}"
      ]
     },
     "execution_count": 25,
     "metadata": {},
     "output_type": "execute_result"
    }
   ],
   "source": [
    "d1 = {'a':1, 'b':2, 'c':3}\n",
    "d2 = {'b':3, 'c':4, 'd':5}\n",
    "\n",
    "d1 | d2    "
   ]
  },
  {
   "cell_type": "code",
   "execution_count": 28,
   "id": "a441052a",
   "metadata": {},
   "outputs": [],
   "source": [
    "# rewrite of the above\n",
    "\n",
    "def my_dict_union(d1, d2):\n",
    "    output = d1.copy()\n",
    "    \n",
    "    for key, value in d2.items():\n",
    "        output[key] = value\n",
    "        \n",
    "    return output\n",
    "        "
   ]
  },
  {
   "cell_type": "code",
   "execution_count": 29,
   "id": "53183d20",
   "metadata": {},
   "outputs": [
    {
     "data": {
      "text/plain": [
       "{'a': 1, 'b': 3, 'c': 4, 'd': 5}"
      ]
     },
     "execution_count": 29,
     "metadata": {},
     "output_type": "execute_result"
    }
   ],
   "source": [
    "my_dict_union(d1, d2)"
   ]
  },
  {
   "cell_type": "code",
   "execution_count": 30,
   "id": "8f2a82df",
   "metadata": {},
   "outputs": [
    {
     "data": {
      "text/plain": [
       "dict_keys"
      ]
     },
     "execution_count": 30,
     "metadata": {},
     "output_type": "execute_result"
    }
   ],
   "source": [
    "type(d1.keys())"
   ]
  },
  {
   "cell_type": "code",
   "execution_count": 31,
   "id": "374d18a6",
   "metadata": {},
   "outputs": [
    {
     "data": {
      "text/plain": [
       "set"
      ]
     },
     "execution_count": 31,
     "metadata": {},
     "output_type": "execute_result"
    }
   ],
   "source": [
    "type(d1.keys() | d2.keys())"
   ]
  },
  {
   "cell_type": "code",
   "execution_count": 34,
   "id": "b58bfe94",
   "metadata": {},
   "outputs": [
    {
     "data": {
      "text/plain": [
       "{'a', 'b', 'c', 'd'}"
      ]
     },
     "execution_count": 34,
     "metadata": {},
     "output_type": "execute_result"
    }
   ],
   "source": [
    "d1.keys().__ror__(d2.keys())"
   ]
  },
  {
   "cell_type": "raw",
   "id": "6eb27301",
   "metadata": {},
   "source": [
    "Python 2 dict  (through Python 3.5)\n",
    "\n",
    "a new dict creates a 2-column table with 8 rows\n",
    "\n",
    "     key     value\n",
    "0     'a'      10\n",
    "1     'i'      100\n",
    "2     'c'     30\n",
    "3     'b'       20\n",
    "4\n",
    "5\n",
    "6\n",
    "7\n"
   ]
  },
  {
   "cell_type": "raw",
   "id": "635abe94",
   "metadata": {},
   "source": [
    "Python 3 dict (starting with Python 3.6)\n",
    "\n",
    "Two data structures behind the scene: (1) table and (2) array\n",
    "\n",
    "Table\n",
    "\n",
    "index    key    value\n",
    "---------------------\n",
    "  0      'a'      100\n",
    "  1      'b'      200\n",
    "  2      'c'      300\n",
    "\n",
    "Array\n",
    "\n",
    "[None,None,0,None,None,1,2,None]"
   ]
  },
  {
   "cell_type": "code",
   "execution_count": 35,
   "id": "7f8b9cd0",
   "metadata": {},
   "outputs": [],
   "source": [
    "d = {}"
   ]
  },
  {
   "cell_type": "code",
   "execution_count": 36,
   "id": "3b4f9063",
   "metadata": {},
   "outputs": [],
   "source": [
    "d['a'] = 100"
   ]
  },
  {
   "cell_type": "code",
   "execution_count": 37,
   "id": "57b60be7",
   "metadata": {},
   "outputs": [
    {
     "data": {
      "text/plain": [
       "2"
      ]
     },
     "execution_count": 37,
     "metadata": {},
     "output_type": "execute_result"
    }
   ],
   "source": [
    "hash('a') % 8"
   ]
  },
  {
   "cell_type": "code",
   "execution_count": null,
   "id": "73d79741",
   "metadata": {},
   "outputs": [],
   "source": [
    "'a' in d"
   ]
  },
  {
   "cell_type": "code",
   "execution_count": 38,
   "id": "1a8cf66f",
   "metadata": {},
   "outputs": [],
   "source": [
    "d['b'] = 200\n",
    "d['c'] = 300"
   ]
  },
  {
   "cell_type": "code",
   "execution_count": 39,
   "id": "4b892bd3",
   "metadata": {},
   "outputs": [
    {
     "data": {
      "text/plain": [
       "5"
      ]
     },
     "execution_count": 39,
     "metadata": {},
     "output_type": "execute_result"
    }
   ],
   "source": [
    "hash('b') % 8"
   ]
  },
  {
   "cell_type": "code",
   "execution_count": 40,
   "id": "b43d49c2",
   "metadata": {},
   "outputs": [
    {
     "data": {
      "text/plain": [
       "5"
      ]
     },
     "execution_count": 40,
     "metadata": {},
     "output_type": "execute_result"
    }
   ],
   "source": [
    "hash('c') % 8"
   ]
  },
  {
   "cell_type": "code",
   "execution_count": 41,
   "id": "17a4c97c",
   "metadata": {},
   "outputs": [
    {
     "data": {
      "text/plain": [
       "True"
      ]
     },
     "execution_count": 41,
     "metadata": {},
     "output_type": "execute_result"
    }
   ],
   "source": [
    "'c' in d"
   ]
  },
  {
   "cell_type": "code",
   "execution_count": 42,
   "id": "005d3001",
   "metadata": {},
   "outputs": [],
   "source": [
    "from collections import OrderedDict"
   ]
  },
  {
   "cell_type": "code",
   "execution_count": 43,
   "id": "ecb12e15",
   "metadata": {},
   "outputs": [],
   "source": [
    "d = OrderedDict()\n",
    "d['a'] = 100\n",
    "d['b'] = 200\n",
    "d['c'] = 300"
   ]
  },
  {
   "cell_type": "code",
   "execution_count": 44,
   "id": "ac2d5008",
   "metadata": {},
   "outputs": [
    {
     "data": {
      "text/plain": [
       "OrderedDict([('a', 100), ('b', 200), ('c', 300)])"
      ]
     },
     "execution_count": 44,
     "metadata": {},
     "output_type": "execute_result"
    }
   ],
   "source": [
    "d"
   ]
  },
  {
   "cell_type": "code",
   "execution_count": 45,
   "id": "e87f486e",
   "metadata": {},
   "outputs": [],
   "source": [
    "d1 = {'a':100, 'b':200, 'c':300}\n",
    "d2 = {'a':100, 'c':300, 'b':200}"
   ]
  },
  {
   "cell_type": "code",
   "execution_count": 46,
   "id": "00cf28a6",
   "metadata": {},
   "outputs": [
    {
     "data": {
      "text/plain": [
       "{'a': 100, 'b': 200, 'c': 300}"
      ]
     },
     "execution_count": 46,
     "metadata": {},
     "output_type": "execute_result"
    }
   ],
   "source": [
    "d1"
   ]
  },
  {
   "cell_type": "code",
   "execution_count": 47,
   "id": "65dc44ba",
   "metadata": {},
   "outputs": [
    {
     "data": {
      "text/plain": [
       "{'a': 100, 'c': 300, 'b': 200}"
      ]
     },
     "execution_count": 47,
     "metadata": {},
     "output_type": "execute_result"
    }
   ],
   "source": [
    "d2"
   ]
  },
  {
   "cell_type": "code",
   "execution_count": 48,
   "id": "fd725950",
   "metadata": {},
   "outputs": [
    {
     "data": {
      "text/plain": [
       "True"
      ]
     },
     "execution_count": 48,
     "metadata": {},
     "output_type": "execute_result"
    }
   ],
   "source": [
    "d1 == d2"
   ]
  },
  {
   "cell_type": "code",
   "execution_count": 49,
   "id": "99171001",
   "metadata": {},
   "outputs": [],
   "source": [
    "d1 = OrderedDict(a=100, b=200, c=300)\n",
    "d2 = OrderedDict(a=100, c=300, b=200)"
   ]
  },
  {
   "cell_type": "code",
   "execution_count": 50,
   "id": "03941832",
   "metadata": {},
   "outputs": [
    {
     "data": {
      "text/plain": [
       "OrderedDict([('a', 100), ('b', 200), ('c', 300)])"
      ]
     },
     "execution_count": 50,
     "metadata": {},
     "output_type": "execute_result"
    }
   ],
   "source": [
    "d1"
   ]
  },
  {
   "cell_type": "code",
   "execution_count": 51,
   "id": "334160a7",
   "metadata": {},
   "outputs": [
    {
     "data": {
      "text/plain": [
       "OrderedDict([('a', 100), ('c', 300), ('b', 200)])"
      ]
     },
     "execution_count": 51,
     "metadata": {},
     "output_type": "execute_result"
    }
   ],
   "source": [
    "d2"
   ]
  },
  {
   "cell_type": "code",
   "execution_count": 52,
   "id": "13e2c18f",
   "metadata": {},
   "outputs": [
    {
     "data": {
      "text/plain": [
       "False"
      ]
     },
     "execution_count": 52,
     "metadata": {},
     "output_type": "execute_result"
    }
   ],
   "source": [
    "d1 == d2"
   ]
  },
  {
   "cell_type": "code",
   "execution_count": 53,
   "id": "57218c70",
   "metadata": {},
   "outputs": [],
   "source": [
    "from collections import defaultdict"
   ]
  },
  {
   "cell_type": "code",
   "execution_count": 54,
   "id": "f4a2ed86",
   "metadata": {},
   "outputs": [
    {
     "ename": "TypeError",
     "evalue": "first argument must be callable or None",
     "output_type": "error",
     "traceback": [
      "\u001b[0;31m---------------------------------------------------------------------------\u001b[0m",
      "\u001b[0;31mTypeError\u001b[0m                                 Traceback (most recent call last)",
      "\u001b[0;32m/var/folders/rr/0mnyyv811fs5vyp22gf4fxk00000gn/T/ipykernel_200/1654680976.py\u001b[0m in \u001b[0;36m<module>\u001b[0;34m\u001b[0m\n\u001b[0;32m----> 1\u001b[0;31m \u001b[0md\u001b[0m \u001b[0;34m=\u001b[0m \u001b[0mdefaultdict\u001b[0m\u001b[0;34m(\u001b[0m\u001b[0;36m0\u001b[0m\u001b[0;34m)\u001b[0m\u001b[0;34m\u001b[0m\u001b[0;34m\u001b[0m\u001b[0m\n\u001b[0m",
      "\u001b[0;31mTypeError\u001b[0m: first argument must be callable or None"
     ]
    }
   ],
   "source": [
    "d = defaultdict(0)"
   ]
  },
  {
   "cell_type": "code",
   "execution_count": 55,
   "id": "330eecd0",
   "metadata": {},
   "outputs": [],
   "source": [
    "d = defaultdict(int)"
   ]
  },
  {
   "cell_type": "code",
   "execution_count": 56,
   "id": "42eb238c",
   "metadata": {},
   "outputs": [
    {
     "data": {
      "text/plain": [
       "0"
      ]
     },
     "execution_count": 56,
     "metadata": {},
     "output_type": "execute_result"
    }
   ],
   "source": [
    "int()"
   ]
  },
  {
   "cell_type": "code",
   "execution_count": 57,
   "id": "3d0b5836",
   "metadata": {},
   "outputs": [
    {
     "data": {
      "text/plain": [
       "0"
      ]
     },
     "execution_count": 57,
     "metadata": {},
     "output_type": "execute_result"
    }
   ],
   "source": [
    "d['a']"
   ]
  },
  {
   "cell_type": "code",
   "execution_count": 58,
   "id": "062c1c02",
   "metadata": {},
   "outputs": [
    {
     "data": {
      "text/plain": [
       "defaultdict(int, {'a': 0})"
      ]
     },
     "execution_count": 58,
     "metadata": {},
     "output_type": "execute_result"
    }
   ],
   "source": [
    "d"
   ]
  },
  {
   "cell_type": "code",
   "execution_count": 59,
   "id": "64adb1e7",
   "metadata": {},
   "outputs": [
    {
     "data": {
      "text/plain": [
       "0"
      ]
     },
     "execution_count": 59,
     "metadata": {},
     "output_type": "execute_result"
    }
   ],
   "source": [
    "d['b']"
   ]
  },
  {
   "cell_type": "code",
   "execution_count": 60,
   "id": "c693209d",
   "metadata": {},
   "outputs": [
    {
     "data": {
      "text/plain": [
       "0"
      ]
     },
     "execution_count": 60,
     "metadata": {},
     "output_type": "execute_result"
    }
   ],
   "source": [
    "d['c']"
   ]
  },
  {
   "cell_type": "code",
   "execution_count": 61,
   "id": "240bba3d",
   "metadata": {},
   "outputs": [
    {
     "data": {
      "text/plain": [
       "defaultdict(int, {'a': 0, 'b': 0, 'c': 0})"
      ]
     },
     "execution_count": 61,
     "metadata": {},
     "output_type": "execute_result"
    }
   ],
   "source": [
    "d"
   ]
  },
  {
   "cell_type": "code",
   "execution_count": 62,
   "id": "f4a16b6e",
   "metadata": {},
   "outputs": [],
   "source": [
    "d = defaultdict(int)\n",
    "\n",
    "d['a'] += 10\n",
    "d['b'] += 20\n",
    "d['c'] += 100\n",
    "d['b'] += 15"
   ]
  },
  {
   "cell_type": "code",
   "execution_count": 63,
   "id": "e11ac6e0",
   "metadata": {},
   "outputs": [
    {
     "data": {
      "text/plain": [
       "defaultdict(int, {'a': 10, 'b': 35, 'c': 100})"
      ]
     },
     "execution_count": 63,
     "metadata": {},
     "output_type": "execute_result"
    }
   ],
   "source": [
    "d"
   ]
  },
  {
   "cell_type": "code",
   "execution_count": 64,
   "id": "cdf40b7c",
   "metadata": {},
   "outputs": [
    {
     "ename": "NameError",
     "evalue": "name 'a' is not defined",
     "output_type": "error",
     "traceback": [
      "\u001b[0;31m---------------------------------------------------------------------------\u001b[0m",
      "\u001b[0;31mNameError\u001b[0m                                 Traceback (most recent call last)",
      "\u001b[0;32m/var/folders/rr/0mnyyv811fs5vyp22gf4fxk00000gn/T/ipykernel_200/492326894.py\u001b[0m in \u001b[0;36m<module>\u001b[0;34m\u001b[0m\n\u001b[1;32m      1\u001b[0m \u001b[0md\u001b[0m \u001b[0;34m=\u001b[0m \u001b[0;34m{\u001b[0m\u001b[0;34m}\u001b[0m\u001b[0;34m\u001b[0m\u001b[0;34m\u001b[0m\u001b[0m\n\u001b[0;32m----> 2\u001b[0;31m \u001b[0ma\u001b[0m\u001b[0;34m[\u001b[0m\u001b[0;34m'a'\u001b[0m\u001b[0;34m]\u001b[0m \u001b[0;34m+=\u001b[0m \u001b[0;36m10\u001b[0m\u001b[0;34m\u001b[0m\u001b[0;34m\u001b[0m\u001b[0m\n\u001b[0m",
      "\u001b[0;31mNameError\u001b[0m: name 'a' is not defined"
     ]
    }
   ],
   "source": [
    "d = {}\n",
    "a['a'] += 10"
   ]
  },
  {
   "cell_type": "code",
   "execution_count": 66,
   "id": "2c45a56d",
   "metadata": {},
   "outputs": [],
   "source": [
    "d = defaultdict(int)\n",
    "\n",
    "d['a'] += 10    # d['a'] = d['a'] + 10\n"
   ]
  },
  {
   "cell_type": "code",
   "execution_count": 67,
   "id": "e2ce55a8",
   "metadata": {},
   "outputs": [
    {
     "data": {
      "text/plain": [
       "defaultdict(int, {'a': 10})"
      ]
     },
     "execution_count": 67,
     "metadata": {},
     "output_type": "execute_result"
    }
   ],
   "source": [
    "d"
   ]
  },
  {
   "cell_type": "code",
   "execution_count": 68,
   "id": "3b4c3635",
   "metadata": {},
   "outputs": [
    {
     "data": {
      "text/plain": [
       "0"
      ]
     },
     "execution_count": 68,
     "metadata": {},
     "output_type": "execute_result"
    }
   ],
   "source": [
    "int()"
   ]
  },
  {
   "cell_type": "code",
   "execution_count": 69,
   "id": "b7c26596",
   "metadata": {},
   "outputs": [
    {
     "data": {
      "text/plain": [
       "[]"
      ]
     },
     "execution_count": 69,
     "metadata": {},
     "output_type": "execute_result"
    }
   ],
   "source": [
    "list()\n"
   ]
  },
  {
   "cell_type": "code",
   "execution_count": 70,
   "id": "8452b93a",
   "metadata": {},
   "outputs": [
    {
     "data": {
      "text/plain": [
       "{}"
      ]
     },
     "execution_count": 70,
     "metadata": {},
     "output_type": "execute_result"
    }
   ],
   "source": [
    "dict()"
   ]
  },
  {
   "cell_type": "code",
   "execution_count": 76,
   "id": "abccdfdb",
   "metadata": {},
   "outputs": [],
   "source": [
    "def return_5():\n",
    "    print('Now running return_5')\n",
    "    return 5\n",
    "\n",
    "d = defaultdict(return_5)"
   ]
  },
  {
   "cell_type": "code",
   "execution_count": 77,
   "id": "a75b4d49",
   "metadata": {},
   "outputs": [
    {
     "name": "stdout",
     "output_type": "stream",
     "text": [
      "Now running return_5\n"
     ]
    },
    {
     "data": {
      "text/plain": [
       "5"
      ]
     },
     "execution_count": 77,
     "metadata": {},
     "output_type": "execute_result"
    }
   ],
   "source": [
    "d['a']"
   ]
  },
  {
   "cell_type": "code",
   "execution_count": 78,
   "id": "c4f85c0d",
   "metadata": {},
   "outputs": [
    {
     "name": "stdout",
     "output_type": "stream",
     "text": [
      "Now running return_5\n"
     ]
    },
    {
     "data": {
      "text/plain": [
       "5"
      ]
     },
     "execution_count": 78,
     "metadata": {},
     "output_type": "execute_result"
    }
   ],
   "source": [
    "d['b']"
   ]
  },
  {
   "cell_type": "code",
   "execution_count": 79,
   "id": "8ee133e1",
   "metadata": {},
   "outputs": [
    {
     "name": "stdout",
     "output_type": "stream",
     "text": [
      "Now running return_5\n"
     ]
    }
   ],
   "source": [
    "d['c'] += 10"
   ]
  },
  {
   "cell_type": "code",
   "execution_count": 80,
   "id": "30dc282d",
   "metadata": {},
   "outputs": [
    {
     "data": {
      "text/plain": [
       "defaultdict(<function __main__.return_5()>, {'a': 5, 'b': 5, 'c': 15})"
      ]
     },
     "execution_count": 80,
     "metadata": {},
     "output_type": "execute_result"
    }
   ],
   "source": [
    "d"
   ]
  },
  {
   "cell_type": "code",
   "execution_count": 81,
   "id": "5fc900b2",
   "metadata": {},
   "outputs": [
    {
     "data": {
      "text/plain": [
       "{'__name__': '__main__',\n",
       " '__doc__': 'Automatically created module for IPython interactive environment',\n",
       " '__package__': None,\n",
       " '__loader__': None,\n",
       " '__spec__': None,\n",
       " '__builtin__': <module 'builtins' (built-in)>,\n",
       " '__builtins__': <module 'builtins' (built-in)>,\n",
       " '_ih': ['',\n",
       "  \"d1 = {'a':1, 'b':2, 'c':3}\\nd2 = {'b':3, 'c':4, 'd':5}\\n\\nfor one_item in d1 | d2:  \\n    print(one_item)\",\n",
       "  'for one_item in (d1 | d2).items():  \\n    print(one_item)',\n",
       "  'for one_item in (d2 | d1).items():  \\n    print(one_item)',\n",
       "  \"d = {'c':100, 'b':200, 'd':300, 'a':400, 'e':500}\",\n",
       "  'd.keys()',\n",
       "  \"d['g'] = 600\\nd['f'] = 700\\n\\nd.keys()\",\n",
       "  'd.keys()',\n",
       "  'set(d.keys())',\n",
       "  'list(set(d.keys()))',\n",
       "  'd1 | d2',\n",
       "  'd1.keys() | d2.keys()',\n",
       "  'list(d1.keys() | d2.keys())',\n",
       "  'd1 | d2',\n",
       "  'd1.keys()',\n",
       "  'd1.keys() | d2.keys()',\n",
       "  'list(d1.keys() | d2.keys())',\n",
       "  \"d1 = {'a':1, 'b':2, 'c':3}\\nd2 = {'b':3, 'c':4, 'd':5}\\n\\nlist(d1.keys() | d2.keys())\",\n",
       "  'd1.keys() | d2.keys()',\n",
       "  'for one_item in (d1.keys() | d2.keys()):\\n    print(one_item)',\n",
       "  'list(d1.keys()|d2.keys())',\n",
       "  \"d1 = {'a':1, 'b':2, 'c':3}\\nd2 = {'b':3, 'c':4, 'd':5}\",\n",
       "  'd1',\n",
       "  \"d1['b'] = 100\\nd\",\n",
       "  \"d1['b'] = 100\\nd1\",\n",
       "  \"d1 = {'a':1, 'b':2, 'c':3}\\nd2 = {'b':3, 'c':4, 'd':5}\\n\\nd1 | d2    \",\n",
       "  '# rewrite of the above\\n\\ndef my_dict_union(d1, d2):\\n    output = d1.copy()\\n    \\n    ',\n",
       "  'my_dict_union(d1, d2)',\n",
       "  '# rewrite of the above\\n\\ndef my_dict_union(d1, d2):\\n    output = d1.copy()\\n    \\n    for key, value in d2.items():\\n        output[key] = value\\n        \\n    return output\\n        ',\n",
       "  'my_dict_union(d1, d2)',\n",
       "  'type(d1.keys())',\n",
       "  'type(d1.keys()|d2.keys())',\n",
       "  'd1.values() | d2.values()',\n",
       "  'dir(d1.keys())',\n",
       "  'd1.keys().__ror__(d2.keys())',\n",
       "  'd = {}',\n",
       "  \"d['a'] = 100\",\n",
       "  \"hash('a') % 8\",\n",
       "  \"d['b'] = 200\\nd['c'] = 300\",\n",
       "  \"hash('b') % 8\",\n",
       "  \"hash('c') % 8\",\n",
       "  \"'c' in d\",\n",
       "  'from collections import OrderedDict',\n",
       "  \"d = OrderedDict()\\nd['a'] = 100\\nd['b'] = 200\\nd['c'] = 300\",\n",
       "  'd',\n",
       "  \"d1 = {'a':100, 'b':200, 'c':300}\\nd2 = {'a':100, 'c':300, 'b':200}\",\n",
       "  'd1',\n",
       "  'd2',\n",
       "  'd1 == d2',\n",
       "  'd1 = OrderedDict(a=100, b=200, c=300)\\nd2 = OrderedDict(a=100, c=300, b=200)',\n",
       "  'd1',\n",
       "  'd2',\n",
       "  'd1 == d2',\n",
       "  'from collections import defaultdict',\n",
       "  'd = defaultdict(0)',\n",
       "  'd = defaultdict(int)',\n",
       "  'int()',\n",
       "  \"d['a']\",\n",
       "  'd',\n",
       "  \"d['b']\",\n",
       "  \"d['c']\",\n",
       "  'd',\n",
       "  \"d = defaultdict(int)\\n\\nd['a'] += 10\\nd['b'] += 20\\nd['c'] += 100\\nd['b'] += 15\",\n",
       "  'd',\n",
       "  \"d = {}\\na['a'] += 10\",\n",
       "  \"d = defaultdict(int)\\n\\nd['a'] += 10\",\n",
       "  \"d = defaultdict(int)\\n\\nd['a'] += 10    # d['a'] = d['a'] + 10\",\n",
       "  'd',\n",
       "  'int()',\n",
       "  'list()',\n",
       "  'dict()',\n",
       "  'def return_5():\\n    return 5\\n\\nd = defaultdict(return_5)',\n",
       "  \"d['a']\",\n",
       "  \"d['b']\",\n",
       "  \"d['c'] += 10\",\n",
       "  'd',\n",
       "  \"def return_5():\\n    print('Now running return_5')\\n    return 5\\n\\nd = defaultdict(return_5)\",\n",
       "  \"d['a']\",\n",
       "  \"d['b']\",\n",
       "  \"d['c'] += 10\",\n",
       "  'd',\n",
       "  'globals()'],\n",
       " '_oh': {5: dict_keys(['c', 'b', 'd', 'a', 'e', 'g', 'f']),\n",
       "  6: dict_keys(['c', 'b', 'd', 'a', 'e', 'g', 'f']),\n",
       "  7: dict_keys(['c', 'b', 'd', 'a', 'e', 'g', 'f']),\n",
       "  8: {'a', 'b', 'c', 'd', 'e', 'f', 'g'},\n",
       "  9: ['f', 'b', 'g', 'd', 'e', 'a', 'c'],\n",
       "  10: {'a': 1, 'b': 3, 'c': 4, 'd': 5},\n",
       "  11: {'a', 'b', 'c', 'd'},\n",
       "  12: ['a', 'c', 'd', 'b'],\n",
       "  13: {'a': 1, 'b': 3, 'c': 4, 'd': 5},\n",
       "  14: dict_keys(['a', 'b', 'c']),\n",
       "  15: {'a', 'b', 'c', 'd'},\n",
       "  16: ['a', 'c', 'd', 'b'],\n",
       "  17: ['a', 'c', 'd', 'b'],\n",
       "  18: {'a', 'b', 'c', 'd'},\n",
       "  20: ['a', 'c', 'd', 'b'],\n",
       "  22: {'a': 1, 'b': 100, 'c': 3},\n",
       "  23: {'c': 100, 'b': 200, 'd': 300, 'a': 400, 'e': 500, 'g': 600, 'f': 700},\n",
       "  24: {'a': 1, 'b': 100, 'c': 3},\n",
       "  25: {'a': 1, 'b': 3, 'c': 4, 'd': 5},\n",
       "  29: {'a': 1, 'b': 3, 'c': 4, 'd': 5},\n",
       "  30: dict_keys,\n",
       "  31: set,\n",
       "  33: ['__and__',\n",
       "   '__class__',\n",
       "   '__contains__',\n",
       "   '__delattr__',\n",
       "   '__dir__',\n",
       "   '__doc__',\n",
       "   '__eq__',\n",
       "   '__format__',\n",
       "   '__ge__',\n",
       "   '__getattribute__',\n",
       "   '__gt__',\n",
       "   '__hash__',\n",
       "   '__init__',\n",
       "   '__init_subclass__',\n",
       "   '__iter__',\n",
       "   '__le__',\n",
       "   '__len__',\n",
       "   '__lt__',\n",
       "   '__ne__',\n",
       "   '__new__',\n",
       "   '__or__',\n",
       "   '__rand__',\n",
       "   '__reduce__',\n",
       "   '__reduce_ex__',\n",
       "   '__repr__',\n",
       "   '__reversed__',\n",
       "   '__ror__',\n",
       "   '__rsub__',\n",
       "   '__rxor__',\n",
       "   '__setattr__',\n",
       "   '__sizeof__',\n",
       "   '__str__',\n",
       "   '__sub__',\n",
       "   '__subclasshook__',\n",
       "   '__xor__',\n",
       "   'isdisjoint',\n",
       "   'mapping'],\n",
       "  34: {'a', 'b', 'c', 'd'},\n",
       "  37: 2,\n",
       "  39: 5,\n",
       "  40: 5,\n",
       "  41: True,\n",
       "  44: OrderedDict([('a', 100), ('b', 200), ('c', 300)]),\n",
       "  46: {'a': 100, 'b': 200, 'c': 300},\n",
       "  47: {'a': 100, 'c': 300, 'b': 200},\n",
       "  48: True,\n",
       "  50: OrderedDict([('a', 100), ('b', 200), ('c', 300)]),\n",
       "  51: OrderedDict([('a', 100), ('c', 300), ('b', 200)]),\n",
       "  52: False,\n",
       "  56: 0,\n",
       "  57: 0,\n",
       "  58: defaultdict(int, {'a': 0, 'b': 0, 'c': 0}),\n",
       "  59: 0,\n",
       "  60: 0,\n",
       "  61: defaultdict(int, {'a': 0, 'b': 0, 'c': 0}),\n",
       "  63: defaultdict(int, {'a': 10, 'b': 35, 'c': 100}),\n",
       "  67: defaultdict(int, {'a': 10}),\n",
       "  68: 0,\n",
       "  69: [],\n",
       "  70: {},\n",
       "  72: 5,\n",
       "  73: 5,\n",
       "  75: defaultdict(<function __main__.return_5()>, {'a': 5, 'b': 5, 'c': 15}),\n",
       "  77: 5,\n",
       "  78: 5,\n",
       "  80: defaultdict(<function __main__.return_5()>, {'a': 5, 'b': 5, 'c': 15})},\n",
       " '_dh': ['/Users/reuven/Courses/Current/WDC-2022-q3-advanced-python'],\n",
       " 'In': ['',\n",
       "  \"d1 = {'a':1, 'b':2, 'c':3}\\nd2 = {'b':3, 'c':4, 'd':5}\\n\\nfor one_item in d1 | d2:  \\n    print(one_item)\",\n",
       "  'for one_item in (d1 | d2).items():  \\n    print(one_item)',\n",
       "  'for one_item in (d2 | d1).items():  \\n    print(one_item)',\n",
       "  \"d = {'c':100, 'b':200, 'd':300, 'a':400, 'e':500}\",\n",
       "  'd.keys()',\n",
       "  \"d['g'] = 600\\nd['f'] = 700\\n\\nd.keys()\",\n",
       "  'd.keys()',\n",
       "  'set(d.keys())',\n",
       "  'list(set(d.keys()))',\n",
       "  'd1 | d2',\n",
       "  'd1.keys() | d2.keys()',\n",
       "  'list(d1.keys() | d2.keys())',\n",
       "  'd1 | d2',\n",
       "  'd1.keys()',\n",
       "  'd1.keys() | d2.keys()',\n",
       "  'list(d1.keys() | d2.keys())',\n",
       "  \"d1 = {'a':1, 'b':2, 'c':3}\\nd2 = {'b':3, 'c':4, 'd':5}\\n\\nlist(d1.keys() | d2.keys())\",\n",
       "  'd1.keys() | d2.keys()',\n",
       "  'for one_item in (d1.keys() | d2.keys()):\\n    print(one_item)',\n",
       "  'list(d1.keys()|d2.keys())',\n",
       "  \"d1 = {'a':1, 'b':2, 'c':3}\\nd2 = {'b':3, 'c':4, 'd':5}\",\n",
       "  'd1',\n",
       "  \"d1['b'] = 100\\nd\",\n",
       "  \"d1['b'] = 100\\nd1\",\n",
       "  \"d1 = {'a':1, 'b':2, 'c':3}\\nd2 = {'b':3, 'c':4, 'd':5}\\n\\nd1 | d2    \",\n",
       "  '# rewrite of the above\\n\\ndef my_dict_union(d1, d2):\\n    output = d1.copy()\\n    \\n    ',\n",
       "  'my_dict_union(d1, d2)',\n",
       "  '# rewrite of the above\\n\\ndef my_dict_union(d1, d2):\\n    output = d1.copy()\\n    \\n    for key, value in d2.items():\\n        output[key] = value\\n        \\n    return output\\n        ',\n",
       "  'my_dict_union(d1, d2)',\n",
       "  'type(d1.keys())',\n",
       "  'type(d1.keys()|d2.keys())',\n",
       "  'd1.values() | d2.values()',\n",
       "  'dir(d1.keys())',\n",
       "  'd1.keys().__ror__(d2.keys())',\n",
       "  'd = {}',\n",
       "  \"d['a'] = 100\",\n",
       "  \"hash('a') % 8\",\n",
       "  \"d['b'] = 200\\nd['c'] = 300\",\n",
       "  \"hash('b') % 8\",\n",
       "  \"hash('c') % 8\",\n",
       "  \"'c' in d\",\n",
       "  'from collections import OrderedDict',\n",
       "  \"d = OrderedDict()\\nd['a'] = 100\\nd['b'] = 200\\nd['c'] = 300\",\n",
       "  'd',\n",
       "  \"d1 = {'a':100, 'b':200, 'c':300}\\nd2 = {'a':100, 'c':300, 'b':200}\",\n",
       "  'd1',\n",
       "  'd2',\n",
       "  'd1 == d2',\n",
       "  'd1 = OrderedDict(a=100, b=200, c=300)\\nd2 = OrderedDict(a=100, c=300, b=200)',\n",
       "  'd1',\n",
       "  'd2',\n",
       "  'd1 == d2',\n",
       "  'from collections import defaultdict',\n",
       "  'd = defaultdict(0)',\n",
       "  'd = defaultdict(int)',\n",
       "  'int()',\n",
       "  \"d['a']\",\n",
       "  'd',\n",
       "  \"d['b']\",\n",
       "  \"d['c']\",\n",
       "  'd',\n",
       "  \"d = defaultdict(int)\\n\\nd['a'] += 10\\nd['b'] += 20\\nd['c'] += 100\\nd['b'] += 15\",\n",
       "  'd',\n",
       "  \"d = {}\\na['a'] += 10\",\n",
       "  \"d = defaultdict(int)\\n\\nd['a'] += 10\",\n",
       "  \"d = defaultdict(int)\\n\\nd['a'] += 10    # d['a'] = d['a'] + 10\",\n",
       "  'd',\n",
       "  'int()',\n",
       "  'list()',\n",
       "  'dict()',\n",
       "  'def return_5():\\n    return 5\\n\\nd = defaultdict(return_5)',\n",
       "  \"d['a']\",\n",
       "  \"d['b']\",\n",
       "  \"d['c'] += 10\",\n",
       "  'd',\n",
       "  \"def return_5():\\n    print('Now running return_5')\\n    return 5\\n\\nd = defaultdict(return_5)\",\n",
       "  \"d['a']\",\n",
       "  \"d['b']\",\n",
       "  \"d['c'] += 10\",\n",
       "  'd',\n",
       "  'globals()'],\n",
       " 'Out': {5: dict_keys(['c', 'b', 'd', 'a', 'e', 'g', 'f']),\n",
       "  6: dict_keys(['c', 'b', 'd', 'a', 'e', 'g', 'f']),\n",
       "  7: dict_keys(['c', 'b', 'd', 'a', 'e', 'g', 'f']),\n",
       "  8: {'a', 'b', 'c', 'd', 'e', 'f', 'g'},\n",
       "  9: ['f', 'b', 'g', 'd', 'e', 'a', 'c'],\n",
       "  10: {'a': 1, 'b': 3, 'c': 4, 'd': 5},\n",
       "  11: {'a', 'b', 'c', 'd'},\n",
       "  12: ['a', 'c', 'd', 'b'],\n",
       "  13: {'a': 1, 'b': 3, 'c': 4, 'd': 5},\n",
       "  14: dict_keys(['a', 'b', 'c']),\n",
       "  15: {'a', 'b', 'c', 'd'},\n",
       "  16: ['a', 'c', 'd', 'b'],\n",
       "  17: ['a', 'c', 'd', 'b'],\n",
       "  18: {'a', 'b', 'c', 'd'},\n",
       "  20: ['a', 'c', 'd', 'b'],\n",
       "  22: {'a': 1, 'b': 100, 'c': 3},\n",
       "  23: {'c': 100, 'b': 200, 'd': 300, 'a': 400, 'e': 500, 'g': 600, 'f': 700},\n",
       "  24: {'a': 1, 'b': 100, 'c': 3},\n",
       "  25: {'a': 1, 'b': 3, 'c': 4, 'd': 5},\n",
       "  29: {'a': 1, 'b': 3, 'c': 4, 'd': 5},\n",
       "  30: dict_keys,\n",
       "  31: set,\n",
       "  33: ['__and__',\n",
       "   '__class__',\n",
       "   '__contains__',\n",
       "   '__delattr__',\n",
       "   '__dir__',\n",
       "   '__doc__',\n",
       "   '__eq__',\n",
       "   '__format__',\n",
       "   '__ge__',\n",
       "   '__getattribute__',\n",
       "   '__gt__',\n",
       "   '__hash__',\n",
       "   '__init__',\n",
       "   '__init_subclass__',\n",
       "   '__iter__',\n",
       "   '__le__',\n",
       "   '__len__',\n",
       "   '__lt__',\n",
       "   '__ne__',\n",
       "   '__new__',\n",
       "   '__or__',\n",
       "   '__rand__',\n",
       "   '__reduce__',\n",
       "   '__reduce_ex__',\n",
       "   '__repr__',\n",
       "   '__reversed__',\n",
       "   '__ror__',\n",
       "   '__rsub__',\n",
       "   '__rxor__',\n",
       "   '__setattr__',\n",
       "   '__sizeof__',\n",
       "   '__str__',\n",
       "   '__sub__',\n",
       "   '__subclasshook__',\n",
       "   '__xor__',\n",
       "   'isdisjoint',\n",
       "   'mapping'],\n",
       "  34: {'a', 'b', 'c', 'd'},\n",
       "  37: 2,\n",
       "  39: 5,\n",
       "  40: 5,\n",
       "  41: True,\n",
       "  44: OrderedDict([('a', 100), ('b', 200), ('c', 300)]),\n",
       "  46: {'a': 100, 'b': 200, 'c': 300},\n",
       "  47: {'a': 100, 'c': 300, 'b': 200},\n",
       "  48: True,\n",
       "  50: OrderedDict([('a', 100), ('b', 200), ('c', 300)]),\n",
       "  51: OrderedDict([('a', 100), ('c', 300), ('b', 200)]),\n",
       "  52: False,\n",
       "  56: 0,\n",
       "  57: 0,\n",
       "  58: defaultdict(int, {'a': 0, 'b': 0, 'c': 0}),\n",
       "  59: 0,\n",
       "  60: 0,\n",
       "  61: defaultdict(int, {'a': 0, 'b': 0, 'c': 0}),\n",
       "  63: defaultdict(int, {'a': 10, 'b': 35, 'c': 100}),\n",
       "  67: defaultdict(int, {'a': 10}),\n",
       "  68: 0,\n",
       "  69: [],\n",
       "  70: {},\n",
       "  72: 5,\n",
       "  73: 5,\n",
       "  75: defaultdict(<function __main__.return_5()>, {'a': 5, 'b': 5, 'c': 15}),\n",
       "  77: 5,\n",
       "  78: 5,\n",
       "  80: defaultdict(<function __main__.return_5()>, {'a': 5, 'b': 5, 'c': 15})},\n",
       " 'get_ipython': <bound method InteractiveShell.get_ipython of <ipykernel.zmqshell.ZMQInteractiveShell object at 0x1080affa0>>,\n",
       " 'exit': <IPython.core.autocall.ZMQExitAutocall at 0x108104a90>,\n",
       " 'quit': <IPython.core.autocall.ZMQExitAutocall at 0x108104a90>,\n",
       " '_': defaultdict(<function __main__.return_5()>, {'a': 5, 'b': 5, 'c': 15}),\n",
       " '__': 5,\n",
       " '___': 5,\n",
       " '_i': 'd',\n",
       " '_ii': \"d['c'] += 10\",\n",
       " '_iii': \"d['b']\",\n",
       " '_i1': \"d1 = {'a':1, 'b':2, 'c':3}\\nd2 = {'b':3, 'c':4, 'd':5}\\n\\nfor one_item in d1 | d2:  \\n    print(one_item)\",\n",
       " 'd1': OrderedDict([('a', 100), ('b', 200), ('c', 300)]),\n",
       " 'd2': OrderedDict([('a', 100), ('c', 300), ('b', 200)]),\n",
       " 'one_item': 'b',\n",
       " '_i2': 'for one_item in (d1 | d2).items():  \\n    print(one_item)',\n",
       " '_i3': 'for one_item in (d2 | d1).items():  \\n    print(one_item)',\n",
       " '_i4': \"d = {'c':100, 'b':200, 'd':300, 'a':400, 'e':500}\",\n",
       " 'd': defaultdict(<function __main__.return_5()>, {'a': 5, 'b': 5, 'c': 15}),\n",
       " '_i5': 'd.keys()',\n",
       " '_5': dict_keys(['c', 'b', 'd', 'a', 'e', 'g', 'f']),\n",
       " '_i6': \"d['g'] = 600\\nd['f'] = 700\\n\\nd.keys()\",\n",
       " '_6': dict_keys(['c', 'b', 'd', 'a', 'e', 'g', 'f']),\n",
       " '_i7': 'd.keys()',\n",
       " '_7': dict_keys(['c', 'b', 'd', 'a', 'e', 'g', 'f']),\n",
       " '_i8': 'set(d.keys())',\n",
       " '_8': {'a', 'b', 'c', 'd', 'e', 'f', 'g'},\n",
       " '_i9': 'list(set(d.keys()))',\n",
       " '_9': ['f', 'b', 'g', 'd', 'e', 'a', 'c'],\n",
       " '_i10': 'd1 | d2',\n",
       " '_10': {'a': 1, 'b': 3, 'c': 4, 'd': 5},\n",
       " '_i11': 'd1.keys() | d2.keys()',\n",
       " '_11': {'a', 'b', 'c', 'd'},\n",
       " '_i12': 'list(d1.keys() | d2.keys())',\n",
       " '_12': ['a', 'c', 'd', 'b'],\n",
       " '_i13': 'd1 | d2',\n",
       " '_13': {'a': 1, 'b': 3, 'c': 4, 'd': 5},\n",
       " '_i14': 'd1.keys()',\n",
       " '_14': dict_keys(['a', 'b', 'c']),\n",
       " '_i15': 'd1.keys() | d2.keys()',\n",
       " '_15': {'a', 'b', 'c', 'd'},\n",
       " '_i16': 'list(d1.keys() | d2.keys())',\n",
       " '_16': ['a', 'c', 'd', 'b'],\n",
       " '_i17': \"d1 = {'a':1, 'b':2, 'c':3}\\nd2 = {'b':3, 'c':4, 'd':5}\\n\\nlist(d1.keys() | d2.keys())\",\n",
       " '_17': ['a', 'c', 'd', 'b'],\n",
       " '_i18': 'd1.keys() | d2.keys()',\n",
       " '_18': {'a', 'b', 'c', 'd'},\n",
       " '_i19': 'for one_item in (d1.keys() | d2.keys()):\\n    print(one_item)',\n",
       " '_i20': 'list(d1.keys()|d2.keys())',\n",
       " '_20': ['a', 'c', 'd', 'b'],\n",
       " '_i21': \"d1 = {'a':1, 'b':2, 'c':3}\\nd2 = {'b':3, 'c':4, 'd':5}\",\n",
       " '_i22': 'd1',\n",
       " '_22': {'a': 1, 'b': 100, 'c': 3},\n",
       " '_i23': \"d1['b'] = 100\\nd\",\n",
       " '_23': {'c': 100, 'b': 200, 'd': 300, 'a': 400, 'e': 500, 'g': 600, 'f': 700},\n",
       " '_i24': \"d1['b'] = 100\\nd1\",\n",
       " '_24': {'a': 1, 'b': 100, 'c': 3},\n",
       " '_i25': \"d1 = {'a':1, 'b':2, 'c':3}\\nd2 = {'b':3, 'c':4, 'd':5}\\n\\nd1 | d2    \",\n",
       " '_25': {'a': 1, 'b': 3, 'c': 4, 'd': 5},\n",
       " '_i26': '# rewrite of the above\\n\\ndef my_dict_union(d1, d2):\\n    output = d1.copy()\\n    \\n    ',\n",
       " 'my_dict_union': <function __main__.my_dict_union(d1, d2)>,\n",
       " '_i27': 'my_dict_union(d1, d2)',\n",
       " '_i28': '# rewrite of the above\\n\\ndef my_dict_union(d1, d2):\\n    output = d1.copy()\\n    \\n    for key, value in d2.items():\\n        output[key] = value\\n        \\n    return output\\n        ',\n",
       " '_i29': 'my_dict_union(d1, d2)',\n",
       " '_29': {'a': 1, 'b': 3, 'c': 4, 'd': 5},\n",
       " '_i30': 'type(d1.keys())',\n",
       " '_30': dict_keys,\n",
       " '_i31': 'type(d1.keys()|d2.keys())',\n",
       " '_31': set,\n",
       " '_i32': 'd1.values() | d2.values()',\n",
       " '_i33': 'dir(d1.keys())',\n",
       " '_33': ['__and__',\n",
       "  '__class__',\n",
       "  '__contains__',\n",
       "  '__delattr__',\n",
       "  '__dir__',\n",
       "  '__doc__',\n",
       "  '__eq__',\n",
       "  '__format__',\n",
       "  '__ge__',\n",
       "  '__getattribute__',\n",
       "  '__gt__',\n",
       "  '__hash__',\n",
       "  '__init__',\n",
       "  '__init_subclass__',\n",
       "  '__iter__',\n",
       "  '__le__',\n",
       "  '__len__',\n",
       "  '__lt__',\n",
       "  '__ne__',\n",
       "  '__new__',\n",
       "  '__or__',\n",
       "  '__rand__',\n",
       "  '__reduce__',\n",
       "  '__reduce_ex__',\n",
       "  '__repr__',\n",
       "  '__reversed__',\n",
       "  '__ror__',\n",
       "  '__rsub__',\n",
       "  '__rxor__',\n",
       "  '__setattr__',\n",
       "  '__sizeof__',\n",
       "  '__str__',\n",
       "  '__sub__',\n",
       "  '__subclasshook__',\n",
       "  '__xor__',\n",
       "  'isdisjoint',\n",
       "  'mapping'],\n",
       " '_i34': 'd1.keys().__ror__(d2.keys())',\n",
       " '_34': {'a', 'b', 'c', 'd'},\n",
       " '_i35': 'd = {}',\n",
       " '_i36': \"d['a'] = 100\",\n",
       " '_i37': \"hash('a') % 8\",\n",
       " '_37': 2,\n",
       " '_i38': \"d['b'] = 200\\nd['c'] = 300\",\n",
       " '_i39': \"hash('b') % 8\",\n",
       " '_39': 5,\n",
       " '_i40': \"hash('c') % 8\",\n",
       " '_40': 5,\n",
       " '_i41': \"'c' in d\",\n",
       " '_41': True,\n",
       " '_i42': 'from collections import OrderedDict',\n",
       " 'OrderedDict': collections.OrderedDict,\n",
       " '_i43': \"d = OrderedDict()\\nd['a'] = 100\\nd['b'] = 200\\nd['c'] = 300\",\n",
       " '_i44': 'd',\n",
       " '_44': OrderedDict([('a', 100), ('b', 200), ('c', 300)]),\n",
       " '_i45': \"d1 = {'a':100, 'b':200, 'c':300}\\nd2 = {'a':100, 'c':300, 'b':200}\",\n",
       " '_i46': 'd1',\n",
       " '_46': {'a': 100, 'b': 200, 'c': 300},\n",
       " '_i47': 'd2',\n",
       " '_47': {'a': 100, 'c': 300, 'b': 200},\n",
       " '_i48': 'd1 == d2',\n",
       " '_48': True,\n",
       " '_i49': 'd1 = OrderedDict(a=100, b=200, c=300)\\nd2 = OrderedDict(a=100, c=300, b=200)',\n",
       " '_i50': 'd1',\n",
       " '_50': OrderedDict([('a', 100), ('b', 200), ('c', 300)]),\n",
       " '_i51': 'd2',\n",
       " '_51': OrderedDict([('a', 100), ('c', 300), ('b', 200)]),\n",
       " '_i52': 'd1 == d2',\n",
       " '_52': False,\n",
       " '_i53': 'from collections import defaultdict',\n",
       " 'defaultdict': collections.defaultdict,\n",
       " '_i54': 'd = defaultdict(0)',\n",
       " '_i55': 'd = defaultdict(int)',\n",
       " '_i56': 'int()',\n",
       " '_56': 0,\n",
       " '_i57': \"d['a']\",\n",
       " '_57': 0,\n",
       " '_i58': 'd',\n",
       " '_58': defaultdict(int, {'a': 0, 'b': 0, 'c': 0}),\n",
       " '_i59': \"d['b']\",\n",
       " '_59': 0,\n",
       " '_i60': \"d['c']\",\n",
       " '_60': 0,\n",
       " '_i61': 'd',\n",
       " '_61': defaultdict(int, {'a': 0, 'b': 0, 'c': 0}),\n",
       " '_i62': \"d = defaultdict(int)\\n\\nd['a'] += 10\\nd['b'] += 20\\nd['c'] += 100\\nd['b'] += 15\",\n",
       " '_i63': 'd',\n",
       " '_63': defaultdict(int, {'a': 10, 'b': 35, 'c': 100}),\n",
       " '_i64': \"d = {}\\na['a'] += 10\",\n",
       " '_i65': \"d = defaultdict(int)\\n\\nd['a'] += 10\",\n",
       " '_i66': \"d = defaultdict(int)\\n\\nd['a'] += 10    # d['a'] = d['a'] + 10\",\n",
       " '_i67': 'd',\n",
       " '_67': defaultdict(int, {'a': 10}),\n",
       " '_i68': 'int()',\n",
       " '_68': 0,\n",
       " '_i69': 'list()',\n",
       " '_69': [],\n",
       " '_i70': 'dict()',\n",
       " '_70': {},\n",
       " '_i71': 'def return_5():\\n    return 5\\n\\nd = defaultdict(return_5)',\n",
       " 'return_5': <function __main__.return_5()>,\n",
       " '_i72': \"d['a']\",\n",
       " '_72': 5,\n",
       " '_i73': \"d['b']\",\n",
       " '_73': 5,\n",
       " '_i74': \"d['c'] += 10\",\n",
       " '_i75': 'd',\n",
       " '_75': defaultdict(<function __main__.return_5()>, {'a': 5, 'b': 5, 'c': 15}),\n",
       " '_i76': \"def return_5():\\n    print('Now running return_5')\\n    return 5\\n\\nd = defaultdict(return_5)\",\n",
       " '_i77': \"d['a']\",\n",
       " '_77': 5,\n",
       " '_i78': \"d['b']\",\n",
       " '_78': 5,\n",
       " '_i79': \"d['c'] += 10\",\n",
       " '_i80': 'd',\n",
       " '_80': defaultdict(<function __main__.return_5()>, {'a': 5, 'b': 5, 'c': 15}),\n",
       " '_i81': 'globals()'}"
      ]
     },
     "execution_count": 81,
     "metadata": {},
     "output_type": "execute_result"
    }
   ],
   "source": [
    "globals()"
   ]
  },
  {
   "cell_type": "code",
   "execution_count": 82,
   "id": "c681e504",
   "metadata": {},
   "outputs": [],
   "source": [
    "x =100\n",
    "y = [10, 20, 30]"
   ]
  },
  {
   "cell_type": "code",
   "execution_count": 83,
   "id": "a638ecc4",
   "metadata": {},
   "outputs": [
    {
     "data": {
      "text/plain": [
       "100"
      ]
     },
     "execution_count": 83,
     "metadata": {},
     "output_type": "execute_result"
    }
   ],
   "source": [
    "globals()['x']"
   ]
  },
  {
   "cell_type": "code",
   "execution_count": 84,
   "id": "62abde3d",
   "metadata": {},
   "outputs": [
    {
     "data": {
      "text/plain": [
       "[10, 20, 30]"
      ]
     },
     "execution_count": 84,
     "metadata": {},
     "output_type": "execute_result"
    }
   ],
   "source": [
    "globals()['y']"
   ]
  },
  {
   "cell_type": "code",
   "execution_count": 85,
   "id": "b335c2cc",
   "metadata": {},
   "outputs": [],
   "source": [
    "import random\n",
    "\n",
    "def random_type_back():\n",
    "    n = random.randint(0, 2)\n",
    "    \n",
    "    if n == 0:\n",
    "        return 100\n",
    "    elif n == 1:\n",
    "        return 'abcd'\n",
    "    elif n == 2:\n",
    "        return [10, 20, 30]"
   ]
  },
  {
   "cell_type": "code",
   "execution_count": 86,
   "id": "a54ca934",
   "metadata": {},
   "outputs": [],
   "source": [
    "d = defaultdict(random_type_back)"
   ]
  },
  {
   "cell_type": "code",
   "execution_count": 87,
   "id": "92f291ac",
   "metadata": {},
   "outputs": [
    {
     "data": {
      "text/plain": [
       "[10, 20, 30]"
      ]
     },
     "execution_count": 87,
     "metadata": {},
     "output_type": "execute_result"
    }
   ],
   "source": [
    "d['a']"
   ]
  },
  {
   "cell_type": "code",
   "execution_count": 88,
   "id": "7c7946ed",
   "metadata": {},
   "outputs": [
    {
     "data": {
      "text/plain": [
       "100"
      ]
     },
     "execution_count": 88,
     "metadata": {},
     "output_type": "execute_result"
    }
   ],
   "source": [
    "d['b']"
   ]
  },
  {
   "cell_type": "code",
   "execution_count": 89,
   "id": "5c520a7f",
   "metadata": {},
   "outputs": [
    {
     "data": {
      "text/plain": [
       "[10, 20, 30]"
      ]
     },
     "execution_count": 89,
     "metadata": {},
     "output_type": "execute_result"
    }
   ],
   "source": [
    "d['c']"
   ]
  },
  {
   "cell_type": "code",
   "execution_count": 90,
   "id": "aefcc7e5",
   "metadata": {},
   "outputs": [
    {
     "data": {
      "text/plain": [
       "[10, 20, 30]"
      ]
     },
     "execution_count": 90,
     "metadata": {},
     "output_type": "execute_result"
    }
   ],
   "source": [
    "d['d']"
   ]
  },
  {
   "cell_type": "code",
   "execution_count": 91,
   "id": "cd1c6ce0",
   "metadata": {},
   "outputs": [
    {
     "data": {
      "text/plain": [
       "100"
      ]
     },
     "execution_count": 91,
     "metadata": {},
     "output_type": "execute_result"
    }
   ],
   "source": [
    "d['e']"
   ]
  },
  {
   "cell_type": "code",
   "execution_count": 92,
   "id": "118e3cd5",
   "metadata": {},
   "outputs": [
    {
     "data": {
      "text/plain": [
       "defaultdict(<function __main__.random_type_back()>,\n",
       "            {'a': [10, 20, 30],\n",
       "             'b': 100,\n",
       "             'c': [10, 20, 30],\n",
       "             'd': [10, 20, 30],\n",
       "             'e': 100})"
      ]
     },
     "execution_count": 92,
     "metadata": {},
     "output_type": "execute_result"
    }
   ],
   "source": [
    "d"
   ]
  },
  {
   "cell_type": "code",
   "execution_count": 93,
   "id": "f0455941",
   "metadata": {},
   "outputs": [
    {
     "data": {
      "text/plain": [
       "100"
      ]
     },
     "execution_count": 93,
     "metadata": {},
     "output_type": "execute_result"
    }
   ],
   "source": [
    "d['f']"
   ]
  },
  {
   "cell_type": "code",
   "execution_count": 94,
   "id": "5cfa4704",
   "metadata": {},
   "outputs": [
    {
     "data": {
      "text/plain": [
       "100"
      ]
     },
     "execution_count": 94,
     "metadata": {},
     "output_type": "execute_result"
    }
   ],
   "source": [
    "d['g']"
   ]
  },
  {
   "cell_type": "code",
   "execution_count": 95,
   "id": "4a0232d0",
   "metadata": {},
   "outputs": [
    {
     "data": {
      "text/plain": [
       "'abcd'"
      ]
     },
     "execution_count": 95,
     "metadata": {},
     "output_type": "execute_result"
    }
   ],
   "source": [
    "d['h']"
   ]
  },
  {
   "cell_type": "code",
   "execution_count": 96,
   "id": "f345c757",
   "metadata": {},
   "outputs": [
    {
     "data": {
      "text/plain": [
       "defaultdict(<function __main__.random_type_back()>,\n",
       "            {'a': [10, 20, 30],\n",
       "             'b': 100,\n",
       "             'c': [10, 20, 30],\n",
       "             'd': [10, 20, 30],\n",
       "             'e': 100,\n",
       "             'f': 100,\n",
       "             'g': 100,\n",
       "             'h': 'abcd'})"
      ]
     },
     "execution_count": 96,
     "metadata": {},
     "output_type": "execute_result"
    }
   ],
   "source": [
    "d"
   ]
  },
  {
   "cell_type": "code",
   "execution_count": 97,
   "id": "a0e472be",
   "metadata": {},
   "outputs": [
    {
     "data": {
      "text/plain": [
       "['__class__',\n",
       " '__class_getitem__',\n",
       " '__contains__',\n",
       " '__copy__',\n",
       " '__delattr__',\n",
       " '__delitem__',\n",
       " '__dir__',\n",
       " '__doc__',\n",
       " '__eq__',\n",
       " '__format__',\n",
       " '__ge__',\n",
       " '__getattribute__',\n",
       " '__getitem__',\n",
       " '__gt__',\n",
       " '__hash__',\n",
       " '__init__',\n",
       " '__init_subclass__',\n",
       " '__ior__',\n",
       " '__iter__',\n",
       " '__le__',\n",
       " '__len__',\n",
       " '__lt__',\n",
       " '__missing__',\n",
       " '__ne__',\n",
       " '__new__',\n",
       " '__or__',\n",
       " '__reduce__',\n",
       " '__reduce_ex__',\n",
       " '__repr__',\n",
       " '__reversed__',\n",
       " '__ror__',\n",
       " '__setattr__',\n",
       " '__setitem__',\n",
       " '__sizeof__',\n",
       " '__str__',\n",
       " '__subclasshook__',\n",
       " 'clear',\n",
       " 'copy',\n",
       " 'default_factory',\n",
       " 'fromkeys',\n",
       " 'get',\n",
       " 'items',\n",
       " 'keys',\n",
       " 'pop',\n",
       " 'popitem',\n",
       " 'setdefault',\n",
       " 'update',\n",
       " 'values']"
      ]
     },
     "execution_count": 97,
     "metadata": {},
     "output_type": "execute_result"
    }
   ],
   "source": [
    "dir(d)"
   ]
  },
  {
   "cell_type": "code",
   "execution_count": 100,
   "id": "75d7ac6c",
   "metadata": {},
   "outputs": [
    {
     "data": {
      "text/plain": [
       "'abcd'"
      ]
     },
     "execution_count": 100,
     "metadata": {},
     "output_type": "execute_result"
    }
   ],
   "source": [
    "d.__missing__('a')"
   ]
  },
  {
   "cell_type": "code",
   "execution_count": 101,
   "id": "f819af81",
   "metadata": {},
   "outputs": [],
   "source": [
    "d = defaultdict(dict)"
   ]
  },
  {
   "cell_type": "code",
   "execution_count": 102,
   "id": "cf3aee8f",
   "metadata": {},
   "outputs": [],
   "source": [
    "d['a']['b'] = 100\n",
    "d['a']['c'] = 200\n",
    "d['x']['y'] = 123\n",
    "d['x']['z'] = 456"
   ]
  },
  {
   "cell_type": "code",
   "execution_count": 103,
   "id": "0362323e",
   "metadata": {},
   "outputs": [
    {
     "data": {
      "text/plain": [
       "defaultdict(dict, {'a': {'b': 100, 'c': 200}, 'x': {'y': 123, 'z': 456}})"
      ]
     },
     "execution_count": 103,
     "metadata": {},
     "output_type": "execute_result"
    }
   ],
   "source": [
    "d"
   ]
  },
  {
   "cell_type": "code",
   "execution_count": 104,
   "id": "d7e5c0ff",
   "metadata": {},
   "outputs": [],
   "source": [
    "import time"
   ]
  },
  {
   "cell_type": "code",
   "execution_count": 105,
   "id": "26762b2c",
   "metadata": {},
   "outputs": [
    {
     "data": {
      "text/plain": [
       "1657522683.9108832"
      ]
     },
     "execution_count": 105,
     "metadata": {},
     "output_type": "execute_result"
    }
   ],
   "source": [
    "time.time()"
   ]
  },
  {
   "cell_type": "code",
   "execution_count": 106,
   "id": "de4b7bbe",
   "metadata": {},
   "outputs": [],
   "source": [
    "d = defaultdict(time.time)"
   ]
  },
  {
   "cell_type": "code",
   "execution_count": 107,
   "id": "0cf4e70b",
   "metadata": {},
   "outputs": [
    {
     "data": {
      "text/plain": [
       "1657522701.5419688"
      ]
     },
     "execution_count": 107,
     "metadata": {},
     "output_type": "execute_result"
    }
   ],
   "source": [
    "d['a']"
   ]
  },
  {
   "cell_type": "code",
   "execution_count": 108,
   "id": "b003daf1",
   "metadata": {},
   "outputs": [
    {
     "data": {
      "text/plain": [
       "1657522702.617017"
      ]
     },
     "execution_count": 108,
     "metadata": {},
     "output_type": "execute_result"
    }
   ],
   "source": [
    "d['b']"
   ]
  },
  {
   "cell_type": "code",
   "execution_count": 109,
   "id": "34287f3f",
   "metadata": {},
   "outputs": [
    {
     "data": {
      "text/plain": [
       "1657522703.423865"
      ]
     },
     "execution_count": 109,
     "metadata": {},
     "output_type": "execute_result"
    }
   ],
   "source": [
    "d['c']"
   ]
  },
  {
   "cell_type": "code",
   "execution_count": 111,
   "id": "3fc79aad",
   "metadata": {},
   "outputs": [
    {
     "data": {
      "text/plain": [
       "1657522701.5419688"
      ]
     },
     "execution_count": 111,
     "metadata": {},
     "output_type": "execute_result"
    }
   ],
   "source": [
    "d['a']"
   ]
  },
  {
   "cell_type": "code",
   "execution_count": 112,
   "id": "14c21114",
   "metadata": {},
   "outputs": [
    {
     "data": {
      "text/plain": [
       "{}"
      ]
     },
     "execution_count": 112,
     "metadata": {},
     "output_type": "execute_result"
    }
   ],
   "source": [
    "dict()"
   ]
  },
  {
   "cell_type": "code",
   "execution_count": 114,
   "id": "a7dec52c",
   "metadata": {},
   "outputs": [],
   "source": [
    "d = defaultdict(dict)\n",
    "\n",
    "d['x']['y'] = 100      # 'x' in d --> d['x'] = dict() --> d['x']['y'] = 100"
   ]
  },
  {
   "cell_type": "markdown",
   "id": "3b3dc7c3",
   "metadata": {},
   "source": [
    "# Exercise: Travel\n",
    "\n",
    "1. Ask the user, repeatedly, to enter a string indicating the city + country where they traveled. The format should be \"city, country\".\n",
    "2. The dict that we create will have country names as keys, and lists of cities as values.\n",
    "3. When the user enters an empty string, print all countries, and all cities in each country.\n",
    "\n",
    "Example:\n",
    "\n",
    "    Destination: Beijing, China\n",
    "    Destination: Shanghai, China\n",
    "    Destination: Chicago, USA\n",
    "    Destination: Boston, USA\n",
    "    Destination: [ENTER]\n",
    "    \n",
    "    China:\n",
    "        Beijing\n",
    "        Shanghai\n",
    "    USA:\n",
    "        Chicago\n",
    "        Boston\n",
    "        \n",
    "        "
   ]
  },
  {
   "cell_type": "code",
   "execution_count": 117,
   "id": "4068de00",
   "metadata": {},
   "outputs": [
    {
     "name": "stdout",
     "output_type": "stream",
     "text": [
      "Destination: Shanghai, China\n",
      "Destination: Beijing, China\n",
      "Destination: asdfasfsa\n",
      "Enter city, country\n",
      "Destination: Boston, USA\n",
      "Destination: New York, USA\n",
      "Destination: \n",
      "China\n",
      "\tShanghai\n",
      "\tBeijing\n",
      "USA\n",
      "\tBoston\n",
      "\tNew York\n"
     ]
    }
   ],
   "source": [
    "all_places = {}\n",
    "\n",
    "while True:\n",
    "    s = input('Destination: ').strip()\n",
    "    \n",
    "    if not s:\n",
    "        break\n",
    "        \n",
    "    if s.count(',') != 1:\n",
    "        print(f'Enter city, country')\n",
    "        continue\n",
    "        \n",
    "    one_city, one_country = s.split(',')\n",
    "    one_city = one_city.strip()\n",
    "    one_country = one_country.strip()\n",
    "    \n",
    "    if one_country not in all_places:\n",
    "        all_places[one_country] = []\n",
    "        \n",
    "    all_places[one_country].append(one_city)\n",
    "    \n",
    "for one_country, all_cities in all_places.items():\n",
    "    print(one_country)\n",
    "\n",
    "    for one_city in all_cities:\n",
    "        print(f'\\t{one_city}')\n",
    "    \n",
    "    \n",
    "    "
   ]
  },
  {
   "cell_type": "code",
   "execution_count": null,
   "id": "88835a6f",
   "metadata": {},
   "outputs": [],
   "source": [
    "from collections import defaultdict\n",
    "\n",
    "all_places = defaultdict(list)\n",
    "\n",
    "while True:\n",
    "    s = input('Destination: ').strip()\n",
    "    \n",
    "    if not s:\n",
    "        break\n",
    "        \n",
    "    if s.count(',') != 1:\n",
    "        print(f'Enter city, country')\n",
    "        continue\n",
    "        \n",
    "    one_city, one_country = s.split(',')\n",
    "\n",
    "    all_places[one_country.strip()].append(one_city.strip())\n",
    "\n",
    "for one_country, all_cities in all_places.items():\n",
    "    print(one_country)\n",
    "\n",
    "    for one_city in all_cities:\n",
    "        print(f'\\t{one_city}')  "
   ]
  },
  {
   "cell_type": "code",
   "execution_count": 118,
   "id": "f7323a71",
   "metadata": {},
   "outputs": [],
   "source": [
    "from collections import Counter"
   ]
  },
  {
   "cell_type": "code",
   "execution_count": 119,
   "id": "eca503be",
   "metadata": {},
   "outputs": [],
   "source": [
    "c = Counter()"
   ]
  },
  {
   "cell_type": "code",
   "execution_count": 120,
   "id": "6a2e433d",
   "metadata": {},
   "outputs": [
    {
     "data": {
      "text/plain": [
       "Counter({'a': 22, 'b': 35, 'c': 30})"
      ]
     },
     "execution_count": 120,
     "metadata": {},
     "output_type": "execute_result"
    }
   ],
   "source": [
    "c['a'] += 10\n",
    "c['b'] += 20\n",
    "c['c'] += 30\n",
    "c['b'] += 15\n",
    "c['a'] += 12\n",
    "\n",
    "c"
   ]
  },
  {
   "cell_type": "code",
   "execution_count": 121,
   "id": "dbf37b6b",
   "metadata": {},
   "outputs": [],
   "source": [
    "c = Counter('abcdbcbbbccbcdbcdbbcd')"
   ]
  },
  {
   "cell_type": "code",
   "execution_count": 122,
   "id": "84976a18",
   "metadata": {},
   "outputs": [
    {
     "data": {
      "text/plain": [
       "Counter({'a': 1, 'b': 9, 'c': 7, 'd': 4})"
      ]
     },
     "execution_count": 122,
     "metadata": {},
     "output_type": "execute_result"
    }
   ],
   "source": [
    "c"
   ]
  },
  {
   "cell_type": "code",
   "execution_count": 123,
   "id": "eb61c593",
   "metadata": {},
   "outputs": [],
   "source": [
    "c = Counter([10, 20, 30, 20, 30, 40, 20, 30, 40, 20, 30, 40, 50, 20, 30, 20])"
   ]
  },
  {
   "cell_type": "code",
   "execution_count": 124,
   "id": "86cc2247",
   "metadata": {},
   "outputs": [
    {
     "data": {
      "text/plain": [
       "Counter({10: 1, 20: 6, 30: 5, 40: 3, 50: 1})"
      ]
     },
     "execution_count": 124,
     "metadata": {},
     "output_type": "execute_result"
    }
   ],
   "source": [
    "c"
   ]
  },
  {
   "cell_type": "code",
   "execution_count": 125,
   "id": "13fc5c2a",
   "metadata": {},
   "outputs": [
    {
     "data": {
      "text/plain": [
       "[(20, 6), (30, 5), (40, 3), (10, 1), (50, 1)]"
      ]
     },
     "execution_count": 125,
     "metadata": {},
     "output_type": "execute_result"
    }
   ],
   "source": [
    "c.most_common()"
   ]
  },
  {
   "cell_type": "code",
   "execution_count": 126,
   "id": "6bdf32d4",
   "metadata": {},
   "outputs": [
    {
     "data": {
      "text/plain": [
       "[(20, 6), (30, 5), (40, 3)]"
      ]
     },
     "execution_count": 126,
     "metadata": {},
     "output_type": "execute_result"
    }
   ],
   "source": [
    "c.most_common(3)"
   ]
  },
  {
   "cell_type": "code",
   "execution_count": 127,
   "id": "a42f6cc5",
   "metadata": {},
   "outputs": [],
   "source": [
    "c1 = Counter([10, 20, 30, 20, 30, 40])\n",
    "c2 = Counter([30, 40, 50, 30, 40, 50, 30])"
   ]
  },
  {
   "cell_type": "code",
   "execution_count": 128,
   "id": "d8dfcedb",
   "metadata": {},
   "outputs": [
    {
     "data": {
      "text/plain": [
       "Counter({10: 1, 20: 2, 30: 2, 40: 1})"
      ]
     },
     "execution_count": 128,
     "metadata": {},
     "output_type": "execute_result"
    }
   ],
   "source": [
    "c1"
   ]
  },
  {
   "cell_type": "code",
   "execution_count": 129,
   "id": "523e5a54",
   "metadata": {},
   "outputs": [
    {
     "data": {
      "text/plain": [
       "Counter({30: 3, 40: 2, 50: 2})"
      ]
     },
     "execution_count": 129,
     "metadata": {},
     "output_type": "execute_result"
    }
   ],
   "source": [
    "c2"
   ]
  },
  {
   "cell_type": "code",
   "execution_count": 130,
   "id": "02d3f95f",
   "metadata": {},
   "outputs": [
    {
     "data": {
      "text/plain": [
       "Counter({10: 1, 20: 2, 30: 5, 40: 3, 50: 2})"
      ]
     },
     "execution_count": 130,
     "metadata": {},
     "output_type": "execute_result"
    }
   ],
   "source": [
    "c1 + c2"
   ]
  },
  {
   "cell_type": "code",
   "execution_count": 131,
   "id": "6eded1c6",
   "metadata": {},
   "outputs": [
    {
     "data": {
      "text/plain": [
       "Counter({10: 1, 20: 2, 30: 3, 40: 2, 50: 2})"
      ]
     },
     "execution_count": 131,
     "metadata": {},
     "output_type": "execute_result"
    }
   ],
   "source": [
    "c1 | c2   # union of the two counters"
   ]
  },
  {
   "cell_type": "code",
   "execution_count": 132,
   "id": "529b34c4",
   "metadata": {},
   "outputs": [
    {
     "data": {
      "text/plain": [
       "{'a': 10, 'b': 100, 'c': 200, 'd': 300}"
      ]
     },
     "execution_count": 132,
     "metadata": {},
     "output_type": "execute_result"
    }
   ],
   "source": [
    "d1 = {'a':10, 'b':20, 'c':30}\n",
    "d2 = {'b':100, 'c':200, 'd':300}\n",
    "\n",
    "d1 | d2"
   ]
  },
  {
   "cell_type": "code",
   "execution_count": 133,
   "id": "51012722",
   "metadata": {},
   "outputs": [
    {
     "data": {
      "text/plain": [
       "{'a': 10, 'b': 100, 'c': 200, 'd': 300}"
      ]
     },
     "execution_count": 133,
     "metadata": {},
     "output_type": "execute_result"
    }
   ],
   "source": [
    "d1.update(d2)  # this modifies d1!\n",
    "\n",
    "d1"
   ]
  },
  {
   "cell_type": "code",
   "execution_count": 134,
   "id": "79aa8df3",
   "metadata": {},
   "outputs": [
    {
     "ename": "TypeError",
     "evalue": "unsupported operand type(s) for +: 'dict' and 'dict'",
     "output_type": "error",
     "traceback": [
      "\u001b[0;31m---------------------------------------------------------------------------\u001b[0m",
      "\u001b[0;31mTypeError\u001b[0m                                 Traceback (most recent call last)",
      "\u001b[0;32m/var/folders/rr/0mnyyv811fs5vyp22gf4fxk00000gn/T/ipykernel_200/1575791415.py\u001b[0m in \u001b[0;36m<module>\u001b[0;34m\u001b[0m\n\u001b[0;32m----> 1\u001b[0;31m \u001b[0md1\u001b[0m \u001b[0;34m+\u001b[0m \u001b[0md2\u001b[0m\u001b[0;34m\u001b[0m\u001b[0;34m\u001b[0m\u001b[0m\n\u001b[0m",
      "\u001b[0;31mTypeError\u001b[0m: unsupported operand type(s) for +: 'dict' and 'dict'"
     ]
    }
   ],
   "source": [
    "d1 + d2"
   ]
  },
  {
   "cell_type": "markdown",
   "id": "7e742e2f",
   "metadata": {},
   "source": [
    "# Next up:\n",
    "\n",
    "1. Functions\n",
    "     - Bytecodes\n",
    "     - Function objects\n",
    "     - Scoping\n",
    "\n",
    "Resume at 10:55"
   ]
  },
  {
   "cell_type": "code",
   "execution_count": null,
   "id": "6708ce95",
   "metadata": {},
   "outputs": [],
   "source": [
    "from collections import defaultdict\n",
    "\n",
    "all_places = defaultdict(list)\n",
    "\n",
    "while True:\n",
    "    s = input('Destination: ').strip()\n",
    "    \n",
    "    if not s:\n",
    "        break\n",
    "        \n",
    "    if s.count(',') != 1:\n",
    "        print(f'Enter city, country')\n",
    "        continue\n",
    "        \n",
    "    one_city, one_country = s.split(',')\n",
    "\n",
    "    all_places[one_country.strip()].append(one_city.strip())"
   ]
  },
  {
   "cell_type": "code",
   "execution_count": 135,
   "id": "f54c854e",
   "metadata": {},
   "outputs": [
    {
     "data": {
      "text/plain": [
       "{'China': ['Shanghai', 'Beijing'], 'USA': ['Boston', 'New York']}"
      ]
     },
     "execution_count": 135,
     "metadata": {},
     "output_type": "execute_result"
    }
   ],
   "source": [
    "all_places"
   ]
  },
  {
   "cell_type": "code",
   "execution_count": 137,
   "id": "6e3e8264",
   "metadata": {},
   "outputs": [
    {
     "name": "stdout",
     "output_type": "stream",
     "text": [
      "China\n",
      "all_cities=['Shanghai', 'Beijing']\n",
      "\tShanghai\n",
      "\tBeijing\n",
      "USA\n",
      "all_cities=['Boston', 'New York']\n",
      "\tBoston\n",
      "\tNew York\n"
     ]
    }
   ],
   "source": [
    "for one_country, all_cities in all_places.items():\n",
    "    print(one_country)\n",
    "    print(f'{all_cities=}')\n",
    "\n",
    "    for one_city in all_cities:\n",
    "        print(f'\\t{one_city}')  "
   ]
  },
  {
   "cell_type": "code",
   "execution_count": 138,
   "id": "c69ce617",
   "metadata": {},
   "outputs": [
    {
     "data": {
      "text/plain": [
       "str"
      ]
     },
     "execution_count": 138,
     "metadata": {},
     "output_type": "execute_result"
    }
   ],
   "source": [
    "type(one_city)"
   ]
  },
  {
   "cell_type": "code",
   "execution_count": 139,
   "id": "cb500ad9",
   "metadata": {},
   "outputs": [
    {
     "data": {
      "text/plain": [
       "'New York'"
      ]
     },
     "execution_count": 139,
     "metadata": {},
     "output_type": "execute_result"
    }
   ],
   "source": [
    "one_city"
   ]
  },
  {
   "cell_type": "code",
   "execution_count": 140,
   "id": "7189e9c1",
   "metadata": {},
   "outputs": [
    {
     "name": "stdout",
     "output_type": "stream",
     "text": [
      "China\n",
      "\t\t city='Shanghai' <class 'str'>\n",
      "\t\t city='Beijing' <class 'str'>\n",
      "USA\n",
      "\t\t city='Boston' <class 'str'>\n",
      "\t\t city='New York' <class 'str'>\n"
     ]
    }
   ],
   "source": [
    "from collections import defaultdict\n",
    "dTravel = defaultdict(list)\n",
    "while True:\n",
    "    user_input = input('Please enter a string indicating the city + country where you traveled. The format should be \"city, country\".').strip()\n",
    "    if not user_input:\n",
    "        break\n",
    "    strCity, strCountry = user_input.split(',')\n",
    "    dTravel[strCountry.strip()].append([strCity.strip()])\n",
    "for one_country, all_cities in dTravel.items():\n",
    "    print(f'{one_country}')\n",
    "    for city in all_cities:\n",
    "        print(f'\\t\\t {city=} {type(city)}')"
   ]
  },
  {
   "cell_type": "code",
   "execution_count": 141,
   "id": "43f07716",
   "metadata": {},
   "outputs": [],
   "source": [
    "mylist = [10, 20, 30]\n",
    "\n",
    "mylist.append(40)"
   ]
  },
  {
   "cell_type": "code",
   "execution_count": 142,
   "id": "507ae081",
   "metadata": {},
   "outputs": [
    {
     "data": {
      "text/plain": [
       "[10, 20, 30, 40]"
      ]
     },
     "execution_count": 142,
     "metadata": {},
     "output_type": "execute_result"
    }
   ],
   "source": [
    "mylist"
   ]
  },
  {
   "cell_type": "code",
   "execution_count": 143,
   "id": "52e360cc",
   "metadata": {},
   "outputs": [
    {
     "data": {
      "text/plain": [
       "[10, 20, 30, 40, [40]]"
      ]
     },
     "execution_count": 143,
     "metadata": {},
     "output_type": "execute_result"
    }
   ],
   "source": [
    "mylist.append([40])\n",
    "mylist"
   ]
  },
  {
   "cell_type": "code",
   "execution_count": 144,
   "id": "06d0bbd1",
   "metadata": {},
   "outputs": [],
   "source": [
    "def hello():\n",
    "    return 'Hello'"
   ]
  },
  {
   "cell_type": "code",
   "execution_count": 145,
   "id": "98c85287",
   "metadata": {},
   "outputs": [
    {
     "data": {
      "text/plain": [
       "function"
      ]
     },
     "execution_count": 145,
     "metadata": {},
     "output_type": "execute_result"
    }
   ],
   "source": [
    "type(hello)"
   ]
  },
  {
   "cell_type": "code",
   "execution_count": 146,
   "id": "e32d00ff",
   "metadata": {},
   "outputs": [],
   "source": [
    "hello = 7"
   ]
  },
  {
   "cell_type": "code",
   "execution_count": 147,
   "id": "99c2ca55",
   "metadata": {},
   "outputs": [
    {
     "ename": "TypeError",
     "evalue": "'int' object is not callable",
     "output_type": "error",
     "traceback": [
      "\u001b[0;31m---------------------------------------------------------------------------\u001b[0m",
      "\u001b[0;31mTypeError\u001b[0m                                 Traceback (most recent call last)",
      "\u001b[0;32m/var/folders/rr/0mnyyv811fs5vyp22gf4fxk00000gn/T/ipykernel_200/2674044599.py\u001b[0m in \u001b[0;36m<module>\u001b[0;34m\u001b[0m\n\u001b[0;32m----> 1\u001b[0;31m \u001b[0mhello\u001b[0m\u001b[0;34m(\u001b[0m\u001b[0;34m)\u001b[0m\u001b[0;34m\u001b[0m\u001b[0;34m\u001b[0m\u001b[0m\n\u001b[0m",
      "\u001b[0;31mTypeError\u001b[0m: 'int' object is not callable"
     ]
    }
   ],
   "source": [
    "hello()"
   ]
  },
  {
   "cell_type": "code",
   "execution_count": 148,
   "id": "c68e56ad",
   "metadata": {},
   "outputs": [
    {
     "data": {
      "text/plain": [
       "int"
      ]
     },
     "execution_count": 148,
     "metadata": {},
     "output_type": "execute_result"
    }
   ],
   "source": [
    "type(hello)"
   ]
  },
  {
   "cell_type": "code",
   "execution_count": 149,
   "id": "45be4ceb",
   "metadata": {},
   "outputs": [],
   "source": [
    "def hello():\n",
    "    return 'Hello'"
   ]
  },
  {
   "cell_type": "code",
   "execution_count": 150,
   "id": "e862c017",
   "metadata": {},
   "outputs": [],
   "source": [
    "def hello(name):\n",
    "    return f'Hello, {name}!'"
   ]
  },
  {
   "cell_type": "code",
   "execution_count": 151,
   "id": "17a14efe",
   "metadata": {},
   "outputs": [
    {
     "data": {
      "text/plain": [
       "'Hello, Reuven!'"
      ]
     },
     "execution_count": 151,
     "metadata": {},
     "output_type": "execute_result"
    }
   ],
   "source": [
    "hello('Reuven')"
   ]
  },
  {
   "cell_type": "code",
   "execution_count": 152,
   "id": "8eb39860",
   "metadata": {},
   "outputs": [
    {
     "ename": "TypeError",
     "evalue": "hello() missing 1 required positional argument: 'name'",
     "output_type": "error",
     "traceback": [
      "\u001b[0;31m---------------------------------------------------------------------------\u001b[0m",
      "\u001b[0;31mTypeError\u001b[0m                                 Traceback (most recent call last)",
      "\u001b[0;32m/var/folders/rr/0mnyyv811fs5vyp22gf4fxk00000gn/T/ipykernel_200/2674044599.py\u001b[0m in \u001b[0;36m<module>\u001b[0;34m\u001b[0m\n\u001b[0;32m----> 1\u001b[0;31m \u001b[0mhello\u001b[0m\u001b[0;34m(\u001b[0m\u001b[0;34m)\u001b[0m\u001b[0;34m\u001b[0m\u001b[0;34m\u001b[0m\u001b[0m\n\u001b[0m",
      "\u001b[0;31mTypeError\u001b[0m: hello() missing 1 required positional argument: 'name'"
     ]
    }
   ],
   "source": [
    "hello()"
   ]
  },
  {
   "cell_type": "code",
   "execution_count": 153,
   "id": "2dc045fd",
   "metadata": {},
   "outputs": [],
   "source": [
    "def hello():\n",
    "    return 'Hello'"
   ]
  },
  {
   "cell_type": "code",
   "execution_count": 154,
   "id": "cd59bdf5",
   "metadata": {},
   "outputs": [
    {
     "ename": "TypeError",
     "evalue": "hello() takes 0 positional arguments but 1 was given",
     "output_type": "error",
     "traceback": [
      "\u001b[0;31m---------------------------------------------------------------------------\u001b[0m",
      "\u001b[0;31mTypeError\u001b[0m                                 Traceback (most recent call last)",
      "\u001b[0;32m/var/folders/rr/0mnyyv811fs5vyp22gf4fxk00000gn/T/ipykernel_200/2504046000.py\u001b[0m in \u001b[0;36m<module>\u001b[0;34m\u001b[0m\n\u001b[0;32m----> 1\u001b[0;31m \u001b[0mhello\u001b[0m\u001b[0;34m(\u001b[0m\u001b[0;34m'Reuven'\u001b[0m\u001b[0;34m)\u001b[0m\u001b[0;34m\u001b[0m\u001b[0;34m\u001b[0m\u001b[0m\n\u001b[0m",
      "\u001b[0;31mTypeError\u001b[0m: hello() takes 0 positional arguments but 1 was given"
     ]
    }
   ],
   "source": [
    "hello('Reuven')"
   ]
  },
  {
   "cell_type": "markdown",
   "id": "84379404",
   "metadata": {},
   "source": [
    "# Arguments in Python\n",
    "\n",
    "There are two types of arguments in Python:\n",
    "\n",
    "1. Positional arguments -- based on their positions in the argument list, the values will be assigned to parameters.\n",
    "2. Keyword arguments -- they always look like `name=value`, and they are assigned based on the `name`."
   ]
  },
  {
   "cell_type": "code",
   "execution_count": 155,
   "id": "497d0829",
   "metadata": {},
   "outputs": [
    {
     "data": {
      "text/plain": [
       "0"
      ]
     },
     "execution_count": 155,
     "metadata": {},
     "output_type": "execute_result"
    }
   ],
   "source": [
    "hello.__code__.co_argcount"
   ]
  },
  {
   "cell_type": "code",
   "execution_count": 156,
   "id": "e1cce3bd",
   "metadata": {},
   "outputs": [
    {
     "data": {
      "text/plain": [
       "True"
      ]
     },
     "execution_count": 156,
     "metadata": {},
     "output_type": "execute_result"
    }
   ],
   "source": [
    "callable(hello)"
   ]
  },
  {
   "cell_type": "code",
   "execution_count": 157,
   "id": "5d8cb632",
   "metadata": {},
   "outputs": [],
   "source": [
    "x = hello()"
   ]
  },
  {
   "cell_type": "code",
   "execution_count": 158,
   "id": "2205e6a9",
   "metadata": {},
   "outputs": [
    {
     "name": "stdout",
     "output_type": "stream",
     "text": [
      "Hello\n"
     ]
    }
   ],
   "source": [
    "print(x)"
   ]
  },
  {
   "cell_type": "code",
   "execution_count": 160,
   "id": "e6f8b330",
   "metadata": {},
   "outputs": [],
   "source": [
    "import dis  # disassemble"
   ]
  },
  {
   "cell_type": "code",
   "execution_count": 161,
   "id": "10c3f2db",
   "metadata": {},
   "outputs": [
    {
     "data": {
      "text/plain": [
       "b'd\\x01S\\x00'"
      ]
     },
     "execution_count": 161,
     "metadata": {},
     "output_type": "execute_result"
    }
   ],
   "source": [
    "hello.__code__.co_code"
   ]
  },
  {
   "cell_type": "code",
   "execution_count": 163,
   "id": "12740c5b",
   "metadata": {},
   "outputs": [
    {
     "name": "stdout",
     "output_type": "stream",
     "text": [
      "  2           0 LOAD_CONST               1 ('Hello')\n",
      "              2 RETURN_VALUE\n"
     ]
    }
   ],
   "source": [
    "def hello():\n",
    "    return 'Hello'\n",
    "\n",
    "dis.dis(hello)"
   ]
  },
  {
   "cell_type": "code",
   "execution_count": 164,
   "id": "a3a9faeb",
   "metadata": {},
   "outputs": [
    {
     "data": {
      "text/plain": [
       "(None, 'Hello')"
      ]
     },
     "execution_count": 164,
     "metadata": {},
     "output_type": "execute_result"
    }
   ],
   "source": [
    "hello.__code__.co_consts"
   ]
  },
  {
   "cell_type": "code",
   "execution_count": 165,
   "id": "8ec4f055",
   "metadata": {},
   "outputs": [],
   "source": [
    "def hello():\n",
    "    pass"
   ]
  },
  {
   "cell_type": "code",
   "execution_count": 166,
   "id": "6677597f",
   "metadata": {},
   "outputs": [
    {
     "name": "stdout",
     "output_type": "stream",
     "text": [
      "None\n"
     ]
    }
   ],
   "source": [
    "print(hello())"
   ]
  },
  {
   "cell_type": "code",
   "execution_count": 167,
   "id": "31fd3769",
   "metadata": {},
   "outputs": [
    {
     "name": "stdout",
     "output_type": "stream",
     "text": [
      "  2           0 LOAD_CONST               0 (None)\n",
      "              2 RETURN_VALUE\n"
     ]
    }
   ],
   "source": [
    "dis.dis(hello)"
   ]
  },
  {
   "cell_type": "code",
   "execution_count": 168,
   "id": "71dd7608",
   "metadata": {},
   "outputs": [],
   "source": [
    "def add():\n",
    "    x = 10 + 3\n",
    "    "
   ]
  },
  {
   "cell_type": "code",
   "execution_count": 169,
   "id": "f2ce2f2d",
   "metadata": {},
   "outputs": [
    {
     "name": "stdout",
     "output_type": "stream",
     "text": [
      "  2           0 LOAD_CONST               1 (13)\n",
      "              2 STORE_FAST               0 (x)\n",
      "              4 LOAD_CONST               0 (None)\n",
      "              6 RETURN_VALUE\n"
     ]
    }
   ],
   "source": [
    "dis.dis(add)"
   ]
  },
  {
   "cell_type": "code",
   "execution_count": 170,
   "id": "c62f3680",
   "metadata": {},
   "outputs": [],
   "source": [
    "def myfunc():\n",
    "    x = [10, 20, 30]\n",
    "    return x"
   ]
  },
  {
   "cell_type": "code",
   "execution_count": 171,
   "id": "e2c1a6e3",
   "metadata": {},
   "outputs": [
    {
     "name": "stdout",
     "output_type": "stream",
     "text": [
      "  2           0 BUILD_LIST               0\n",
      "              2 LOAD_CONST               1 ((10, 20, 30))\n",
      "              4 LIST_EXTEND              1\n",
      "              6 STORE_FAST               0 (x)\n",
      "\n",
      "  3           8 LOAD_FAST                0 (x)\n",
      "             10 RETURN_VALUE\n"
     ]
    }
   ],
   "source": [
    "dis.dis(myfunc)"
   ]
  },
  {
   "cell_type": "code",
   "execution_count": 172,
   "id": "4ab799b6",
   "metadata": {},
   "outputs": [],
   "source": [
    "mylist = []\n",
    "mylist.extend((10, 20, 30))"
   ]
  },
  {
   "cell_type": "code",
   "execution_count": 173,
   "id": "7f0c266d",
   "metadata": {},
   "outputs": [
    {
     "data": {
      "text/plain": [
       "(None, (10, 20, 30))"
      ]
     },
     "execution_count": 173,
     "metadata": {},
     "output_type": "execute_result"
    }
   ],
   "source": [
    "myfunc.__code__.co_consts"
   ]
  },
  {
   "cell_type": "code",
   "execution_count": 174,
   "id": "50505d3e",
   "metadata": {},
   "outputs": [],
   "source": [
    "def myfunc():\n",
    "    x = (10, 20, 30)\n",
    "    return x"
   ]
  },
  {
   "cell_type": "code",
   "execution_count": 175,
   "id": "596f2bf9",
   "metadata": {},
   "outputs": [
    {
     "name": "stdout",
     "output_type": "stream",
     "text": [
      "  2           0 LOAD_CONST               1 ((10, 20, 30))\n",
      "              2 STORE_FAST               0 (x)\n",
      "\n",
      "  3           4 LOAD_FAST                0 (x)\n",
      "              6 RETURN_VALUE\n"
     ]
    }
   ],
   "source": [
    "dis.dis(myfunc)"
   ]
  },
  {
   "cell_type": "code",
   "execution_count": 176,
   "id": "73ef6b53",
   "metadata": {},
   "outputs": [],
   "source": [
    "def myfunc():\n",
    "    x = [10]\n",
    "    return x"
   ]
  },
  {
   "cell_type": "code",
   "execution_count": 177,
   "id": "06c7283e",
   "metadata": {},
   "outputs": [
    {
     "name": "stdout",
     "output_type": "stream",
     "text": [
      "  2           0 LOAD_CONST               1 (10)\n",
      "              2 BUILD_LIST               1\n",
      "              4 STORE_FAST               0 (x)\n",
      "\n",
      "  3           6 LOAD_FAST                0 (x)\n",
      "              8 RETURN_VALUE\n"
     ]
    }
   ],
   "source": [
    "dis.dis(myfunc)"
   ]
  },
  {
   "cell_type": "code",
   "execution_count": 178,
   "id": "c139162a",
   "metadata": {},
   "outputs": [],
   "source": [
    "def myfunc():\n",
    "    x = [10, 20]\n",
    "    return x"
   ]
  },
  {
   "cell_type": "code",
   "execution_count": 179,
   "id": "9ca5a03f",
   "metadata": {},
   "outputs": [
    {
     "name": "stdout",
     "output_type": "stream",
     "text": [
      "  2           0 LOAD_CONST               1 (10)\n",
      "              2 LOAD_CONST               2 (20)\n",
      "              4 BUILD_LIST               2\n",
      "              6 STORE_FAST               0 (x)\n",
      "\n",
      "  3           8 LOAD_FAST                0 (x)\n",
      "             10 RETURN_VALUE\n"
     ]
    }
   ],
   "source": [
    "dis.dis(myfunc)"
   ]
  },
  {
   "cell_type": "code",
   "execution_count": 182,
   "id": "822a9033",
   "metadata": {},
   "outputs": [],
   "source": [
    "def myfunc():\n",
    "    d = {'a':10, 'b':20, 'c':30}\n",
    "    return d"
   ]
  },
  {
   "cell_type": "code",
   "execution_count": 183,
   "id": "e74f052c",
   "metadata": {},
   "outputs": [
    {
     "name": "stdout",
     "output_type": "stream",
     "text": [
      "  2           0 LOAD_CONST               1 (10)\n",
      "              2 LOAD_CONST               2 (20)\n",
      "              4 LOAD_CONST               3 (30)\n",
      "              6 LOAD_CONST               4 (('a', 'b', 'c'))\n",
      "              8 BUILD_CONST_KEY_MAP      3\n",
      "             10 STORE_FAST               0 (d)\n",
      "\n",
      "  3          12 LOAD_FAST                0 (d)\n",
      "             14 RETURN_VALUE\n"
     ]
    }
   ],
   "source": [
    "dis.dis(myfunc)"
   ]
  },
  {
   "cell_type": "code",
   "execution_count": 185,
   "id": "04b04855",
   "metadata": {},
   "outputs": [],
   "source": [
    "def hello(name):\n",
    "    return name"
   ]
  },
  {
   "cell_type": "code",
   "execution_count": 186,
   "id": "1d32f654",
   "metadata": {},
   "outputs": [
    {
     "name": "stdout",
     "output_type": "stream",
     "text": [
      "  2           0 LOAD_FAST                0 (name)\n",
      "              2 RETURN_VALUE\n"
     ]
    }
   ],
   "source": [
    "dis.dis(hello)"
   ]
  },
  {
   "cell_type": "code",
   "execution_count": 187,
   "id": "b78933d3",
   "metadata": {},
   "outputs": [
    {
     "data": {
      "text/plain": [
       "1"
      ]
     },
     "execution_count": 187,
     "metadata": {},
     "output_type": "execute_result"
    }
   ],
   "source": [
    "hello.__code__.co_argcount"
   ]
  },
  {
   "cell_type": "code",
   "execution_count": 188,
   "id": "dd32da0b",
   "metadata": {},
   "outputs": [
    {
     "data": {
      "text/plain": [
       "('name',)"
      ]
     },
     "execution_count": 188,
     "metadata": {},
     "output_type": "execute_result"
    }
   ],
   "source": [
    "hello.__code__.co_varnames"
   ]
  },
  {
   "cell_type": "code",
   "execution_count": 189,
   "id": "849b171a",
   "metadata": {},
   "outputs": [
    {
     "data": {
      "text/plain": [
       "'Reuven'"
      ]
     },
     "execution_count": 189,
     "metadata": {},
     "output_type": "execute_result"
    }
   ],
   "source": [
    "# parameters: name\n",
    "# arguments: 'Reuven'\n",
    "\n",
    "\n",
    "hello('Reuven')"
   ]
  },
  {
   "cell_type": "code",
   "execution_count": 190,
   "id": "0e423f14",
   "metadata": {},
   "outputs": [
    {
     "data": {
      "text/plain": [
       "'Reuven'"
      ]
     },
     "execution_count": 190,
     "metadata": {},
     "output_type": "execute_result"
    }
   ],
   "source": [
    "# parameters: name\n",
    "# arguments: 'Reuven'\n",
    "\n",
    "\n",
    "hello(name='Reuven')"
   ]
  },
  {
   "cell_type": "code",
   "execution_count": 191,
   "id": "225f2851",
   "metadata": {},
   "outputs": [],
   "source": [
    "def add(first, second):\n",
    "    return first + second"
   ]
  },
  {
   "cell_type": "code",
   "execution_count": 193,
   "id": "8f1d931d",
   "metadata": {},
   "outputs": [
    {
     "data": {
      "text/plain": [
       "13"
      ]
     },
     "execution_count": 193,
     "metadata": {},
     "output_type": "execute_result"
    }
   ],
   "source": [
    "# parameters: first second\n",
    "# arguments:   10    3\n",
    "\n",
    "add(10, 3)"
   ]
  },
  {
   "cell_type": "code",
   "execution_count": 194,
   "id": "1370f46c",
   "metadata": {},
   "outputs": [
    {
     "data": {
      "text/plain": [
       "13"
      ]
     },
     "execution_count": 194,
     "metadata": {},
     "output_type": "execute_result"
    }
   ],
   "source": [
    "# parameters: first second\n",
    "# arguments:  10      3\n",
    "\n",
    "add(first=10, second=3)"
   ]
  },
  {
   "cell_type": "code",
   "execution_count": 195,
   "id": "aab8b72c",
   "metadata": {},
   "outputs": [
    {
     "data": {
      "text/plain": [
       "13"
      ]
     },
     "execution_count": 195,
     "metadata": {},
     "output_type": "execute_result"
    }
   ],
   "source": [
    "# parameters: first second\n",
    "# arguments:   10    3\n",
    "\n",
    "add(10, second=3)"
   ]
  },
  {
   "cell_type": "code",
   "execution_count": 196,
   "id": "af13649e",
   "metadata": {},
   "outputs": [
    {
     "ename": "SyntaxError",
     "evalue": "positional argument follows keyword argument (3828676014.py, line 4)",
     "output_type": "error",
     "traceback": [
      "\u001b[0;36m  File \u001b[0;32m\"/var/folders/rr/0mnyyv811fs5vyp22gf4fxk00000gn/T/ipykernel_200/3828676014.py\"\u001b[0;36m, line \u001b[0;32m4\u001b[0m\n\u001b[0;31m    add(first=10, 3)\u001b[0m\n\u001b[0m                   ^\u001b[0m\n\u001b[0;31mSyntaxError\u001b[0m\u001b[0;31m:\u001b[0m positional argument follows keyword argument\n"
     ]
    }
   ],
   "source": [
    "# parameters: first second\n",
    "# arguments:  \n",
    "\n",
    "add(first=10, 3)     # keyword argument first=10  comes before positional argument 3"
   ]
  },
  {
   "cell_type": "code",
   "execution_count": 197,
   "id": "61f9fe8f",
   "metadata": {},
   "outputs": [
    {
     "data": {
      "text/plain": [
       "13"
      ]
     },
     "execution_count": 197,
     "metadata": {},
     "output_type": "execute_result"
    }
   ],
   "source": [
    "# parameters: first second\n",
    "# arguments:  3      10\n",
    "\n",
    "add(second=10, first=3)"
   ]
  },
  {
   "cell_type": "code",
   "execution_count": 199,
   "id": "60f390f6",
   "metadata": {},
   "outputs": [],
   "source": [
    "# here, we have a function with a default argument for the parameter \"second\"\n",
    "\n",
    "def add(first, second=10):\n",
    "    return first + second"
   ]
  },
  {
   "cell_type": "code",
   "execution_count": 201,
   "id": "8115c4f3",
   "metadata": {},
   "outputs": [
    {
     "data": {
      "text/plain": [
       "5"
      ]
     },
     "execution_count": 201,
     "metadata": {},
     "output_type": "execute_result"
    }
   ],
   "source": [
    "# parameters: first second\n",
    "# arguments:   2     3\n",
    "\n",
    "add(2, 3)"
   ]
  },
  {
   "cell_type": "code",
   "execution_count": 203,
   "id": "5f67560d",
   "metadata": {},
   "outputs": [
    {
     "data": {
      "text/plain": [
       "12"
      ]
     },
     "execution_count": 203,
     "metadata": {},
     "output_type": "execute_result"
    }
   ],
   "source": [
    "# parameters: first second\n",
    "# arguments:    2    10\n",
    "\n",
    "add(2)"
   ]
  },
  {
   "cell_type": "code",
   "execution_count": 202,
   "id": "f09b73a3",
   "metadata": {},
   "outputs": [
    {
     "data": {
      "text/plain": [
       "(10,)"
      ]
     },
     "execution_count": 202,
     "metadata": {},
     "output_type": "execute_result"
    }
   ],
   "source": [
    "add.__defaults__"
   ]
  },
  {
   "cell_type": "code",
   "execution_count": 204,
   "id": "9d4c899a",
   "metadata": {},
   "outputs": [],
   "source": [
    "def add(w,x=2,y=3,z=4):\n",
    "    return w + x + y +z"
   ]
  },
  {
   "cell_type": "code",
   "execution_count": 205,
   "id": "fbf694cb",
   "metadata": {},
   "outputs": [
    {
     "data": {
      "text/plain": [
       "(2, 3, 4)"
      ]
     },
     "execution_count": 205,
     "metadata": {},
     "output_type": "execute_result"
    }
   ],
   "source": [
    "add.__defaults__"
   ]
  },
  {
   "cell_type": "code",
   "execution_count": 206,
   "id": "4ac738a2",
   "metadata": {},
   "outputs": [
    {
     "data": {
      "text/plain": [
       "37"
      ]
     },
     "execution_count": 206,
     "metadata": {},
     "output_type": "execute_result"
    }
   ],
   "source": [
    "# parameters:  w   x   y   z\n",
    "# arguments:  10   20  3   4\n",
    "\n",
    "add(10, 20)"
   ]
  },
  {
   "cell_type": "code",
   "execution_count": 209,
   "id": "a8c28dfe",
   "metadata": {},
   "outputs": [
    {
     "data": {
      "text/plain": [
       "36"
      ]
     },
     "execution_count": 209,
     "metadata": {},
     "output_type": "execute_result"
    }
   ],
   "source": [
    "# parameters:  w   x   y   z\n",
    "# arguments:   10   2   20   4\n",
    "\n",
    "add(10, y=20)"
   ]
  },
  {
   "cell_type": "code",
   "execution_count": 207,
   "id": "a5ab9e47",
   "metadata": {},
   "outputs": [
    {
     "data": {
      "text/plain": [
       "('w', 'x', 'y', 'z')"
      ]
     },
     "execution_count": 207,
     "metadata": {},
     "output_type": "execute_result"
    }
   ],
   "source": [
    "add.__code__.co_varnames"
   ]
  },
  {
   "cell_type": "code",
   "execution_count": 210,
   "id": "c2a745af",
   "metadata": {},
   "outputs": [
    {
     "data": {
      "text/plain": [
       "(2, 3, 4)"
      ]
     },
     "execution_count": 210,
     "metadata": {},
     "output_type": "execute_result"
    }
   ],
   "source": [
    "add.__defaults__      # \"dunder defaults\" == \"double underscore\""
   ]
  },
  {
   "cell_type": "code",
   "execution_count": 211,
   "id": "431ab9b6",
   "metadata": {},
   "outputs": [
    {
     "data": {
      "text/plain": [
       "35"
      ]
     },
     "execution_count": 211,
     "metadata": {},
     "output_type": "execute_result"
    }
   ],
   "source": [
    "add(10, z=20)"
   ]
  },
  {
   "cell_type": "markdown",
   "id": "48056be5",
   "metadata": {},
   "source": [
    "# Parameters\n",
    "\n",
    "1. Mandatory parameters (can accept positional or keyword arguments)\n",
    "2. Optional parameters (can accept positional or keyword arguments), with default values in `__defaults__`\n"
   ]
  },
  {
   "cell_type": "code",
   "execution_count": 212,
   "id": "53a3d46b",
   "metadata": {},
   "outputs": [
    {
     "data": {
      "text/plain": [
       "[10, 20, 30, 1]"
      ]
     },
     "execution_count": 212,
     "metadata": {},
     "output_type": "execute_result"
    }
   ],
   "source": [
    "def add_one(x=[]):\n",
    "    x.append(1)\n",
    "    return x\n",
    "\n",
    "mylist = [10, 20, 30]\n",
    "add_one(mylist)"
   ]
  },
  {
   "cell_type": "code",
   "execution_count": 213,
   "id": "beaa2b3e",
   "metadata": {},
   "outputs": [
    {
     "data": {
      "text/plain": [
       "[10, 20, 30, 1]"
      ]
     },
     "execution_count": 213,
     "metadata": {},
     "output_type": "execute_result"
    }
   ],
   "source": [
    "mylist"
   ]
  },
  {
   "cell_type": "code",
   "execution_count": 214,
   "id": "3ccf035f",
   "metadata": {},
   "outputs": [
    {
     "data": {
      "text/plain": [
       "[1]"
      ]
     },
     "execution_count": 214,
     "metadata": {},
     "output_type": "execute_result"
    }
   ],
   "source": [
    "add_one()"
   ]
  },
  {
   "cell_type": "code",
   "execution_count": 215,
   "id": "05fda41e",
   "metadata": {},
   "outputs": [
    {
     "data": {
      "text/plain": [
       "[1, 1]"
      ]
     },
     "execution_count": 215,
     "metadata": {},
     "output_type": "execute_result"
    }
   ],
   "source": [
    "add_one()"
   ]
  },
  {
   "cell_type": "code",
   "execution_count": 216,
   "id": "67100863",
   "metadata": {},
   "outputs": [
    {
     "data": {
      "text/plain": [
       "[1, 1, 1]"
      ]
     },
     "execution_count": 216,
     "metadata": {},
     "output_type": "execute_result"
    }
   ],
   "source": [
    "add_one()"
   ]
  },
  {
   "cell_type": "code",
   "execution_count": 217,
   "id": "eb321c17",
   "metadata": {},
   "outputs": [],
   "source": [
    "def add_one(x=[]):\n",
    "    x.append(1)\n",
    "    return x"
   ]
  },
  {
   "cell_type": "code",
   "execution_count": 219,
   "id": "db675fd3",
   "metadata": {},
   "outputs": [
    {
     "data": {
      "text/plain": [
       "[1]"
      ]
     },
     "execution_count": 219,
     "metadata": {},
     "output_type": "execute_result"
    }
   ],
   "source": [
    "# parameters:  x\n",
    "# arguments:   []\n",
    "\n",
    "add_one()"
   ]
  },
  {
   "cell_type": "code",
   "execution_count": 220,
   "id": "e16f3aa7",
   "metadata": {},
   "outputs": [
    {
     "data": {
      "text/plain": [
       "([1],)"
      ]
     },
     "execution_count": 220,
     "metadata": {},
     "output_type": "execute_result"
    }
   ],
   "source": [
    "add_one.__defaults__"
   ]
  },
  {
   "cell_type": "code",
   "execution_count": 221,
   "id": "346c965f",
   "metadata": {},
   "outputs": [
    {
     "data": {
      "text/plain": [
       "[1, 1]"
      ]
     },
     "execution_count": 221,
     "metadata": {},
     "output_type": "execute_result"
    }
   ],
   "source": [
    "add_one()"
   ]
  },
  {
   "cell_type": "code",
   "execution_count": 222,
   "id": "8896e77b",
   "metadata": {},
   "outputs": [
    {
     "data": {
      "text/plain": [
       "([1, 1],)"
      ]
     },
     "execution_count": 222,
     "metadata": {},
     "output_type": "execute_result"
    }
   ],
   "source": [
    "add_one.__defaults__"
   ]
  },
  {
   "cell_type": "code",
   "execution_count": 225,
   "id": "68a3e6f2",
   "metadata": {},
   "outputs": [],
   "source": [
    "def add_one(x=None):\n",
    "    \n",
    "    if x is None:\n",
    "        x = []    # this [] is created at run time -- every run will create a new empty list!\n",
    "    \n",
    "    x.append(1)\n",
    "    return x"
   ]
  },
  {
   "cell_type": "code",
   "execution_count": 226,
   "id": "7ab5ca48",
   "metadata": {},
   "outputs": [
    {
     "data": {
      "text/plain": [
       "[1]"
      ]
     },
     "execution_count": 226,
     "metadata": {},
     "output_type": "execute_result"
    }
   ],
   "source": [
    "add_one()"
   ]
  },
  {
   "cell_type": "code",
   "execution_count": null,
   "id": "1e430c9f",
   "metadata": {},
   "outputs": [],
   "source": []
  },
  {
   "cell_type": "code",
   "execution_count": 227,
   "id": "78ebbf82",
   "metadata": {},
   "outputs": [
    {
     "data": {
      "text/plain": [
       "[1]"
      ]
     },
     "execution_count": 227,
     "metadata": {},
     "output_type": "execute_result"
    }
   ],
   "source": [
    "add_one()"
   ]
  },
  {
   "cell_type": "code",
   "execution_count": 228,
   "id": "d1f8b89f",
   "metadata": {},
   "outputs": [
    {
     "data": {
      "text/plain": [
       "[1]"
      ]
     },
     "execution_count": 228,
     "metadata": {},
     "output_type": "execute_result"
    }
   ],
   "source": [
    "add_one()"
   ]
  },
  {
   "cell_type": "code",
   "execution_count": 229,
   "id": "61a14bee",
   "metadata": {},
   "outputs": [
    {
     "data": {
      "text/plain": [
       "4446205760"
      ]
     },
     "execution_count": 229,
     "metadata": {},
     "output_type": "execute_result"
    }
   ],
   "source": [
    "id(add_one())"
   ]
  },
  {
   "cell_type": "code",
   "execution_count": 230,
   "id": "a725a184",
   "metadata": {},
   "outputs": [
    {
     "data": {
      "text/plain": [
       "4452363264"
      ]
     },
     "execution_count": 230,
     "metadata": {},
     "output_type": "execute_result"
    }
   ],
   "source": [
    "id(add_one())"
   ]
  },
  {
   "cell_type": "code",
   "execution_count": 238,
   "id": "01c6a97a",
   "metadata": {},
   "outputs": [],
   "source": [
    "def add_one(x=[]):\n",
    "    x.append(1)\n",
    "    return x"
   ]
  },
  {
   "cell_type": "code",
   "execution_count": 239,
   "id": "8f87a1f6",
   "metadata": {},
   "outputs": [
    {
     "data": {
      "text/plain": [
       "[10, 20, 30, 1]"
      ]
     },
     "execution_count": 239,
     "metadata": {},
     "output_type": "execute_result"
    }
   ],
   "source": [
    "# parameters: x\n",
    "# arguments: [10, 20, 30]\n",
    "\n",
    "add_one([10, 20, 30])"
   ]
  },
  {
   "cell_type": "code",
   "execution_count": 240,
   "id": "a8393a7e",
   "metadata": {},
   "outputs": [
    {
     "data": {
      "text/plain": [
       "[1]"
      ]
     },
     "execution_count": 240,
     "metadata": {},
     "output_type": "execute_result"
    }
   ],
   "source": [
    "# parameters: x\n",
    "# arguments: []\n",
    "\n",
    "add_one()"
   ]
  },
  {
   "cell_type": "code",
   "execution_count": 241,
   "id": "a74cb04a",
   "metadata": {},
   "outputs": [
    {
     "data": {
      "text/plain": [
       "[100, 200, 300, 1]"
      ]
     },
     "execution_count": 241,
     "metadata": {},
     "output_type": "execute_result"
    }
   ],
   "source": [
    "# parameters: x\n",
    "# arguments: [100, 200, 300]\n",
    "\n",
    "add_one([100, 200, 300])"
   ]
  },
  {
   "cell_type": "code",
   "execution_count": 242,
   "id": "b6388ab8",
   "metadata": {},
   "outputs": [
    {
     "data": {
      "text/plain": [
       "[1, 1]"
      ]
     },
     "execution_count": 242,
     "metadata": {},
     "output_type": "execute_result"
    }
   ],
   "source": [
    "# parameters: x\n",
    "# arguments: [1]\n",
    "add_one()"
   ]
  },
  {
   "cell_type": "code",
   "execution_count": 243,
   "id": "d0bcd1a8",
   "metadata": {},
   "outputs": [
    {
     "data": {
      "text/plain": [
       "([1, 1],)"
      ]
     },
     "execution_count": 243,
     "metadata": {},
     "output_type": "execute_result"
    }
   ],
   "source": [
    "add_one.__defaults__"
   ]
  },
  {
   "cell_type": "code",
   "execution_count": 251,
   "id": "df55818d",
   "metadata": {},
   "outputs": [],
   "source": [
    "def add_one(x=[]):\n",
    "    x.append(1)\n",
    "    return x"
   ]
  },
  {
   "cell_type": "code",
   "execution_count": 252,
   "id": "a5a0da67",
   "metadata": {},
   "outputs": [
    {
     "data": {
      "text/plain": [
       "([],)"
      ]
     },
     "execution_count": 252,
     "metadata": {},
     "output_type": "execute_result"
    }
   ],
   "source": [
    "add_one.__defaults__"
   ]
  },
  {
   "cell_type": "code",
   "execution_count": 253,
   "id": "842ebf65",
   "metadata": {},
   "outputs": [],
   "source": [
    "add_one.__defaults__[0].append(55)"
   ]
  },
  {
   "cell_type": "code",
   "execution_count": 254,
   "id": "e7cf17d3",
   "metadata": {},
   "outputs": [
    {
     "data": {
      "text/plain": [
       "([55],)"
      ]
     },
     "execution_count": 254,
     "metadata": {},
     "output_type": "execute_result"
    }
   ],
   "source": [
    "add_one.__defaults__"
   ]
  },
  {
   "cell_type": "code",
   "execution_count": 255,
   "id": "65936e1d",
   "metadata": {},
   "outputs": [],
   "source": [
    "add_one.__defaults__[0].append(66)"
   ]
  },
  {
   "cell_type": "code",
   "execution_count": 256,
   "id": "2c73bade",
   "metadata": {},
   "outputs": [
    {
     "data": {
      "text/plain": [
       "([55, 66],)"
      ]
     },
     "execution_count": 256,
     "metadata": {},
     "output_type": "execute_result"
    }
   ],
   "source": [
    "add_one.__defaults__"
   ]
  },
  {
   "cell_type": "code",
   "execution_count": 257,
   "id": "dee1eca0",
   "metadata": {},
   "outputs": [],
   "source": [
    "add_one.__defaults__[0].append(77)"
   ]
  },
  {
   "cell_type": "code",
   "execution_count": 258,
   "id": "60b5ef9b",
   "metadata": {},
   "outputs": [
    {
     "data": {
      "text/plain": [
       "([55, 66, 77],)"
      ]
     },
     "execution_count": 258,
     "metadata": {},
     "output_type": "execute_result"
    }
   ],
   "source": [
    "add_one.__defaults__"
   ]
  },
  {
   "cell_type": "code",
   "execution_count": 259,
   "id": "3a7b412b",
   "metadata": {},
   "outputs": [
    {
     "data": {
      "text/plain": [
       "[55, 66, 77, 1]"
      ]
     },
     "execution_count": 259,
     "metadata": {},
     "output_type": "execute_result"
    }
   ],
   "source": [
    "# parameters: x\n",
    "# arguments: [55, 66, 77]\n",
    "\n",
    "add_one()"
   ]
  },
  {
   "cell_type": "code",
   "execution_count": 260,
   "id": "2f41f218",
   "metadata": {},
   "outputs": [
    {
     "data": {
      "text/plain": [
       "([55, 66, 77, 1],)"
      ]
     },
     "execution_count": 260,
     "metadata": {},
     "output_type": "execute_result"
    }
   ],
   "source": [
    "add_one.__defaults__"
   ]
  },
  {
   "cell_type": "code",
   "execution_count": 261,
   "id": "989220f7",
   "metadata": {},
   "outputs": [],
   "source": [
    "add_one.__defaults__ = ([],)"
   ]
  },
  {
   "cell_type": "code",
   "execution_count": null,
   "id": "87d87de5",
   "metadata": {},
   "outputs": [],
   "source": [
    "add_one((10, 20, 30))"
   ]
  }
 ],
 "metadata": {
  "kernelspec": {
   "display_name": "Python 3 (ipykernel)",
   "language": "python",
   "name": "python3"
  },
  "language_info": {
   "codemirror_mode": {
    "name": "ipython",
    "version": 3
   },
   "file_extension": ".py",
   "mimetype": "text/x-python",
   "name": "python",
   "nbconvert_exporter": "python",
   "pygments_lexer": "ipython3",
   "version": "3.10.5"
  }
 },
 "nbformat": 4,
 "nbformat_minor": 5
}

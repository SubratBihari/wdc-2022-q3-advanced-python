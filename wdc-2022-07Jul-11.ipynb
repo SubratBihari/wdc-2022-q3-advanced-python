{
 "cells": [
  {
   "cell_type": "markdown",
   "id": "c5920f95",
   "metadata": {},
   "source": [
    "# Agenda\n",
    "\n",
    "1. How dictionaries work\n",
    "2. Dictionary variants\n",
    "3. Functions\n",
    "     - Function objects\n",
    "     - Arguments and parameters"
   ]
  },
  {
   "cell_type": "code",
   "execution_count": null,
   "id": "1b9273a2",
   "metadata": {},
   "outputs": [],
   "source": [
    "for VARIABLE in OBJECT:\n",
    "    BODY"
   ]
  },
  {
   "cell_type": "code",
   "execution_count": 1,
   "id": "734dd7db",
   "metadata": {},
   "outputs": [
    {
     "name": "stdout",
     "output_type": "stream",
     "text": [
      "a\n",
      "b\n",
      "c\n",
      "d\n"
     ]
    }
   ],
   "source": [
    "d1 = {'a':1, 'b':2, 'c':3}\n",
    "d2 = {'b':3, 'c':4, 'd':5}\n",
    "\n",
    "for one_item in d1 | d2:  \n",
    "    print(one_item)"
   ]
  },
  {
   "cell_type": "code",
   "execution_count": 2,
   "id": "64a01edf",
   "metadata": {},
   "outputs": [
    {
     "name": "stdout",
     "output_type": "stream",
     "text": [
      "('a', 1)\n",
      "('b', 3)\n",
      "('c', 4)\n",
      "('d', 5)\n"
     ]
    }
   ],
   "source": [
    "for one_item in (d1 | d2).items():  \n",
    "    print(one_item)"
   ]
  },
  {
   "cell_type": "code",
   "execution_count": 3,
   "id": "12c2360d",
   "metadata": {},
   "outputs": [
    {
     "name": "stdout",
     "output_type": "stream",
     "text": [
      "('b', 2)\n",
      "('c', 3)\n",
      "('d', 5)\n",
      "('a', 1)\n"
     ]
    }
   ],
   "source": [
    "for one_item in (d2 | d1).items():  \n",
    "    print(one_item)"
   ]
  },
  {
   "cell_type": "code",
   "execution_count": 4,
   "id": "5b81b5a8",
   "metadata": {},
   "outputs": [],
   "source": [
    "d = {'c':100, 'b':200, 'd':300, 'a':400, 'e':500}"
   ]
  },
  {
   "cell_type": "code",
   "execution_count": 5,
   "id": "c00456d1",
   "metadata": {},
   "outputs": [
    {
     "data": {
      "text/plain": [
       "dict_keys(['c', 'b', 'd', 'a', 'e'])"
      ]
     },
     "execution_count": 5,
     "metadata": {},
     "output_type": "execute_result"
    }
   ],
   "source": [
    "d.keys()"
   ]
  },
  {
   "cell_type": "code",
   "execution_count": 6,
   "id": "5125c277",
   "metadata": {},
   "outputs": [
    {
     "data": {
      "text/plain": [
       "dict_keys(['c', 'b', 'd', 'a', 'e', 'g', 'f'])"
      ]
     },
     "execution_count": 6,
     "metadata": {},
     "output_type": "execute_result"
    }
   ],
   "source": [
    "d['g'] = 600\n",
    "d['f'] = 700\n",
    "\n",
    "d.keys()"
   ]
  },
  {
   "cell_type": "code",
   "execution_count": 9,
   "id": "dc3de828",
   "metadata": {},
   "outputs": [
    {
     "data": {
      "text/plain": [
       "['f', 'b', 'g', 'd', 'e', 'a', 'c']"
      ]
     },
     "execution_count": 9,
     "metadata": {},
     "output_type": "execute_result"
    }
   ],
   "source": [
    "list(set(d.keys()))"
   ]
  },
  {
   "cell_type": "code",
   "execution_count": 10,
   "id": "af3f55d8",
   "metadata": {},
   "outputs": [
    {
     "data": {
      "text/plain": [
       "{'a': 1, 'b': 3, 'c': 4, 'd': 5}"
      ]
     },
     "execution_count": 10,
     "metadata": {},
     "output_type": "execute_result"
    }
   ],
   "source": [
    "d1 | d2"
   ]
  },
  {
   "cell_type": "code",
   "execution_count": 12,
   "id": "adcada8c",
   "metadata": {},
   "outputs": [
    {
     "data": {
      "text/plain": [
       "['a', 'c', 'd', 'b']"
      ]
     },
     "execution_count": 12,
     "metadata": {},
     "output_type": "execute_result"
    }
   ],
   "source": [
    "list(d1.keys() | d2.keys())"
   ]
  },
  {
   "cell_type": "code",
   "execution_count": 13,
   "id": "5b48e68f",
   "metadata": {},
   "outputs": [
    {
     "data": {
      "text/plain": [
       "{'a': 1, 'b': 3, 'c': 4, 'd': 5}"
      ]
     },
     "execution_count": 13,
     "metadata": {},
     "output_type": "execute_result"
    }
   ],
   "source": [
    "d1 | d2"
   ]
  },
  {
   "cell_type": "code",
   "execution_count": 16,
   "id": "61755ebe",
   "metadata": {},
   "outputs": [
    {
     "data": {
      "text/plain": [
       "['a', 'c', 'd', 'b']"
      ]
     },
     "execution_count": 16,
     "metadata": {},
     "output_type": "execute_result"
    }
   ],
   "source": [
    "list(d1.keys() | d2.keys())"
   ]
  },
  {
   "cell_type": "code",
   "execution_count": 17,
   "id": "9660d967",
   "metadata": {},
   "outputs": [
    {
     "data": {
      "text/plain": [
       "['a', 'c', 'd', 'b']"
      ]
     },
     "execution_count": 17,
     "metadata": {},
     "output_type": "execute_result"
    }
   ],
   "source": [
    "d1 = {'a':1, 'b':2, 'c':3}\n",
    "d2 = {'b':3, 'c':4, 'd':5}\n",
    "\n",
    "list(d1.keys() | d2.keys())"
   ]
  },
  {
   "cell_type": "code",
   "execution_count": 18,
   "id": "93890700",
   "metadata": {},
   "outputs": [
    {
     "data": {
      "text/plain": [
       "{'a', 'b', 'c', 'd'}"
      ]
     },
     "execution_count": 18,
     "metadata": {},
     "output_type": "execute_result"
    }
   ],
   "source": [
    "d1.keys() | d2.keys()    # sets are ordered when displayed in Jupyter"
   ]
  },
  {
   "cell_type": "code",
   "execution_count": 19,
   "id": "c36cad35",
   "metadata": {},
   "outputs": [
    {
     "name": "stdout",
     "output_type": "stream",
     "text": [
      "a\n",
      "c\n",
      "d\n",
      "b\n"
     ]
    }
   ],
   "source": [
    "for one_item in (d1.keys() | d2.keys()):   #but sets have a different internal order we can see via \"for\"\n",
    "    print(one_item)"
   ]
  },
  {
   "cell_type": "code",
   "execution_count": 20,
   "id": "5437efcb",
   "metadata": {},
   "outputs": [
    {
     "data": {
      "text/plain": [
       "['a', 'c', 'd', 'b']"
      ]
     },
     "execution_count": 20,
     "metadata": {},
     "output_type": "execute_result"
    }
   ],
   "source": [
    "list(d1.keys()|d2.keys())"
   ]
  },
  {
   "cell_type": "code",
   "execution_count": 21,
   "id": "6adeb3e6",
   "metadata": {},
   "outputs": [],
   "source": [
    "d1 = {'a':1, 'b':2, 'c':3}\n",
    "d2 = {'b':3, 'c':4, 'd':5}\n"
   ]
  },
  {
   "cell_type": "code",
   "execution_count": 22,
   "id": "c60da554",
   "metadata": {},
   "outputs": [
    {
     "data": {
      "text/plain": [
       "{'a': 1, 'b': 2, 'c': 3}"
      ]
     },
     "execution_count": 22,
     "metadata": {},
     "output_type": "execute_result"
    }
   ],
   "source": [
    "d1"
   ]
  },
  {
   "cell_type": "code",
   "execution_count": 24,
   "id": "cd3845cc",
   "metadata": {},
   "outputs": [
    {
     "data": {
      "text/plain": [
       "{'a': 1, 'b': 100, 'c': 3}"
      ]
     },
     "execution_count": 24,
     "metadata": {},
     "output_type": "execute_result"
    }
   ],
   "source": [
    "d1['b'] = 100\n",
    "d1"
   ]
  },
  {
   "cell_type": "code",
   "execution_count": 25,
   "id": "12bf581c",
   "metadata": {},
   "outputs": [
    {
     "data": {
      "text/plain": [
       "{'a': 1, 'b': 3, 'c': 4, 'd': 5}"
      ]
     },
     "execution_count": 25,
     "metadata": {},
     "output_type": "execute_result"
    }
   ],
   "source": [
    "d1 = {'a':1, 'b':2, 'c':3}\n",
    "d2 = {'b':3, 'c':4, 'd':5}\n",
    "\n",
    "d1 | d2    "
   ]
  },
  {
   "cell_type": "code",
   "execution_count": 28,
   "id": "5a034600",
   "metadata": {},
   "outputs": [],
   "source": [
    "# rewrite of the above\n",
    "\n",
    "def my_dict_union(d1, d2):\n",
    "    output = d1.copy()\n",
    "    \n",
    "    for key, value in d2.items():\n",
    "        output[key] = value\n",
    "        \n",
    "    return output\n",
    "        "
   ]
  },
  {
   "cell_type": "code",
   "execution_count": 29,
   "id": "d24474c6",
   "metadata": {},
   "outputs": [
    {
     "data": {
      "text/plain": [
       "{'a': 1, 'b': 3, 'c': 4, 'd': 5}"
      ]
     },
     "execution_count": 29,
     "metadata": {},
     "output_type": "execute_result"
    }
   ],
   "source": [
    "my_dict_union(d1, d2)"
   ]
  },
  {
   "cell_type": "code",
   "execution_count": 30,
   "id": "0853806a",
   "metadata": {},
   "outputs": [
    {
     "data": {
      "text/plain": [
       "dict_keys"
      ]
     },
     "execution_count": 30,
     "metadata": {},
     "output_type": "execute_result"
    }
   ],
   "source": [
    "type(d1.keys())"
   ]
  },
  {
   "cell_type": "code",
   "execution_count": 31,
   "id": "f79162a7",
   "metadata": {},
   "outputs": [
    {
     "data": {
      "text/plain": [
       "set"
      ]
     },
     "execution_count": 31,
     "metadata": {},
     "output_type": "execute_result"
    }
   ],
   "source": [
    "type(d1.keys() | d2.keys())"
   ]
  },
  {
   "cell_type": "code",
   "execution_count": 34,
   "id": "39bf7411",
   "metadata": {},
   "outputs": [
    {
     "data": {
      "text/plain": [
       "{'a', 'b', 'c', 'd'}"
      ]
     },
     "execution_count": 34,
     "metadata": {},
     "output_type": "execute_result"
    }
   ],
   "source": [
    "d1.keys().__ror__(d2.keys())"
   ]
  },
  {
   "cell_type": "raw",
   "id": "d6375062",
   "metadata": {},
   "source": [
    "Python 2 dict  (through Python 3.5)\n",
    "\n",
    "a new dict creates a 2-column table with 8 rows\n",
    "\n",
    "     key     value\n",
    "0     'a'      10\n",
    "1     'i'      100\n",
    "2     'c'     30\n",
    "3     'b'       20\n",
    "4\n",
    "5\n",
    "6\n",
    "7\n"
   ]
  },
  {
   "cell_type": "raw",
   "id": "07181146",
   "metadata": {},
   "source": [
    "Python 3 dict (starting with Python 3.6)\n",
    "\n",
    "Two data structures behind the scene: (1) table and (2) array\n",
    "\n",
    "Table\n",
    "\n",
    "index    key    value\n",
    "---------------------\n",
    "  0      'a'      100\n",
    "  1      'b'      200\n",
    "  2      'c'      300\n",
    "\n",
    "Array\n",
    "\n",
    "[None,None,0,None,None,1,2,None]"
   ]
  },
  {
   "cell_type": "code",
   "execution_count": 35,
   "id": "50c5f97b",
   "metadata": {},
   "outputs": [],
   "source": [
    "d = {}"
   ]
  },
  {
   "cell_type": "code",
   "execution_count": 36,
   "id": "8e6b941e",
   "metadata": {},
   "outputs": [],
   "source": [
    "d['a'] = 100"
   ]
  },
  {
   "cell_type": "code",
   "execution_count": 37,
   "id": "5015ad7a",
   "metadata": {},
   "outputs": [
    {
     "data": {
      "text/plain": [
       "2"
      ]
     },
     "execution_count": 37,
     "metadata": {},
     "output_type": "execute_result"
    }
   ],
   "source": [
    "hash('a') % 8"
   ]
  },
  {
   "cell_type": "code",
   "execution_count": null,
   "id": "64850942",
   "metadata": {},
   "outputs": [],
   "source": [
    "'a' in d"
   ]
  },
  {
   "cell_type": "code",
   "execution_count": 38,
   "id": "f7985193",
   "metadata": {},
   "outputs": [],
   "source": [
    "d['b'] = 200\n",
    "d['c'] = 300"
   ]
  },
  {
   "cell_type": "code",
   "execution_count": 39,
   "id": "84c36870",
   "metadata": {},
   "outputs": [
    {
     "data": {
      "text/plain": [
       "5"
      ]
     },
     "execution_count": 39,
     "metadata": {},
     "output_type": "execute_result"
    }
   ],
   "source": [
    "hash('b') % 8"
   ]
  },
  {
   "cell_type": "code",
   "execution_count": 40,
   "id": "3c6cfbeb",
   "metadata": {},
   "outputs": [
    {
     "data": {
      "text/plain": [
       "5"
      ]
     },
     "execution_count": 40,
     "metadata": {},
     "output_type": "execute_result"
    }
   ],
   "source": [
    "hash('c') % 8"
   ]
  },
  {
   "cell_type": "code",
   "execution_count": 41,
   "id": "9533130f",
   "metadata": {},
   "outputs": [
    {
     "data": {
      "text/plain": [
       "True"
      ]
     },
     "execution_count": 41,
     "metadata": {},
     "output_type": "execute_result"
    }
   ],
   "source": [
    "'c' in d"
   ]
  },
  {
   "cell_type": "code",
   "execution_count": 42,
   "id": "6759203d",
   "metadata": {},
   "outputs": [],
   "source": [
    "from collections import OrderedDict"
   ]
  },
  {
   "cell_type": "code",
   "execution_count": 43,
   "id": "c07c93ce",
   "metadata": {},
   "outputs": [],
   "source": [
    "d = OrderedDict()\n",
    "d['a'] = 100\n",
    "d['b'] = 200\n",
    "d['c'] = 300"
   ]
  },
  {
   "cell_type": "code",
   "execution_count": 44,
   "id": "de13a2cd",
   "metadata": {},
   "outputs": [
    {
     "data": {
      "text/plain": [
       "OrderedDict([('a', 100), ('b', 200), ('c', 300)])"
      ]
     },
     "execution_count": 44,
     "metadata": {},
     "output_type": "execute_result"
    }
   ],
   "source": [
    "d"
   ]
  },
  {
   "cell_type": "code",
   "execution_count": 45,
   "id": "d4cb1452",
   "metadata": {},
   "outputs": [],
   "source": [
    "d1 = {'a':100, 'b':200, 'c':300}\n",
    "d2 = {'a':100, 'c':300, 'b':200}"
   ]
  },
  {
   "cell_type": "code",
   "execution_count": 46,
   "id": "6204681a",
   "metadata": {},
   "outputs": [
    {
     "data": {
      "text/plain": [
       "{'a': 100, 'b': 200, 'c': 300}"
      ]
     },
     "execution_count": 46,
     "metadata": {},
     "output_type": "execute_result"
    }
   ],
   "source": [
    "d1"
   ]
  },
  {
   "cell_type": "code",
   "execution_count": 47,
   "id": "254caf89",
   "metadata": {},
   "outputs": [
    {
     "data": {
      "text/plain": [
       "{'a': 100, 'c': 300, 'b': 200}"
      ]
     },
     "execution_count": 47,
     "metadata": {},
     "output_type": "execute_result"
    }
   ],
   "source": [
    "d2"
   ]
  },
  {
   "cell_type": "code",
   "execution_count": 48,
   "id": "620c8252",
   "metadata": {},
   "outputs": [
    {
     "data": {
      "text/plain": [
       "True"
      ]
     },
     "execution_count": 48,
     "metadata": {},
     "output_type": "execute_result"
    }
   ],
   "source": [
    "d1 == d2"
   ]
  },
  {
   "cell_type": "code",
   "execution_count": 49,
   "id": "745cdff2",
   "metadata": {},
   "outputs": [],
   "source": [
    "d1 = OrderedDict(a=100, b=200, c=300)\n",
    "d2 = OrderedDict(a=100, c=300, b=200)"
   ]
  },
  {
   "cell_type": "code",
   "execution_count": 50,
   "id": "31edcec1",
   "metadata": {},
   "outputs": [
    {
     "data": {
      "text/plain": [
       "OrderedDict([('a', 100), ('b', 200), ('c', 300)])"
      ]
     },
     "execution_count": 50,
     "metadata": {},
     "output_type": "execute_result"
    }
   ],
   "source": [
    "d1"
   ]
  },
  {
   "cell_type": "code",
   "execution_count": 51,
   "id": "d9ef6054",
   "metadata": {},
   "outputs": [
    {
     "data": {
      "text/plain": [
       "OrderedDict([('a', 100), ('c', 300), ('b', 200)])"
      ]
     },
     "execution_count": 51,
     "metadata": {},
     "output_type": "execute_result"
    }
   ],
   "source": [
    "d2"
   ]
  },
  {
   "cell_type": "code",
   "execution_count": 52,
   "id": "5c5318c3",
   "metadata": {},
   "outputs": [
    {
     "data": {
      "text/plain": [
       "False"
      ]
     },
     "execution_count": 52,
     "metadata": {},
     "output_type": "execute_result"
    }
   ],
   "source": [
    "d1 == d2"
   ]
  },
  {
   "cell_type": "code",
   "execution_count": 53,
   "id": "8851ca39",
   "metadata": {},
   "outputs": [],
   "source": [
    "from collections import defaultdict"
   ]
  },
  {
   "cell_type": "code",
   "execution_count": 54,
   "id": "54aac271",
   "metadata": {},
   "outputs": [
    {
     "ename": "TypeError",
     "evalue": "first argument must be callable or None",
     "output_type": "error",
     "traceback": [
      "\u001b[0;31m---------------------------------------------------------------------------\u001b[0m",
      "\u001b[0;31mTypeError\u001b[0m                                 Traceback (most recent call last)",
      "\u001b[0;32m/var/folders/rr/0mnyyv811fs5vyp22gf4fxk00000gn/T/ipykernel_200/1654680976.py\u001b[0m in \u001b[0;36m<module>\u001b[0;34m\u001b[0m\n\u001b[0;32m----> 1\u001b[0;31m \u001b[0md\u001b[0m \u001b[0;34m=\u001b[0m \u001b[0mdefaultdict\u001b[0m\u001b[0;34m(\u001b[0m\u001b[0;36m0\u001b[0m\u001b[0;34m)\u001b[0m\u001b[0;34m\u001b[0m\u001b[0;34m\u001b[0m\u001b[0m\n\u001b[0m",
      "\u001b[0;31mTypeError\u001b[0m: first argument must be callable or None"
     ]
    }
   ],
   "source": [
    "d = defaultdict(0)"
   ]
  },
  {
   "cell_type": "code",
   "execution_count": 55,
   "id": "49018c8f",
   "metadata": {},
   "outputs": [],
   "source": [
    "d = defaultdict(int)"
   ]
  },
  {
   "cell_type": "code",
   "execution_count": 56,
   "id": "693ef90f",
   "metadata": {},
   "outputs": [
    {
     "data": {
      "text/plain": [
       "0"
      ]
     },
     "execution_count": 56,
     "metadata": {},
     "output_type": "execute_result"
    }
   ],
   "source": [
    "int()"
   ]
  },
  {
   "cell_type": "code",
   "execution_count": 57,
   "id": "a8477354",
   "metadata": {},
   "outputs": [
    {
     "data": {
      "text/plain": [
       "0"
      ]
     },
     "execution_count": 57,
     "metadata": {},
     "output_type": "execute_result"
    }
   ],
   "source": [
    "d['a']"
   ]
  },
  {
   "cell_type": "code",
   "execution_count": 58,
   "id": "dd55c5c0",
   "metadata": {},
   "outputs": [
    {
     "data": {
      "text/plain": [
       "defaultdict(int, {'a': 0})"
      ]
     },
     "execution_count": 58,
     "metadata": {},
     "output_type": "execute_result"
    }
   ],
   "source": [
    "d"
   ]
  },
  {
   "cell_type": "code",
   "execution_count": 59,
   "id": "b908a40b",
   "metadata": {},
   "outputs": [
    {
     "data": {
      "text/plain": [
       "0"
      ]
     },
     "execution_count": 59,
     "metadata": {},
     "output_type": "execute_result"
    }
   ],
   "source": [
    "d['b']"
   ]
  },
  {
   "cell_type": "code",
   "execution_count": 60,
   "id": "720c9989",
   "metadata": {},
   "outputs": [
    {
     "data": {
      "text/plain": [
       "0"
      ]
     },
     "execution_count": 60,
     "metadata": {},
     "output_type": "execute_result"
    }
   ],
   "source": [
    "d['c']"
   ]
  },
  {
   "cell_type": "code",
   "execution_count": 61,
   "id": "6847681a",
   "metadata": {},
   "outputs": [
    {
     "data": {
      "text/plain": [
       "defaultdict(int, {'a': 0, 'b': 0, 'c': 0})"
      ]
     },
     "execution_count": 61,
     "metadata": {},
     "output_type": "execute_result"
    }
   ],
   "source": [
    "d"
   ]
  },
  {
   "cell_type": "code",
   "execution_count": 62,
   "id": "a62e859d",
   "metadata": {},
   "outputs": [],
   "source": [
    "d = defaultdict(int)\n",
    "\n",
    "d['a'] += 10\n",
    "d['b'] += 20\n",
    "d['c'] += 100\n",
    "d['b'] += 15"
   ]
  },
  {
   "cell_type": "code",
   "execution_count": 63,
   "id": "83c9c55b",
   "metadata": {},
   "outputs": [
    {
     "data": {
      "text/plain": [
       "defaultdict(int, {'a': 10, 'b': 35, 'c': 100})"
      ]
     },
     "execution_count": 63,
     "metadata": {},
     "output_type": "execute_result"
    }
   ],
   "source": [
    "d"
   ]
  },
  {
   "cell_type": "code",
   "execution_count": 64,
   "id": "52c9f2e1",
   "metadata": {},
   "outputs": [
    {
     "ename": "NameError",
     "evalue": "name 'a' is not defined",
     "output_type": "error",
     "traceback": [
      "\u001b[0;31m---------------------------------------------------------------------------\u001b[0m",
      "\u001b[0;31mNameError\u001b[0m                                 Traceback (most recent call last)",
      "\u001b[0;32m/var/folders/rr/0mnyyv811fs5vyp22gf4fxk00000gn/T/ipykernel_200/492326894.py\u001b[0m in \u001b[0;36m<module>\u001b[0;34m\u001b[0m\n\u001b[1;32m      1\u001b[0m \u001b[0md\u001b[0m \u001b[0;34m=\u001b[0m \u001b[0;34m{\u001b[0m\u001b[0;34m}\u001b[0m\u001b[0;34m\u001b[0m\u001b[0;34m\u001b[0m\u001b[0m\n\u001b[0;32m----> 2\u001b[0;31m \u001b[0ma\u001b[0m\u001b[0;34m[\u001b[0m\u001b[0;34m'a'\u001b[0m\u001b[0;34m]\u001b[0m \u001b[0;34m+=\u001b[0m \u001b[0;36m10\u001b[0m\u001b[0;34m\u001b[0m\u001b[0;34m\u001b[0m\u001b[0m\n\u001b[0m",
      "\u001b[0;31mNameError\u001b[0m: name 'a' is not defined"
     ]
    }
   ],
   "source": [
    "d = {}\n",
    "a['a'] += 10"
   ]
  },
  {
   "cell_type": "code",
   "execution_count": 66,
   "id": "453e9fd8",
   "metadata": {},
   "outputs": [],
   "source": [
    "d = defaultdict(int)\n",
    "\n",
    "d['a'] += 10    # d['a'] = d['a'] + 10\n"
   ]
  },
  {
   "cell_type": "code",
   "execution_count": 67,
   "id": "e7be0f7e",
   "metadata": {},
   "outputs": [
    {
     "data": {
      "text/plain": [
       "defaultdict(int, {'a': 10})"
      ]
     },
     "execution_count": 67,
     "metadata": {},
     "output_type": "execute_result"
    }
   ],
   "source": [
    "d"
   ]
  },
  {
   "cell_type": "code",
   "execution_count": 68,
   "id": "3ae60147",
   "metadata": {},
   "outputs": [
    {
     "data": {
      "text/plain": [
       "0"
      ]
     },
     "execution_count": 68,
     "metadata": {},
     "output_type": "execute_result"
    }
   ],
   "source": [
    "int()"
   ]
  },
  {
   "cell_type": "code",
   "execution_count": 69,
   "id": "c135b15a",
   "metadata": {},
   "outputs": [
    {
     "data": {
      "text/plain": [
       "[]"
      ]
     },
     "execution_count": 69,
     "metadata": {},
     "output_type": "execute_result"
    }
   ],
   "source": [
    "list()\n"
   ]
  },
  {
   "cell_type": "code",
   "execution_count": 70,
   "id": "bcfbb3f6",
   "metadata": {},
   "outputs": [
    {
     "data": {
      "text/plain": [
       "{}"
      ]
     },
     "execution_count": 70,
     "metadata": {},
     "output_type": "execute_result"
    }
   ],
   "source": [
    "dict()"
   ]
  },
  {
   "cell_type": "code",
   "execution_count": 76,
   "id": "7ae99ab0",
   "metadata": {},
   "outputs": [],
   "source": [
    "def return_5():\n",
    "    print('Now running return_5')\n",
    "    return 5\n",
    "\n",
    "d = defaultdict(return_5)"
   ]
  },
  {
   "cell_type": "code",
   "execution_count": 77,
   "id": "8ce09214",
   "metadata": {},
   "outputs": [
    {
     "name": "stdout",
     "output_type": "stream",
     "text": [
      "Now running return_5\n"
     ]
    },
    {
     "data": {
      "text/plain": [
       "5"
      ]
     },
     "execution_count": 77,
     "metadata": {},
     "output_type": "execute_result"
    }
   ],
   "source": [
    "d['a']"
   ]
  },
  {
   "cell_type": "code",
   "execution_count": 78,
   "id": "bc77318a",
   "metadata": {},
   "outputs": [
    {
     "name": "stdout",
     "output_type": "stream",
     "text": [
      "Now running return_5\n"
     ]
    },
    {
     "data": {
      "text/plain": [
       "5"
      ]
     },
     "execution_count": 78,
     "metadata": {},
     "output_type": "execute_result"
    }
   ],
   "source": [
    "d['b']"
   ]
  },
  {
   "cell_type": "code",
   "execution_count": 79,
   "id": "0262acd2",
   "metadata": {},
   "outputs": [
    {
     "name": "stdout",
     "output_type": "stream",
     "text": [
      "Now running return_5\n"
     ]
    }
   ],
   "source": [
    "d['c'] += 10"
   ]
  },
  {
   "cell_type": "code",
   "execution_count": 80,
   "id": "e8ac48fe",
   "metadata": {},
   "outputs": [
    {
     "data": {
      "text/plain": [
       "defaultdict(<function __main__.return_5()>, {'a': 5, 'b': 5, 'c': 15})"
      ]
     },
     "execution_count": 80,
     "metadata": {},
     "output_type": "execute_result"
    }
   ],
   "source": [
    "d"
   ]
  },
  {
   "cell_type": "code",
   "execution_count": 81,
   "id": "c699da14",
   "metadata": {},
   "outputs": [
    {
     "data": {
      "text/plain": [
       "{'__name__': '__main__',\n",
       " '__doc__': 'Automatically created module for IPython interactive environment',\n",
       " '__package__': None,\n",
       " '__loader__': None,\n",
       " '__spec__': None,\n",
       " '__builtin__': <module 'builtins' (built-in)>,\n",
       " '__builtins__': <module 'builtins' (built-in)>,\n",
       " '_ih': ['',\n",
       "  \"d1 = {'a':1, 'b':2, 'c':3}\\nd2 = {'b':3, 'c':4, 'd':5}\\n\\nfor one_item in d1 | d2:  \\n    print(one_item)\",\n",
       "  'for one_item in (d1 | d2).items():  \\n    print(one_item)',\n",
       "  'for one_item in (d2 | d1).items():  \\n    print(one_item)',\n",
       "  \"d = {'c':100, 'b':200, 'd':300, 'a':400, 'e':500}\",\n",
       "  'd.keys()',\n",
       "  \"d['g'] = 600\\nd['f'] = 700\\n\\nd.keys()\",\n",
       "  'd.keys()',\n",
       "  'set(d.keys())',\n",
       "  'list(set(d.keys()))',\n",
       "  'd1 | d2',\n",
       "  'd1.keys() | d2.keys()',\n",
       "  'list(d1.keys() | d2.keys())',\n",
       "  'd1 | d2',\n",
       "  'd1.keys()',\n",
       "  'd1.keys() | d2.keys()',\n",
       "  'list(d1.keys() | d2.keys())',\n",
       "  \"d1 = {'a':1, 'b':2, 'c':3}\\nd2 = {'b':3, 'c':4, 'd':5}\\n\\nlist(d1.keys() | d2.keys())\",\n",
       "  'd1.keys() | d2.keys()',\n",
       "  'for one_item in (d1.keys() | d2.keys()):\\n    print(one_item)',\n",
       "  'list(d1.keys()|d2.keys())',\n",
       "  \"d1 = {'a':1, 'b':2, 'c':3}\\nd2 = {'b':3, 'c':4, 'd':5}\",\n",
       "  'd1',\n",
       "  \"d1['b'] = 100\\nd\",\n",
       "  \"d1['b'] = 100\\nd1\",\n",
       "  \"d1 = {'a':1, 'b':2, 'c':3}\\nd2 = {'b':3, 'c':4, 'd':5}\\n\\nd1 | d2    \",\n",
       "  '# rewrite of the above\\n\\ndef my_dict_union(d1, d2):\\n    output = d1.copy()\\n    \\n    ',\n",
       "  'my_dict_union(d1, d2)',\n",
       "  '# rewrite of the above\\n\\ndef my_dict_union(d1, d2):\\n    output = d1.copy()\\n    \\n    for key, value in d2.items():\\n        output[key] = value\\n        \\n    return output\\n        ',\n",
       "  'my_dict_union(d1, d2)',\n",
       "  'type(d1.keys())',\n",
       "  'type(d1.keys()|d2.keys())',\n",
       "  'd1.values() | d2.values()',\n",
       "  'dir(d1.keys())',\n",
       "  'd1.keys().__ror__(d2.keys())',\n",
       "  'd = {}',\n",
       "  \"d['a'] = 100\",\n",
       "  \"hash('a') % 8\",\n",
       "  \"d['b'] = 200\\nd['c'] = 300\",\n",
       "  \"hash('b') % 8\",\n",
       "  \"hash('c') % 8\",\n",
       "  \"'c' in d\",\n",
       "  'from collections import OrderedDict',\n",
       "  \"d = OrderedDict()\\nd['a'] = 100\\nd['b'] = 200\\nd['c'] = 300\",\n",
       "  'd',\n",
       "  \"d1 = {'a':100, 'b':200, 'c':300}\\nd2 = {'a':100, 'c':300, 'b':200}\",\n",
       "  'd1',\n",
       "  'd2',\n",
       "  'd1 == d2',\n",
       "  'd1 = OrderedDict(a=100, b=200, c=300)\\nd2 = OrderedDict(a=100, c=300, b=200)',\n",
       "  'd1',\n",
       "  'd2',\n",
       "  'd1 == d2',\n",
       "  'from collections import defaultdict',\n",
       "  'd = defaultdict(0)',\n",
       "  'd = defaultdict(int)',\n",
       "  'int()',\n",
       "  \"d['a']\",\n",
       "  'd',\n",
       "  \"d['b']\",\n",
       "  \"d['c']\",\n",
       "  'd',\n",
       "  \"d = defaultdict(int)\\n\\nd['a'] += 10\\nd['b'] += 20\\nd['c'] += 100\\nd['b'] += 15\",\n",
       "  'd',\n",
       "  \"d = {}\\na['a'] += 10\",\n",
       "  \"d = defaultdict(int)\\n\\nd['a'] += 10\",\n",
       "  \"d = defaultdict(int)\\n\\nd['a'] += 10    # d['a'] = d['a'] + 10\",\n",
       "  'd',\n",
       "  'int()',\n",
       "  'list()',\n",
       "  'dict()',\n",
       "  'def return_5():\\n    return 5\\n\\nd = defaultdict(return_5)',\n",
       "  \"d['a']\",\n",
       "  \"d['b']\",\n",
       "  \"d['c'] += 10\",\n",
       "  'd',\n",
       "  \"def return_5():\\n    print('Now running return_5')\\n    return 5\\n\\nd = defaultdict(return_5)\",\n",
       "  \"d['a']\",\n",
       "  \"d['b']\",\n",
       "  \"d['c'] += 10\",\n",
       "  'd',\n",
       "  'globals()'],\n",
       " '_oh': {5: dict_keys(['c', 'b', 'd', 'a', 'e', 'g', 'f']),\n",
       "  6: dict_keys(['c', 'b', 'd', 'a', 'e', 'g', 'f']),\n",
       "  7: dict_keys(['c', 'b', 'd', 'a', 'e', 'g', 'f']),\n",
       "  8: {'a', 'b', 'c', 'd', 'e', 'f', 'g'},\n",
       "  9: ['f', 'b', 'g', 'd', 'e', 'a', 'c'],\n",
       "  10: {'a': 1, 'b': 3, 'c': 4, 'd': 5},\n",
       "  11: {'a', 'b', 'c', 'd'},\n",
       "  12: ['a', 'c', 'd', 'b'],\n",
       "  13: {'a': 1, 'b': 3, 'c': 4, 'd': 5},\n",
       "  14: dict_keys(['a', 'b', 'c']),\n",
       "  15: {'a', 'b', 'c', 'd'},\n",
       "  16: ['a', 'c', 'd', 'b'],\n",
       "  17: ['a', 'c', 'd', 'b'],\n",
       "  18: {'a', 'b', 'c', 'd'},\n",
       "  20: ['a', 'c', 'd', 'b'],\n",
       "  22: {'a': 1, 'b': 100, 'c': 3},\n",
       "  23: {'c': 100, 'b': 200, 'd': 300, 'a': 400, 'e': 500, 'g': 600, 'f': 700},\n",
       "  24: {'a': 1, 'b': 100, 'c': 3},\n",
       "  25: {'a': 1, 'b': 3, 'c': 4, 'd': 5},\n",
       "  29: {'a': 1, 'b': 3, 'c': 4, 'd': 5},\n",
       "  30: dict_keys,\n",
       "  31: set,\n",
       "  33: ['__and__',\n",
       "   '__class__',\n",
       "   '__contains__',\n",
       "   '__delattr__',\n",
       "   '__dir__',\n",
       "   '__doc__',\n",
       "   '__eq__',\n",
       "   '__format__',\n",
       "   '__ge__',\n",
       "   '__getattribute__',\n",
       "   '__gt__',\n",
       "   '__hash__',\n",
       "   '__init__',\n",
       "   '__init_subclass__',\n",
       "   '__iter__',\n",
       "   '__le__',\n",
       "   '__len__',\n",
       "   '__lt__',\n",
       "   '__ne__',\n",
       "   '__new__',\n",
       "   '__or__',\n",
       "   '__rand__',\n",
       "   '__reduce__',\n",
       "   '__reduce_ex__',\n",
       "   '__repr__',\n",
       "   '__reversed__',\n",
       "   '__ror__',\n",
       "   '__rsub__',\n",
       "   '__rxor__',\n",
       "   '__setattr__',\n",
       "   '__sizeof__',\n",
       "   '__str__',\n",
       "   '__sub__',\n",
       "   '__subclasshook__',\n",
       "   '__xor__',\n",
       "   'isdisjoint',\n",
       "   'mapping'],\n",
       "  34: {'a', 'b', 'c', 'd'},\n",
       "  37: 2,\n",
       "  39: 5,\n",
       "  40: 5,\n",
       "  41: True,\n",
       "  44: OrderedDict([('a', 100), ('b', 200), ('c', 300)]),\n",
       "  46: {'a': 100, 'b': 200, 'c': 300},\n",
       "  47: {'a': 100, 'c': 300, 'b': 200},\n",
       "  48: True,\n",
       "  50: OrderedDict([('a', 100), ('b', 200), ('c', 300)]),\n",
       "  51: OrderedDict([('a', 100), ('c', 300), ('b', 200)]),\n",
       "  52: False,\n",
       "  56: 0,\n",
       "  57: 0,\n",
       "  58: defaultdict(int, {'a': 0, 'b': 0, 'c': 0}),\n",
       "  59: 0,\n",
       "  60: 0,\n",
       "  61: defaultdict(int, {'a': 0, 'b': 0, 'c': 0}),\n",
       "  63: defaultdict(int, {'a': 10, 'b': 35, 'c': 100}),\n",
       "  67: defaultdict(int, {'a': 10}),\n",
       "  68: 0,\n",
       "  69: [],\n",
       "  70: {},\n",
       "  72: 5,\n",
       "  73: 5,\n",
       "  75: defaultdict(<function __main__.return_5()>, {'a': 5, 'b': 5, 'c': 15}),\n",
       "  77: 5,\n",
       "  78: 5,\n",
       "  80: defaultdict(<function __main__.return_5()>, {'a': 5, 'b': 5, 'c': 15})},\n",
       " '_dh': ['/Users/reuven/Courses/Current/WDC-2022-q3-advanced-python'],\n",
       " 'In': ['',\n",
       "  \"d1 = {'a':1, 'b':2, 'c':3}\\nd2 = {'b':3, 'c':4, 'd':5}\\n\\nfor one_item in d1 | d2:  \\n    print(one_item)\",\n",
       "  'for one_item in (d1 | d2).items():  \\n    print(one_item)',\n",
       "  'for one_item in (d2 | d1).items():  \\n    print(one_item)',\n",
       "  \"d = {'c':100, 'b':200, 'd':300, 'a':400, 'e':500}\",\n",
       "  'd.keys()',\n",
       "  \"d['g'] = 600\\nd['f'] = 700\\n\\nd.keys()\",\n",
       "  'd.keys()',\n",
       "  'set(d.keys())',\n",
       "  'list(set(d.keys()))',\n",
       "  'd1 | d2',\n",
       "  'd1.keys() | d2.keys()',\n",
       "  'list(d1.keys() | d2.keys())',\n",
       "  'd1 | d2',\n",
       "  'd1.keys()',\n",
       "  'd1.keys() | d2.keys()',\n",
       "  'list(d1.keys() | d2.keys())',\n",
       "  \"d1 = {'a':1, 'b':2, 'c':3}\\nd2 = {'b':3, 'c':4, 'd':5}\\n\\nlist(d1.keys() | d2.keys())\",\n",
       "  'd1.keys() | d2.keys()',\n",
       "  'for one_item in (d1.keys() | d2.keys()):\\n    print(one_item)',\n",
       "  'list(d1.keys()|d2.keys())',\n",
       "  \"d1 = {'a':1, 'b':2, 'c':3}\\nd2 = {'b':3, 'c':4, 'd':5}\",\n",
       "  'd1',\n",
       "  \"d1['b'] = 100\\nd\",\n",
       "  \"d1['b'] = 100\\nd1\",\n",
       "  \"d1 = {'a':1, 'b':2, 'c':3}\\nd2 = {'b':3, 'c':4, 'd':5}\\n\\nd1 | d2    \",\n",
       "  '# rewrite of the above\\n\\ndef my_dict_union(d1, d2):\\n    output = d1.copy()\\n    \\n    ',\n",
       "  'my_dict_union(d1, d2)',\n",
       "  '# rewrite of the above\\n\\ndef my_dict_union(d1, d2):\\n    output = d1.copy()\\n    \\n    for key, value in d2.items():\\n        output[key] = value\\n        \\n    return output\\n        ',\n",
       "  'my_dict_union(d1, d2)',\n",
       "  'type(d1.keys())',\n",
       "  'type(d1.keys()|d2.keys())',\n",
       "  'd1.values() | d2.values()',\n",
       "  'dir(d1.keys())',\n",
       "  'd1.keys().__ror__(d2.keys())',\n",
       "  'd = {}',\n",
       "  \"d['a'] = 100\",\n",
       "  \"hash('a') % 8\",\n",
       "  \"d['b'] = 200\\nd['c'] = 300\",\n",
       "  \"hash('b') % 8\",\n",
       "  \"hash('c') % 8\",\n",
       "  \"'c' in d\",\n",
       "  'from collections import OrderedDict',\n",
       "  \"d = OrderedDict()\\nd['a'] = 100\\nd['b'] = 200\\nd['c'] = 300\",\n",
       "  'd',\n",
       "  \"d1 = {'a':100, 'b':200, 'c':300}\\nd2 = {'a':100, 'c':300, 'b':200}\",\n",
       "  'd1',\n",
       "  'd2',\n",
       "  'd1 == d2',\n",
       "  'd1 = OrderedDict(a=100, b=200, c=300)\\nd2 = OrderedDict(a=100, c=300, b=200)',\n",
       "  'd1',\n",
       "  'd2',\n",
       "  'd1 == d2',\n",
       "  'from collections import defaultdict',\n",
       "  'd = defaultdict(0)',\n",
       "  'd = defaultdict(int)',\n",
       "  'int()',\n",
       "  \"d['a']\",\n",
       "  'd',\n",
       "  \"d['b']\",\n",
       "  \"d['c']\",\n",
       "  'd',\n",
       "  \"d = defaultdict(int)\\n\\nd['a'] += 10\\nd['b'] += 20\\nd['c'] += 100\\nd['b'] += 15\",\n",
       "  'd',\n",
       "  \"d = {}\\na['a'] += 10\",\n",
       "  \"d = defaultdict(int)\\n\\nd['a'] += 10\",\n",
       "  \"d = defaultdict(int)\\n\\nd['a'] += 10    # d['a'] = d['a'] + 10\",\n",
       "  'd',\n",
       "  'int()',\n",
       "  'list()',\n",
       "  'dict()',\n",
       "  'def return_5():\\n    return 5\\n\\nd = defaultdict(return_5)',\n",
       "  \"d['a']\",\n",
       "  \"d['b']\",\n",
       "  \"d['c'] += 10\",\n",
       "  'd',\n",
       "  \"def return_5():\\n    print('Now running return_5')\\n    return 5\\n\\nd = defaultdict(return_5)\",\n",
       "  \"d['a']\",\n",
       "  \"d['b']\",\n",
       "  \"d['c'] += 10\",\n",
       "  'd',\n",
       "  'globals()'],\n",
       " 'Out': {5: dict_keys(['c', 'b', 'd', 'a', 'e', 'g', 'f']),\n",
       "  6: dict_keys(['c', 'b', 'd', 'a', 'e', 'g', 'f']),\n",
       "  7: dict_keys(['c', 'b', 'd', 'a', 'e', 'g', 'f']),\n",
       "  8: {'a', 'b', 'c', 'd', 'e', 'f', 'g'},\n",
       "  9: ['f', 'b', 'g', 'd', 'e', 'a', 'c'],\n",
       "  10: {'a': 1, 'b': 3, 'c': 4, 'd': 5},\n",
       "  11: {'a', 'b', 'c', 'd'},\n",
       "  12: ['a', 'c', 'd', 'b'],\n",
       "  13: {'a': 1, 'b': 3, 'c': 4, 'd': 5},\n",
       "  14: dict_keys(['a', 'b', 'c']),\n",
       "  15: {'a', 'b', 'c', 'd'},\n",
       "  16: ['a', 'c', 'd', 'b'],\n",
       "  17: ['a', 'c', 'd', 'b'],\n",
       "  18: {'a', 'b', 'c', 'd'},\n",
       "  20: ['a', 'c', 'd', 'b'],\n",
       "  22: {'a': 1, 'b': 100, 'c': 3},\n",
       "  23: {'c': 100, 'b': 200, 'd': 300, 'a': 400, 'e': 500, 'g': 600, 'f': 700},\n",
       "  24: {'a': 1, 'b': 100, 'c': 3},\n",
       "  25: {'a': 1, 'b': 3, 'c': 4, 'd': 5},\n",
       "  29: {'a': 1, 'b': 3, 'c': 4, 'd': 5},\n",
       "  30: dict_keys,\n",
       "  31: set,\n",
       "  33: ['__and__',\n",
       "   '__class__',\n",
       "   '__contains__',\n",
       "   '__delattr__',\n",
       "   '__dir__',\n",
       "   '__doc__',\n",
       "   '__eq__',\n",
       "   '__format__',\n",
       "   '__ge__',\n",
       "   '__getattribute__',\n",
       "   '__gt__',\n",
       "   '__hash__',\n",
       "   '__init__',\n",
       "   '__init_subclass__',\n",
       "   '__iter__',\n",
       "   '__le__',\n",
       "   '__len__',\n",
       "   '__lt__',\n",
       "   '__ne__',\n",
       "   '__new__',\n",
       "   '__or__',\n",
       "   '__rand__',\n",
       "   '__reduce__',\n",
       "   '__reduce_ex__',\n",
       "   '__repr__',\n",
       "   '__reversed__',\n",
       "   '__ror__',\n",
       "   '__rsub__',\n",
       "   '__rxor__',\n",
       "   '__setattr__',\n",
       "   '__sizeof__',\n",
       "   '__str__',\n",
       "   '__sub__',\n",
       "   '__subclasshook__',\n",
       "   '__xor__',\n",
       "   'isdisjoint',\n",
       "   'mapping'],\n",
       "  34: {'a', 'b', 'c', 'd'},\n",
       "  37: 2,\n",
       "  39: 5,\n",
       "  40: 5,\n",
       "  41: True,\n",
       "  44: OrderedDict([('a', 100), ('b', 200), ('c', 300)]),\n",
       "  46: {'a': 100, 'b': 200, 'c': 300},\n",
       "  47: {'a': 100, 'c': 300, 'b': 200},\n",
       "  48: True,\n",
       "  50: OrderedDict([('a', 100), ('b', 200), ('c', 300)]),\n",
       "  51: OrderedDict([('a', 100), ('c', 300), ('b', 200)]),\n",
       "  52: False,\n",
       "  56: 0,\n",
       "  57: 0,\n",
       "  58: defaultdict(int, {'a': 0, 'b': 0, 'c': 0}),\n",
       "  59: 0,\n",
       "  60: 0,\n",
       "  61: defaultdict(int, {'a': 0, 'b': 0, 'c': 0}),\n",
       "  63: defaultdict(int, {'a': 10, 'b': 35, 'c': 100}),\n",
       "  67: defaultdict(int, {'a': 10}),\n",
       "  68: 0,\n",
       "  69: [],\n",
       "  70: {},\n",
       "  72: 5,\n",
       "  73: 5,\n",
       "  75: defaultdict(<function __main__.return_5()>, {'a': 5, 'b': 5, 'c': 15}),\n",
       "  77: 5,\n",
       "  78: 5,\n",
       "  80: defaultdict(<function __main__.return_5()>, {'a': 5, 'b': 5, 'c': 15})},\n",
       " 'get_ipython': <bound method InteractiveShell.get_ipython of <ipykernel.zmqshell.ZMQInteractiveShell object at 0x1080affa0>>,\n",
       " 'exit': <IPython.core.autocall.ZMQExitAutocall at 0x108104a90>,\n",
       " 'quit': <IPython.core.autocall.ZMQExitAutocall at 0x108104a90>,\n",
       " '_': defaultdict(<function __main__.return_5()>, {'a': 5, 'b': 5, 'c': 15}),\n",
       " '__': 5,\n",
       " '___': 5,\n",
       " '_i': 'd',\n",
       " '_ii': \"d['c'] += 10\",\n",
       " '_iii': \"d['b']\",\n",
       " '_i1': \"d1 = {'a':1, 'b':2, 'c':3}\\nd2 = {'b':3, 'c':4, 'd':5}\\n\\nfor one_item in d1 | d2:  \\n    print(one_item)\",\n",
       " 'd1': OrderedDict([('a', 100), ('b', 200), ('c', 300)]),\n",
       " 'd2': OrderedDict([('a', 100), ('c', 300), ('b', 200)]),\n",
       " 'one_item': 'b',\n",
       " '_i2': 'for one_item in (d1 | d2).items():  \\n    print(one_item)',\n",
       " '_i3': 'for one_item in (d2 | d1).items():  \\n    print(one_item)',\n",
       " '_i4': \"d = {'c':100, 'b':200, 'd':300, 'a':400, 'e':500}\",\n",
       " 'd': defaultdict(<function __main__.return_5()>, {'a': 5, 'b': 5, 'c': 15}),\n",
       " '_i5': 'd.keys()',\n",
       " '_5': dict_keys(['c', 'b', 'd', 'a', 'e', 'g', 'f']),\n",
       " '_i6': \"d['g'] = 600\\nd['f'] = 700\\n\\nd.keys()\",\n",
       " '_6': dict_keys(['c', 'b', 'd', 'a', 'e', 'g', 'f']),\n",
       " '_i7': 'd.keys()',\n",
       " '_7': dict_keys(['c', 'b', 'd', 'a', 'e', 'g', 'f']),\n",
       " '_i8': 'set(d.keys())',\n",
       " '_8': {'a', 'b', 'c', 'd', 'e', 'f', 'g'},\n",
       " '_i9': 'list(set(d.keys()))',\n",
       " '_9': ['f', 'b', 'g', 'd', 'e', 'a', 'c'],\n",
       " '_i10': 'd1 | d2',\n",
       " '_10': {'a': 1, 'b': 3, 'c': 4, 'd': 5},\n",
       " '_i11': 'd1.keys() | d2.keys()',\n",
       " '_11': {'a', 'b', 'c', 'd'},\n",
       " '_i12': 'list(d1.keys() | d2.keys())',\n",
       " '_12': ['a', 'c', 'd', 'b'],\n",
       " '_i13': 'd1 | d2',\n",
       " '_13': {'a': 1, 'b': 3, 'c': 4, 'd': 5},\n",
       " '_i14': 'd1.keys()',\n",
       " '_14': dict_keys(['a', 'b', 'c']),\n",
       " '_i15': 'd1.keys() | d2.keys()',\n",
       " '_15': {'a', 'b', 'c', 'd'},\n",
       " '_i16': 'list(d1.keys() | d2.keys())',\n",
       " '_16': ['a', 'c', 'd', 'b'],\n",
       " '_i17': \"d1 = {'a':1, 'b':2, 'c':3}\\nd2 = {'b':3, 'c':4, 'd':5}\\n\\nlist(d1.keys() | d2.keys())\",\n",
       " '_17': ['a', 'c', 'd', 'b'],\n",
       " '_i18': 'd1.keys() | d2.keys()',\n",
       " '_18': {'a', 'b', 'c', 'd'},\n",
       " '_i19': 'for one_item in (d1.keys() | d2.keys()):\\n    print(one_item)',\n",
       " '_i20': 'list(d1.keys()|d2.keys())',\n",
       " '_20': ['a', 'c', 'd', 'b'],\n",
       " '_i21': \"d1 = {'a':1, 'b':2, 'c':3}\\nd2 = {'b':3, 'c':4, 'd':5}\",\n",
       " '_i22': 'd1',\n",
       " '_22': {'a': 1, 'b': 100, 'c': 3},\n",
       " '_i23': \"d1['b'] = 100\\nd\",\n",
       " '_23': {'c': 100, 'b': 200, 'd': 300, 'a': 400, 'e': 500, 'g': 600, 'f': 700},\n",
       " '_i24': \"d1['b'] = 100\\nd1\",\n",
       " '_24': {'a': 1, 'b': 100, 'c': 3},\n",
       " '_i25': \"d1 = {'a':1, 'b':2, 'c':3}\\nd2 = {'b':3, 'c':4, 'd':5}\\n\\nd1 | d2    \",\n",
       " '_25': {'a': 1, 'b': 3, 'c': 4, 'd': 5},\n",
       " '_i26': '# rewrite of the above\\n\\ndef my_dict_union(d1, d2):\\n    output = d1.copy()\\n    \\n    ',\n",
       " 'my_dict_union': <function __main__.my_dict_union(d1, d2)>,\n",
       " '_i27': 'my_dict_union(d1, d2)',\n",
       " '_i28': '# rewrite of the above\\n\\ndef my_dict_union(d1, d2):\\n    output = d1.copy()\\n    \\n    for key, value in d2.items():\\n        output[key] = value\\n        \\n    return output\\n        ',\n",
       " '_i29': 'my_dict_union(d1, d2)',\n",
       " '_29': {'a': 1, 'b': 3, 'c': 4, 'd': 5},\n",
       " '_i30': 'type(d1.keys())',\n",
       " '_30': dict_keys,\n",
       " '_i31': 'type(d1.keys()|d2.keys())',\n",
       " '_31': set,\n",
       " '_i32': 'd1.values() | d2.values()',\n",
       " '_i33': 'dir(d1.keys())',\n",
       " '_33': ['__and__',\n",
       "  '__class__',\n",
       "  '__contains__',\n",
       "  '__delattr__',\n",
       "  '__dir__',\n",
       "  '__doc__',\n",
       "  '__eq__',\n",
       "  '__format__',\n",
       "  '__ge__',\n",
       "  '__getattribute__',\n",
       "  '__gt__',\n",
       "  '__hash__',\n",
       "  '__init__',\n",
       "  '__init_subclass__',\n",
       "  '__iter__',\n",
       "  '__le__',\n",
       "  '__len__',\n",
       "  '__lt__',\n",
       "  '__ne__',\n",
       "  '__new__',\n",
       "  '__or__',\n",
       "  '__rand__',\n",
       "  '__reduce__',\n",
       "  '__reduce_ex__',\n",
       "  '__repr__',\n",
       "  '__reversed__',\n",
       "  '__ror__',\n",
       "  '__rsub__',\n",
       "  '__rxor__',\n",
       "  '__setattr__',\n",
       "  '__sizeof__',\n",
       "  '__str__',\n",
       "  '__sub__',\n",
       "  '__subclasshook__',\n",
       "  '__xor__',\n",
       "  'isdisjoint',\n",
       "  'mapping'],\n",
       " '_i34': 'd1.keys().__ror__(d2.keys())',\n",
       " '_34': {'a', 'b', 'c', 'd'},\n",
       " '_i35': 'd = {}',\n",
       " '_i36': \"d['a'] = 100\",\n",
       " '_i37': \"hash('a') % 8\",\n",
       " '_37': 2,\n",
       " '_i38': \"d['b'] = 200\\nd['c'] = 300\",\n",
       " '_i39': \"hash('b') % 8\",\n",
       " '_39': 5,\n",
       " '_i40': \"hash('c') % 8\",\n",
       " '_40': 5,\n",
       " '_i41': \"'c' in d\",\n",
       " '_41': True,\n",
       " '_i42': 'from collections import OrderedDict',\n",
       " 'OrderedDict': collections.OrderedDict,\n",
       " '_i43': \"d = OrderedDict()\\nd['a'] = 100\\nd['b'] = 200\\nd['c'] = 300\",\n",
       " '_i44': 'd',\n",
       " '_44': OrderedDict([('a', 100), ('b', 200), ('c', 300)]),\n",
       " '_i45': \"d1 = {'a':100, 'b':200, 'c':300}\\nd2 = {'a':100, 'c':300, 'b':200}\",\n",
       " '_i46': 'd1',\n",
       " '_46': {'a': 100, 'b': 200, 'c': 300},\n",
       " '_i47': 'd2',\n",
       " '_47': {'a': 100, 'c': 300, 'b': 200},\n",
       " '_i48': 'd1 == d2',\n",
       " '_48': True,\n",
       " '_i49': 'd1 = OrderedDict(a=100, b=200, c=300)\\nd2 = OrderedDict(a=100, c=300, b=200)',\n",
       " '_i50': 'd1',\n",
       " '_50': OrderedDict([('a', 100), ('b', 200), ('c', 300)]),\n",
       " '_i51': 'd2',\n",
       " '_51': OrderedDict([('a', 100), ('c', 300), ('b', 200)]),\n",
       " '_i52': 'd1 == d2',\n",
       " '_52': False,\n",
       " '_i53': 'from collections import defaultdict',\n",
       " 'defaultdict': collections.defaultdict,\n",
       " '_i54': 'd = defaultdict(0)',\n",
       " '_i55': 'd = defaultdict(int)',\n",
       " '_i56': 'int()',\n",
       " '_56': 0,\n",
       " '_i57': \"d['a']\",\n",
       " '_57': 0,\n",
       " '_i58': 'd',\n",
       " '_58': defaultdict(int, {'a': 0, 'b': 0, 'c': 0}),\n",
       " '_i59': \"d['b']\",\n",
       " '_59': 0,\n",
       " '_i60': \"d['c']\",\n",
       " '_60': 0,\n",
       " '_i61': 'd',\n",
       " '_61': defaultdict(int, {'a': 0, 'b': 0, 'c': 0}),\n",
       " '_i62': \"d = defaultdict(int)\\n\\nd['a'] += 10\\nd['b'] += 20\\nd['c'] += 100\\nd['b'] += 15\",\n",
       " '_i63': 'd',\n",
       " '_63': defaultdict(int, {'a': 10, 'b': 35, 'c': 100}),\n",
       " '_i64': \"d = {}\\na['a'] += 10\",\n",
       " '_i65': \"d = defaultdict(int)\\n\\nd['a'] += 10\",\n",
       " '_i66': \"d = defaultdict(int)\\n\\nd['a'] += 10    # d['a'] = d['a'] + 10\",\n",
       " '_i67': 'd',\n",
       " '_67': defaultdict(int, {'a': 10}),\n",
       " '_i68': 'int()',\n",
       " '_68': 0,\n",
       " '_i69': 'list()',\n",
       " '_69': [],\n",
       " '_i70': 'dict()',\n",
       " '_70': {},\n",
       " '_i71': 'def return_5():\\n    return 5\\n\\nd = defaultdict(return_5)',\n",
       " 'return_5': <function __main__.return_5()>,\n",
       " '_i72': \"d['a']\",\n",
       " '_72': 5,\n",
       " '_i73': \"d['b']\",\n",
       " '_73': 5,\n",
       " '_i74': \"d['c'] += 10\",\n",
       " '_i75': 'd',\n",
       " '_75': defaultdict(<function __main__.return_5()>, {'a': 5, 'b': 5, 'c': 15}),\n",
       " '_i76': \"def return_5():\\n    print('Now running return_5')\\n    return 5\\n\\nd = defaultdict(return_5)\",\n",
       " '_i77': \"d['a']\",\n",
       " '_77': 5,\n",
       " '_i78': \"d['b']\",\n",
       " '_78': 5,\n",
       " '_i79': \"d['c'] += 10\",\n",
       " '_i80': 'd',\n",
       " '_80': defaultdict(<function __main__.return_5()>, {'a': 5, 'b': 5, 'c': 15}),\n",
       " '_i81': 'globals()'}"
      ]
     },
     "execution_count": 81,
     "metadata": {},
     "output_type": "execute_result"
    }
   ],
   "source": [
    "globals()"
   ]
  },
  {
   "cell_type": "code",
   "execution_count": 82,
   "id": "ad77bbb4",
   "metadata": {},
   "outputs": [],
   "source": [
    "x =100\n",
    "y = [10, 20, 30]"
   ]
  },
  {
   "cell_type": "code",
   "execution_count": 83,
   "id": "f01cb905",
   "metadata": {},
   "outputs": [
    {
     "data": {
      "text/plain": [
       "100"
      ]
     },
     "execution_count": 83,
     "metadata": {},
     "output_type": "execute_result"
    }
   ],
   "source": [
    "globals()['x']"
   ]
  },
  {
   "cell_type": "code",
   "execution_count": 84,
   "id": "48f9dd63",
   "metadata": {},
   "outputs": [
    {
     "data": {
      "text/plain": [
       "[10, 20, 30]"
      ]
     },
     "execution_count": 84,
     "metadata": {},
     "output_type": "execute_result"
    }
   ],
   "source": [
    "globals()['y']"
   ]
  },
  {
   "cell_type": "code",
   "execution_count": 85,
   "id": "cd3ca994",
   "metadata": {},
   "outputs": [],
   "source": [
    "import random\n",
    "\n",
    "def random_type_back():\n",
    "    n = random.randint(0, 2)\n",
    "    \n",
    "    if n == 0:\n",
    "        return 100\n",
    "    elif n == 1:\n",
    "        return 'abcd'\n",
    "    elif n == 2:\n",
    "        return [10, 20, 30]"
   ]
  },
  {
   "cell_type": "code",
   "execution_count": 86,
   "id": "29e64a72",
   "metadata": {},
   "outputs": [],
   "source": [
    "d = defaultdict(random_type_back)"
   ]
  },
  {
   "cell_type": "code",
   "execution_count": 87,
   "id": "cfa3d611",
   "metadata": {},
   "outputs": [
    {
     "data": {
      "text/plain": [
       "[10, 20, 30]"
      ]
     },
     "execution_count": 87,
     "metadata": {},
     "output_type": "execute_result"
    }
   ],
   "source": [
    "d['a']"
   ]
  },
  {
   "cell_type": "code",
   "execution_count": 88,
   "id": "d6553359",
   "metadata": {},
   "outputs": [
    {
     "data": {
      "text/plain": [
       "100"
      ]
     },
     "execution_count": 88,
     "metadata": {},
     "output_type": "execute_result"
    }
   ],
   "source": [
    "d['b']"
   ]
  },
  {
   "cell_type": "code",
   "execution_count": 89,
   "id": "1b23da3a",
   "metadata": {},
   "outputs": [
    {
     "data": {
      "text/plain": [
       "[10, 20, 30]"
      ]
     },
     "execution_count": 89,
     "metadata": {},
     "output_type": "execute_result"
    }
   ],
   "source": [
    "d['c']"
   ]
  },
  {
   "cell_type": "code",
   "execution_count": 90,
   "id": "f4e28208",
   "metadata": {},
   "outputs": [
    {
     "data": {
      "text/plain": [
       "[10, 20, 30]"
      ]
     },
     "execution_count": 90,
     "metadata": {},
     "output_type": "execute_result"
    }
   ],
   "source": [
    "d['d']"
   ]
  },
  {
   "cell_type": "code",
   "execution_count": 91,
   "id": "a7cabab9",
   "metadata": {},
   "outputs": [
    {
     "data": {
      "text/plain": [
       "100"
      ]
     },
     "execution_count": 91,
     "metadata": {},
     "output_type": "execute_result"
    }
   ],
   "source": [
    "d['e']"
   ]
  },
  {
   "cell_type": "code",
   "execution_count": 92,
   "id": "6ab0c0c8",
   "metadata": {},
   "outputs": [
    {
     "data": {
      "text/plain": [
       "defaultdict(<function __main__.random_type_back()>,\n",
       "            {'a': [10, 20, 30],\n",
       "             'b': 100,\n",
       "             'c': [10, 20, 30],\n",
       "             'd': [10, 20, 30],\n",
       "             'e': 100})"
      ]
     },
     "execution_count": 92,
     "metadata": {},
     "output_type": "execute_result"
    }
   ],
   "source": [
    "d"
   ]
  },
  {
   "cell_type": "code",
   "execution_count": 93,
   "id": "bc4c658a",
   "metadata": {},
   "outputs": [
    {
     "data": {
      "text/plain": [
       "100"
      ]
     },
     "execution_count": 93,
     "metadata": {},
     "output_type": "execute_result"
    }
   ],
   "source": [
    "d['f']"
   ]
  },
  {
   "cell_type": "code",
   "execution_count": 94,
   "id": "7e52914a",
   "metadata": {},
   "outputs": [
    {
     "data": {
      "text/plain": [
       "100"
      ]
     },
     "execution_count": 94,
     "metadata": {},
     "output_type": "execute_result"
    }
   ],
   "source": [
    "d['g']"
   ]
  },
  {
   "cell_type": "code",
   "execution_count": 95,
   "id": "ca7cf78a",
   "metadata": {},
   "outputs": [
    {
     "data": {
      "text/plain": [
       "'abcd'"
      ]
     },
     "execution_count": 95,
     "metadata": {},
     "output_type": "execute_result"
    }
   ],
   "source": [
    "d['h']"
   ]
  },
  {
   "cell_type": "code",
   "execution_count": 96,
   "id": "a56ba46e",
   "metadata": {},
   "outputs": [
    {
     "data": {
      "text/plain": [
       "defaultdict(<function __main__.random_type_back()>,\n",
       "            {'a': [10, 20, 30],\n",
       "             'b': 100,\n",
       "             'c': [10, 20, 30],\n",
       "             'd': [10, 20, 30],\n",
       "             'e': 100,\n",
       "             'f': 100,\n",
       "             'g': 100,\n",
       "             'h': 'abcd'})"
      ]
     },
     "execution_count": 96,
     "metadata": {},
     "output_type": "execute_result"
    }
   ],
   "source": [
    "d"
   ]
  },
  {
   "cell_type": "code",
   "execution_count": 97,
   "id": "ec59ef76",
   "metadata": {},
   "outputs": [
    {
     "data": {
      "text/plain": [
       "['__class__',\n",
       " '__class_getitem__',\n",
       " '__contains__',\n",
       " '__copy__',\n",
       " '__delattr__',\n",
       " '__delitem__',\n",
       " '__dir__',\n",
       " '__doc__',\n",
       " '__eq__',\n",
       " '__format__',\n",
       " '__ge__',\n",
       " '__getattribute__',\n",
       " '__getitem__',\n",
       " '__gt__',\n",
       " '__hash__',\n",
       " '__init__',\n",
       " '__init_subclass__',\n",
       " '__ior__',\n",
       " '__iter__',\n",
       " '__le__',\n",
       " '__len__',\n",
       " '__lt__',\n",
       " '__missing__',\n",
       " '__ne__',\n",
       " '__new__',\n",
       " '__or__',\n",
       " '__reduce__',\n",
       " '__reduce_ex__',\n",
       " '__repr__',\n",
       " '__reversed__',\n",
       " '__ror__',\n",
       " '__setattr__',\n",
       " '__setitem__',\n",
       " '__sizeof__',\n",
       " '__str__',\n",
       " '__subclasshook__',\n",
       " 'clear',\n",
       " 'copy',\n",
       " 'default_factory',\n",
       " 'fromkeys',\n",
       " 'get',\n",
       " 'items',\n",
       " 'keys',\n",
       " 'pop',\n",
       " 'popitem',\n",
       " 'setdefault',\n",
       " 'update',\n",
       " 'values']"
      ]
     },
     "execution_count": 97,
     "metadata": {},
     "output_type": "execute_result"
    }
   ],
   "source": [
    "dir(d)"
   ]
  },
  {
   "cell_type": "code",
   "execution_count": 100,
   "id": "082ac20d",
   "metadata": {},
   "outputs": [
    {
     "data": {
      "text/plain": [
       "'abcd'"
      ]
     },
     "execution_count": 100,
     "metadata": {},
     "output_type": "execute_result"
    }
   ],
   "source": [
    "d.__missing__('a')"
   ]
  },
  {
   "cell_type": "code",
   "execution_count": 101,
   "id": "69c36bb0",
   "metadata": {},
   "outputs": [],
   "source": [
    "d = defaultdict(dict)"
   ]
  },
  {
   "cell_type": "code",
   "execution_count": 102,
   "id": "05756f43",
   "metadata": {},
   "outputs": [],
   "source": [
    "d['a']['b'] = 100\n",
    "d['a']['c'] = 200\n",
    "d['x']['y'] = 123\n",
    "d['x']['z'] = 456"
   ]
  },
  {
   "cell_type": "code",
   "execution_count": 103,
   "id": "90a2cf55",
   "metadata": {},
   "outputs": [
    {
     "data": {
      "text/plain": [
       "defaultdict(dict, {'a': {'b': 100, 'c': 200}, 'x': {'y': 123, 'z': 456}})"
      ]
     },
     "execution_count": 103,
     "metadata": {},
     "output_type": "execute_result"
    }
   ],
   "source": [
    "d"
   ]
  },
  {
   "cell_type": "code",
   "execution_count": 104,
   "id": "cb8d19a8",
   "metadata": {},
   "outputs": [],
   "source": [
    "import time"
   ]
  },
  {
   "cell_type": "code",
   "execution_count": 105,
   "id": "eedd1e7a",
   "metadata": {},
   "outputs": [
    {
     "data": {
      "text/plain": [
       "1657522683.9108832"
      ]
     },
     "execution_count": 105,
     "metadata": {},
     "output_type": "execute_result"
    }
   ],
   "source": [
    "time.time()"
   ]
  },
  {
   "cell_type": "code",
   "execution_count": 106,
   "id": "443c39e8",
   "metadata": {},
   "outputs": [],
   "source": [
    "d = defaultdict(time.time)"
   ]
  },
  {
   "cell_type": "code",
   "execution_count": 107,
   "id": "b738bb88",
   "metadata": {},
   "outputs": [
    {
     "data": {
      "text/plain": [
       "1657522701.5419688"
      ]
     },
     "execution_count": 107,
     "metadata": {},
     "output_type": "execute_result"
    }
   ],
   "source": [
    "d['a']"
   ]
  },
  {
   "cell_type": "code",
   "execution_count": 108,
   "id": "3ba8ef7a",
   "metadata": {},
   "outputs": [
    {
     "data": {
      "text/plain": [
       "1657522702.617017"
      ]
     },
     "execution_count": 108,
     "metadata": {},
     "output_type": "execute_result"
    }
   ],
   "source": [
    "d['b']"
   ]
  },
  {
   "cell_type": "code",
   "execution_count": 109,
   "id": "3e90c828",
   "metadata": {},
   "outputs": [
    {
     "data": {
      "text/plain": [
       "1657522703.423865"
      ]
     },
     "execution_count": 109,
     "metadata": {},
     "output_type": "execute_result"
    }
   ],
   "source": [
    "d['c']"
   ]
  },
  {
   "cell_type": "code",
   "execution_count": 111,
   "id": "b5460167",
   "metadata": {},
   "outputs": [
    {
     "data": {
      "text/plain": [
       "1657522701.5419688"
      ]
     },
     "execution_count": 111,
     "metadata": {},
     "output_type": "execute_result"
    }
   ],
   "source": [
    "d['a']"
   ]
  },
  {
   "cell_type": "code",
   "execution_count": 112,
   "id": "0d6d4c70",
   "metadata": {},
   "outputs": [
    {
     "data": {
      "text/plain": [
       "{}"
      ]
     },
     "execution_count": 112,
     "metadata": {},
     "output_type": "execute_result"
    }
   ],
   "source": [
    "dict()"
   ]
  },
  {
   "cell_type": "code",
   "execution_count": 114,
   "id": "88529cb6",
   "metadata": {},
   "outputs": [],
   "source": [
    "d = defaultdict(dict)\n",
    "\n",
    "d['x']['y'] = 100      # 'x' in d --> d['x'] = dict() --> d['x']['y'] = 100"
   ]
  },
  {
   "cell_type": "markdown",
   "id": "7bca5b48",
   "metadata": {},
   "source": [
    "# Exercise: Travel\n",
    "\n",
    "1. Ask the user, repeatedly, to enter a string indicating the city + country where they traveled. The format should be \"city, country\".\n",
    "2. The dict that we create will have country names as keys, and lists of cities as values.\n",
    "3. When the user enters an empty string, print all countries, and all cities in each country.\n",
    "\n",
    "Example:\n",
    "\n",
    "    Destination: Beijing, China\n",
    "    Destination: Shanghai, China\n",
    "    Destination: Chicago, USA\n",
    "    Destination: Boston, USA\n",
    "    Destination: [ENTER]\n",
    "    \n",
    "    China:\n",
    "        Beijing\n",
    "        Shanghai\n",
    "    USA:\n",
    "        Chicago\n",
    "        Boston\n",
    "        \n",
    "        "
   ]
  },
  {
   "cell_type": "code",
   "execution_count": 117,
   "id": "2a27ac73",
   "metadata": {},
   "outputs": [
    {
     "name": "stdout",
     "output_type": "stream",
     "text": [
      "Destination: Shanghai, China\n",
      "Destination: Beijing, China\n",
      "Destination: asdfasfsa\n",
      "Enter city, country\n",
      "Destination: Boston, USA\n",
      "Destination: New York, USA\n",
      "Destination: \n",
      "China\n",
      "\tShanghai\n",
      "\tBeijing\n",
      "USA\n",
      "\tBoston\n",
      "\tNew York\n"
     ]
    }
   ],
   "source": [
    "all_places = {}\n",
    "\n",
    "while True:\n",
    "    s = input('Destination: ').strip()\n",
    "    \n",
    "    if not s:\n",
    "        break\n",
    "        \n",
    "    if s.count(',') != 1:\n",
    "        print(f'Enter city, country')\n",
    "        continue\n",
    "        \n",
    "    one_city, one_country = s.split(',')\n",
    "    one_city = one_city.strip()\n",
    "    one_country = one_country.strip()\n",
    "    \n",
    "    if one_country not in all_places:\n",
    "        all_places[one_country] = []\n",
    "        \n",
    "    all_places[one_country].append(one_city)\n",
    "    \n",
    "for one_country, all_cities in all_places.items():\n",
    "    print(one_country)\n",
    "\n",
    "    for one_city in all_cities:\n",
    "        print(f'\\t{one_city}')\n",
    "    \n",
    "    \n",
    "    "
   ]
  },
  {
   "cell_type": "code",
   "execution_count": null,
   "id": "b5bcf09d",
   "metadata": {},
   "outputs": [],
   "source": [
    "from collections import defaultdict\n",
    "\n",
    "all_places = defaultdict(list)\n",
    "\n",
    "while True:\n",
    "    s = input('Destination: ').strip()\n",
    "    \n",
    "    if not s:\n",
    "        break\n",
    "        \n",
    "    if s.count(',') != 1:\n",
    "        print(f'Enter city, country')\n",
    "        continue\n",
    "        \n",
    "    one_city, one_country = s.split(',')\n",
    "\n",
    "    all_places[one_country.strip()].append(one_city.strip())\n",
    "\n",
    "for one_country, all_cities in all_places.items():\n",
    "    print(one_country)\n",
    "\n",
    "    for one_city in all_cities:\n",
    "        print(f'\\t{one_city}')  "
   ]
  },
  {
   "cell_type": "code",
   "execution_count": 118,
   "id": "89eda1a4",
   "metadata": {},
   "outputs": [],
   "source": [
    "from collections import Counter"
   ]
  },
  {
   "cell_type": "code",
   "execution_count": 119,
   "id": "e7d64359",
   "metadata": {},
   "outputs": [],
   "source": [
    "c = Counter()"
   ]
  },
  {
   "cell_type": "code",
   "execution_count": 120,
   "id": "7199e0dc",
   "metadata": {},
   "outputs": [
    {
     "data": {
      "text/plain": [
       "Counter({'a': 22, 'b': 35, 'c': 30})"
      ]
     },
     "execution_count": 120,
     "metadata": {},
     "output_type": "execute_result"
    }
   ],
   "source": [
    "c['a'] += 10\n",
    "c['b'] += 20\n",
    "c['c'] += 30\n",
    "c['b'] += 15\n",
    "c['a'] += 12\n",
    "\n",
    "c"
   ]
  },
  {
   "cell_type": "code",
   "execution_count": 121,
   "id": "878f8a3c",
   "metadata": {},
   "outputs": [],
   "source": [
    "c = Counter('abcdbcbbbccbcdbcdbbcd')"
   ]
  },
  {
   "cell_type": "code",
   "execution_count": 122,
   "id": "463f5b48",
   "metadata": {},
   "outputs": [
    {
     "data": {
      "text/plain": [
       "Counter({'a': 1, 'b': 9, 'c': 7, 'd': 4})"
      ]
     },
     "execution_count": 122,
     "metadata": {},
     "output_type": "execute_result"
    }
   ],
   "source": [
    "c"
   ]
  },
  {
   "cell_type": "code",
   "execution_count": 123,
   "id": "d986cde0",
   "metadata": {},
   "outputs": [],
   "source": [
    "c = Counter([10, 20, 30, 20, 30, 40, 20, 30, 40, 20, 30, 40, 50, 20, 30, 20])"
   ]
  },
  {
   "cell_type": "code",
   "execution_count": 124,
   "id": "0c9f52ca",
   "metadata": {},
   "outputs": [
    {
     "data": {
      "text/plain": [
       "Counter({10: 1, 20: 6, 30: 5, 40: 3, 50: 1})"
      ]
     },
     "execution_count": 124,
     "metadata": {},
     "output_type": "execute_result"
    }
   ],
   "source": [
    "c"
   ]
  },
  {
   "cell_type": "code",
   "execution_count": 125,
   "id": "eb4dc737",
   "metadata": {},
   "outputs": [
    {
     "data": {
      "text/plain": [
       "[(20, 6), (30, 5), (40, 3), (10, 1), (50, 1)]"
      ]
     },
     "execution_count": 125,
     "metadata": {},
     "output_type": "execute_result"
    }
   ],
   "source": [
    "c.most_common()"
   ]
  },
  {
   "cell_type": "code",
   "execution_count": 126,
   "id": "1e68d322",
   "metadata": {},
   "outputs": [
    {
     "data": {
      "text/plain": [
       "[(20, 6), (30, 5), (40, 3)]"
      ]
     },
     "execution_count": 126,
     "metadata": {},
     "output_type": "execute_result"
    }
   ],
   "source": [
    "c.most_common(3)"
   ]
  },
  {
   "cell_type": "code",
   "execution_count": 127,
   "id": "a3800976",
   "metadata": {},
   "outputs": [],
   "source": [
    "c1 = Counter([10, 20, 30, 20, 30, 40])\n",
    "c2 = Counter([30, 40, 50, 30, 40, 50, 30])"
   ]
  },
  {
   "cell_type": "code",
   "execution_count": 128,
   "id": "af108aa7",
   "metadata": {},
   "outputs": [
    {
     "data": {
      "text/plain": [
       "Counter({10: 1, 20: 2, 30: 2, 40: 1})"
      ]
     },
     "execution_count": 128,
     "metadata": {},
     "output_type": "execute_result"
    }
   ],
   "source": [
    "c1"
   ]
  },
  {
   "cell_type": "code",
   "execution_count": 129,
   "id": "399960d1",
   "metadata": {},
   "outputs": [
    {
     "data": {
      "text/plain": [
       "Counter({30: 3, 40: 2, 50: 2})"
      ]
     },
     "execution_count": 129,
     "metadata": {},
     "output_type": "execute_result"
    }
   ],
   "source": [
    "c2"
   ]
  },
  {
   "cell_type": "code",
   "execution_count": 130,
   "id": "8979d682",
   "metadata": {},
   "outputs": [
    {
     "data": {
      "text/plain": [
       "Counter({10: 1, 20: 2, 30: 5, 40: 3, 50: 2})"
      ]
     },
     "execution_count": 130,
     "metadata": {},
     "output_type": "execute_result"
    }
   ],
   "source": [
    "c1 + c2"
   ]
  },
  {
   "cell_type": "code",
   "execution_count": 131,
   "id": "e7b62e71",
   "metadata": {},
   "outputs": [
    {
     "data": {
      "text/plain": [
       "Counter({10: 1, 20: 2, 30: 3, 40: 2, 50: 2})"
      ]
     },
     "execution_count": 131,
     "metadata": {},
     "output_type": "execute_result"
    }
   ],
   "source": [
    "c1 | c2   # union of the two counters"
   ]
  },
  {
   "cell_type": "code",
   "execution_count": 132,
   "id": "141bebbd",
   "metadata": {},
   "outputs": [
    {
     "data": {
      "text/plain": [
       "{'a': 10, 'b': 100, 'c': 200, 'd': 300}"
      ]
     },
     "execution_count": 132,
     "metadata": {},
     "output_type": "execute_result"
    }
   ],
   "source": [
    "d1 = {'a':10, 'b':20, 'c':30}\n",
    "d2 = {'b':100, 'c':200, 'd':300}\n",
    "\n",
    "d1 | d2"
   ]
  },
  {
   "cell_type": "code",
   "execution_count": 133,
   "id": "4b688405",
   "metadata": {},
   "outputs": [
    {
     "data": {
      "text/plain": [
       "{'a': 10, 'b': 100, 'c': 200, 'd': 300}"
      ]
     },
     "execution_count": 133,
     "metadata": {},
     "output_type": "execute_result"
    }
   ],
   "source": [
    "d1.update(d2)  # this modifies d1!\n",
    "\n",
    "d1"
   ]
  },
  {
   "cell_type": "code",
   "execution_count": 134,
   "id": "68f8a614",
   "metadata": {},
   "outputs": [
    {
     "ename": "TypeError",
     "evalue": "unsupported operand type(s) for +: 'dict' and 'dict'",
     "output_type": "error",
     "traceback": [
      "\u001b[0;31m---------------------------------------------------------------------------\u001b[0m",
      "\u001b[0;31mTypeError\u001b[0m                                 Traceback (most recent call last)",
      "\u001b[0;32m/var/folders/rr/0mnyyv811fs5vyp22gf4fxk00000gn/T/ipykernel_200/1575791415.py\u001b[0m in \u001b[0;36m<module>\u001b[0;34m\u001b[0m\n\u001b[0;32m----> 1\u001b[0;31m \u001b[0md1\u001b[0m \u001b[0;34m+\u001b[0m \u001b[0md2\u001b[0m\u001b[0;34m\u001b[0m\u001b[0;34m\u001b[0m\u001b[0m\n\u001b[0m",
      "\u001b[0;31mTypeError\u001b[0m: unsupported operand type(s) for +: 'dict' and 'dict'"
     ]
    }
   ],
   "source": [
    "d1 + d2"
   ]
  },
  {
   "cell_type": "markdown",
   "id": "627f4990",
   "metadata": {},
   "source": [
    "# Next up:\n",
    "\n",
    "1. Functions\n",
    "     - Bytecodes\n",
    "     - Function objects\n",
    "     - Scoping\n",
    "\n",
    "Resume at 10:55"
   ]
  },
  {
   "cell_type": "code",
   "execution_count": null,
   "id": "3fad9fee",
   "metadata": {},
   "outputs": [],
   "source": [
    "from collections import defaultdict\n",
    "\n",
    "all_places = defaultdict(list)\n",
    "\n",
    "while True:\n",
    "    s = input('Destination: ').strip()\n",
    "    \n",
    "    if not s:\n",
    "        break\n",
    "        \n",
    "    if s.count(',') != 1:\n",
    "        print(f'Enter city, country')\n",
    "        continue\n",
    "        \n",
    "    one_city, one_country = s.split(',')\n",
    "\n",
    "    all_places[one_country.strip()].append(one_city.strip())"
   ]
  },
  {
   "cell_type": "code",
   "execution_count": 135,
   "id": "5dd9478a",
   "metadata": {},
   "outputs": [
    {
     "data": {
      "text/plain": [
       "{'China': ['Shanghai', 'Beijing'], 'USA': ['Boston', 'New York']}"
      ]
     },
     "execution_count": 135,
     "metadata": {},
     "output_type": "execute_result"
    }
   ],
   "source": [
    "all_places"
   ]
  },
  {
   "cell_type": "code",
   "execution_count": 137,
   "id": "7f60c387",
   "metadata": {},
   "outputs": [
    {
     "name": "stdout",
     "output_type": "stream",
     "text": [
      "China\n",
      "all_cities=['Shanghai', 'Beijing']\n",
      "\tShanghai\n",
      "\tBeijing\n",
      "USA\n",
      "all_cities=['Boston', 'New York']\n",
      "\tBoston\n",
      "\tNew York\n"
     ]
    }
   ],
   "source": [
    "for one_country, all_cities in all_places.items():\n",
    "    print(one_country)\n",
    "    print(f'{all_cities=}')\n",
    "\n",
    "    for one_city in all_cities:\n",
    "        print(f'\\t{one_city}')  "
   ]
  },
  {
   "cell_type": "code",
   "execution_count": 138,
   "id": "59a390d4",
   "metadata": {},
   "outputs": [
    {
     "data": {
      "text/plain": [
       "str"
      ]
     },
     "execution_count": 138,
     "metadata": {},
     "output_type": "execute_result"
    }
   ],
   "source": [
    "type(one_city)"
   ]
  },
  {
   "cell_type": "code",
   "execution_count": 139,
   "id": "48a17411",
   "metadata": {},
   "outputs": [
    {
     "data": {
      "text/plain": [
       "'New York'"
      ]
     },
     "execution_count": 139,
     "metadata": {},
     "output_type": "execute_result"
    }
   ],
   "source": [
    "one_city"
   ]
  },
  {
   "cell_type": "code",
   "execution_count": 140,
   "id": "37358ca6",
   "metadata": {},
   "outputs": [
    {
     "name": "stdout",
     "output_type": "stream",
     "text": [
      "China\n",
      "\t\t city='Shanghai' <class 'str'>\n",
      "\t\t city='Beijing' <class 'str'>\n",
      "USA\n",
      "\t\t city='Boston' <class 'str'>\n",
      "\t\t city='New York' <class 'str'>\n"
     ]
    }
   ],
   "source": [
    "from collections import defaultdict\n",
    "dTravel = defaultdict(list)\n",
    "while True:\n",
    "    user_input = input('Please enter a string indicating the city + country where you traveled. The format should be \"city, country\".').strip()\n",
    "    if not user_input:\n",
    "        break\n",
    "    strCity, strCountry = user_input.split(',')\n",
    "    dTravel[strCountry.strip()].append([strCity.strip()])\n",
    "for one_country, all_cities in dTravel.items():\n",
    "    print(f'{one_country}')\n",
    "    for city in all_cities:\n",
    "        print(f'\\t\\t {city=} {type(city)}')"
   ]
  },
  {
   "cell_type": "code",
   "execution_count": 141,
   "id": "29eddfbc",
   "metadata": {},
   "outputs": [],
   "source": [
    "mylist = [10, 20, 30]\n",
    "\n",
    "mylist.append(40)"
   ]
  },
  {
   "cell_type": "code",
   "execution_count": 142,
   "id": "c5aeae82",
   "metadata": {},
   "outputs": [
    {
     "data": {
      "text/plain": [
       "[10, 20, 30, 40]"
      ]
     },
     "execution_count": 142,
     "metadata": {},
     "output_type": "execute_result"
    }
   ],
   "source": [
    "mylist"
   ]
  },
  {
   "cell_type": "code",
   "execution_count": 143,
   "id": "d09335d6",
   "metadata": {},
   "outputs": [
    {
     "data": {
      "text/plain": [
       "[10, 20, 30, 40, [40]]"
      ]
     },
     "execution_count": 143,
     "metadata": {},
     "output_type": "execute_result"
    }
   ],
   "source": [
    "mylist.append([40])\n",
    "mylist"
   ]
  },
  {
   "cell_type": "code",
   "execution_count": 144,
   "id": "38028ab5",
   "metadata": {},
   "outputs": [],
   "source": [
    "def hello():\n",
    "    return 'Hello'"
   ]
  },
  {
   "cell_type": "code",
   "execution_count": 145,
   "id": "a59f0740",
   "metadata": {},
   "outputs": [
    {
     "data": {
      "text/plain": [
       "function"
      ]
     },
     "execution_count": 145,
     "metadata": {},
     "output_type": "execute_result"
    }
   ],
   "source": [
    "type(hello)"
   ]
  },
  {
   "cell_type": "code",
   "execution_count": 146,
   "id": "468524e5",
   "metadata": {},
   "outputs": [],
   "source": [
    "hello = 7"
   ]
  },
  {
   "cell_type": "code",
   "execution_count": 147,
   "id": "a1a93c80",
   "metadata": {},
   "outputs": [
    {
     "ename": "TypeError",
     "evalue": "'int' object is not callable",
     "output_type": "error",
     "traceback": [
      "\u001b[0;31m---------------------------------------------------------------------------\u001b[0m",
      "\u001b[0;31mTypeError\u001b[0m                                 Traceback (most recent call last)",
      "\u001b[0;32m/var/folders/rr/0mnyyv811fs5vyp22gf4fxk00000gn/T/ipykernel_200/2674044599.py\u001b[0m in \u001b[0;36m<module>\u001b[0;34m\u001b[0m\n\u001b[0;32m----> 1\u001b[0;31m \u001b[0mhello\u001b[0m\u001b[0;34m(\u001b[0m\u001b[0;34m)\u001b[0m\u001b[0;34m\u001b[0m\u001b[0;34m\u001b[0m\u001b[0m\n\u001b[0m",
      "\u001b[0;31mTypeError\u001b[0m: 'int' object is not callable"
     ]
    }
   ],
   "source": [
    "hello()"
   ]
  },
  {
   "cell_type": "code",
   "execution_count": 148,
   "id": "992fd5e5",
   "metadata": {},
   "outputs": [
    {
     "data": {
      "text/plain": [
       "int"
      ]
     },
     "execution_count": 148,
     "metadata": {},
     "output_type": "execute_result"
    }
   ],
   "source": [
    "type(hello)"
   ]
  },
  {
   "cell_type": "code",
   "execution_count": 149,
   "id": "587c68ca",
   "metadata": {},
   "outputs": [],
   "source": [
    "def hello():\n",
    "    return 'Hello'"
   ]
  },
  {
   "cell_type": "code",
   "execution_count": 150,
   "id": "998dc9a2",
   "metadata": {},
   "outputs": [],
   "source": [
    "def hello(name):\n",
    "    return f'Hello, {name}!'"
   ]
  },
  {
   "cell_type": "code",
   "execution_count": 151,
   "id": "dffadad5",
   "metadata": {},
   "outputs": [
    {
     "data": {
      "text/plain": [
       "'Hello, Reuven!'"
      ]
     },
     "execution_count": 151,
     "metadata": {},
     "output_type": "execute_result"
    }
   ],
   "source": [
    "hello('Reuven')"
   ]
  },
  {
   "cell_type": "code",
   "execution_count": 152,
   "id": "9e5d57ad",
   "metadata": {},
   "outputs": [
    {
     "ename": "TypeError",
     "evalue": "hello() missing 1 required positional argument: 'name'",
     "output_type": "error",
     "traceback": [
      "\u001b[0;31m---------------------------------------------------------------------------\u001b[0m",
      "\u001b[0;31mTypeError\u001b[0m                                 Traceback (most recent call last)",
      "\u001b[0;32m/var/folders/rr/0mnyyv811fs5vyp22gf4fxk00000gn/T/ipykernel_200/2674044599.py\u001b[0m in \u001b[0;36m<module>\u001b[0;34m\u001b[0m\n\u001b[0;32m----> 1\u001b[0;31m \u001b[0mhello\u001b[0m\u001b[0;34m(\u001b[0m\u001b[0;34m)\u001b[0m\u001b[0;34m\u001b[0m\u001b[0;34m\u001b[0m\u001b[0m\n\u001b[0m",
      "\u001b[0;31mTypeError\u001b[0m: hello() missing 1 required positional argument: 'name'"
     ]
    }
   ],
   "source": [
    "hello()"
   ]
  },
  {
   "cell_type": "code",
   "execution_count": 153,
   "id": "54de3c7d",
   "metadata": {},
   "outputs": [],
   "source": [
    "def hello():\n",
    "    return 'Hello'"
   ]
  },
  {
   "cell_type": "code",
   "execution_count": 154,
   "id": "ec326601",
   "metadata": {},
   "outputs": [
    {
     "ename": "TypeError",
     "evalue": "hello() takes 0 positional arguments but 1 was given",
     "output_type": "error",
     "traceback": [
      "\u001b[0;31m---------------------------------------------------------------------------\u001b[0m",
      "\u001b[0;31mTypeError\u001b[0m                                 Traceback (most recent call last)",
      "\u001b[0;32m/var/folders/rr/0mnyyv811fs5vyp22gf4fxk00000gn/T/ipykernel_200/2504046000.py\u001b[0m in \u001b[0;36m<module>\u001b[0;34m\u001b[0m\n\u001b[0;32m----> 1\u001b[0;31m \u001b[0mhello\u001b[0m\u001b[0;34m(\u001b[0m\u001b[0;34m'Reuven'\u001b[0m\u001b[0;34m)\u001b[0m\u001b[0;34m\u001b[0m\u001b[0;34m\u001b[0m\u001b[0m\n\u001b[0m",
      "\u001b[0;31mTypeError\u001b[0m: hello() takes 0 positional arguments but 1 was given"
     ]
    }
   ],
   "source": [
    "hello('Reuven')"
   ]
  },
  {
   "cell_type": "markdown",
   "id": "f29f3bde",
   "metadata": {},
   "source": [
    "# Arguments in Python\n",
    "\n",
    "There are two types of arguments in Python:\n",
    "\n",
    "1. Positional arguments -- based on their positions in the argument list, the values will be assigned to parameters.\n",
    "2. Keyword arguments -- they always look like `name=value`, and they are assigned based on the `name`."
   ]
  },
  {
   "cell_type": "code",
   "execution_count": 155,
   "id": "1942debe",
   "metadata": {},
   "outputs": [
    {
     "data": {
      "text/plain": [
       "0"
      ]
     },
     "execution_count": 155,
     "metadata": {},
     "output_type": "execute_result"
    }
   ],
   "source": [
    "hello.__code__.co_argcount"
   ]
  },
  {
   "cell_type": "code",
   "execution_count": 156,
   "id": "eb9463ea",
   "metadata": {},
   "outputs": [
    {
     "data": {
      "text/plain": [
       "True"
      ]
     },
     "execution_count": 156,
     "metadata": {},
     "output_type": "execute_result"
    }
   ],
   "source": [
    "callable(hello)"
   ]
  },
  {
   "cell_type": "code",
   "execution_count": 157,
   "id": "83c1f07a",
   "metadata": {},
   "outputs": [],
   "source": [
    "x = hello()"
   ]
  },
  {
   "cell_type": "code",
   "execution_count": 158,
   "id": "b1af6ed0",
   "metadata": {},
   "outputs": [
    {
     "name": "stdout",
     "output_type": "stream",
     "text": [
      "Hello\n"
     ]
    }
   ],
   "source": [
    "print(x)"
   ]
  },
  {
   "cell_type": "code",
   "execution_count": 160,
   "id": "e07dfd78",
   "metadata": {},
   "outputs": [],
   "source": [
    "import dis  # disassemble"
   ]
  },
  {
   "cell_type": "code",
   "execution_count": 161,
   "id": "7e1e4505",
   "metadata": {},
   "outputs": [
    {
     "data": {
      "text/plain": [
       "b'd\\x01S\\x00'"
      ]
     },
     "execution_count": 161,
     "metadata": {},
     "output_type": "execute_result"
    }
   ],
   "source": [
    "hello.__code__.co_code"
   ]
  },
  {
   "cell_type": "code",
   "execution_count": 163,
   "id": "5a01523e",
   "metadata": {},
   "outputs": [
    {
     "name": "stdout",
     "output_type": "stream",
     "text": [
      "  2           0 LOAD_CONST               1 ('Hello')\n",
      "              2 RETURN_VALUE\n"
     ]
    }
   ],
   "source": [
    "def hello():\n",
    "    return 'Hello'\n",
    "\n",
    "dis.dis(hello)"
   ]
  },
  {
   "cell_type": "code",
   "execution_count": 164,
   "id": "b06f1a4a",
   "metadata": {},
   "outputs": [
    {
     "data": {
      "text/plain": [
       "(None, 'Hello')"
      ]
     },
     "execution_count": 164,
     "metadata": {},
     "output_type": "execute_result"
    }
   ],
   "source": [
    "hello.__code__.co_consts"
   ]
  },
  {
   "cell_type": "code",
   "execution_count": 165,
   "id": "4ec9c2f7",
   "metadata": {},
   "outputs": [],
   "source": [
    "def hello():\n",
    "    pass"
   ]
  },
  {
   "cell_type": "code",
   "execution_count": 166,
   "id": "66c702aa",
   "metadata": {},
   "outputs": [
    {
     "name": "stdout",
     "output_type": "stream",
     "text": [
      "None\n"
     ]
    }
   ],
   "source": [
    "print(hello())"
   ]
  },
  {
   "cell_type": "code",
   "execution_count": 167,
   "id": "52b17bfa",
   "metadata": {},
   "outputs": [
    {
     "name": "stdout",
     "output_type": "stream",
     "text": [
      "  2           0 LOAD_CONST               0 (None)\n",
      "              2 RETURN_VALUE\n"
     ]
    }
   ],
   "source": [
    "dis.dis(hello)"
   ]
  },
  {
   "cell_type": "code",
   "execution_count": 168,
   "id": "ef9c2da5",
   "metadata": {},
   "outputs": [],
   "source": [
    "def add():\n",
    "    x = 10 + 3\n",
    "    "
   ]
  },
  {
   "cell_type": "code",
   "execution_count": 169,
   "id": "d0c0b77f",
   "metadata": {},
   "outputs": [
    {
     "name": "stdout",
     "output_type": "stream",
     "text": [
      "  2           0 LOAD_CONST               1 (13)\n",
      "              2 STORE_FAST               0 (x)\n",
      "              4 LOAD_CONST               0 (None)\n",
      "              6 RETURN_VALUE\n"
     ]
    }
   ],
   "source": [
    "dis.dis(add)"
   ]
  },
  {
   "cell_type": "code",
   "execution_count": 170,
   "id": "a4069d21",
   "metadata": {},
   "outputs": [],
   "source": [
    "def myfunc():\n",
    "    x = [10, 20, 30]\n",
    "    return x"
   ]
  },
  {
   "cell_type": "code",
   "execution_count": 171,
   "id": "260f4390",
   "metadata": {},
   "outputs": [
    {
     "name": "stdout",
     "output_type": "stream",
     "text": [
      "  2           0 BUILD_LIST               0\n",
      "              2 LOAD_CONST               1 ((10, 20, 30))\n",
      "              4 LIST_EXTEND              1\n",
      "              6 STORE_FAST               0 (x)\n",
      "\n",
      "  3           8 LOAD_FAST                0 (x)\n",
      "             10 RETURN_VALUE\n"
     ]
    }
   ],
   "source": [
    "dis.dis(myfunc)"
   ]
  },
  {
   "cell_type": "code",
   "execution_count": 172,
   "id": "10a65a15",
   "metadata": {},
   "outputs": [],
   "source": [
    "mylist = []\n",
    "mylist.extend((10, 20, 30))"
   ]
  },
  {
   "cell_type": "code",
   "execution_count": 173,
   "id": "b2899e07",
   "metadata": {},
   "outputs": [
    {
     "data": {
      "text/plain": [
       "(None, (10, 20, 30))"
      ]
     },
     "execution_count": 173,
     "metadata": {},
     "output_type": "execute_result"
    }
   ],
   "source": [
    "myfunc.__code__.co_consts"
   ]
  },
  {
   "cell_type": "code",
   "execution_count": 174,
   "id": "3d0e9593",
   "metadata": {},
   "outputs": [],
   "source": [
    "def myfunc():\n",
    "    x = (10, 20, 30)\n",
    "    return x"
   ]
  },
  {
   "cell_type": "code",
   "execution_count": 175,
   "id": "b4c0a9e2",
   "metadata": {},
   "outputs": [
    {
     "name": "stdout",
     "output_type": "stream",
     "text": [
      "  2           0 LOAD_CONST               1 ((10, 20, 30))\n",
      "              2 STORE_FAST               0 (x)\n",
      "\n",
      "  3           4 LOAD_FAST                0 (x)\n",
      "              6 RETURN_VALUE\n"
     ]
    }
   ],
   "source": [
    "dis.dis(myfunc)"
   ]
  },
  {
   "cell_type": "code",
   "execution_count": 176,
   "id": "085506f8",
   "metadata": {},
   "outputs": [],
   "source": [
    "def myfunc():\n",
    "    x = [10]\n",
    "    return x"
   ]
  },
  {
   "cell_type": "code",
   "execution_count": 177,
   "id": "046982d4",
   "metadata": {},
   "outputs": [
    {
     "name": "stdout",
     "output_type": "stream",
     "text": [
      "  2           0 LOAD_CONST               1 (10)\n",
      "              2 BUILD_LIST               1\n",
      "              4 STORE_FAST               0 (x)\n",
      "\n",
      "  3           6 LOAD_FAST                0 (x)\n",
      "              8 RETURN_VALUE\n"
     ]
    }
   ],
   "source": [
    "dis.dis(myfunc)"
   ]
  },
  {
   "cell_type": "code",
   "execution_count": 178,
   "id": "efae748a",
   "metadata": {},
   "outputs": [],
   "source": [
    "def myfunc():\n",
    "    x = [10, 20]\n",
    "    return x"
   ]
  },
  {
   "cell_type": "code",
   "execution_count": 179,
   "id": "fc28a139",
   "metadata": {},
   "outputs": [
    {
     "name": "stdout",
     "output_type": "stream",
     "text": [
      "  2           0 LOAD_CONST               1 (10)\n",
      "              2 LOAD_CONST               2 (20)\n",
      "              4 BUILD_LIST               2\n",
      "              6 STORE_FAST               0 (x)\n",
      "\n",
      "  3           8 LOAD_FAST                0 (x)\n",
      "             10 RETURN_VALUE\n"
     ]
    }
   ],
   "source": [
    "dis.dis(myfunc)"
   ]
  },
  {
   "cell_type": "code",
   "execution_count": 182,
   "id": "fb4f5bfa",
   "metadata": {},
   "outputs": [],
   "source": [
    "def myfunc():\n",
    "    d = {'a':10, 'b':20, 'c':30}\n",
    "    return d"
   ]
  },
  {
   "cell_type": "code",
   "execution_count": 183,
   "id": "73e55254",
   "metadata": {},
   "outputs": [
    {
     "name": "stdout",
     "output_type": "stream",
     "text": [
      "  2           0 LOAD_CONST               1 (10)\n",
      "              2 LOAD_CONST               2 (20)\n",
      "              4 LOAD_CONST               3 (30)\n",
      "              6 LOAD_CONST               4 (('a', 'b', 'c'))\n",
      "              8 BUILD_CONST_KEY_MAP      3\n",
      "             10 STORE_FAST               0 (d)\n",
      "\n",
      "  3          12 LOAD_FAST                0 (d)\n",
      "             14 RETURN_VALUE\n"
     ]
    }
   ],
   "source": [
    "dis.dis(myfunc)"
   ]
  },
  {
   "cell_type": "code",
   "execution_count": 185,
   "id": "f25ed128",
   "metadata": {},
   "outputs": [],
   "source": [
    "def hello(name):\n",
    "    return name"
   ]
  },
  {
   "cell_type": "code",
   "execution_count": 186,
   "id": "f600bfa7",
   "metadata": {},
   "outputs": [
    {
     "name": "stdout",
     "output_type": "stream",
     "text": [
      "  2           0 LOAD_FAST                0 (name)\n",
      "              2 RETURN_VALUE\n"
     ]
    }
   ],
   "source": [
    "dis.dis(hello)"
   ]
  },
  {
   "cell_type": "code",
   "execution_count": 187,
   "id": "db788a6e",
   "metadata": {},
   "outputs": [
    {
     "data": {
      "text/plain": [
       "1"
      ]
     },
     "execution_count": 187,
     "metadata": {},
     "output_type": "execute_result"
    }
   ],
   "source": [
    "hello.__code__.co_argcount"
   ]
  },
  {
   "cell_type": "code",
   "execution_count": 188,
   "id": "1f02eb7f",
   "metadata": {},
   "outputs": [
    {
     "data": {
      "text/plain": [
       "('name',)"
      ]
     },
     "execution_count": 188,
     "metadata": {},
     "output_type": "execute_result"
    }
   ],
   "source": [
    "hello.__code__.co_varnames"
   ]
  },
  {
   "cell_type": "code",
   "execution_count": 189,
   "id": "0f50f383",
   "metadata": {},
   "outputs": [
    {
     "data": {
      "text/plain": [
       "'Reuven'"
      ]
     },
     "execution_count": 189,
     "metadata": {},
     "output_type": "execute_result"
    }
   ],
   "source": [
    "# parameters: name\n",
    "# arguments: 'Reuven'\n",
    "\n",
    "\n",
    "hello('Reuven')"
   ]
  },
  {
   "cell_type": "code",
   "execution_count": 190,
   "id": "0c741087",
   "metadata": {},
   "outputs": [
    {
     "data": {
      "text/plain": [
       "'Reuven'"
      ]
     },
     "execution_count": 190,
     "metadata": {},
     "output_type": "execute_result"
    }
   ],
   "source": [
    "# parameters: name\n",
    "# arguments: 'Reuven'\n",
    "\n",
    "\n",
    "hello(name='Reuven')"
   ]
  },
  {
   "cell_type": "code",
   "execution_count": 191,
   "id": "fd931a06",
   "metadata": {},
   "outputs": [],
   "source": [
    "def add(first, second):\n",
    "    return first + second"
   ]
  },
  {
   "cell_type": "code",
   "execution_count": 193,
   "id": "677d4a41",
   "metadata": {},
   "outputs": [
    {
     "data": {
      "text/plain": [
       "13"
      ]
     },
     "execution_count": 193,
     "metadata": {},
     "output_type": "execute_result"
    }
   ],
   "source": [
    "# parameters: first second\n",
    "# arguments:   10    3\n",
    "\n",
    "add(10, 3)"
   ]
  },
  {
   "cell_type": "code",
   "execution_count": 194,
   "id": "d486f8ac",
   "metadata": {},
   "outputs": [
    {
     "data": {
      "text/plain": [
       "13"
      ]
     },
     "execution_count": 194,
     "metadata": {},
     "output_type": "execute_result"
    }
   ],
   "source": [
    "# parameters: first second\n",
    "# arguments:  10      3\n",
    "\n",
    "add(first=10, second=3)"
   ]
  },
  {
   "cell_type": "code",
   "execution_count": 195,
   "id": "fd0de408",
   "metadata": {},
   "outputs": [
    {
     "data": {
      "text/plain": [
       "13"
      ]
     },
     "execution_count": 195,
     "metadata": {},
     "output_type": "execute_result"
    }
   ],
   "source": [
    "# parameters: first second\n",
    "# arguments:   10    3\n",
    "\n",
    "add(10, second=3)"
   ]
  },
  {
   "cell_type": "code",
   "execution_count": 196,
   "id": "7ecba078",
   "metadata": {},
   "outputs": [
    {
     "ename": "SyntaxError",
     "evalue": "positional argument follows keyword argument (3828676014.py, line 4)",
     "output_type": "error",
     "traceback": [
      "\u001b[0;36m  File \u001b[0;32m\"/var/folders/rr/0mnyyv811fs5vyp22gf4fxk00000gn/T/ipykernel_200/3828676014.py\"\u001b[0;36m, line \u001b[0;32m4\u001b[0m\n\u001b[0;31m    add(first=10, 3)\u001b[0m\n\u001b[0m                   ^\u001b[0m\n\u001b[0;31mSyntaxError\u001b[0m\u001b[0;31m:\u001b[0m positional argument follows keyword argument\n"
     ]
    }
   ],
   "source": [
    "# parameters: first second\n",
    "# arguments:  \n",
    "\n",
    "add(first=10, 3)"
   ]
  },
  {
   "cell_type": "code",
   "execution_count": null,
   "id": "ccc34be0",
   "metadata": {},
   "outputs": [],
   "source": []
  }
 ],
 "metadata": {
  "kernelspec": {
   "display_name": "Python 3 (ipykernel)",
   "language": "python",
   "name": "python3"
  },
  "language_info": {
   "codemirror_mode": {
    "name": "ipython",
    "version": 3
   },
   "file_extension": ".py",
   "mimetype": "text/x-python",
   "name": "python",
   "nbconvert_exporter": "python",
   "pygments_lexer": "ipython3",
   "version": "3.10.5"
  }
 },
 "nbformat": 4,
 "nbformat_minor": 5
}

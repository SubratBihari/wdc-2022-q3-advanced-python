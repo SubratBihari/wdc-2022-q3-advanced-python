{
 "cells": [
  {
   "cell_type": "markdown",
   "id": "0fb93941",
   "metadata": {},
   "source": [
    "# Agenda\n",
    "\n",
    "- Sorting\n",
    "- Functions as arguments\n",
    "- `lambda`\n",
    "- Objects"
   ]
  },
  {
   "cell_type": "code",
   "execution_count": 4,
   "id": "e0ab58c6",
   "metadata": {},
   "outputs": [
    {
     "data": {
      "text/plain": [
       "[-1, 47, 3, -45, -17, 15, 12, 1, 50, -12]"
      ]
     },
     "execution_count": 4,
     "metadata": {},
     "output_type": "execute_result"
    }
   ],
   "source": [
    "import random\n",
    "random.seed(0)\n",
    "\n",
    "numbers = [random.randint(-50, 50)\n",
    "          for i in range(10)]\n",
    "\n",
    "numbers"
   ]
  },
  {
   "cell_type": "code",
   "execution_count": 5,
   "id": "6efa25ce",
   "metadata": {},
   "outputs": [
    {
     "data": {
      "text/plain": [
       "[-45, -17, -12, -1, 1, 3, 12, 15, 47, 50]"
      ]
     },
     "execution_count": 5,
     "metadata": {},
     "output_type": "execute_result"
    }
   ],
   "source": [
    "sorted(numbers)"
   ]
  },
  {
   "cell_type": "code",
   "execution_count": 7,
   "id": "0939ac5f",
   "metadata": {},
   "outputs": [
    {
     "data": {
      "text/plain": [
       "[50, 47, 15, 12, 3, 1, -1, -12, -17, -45]"
      ]
     },
     "execution_count": 7,
     "metadata": {},
     "output_type": "execute_result"
    }
   ],
   "source": [
    "sorted(numbers, reverse=True)"
   ]
  },
  {
   "cell_type": "code",
   "execution_count": 9,
   "id": "1198e188",
   "metadata": {},
   "outputs": [
    {
     "data": {
      "text/plain": [
       "50"
      ]
     },
     "execution_count": 9,
     "metadata": {},
     "output_type": "execute_result"
    }
   ],
   "source": [
    "# sort by absolute value\n",
    "\n",
    "abs(-50)\n"
   ]
  },
  {
   "cell_type": "markdown",
   "id": "1c12c6c4",
   "metadata": {},
   "source": [
    "Sorting in Python is done with TimSort (merge sort + insertion sort)\n",
    "\n",
    "For every pair of data, TimSort asks:\n",
    "\n",
    "    A < B\n",
    "    \n",
    "Instead, we want to do something like this:\n",
    "\n",
    "    abs(A) < abs(B)\n",
    "    \n",
    "Or, more generally:\n",
    "\n",
    "    f(A) < f(B)\n",
    "    \n",
    "The sorting function needs to take a single argument, and return something that can be sorted (against all of the other values returned by `f`)    "
   ]
  },
  {
   "cell_type": "code",
   "execution_count": 10,
   "id": "94af1e8c",
   "metadata": {},
   "outputs": [
    {
     "data": {
      "text/plain": [
       "[-1, 1, 3, 12, -12, 15, -17, -45, 47, 50]"
      ]
     },
     "execution_count": 10,
     "metadata": {},
     "output_type": "execute_result"
    }
   ],
   "source": [
    "sorted(numbers, key=abs)   # sorted will run \"abs\" once on each element in \"numbers\""
   ]
  },
  {
   "cell_type": "code",
   "execution_count": 11,
   "id": "302c124d",
   "metadata": {},
   "outputs": [],
   "source": [
    "# TimSort is a stable sort\n",
    "# if f(x) and f(y) are the same, then x and y will remain in their original order"
   ]
  },
  {
   "cell_type": "code",
   "execution_count": 12,
   "id": "fc5f7953",
   "metadata": {},
   "outputs": [],
   "source": [
    "words = 'This is a bunch of words for my Python course with WDC'.split()"
   ]
  },
  {
   "cell_type": "code",
   "execution_count": 13,
   "id": "58654d91",
   "metadata": {},
   "outputs": [
    {
     "data": {
      "text/plain": [
       "['Python',\n",
       " 'This',\n",
       " 'WDC',\n",
       " 'a',\n",
       " 'bunch',\n",
       " 'course',\n",
       " 'for',\n",
       " 'is',\n",
       " 'my',\n",
       " 'of',\n",
       " 'with',\n",
       " 'words']"
      ]
     },
     "execution_count": 13,
     "metadata": {},
     "output_type": "execute_result"
    }
   ],
   "source": [
    "sorted(words)"
   ]
  },
  {
   "cell_type": "code",
   "execution_count": 14,
   "id": "64f50f6e",
   "metadata": {},
   "outputs": [
    {
     "data": {
      "text/plain": [
       "80"
      ]
     },
     "execution_count": 14,
     "metadata": {},
     "output_type": "execute_result"
    }
   ],
   "source": [
    "ord('P')"
   ]
  },
  {
   "cell_type": "code",
   "execution_count": 15,
   "id": "be0d4001",
   "metadata": {},
   "outputs": [
    {
     "data": {
      "text/plain": [
       "97"
      ]
     },
     "execution_count": 15,
     "metadata": {},
     "output_type": "execute_result"
    }
   ],
   "source": [
    "ord('a')"
   ]
  },
  {
   "cell_type": "code",
   "execution_count": null,
   "id": "96e9a850",
   "metadata": {},
   "outputs": [],
   "source": []
  }
 ],
 "metadata": {
  "kernelspec": {
   "display_name": "Python 3 (ipykernel)",
   "language": "python",
   "name": "python3"
  },
  "language_info": {
   "codemirror_mode": {
    "name": "ipython",
    "version": 3
   },
   "file_extension": ".py",
   "mimetype": "text/x-python",
   "name": "python",
   "nbconvert_exporter": "python",
   "pygments_lexer": "ipython3",
   "version": "3.10.5"
  }
 },
 "nbformat": 4,
 "nbformat_minor": 5
}

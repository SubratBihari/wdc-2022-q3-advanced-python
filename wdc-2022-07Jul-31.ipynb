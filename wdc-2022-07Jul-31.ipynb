{
 "cells": [
  {
   "cell_type": "markdown",
   "id": "0fb93941",
   "metadata": {},
   "source": [
    "# Agenda\n",
    "\n",
    "- Sorting\n",
    "- Functions as arguments\n",
    "- `lambda`\n",
    "- Objects"
   ]
  },
  {
   "cell_type": "code",
   "execution_count": 4,
   "id": "e0ab58c6",
   "metadata": {},
   "outputs": [
    {
     "data": {
      "text/plain": [
       "[-1, 47, 3, -45, -17, 15, 12, 1, 50, -12]"
      ]
     },
     "execution_count": 4,
     "metadata": {},
     "output_type": "execute_result"
    }
   ],
   "source": [
    "import random\n",
    "random.seed(0)\n",
    "\n",
    "numbers = [random.randint(-50, 50)\n",
    "          for i in range(10)]\n",
    "\n",
    "numbers"
   ]
  },
  {
   "cell_type": "code",
   "execution_count": null,
   "id": "91fbd4e0",
   "metadata": {},
   "outputs": [],
   "source": [
    "sorted(numbers)"
   ]
  }
 ],
 "metadata": {
  "kernelspec": {
   "display_name": "Python 3 (ipykernel)",
   "language": "python",
   "name": "python3"
  },
  "language_info": {
   "codemirror_mode": {
    "name": "ipython",
    "version": 3
   },
   "file_extension": ".py",
   "mimetype": "text/x-python",
   "name": "python",
   "nbconvert_exporter": "python",
   "pygments_lexer": "ipython3",
   "version": "3.10.5"
  }
 },
 "nbformat": 4,
 "nbformat_minor": 5
}

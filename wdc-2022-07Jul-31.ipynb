{
 "cells": [
  {
   "cell_type": "markdown",
   "id": "0fb93941",
   "metadata": {},
   "source": [
    "# Agenda\n",
    "\n",
    "- Sorting\n",
    "- Functions as arguments\n",
    "- `lambda`\n",
    "- Objects"
   ]
  },
  {
   "cell_type": "code",
   "execution_count": 4,
   "id": "e0ab58c6",
   "metadata": {},
   "outputs": [
    {
     "data": {
      "text/plain": [
       "[-1, 47, 3, -45, -17, 15, 12, 1, 50, -12]"
      ]
     },
     "execution_count": 4,
     "metadata": {},
     "output_type": "execute_result"
    }
   ],
   "source": [
    "import random\n",
    "random.seed(0)\n",
    "\n",
    "numbers = [random.randint(-50, 50)\n",
    "          for i in range(10)]\n",
    "\n",
    "numbers"
   ]
  },
  {
   "cell_type": "code",
   "execution_count": 5,
   "id": "3d87c055",
   "metadata": {},
   "outputs": [
    {
     "data": {
      "text/plain": [
       "[-45, -17, -12, -1, 1, 3, 12, 15, 47, 50]"
      ]
     },
     "execution_count": 5,
     "metadata": {},
     "output_type": "execute_result"
    }
   ],
   "source": [
    "sorted(numbers)"
   ]
  },
  {
   "cell_type": "code",
   "execution_count": 7,
   "id": "81c7652c",
   "metadata": {},
   "outputs": [
    {
     "data": {
      "text/plain": [
       "[50, 47, 15, 12, 3, 1, -1, -12, -17, -45]"
      ]
     },
     "execution_count": 7,
     "metadata": {},
     "output_type": "execute_result"
    }
   ],
   "source": [
    "sorted(numbers, reverse=True)"
   ]
  },
  {
   "cell_type": "code",
   "execution_count": 9,
   "id": "e05e9d85",
   "metadata": {},
   "outputs": [
    {
     "data": {
      "text/plain": [
       "50"
      ]
     },
     "execution_count": 9,
     "metadata": {},
     "output_type": "execute_result"
    }
   ],
   "source": [
    "# sort by absolute value\n",
    "\n",
    "abs(-50)\n"
   ]
  },
  {
   "cell_type": "markdown",
   "id": "4197976d",
   "metadata": {},
   "source": [
    "Sorting in Python is done with TimSort (merge sort + insertion sort)\n",
    "\n",
    "For every pair of data, TimSort asks:\n",
    "\n",
    "    A < B\n",
    "    \n",
    "Instead, we want to do something like this:\n",
    "\n",
    "    abs(A) < abs(B)\n",
    "    \n",
    "Or, more generally:\n",
    "\n",
    "    f(A) < f(B)\n",
    "    \n",
    "The sorting function needs to take a single argument, and return something that can be sorted (against all of the other values returned by `f`)    "
   ]
  },
  {
   "cell_type": "code",
   "execution_count": 10,
   "id": "247af500",
   "metadata": {},
   "outputs": [
    {
     "data": {
      "text/plain": [
       "[-1, 1, 3, 12, -12, 15, -17, -45, 47, 50]"
      ]
     },
     "execution_count": 10,
     "metadata": {},
     "output_type": "execute_result"
    }
   ],
   "source": [
    "sorted(numbers, key=abs)   # sorted will run \"abs\" once on each element in \"numbers\""
   ]
  },
  {
   "cell_type": "code",
   "execution_count": 11,
   "id": "9bcc7cb5",
   "metadata": {},
   "outputs": [],
   "source": [
    "# TimSort is a stable sort\n",
    "# if f(x) and f(y) are the same, then x and y will remain in their original order"
   ]
  },
  {
   "cell_type": "code",
   "execution_count": 12,
   "id": "6b81b57f",
   "metadata": {},
   "outputs": [],
   "source": [
    "words = 'This is a bunch of words for my Python course with WDC'.split()"
   ]
  },
  {
   "cell_type": "code",
   "execution_count": 13,
   "id": "72b75c4a",
   "metadata": {},
   "outputs": [
    {
     "data": {
      "text/plain": [
       "['Python',\n",
       " 'This',\n",
       " 'WDC',\n",
       " 'a',\n",
       " 'bunch',\n",
       " 'course',\n",
       " 'for',\n",
       " 'is',\n",
       " 'my',\n",
       " 'of',\n",
       " 'with',\n",
       " 'words']"
      ]
     },
     "execution_count": 13,
     "metadata": {},
     "output_type": "execute_result"
    }
   ],
   "source": [
    "sorted(words)"
   ]
  },
  {
   "cell_type": "code",
   "execution_count": 14,
   "id": "4b78485d",
   "metadata": {},
   "outputs": [
    {
     "data": {
      "text/plain": [
       "80"
      ]
     },
     "execution_count": 14,
     "metadata": {},
     "output_type": "execute_result"
    }
   ],
   "source": [
    "ord('P')   # Unicode code point for this character"
   ]
  },
  {
   "cell_type": "code",
   "execution_count": 15,
   "id": "12388e2b",
   "metadata": {},
   "outputs": [
    {
     "data": {
      "text/plain": [
       "97"
      ]
     },
     "execution_count": 15,
     "metadata": {},
     "output_type": "execute_result"
    }
   ],
   "source": [
    "ord('a')  # Unicode code point for this character"
   ]
  },
  {
   "cell_type": "code",
   "execution_count": 16,
   "id": "d61509c1",
   "metadata": {},
   "outputs": [
    {
     "data": {
      "text/plain": [
       "['a',\n",
       " 'bunch',\n",
       " 'course',\n",
       " 'for',\n",
       " 'is',\n",
       " 'my',\n",
       " 'of',\n",
       " 'Python',\n",
       " 'This',\n",
       " 'WDC',\n",
       " 'with',\n",
       " 'words']"
      ]
     },
     "execution_count": 16,
     "metadata": {},
     "output_type": "execute_result"
    }
   ],
   "source": [
    "# What if I want to sort the words in \"words\" alphabetically, and case insensitive?\n",
    "\n",
    "sorted(words, key=str.lower)"
   ]
  },
  {
   "cell_type": "code",
   "execution_count": 17,
   "id": "08b5eda1",
   "metadata": {},
   "outputs": [],
   "source": [
    "def by_loud_str_lower(one_word):\n",
    "    print(f'Now checking {one_word}')\n",
    "    return one_word.lower()"
   ]
  },
  {
   "cell_type": "code",
   "execution_count": 18,
   "id": "a86e8860",
   "metadata": {},
   "outputs": [
    {
     "name": "stdout",
     "output_type": "stream",
     "text": [
      "Now checking This\n",
      "Now checking is\n",
      "Now checking a\n",
      "Now checking bunch\n",
      "Now checking of\n",
      "Now checking words\n",
      "Now checking for\n",
      "Now checking my\n",
      "Now checking Python\n",
      "Now checking course\n",
      "Now checking with\n",
      "Now checking WDC\n"
     ]
    },
    {
     "data": {
      "text/plain": [
       "['a',\n",
       " 'bunch',\n",
       " 'course',\n",
       " 'for',\n",
       " 'is',\n",
       " 'my',\n",
       " 'of',\n",
       " 'Python',\n",
       " 'This',\n",
       " 'WDC',\n",
       " 'with',\n",
       " 'words']"
      ]
     },
     "execution_count": 18,
     "metadata": {},
     "output_type": "execute_result"
    }
   ],
   "source": [
    "sorted(words, key=by_loud_str_lower)"
   ]
  },
  {
   "cell_type": "code",
   "execution_count": 19,
   "id": "05f1d60b",
   "metadata": {},
   "outputs": [
    {
     "data": {
      "text/plain": [
       "'ABCD'"
      ]
     },
     "execution_count": 19,
     "metadata": {},
     "output_type": "execute_result"
    }
   ],
   "source": [
    "s = 'abcd'\n",
    "s.upper()"
   ]
  },
  {
   "cell_type": "code",
   "execution_count": 20,
   "id": "1cb20b77",
   "metadata": {},
   "outputs": [
    {
     "data": {
      "text/plain": [
       "'ABCD'"
      ]
     },
     "execution_count": 20,
     "metadata": {},
     "output_type": "execute_result"
    }
   ],
   "source": [
    "str.upper(s)   # exactly the same"
   ]
  },
  {
   "cell_type": "code",
   "execution_count": 21,
   "id": "c75853c5",
   "metadata": {},
   "outputs": [],
   "source": [
    "mylist = [10, 20, 30]\n",
    "list.append(mylist, 40)"
   ]
  },
  {
   "cell_type": "code",
   "execution_count": 22,
   "id": "987c711f",
   "metadata": {},
   "outputs": [
    {
     "data": {
      "text/plain": [
       "[10, 20, 30, 40]"
      ]
     },
     "execution_count": 22,
     "metadata": {},
     "output_type": "execute_result"
    }
   ],
   "source": [
    "mylist"
   ]
  },
  {
   "cell_type": "markdown",
   "id": "960c37aa",
   "metadata": {},
   "source": [
    "# Exercise: Sorting\n",
    "\n",
    "1. Ask the user to enter a sentence (string). Sort the words by their lengths.\n",
    "2. Ask the user to enter a sentence. Return the words, sorted by the number of vowels (a, e, i, o, u) in each word."
   ]
  },
  {
   "cell_type": "code",
   "execution_count": 26,
   "id": "d50d8954",
   "metadata": {},
   "outputs": [
    {
     "name": "stdout",
     "output_type": "stream",
     "text": [
      "Enter a string: this is another fantastic example for my program\n"
     ]
    }
   ],
   "source": [
    "words = input('Enter a string: ').strip().split()"
   ]
  },
  {
   "cell_type": "code",
   "execution_count": 27,
   "id": "cc896f36",
   "metadata": {},
   "outputs": [
    {
     "data": {
      "text/plain": [
       "['is', 'my', 'for', 'this', 'another', 'example', 'program', 'fantastic']"
      ]
     },
     "execution_count": 27,
     "metadata": {},
     "output_type": "execute_result"
    }
   ],
   "source": [
    "sorted(words, key=len)"
   ]
  },
  {
   "cell_type": "code",
   "execution_count": 28,
   "id": "e4a0c80e",
   "metadata": {},
   "outputs": [
    {
     "data": {
      "text/plain": [
       "['a', '', '', '', 'b', '', '', '', '', 'c', '', '', 'd', '', '', '', 'e']"
      ]
     },
     "execution_count": 28,
     "metadata": {},
     "output_type": "execute_result"
    }
   ],
   "source": [
    "s = 'a    b     c   d    e'\n",
    "\n",
    "s.split(' ')"
   ]
  },
  {
   "cell_type": "code",
   "execution_count": 29,
   "id": "f783370b",
   "metadata": {},
   "outputs": [
    {
     "data": {
      "text/plain": [
       "['a', 'b', 'c', 'd', 'e']"
      ]
     },
     "execution_count": 29,
     "metadata": {},
     "output_type": "execute_result"
    }
   ],
   "source": [
    "s.split()     # all whitespace, any combination, any length"
   ]
  },
  {
   "cell_type": "code",
   "execution_count": 30,
   "id": "0ef1b863",
   "metadata": {},
   "outputs": [
    {
     "data": {
      "text/plain": [
       "['this', 'is', 'another', 'fantastic', 'example', 'for', 'my', 'program']"
      ]
     },
     "execution_count": 30,
     "metadata": {},
     "output_type": "execute_result"
    }
   ],
   "source": [
    "words"
   ]
  },
  {
   "cell_type": "code",
   "execution_count": 31,
   "id": "1abed161",
   "metadata": {},
   "outputs": [
    {
     "name": "stdout",
     "output_type": "stream",
     "text": [
      "Enter a string: this is a terrific and exciting and fantastic and extralong and boring set of words\n"
     ]
    }
   ],
   "source": [
    "words = input('Enter a string: ').strip().split()"
   ]
  },
  {
   "cell_type": "code",
   "execution_count": 32,
   "id": "c46fff2d",
   "metadata": {},
   "outputs": [
    {
     "data": {
      "text/plain": [
       "['this',\n",
       " 'is',\n",
       " 'a',\n",
       " 'terrific',\n",
       " 'and',\n",
       " 'exciting',\n",
       " 'and',\n",
       " 'fantastic',\n",
       " 'and',\n",
       " 'extralong',\n",
       " 'and',\n",
       " 'boring',\n",
       " 'set',\n",
       " 'of',\n",
       " 'words']"
      ]
     },
     "execution_count": 32,
     "metadata": {},
     "output_type": "execute_result"
    }
   ],
   "source": [
    "words"
   ]
  },
  {
   "cell_type": "code",
   "execution_count": 34,
   "id": "29365810",
   "metadata": {},
   "outputs": [],
   "source": [
    "def by_vowel_count(one_word):\n",
    "    total = 0\n",
    "    \n",
    "    for one_character in one_word:\n",
    "        if one_character in 'aeiou':\n",
    "            total += 1\n",
    "            \n",
    "    print(f'For {one_word}, returning {total}')\n",
    "    return total"
   ]
  },
  {
   "cell_type": "code",
   "execution_count": 35,
   "id": "89c2404e",
   "metadata": {},
   "outputs": [
    {
     "name": "stdout",
     "output_type": "stream",
     "text": [
      "For this, returning 1\n",
      "For is, returning 1\n",
      "For a, returning 1\n",
      "For terrific, returning 3\n",
      "For and, returning 1\n",
      "For exciting, returning 3\n",
      "For and, returning 1\n",
      "For fantastic, returning 3\n",
      "For and, returning 1\n",
      "For extralong, returning 3\n",
      "For and, returning 1\n",
      "For boring, returning 2\n",
      "For set, returning 1\n",
      "For of, returning 1\n",
      "For words, returning 1\n"
     ]
    },
    {
     "data": {
      "text/plain": [
       "['this',\n",
       " 'is',\n",
       " 'a',\n",
       " 'and',\n",
       " 'and',\n",
       " 'and',\n",
       " 'and',\n",
       " 'set',\n",
       " 'of',\n",
       " 'words',\n",
       " 'boring',\n",
       " 'terrific',\n",
       " 'exciting',\n",
       " 'fantastic',\n",
       " 'extralong']"
      ]
     },
     "execution_count": 35,
     "metadata": {},
     "output_type": "execute_result"
    }
   ],
   "source": [
    "sorted(words, key=by_vowel_count)"
   ]
  },
  {
   "cell_type": "code",
   "execution_count": 37,
   "id": "d95fa3ad",
   "metadata": {},
   "outputs": [
    {
     "data": {
      "text/plain": [
       "[{'brand': 'Adidas', 'color': 'orange', 'size': '43'},\n",
       " {'brand': 'Nike', 'color': 'black', 'size': '41'},\n",
       " {'brand': 'Adidas', 'color': 'black', 'size': '39'},\n",
       " {'brand': 'New Balance', 'color': 'pink', 'size': '41'},\n",
       " {'brand': 'Nike', 'color': 'white', 'size': '44'},\n",
       " {'brand': 'New Balance', 'color': 'orange', 'size': '38'},\n",
       " {'brand': 'Nike', 'color': 'pink', 'size': '44'},\n",
       " {'brand': 'Adidas', 'color': 'pink', 'size': '44'},\n",
       " {'brand': 'New Balance', 'color': 'orange', 'size': '39'},\n",
       " {'brand': 'New Balance', 'color': 'black', 'size': '43'},\n",
       " {'brand': 'New Balance', 'color': 'orange', 'size': '44'},\n",
       " {'brand': 'Nike', 'color': 'black', 'size': '41'},\n",
       " {'brand': 'Adidas', 'color': 'orange', 'size': '37'},\n",
       " {'brand': 'Adidas', 'color': 'black', 'size': '38'},\n",
       " {'brand': 'Adidas', 'color': 'pink', 'size': '41'},\n",
       " {'brand': 'Adidas', 'color': 'white', 'size': '36'},\n",
       " {'brand': 'Adidas', 'color': 'orange', 'size': '36'},\n",
       " {'brand': 'Nike', 'color': 'pink', 'size': '41'},\n",
       " {'brand': 'Adidas', 'color': 'pink', 'size': '35'},\n",
       " {'brand': 'New Balance', 'color': 'orange', 'size': '37'},\n",
       " {'brand': 'Nike', 'color': 'pink', 'size': '43'},\n",
       " {'brand': 'Nike', 'color': 'black', 'size': '43'},\n",
       " {'brand': 'Nike', 'color': 'black', 'size': '42'},\n",
       " {'brand': 'Nike', 'color': 'black', 'size': '35'},\n",
       " {'brand': 'Adidas', 'color': 'black', 'size': '41'},\n",
       " {'brand': 'New Balance', 'color': 'pink', 'size': '40'},\n",
       " {'brand': 'Adidas', 'color': 'white', 'size': '35'},\n",
       " {'brand': 'New Balance', 'color': 'pink', 'size': '41'},\n",
       " {'brand': 'New Balance', 'color': 'orange', 'size': '41'},\n",
       " {'brand': 'Adidas', 'color': 'orange', 'size': '40'},\n",
       " {'brand': 'New Balance', 'color': 'orange', 'size': '40'},\n",
       " {'brand': 'New Balance', 'color': 'white', 'size': '44'},\n",
       " {'brand': 'New Balance', 'color': 'pink', 'size': '40'},\n",
       " {'brand': 'Nike', 'color': 'black', 'size': '43'},\n",
       " {'brand': 'Nike', 'color': 'pink', 'size': '36'},\n",
       " {'brand': 'New Balance', 'color': 'white', 'size': '39'},\n",
       " {'brand': 'Nike', 'color': 'black', 'size': '42'},\n",
       " {'brand': 'Adidas', 'color': 'black', 'size': '41'},\n",
       " {'brand': 'New Balance', 'color': 'orange', 'size': '40'},\n",
       " {'brand': 'New Balance', 'color': 'black', 'size': '40'},\n",
       " {'brand': 'Nike', 'color': 'white', 'size': '37'},\n",
       " {'brand': 'Adidas', 'color': 'black', 'size': '39'},\n",
       " {'brand': 'Adidas', 'color': 'black', 'size': '40'},\n",
       " {'brand': 'Adidas', 'color': 'orange', 'size': '38'},\n",
       " {'brand': 'New Balance', 'color': 'orange', 'size': '39'},\n",
       " {'brand': 'Nike', 'color': 'black', 'size': '35'},\n",
       " {'brand': 'Adidas', 'color': 'white', 'size': '39'},\n",
       " {'brand': 'Nike', 'color': 'white', 'size': '37'},\n",
       " {'brand': 'Adidas', 'color': 'orange', 'size': '37'},\n",
       " {'brand': 'Adidas', 'color': 'pink', 'size': '35'},\n",
       " {'brand': 'New Balance', 'color': 'orange', 'size': '41'},\n",
       " {'brand': 'Nike', 'color': 'pink', 'size': '44'},\n",
       " {'brand': 'Nike', 'color': 'pink', 'size': '38'},\n",
       " {'brand': 'Adidas', 'color': 'black', 'size': '39'},\n",
       " {'brand': 'New Balance', 'color': 'white', 'size': '35'},\n",
       " {'brand': 'Nike', 'color': 'pink', 'size': '40'},\n",
       " {'brand': 'Nike', 'color': 'white', 'size': '44'},\n",
       " {'brand': 'Nike', 'color': 'orange', 'size': '38'},\n",
       " {'brand': 'Adidas', 'color': 'orange', 'size': '42'},\n",
       " {'brand': 'New Balance', 'color': 'orange', 'size': '43'},\n",
       " {'brand': 'Adidas', 'color': 'pink', 'size': '39'},\n",
       " {'brand': 'Adidas', 'color': 'pink', 'size': '41'},\n",
       " {'brand': 'Adidas', 'color': 'pink', 'size': '39'},\n",
       " {'brand': 'Nike', 'color': 'white', 'size': '37'},\n",
       " {'brand': 'Nike', 'color': 'orange', 'size': '38'},\n",
       " {'brand': 'Adidas', 'color': 'orange', 'size': '39'},\n",
       " {'brand': 'Nike', 'color': 'pink', 'size': '40'},\n",
       " {'brand': 'Adidas', 'color': 'white', 'size': '36'},\n",
       " {'brand': 'Nike', 'color': 'orange', 'size': '40'},\n",
       " {'brand': 'New Balance', 'color': 'pink', 'size': '40'},\n",
       " {'brand': 'New Balance', 'color': 'black', 'size': '40'},\n",
       " {'brand': 'New Balance', 'color': 'pink', 'size': '40'},\n",
       " {'brand': 'Adidas', 'color': 'pink', 'size': '41'},\n",
       " {'brand': 'Nike', 'color': 'pink', 'size': '40'},\n",
       " {'brand': 'Nike', 'color': 'black', 'size': '41'},\n",
       " {'brand': 'Nike', 'color': 'black', 'size': '39'},\n",
       " {'brand': 'New Balance', 'color': 'white', 'size': '38'},\n",
       " {'brand': 'Adidas', 'color': 'black', 'size': '41'},\n",
       " {'brand': 'Nike', 'color': 'orange', 'size': '36'},\n",
       " {'brand': 'Nike', 'color': 'black', 'size': '38'},\n",
       " {'brand': 'New Balance', 'color': 'black', 'size': '40'},\n",
       " {'brand': 'New Balance', 'color': 'pink', 'size': '40'},\n",
       " {'brand': 'Adidas', 'color': 'black', 'size': '42'},\n",
       " {'brand': 'Adidas', 'color': 'white', 'size': '40'},\n",
       " {'brand': 'New Balance', 'color': 'orange', 'size': '38'},\n",
       " {'brand': 'Nike', 'color': 'pink', 'size': '41'},\n",
       " {'brand': 'Adidas', 'color': 'orange', 'size': '37'},\n",
       " {'brand': 'Nike', 'color': 'black', 'size': '44'},\n",
       " {'brand': 'Adidas', 'color': 'pink', 'size': '36'},\n",
       " {'brand': 'Adidas', 'color': 'white', 'size': '35'},\n",
       " {'brand': 'Nike', 'color': 'black', 'size': '38'},\n",
       " {'brand': 'Nike', 'color': 'pink', 'size': '42'},\n",
       " {'brand': 'New Balance', 'color': 'black', 'size': '43'},\n",
       " {'brand': 'Nike', 'color': 'white', 'size': '38'},\n",
       " {'brand': 'New Balance', 'color': 'pink', 'size': '39'},\n",
       " {'brand': 'Nike', 'color': 'orange', 'size': '39'},\n",
       " {'brand': 'New Balance', 'color': 'orange', 'size': '40'},\n",
       " {'brand': 'New Balance', 'color': 'white', 'size': '44'},\n",
       " {'brand': 'Adidas', 'color': 'black', 'size': '42'},\n",
       " {'brand': 'Nike', 'color': 'black', 'size': '35'}]"
      ]
     },
     "execution_count": 37,
     "metadata": {},
     "output_type": "execute_result"
    }
   ],
   "source": [
    "def line_to_dict(one_line):\n",
    "    brand, color, size = one_line.strip().split('\\t')\n",
    "    \n",
    "    return {'brand': brand,\n",
    "           'color': color,\n",
    "           'size': size}\n",
    "\n",
    "shoes = [line_to_dict(one_line)\n",
    " for one_line in open('shoe-data.txt')]\n",
    "\n",
    "shoes"
   ]
  },
  {
   "cell_type": "markdown",
   "id": "f65732a3",
   "metadata": {},
   "source": [
    "# Exercise: Sorting shoes\n",
    "\n",
    "1. Sort the shoes by brand.\n",
    "2. Sort the shoes first by brand, and then (within each brand) by size.\n"
   ]
  },
  {
   "cell_type": "code",
   "execution_count": null,
   "id": "89443eb2",
   "metadata": {},
   "outputs": [],
   "source": []
  }
 ],
 "metadata": {
  "kernelspec": {
   "display_name": "Python 3 (ipykernel)",
   "language": "python",
   "name": "python3"
  },
  "language_info": {
   "codemirror_mode": {
    "name": "ipython",
    "version": 3
   },
   "file_extension": ".py",
   "mimetype": "text/x-python",
   "name": "python",
   "nbconvert_exporter": "python",
   "pygments_lexer": "ipython3",
   "version": "3.10.5"
  }
 },
 "nbformat": 4,
 "nbformat_minor": 5
}

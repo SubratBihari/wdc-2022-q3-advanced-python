{
 "cells": [
  {
   "cell_type": "markdown",
   "id": "2cf58033",
   "metadata": {},
   "source": [
    "# Agenda\n",
    "\n",
    "1. Parameters\n",
    "    - `**kwargs`\n",
    "    - Positional-only\n",
    "2. Scoping (LEGB)\n",
    "3. Inner functions and `nonlocal` and closures\n",
    "4. Type annotations"
   ]
  },
  {
   "cell_type": "markdown",
   "id": "fa4a64ad",
   "metadata": {},
   "source": [
    "# Parameters\n",
    "\n",
    "1. Mandatory parameters (can accept positional or keyword arguments)\n",
    "2. Optional parameters (can accept positional or keyword arguments), with default values in `__defaults__`\n",
    "3. `*args`\n",
    "4. Mandatory keyword-only parameters\n",
    "5. Optional keyword-only parameters"
   ]
  },
  {
   "cell_type": "code",
   "execution_count": 1,
   "id": "93c16307",
   "metadata": {},
   "outputs": [],
   "source": [
    "def myfunc(x, *args):\n",
    "    return f'{x=}, {args=}'"
   ]
  },
  {
   "cell_type": "code",
   "execution_count": 2,
   "id": "01c6c7aa",
   "metadata": {},
   "outputs": [
    {
     "data": {
      "text/plain": [
       "'x=10, args=(20, 30, 40, 50)'"
      ]
     },
     "execution_count": 2,
     "metadata": {},
     "output_type": "execute_result"
    }
   ],
   "source": [
    "myfunc(10, 20, 30, 40, 50)"
   ]
  },
  {
   "cell_type": "code",
   "execution_count": 3,
   "id": "e248b1b3",
   "metadata": {},
   "outputs": [
    {
     "ename": "TypeError",
     "evalue": "myfunc() got an unexpected keyword argument 'y'",
     "output_type": "error",
     "traceback": [
      "\u001b[0;31m---------------------------------------------------------------------------\u001b[0m",
      "\u001b[0;31mTypeError\u001b[0m                                 Traceback (most recent call last)",
      "\u001b[0;32m/var/folders/rr/0mnyyv811fs5vyp22gf4fxk00000gn/T/ipykernel_12804/3245467168.py\u001b[0m in \u001b[0;36m<module>\u001b[0;34m\u001b[0m\n\u001b[0;32m----> 1\u001b[0;31m \u001b[0mmyfunc\u001b[0m\u001b[0;34m(\u001b[0m\u001b[0mx\u001b[0m\u001b[0;34m=\u001b[0m\u001b[0;36m10\u001b[0m\u001b[0;34m,\u001b[0m \u001b[0my\u001b[0m\u001b[0;34m=\u001b[0m\u001b[0;36m20\u001b[0m\u001b[0;34m,\u001b[0m \u001b[0mz\u001b[0m\u001b[0;34m=\u001b[0m\u001b[0;36m30\u001b[0m\u001b[0;34m)\u001b[0m\u001b[0;34m\u001b[0m\u001b[0;34m\u001b[0m\u001b[0m\n\u001b[0m",
      "\u001b[0;31mTypeError\u001b[0m: myfunc() got an unexpected keyword argument 'y'"
     ]
    }
   ],
   "source": [
    "# parameters: x   args\n",
    "# arguments: 10\n",
    "\n",
    "myfunc(x=10, y=20, z=30)"
   ]
  },
  {
   "cell_type": "code",
   "execution_count": 7,
   "id": "17fc872d",
   "metadata": {},
   "outputs": [],
   "source": [
    "def myfunc(x, **kwargs):  # ** == all keyword arguments go into this dict;  kwargs == keyword arguments\n",
    "    return f'{x=}, {kwargs=}'"
   ]
  },
  {
   "cell_type": "code",
   "execution_count": 8,
   "id": "e7c99e13",
   "metadata": {},
   "outputs": [
    {
     "data": {
      "text/plain": [
       "'x=10, kwargs={}'"
      ]
     },
     "execution_count": 8,
     "metadata": {},
     "output_type": "execute_result"
    }
   ],
   "source": [
    "myfunc(10)"
   ]
  },
  {
   "cell_type": "code",
   "execution_count": 9,
   "id": "4a687b1d",
   "metadata": {},
   "outputs": [
    {
     "ename": "TypeError",
     "evalue": "myfunc() takes 1 positional argument but 3 were given",
     "output_type": "error",
     "traceback": [
      "\u001b[0;31m---------------------------------------------------------------------------\u001b[0m",
      "\u001b[0;31mTypeError\u001b[0m                                 Traceback (most recent call last)",
      "\u001b[0;32m/var/folders/rr/0mnyyv811fs5vyp22gf4fxk00000gn/T/ipykernel_12804/885864022.py\u001b[0m in \u001b[0;36m<module>\u001b[0;34m\u001b[0m\n\u001b[0;32m----> 1\u001b[0;31m \u001b[0mmyfunc\u001b[0m\u001b[0;34m(\u001b[0m\u001b[0;36m10\u001b[0m\u001b[0;34m,\u001b[0m \u001b[0;36m20\u001b[0m\u001b[0;34m,\u001b[0m \u001b[0;36m30\u001b[0m\u001b[0;34m)\u001b[0m\u001b[0;34m\u001b[0m\u001b[0;34m\u001b[0m\u001b[0m\n\u001b[0m",
      "\u001b[0;31mTypeError\u001b[0m: myfunc() takes 1 positional argument but 3 were given"
     ]
    }
   ],
   "source": [
    "myfunc(10, 20, 30)"
   ]
  },
  {
   "cell_type": "code",
   "execution_count": 10,
   "id": "0802e749",
   "metadata": {},
   "outputs": [
    {
     "data": {
      "text/plain": [
       "\"x=10, kwargs={'y': 20, 'z': 30}\""
      ]
     },
     "execution_count": 10,
     "metadata": {},
     "output_type": "execute_result"
    }
   ],
   "source": [
    "myfunc(10, y=20, z=30)"
   ]
  },
  {
   "cell_type": "code",
   "execution_count": 11,
   "id": "53b185cd",
   "metadata": {},
   "outputs": [
    {
     "data": {
      "text/plain": [
       "\"x=10, kwargs={'k': 100, 'l': 200, 'm': 300}\""
      ]
     },
     "execution_count": 11,
     "metadata": {},
     "output_type": "execute_result"
    }
   ],
   "source": [
    "myfunc(10, k=100, l=200, m=300)"
   ]
  },
  {
   "cell_type": "code",
   "execution_count": 12,
   "id": "00379162",
   "metadata": {},
   "outputs": [],
   "source": [
    "def add_one(x=[]):\n",
    "    x.append(1)\n",
    "    return x"
   ]
  },
  {
   "cell_type": "code",
   "execution_count": 13,
   "id": "336789c8",
   "metadata": {},
   "outputs": [
    {
     "data": {
      "text/plain": [
       "([],)"
      ]
     },
     "execution_count": 13,
     "metadata": {},
     "output_type": "execute_result"
    }
   ],
   "source": [
    "add_one.__defaults__"
   ]
  },
  {
   "cell_type": "code",
   "execution_count": 14,
   "id": "a625e00c",
   "metadata": {},
   "outputs": [
    {
     "data": {
      "text/plain": [
       "[1, 2, 3, 1]"
      ]
     },
     "execution_count": 14,
     "metadata": {},
     "output_type": "execute_result"
    }
   ],
   "source": [
    "# parameters: x\n",
    "# argument: [1,2,3]\n",
    "\n",
    "add_one([1,2,3])"
   ]
  },
  {
   "cell_type": "code",
   "execution_count": null,
   "id": "4d43db78",
   "metadata": {},
   "outputs": [],
   "source": [
    "# parameters: x\n",
    "# arguments: __defaults__[0]\n",
    "\n",
    "add_one()"
   ]
  }
 ],
 "metadata": {
  "kernelspec": {
   "display_name": "Python 3 (ipykernel)",
   "language": "python",
   "name": "python3"
  },
  "language_info": {
   "codemirror_mode": {
    "name": "ipython",
    "version": 3
   },
   "file_extension": ".py",
   "mimetype": "text/x-python",
   "name": "python",
   "nbconvert_exporter": "python",
   "pygments_lexer": "ipython3",
   "version": "3.10.5"
  }
 },
 "nbformat": 4,
 "nbformat_minor": 5
}

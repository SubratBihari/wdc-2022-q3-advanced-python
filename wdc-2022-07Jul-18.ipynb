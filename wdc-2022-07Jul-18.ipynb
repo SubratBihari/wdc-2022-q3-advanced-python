{
 "cells": [
  {
   "cell_type": "markdown",
   "id": "2cf58033",
   "metadata": {},
   "source": [
    "# Agenda\n",
    "\n",
    "1. Parameters\n",
    "    - `**kwargs`\n",
    "    - Positional-only\n",
    "2. Scoping (LEGB)\n",
    "3. Inner functions and `nonlocal` and closures\n",
    "4. Type annotations"
   ]
  },
  {
   "cell_type": "markdown",
   "id": "fa4a64ad",
   "metadata": {},
   "source": [
    "# Parameters\n",
    "\n",
    "1. Mandatory parameters (can accept positional or keyword arguments)\n",
    "2. Optional parameters (can accept positional or keyword arguments), with default values in `__defaults__`\n",
    "3. `*args`\n",
    "4. Mandatory keyword-only parameters\n",
    "5. Optional keyword-only parameters"
   ]
  },
  {
   "cell_type": "code",
   "execution_count": 1,
   "id": "ede5ecd9",
   "metadata": {},
   "outputs": [],
   "source": [
    "def myfunc(x, *args):\n",
    "    return f'{x=}, {args=}'"
   ]
  },
  {
   "cell_type": "code",
   "execution_count": 2,
   "id": "6e8ec522",
   "metadata": {},
   "outputs": [
    {
     "data": {
      "text/plain": [
       "'x=10, args=(20, 30, 40, 50)'"
      ]
     },
     "execution_count": 2,
     "metadata": {},
     "output_type": "execute_result"
    }
   ],
   "source": [
    "myfunc(10, 20, 30, 40, 50)"
   ]
  },
  {
   "cell_type": "code",
   "execution_count": 3,
   "id": "ea48c648",
   "metadata": {},
   "outputs": [
    {
     "ename": "TypeError",
     "evalue": "myfunc() got an unexpected keyword argument 'y'",
     "output_type": "error",
     "traceback": [
      "\u001b[0;31m---------------------------------------------------------------------------\u001b[0m",
      "\u001b[0;31mTypeError\u001b[0m                                 Traceback (most recent call last)",
      "\u001b[0;32m/var/folders/rr/0mnyyv811fs5vyp22gf4fxk00000gn/T/ipykernel_12804/3245467168.py\u001b[0m in \u001b[0;36m<module>\u001b[0;34m\u001b[0m\n\u001b[0;32m----> 1\u001b[0;31m \u001b[0mmyfunc\u001b[0m\u001b[0;34m(\u001b[0m\u001b[0mx\u001b[0m\u001b[0;34m=\u001b[0m\u001b[0;36m10\u001b[0m\u001b[0;34m,\u001b[0m \u001b[0my\u001b[0m\u001b[0;34m=\u001b[0m\u001b[0;36m20\u001b[0m\u001b[0;34m,\u001b[0m \u001b[0mz\u001b[0m\u001b[0;34m=\u001b[0m\u001b[0;36m30\u001b[0m\u001b[0;34m)\u001b[0m\u001b[0;34m\u001b[0m\u001b[0;34m\u001b[0m\u001b[0m\n\u001b[0m",
      "\u001b[0;31mTypeError\u001b[0m: myfunc() got an unexpected keyword argument 'y'"
     ]
    }
   ],
   "source": [
    "# parameters: x   args\n",
    "# arguments: 10\n",
    "\n",
    "myfunc(x=10, y=20, z=30)"
   ]
  },
  {
   "cell_type": "code",
   "execution_count": 7,
   "id": "bba39848",
   "metadata": {},
   "outputs": [],
   "source": [
    "def myfunc(x, **kwargs):  # ** == all keyword arguments go into this dict;  kwargs == keyword arguments\n",
    "    return f'{x=}, {kwargs=}'"
   ]
  },
  {
   "cell_type": "code",
   "execution_count": 8,
   "id": "5e2b5979",
   "metadata": {},
   "outputs": [
    {
     "data": {
      "text/plain": [
       "'x=10, kwargs={}'"
      ]
     },
     "execution_count": 8,
     "metadata": {},
     "output_type": "execute_result"
    }
   ],
   "source": [
    "myfunc(10)"
   ]
  },
  {
   "cell_type": "code",
   "execution_count": 9,
   "id": "e4f06f89",
   "metadata": {},
   "outputs": [
    {
     "ename": "TypeError",
     "evalue": "myfunc() takes 1 positional argument but 3 were given",
     "output_type": "error",
     "traceback": [
      "\u001b[0;31m---------------------------------------------------------------------------\u001b[0m",
      "\u001b[0;31mTypeError\u001b[0m                                 Traceback (most recent call last)",
      "\u001b[0;32m/var/folders/rr/0mnyyv811fs5vyp22gf4fxk00000gn/T/ipykernel_12804/885864022.py\u001b[0m in \u001b[0;36m<module>\u001b[0;34m\u001b[0m\n\u001b[0;32m----> 1\u001b[0;31m \u001b[0mmyfunc\u001b[0m\u001b[0;34m(\u001b[0m\u001b[0;36m10\u001b[0m\u001b[0;34m,\u001b[0m \u001b[0;36m20\u001b[0m\u001b[0;34m,\u001b[0m \u001b[0;36m30\u001b[0m\u001b[0;34m)\u001b[0m\u001b[0;34m\u001b[0m\u001b[0;34m\u001b[0m\u001b[0m\n\u001b[0m",
      "\u001b[0;31mTypeError\u001b[0m: myfunc() takes 1 positional argument but 3 were given"
     ]
    }
   ],
   "source": [
    "myfunc(10, 20, 30)"
   ]
  },
  {
   "cell_type": "code",
   "execution_count": 10,
   "id": "ac507be0",
   "metadata": {},
   "outputs": [
    {
     "data": {
      "text/plain": [
       "\"x=10, kwargs={'y': 20, 'z': 30}\""
      ]
     },
     "execution_count": 10,
     "metadata": {},
     "output_type": "execute_result"
    }
   ],
   "source": [
    "myfunc(10, y=20, z=30)"
   ]
  },
  {
   "cell_type": "code",
   "execution_count": 11,
   "id": "1ae732f4",
   "metadata": {},
   "outputs": [
    {
     "data": {
      "text/plain": [
       "\"x=10, kwargs={'k': 100, 'l': 200, 'm': 300}\""
      ]
     },
     "execution_count": 11,
     "metadata": {},
     "output_type": "execute_result"
    }
   ],
   "source": [
    "myfunc(10, k=100, l=200, m=300)"
   ]
  },
  {
   "cell_type": "code",
   "execution_count": 12,
   "id": "79b2a861",
   "metadata": {},
   "outputs": [],
   "source": [
    "def add_one(x=[]):\n",
    "    x.append(1)\n",
    "    return x"
   ]
  },
  {
   "cell_type": "code",
   "execution_count": 13,
   "id": "c8ec31d1",
   "metadata": {},
   "outputs": [
    {
     "data": {
      "text/plain": [
       "([],)"
      ]
     },
     "execution_count": 13,
     "metadata": {},
     "output_type": "execute_result"
    }
   ],
   "source": [
    "add_one.__defaults__"
   ]
  },
  {
   "cell_type": "code",
   "execution_count": 15,
   "id": "9495637f",
   "metadata": {},
   "outputs": [
    {
     "data": {
      "text/plain": [
       "[1, 2, 3, 1]"
      ]
     },
     "execution_count": 15,
     "metadata": {},
     "output_type": "execute_result"
    }
   ],
   "source": [
    "# parameters: x\n",
    "# argument: [1,2,3]\n",
    "\n",
    "y = [1,2,3]\n",
    "add_one(y)"
   ]
  },
  {
   "cell_type": "code",
   "execution_count": 16,
   "id": "be1a6d9c",
   "metadata": {},
   "outputs": [
    {
     "data": {
      "text/plain": [
       "[1, 2, 3, 1]"
      ]
     },
     "execution_count": 16,
     "metadata": {},
     "output_type": "execute_result"
    }
   ],
   "source": [
    "y"
   ]
  },
  {
   "cell_type": "code",
   "execution_count": null,
   "id": "c3ad9a44",
   "metadata": {},
   "outputs": [],
   "source": [
    "# parameters: x\n",
    "# arguments: __defaults__[0]\n",
    "\n",
    "add_one()"
   ]
  },
  {
   "cell_type": "code",
   "execution_count": 17,
   "id": "0e5405b3",
   "metadata": {},
   "outputs": [],
   "source": [
    "def add_one(x=[2,4,6]):\n",
    "    x.append(1)\n",
    "    return x"
   ]
  },
  {
   "cell_type": "code",
   "execution_count": 18,
   "id": "09cfd221",
   "metadata": {},
   "outputs": [
    {
     "data": {
      "text/plain": [
       "[2, 4, 6, 1]"
      ]
     },
     "execution_count": 18,
     "metadata": {},
     "output_type": "execute_result"
    }
   ],
   "source": [
    "add_one()"
   ]
  },
  {
   "cell_type": "code",
   "execution_count": 19,
   "id": "0334fe43",
   "metadata": {},
   "outputs": [
    {
     "data": {
      "text/plain": [
       "[2, 4, 6, 1, 1]"
      ]
     },
     "execution_count": 19,
     "metadata": {},
     "output_type": "execute_result"
    }
   ],
   "source": [
    "add_one()"
   ]
  },
  {
   "cell_type": "code",
   "execution_count": 20,
   "id": "d96f8d43",
   "metadata": {},
   "outputs": [],
   "source": [
    "def write_config(filename, **kwargs):\n",
    "    with open(filename, 'w') as outfile:\n",
    "        for key, value in kwargs.items():\n",
    "            outfile.write(f'{key}:{value}\\n')"
   ]
  },
  {
   "cell_type": "code",
   "execution_count": 21,
   "id": "cad768ec",
   "metadata": {},
   "outputs": [
    {
     "name": "stdout",
     "output_type": "stream",
     "text": [
      "linux-etc-passwd.txt  mini-access-log.txt  nums.txt  output.txt  shoe-data.txt\r\n"
     ]
    }
   ],
   "source": [
    "!ls *.txt"
   ]
  },
  {
   "cell_type": "code",
   "execution_count": 22,
   "id": "f019039c",
   "metadata": {},
   "outputs": [],
   "source": [
    "#                          keyword arguments -- dict\n",
    "write_config('myconf.txt', a=100, b=200, c=[10, 20, 30], d='whatever')"
   ]
  },
  {
   "cell_type": "code",
   "execution_count": 23,
   "id": "d1fe1589",
   "metadata": {},
   "outputs": [
    {
     "name": "stdout",
     "output_type": "stream",
     "text": [
      "a:100\r\n",
      "b:200\r\n",
      "c:[10, 20, 30]\r\n",
      "d:whatever\r\n"
     ]
    }
   ],
   "source": [
    "!cat myconf.txt"
   ]
  },
  {
   "cell_type": "code",
   "execution_count": 24,
   "id": "32574dd4",
   "metadata": {},
   "outputs": [],
   "source": [
    "def write_config(filename, sep=':', **kwargs):\n",
    "    with open(filename, 'w') as outfile:\n",
    "        for key, value in kwargs.items():\n",
    "            outfile.write(f'{key}{sep}{value}\\n')"
   ]
  },
  {
   "cell_type": "code",
   "execution_count": 25,
   "id": "697e979f",
   "metadata": {},
   "outputs": [],
   "source": [
    "# here, we use the default value of sep=':'\n",
    "write_config('myconf.txt', a=100, b=200, c=[10, 20, 30], d='whatever')"
   ]
  },
  {
   "cell_type": "code",
   "execution_count": 26,
   "id": "746fbc30",
   "metadata": {},
   "outputs": [
    {
     "name": "stdout",
     "output_type": "stream",
     "text": [
      "a:100\r\n",
      "b:200\r\n",
      "c:[10, 20, 30]\r\n",
      "d:whatever\r\n"
     ]
    }
   ],
   "source": [
    "!cat myconf.txt"
   ]
  },
  {
   "cell_type": "code",
   "execution_count": 27,
   "id": "674d1a02",
   "metadata": {},
   "outputs": [],
   "source": [
    "# here, I pass sep='==', and we see == between keys and values\n",
    "write_config('myconf.txt', sep='==', a=100, b=200, c=[10, 20, 30], d='whatever')"
   ]
  },
  {
   "cell_type": "code",
   "execution_count": 28,
   "id": "d87acb57",
   "metadata": {},
   "outputs": [
    {
     "name": "stdout",
     "output_type": "stream",
     "text": [
      "a==100\r\n",
      "b==200\r\n",
      "c==[10, 20, 30]\r\n",
      "d==whatever\r\n"
     ]
    }
   ],
   "source": [
    "!cat myconf.txt"
   ]
  },
  {
   "cell_type": "code",
   "execution_count": 29,
   "id": "0ac8dea2",
   "metadata": {},
   "outputs": [],
   "source": [
    "# but sep isn't a keyword-only parameter -- it's a regular parameter with a default\n",
    "# so we don't need to provide it with a keyword argument\n",
    "write_config('myconf.txt', '==', a=100, b=200, c=[10, 20, 30], d='whatever')"
   ]
  },
  {
   "cell_type": "code",
   "execution_count": 30,
   "id": "84359d8e",
   "metadata": {},
   "outputs": [
    {
     "name": "stdout",
     "output_type": "stream",
     "text": [
      "a==100\r\n",
      "b==200\r\n",
      "c==[10, 20, 30]\r\n",
      "d==whatever\r\n"
     ]
    }
   ],
   "source": [
    "!cat myconf.txt"
   ]
  },
  {
   "cell_type": "code",
   "execution_count": 31,
   "id": "e67fdec7",
   "metadata": {},
   "outputs": [
    {
     "ename": "TypeError",
     "evalue": "write_config() got multiple values for argument 'sep'",
     "output_type": "error",
     "traceback": [
      "\u001b[0;31m---------------------------------------------------------------------------\u001b[0m",
      "\u001b[0;31mTypeError\u001b[0m                                 Traceback (most recent call last)",
      "\u001b[0;32m/var/folders/rr/0mnyyv811fs5vyp22gf4fxk00000gn/T/ipykernel_12804/2551367819.py\u001b[0m in \u001b[0;36m<module>\u001b[0;34m\u001b[0m\n\u001b[0;32m----> 1\u001b[0;31m \u001b[0mwrite_config\u001b[0m\u001b[0;34m(\u001b[0m\u001b[0;34m'myconf.txt'\u001b[0m\u001b[0;34m,\u001b[0m \u001b[0;34m'=='\u001b[0m\u001b[0;34m,\u001b[0m \u001b[0ma\u001b[0m\u001b[0;34m=\u001b[0m\u001b[0;36m100\u001b[0m\u001b[0;34m,\u001b[0m \u001b[0mb\u001b[0m\u001b[0;34m=\u001b[0m\u001b[0;36m200\u001b[0m\u001b[0;34m,\u001b[0m \u001b[0mc\u001b[0m\u001b[0;34m=\u001b[0m\u001b[0;34m[\u001b[0m\u001b[0;36m10\u001b[0m\u001b[0;34m,\u001b[0m \u001b[0;36m20\u001b[0m\u001b[0;34m,\u001b[0m \u001b[0;36m30\u001b[0m\u001b[0;34m]\u001b[0m\u001b[0;34m,\u001b[0m \u001b[0md\u001b[0m\u001b[0;34m=\u001b[0m\u001b[0;34m'whatever'\u001b[0m\u001b[0;34m,\u001b[0m \u001b[0msep\u001b[0m\u001b[0;34m=\u001b[0m\u001b[0;34m'**'\u001b[0m\u001b[0;34m)\u001b[0m\u001b[0;34m\u001b[0m\u001b[0;34m\u001b[0m\u001b[0m\n\u001b[0m",
      "\u001b[0;31mTypeError\u001b[0m: write_config() got multiple values for argument 'sep'"
     ]
    }
   ],
   "source": [
    "# we cannot pass sep twice, once positional and once keyword\n",
    "write_config('myconf.txt', '==', a=100, b=200, c=[10, 20, 30], d='whatever', sep='**')"
   ]
  },
  {
   "cell_type": "code",
   "execution_count": 32,
   "id": "a598b534",
   "metadata": {},
   "outputs": [],
   "source": [
    "# * by itself means: after here, all parameters are keyword only\n",
    "\n",
    "def write_config(filename, *, sep=':', **kwargs):\n",
    "    with open(filename, 'w') as outfile:\n",
    "        for key, value in kwargs.items():\n",
    "            outfile.write(f'{key}{sep}{value}\\n')"
   ]
  },
  {
   "cell_type": "code",
   "execution_count": 34,
   "id": "f021e911",
   "metadata": {},
   "outputs": [],
   "source": [
    "# sep is now keyword only\n",
    "write_config('myconf.txt', sep='==', a=100, b=200)"
   ]
  },
  {
   "cell_type": "code",
   "execution_count": 35,
   "id": "acb126f0",
   "metadata": {},
   "outputs": [
    {
     "ename": "TypeError",
     "evalue": "write_config() takes 1 positional argument but 5 positional arguments (and 1 keyword-only argument) were given",
     "output_type": "error",
     "traceback": [
      "\u001b[0;31m---------------------------------------------------------------------------\u001b[0m",
      "\u001b[0;31mTypeError\u001b[0m                                 Traceback (most recent call last)",
      "\u001b[0;32m/var/folders/rr/0mnyyv811fs5vyp22gf4fxk00000gn/T/ipykernel_12804/2456528214.py\u001b[0m in \u001b[0;36m<module>\u001b[0;34m\u001b[0m\n\u001b[0;32m----> 1\u001b[0;31m \u001b[0mwrite_config\u001b[0m\u001b[0;34m(\u001b[0m\u001b[0;34m'myconf.txt'\u001b[0m\u001b[0;34m,\u001b[0m \u001b[0;36m1\u001b[0m\u001b[0;34m,\u001b[0m\u001b[0;36m2\u001b[0m\u001b[0;34m,\u001b[0m\u001b[0;36m3\u001b[0m\u001b[0;34m,\u001b[0m\u001b[0;36m4\u001b[0m\u001b[0;34m,\u001b[0m \u001b[0msep\u001b[0m\u001b[0;34m=\u001b[0m\u001b[0;34m'=='\u001b[0m\u001b[0;34m,\u001b[0m \u001b[0ma\u001b[0m\u001b[0;34m=\u001b[0m\u001b[0;36m100\u001b[0m\u001b[0;34m)\u001b[0m\u001b[0;34m\u001b[0m\u001b[0;34m\u001b[0m\u001b[0m\n\u001b[0m",
      "\u001b[0;31mTypeError\u001b[0m: write_config() takes 1 positional argument but 5 positional arguments (and 1 keyword-only argument) were given"
     ]
    }
   ],
   "source": [
    "write_config('myconf.txt', 1,2,3,4, sep='==', a=100)"
   ]
  },
  {
   "cell_type": "code",
   "execution_count": null,
   "id": "4e6e4fef",
   "metadata": {},
   "outputs": [],
   "source": []
  },
  {
   "cell_type": "markdown",
   "id": "51c493ae",
   "metadata": {},
   "source": [
    "# Parameters\n",
    "\n",
    "1. Mandatory parameters (can accept positional or keyword arguments)\n",
    "2. Optional parameters (can accept positional or keyword arguments), with default values in `__defaults__`\n",
    "3. `*args` (tuple with remaining positional arguments -- or `*` if there is no `*args`)\n",
    "4. Mandatory keyword-only parameters\n",
    "5. Optional keyword-only parameters (with a default argument value)\n",
    "6. `**kwargs` (dict with remaining keyword arguments)"
   ]
  },
  {
   "cell_type": "code",
   "execution_count": 36,
   "id": "ad4652b5",
   "metadata": {},
   "outputs": [],
   "source": [
    "def myfunc(a, *, b):\n",
    "    return f'{a=}, {b=}'"
   ]
  },
  {
   "cell_type": "code",
   "execution_count": 39,
   "id": "29187814",
   "metadata": {},
   "outputs": [
    {
     "data": {
      "text/plain": [
       "'a=10, b=20'"
      ]
     },
     "execution_count": 39,
     "metadata": {},
     "output_type": "execute_result"
    }
   ],
   "source": [
    "myfunc(10, b=20)   # b is mandatory keyword-only"
   ]
  },
  {
   "cell_type": "code",
   "execution_count": 42,
   "id": "12674c52",
   "metadata": {},
   "outputs": [],
   "source": [
    "def myfunc(a, *, b=999):    # Optional keyword-only parameter (with default argument)\n",
    "    return f'{a=}, {b=}'"
   ]
  },
  {
   "cell_type": "code",
   "execution_count": 43,
   "id": "614e7ce2",
   "metadata": {},
   "outputs": [
    {
     "data": {
      "text/plain": [
       "'a=10, b=999'"
      ]
     },
     "execution_count": 43,
     "metadata": {},
     "output_type": "execute_result"
    }
   ],
   "source": [
    "myfunc(10)"
   ]
  },
  {
   "cell_type": "markdown",
   "id": "cf6c25a5",
   "metadata": {},
   "source": [
    "# Exercise: XML\n",
    "\n",
    "1. Write a function, `xml`, that returns a string with XML in it:\n",
    "    - First argument (mandatory) is a string, the tag we want to create\n",
    "    - Second argument (optional) is a string, the content in the tag\n",
    "    - Additional keyword arguments will be used as attributes in the opening tag\n",
    "2. The function needs return a string    "
   ]
  },
  {
   "cell_type": "code",
   "execution_count": 45,
   "id": "e8b1020a",
   "metadata": {},
   "outputs": [
    {
     "ename": "NameError",
     "evalue": "name 'xml' is not defined",
     "output_type": "error",
     "traceback": [
      "\u001b[0;31m---------------------------------------------------------------------------\u001b[0m",
      "\u001b[0;31mNameError\u001b[0m                                 Traceback (most recent call last)",
      "\u001b[0;32m/var/folders/rr/0mnyyv811fs5vyp22gf4fxk00000gn/T/ipykernel_12804/3886501628.py\u001b[0m in \u001b[0;36m<module>\u001b[0;34m\u001b[0m\n\u001b[0;32m----> 1\u001b[0;31m \u001b[0mxml\u001b[0m\u001b[0;34m(\u001b[0m\u001b[0;34m'tagname'\u001b[0m\u001b[0;34m)\u001b[0m   \u001b[0;31m#  '<tagname></tagname>'\u001b[0m\u001b[0;34m\u001b[0m\u001b[0;34m\u001b[0m\u001b[0m\n\u001b[0m\u001b[1;32m      2\u001b[0m \u001b[0mxml\u001b[0m\u001b[0;34m(\u001b[0m\u001b[0;34m'tag'\u001b[0m\u001b[0;34m,\u001b[0m \u001b[0;34m'a'\u001b[0m\u001b[0;34m)\u001b[0m  \u001b[0;31m#  '<tag>a</tag>'\u001b[0m\u001b[0;34m\u001b[0m\u001b[0;34m\u001b[0m\u001b[0m\n\u001b[1;32m      3\u001b[0m \u001b[0mxml\u001b[0m\u001b[0;34m(\u001b[0m\u001b[0;34m'tag'\u001b[0m\u001b[0;34m,\u001b[0m \u001b[0;34m'a'\u001b[0m\u001b[0;34m,\u001b[0m \u001b[0mw\u001b[0m\u001b[0;34m=\u001b[0m\u001b[0;34m'x'\u001b[0m\u001b[0;34m,\u001b[0m \u001b[0my\u001b[0m\u001b[0;34m=\u001b[0m\u001b[0;34m'z'\u001b[0m\u001b[0;34m)\u001b[0m   \u001b[0;31m# '<tag w=\"x\" y=\"z\">a</tag>'\u001b[0m\u001b[0;34m\u001b[0m\u001b[0;34m\u001b[0m\u001b[0m\n",
      "\u001b[0;31mNameError\u001b[0m: name 'xml' is not defined"
     ]
    }
   ],
   "source": [
    "xml('tagname')   #  '<tagname></tagname>'\n",
    "xml('tag', 'a')  #  '<tag>a</tag>'\n",
    "xml('tag', 'a', w='x', y='z')   # '<tag w=\"x\" y=\"z\">a</tag>'"
   ]
  },
  {
   "cell_type": "code",
   "execution_count": 51,
   "id": "730b9507",
   "metadata": {},
   "outputs": [
    {
     "name": "stdout",
     "output_type": "stream",
     "text": [
      "<tag></tag>\n",
      "<tag>a</tag>\n",
      "<tag w=\"x\" y=\"z\">a</tag>\n"
     ]
    }
   ],
   "source": [
    "def xml(tagname, text='', **kwargs):\n",
    "    attributes = ''\n",
    "    for key, value in kwargs.items():\n",
    "        attributes += f' {key}=\"{value}\"'\n",
    "\n",
    "    return f'<{tagname}{attributes}>{text}</{tagname}>'\n",
    "\n",
    "print(xml('tag'))   #  '<tag></tag>'\n",
    "print(xml('tag', 'a'))  #  '<tag>a</tag>'\n",
    "print(xml('tag', 'a', w='x', y='z'))   # '<tag w=\"x\" y=\"z\">a</tag>'"
   ]
  },
  {
   "cell_type": "code",
   "execution_count": 52,
   "id": "05e6e631",
   "metadata": {},
   "outputs": [
    {
     "data": {
      "text/plain": [
       "4"
      ]
     },
     "execution_count": 52,
     "metadata": {},
     "output_type": "execute_result"
    }
   ],
   "source": [
    "len('abcd')"
   ]
  },
  {
   "cell_type": "code",
   "execution_count": 53,
   "id": "1bf95d14",
   "metadata": {},
   "outputs": [
    {
     "name": "stdout",
     "output_type": "stream",
     "text": [
      "Help on built-in function len in module builtins:\n",
      "\n",
      "len(obj, /)\n",
      "    Return the number of items in a container.\n",
      "\n"
     ]
    }
   ],
   "source": [
    "help(len)"
   ]
  },
  {
   "cell_type": "code",
   "execution_count": 54,
   "id": "fbed52d7",
   "metadata": {},
   "outputs": [
    {
     "ename": "TypeError",
     "evalue": "len() takes no keyword arguments",
     "output_type": "error",
     "traceback": [
      "\u001b[0;31m---------------------------------------------------------------------------\u001b[0m",
      "\u001b[0;31mTypeError\u001b[0m                                 Traceback (most recent call last)",
      "\u001b[0;32m/var/folders/rr/0mnyyv811fs5vyp22gf4fxk00000gn/T/ipykernel_12804/1652450803.py\u001b[0m in \u001b[0;36m<module>\u001b[0;34m\u001b[0m\n\u001b[0;32m----> 1\u001b[0;31m \u001b[0mlen\u001b[0m\u001b[0;34m(\u001b[0m\u001b[0mobj\u001b[0m\u001b[0;34m=\u001b[0m\u001b[0;34m'abcd'\u001b[0m\u001b[0;34m)\u001b[0m\u001b[0;34m\u001b[0m\u001b[0;34m\u001b[0m\u001b[0m\n\u001b[0m",
      "\u001b[0;31mTypeError\u001b[0m: len() takes no keyword arguments"
     ]
    }
   ],
   "source": [
    "len(obj='abcd')"
   ]
  },
  {
   "cell_type": "code",
   "execution_count": null,
   "id": "21c208c3",
   "metadata": {},
   "outputs": [],
   "source": []
  },
  {
   "cell_type": "markdown",
   "id": "8b73bc93",
   "metadata": {},
   "source": [
    "# Parameters\n",
    "\n",
    "1. Positional-only parameters (only accepts positional arguments)\n",
    "2. Mandatory parameters (can accept positional or keyword arguments)\n",
    "3. Optional parameters (can accept positional or keyword arguments), with default values in `__defaults__`\n",
    "4. `*args` (tuple with remaining positional arguments -- or `*` if there is no `*args`)\n",
    "5. Mandatory keyword-only parameters\n",
    "6. Optional keyword-only parameters (with a default argument value)\n",
    "7. `**kwargs` (dict with remaining keyword arguments)"
   ]
  },
  {
   "cell_type": "code",
   "execution_count": 55,
   "id": "82d66cdc",
   "metadata": {},
   "outputs": [
    {
     "data": {
      "text/plain": [
       "15"
      ]
     },
     "execution_count": 55,
     "metadata": {},
     "output_type": "execute_result"
    }
   ],
   "source": [
    "def add(a, b):\n",
    "    return a + b\n",
    "\n",
    "add(10, 5)"
   ]
  },
  {
   "cell_type": "code",
   "execution_count": 56,
   "id": "d0c3ade9",
   "metadata": {},
   "outputs": [
    {
     "data": {
      "text/plain": [
       "15"
      ]
     },
     "execution_count": 56,
     "metadata": {},
     "output_type": "execute_result"
    }
   ],
   "source": [
    "add(a=10, b=5)"
   ]
  },
  {
   "cell_type": "code",
   "execution_count": 57,
   "id": "12bf0dfc",
   "metadata": {},
   "outputs": [],
   "source": [
    "def add(a, b, /):\n",
    "    return a + b"
   ]
  },
  {
   "cell_type": "code",
   "execution_count": 58,
   "id": "24edea49",
   "metadata": {},
   "outputs": [
    {
     "data": {
      "text/plain": [
       "15"
      ]
     },
     "execution_count": 58,
     "metadata": {},
     "output_type": "execute_result"
    }
   ],
   "source": [
    "add(10, 5)"
   ]
  },
  {
   "cell_type": "code",
   "execution_count": 59,
   "id": "25a593a1",
   "metadata": {},
   "outputs": [
    {
     "ename": "TypeError",
     "evalue": "add() got some positional-only arguments passed as keyword arguments: 'a, b'",
     "output_type": "error",
     "traceback": [
      "\u001b[0;31m---------------------------------------------------------------------------\u001b[0m",
      "\u001b[0;31mTypeError\u001b[0m                                 Traceback (most recent call last)",
      "\u001b[0;32m/var/folders/rr/0mnyyv811fs5vyp22gf4fxk00000gn/T/ipykernel_12804/494668918.py\u001b[0m in \u001b[0;36m<module>\u001b[0;34m\u001b[0m\n\u001b[0;32m----> 1\u001b[0;31m \u001b[0madd\u001b[0m\u001b[0;34m(\u001b[0m\u001b[0ma\u001b[0m\u001b[0;34m=\u001b[0m\u001b[0;36m10\u001b[0m\u001b[0;34m,\u001b[0m \u001b[0mb\u001b[0m\u001b[0;34m=\u001b[0m\u001b[0;36m5\u001b[0m\u001b[0;34m)\u001b[0m\u001b[0;34m\u001b[0m\u001b[0;34m\u001b[0m\u001b[0m\n\u001b[0m",
      "\u001b[0;31mTypeError\u001b[0m: add() got some positional-only arguments passed as keyword arguments: 'a, b'"
     ]
    }
   ],
   "source": [
    "add(a=10, b=5)"
   ]
  },
  {
   "cell_type": "code",
   "execution_count": 60,
   "id": "9726e21e",
   "metadata": {},
   "outputs": [],
   "source": [
    "def write_config(filename, *, sep=':', **kwargs):\n",
    "    with open(filename, 'w') as outfile:\n",
    "        for key, value in kwargs.items():\n",
    "            outfile.write(f'{key}{sep}{value}\\n')\n",
    "            \n",
    "write_config('myconf.txt', a=10, b=20, c=30)"
   ]
  },
  {
   "cell_type": "code",
   "execution_count": 61,
   "id": "e7372c2e",
   "metadata": {},
   "outputs": [
    {
     "name": "stdout",
     "output_type": "stream",
     "text": [
      "a:10\r\n",
      "b:20\r\n",
      "c:30\r\n"
     ]
    }
   ],
   "source": [
    "!cat myconf.txt"
   ]
  },
  {
   "cell_type": "code",
   "execution_count": 62,
   "id": "467fade9",
   "metadata": {},
   "outputs": [
    {
     "ename": "TypeError",
     "evalue": "write_config() got multiple values for argument 'filename'",
     "output_type": "error",
     "traceback": [
      "\u001b[0;31m---------------------------------------------------------------------------\u001b[0m",
      "\u001b[0;31mTypeError\u001b[0m                                 Traceback (most recent call last)",
      "\u001b[0;32m/var/folders/rr/0mnyyv811fs5vyp22gf4fxk00000gn/T/ipykernel_12804/1198059680.py\u001b[0m in \u001b[0;36m<module>\u001b[0;34m\u001b[0m\n\u001b[1;32m      1\u001b[0m \u001b[0;31m# what will happen when we run this?\u001b[0m\u001b[0;34m\u001b[0m\u001b[0;34m\u001b[0m\u001b[0m\n\u001b[0;32m----> 2\u001b[0;31m \u001b[0mwrite_config\u001b[0m\u001b[0;34m(\u001b[0m\u001b[0;34m'myconf.txt'\u001b[0m\u001b[0;34m,\u001b[0m \u001b[0ma\u001b[0m\u001b[0;34m=\u001b[0m\u001b[0;36m10\u001b[0m\u001b[0;34m,\u001b[0m \u001b[0mb\u001b[0m\u001b[0;34m=\u001b[0m\u001b[0;36m20\u001b[0m\u001b[0;34m,\u001b[0m \u001b[0mc\u001b[0m\u001b[0;34m=\u001b[0m\u001b[0;36m30\u001b[0m\u001b[0;34m,\u001b[0m \u001b[0mfilename\u001b[0m\u001b[0;34m=\u001b[0m\u001b[0;34m'myfile.txt'\u001b[0m\u001b[0;34m)\u001b[0m\u001b[0;34m\u001b[0m\u001b[0;34m\u001b[0m\u001b[0m\n\u001b[0m",
      "\u001b[0;31mTypeError\u001b[0m: write_config() got multiple values for argument 'filename'"
     ]
    }
   ],
   "source": [
    "# what will happen when we run this?\n",
    "write_config('myconf.txt', a=10, b=20, c=30, filename='myfile.txt')"
   ]
  },
  {
   "cell_type": "code",
   "execution_count": 72,
   "id": "cfafae23",
   "metadata": {},
   "outputs": [],
   "source": [
    "#       positional-only           keyword-only\n",
    "\n",
    "def write_config(filename, /, *, sep=':', **kwargs):\n",
    "    with open(filename, 'w') as outfile:\n",
    "        for key, value in kwargs.items():\n",
    "            outfile.write(f'{key}{sep}{value}\\n')\n",
    "  "
   ]
  },
  {
   "cell_type": "code",
   "execution_count": 73,
   "id": "d7928236",
   "metadata": {},
   "outputs": [],
   "source": [
    "# parameters: filename,    sep,   kwargs\n",
    "# arguments:  myconf.txt    ':'   {'a':10, 'b':20, 'c':30, 'filename':'myfile.txt'}\n",
    "\n",
    "write_config('myconf.txt', a=10, b=20, c=30, filename='myfile.txt')"
   ]
  },
  {
   "cell_type": "code",
   "execution_count": 74,
   "id": "44ec6fae",
   "metadata": {},
   "outputs": [
    {
     "name": "stdout",
     "output_type": "stream",
     "text": [
      "a:10\r\n",
      "b:20\r\n",
      "c:30\r\n",
      "filename:myfile.txt\r\n"
     ]
    }
   ],
   "source": [
    "!cat myconf.txt"
   ]
  },
  {
   "cell_type": "code",
   "execution_count": 75,
   "id": "031fdebb",
   "metadata": {},
   "outputs": [
    {
     "name": "stdout",
     "output_type": "stream",
     "text": [
      "Help on function write_config in module __main__:\n",
      "\n",
      "write_config(filename, /, *, sep=':', **kwargs)\n",
      "    #       positional-only           keyword-only\n",
      "\n"
     ]
    }
   ],
   "source": [
    "help(write_config)"
   ]
  },
  {
   "cell_type": "code",
   "execution_count": 77,
   "id": "6d507c30",
   "metadata": {},
   "outputs": [],
   "source": [
    "# a == positional only\n",
    "# b == positional or keyword\n",
    "# c == keyword only (mandatory)\n",
    "\n",
    "def myfunc(a, /, b, *, c):\n",
    "    return f'{a=}, {b=}, {c=}'"
   ]
  },
  {
   "cell_type": "code",
   "execution_count": 78,
   "id": "12d15b4e",
   "metadata": {},
   "outputs": [
    {
     "ename": "TypeError",
     "evalue": "myfunc() takes 2 positional arguments but 3 were given",
     "output_type": "error",
     "traceback": [
      "\u001b[0;31m---------------------------------------------------------------------------\u001b[0m",
      "\u001b[0;31mTypeError\u001b[0m                                 Traceback (most recent call last)",
      "\u001b[0;32m/var/folders/rr/0mnyyv811fs5vyp22gf4fxk00000gn/T/ipykernel_12804/885864022.py\u001b[0m in \u001b[0;36m<module>\u001b[0;34m\u001b[0m\n\u001b[0;32m----> 1\u001b[0;31m \u001b[0mmyfunc\u001b[0m\u001b[0;34m(\u001b[0m\u001b[0;36m10\u001b[0m\u001b[0;34m,\u001b[0m \u001b[0;36m20\u001b[0m\u001b[0;34m,\u001b[0m \u001b[0;36m30\u001b[0m\u001b[0;34m)\u001b[0m\u001b[0;34m\u001b[0m\u001b[0;34m\u001b[0m\u001b[0m\n\u001b[0m",
      "\u001b[0;31mTypeError\u001b[0m: myfunc() takes 2 positional arguments but 3 were given"
     ]
    }
   ],
   "source": [
    "myfunc(10, 20, 30)"
   ]
  },
  {
   "cell_type": "code",
   "execution_count": 79,
   "id": "82214554",
   "metadata": {},
   "outputs": [
    {
     "data": {
      "text/plain": [
       "'a=10, b=20, c=30'"
      ]
     },
     "execution_count": 79,
     "metadata": {},
     "output_type": "execute_result"
    }
   ],
   "source": [
    "myfunc(10, 20, c=30)"
   ]
  },
  {
   "cell_type": "code",
   "execution_count": 80,
   "id": "ef6641b0",
   "metadata": {},
   "outputs": [
    {
     "data": {
      "text/plain": [
       "'a=10, b=20, c=30'"
      ]
     },
     "execution_count": 80,
     "metadata": {},
     "output_type": "execute_result"
    }
   ],
   "source": [
    "myfunc(10, b=20, c=30)"
   ]
  },
  {
   "cell_type": "code",
   "execution_count": 81,
   "id": "c0e11faf",
   "metadata": {},
   "outputs": [
    {
     "ename": "TypeError",
     "evalue": "myfunc() got some positional-only arguments passed as keyword arguments: 'a'",
     "output_type": "error",
     "traceback": [
      "\u001b[0;31m---------------------------------------------------------------------------\u001b[0m",
      "\u001b[0;31mTypeError\u001b[0m                                 Traceback (most recent call last)",
      "\u001b[0;32m/var/folders/rr/0mnyyv811fs5vyp22gf4fxk00000gn/T/ipykernel_12804/2067321119.py\u001b[0m in \u001b[0;36m<module>\u001b[0;34m\u001b[0m\n\u001b[0;32m----> 1\u001b[0;31m \u001b[0mmyfunc\u001b[0m\u001b[0;34m(\u001b[0m\u001b[0ma\u001b[0m\u001b[0;34m=\u001b[0m\u001b[0;36m10\u001b[0m\u001b[0;34m,\u001b[0m \u001b[0mb\u001b[0m\u001b[0;34m=\u001b[0m\u001b[0;36m20\u001b[0m\u001b[0;34m,\u001b[0m \u001b[0mc\u001b[0m\u001b[0;34m=\u001b[0m\u001b[0;36m30\u001b[0m\u001b[0;34m)\u001b[0m\u001b[0;34m\u001b[0m\u001b[0;34m\u001b[0m\u001b[0m\n\u001b[0m",
      "\u001b[0;31mTypeError\u001b[0m: myfunc() got some positional-only arguments passed as keyword arguments: 'a'"
     ]
    }
   ],
   "source": [
    "myfunc(a=10, b=20, c=30)"
   ]
  },
  {
   "cell_type": "code",
   "execution_count": 82,
   "id": "97c79bd7",
   "metadata": {},
   "outputs": [],
   "source": [
    "import dis"
   ]
  },
  {
   "cell_type": "code",
   "execution_count": 83,
   "id": "585e5ca1",
   "metadata": {},
   "outputs": [
    {
     "name": "stdout",
     "output_type": "stream",
     "text": [
      "Name:              myfunc\n",
      "Filename:          /var/folders/rr/0mnyyv811fs5vyp22gf4fxk00000gn/T/ipykernel_12804/4243703053.py\n",
      "Argument count:    2\n",
      "Positional-only arguments: 1\n",
      "Kw-only arguments: 1\n",
      "Number of locals:  3\n",
      "Stack size:        6\n",
      "Flags:             OPTIMIZED, NEWLOCALS, NOFREE\n",
      "Constants:\n",
      "   0: None\n",
      "   1: 'a='\n",
      "   2: ', b='\n",
      "   3: ', c='\n",
      "Variable names:\n",
      "   0: a\n",
      "   1: b\n",
      "   2: c\n"
     ]
    }
   ],
   "source": [
    "dis.show_code(myfunc)"
   ]
  },
  {
   "cell_type": "code",
   "execution_count": 84,
   "id": "938caa16",
   "metadata": {},
   "outputs": [
    {
     "ename": "SyntaxError",
     "evalue": "invalid syntax (1014213878.py, line 1)",
     "output_type": "error",
     "traceback": [
      "\u001b[0;36m  File \u001b[0;32m\"/var/folders/rr/0mnyyv811fs5vyp22gf4fxk00000gn/T/ipykernel_12804/1014213878.py\"\u001b[0;36m, line \u001b[0;32m1\u001b[0m\n\u001b[0;31m    def myfunc(a, /, b, *, c, /):\u001b[0m\n\u001b[0m                              ^\u001b[0m\n\u001b[0;31mSyntaxError\u001b[0m\u001b[0;31m:\u001b[0m invalid syntax\n"
     ]
    }
   ],
   "source": [
    "def myfunc(a, /, b, *, c):\n",
    "    return f'{a=}, {b=}, {c=}'"
   ]
  },
  {
   "cell_type": "code",
   "execution_count": 86,
   "id": "19c029ff",
   "metadata": {},
   "outputs": [
    {
     "ename": "TypeError",
     "evalue": "write_config() takes 1 positional argument but 2 were given",
     "output_type": "error",
     "traceback": [
      "\u001b[0;31m---------------------------------------------------------------------------\u001b[0m",
      "\u001b[0;31mTypeError\u001b[0m                                 Traceback (most recent call last)",
      "\u001b[0;32m/var/folders/rr/0mnyyv811fs5vyp22gf4fxk00000gn/T/ipykernel_12804/2844570232.py\u001b[0m in \u001b[0;36m<module>\u001b[0;34m\u001b[0m\n\u001b[1;32m      7\u001b[0m \u001b[0;34m\u001b[0m\u001b[0m\n\u001b[1;32m      8\u001b[0m \u001b[0;31m# we're trying to pass a dict -- but the function wants keyword arguments\u001b[0m\u001b[0;34m\u001b[0m\u001b[0;34m\u001b[0m\u001b[0m\n\u001b[0;32m----> 9\u001b[0;31m \u001b[0mwrite_config\u001b[0m\u001b[0;34m(\u001b[0m\u001b[0;34m'myconf.txt'\u001b[0m\u001b[0;34m,\u001b[0m \u001b[0md\u001b[0m\u001b[0;34m)\u001b[0m\u001b[0;34m\u001b[0m\u001b[0;34m\u001b[0m\u001b[0m\n\u001b[0m",
      "\u001b[0;31mTypeError\u001b[0m: write_config() takes 1 positional argument but 2 were given"
     ]
    }
   ],
   "source": [
    "def write_config(filename, /, *, sep=':', **kwargs):\n",
    "    with open(filename, 'w') as outfile:\n",
    "        for key, value in kwargs.items():\n",
    "            outfile.write(f'{key}{sep}{value}\\n')\n",
    "\n",
    "d = {'a':10, 'b':20, 'c':30}            \n",
    "\n",
    "# we're trying to pass a dict -- but the function wants keyword arguments\n",
    "write_config('myconf.txt', d)"
   ]
  },
  {
   "cell_type": "code",
   "execution_count": 88,
   "id": "aa7f01b7",
   "metadata": {},
   "outputs": [],
   "source": [
    "# **d in the call to the function turn d into keyword arguments\n",
    "write_config('myconf.txt', **d)"
   ]
  },
  {
   "cell_type": "code",
   "execution_count": 89,
   "id": "7b57bf7a",
   "metadata": {},
   "outputs": [
    {
     "name": "stdout",
     "output_type": "stream",
     "text": [
      "a:10\r\n",
      "b:20\r\n",
      "c:30\r\n"
     ]
    }
   ],
   "source": [
    "!cat myconf.txt"
   ]
  },
  {
   "cell_type": "code",
   "execution_count": 90,
   "id": "c0cb5178",
   "metadata": {},
   "outputs": [
    {
     "name": "stdout",
     "output_type": "stream",
     "text": [
      "Help on function write_config in module __main__:\n",
      "\n",
      "write_config(filename, /, *, sep=':', **kwargs)\n",
      "\n"
     ]
    }
   ],
   "source": [
    "help(write_config)"
   ]
  },
  {
   "cell_type": "code",
   "execution_count": 92,
   "id": "86540e48",
   "metadata": {},
   "outputs": [],
   "source": [
    "def write_config(filename, /, *, sep=':', **kwargs):\n",
    "    \"\"\"Write keyword arguments to a file, one line at a time.\n",
    "    \n",
    "    Expects: filename, separator, kwargs\n",
    "    Modifies: nothing but the file\n",
    "    Returns: whatever\n",
    "    \"\"\"\n",
    "\n",
    "    with open(filename, 'w') as outfile:\n",
    "        for key, value in kwargs.items():\n",
    "            outfile.write(f'{key}{sep}{value}\\n')\n",
    "\n",
    "d = {'a':10, 'b':20, 'c':30}            \n",
    "\n",
    "# we're trying to pass a dict -- but the function wants keyword arguments\n",
    "write_config('myconf.txt', **d)"
   ]
  },
  {
   "cell_type": "code",
   "execution_count": 93,
   "id": "fa5ccd81",
   "metadata": {},
   "outputs": [
    {
     "name": "stdout",
     "output_type": "stream",
     "text": [
      "Help on function write_config in module __main__:\n",
      "\n",
      "write_config(filename, /, *, sep=':', **kwargs)\n",
      "    Write keyword arguments to a file, one line at a time.\n",
      "    \n",
      "    Expects: filename, separator, kwargs\n",
      "    Modifies: nothing but the file\n",
      "    Returns: whatever\n",
      "\n"
     ]
    }
   ],
   "source": [
    "help(write_config)"
   ]
  },
  {
   "cell_type": "code",
   "execution_count": 94,
   "id": "8aa694b3",
   "metadata": {},
   "outputs": [
    {
     "name": "stdout",
     "output_type": "stream",
     "text": [
      "x = 100, y = [10, 20, 30], z = {'a': 1, 'b': 2}\n"
     ]
    }
   ],
   "source": [
    "x = 100\n",
    "y = [10, 20, 30]\n",
    "z = {'a':1, 'b':2}\n",
    "\n",
    "print(f'x = {x}, y = {y}, z = {z}')"
   ]
  },
  {
   "cell_type": "code",
   "execution_count": 95,
   "id": "7084e0d4",
   "metadata": {},
   "outputs": [
    {
     "name": "stdout",
     "output_type": "stream",
     "text": [
      "x = 100, y = [10, 20, 30], z = {'a': 1, 'b': 2}\n"
     ]
    }
   ],
   "source": [
    "# before f-strings, we used str.format\n",
    "\n",
    "print('x = {0}, y = {1}, z = {2}'.format(x, y, z))"
   ]
  },
  {
   "cell_type": "code",
   "execution_count": 96,
   "id": "0d05622b",
   "metadata": {},
   "outputs": [
    {
     "name": "stdout",
     "output_type": "stream",
     "text": [
      "Help on method_descriptor:\n",
      "\n",
      "format(...)\n",
      "    S.format(*args, **kwargs) -> str\n",
      "    \n",
      "    Return a formatted version of S, using substitutions from args and kwargs.\n",
      "    The substitutions are identified by braces ('{' and '}').\n",
      "\n"
     ]
    }
   ],
   "source": [
    "help(str.format)"
   ]
  },
  {
   "cell_type": "code",
   "execution_count": 97,
   "id": "83b798e8",
   "metadata": {},
   "outputs": [
    {
     "ename": "IndexError",
     "evalue": "Replacement index 20 out of range for positional args tuple",
     "output_type": "error",
     "traceback": [
      "\u001b[0;31m---------------------------------------------------------------------------\u001b[0m",
      "\u001b[0;31mIndexError\u001b[0m                                Traceback (most recent call last)",
      "\u001b[0;32m/var/folders/rr/0mnyyv811fs5vyp22gf4fxk00000gn/T/ipykernel_12804/3679732369.py\u001b[0m in \u001b[0;36m<module>\u001b[0;34m\u001b[0m\n\u001b[0;32m----> 1\u001b[0;31m \u001b[0mprint\u001b[0m\u001b[0;34m(\u001b[0m\u001b[0;34m'x = {0}, y = {1}, z = {20}'\u001b[0m\u001b[0;34m.\u001b[0m\u001b[0mformat\u001b[0m\u001b[0;34m(\u001b[0m\u001b[0mx\u001b[0m\u001b[0;34m,\u001b[0m \u001b[0my\u001b[0m\u001b[0;34m,\u001b[0m \u001b[0mz\u001b[0m\u001b[0;34m)\u001b[0m\u001b[0;34m)\u001b[0m\u001b[0;34m\u001b[0m\u001b[0;34m\u001b[0m\u001b[0m\n\u001b[0m",
      "\u001b[0;31mIndexError\u001b[0m: Replacement index 20 out of range for positional args tuple"
     ]
    }
   ],
   "source": [
    "print('x = {0}, y = {1}, z = {20}'.format(x, y, z))"
   ]
  },
  {
   "cell_type": "code",
   "execution_count": 101,
   "id": "65ec8055",
   "metadata": {},
   "outputs": [
    {
     "ename": "IndexError",
     "evalue": "Replacement index 3 out of range for positional args tuple",
     "output_type": "error",
     "traceback": [
      "\u001b[0;31m---------------------------------------------------------------------------\u001b[0m",
      "\u001b[0;31mIndexError\u001b[0m                                Traceback (most recent call last)",
      "\u001b[0;32m/var/folders/rr/0mnyyv811fs5vyp22gf4fxk00000gn/T/ipykernel_12804/1462815045.py\u001b[0m in \u001b[0;36m<module>\u001b[0;34m\u001b[0m\n\u001b[0;32m----> 1\u001b[0;31m \u001b[0mprint\u001b[0m\u001b[0;34m(\u001b[0m\u001b[0;34m'x = {}, y = {}, z = {}, x is still {}'\u001b[0m\u001b[0;34m.\u001b[0m\u001b[0mformat\u001b[0m\u001b[0;34m(\u001b[0m\u001b[0mx\u001b[0m\u001b[0;34m,\u001b[0m \u001b[0my\u001b[0m\u001b[0;34m,\u001b[0m \u001b[0mz\u001b[0m\u001b[0;34m)\u001b[0m\u001b[0;34m)\u001b[0m\u001b[0;34m\u001b[0m\u001b[0;34m\u001b[0m\u001b[0m\n\u001b[0m",
      "\u001b[0;31mIndexError\u001b[0m: Replacement index 3 out of range for positional args tuple"
     ]
    }
   ],
   "source": [
    "print('x = {}, y = {}, z = {}, x is still {}'.format(x, y, z))"
   ]
  },
  {
   "cell_type": "code",
   "execution_count": 103,
   "id": "30cd7e8f",
   "metadata": {},
   "outputs": [
    {
     "name": "stdout",
     "output_type": "stream",
     "text": [
      "x = 100, y = [10, 20, 30], z = {'a': 1, 'b': 2}\n"
     ]
    }
   ],
   "source": [
    "print('x = {first}, y = {middle}, z = {last}'.format(first=x, middle=y, last=z))"
   ]
  },
  {
   "cell_type": "code",
   "execution_count": 104,
   "id": "440b6a2f",
   "metadata": {},
   "outputs": [
    {
     "name": "stdout",
     "output_type": "stream",
     "text": [
      "Help on method_descriptor:\n",
      "\n",
      "format(...)\n",
      "    S.format(*args, **kwargs) -> str\n",
      "    \n",
      "    Return a formatted version of S, using substitutions from args and kwargs.\n",
      "    The substitutions are identified by braces ('{' and '}').\n",
      "\n"
     ]
    }
   ],
   "source": [
    "help(str.format)"
   ]
  },
  {
   "cell_type": "code",
   "execution_count": 105,
   "id": "6830d3fa",
   "metadata": {},
   "outputs": [
    {
     "name": "stdout",
     "output_type": "stream",
     "text": [
      "x = 100, y = [10, 20, 30], z = {'a': 1, 'b': 2}\n"
     ]
    }
   ],
   "source": [
    "print('x = {0}, y = {middle}, z = {last}'.format(x,    # positional\n",
    "                                                 middle=y, last=z))  # keyword"
   ]
  },
  {
   "cell_type": "code",
   "execution_count": 106,
   "id": "af7fb98c",
   "metadata": {},
   "outputs": [],
   "source": [
    "def hello(name):\n",
    "    return f'Hello, {name}!'"
   ]
  },
  {
   "cell_type": "code",
   "execution_count": 107,
   "id": "a2e2e20c",
   "metadata": {},
   "outputs": [
    {
     "data": {
      "text/plain": [
       "'Hello, world!'"
      ]
     },
     "execution_count": 107,
     "metadata": {},
     "output_type": "execute_result"
    }
   ],
   "source": [
    "hello('world')"
   ]
  },
  {
   "cell_type": "code",
   "execution_count": 108,
   "id": "985091ff",
   "metadata": {},
   "outputs": [
    {
     "data": {
      "text/plain": [
       "'Hello, 5!'"
      ]
     },
     "execution_count": 108,
     "metadata": {},
     "output_type": "execute_result"
    }
   ],
   "source": [
    "hello(5)"
   ]
  },
  {
   "cell_type": "code",
   "execution_count": 109,
   "id": "85bca205",
   "metadata": {},
   "outputs": [
    {
     "data": {
      "text/plain": [
       "'Hello, [10, 20, 30]!'"
      ]
     },
     "execution_count": 109,
     "metadata": {},
     "output_type": "execute_result"
    }
   ],
   "source": [
    "hello([10, 20, 30])"
   ]
  },
  {
   "cell_type": "code",
   "execution_count": 110,
   "id": "5e662bdd",
   "metadata": {},
   "outputs": [
    {
     "data": {
      "text/plain": [
       "'Hello, <function hello at 0x111b10820>!'"
      ]
     },
     "execution_count": 110,
     "metadata": {},
     "output_type": "execute_result"
    }
   ],
   "source": [
    "hello(hello)"
   ]
  },
  {
   "cell_type": "code",
   "execution_count": 111,
   "id": "ef0316ce",
   "metadata": {},
   "outputs": [],
   "source": [
    "def hello(name):\n",
    "    if isinstance(name, str):\n",
    "        return f'Hello, {name}!'\n",
    "    \n",
    "    raise TypeError(f'I wanted a string, not a {type(name)}')"
   ]
  },
  {
   "cell_type": "code",
   "execution_count": 112,
   "id": "0f3a22a1",
   "metadata": {},
   "outputs": [
    {
     "data": {
      "text/plain": [
       "'Hello, world!'"
      ]
     },
     "execution_count": 112,
     "metadata": {},
     "output_type": "execute_result"
    }
   ],
   "source": [
    "hello('world')"
   ]
  },
  {
   "cell_type": "code",
   "execution_count": 113,
   "id": "7ad37a80",
   "metadata": {},
   "outputs": [
    {
     "ename": "TypeError",
     "evalue": "I wanted a string, not a <class 'int'>",
     "output_type": "error",
     "traceback": [
      "\u001b[0;31m---------------------------------------------------------------------------\u001b[0m",
      "\u001b[0;31mTypeError\u001b[0m                                 Traceback (most recent call last)",
      "\u001b[0;32m/var/folders/rr/0mnyyv811fs5vyp22gf4fxk00000gn/T/ipykernel_12804/3544338049.py\u001b[0m in \u001b[0;36m<module>\u001b[0;34m\u001b[0m\n\u001b[0;32m----> 1\u001b[0;31m \u001b[0mhello\u001b[0m\u001b[0;34m(\u001b[0m\u001b[0;36m5\u001b[0m\u001b[0;34m)\u001b[0m\u001b[0;34m\u001b[0m\u001b[0;34m\u001b[0m\u001b[0m\n\u001b[0m",
      "\u001b[0;32m/var/folders/rr/0mnyyv811fs5vyp22gf4fxk00000gn/T/ipykernel_12804/2690579015.py\u001b[0m in \u001b[0;36mhello\u001b[0;34m(name)\u001b[0m\n\u001b[1;32m      3\u001b[0m         \u001b[0;32mreturn\u001b[0m \u001b[0;34mf'Hello, {name}!'\u001b[0m\u001b[0;34m\u001b[0m\u001b[0;34m\u001b[0m\u001b[0m\n\u001b[1;32m      4\u001b[0m \u001b[0;34m\u001b[0m\u001b[0m\n\u001b[0;32m----> 5\u001b[0;31m     \u001b[0;32mraise\u001b[0m \u001b[0mTypeError\u001b[0m\u001b[0;34m(\u001b[0m\u001b[0;34mf'I wanted a string, not a {type(name)}'\u001b[0m\u001b[0;34m)\u001b[0m\u001b[0;34m\u001b[0m\u001b[0;34m\u001b[0m\u001b[0m\n\u001b[0m",
      "\u001b[0;31mTypeError\u001b[0m: I wanted a string, not a <class 'int'>"
     ]
    }
   ],
   "source": [
    "hello(5)"
   ]
  },
  {
   "cell_type": "code",
   "execution_count": 120,
   "id": "394e5d3a",
   "metadata": {},
   "outputs": [],
   "source": [
    "# type annotations / type hints\n",
    "\n",
    "def hello(name:str) -> str:\n",
    "    return f'Hello, {name}!'"
   ]
  },
  {
   "cell_type": "code",
   "execution_count": 121,
   "id": "b5eaf713",
   "metadata": {},
   "outputs": [
    {
     "data": {
      "text/plain": [
       "'Hello, world!'"
      ]
     },
     "execution_count": 121,
     "metadata": {},
     "output_type": "execute_result"
    }
   ],
   "source": [
    "hello('world')"
   ]
  },
  {
   "cell_type": "code",
   "execution_count": 122,
   "id": "ac73975d",
   "metadata": {},
   "outputs": [
    {
     "data": {
      "text/plain": [
       "'Hello, 5!'"
      ]
     },
     "execution_count": 122,
     "metadata": {},
     "output_type": "execute_result"
    }
   ],
   "source": [
    "hello(5)"
   ]
  },
  {
   "cell_type": "code",
   "execution_count": 123,
   "id": "df4ff6be",
   "metadata": {},
   "outputs": [
    {
     "data": {
      "text/plain": [
       "'Hello, [10, 20, 30]!'"
      ]
     },
     "execution_count": 123,
     "metadata": {},
     "output_type": "execute_result"
    }
   ],
   "source": [
    "hello([10, 20, 30])"
   ]
  },
  {
   "cell_type": "code",
   "execution_count": 124,
   "id": "9a9f0c21",
   "metadata": {},
   "outputs": [
    {
     "data": {
      "text/plain": [
       "'Hello, <function hello at 0x111d83ac0>!'"
      ]
     },
     "execution_count": 124,
     "metadata": {},
     "output_type": "execute_result"
    }
   ],
   "source": [
    "hello(hello)"
   ]
  },
  {
   "cell_type": "code",
   "execution_count": 125,
   "id": "a284843c",
   "metadata": {},
   "outputs": [
    {
     "data": {
      "text/plain": [
       "{'name': str, 'return': str}"
      ]
     },
     "execution_count": 125,
     "metadata": {},
     "output_type": "execute_result"
    }
   ],
   "source": [
    "hello.__annotations__"
   ]
  },
  {
   "cell_type": "markdown",
   "id": "3796fe00",
   "metadata": {},
   "source": [
    "# Next up\n",
    "\n",
    "1. Scoping (LEGB)\n",
    "2. Inner functions and `nonlocal`\n",
    "\n",
    "Resume at 15:30"
   ]
  },
  {
   "cell_type": "code",
   "execution_count": 126,
   "id": "19f82493",
   "metadata": {},
   "outputs": [],
   "source": [
    "del(x)"
   ]
  },
  {
   "cell_type": "code",
   "execution_count": 127,
   "id": "ce9f0221",
   "metadata": {},
   "outputs": [
    {
     "ename": "NameError",
     "evalue": "name 'x' is not defined",
     "output_type": "error",
     "traceback": [
      "\u001b[0;31m---------------------------------------------------------------------------\u001b[0m",
      "\u001b[0;31mNameError\u001b[0m                                 Traceback (most recent call last)",
      "\u001b[0;32m/var/folders/rr/0mnyyv811fs5vyp22gf4fxk00000gn/T/ipykernel_12804/32546335.py\u001b[0m in \u001b[0;36m<module>\u001b[0;34m\u001b[0m\n\u001b[0;32m----> 1\u001b[0;31m \u001b[0mx\u001b[0m\u001b[0;34m\u001b[0m\u001b[0;34m\u001b[0m\u001b[0m\n\u001b[0m",
      "\u001b[0;31mNameError\u001b[0m: name 'x' is not defined"
     ]
    }
   ],
   "source": [
    "x"
   ]
  },
  {
   "cell_type": "code",
   "execution_count": 128,
   "id": "454419c5",
   "metadata": {},
   "outputs": [
    {
     "name": "stdout",
     "output_type": "stream",
     "text": [
      "200\n"
     ]
    }
   ],
   "source": [
    "x = 100\n",
    "\n",
    "if True:\n",
    "    x = 200\n",
    "    \n",
    "print(x)"
   ]
  },
  {
   "cell_type": "code",
   "execution_count": 129,
   "id": "2077608f",
   "metadata": {},
   "outputs": [
    {
     "name": "stdout",
     "output_type": "stream",
     "text": [
      "81\n"
     ]
    }
   ],
   "source": [
    "x = 100\n",
    "\n",
    "for i in range(10):\n",
    "    x = i ** 2\n",
    "    \n",
    "print(x)    "
   ]
  },
  {
   "cell_type": "code",
   "execution_count": 130,
   "id": "3eb2eec3",
   "metadata": {},
   "outputs": [
    {
     "name": "stdout",
     "output_type": "stream",
     "text": [
      "x = 100\n"
     ]
    }
   ],
   "source": [
    "x = 100\n",
    "\n",
    "print(f'x = {x}')"
   ]
  },
  {
   "cell_type": "markdown",
   "id": "cdb64376",
   "metadata": {},
   "source": [
    "# Scopes in Python\n",
    "\n",
    "- `L` -- Local -- Start searching here if we're in a function body\n",
    "- `E` -- Enclosing\n",
    "- `G` -- Global -- Start searching here if we're *not* in a function body\n",
    "- `B` -- Builtin"
   ]
  },
  {
   "cell_type": "code",
   "execution_count": 131,
   "id": "edb477bd",
   "metadata": {},
   "outputs": [
    {
     "data": {
      "text/plain": [
       "True"
      ]
     },
     "execution_count": 131,
     "metadata": {},
     "output_type": "execute_result"
    }
   ],
   "source": [
    "'x' in globals()   # is x a global variable?"
   ]
  },
  {
   "cell_type": "code",
   "execution_count": 132,
   "id": "998d5be8",
   "metadata": {},
   "outputs": [
    {
     "data": {
      "text/plain": [
       "100"
      ]
     },
     "execution_count": 132,
     "metadata": {},
     "output_type": "execute_result"
    }
   ],
   "source": [
    "globals()['x']   # what is the value of x?"
   ]
  },
  {
   "cell_type": "code",
   "execution_count": 133,
   "id": "fd7b67eb",
   "metadata": {},
   "outputs": [
    {
     "name": "stdout",
     "output_type": "stream",
     "text": [
      "Before, x = 100\n",
      "In myfunc, x=100\n",
      "After, x = 100\n"
     ]
    }
   ],
   "source": [
    "x = 100\n",
    "\n",
    "def myfunc():\n",
    "    print(f'In myfunc, {x=}')  # is x local? NO. is x global? YES, 100\n",
    "    \n",
    "print(f'Before, x = {x}')  # is x global? YES, 100\n",
    "myfunc()\n",
    "print(f'After, x = {x}')   # is x global? YES, 100"
   ]
  },
  {
   "cell_type": "code",
   "execution_count": 134,
   "id": "a1f3447c",
   "metadata": {},
   "outputs": [
    {
     "data": {
      "text/plain": [
       "False"
      ]
     },
     "execution_count": 134,
     "metadata": {},
     "output_type": "execute_result"
    }
   ],
   "source": [
    "'x' in myfunc.__code__.co_varnames"
   ]
  },
  {
   "cell_type": "code",
   "execution_count": 135,
   "id": "0a6619dd",
   "metadata": {},
   "outputs": [
    {
     "data": {
      "text/plain": [
       "()"
      ]
     },
     "execution_count": 135,
     "metadata": {},
     "output_type": "execute_result"
    }
   ],
   "source": [
    "myfunc.__code__.co_varnames"
   ]
  },
  {
   "cell_type": "code",
   "execution_count": 136,
   "id": "9d0940ee",
   "metadata": {},
   "outputs": [
    {
     "name": "stdout",
     "output_type": "stream",
     "text": [
      "Before, x = 100\n",
      "Hello!\n",
      "In myfunc, x=100\n",
      "After, x = 100\n"
     ]
    }
   ],
   "source": [
    "x = 100\n",
    "\n",
    "def hello():\n",
    "    print('Hello!')\n",
    "\n",
    "def myfunc():\n",
    "    hello()\n",
    "    print(f'In myfunc, {x=}') \n",
    "    \n",
    "print(f'Before, x = {x}')  \n",
    "myfunc()\n",
    "print(f'After, x = {x}')   "
   ]
  },
  {
   "cell_type": "code",
   "execution_count": 137,
   "id": "da880aca",
   "metadata": {},
   "outputs": [
    {
     "name": "stdout",
     "output_type": "stream",
     "text": [
      "Before, x = 100\n",
      "In myfunc, x=200\n",
      "After, x = 100\n"
     ]
    }
   ],
   "source": [
    "x = 100\n",
    "\n",
    "def myfunc():\n",
    "    x = 200\n",
    "    print(f'In myfunc, {x=}')\n",
    "    \n",
    "print(f'Before, x = {x}')  # is x global? YES, 100\n",
    "myfunc()\n",
    "print(f'After, x = {x}')   "
   ]
  },
  {
   "cell_type": "code",
   "execution_count": null,
   "id": "8b9534c1",
   "metadata": {},
   "outputs": [],
   "source": []
  }
 ],
 "metadata": {
  "kernelspec": {
   "display_name": "Python 3 (ipykernel)",
   "language": "python",
   "name": "python3"
  },
  "language_info": {
   "codemirror_mode": {
    "name": "ipython",
    "version": 3
   },
   "file_extension": ".py",
   "mimetype": "text/x-python",
   "name": "python",
   "nbconvert_exporter": "python",
   "pygments_lexer": "ipython3",
   "version": "3.10.5"
  }
 },
 "nbformat": 4,
 "nbformat_minor": 5
}

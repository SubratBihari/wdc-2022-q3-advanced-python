{
 "cells": [
  {
   "cell_type": "markdown",
   "id": "2cf58033",
   "metadata": {},
   "source": [
    "# Agenda\n",
    "\n",
    "1. Parameters\n",
    "    - `**kwargs`\n",
    "    - Positional-only\n",
    "2. Scoping (LEGB)\n",
    "3. Inner functions and `nonlocal` and closures\n",
    "4. Type annotations"
   ]
  },
  {
   "cell_type": "markdown",
   "id": "fa4a64ad",
   "metadata": {},
   "source": [
    "# Parameters\n",
    "\n",
    "1. Mandatory parameters (can accept positional or keyword arguments)\n",
    "2. Optional parameters (can accept positional or keyword arguments), with default values in `__defaults__`\n",
    "3. `*args`\n",
    "4. Mandatory keyword-only parameters\n",
    "5. Optional keyword-only parameters"
   ]
  },
  {
   "cell_type": "code",
   "execution_count": 1,
   "id": "95119d73",
   "metadata": {},
   "outputs": [],
   "source": [
    "def myfunc(x, *args):\n",
    "    return f'{x=}, {args=}'"
   ]
  },
  {
   "cell_type": "code",
   "execution_count": 2,
   "id": "9fbc38bb",
   "metadata": {},
   "outputs": [
    {
     "data": {
      "text/plain": [
       "'x=10, args=(20, 30, 40, 50)'"
      ]
     },
     "execution_count": 2,
     "metadata": {},
     "output_type": "execute_result"
    }
   ],
   "source": [
    "myfunc(10, 20, 30, 40, 50)"
   ]
  },
  {
   "cell_type": "code",
   "execution_count": 3,
   "id": "816efdc4",
   "metadata": {},
   "outputs": [
    {
     "ename": "TypeError",
     "evalue": "myfunc() got an unexpected keyword argument 'y'",
     "output_type": "error",
     "traceback": [
      "\u001b[0;31m---------------------------------------------------------------------------\u001b[0m",
      "\u001b[0;31mTypeError\u001b[0m                                 Traceback (most recent call last)",
      "\u001b[0;32m/var/folders/rr/0mnyyv811fs5vyp22gf4fxk00000gn/T/ipykernel_12804/3245467168.py\u001b[0m in \u001b[0;36m<module>\u001b[0;34m\u001b[0m\n\u001b[0;32m----> 1\u001b[0;31m \u001b[0mmyfunc\u001b[0m\u001b[0;34m(\u001b[0m\u001b[0mx\u001b[0m\u001b[0;34m=\u001b[0m\u001b[0;36m10\u001b[0m\u001b[0;34m,\u001b[0m \u001b[0my\u001b[0m\u001b[0;34m=\u001b[0m\u001b[0;36m20\u001b[0m\u001b[0;34m,\u001b[0m \u001b[0mz\u001b[0m\u001b[0;34m=\u001b[0m\u001b[0;36m30\u001b[0m\u001b[0;34m)\u001b[0m\u001b[0;34m\u001b[0m\u001b[0;34m\u001b[0m\u001b[0m\n\u001b[0m",
      "\u001b[0;31mTypeError\u001b[0m: myfunc() got an unexpected keyword argument 'y'"
     ]
    }
   ],
   "source": [
    "# parameters: x   args\n",
    "# arguments: 10\n",
    "\n",
    "myfunc(x=10, y=20, z=30)"
   ]
  },
  {
   "cell_type": "code",
   "execution_count": 7,
   "id": "e78ec52a",
   "metadata": {},
   "outputs": [],
   "source": [
    "def myfunc(x, **kwargs):  # ** == all keyword arguments go into this dict;  kwargs == keyword arguments\n",
    "    return f'{x=}, {kwargs=}'"
   ]
  },
  {
   "cell_type": "code",
   "execution_count": 8,
   "id": "43695f12",
   "metadata": {},
   "outputs": [
    {
     "data": {
      "text/plain": [
       "'x=10, kwargs={}'"
      ]
     },
     "execution_count": 8,
     "metadata": {},
     "output_type": "execute_result"
    }
   ],
   "source": [
    "myfunc(10)"
   ]
  },
  {
   "cell_type": "code",
   "execution_count": 9,
   "id": "5c1be961",
   "metadata": {},
   "outputs": [
    {
     "ename": "TypeError",
     "evalue": "myfunc() takes 1 positional argument but 3 were given",
     "output_type": "error",
     "traceback": [
      "\u001b[0;31m---------------------------------------------------------------------------\u001b[0m",
      "\u001b[0;31mTypeError\u001b[0m                                 Traceback (most recent call last)",
      "\u001b[0;32m/var/folders/rr/0mnyyv811fs5vyp22gf4fxk00000gn/T/ipykernel_12804/885864022.py\u001b[0m in \u001b[0;36m<module>\u001b[0;34m\u001b[0m\n\u001b[0;32m----> 1\u001b[0;31m \u001b[0mmyfunc\u001b[0m\u001b[0;34m(\u001b[0m\u001b[0;36m10\u001b[0m\u001b[0;34m,\u001b[0m \u001b[0;36m20\u001b[0m\u001b[0;34m,\u001b[0m \u001b[0;36m30\u001b[0m\u001b[0;34m)\u001b[0m\u001b[0;34m\u001b[0m\u001b[0;34m\u001b[0m\u001b[0m\n\u001b[0m",
      "\u001b[0;31mTypeError\u001b[0m: myfunc() takes 1 positional argument but 3 were given"
     ]
    }
   ],
   "source": [
    "myfunc(10, 20, 30)"
   ]
  },
  {
   "cell_type": "code",
   "execution_count": 10,
   "id": "d7ec859d",
   "metadata": {},
   "outputs": [
    {
     "data": {
      "text/plain": [
       "\"x=10, kwargs={'y': 20, 'z': 30}\""
      ]
     },
     "execution_count": 10,
     "metadata": {},
     "output_type": "execute_result"
    }
   ],
   "source": [
    "myfunc(10, y=20, z=30)"
   ]
  },
  {
   "cell_type": "code",
   "execution_count": 11,
   "id": "ca65babc",
   "metadata": {},
   "outputs": [
    {
     "data": {
      "text/plain": [
       "\"x=10, kwargs={'k': 100, 'l': 200, 'm': 300}\""
      ]
     },
     "execution_count": 11,
     "metadata": {},
     "output_type": "execute_result"
    }
   ],
   "source": [
    "myfunc(10, k=100, l=200, m=300)"
   ]
  },
  {
   "cell_type": "code",
   "execution_count": 12,
   "id": "9eec105b",
   "metadata": {},
   "outputs": [],
   "source": [
    "def add_one(x=[]):\n",
    "    x.append(1)\n",
    "    return x"
   ]
  },
  {
   "cell_type": "code",
   "execution_count": 13,
   "id": "272716a4",
   "metadata": {},
   "outputs": [
    {
     "data": {
      "text/plain": [
       "([],)"
      ]
     },
     "execution_count": 13,
     "metadata": {},
     "output_type": "execute_result"
    }
   ],
   "source": [
    "add_one.__defaults__"
   ]
  },
  {
   "cell_type": "code",
   "execution_count": 15,
   "id": "56de4164",
   "metadata": {},
   "outputs": [
    {
     "data": {
      "text/plain": [
       "[1, 2, 3, 1]"
      ]
     },
     "execution_count": 15,
     "metadata": {},
     "output_type": "execute_result"
    }
   ],
   "source": [
    "# parameters: x\n",
    "# argument: [1,2,3]\n",
    "\n",
    "y = [1,2,3]\n",
    "add_one(y)"
   ]
  },
  {
   "cell_type": "code",
   "execution_count": 16,
   "id": "a9dbf36c",
   "metadata": {},
   "outputs": [
    {
     "data": {
      "text/plain": [
       "[1, 2, 3, 1]"
      ]
     },
     "execution_count": 16,
     "metadata": {},
     "output_type": "execute_result"
    }
   ],
   "source": [
    "y"
   ]
  },
  {
   "cell_type": "code",
   "execution_count": null,
   "id": "26a2d7d0",
   "metadata": {},
   "outputs": [],
   "source": [
    "# parameters: x\n",
    "# arguments: __defaults__[0]\n",
    "\n",
    "add_one()"
   ]
  },
  {
   "cell_type": "code",
   "execution_count": 17,
   "id": "86841856",
   "metadata": {},
   "outputs": [],
   "source": [
    "def add_one(x=[2,4,6]):\n",
    "    x.append(1)\n",
    "    return x"
   ]
  },
  {
   "cell_type": "code",
   "execution_count": 18,
   "id": "59c2fb84",
   "metadata": {},
   "outputs": [
    {
     "data": {
      "text/plain": [
       "[2, 4, 6, 1]"
      ]
     },
     "execution_count": 18,
     "metadata": {},
     "output_type": "execute_result"
    }
   ],
   "source": [
    "add_one()"
   ]
  },
  {
   "cell_type": "code",
   "execution_count": 19,
   "id": "f746680b",
   "metadata": {},
   "outputs": [
    {
     "data": {
      "text/plain": [
       "[2, 4, 6, 1, 1]"
      ]
     },
     "execution_count": 19,
     "metadata": {},
     "output_type": "execute_result"
    }
   ],
   "source": [
    "add_one()"
   ]
  },
  {
   "cell_type": "code",
   "execution_count": 20,
   "id": "92f5ff6f",
   "metadata": {},
   "outputs": [],
   "source": [
    "def write_config(filename, **kwargs):\n",
    "    with open(filename, 'w') as outfile:\n",
    "        for key, value in kwargs.items():\n",
    "            outfile.write(f'{key}:{value}\\n')"
   ]
  },
  {
   "cell_type": "code",
   "execution_count": 21,
   "id": "64c41a4e",
   "metadata": {},
   "outputs": [
    {
     "name": "stdout",
     "output_type": "stream",
     "text": [
      "linux-etc-passwd.txt  mini-access-log.txt  nums.txt  output.txt  shoe-data.txt\r\n"
     ]
    }
   ],
   "source": [
    "!ls *.txt"
   ]
  },
  {
   "cell_type": "code",
   "execution_count": 22,
   "id": "99a1c85d",
   "metadata": {},
   "outputs": [],
   "source": [
    "#                          keyword arguments -- dict\n",
    "write_config('myconf.txt', a=100, b=200, c=[10, 20, 30], d='whatever')"
   ]
  },
  {
   "cell_type": "code",
   "execution_count": 23,
   "id": "f67a9a1d",
   "metadata": {},
   "outputs": [
    {
     "name": "stdout",
     "output_type": "stream",
     "text": [
      "a:100\r\n",
      "b:200\r\n",
      "c:[10, 20, 30]\r\n",
      "d:whatever\r\n"
     ]
    }
   ],
   "source": [
    "!cat myconf.txt"
   ]
  },
  {
   "cell_type": "code",
   "execution_count": 24,
   "id": "f8c9d2e2",
   "metadata": {},
   "outputs": [],
   "source": [
    "def write_config(filename, sep=':', **kwargs):\n",
    "    with open(filename, 'w') as outfile:\n",
    "        for key, value in kwargs.items():\n",
    "            outfile.write(f'{key}{sep}{value}\\n')"
   ]
  },
  {
   "cell_type": "code",
   "execution_count": 25,
   "id": "bdbf5582",
   "metadata": {},
   "outputs": [],
   "source": [
    "# here, we use the default value of sep=':'\n",
    "write_config('myconf.txt', a=100, b=200, c=[10, 20, 30], d='whatever')"
   ]
  },
  {
   "cell_type": "code",
   "execution_count": 26,
   "id": "75b90bed",
   "metadata": {},
   "outputs": [
    {
     "name": "stdout",
     "output_type": "stream",
     "text": [
      "a:100\r\n",
      "b:200\r\n",
      "c:[10, 20, 30]\r\n",
      "d:whatever\r\n"
     ]
    }
   ],
   "source": [
    "!cat myconf.txt"
   ]
  },
  {
   "cell_type": "code",
   "execution_count": 27,
   "id": "ba68ace4",
   "metadata": {},
   "outputs": [],
   "source": [
    "# here, I pass sep='==', and we see == between keys and values\n",
    "write_config('myconf.txt', sep='==', a=100, b=200, c=[10, 20, 30], d='whatever')"
   ]
  },
  {
   "cell_type": "code",
   "execution_count": 28,
   "id": "09eee026",
   "metadata": {},
   "outputs": [
    {
     "name": "stdout",
     "output_type": "stream",
     "text": [
      "a==100\r\n",
      "b==200\r\n",
      "c==[10, 20, 30]\r\n",
      "d==whatever\r\n"
     ]
    }
   ],
   "source": [
    "!cat myconf.txt"
   ]
  },
  {
   "cell_type": "code",
   "execution_count": 29,
   "id": "85a20d27",
   "metadata": {},
   "outputs": [],
   "source": [
    "# but sep isn't a keyword-only parameter -- it's a regular parameter with a default\n",
    "# so we don't need to provide it with a keyword argument\n",
    "write_config('myconf.txt', '==', a=100, b=200, c=[10, 20, 30], d='whatever')"
   ]
  },
  {
   "cell_type": "code",
   "execution_count": 30,
   "id": "fc8a6977",
   "metadata": {},
   "outputs": [
    {
     "name": "stdout",
     "output_type": "stream",
     "text": [
      "a==100\r\n",
      "b==200\r\n",
      "c==[10, 20, 30]\r\n",
      "d==whatever\r\n"
     ]
    }
   ],
   "source": [
    "!cat myconf.txt"
   ]
  },
  {
   "cell_type": "code",
   "execution_count": 31,
   "id": "608a8b81",
   "metadata": {},
   "outputs": [
    {
     "ename": "TypeError",
     "evalue": "write_config() got multiple values for argument 'sep'",
     "output_type": "error",
     "traceback": [
      "\u001b[0;31m---------------------------------------------------------------------------\u001b[0m",
      "\u001b[0;31mTypeError\u001b[0m                                 Traceback (most recent call last)",
      "\u001b[0;32m/var/folders/rr/0mnyyv811fs5vyp22gf4fxk00000gn/T/ipykernel_12804/2551367819.py\u001b[0m in \u001b[0;36m<module>\u001b[0;34m\u001b[0m\n\u001b[0;32m----> 1\u001b[0;31m \u001b[0mwrite_config\u001b[0m\u001b[0;34m(\u001b[0m\u001b[0;34m'myconf.txt'\u001b[0m\u001b[0;34m,\u001b[0m \u001b[0;34m'=='\u001b[0m\u001b[0;34m,\u001b[0m \u001b[0ma\u001b[0m\u001b[0;34m=\u001b[0m\u001b[0;36m100\u001b[0m\u001b[0;34m,\u001b[0m \u001b[0mb\u001b[0m\u001b[0;34m=\u001b[0m\u001b[0;36m200\u001b[0m\u001b[0;34m,\u001b[0m \u001b[0mc\u001b[0m\u001b[0;34m=\u001b[0m\u001b[0;34m[\u001b[0m\u001b[0;36m10\u001b[0m\u001b[0;34m,\u001b[0m \u001b[0;36m20\u001b[0m\u001b[0;34m,\u001b[0m \u001b[0;36m30\u001b[0m\u001b[0;34m]\u001b[0m\u001b[0;34m,\u001b[0m \u001b[0md\u001b[0m\u001b[0;34m=\u001b[0m\u001b[0;34m'whatever'\u001b[0m\u001b[0;34m,\u001b[0m \u001b[0msep\u001b[0m\u001b[0;34m=\u001b[0m\u001b[0;34m'**'\u001b[0m\u001b[0;34m)\u001b[0m\u001b[0;34m\u001b[0m\u001b[0;34m\u001b[0m\u001b[0m\n\u001b[0m",
      "\u001b[0;31mTypeError\u001b[0m: write_config() got multiple values for argument 'sep'"
     ]
    }
   ],
   "source": [
    "# we cannot pass sep twice, once positional and once keyword\n",
    "write_config('myconf.txt', '==', a=100, b=200, c=[10, 20, 30], d='whatever', sep='**')"
   ]
  },
  {
   "cell_type": "code",
   "execution_count": 32,
   "id": "dcd12255",
   "metadata": {},
   "outputs": [],
   "source": [
    "# * by itself means: after here, all parameters are keyword only\n",
    "\n",
    "def write_config(filename, *, sep=':', **kwargs):\n",
    "    with open(filename, 'w') as outfile:\n",
    "        for key, value in kwargs.items():\n",
    "            outfile.write(f'{key}{sep}{value}\\n')"
   ]
  },
  {
   "cell_type": "code",
   "execution_count": 34,
   "id": "b68cda37",
   "metadata": {},
   "outputs": [],
   "source": [
    "# sep is now keyword only\n",
    "write_config('myconf.txt', sep='==', a=100, b=200)"
   ]
  },
  {
   "cell_type": "code",
   "execution_count": 35,
   "id": "e10fbaeb",
   "metadata": {},
   "outputs": [
    {
     "ename": "TypeError",
     "evalue": "write_config() takes 1 positional argument but 5 positional arguments (and 1 keyword-only argument) were given",
     "output_type": "error",
     "traceback": [
      "\u001b[0;31m---------------------------------------------------------------------------\u001b[0m",
      "\u001b[0;31mTypeError\u001b[0m                                 Traceback (most recent call last)",
      "\u001b[0;32m/var/folders/rr/0mnyyv811fs5vyp22gf4fxk00000gn/T/ipykernel_12804/2456528214.py\u001b[0m in \u001b[0;36m<module>\u001b[0;34m\u001b[0m\n\u001b[0;32m----> 1\u001b[0;31m \u001b[0mwrite_config\u001b[0m\u001b[0;34m(\u001b[0m\u001b[0;34m'myconf.txt'\u001b[0m\u001b[0;34m,\u001b[0m \u001b[0;36m1\u001b[0m\u001b[0;34m,\u001b[0m\u001b[0;36m2\u001b[0m\u001b[0;34m,\u001b[0m\u001b[0;36m3\u001b[0m\u001b[0;34m,\u001b[0m\u001b[0;36m4\u001b[0m\u001b[0;34m,\u001b[0m \u001b[0msep\u001b[0m\u001b[0;34m=\u001b[0m\u001b[0;34m'=='\u001b[0m\u001b[0;34m,\u001b[0m \u001b[0ma\u001b[0m\u001b[0;34m=\u001b[0m\u001b[0;36m100\u001b[0m\u001b[0;34m)\u001b[0m\u001b[0;34m\u001b[0m\u001b[0;34m\u001b[0m\u001b[0m\n\u001b[0m",
      "\u001b[0;31mTypeError\u001b[0m: write_config() takes 1 positional argument but 5 positional arguments (and 1 keyword-only argument) were given"
     ]
    }
   ],
   "source": [
    "write_config('myconf.txt', 1,2,3,4, sep='==', a=100)"
   ]
  },
  {
   "cell_type": "code",
   "execution_count": null,
   "id": "54f1182e",
   "metadata": {},
   "outputs": [],
   "source": []
  },
  {
   "cell_type": "markdown",
   "id": "70678271",
   "metadata": {},
   "source": [
    "# Parameters\n",
    "\n",
    "1. Mandatory parameters (can accept positional or keyword arguments)\n",
    "2. Optional parameters (can accept positional or keyword arguments), with default values in `__defaults__`\n",
    "3. `*args` (tuple with remaining positional arguments -- or `*` if there is no `*args`)\n",
    "4. Mandatory keyword-only parameters\n",
    "5. Optional keyword-only parameters (with a default argument value)\n",
    "6. `**kwargs` (dict with remaining keyword arguments)"
   ]
  },
  {
   "cell_type": "code",
   "execution_count": 36,
   "id": "c657f348",
   "metadata": {},
   "outputs": [],
   "source": [
    "def myfunc(a, *, b):\n",
    "    return f'{a=}, {b=}'"
   ]
  },
  {
   "cell_type": "code",
   "execution_count": 39,
   "id": "9ba30a8b",
   "metadata": {},
   "outputs": [
    {
     "data": {
      "text/plain": [
       "'a=10, b=20'"
      ]
     },
     "execution_count": 39,
     "metadata": {},
     "output_type": "execute_result"
    }
   ],
   "source": [
    "myfunc(10, b=20)   # b is mandatory keyword-only"
   ]
  },
  {
   "cell_type": "code",
   "execution_count": 42,
   "id": "11ee8eeb",
   "metadata": {},
   "outputs": [],
   "source": [
    "def myfunc(a, *, b=999):    # Optional keyword-only parameter (with default argument)\n",
    "    return f'{a=}, {b=}'"
   ]
  },
  {
   "cell_type": "code",
   "execution_count": 43,
   "id": "f2d7d845",
   "metadata": {},
   "outputs": [
    {
     "data": {
      "text/plain": [
       "'a=10, b=999'"
      ]
     },
     "execution_count": 43,
     "metadata": {},
     "output_type": "execute_result"
    }
   ],
   "source": [
    "myfunc(10)"
   ]
  },
  {
   "cell_type": "markdown",
   "id": "701538d4",
   "metadata": {},
   "source": [
    "# Exercise: XML\n",
    "\n",
    "1. Write a function, `xml`, that returns a string with XML in it:\n",
    "    - First argument (mandatory) is a string, the tag we want to create\n",
    "    - Second argument (optional) is a string, the content in the tag\n",
    "    - Additional keyword arguments will be used as attributes in the opening tag\n",
    "2. The function needs return a string    "
   ]
  },
  {
   "cell_type": "code",
   "execution_count": 45,
   "id": "ec020426",
   "metadata": {},
   "outputs": [
    {
     "ename": "NameError",
     "evalue": "name 'xml' is not defined",
     "output_type": "error",
     "traceback": [
      "\u001b[0;31m---------------------------------------------------------------------------\u001b[0m",
      "\u001b[0;31mNameError\u001b[0m                                 Traceback (most recent call last)",
      "\u001b[0;32m/var/folders/rr/0mnyyv811fs5vyp22gf4fxk00000gn/T/ipykernel_12804/3886501628.py\u001b[0m in \u001b[0;36m<module>\u001b[0;34m\u001b[0m\n\u001b[0;32m----> 1\u001b[0;31m \u001b[0mxml\u001b[0m\u001b[0;34m(\u001b[0m\u001b[0;34m'tagname'\u001b[0m\u001b[0;34m)\u001b[0m   \u001b[0;31m#  '<tagname></tagname>'\u001b[0m\u001b[0;34m\u001b[0m\u001b[0;34m\u001b[0m\u001b[0m\n\u001b[0m\u001b[1;32m      2\u001b[0m \u001b[0mxml\u001b[0m\u001b[0;34m(\u001b[0m\u001b[0;34m'tag'\u001b[0m\u001b[0;34m,\u001b[0m \u001b[0;34m'a'\u001b[0m\u001b[0;34m)\u001b[0m  \u001b[0;31m#  '<tag>a</tag>'\u001b[0m\u001b[0;34m\u001b[0m\u001b[0;34m\u001b[0m\u001b[0m\n\u001b[1;32m      3\u001b[0m \u001b[0mxml\u001b[0m\u001b[0;34m(\u001b[0m\u001b[0;34m'tag'\u001b[0m\u001b[0;34m,\u001b[0m \u001b[0;34m'a'\u001b[0m\u001b[0;34m,\u001b[0m \u001b[0mw\u001b[0m\u001b[0;34m=\u001b[0m\u001b[0;34m'x'\u001b[0m\u001b[0;34m,\u001b[0m \u001b[0my\u001b[0m\u001b[0;34m=\u001b[0m\u001b[0;34m'z'\u001b[0m\u001b[0;34m)\u001b[0m   \u001b[0;31m# '<tag w=\"x\" y=\"z\">a</tag>'\u001b[0m\u001b[0;34m\u001b[0m\u001b[0;34m\u001b[0m\u001b[0m\n",
      "\u001b[0;31mNameError\u001b[0m: name 'xml' is not defined"
     ]
    }
   ],
   "source": [
    "xml('tagname')   #  '<tagname></tagname>'\n",
    "xml('tag', 'a')  #  '<tag>a</tag>'\n",
    "xml('tag', 'a', w='x', y='z')   # '<tag w=\"x\" y=\"z\">a</tag>'"
   ]
  },
  {
   "cell_type": "code",
   "execution_count": 51,
   "id": "74f14031",
   "metadata": {},
   "outputs": [
    {
     "name": "stdout",
     "output_type": "stream",
     "text": [
      "<tag></tag>\n",
      "<tag>a</tag>\n",
      "<tag w=\"x\" y=\"z\">a</tag>\n"
     ]
    }
   ],
   "source": [
    "def xml(tagname, text='', **kwargs):\n",
    "    attributes = ''\n",
    "    for key, value in kwargs.items():\n",
    "        attributes += f' {key}=\"{value}\"'\n",
    "\n",
    "    return f'<{tagname}{attributes}>{text}</{tagname}>'\n",
    "\n",
    "print(xml('tag'))   #  '<tag></tag>'\n",
    "print(xml('tag', 'a'))  #  '<tag>a</tag>'\n",
    "print(xml('tag', 'a', w='x', y='z'))   # '<tag w=\"x\" y=\"z\">a</tag>'"
   ]
  },
  {
   "cell_type": "code",
   "execution_count": 52,
   "id": "16ba8438",
   "metadata": {},
   "outputs": [
    {
     "data": {
      "text/plain": [
       "4"
      ]
     },
     "execution_count": 52,
     "metadata": {},
     "output_type": "execute_result"
    }
   ],
   "source": [
    "len('abcd')"
   ]
  },
  {
   "cell_type": "code",
   "execution_count": 53,
   "id": "6220569a",
   "metadata": {},
   "outputs": [
    {
     "name": "stdout",
     "output_type": "stream",
     "text": [
      "Help on built-in function len in module builtins:\n",
      "\n",
      "len(obj, /)\n",
      "    Return the number of items in a container.\n",
      "\n"
     ]
    }
   ],
   "source": [
    "help(len)"
   ]
  },
  {
   "cell_type": "code",
   "execution_count": 54,
   "id": "5b3430ff",
   "metadata": {},
   "outputs": [
    {
     "ename": "TypeError",
     "evalue": "len() takes no keyword arguments",
     "output_type": "error",
     "traceback": [
      "\u001b[0;31m---------------------------------------------------------------------------\u001b[0m",
      "\u001b[0;31mTypeError\u001b[0m                                 Traceback (most recent call last)",
      "\u001b[0;32m/var/folders/rr/0mnyyv811fs5vyp22gf4fxk00000gn/T/ipykernel_12804/1652450803.py\u001b[0m in \u001b[0;36m<module>\u001b[0;34m\u001b[0m\n\u001b[0;32m----> 1\u001b[0;31m \u001b[0mlen\u001b[0m\u001b[0;34m(\u001b[0m\u001b[0mobj\u001b[0m\u001b[0;34m=\u001b[0m\u001b[0;34m'abcd'\u001b[0m\u001b[0;34m)\u001b[0m\u001b[0;34m\u001b[0m\u001b[0;34m\u001b[0m\u001b[0m\n\u001b[0m",
      "\u001b[0;31mTypeError\u001b[0m: len() takes no keyword arguments"
     ]
    }
   ],
   "source": [
    "len(obj='abcd')"
   ]
  },
  {
   "cell_type": "code",
   "execution_count": null,
   "id": "1ba227ed",
   "metadata": {},
   "outputs": [],
   "source": []
  },
  {
   "cell_type": "markdown",
   "id": "93c4d12d",
   "metadata": {},
   "source": [
    "# Parameters\n",
    "\n",
    "1. Positional-only parameters (only accepts positional arguments)\n",
    "2. Mandatory parameters (can accept positional or keyword arguments)\n",
    "3. Optional parameters (can accept positional or keyword arguments), with default values in `__defaults__`\n",
    "4. `*args` (tuple with remaining positional arguments -- or `*` if there is no `*args`)\n",
    "5. Mandatory keyword-only parameters\n",
    "6. Optional keyword-only parameters (with a default argument value)\n",
    "7. `**kwargs` (dict with remaining keyword arguments)"
   ]
  },
  {
   "cell_type": "code",
   "execution_count": 55,
   "id": "1c986873",
   "metadata": {},
   "outputs": [
    {
     "data": {
      "text/plain": [
       "15"
      ]
     },
     "execution_count": 55,
     "metadata": {},
     "output_type": "execute_result"
    }
   ],
   "source": [
    "def add(a, b):\n",
    "    return a + b\n",
    "\n",
    "add(10, 5)"
   ]
  },
  {
   "cell_type": "code",
   "execution_count": 56,
   "id": "5bb8a0ec",
   "metadata": {},
   "outputs": [
    {
     "data": {
      "text/plain": [
       "15"
      ]
     },
     "execution_count": 56,
     "metadata": {},
     "output_type": "execute_result"
    }
   ],
   "source": [
    "add(a=10, b=5)"
   ]
  },
  {
   "cell_type": "code",
   "execution_count": 57,
   "id": "0952398c",
   "metadata": {},
   "outputs": [],
   "source": [
    "def add(a, b, /):\n",
    "    return a + b"
   ]
  },
  {
   "cell_type": "code",
   "execution_count": 58,
   "id": "34d4db5b",
   "metadata": {},
   "outputs": [
    {
     "data": {
      "text/plain": [
       "15"
      ]
     },
     "execution_count": 58,
     "metadata": {},
     "output_type": "execute_result"
    }
   ],
   "source": [
    "add(10, 5)"
   ]
  },
  {
   "cell_type": "code",
   "execution_count": 59,
   "id": "03d14ca5",
   "metadata": {},
   "outputs": [
    {
     "ename": "TypeError",
     "evalue": "add() got some positional-only arguments passed as keyword arguments: 'a, b'",
     "output_type": "error",
     "traceback": [
      "\u001b[0;31m---------------------------------------------------------------------------\u001b[0m",
      "\u001b[0;31mTypeError\u001b[0m                                 Traceback (most recent call last)",
      "\u001b[0;32m/var/folders/rr/0mnyyv811fs5vyp22gf4fxk00000gn/T/ipykernel_12804/494668918.py\u001b[0m in \u001b[0;36m<module>\u001b[0;34m\u001b[0m\n\u001b[0;32m----> 1\u001b[0;31m \u001b[0madd\u001b[0m\u001b[0;34m(\u001b[0m\u001b[0ma\u001b[0m\u001b[0;34m=\u001b[0m\u001b[0;36m10\u001b[0m\u001b[0;34m,\u001b[0m \u001b[0mb\u001b[0m\u001b[0;34m=\u001b[0m\u001b[0;36m5\u001b[0m\u001b[0;34m)\u001b[0m\u001b[0;34m\u001b[0m\u001b[0;34m\u001b[0m\u001b[0m\n\u001b[0m",
      "\u001b[0;31mTypeError\u001b[0m: add() got some positional-only arguments passed as keyword arguments: 'a, b'"
     ]
    }
   ],
   "source": [
    "add(a=10, b=5)"
   ]
  },
  {
   "cell_type": "code",
   "execution_count": 60,
   "id": "05801048",
   "metadata": {},
   "outputs": [],
   "source": [
    "def write_config(filename, *, sep=':', **kwargs):\n",
    "    with open(filename, 'w') as outfile:\n",
    "        for key, value in kwargs.items():\n",
    "            outfile.write(f'{key}{sep}{value}\\n')\n",
    "            \n",
    "write_config('myconf.txt', a=10, b=20, c=30)"
   ]
  },
  {
   "cell_type": "code",
   "execution_count": 61,
   "id": "73e423a3",
   "metadata": {},
   "outputs": [
    {
     "name": "stdout",
     "output_type": "stream",
     "text": [
      "a:10\r\n",
      "b:20\r\n",
      "c:30\r\n"
     ]
    }
   ],
   "source": [
    "!cat myconf.txt"
   ]
  },
  {
   "cell_type": "code",
   "execution_count": 62,
   "id": "12db36c1",
   "metadata": {},
   "outputs": [
    {
     "ename": "TypeError",
     "evalue": "write_config() got multiple values for argument 'filename'",
     "output_type": "error",
     "traceback": [
      "\u001b[0;31m---------------------------------------------------------------------------\u001b[0m",
      "\u001b[0;31mTypeError\u001b[0m                                 Traceback (most recent call last)",
      "\u001b[0;32m/var/folders/rr/0mnyyv811fs5vyp22gf4fxk00000gn/T/ipykernel_12804/1198059680.py\u001b[0m in \u001b[0;36m<module>\u001b[0;34m\u001b[0m\n\u001b[1;32m      1\u001b[0m \u001b[0;31m# what will happen when we run this?\u001b[0m\u001b[0;34m\u001b[0m\u001b[0;34m\u001b[0m\u001b[0m\n\u001b[0;32m----> 2\u001b[0;31m \u001b[0mwrite_config\u001b[0m\u001b[0;34m(\u001b[0m\u001b[0;34m'myconf.txt'\u001b[0m\u001b[0;34m,\u001b[0m \u001b[0ma\u001b[0m\u001b[0;34m=\u001b[0m\u001b[0;36m10\u001b[0m\u001b[0;34m,\u001b[0m \u001b[0mb\u001b[0m\u001b[0;34m=\u001b[0m\u001b[0;36m20\u001b[0m\u001b[0;34m,\u001b[0m \u001b[0mc\u001b[0m\u001b[0;34m=\u001b[0m\u001b[0;36m30\u001b[0m\u001b[0;34m,\u001b[0m \u001b[0mfilename\u001b[0m\u001b[0;34m=\u001b[0m\u001b[0;34m'myfile.txt'\u001b[0m\u001b[0;34m)\u001b[0m\u001b[0;34m\u001b[0m\u001b[0;34m\u001b[0m\u001b[0m\n\u001b[0m",
      "\u001b[0;31mTypeError\u001b[0m: write_config() got multiple values for argument 'filename'"
     ]
    }
   ],
   "source": [
    "# what will happen when we run this?\n",
    "write_config('myconf.txt', a=10, b=20, c=30, filename='myfile.txt')"
   ]
  },
  {
   "cell_type": "code",
   "execution_count": 72,
   "id": "4cf5d2eb",
   "metadata": {},
   "outputs": [],
   "source": [
    "#       positional-only           keyword-only\n",
    "\n",
    "def write_config(filename, /, *, sep=':', **kwargs):\n",
    "    with open(filename, 'w') as outfile:\n",
    "        for key, value in kwargs.items():\n",
    "            outfile.write(f'{key}{sep}{value}\\n')\n",
    "  "
   ]
  },
  {
   "cell_type": "code",
   "execution_count": 73,
   "id": "1846c48f",
   "metadata": {},
   "outputs": [],
   "source": [
    "# parameters: filename,    sep,   kwargs\n",
    "# arguments:  myconf.txt    ':'   {'a':10, 'b':20, 'c':30, 'filename':'myfile.txt'}\n",
    "\n",
    "write_config('myconf.txt', a=10, b=20, c=30, filename='myfile.txt')"
   ]
  },
  {
   "cell_type": "code",
   "execution_count": 74,
   "id": "b9c25e00",
   "metadata": {},
   "outputs": [
    {
     "name": "stdout",
     "output_type": "stream",
     "text": [
      "a:10\r\n",
      "b:20\r\n",
      "c:30\r\n",
      "filename:myfile.txt\r\n"
     ]
    }
   ],
   "source": [
    "!cat myconf.txt"
   ]
  },
  {
   "cell_type": "code",
   "execution_count": 75,
   "id": "0fb176b6",
   "metadata": {},
   "outputs": [
    {
     "name": "stdout",
     "output_type": "stream",
     "text": [
      "Help on function write_config in module __main__:\n",
      "\n",
      "write_config(filename, /, *, sep=':', **kwargs)\n",
      "    #       positional-only           keyword-only\n",
      "\n"
     ]
    }
   ],
   "source": [
    "help(write_config)"
   ]
  },
  {
   "cell_type": "code",
   "execution_count": 77,
   "id": "e1b0eecb",
   "metadata": {},
   "outputs": [],
   "source": [
    "# a == positional only\n",
    "# b == positional or keyword\n",
    "# c == keyword only (mandatory)\n",
    "\n",
    "def myfunc(a, /, b, *, c):\n",
    "    return f'{a=}, {b=}, {c=}'"
   ]
  },
  {
   "cell_type": "code",
   "execution_count": 78,
   "id": "c0c13af6",
   "metadata": {},
   "outputs": [
    {
     "ename": "TypeError",
     "evalue": "myfunc() takes 2 positional arguments but 3 were given",
     "output_type": "error",
     "traceback": [
      "\u001b[0;31m---------------------------------------------------------------------------\u001b[0m",
      "\u001b[0;31mTypeError\u001b[0m                                 Traceback (most recent call last)",
      "\u001b[0;32m/var/folders/rr/0mnyyv811fs5vyp22gf4fxk00000gn/T/ipykernel_12804/885864022.py\u001b[0m in \u001b[0;36m<module>\u001b[0;34m\u001b[0m\n\u001b[0;32m----> 1\u001b[0;31m \u001b[0mmyfunc\u001b[0m\u001b[0;34m(\u001b[0m\u001b[0;36m10\u001b[0m\u001b[0;34m,\u001b[0m \u001b[0;36m20\u001b[0m\u001b[0;34m,\u001b[0m \u001b[0;36m30\u001b[0m\u001b[0;34m)\u001b[0m\u001b[0;34m\u001b[0m\u001b[0;34m\u001b[0m\u001b[0m\n\u001b[0m",
      "\u001b[0;31mTypeError\u001b[0m: myfunc() takes 2 positional arguments but 3 were given"
     ]
    }
   ],
   "source": [
    "myfunc(10, 20, 30)"
   ]
  },
  {
   "cell_type": "code",
   "execution_count": 79,
   "id": "b56cf1ce",
   "metadata": {},
   "outputs": [
    {
     "data": {
      "text/plain": [
       "'a=10, b=20, c=30'"
      ]
     },
     "execution_count": 79,
     "metadata": {},
     "output_type": "execute_result"
    }
   ],
   "source": [
    "myfunc(10, 20, c=30)"
   ]
  },
  {
   "cell_type": "code",
   "execution_count": 80,
   "id": "edc6e3ed",
   "metadata": {},
   "outputs": [
    {
     "data": {
      "text/plain": [
       "'a=10, b=20, c=30'"
      ]
     },
     "execution_count": 80,
     "metadata": {},
     "output_type": "execute_result"
    }
   ],
   "source": [
    "myfunc(10, b=20, c=30)"
   ]
  },
  {
   "cell_type": "code",
   "execution_count": 81,
   "id": "6c2ae757",
   "metadata": {},
   "outputs": [
    {
     "ename": "TypeError",
     "evalue": "myfunc() got some positional-only arguments passed as keyword arguments: 'a'",
     "output_type": "error",
     "traceback": [
      "\u001b[0;31m---------------------------------------------------------------------------\u001b[0m",
      "\u001b[0;31mTypeError\u001b[0m                                 Traceback (most recent call last)",
      "\u001b[0;32m/var/folders/rr/0mnyyv811fs5vyp22gf4fxk00000gn/T/ipykernel_12804/2067321119.py\u001b[0m in \u001b[0;36m<module>\u001b[0;34m\u001b[0m\n\u001b[0;32m----> 1\u001b[0;31m \u001b[0mmyfunc\u001b[0m\u001b[0;34m(\u001b[0m\u001b[0ma\u001b[0m\u001b[0;34m=\u001b[0m\u001b[0;36m10\u001b[0m\u001b[0;34m,\u001b[0m \u001b[0mb\u001b[0m\u001b[0;34m=\u001b[0m\u001b[0;36m20\u001b[0m\u001b[0;34m,\u001b[0m \u001b[0mc\u001b[0m\u001b[0;34m=\u001b[0m\u001b[0;36m30\u001b[0m\u001b[0;34m)\u001b[0m\u001b[0;34m\u001b[0m\u001b[0;34m\u001b[0m\u001b[0m\n\u001b[0m",
      "\u001b[0;31mTypeError\u001b[0m: myfunc() got some positional-only arguments passed as keyword arguments: 'a'"
     ]
    }
   ],
   "source": [
    "myfunc(a=10, b=20, c=30)"
   ]
  },
  {
   "cell_type": "code",
   "execution_count": 82,
   "id": "ee7418ed",
   "metadata": {},
   "outputs": [],
   "source": [
    "import dis"
   ]
  },
  {
   "cell_type": "code",
   "execution_count": 83,
   "id": "9d1bd8aa",
   "metadata": {},
   "outputs": [
    {
     "name": "stdout",
     "output_type": "stream",
     "text": [
      "Name:              myfunc\n",
      "Filename:          /var/folders/rr/0mnyyv811fs5vyp22gf4fxk00000gn/T/ipykernel_12804/4243703053.py\n",
      "Argument count:    2\n",
      "Positional-only arguments: 1\n",
      "Kw-only arguments: 1\n",
      "Number of locals:  3\n",
      "Stack size:        6\n",
      "Flags:             OPTIMIZED, NEWLOCALS, NOFREE\n",
      "Constants:\n",
      "   0: None\n",
      "   1: 'a='\n",
      "   2: ', b='\n",
      "   3: ', c='\n",
      "Variable names:\n",
      "   0: a\n",
      "   1: b\n",
      "   2: c\n"
     ]
    }
   ],
   "source": [
    "dis.show_code(myfunc)"
   ]
  },
  {
   "cell_type": "code",
   "execution_count": 84,
   "id": "4c3192d6",
   "metadata": {},
   "outputs": [
    {
     "ename": "SyntaxError",
     "evalue": "invalid syntax (1014213878.py, line 1)",
     "output_type": "error",
     "traceback": [
      "\u001b[0;36m  File \u001b[0;32m\"/var/folders/rr/0mnyyv811fs5vyp22gf4fxk00000gn/T/ipykernel_12804/1014213878.py\"\u001b[0;36m, line \u001b[0;32m1\u001b[0m\n\u001b[0;31m    def myfunc(a, /, b, *, c, /):\u001b[0m\n\u001b[0m                              ^\u001b[0m\n\u001b[0;31mSyntaxError\u001b[0m\u001b[0;31m:\u001b[0m invalid syntax\n"
     ]
    }
   ],
   "source": [
    "def myfunc(a, /, b, *, c):\n",
    "    return f'{a=}, {b=}, {c=}'"
   ]
  },
  {
   "cell_type": "code",
   "execution_count": 86,
   "id": "05c331fd",
   "metadata": {},
   "outputs": [
    {
     "ename": "TypeError",
     "evalue": "write_config() takes 1 positional argument but 2 were given",
     "output_type": "error",
     "traceback": [
      "\u001b[0;31m---------------------------------------------------------------------------\u001b[0m",
      "\u001b[0;31mTypeError\u001b[0m                                 Traceback (most recent call last)",
      "\u001b[0;32m/var/folders/rr/0mnyyv811fs5vyp22gf4fxk00000gn/T/ipykernel_12804/2844570232.py\u001b[0m in \u001b[0;36m<module>\u001b[0;34m\u001b[0m\n\u001b[1;32m      7\u001b[0m \u001b[0;34m\u001b[0m\u001b[0m\n\u001b[1;32m      8\u001b[0m \u001b[0;31m# we're trying to pass a dict -- but the function wants keyword arguments\u001b[0m\u001b[0;34m\u001b[0m\u001b[0;34m\u001b[0m\u001b[0m\n\u001b[0;32m----> 9\u001b[0;31m \u001b[0mwrite_config\u001b[0m\u001b[0;34m(\u001b[0m\u001b[0;34m'myconf.txt'\u001b[0m\u001b[0;34m,\u001b[0m \u001b[0md\u001b[0m\u001b[0;34m)\u001b[0m\u001b[0;34m\u001b[0m\u001b[0;34m\u001b[0m\u001b[0m\n\u001b[0m",
      "\u001b[0;31mTypeError\u001b[0m: write_config() takes 1 positional argument but 2 were given"
     ]
    }
   ],
   "source": [
    "def write_config(filename, /, *, sep=':', **kwargs):\n",
    "    with open(filename, 'w') as outfile:\n",
    "        for key, value in kwargs.items():\n",
    "            outfile.write(f'{key}{sep}{value}\\n')\n",
    "\n",
    "d = {'a':10, 'b':20, 'c':30}            \n",
    "\n",
    "# we're trying to pass a dict -- but the function wants keyword arguments\n",
    "write_config('myconf.txt', d)"
   ]
  },
  {
   "cell_type": "code",
   "execution_count": 88,
   "id": "9b0f903a",
   "metadata": {},
   "outputs": [],
   "source": [
    "# **d in the call to the function turn d into keyword arguments\n",
    "write_config('myconf.txt', **d)"
   ]
  },
  {
   "cell_type": "code",
   "execution_count": 89,
   "id": "7b6b26d9",
   "metadata": {},
   "outputs": [
    {
     "name": "stdout",
     "output_type": "stream",
     "text": [
      "a:10\r\n",
      "b:20\r\n",
      "c:30\r\n"
     ]
    }
   ],
   "source": [
    "!cat myconf.txt"
   ]
  },
  {
   "cell_type": "code",
   "execution_count": 90,
   "id": "0d5c5924",
   "metadata": {},
   "outputs": [
    {
     "name": "stdout",
     "output_type": "stream",
     "text": [
      "Help on function write_config in module __main__:\n",
      "\n",
      "write_config(filename, /, *, sep=':', **kwargs)\n",
      "\n"
     ]
    }
   ],
   "source": [
    "help(write_config)"
   ]
  },
  {
   "cell_type": "code",
   "execution_count": 92,
   "id": "9eb759e8",
   "metadata": {},
   "outputs": [],
   "source": [
    "def write_config(filename, /, *, sep=':', **kwargs):\n",
    "    \"\"\"Write keyword arguments to a file, one line at a time.\n",
    "    \n",
    "    Expects: filename, separator, kwargs\n",
    "    Modifies: nothing but the file\n",
    "    Returns: whatever\n",
    "    \"\"\"\n",
    "\n",
    "    with open(filename, 'w') as outfile:\n",
    "        for key, value in kwargs.items():\n",
    "            outfile.write(f'{key}{sep}{value}\\n')\n",
    "\n",
    "d = {'a':10, 'b':20, 'c':30}            \n",
    "\n",
    "# we're trying to pass a dict -- but the function wants keyword arguments\n",
    "write_config('myconf.txt', **d)"
   ]
  },
  {
   "cell_type": "code",
   "execution_count": 93,
   "id": "fea9b1ab",
   "metadata": {},
   "outputs": [
    {
     "name": "stdout",
     "output_type": "stream",
     "text": [
      "Help on function write_config in module __main__:\n",
      "\n",
      "write_config(filename, /, *, sep=':', **kwargs)\n",
      "    Write keyword arguments to a file, one line at a time.\n",
      "    \n",
      "    Expects: filename, separator, kwargs\n",
      "    Modifies: nothing but the file\n",
      "    Returns: whatever\n",
      "\n"
     ]
    }
   ],
   "source": [
    "help(write_config)"
   ]
  },
  {
   "cell_type": "code",
   "execution_count": 94,
   "id": "43aff6f5",
   "metadata": {},
   "outputs": [
    {
     "name": "stdout",
     "output_type": "stream",
     "text": [
      "x = 100, y = [10, 20, 30], z = {'a': 1, 'b': 2}\n"
     ]
    }
   ],
   "source": [
    "x = 100\n",
    "y = [10, 20, 30]\n",
    "z = {'a':1, 'b':2}\n",
    "\n",
    "print(f'x = {x}, y = {y}, z = {z}')"
   ]
  },
  {
   "cell_type": "code",
   "execution_count": 95,
   "id": "36ed9cc1",
   "metadata": {},
   "outputs": [
    {
     "name": "stdout",
     "output_type": "stream",
     "text": [
      "x = 100, y = [10, 20, 30], z = {'a': 1, 'b': 2}\n"
     ]
    }
   ],
   "source": [
    "# before f-strings, we used str.format\n",
    "\n",
    "print('x = {0}, y = {1}, z = {2}'.format(x, y, z))"
   ]
  },
  {
   "cell_type": "code",
   "execution_count": 96,
   "id": "873a40d2",
   "metadata": {},
   "outputs": [
    {
     "name": "stdout",
     "output_type": "stream",
     "text": [
      "Help on method_descriptor:\n",
      "\n",
      "format(...)\n",
      "    S.format(*args, **kwargs) -> str\n",
      "    \n",
      "    Return a formatted version of S, using substitutions from args and kwargs.\n",
      "    The substitutions are identified by braces ('{' and '}').\n",
      "\n"
     ]
    }
   ],
   "source": [
    "help(str.format)"
   ]
  },
  {
   "cell_type": "code",
   "execution_count": 97,
   "id": "4db472ce",
   "metadata": {},
   "outputs": [
    {
     "ename": "IndexError",
     "evalue": "Replacement index 20 out of range for positional args tuple",
     "output_type": "error",
     "traceback": [
      "\u001b[0;31m---------------------------------------------------------------------------\u001b[0m",
      "\u001b[0;31mIndexError\u001b[0m                                Traceback (most recent call last)",
      "\u001b[0;32m/var/folders/rr/0mnyyv811fs5vyp22gf4fxk00000gn/T/ipykernel_12804/3679732369.py\u001b[0m in \u001b[0;36m<module>\u001b[0;34m\u001b[0m\n\u001b[0;32m----> 1\u001b[0;31m \u001b[0mprint\u001b[0m\u001b[0;34m(\u001b[0m\u001b[0;34m'x = {0}, y = {1}, z = {20}'\u001b[0m\u001b[0;34m.\u001b[0m\u001b[0mformat\u001b[0m\u001b[0;34m(\u001b[0m\u001b[0mx\u001b[0m\u001b[0;34m,\u001b[0m \u001b[0my\u001b[0m\u001b[0;34m,\u001b[0m \u001b[0mz\u001b[0m\u001b[0;34m)\u001b[0m\u001b[0;34m)\u001b[0m\u001b[0;34m\u001b[0m\u001b[0;34m\u001b[0m\u001b[0m\n\u001b[0m",
      "\u001b[0;31mIndexError\u001b[0m: Replacement index 20 out of range for positional args tuple"
     ]
    }
   ],
   "source": [
    "print('x = {0}, y = {1}, z = {20}'.format(x, y, z))"
   ]
  },
  {
   "cell_type": "code",
   "execution_count": 101,
   "id": "b9f2e855",
   "metadata": {},
   "outputs": [
    {
     "ename": "IndexError",
     "evalue": "Replacement index 3 out of range for positional args tuple",
     "output_type": "error",
     "traceback": [
      "\u001b[0;31m---------------------------------------------------------------------------\u001b[0m",
      "\u001b[0;31mIndexError\u001b[0m                                Traceback (most recent call last)",
      "\u001b[0;32m/var/folders/rr/0mnyyv811fs5vyp22gf4fxk00000gn/T/ipykernel_12804/1462815045.py\u001b[0m in \u001b[0;36m<module>\u001b[0;34m\u001b[0m\n\u001b[0;32m----> 1\u001b[0;31m \u001b[0mprint\u001b[0m\u001b[0;34m(\u001b[0m\u001b[0;34m'x = {}, y = {}, z = {}, x is still {}'\u001b[0m\u001b[0;34m.\u001b[0m\u001b[0mformat\u001b[0m\u001b[0;34m(\u001b[0m\u001b[0mx\u001b[0m\u001b[0;34m,\u001b[0m \u001b[0my\u001b[0m\u001b[0;34m,\u001b[0m \u001b[0mz\u001b[0m\u001b[0;34m)\u001b[0m\u001b[0;34m)\u001b[0m\u001b[0;34m\u001b[0m\u001b[0;34m\u001b[0m\u001b[0m\n\u001b[0m",
      "\u001b[0;31mIndexError\u001b[0m: Replacement index 3 out of range for positional args tuple"
     ]
    }
   ],
   "source": [
    "print('x = {}, y = {}, z = {}, x is still {}'.format(x, y, z))"
   ]
  },
  {
   "cell_type": "code",
   "execution_count": 103,
   "id": "c4b3ebe1",
   "metadata": {},
   "outputs": [
    {
     "name": "stdout",
     "output_type": "stream",
     "text": [
      "x = 100, y = [10, 20, 30], z = {'a': 1, 'b': 2}\n"
     ]
    }
   ],
   "source": [
    "print('x = {first}, y = {middle}, z = {last}'.format(first=x, middle=y, last=z))"
   ]
  },
  {
   "cell_type": "code",
   "execution_count": 104,
   "id": "2af779e9",
   "metadata": {},
   "outputs": [
    {
     "name": "stdout",
     "output_type": "stream",
     "text": [
      "Help on method_descriptor:\n",
      "\n",
      "format(...)\n",
      "    S.format(*args, **kwargs) -> str\n",
      "    \n",
      "    Return a formatted version of S, using substitutions from args and kwargs.\n",
      "    The substitutions are identified by braces ('{' and '}').\n",
      "\n"
     ]
    }
   ],
   "source": [
    "help(str.format)"
   ]
  },
  {
   "cell_type": "code",
   "execution_count": 105,
   "id": "0d364f9c",
   "metadata": {},
   "outputs": [
    {
     "name": "stdout",
     "output_type": "stream",
     "text": [
      "x = 100, y = [10, 20, 30], z = {'a': 1, 'b': 2}\n"
     ]
    }
   ],
   "source": [
    "print('x = {0}, y = {middle}, z = {last}'.format(x,    # positional\n",
    "                                                 middle=y, last=z))  # keyword"
   ]
  },
  {
   "cell_type": "code",
   "execution_count": 106,
   "id": "3d3463b6",
   "metadata": {},
   "outputs": [],
   "source": [
    "def hello(name):\n",
    "    return f'Hello, {name}!'"
   ]
  },
  {
   "cell_type": "code",
   "execution_count": 107,
   "id": "144675dd",
   "metadata": {},
   "outputs": [
    {
     "data": {
      "text/plain": [
       "'Hello, world!'"
      ]
     },
     "execution_count": 107,
     "metadata": {},
     "output_type": "execute_result"
    }
   ],
   "source": [
    "hello('world')"
   ]
  },
  {
   "cell_type": "code",
   "execution_count": 108,
   "id": "3116b637",
   "metadata": {},
   "outputs": [
    {
     "data": {
      "text/plain": [
       "'Hello, 5!'"
      ]
     },
     "execution_count": 108,
     "metadata": {},
     "output_type": "execute_result"
    }
   ],
   "source": [
    "hello(5)"
   ]
  },
  {
   "cell_type": "code",
   "execution_count": 109,
   "id": "b3bc2edf",
   "metadata": {},
   "outputs": [
    {
     "data": {
      "text/plain": [
       "'Hello, [10, 20, 30]!'"
      ]
     },
     "execution_count": 109,
     "metadata": {},
     "output_type": "execute_result"
    }
   ],
   "source": [
    "hello([10, 20, 30])"
   ]
  },
  {
   "cell_type": "code",
   "execution_count": 110,
   "id": "b8d6202f",
   "metadata": {},
   "outputs": [
    {
     "data": {
      "text/plain": [
       "'Hello, <function hello at 0x111b10820>!'"
      ]
     },
     "execution_count": 110,
     "metadata": {},
     "output_type": "execute_result"
    }
   ],
   "source": [
    "hello(hello)"
   ]
  },
  {
   "cell_type": "code",
   "execution_count": 111,
   "id": "3115904c",
   "metadata": {},
   "outputs": [],
   "source": [
    "def hello(name):\n",
    "    if isinstance(name, str):\n",
    "        return f'Hello, {name}!'\n",
    "    \n",
    "    raise TypeError(f'I wanted a string, not a {type(name)}')"
   ]
  },
  {
   "cell_type": "code",
   "execution_count": 112,
   "id": "1a1e5bb9",
   "metadata": {},
   "outputs": [
    {
     "data": {
      "text/plain": [
       "'Hello, world!'"
      ]
     },
     "execution_count": 112,
     "metadata": {},
     "output_type": "execute_result"
    }
   ],
   "source": [
    "hello('world')"
   ]
  },
  {
   "cell_type": "code",
   "execution_count": 113,
   "id": "9e1ffb30",
   "metadata": {},
   "outputs": [
    {
     "ename": "TypeError",
     "evalue": "I wanted a string, not a <class 'int'>",
     "output_type": "error",
     "traceback": [
      "\u001b[0;31m---------------------------------------------------------------------------\u001b[0m",
      "\u001b[0;31mTypeError\u001b[0m                                 Traceback (most recent call last)",
      "\u001b[0;32m/var/folders/rr/0mnyyv811fs5vyp22gf4fxk00000gn/T/ipykernel_12804/3544338049.py\u001b[0m in \u001b[0;36m<module>\u001b[0;34m\u001b[0m\n\u001b[0;32m----> 1\u001b[0;31m \u001b[0mhello\u001b[0m\u001b[0;34m(\u001b[0m\u001b[0;36m5\u001b[0m\u001b[0;34m)\u001b[0m\u001b[0;34m\u001b[0m\u001b[0;34m\u001b[0m\u001b[0m\n\u001b[0m",
      "\u001b[0;32m/var/folders/rr/0mnyyv811fs5vyp22gf4fxk00000gn/T/ipykernel_12804/2690579015.py\u001b[0m in \u001b[0;36mhello\u001b[0;34m(name)\u001b[0m\n\u001b[1;32m      3\u001b[0m         \u001b[0;32mreturn\u001b[0m \u001b[0;34mf'Hello, {name}!'\u001b[0m\u001b[0;34m\u001b[0m\u001b[0;34m\u001b[0m\u001b[0m\n\u001b[1;32m      4\u001b[0m \u001b[0;34m\u001b[0m\u001b[0m\n\u001b[0;32m----> 5\u001b[0;31m     \u001b[0;32mraise\u001b[0m \u001b[0mTypeError\u001b[0m\u001b[0;34m(\u001b[0m\u001b[0;34mf'I wanted a string, not a {type(name)}'\u001b[0m\u001b[0;34m)\u001b[0m\u001b[0;34m\u001b[0m\u001b[0;34m\u001b[0m\u001b[0m\n\u001b[0m",
      "\u001b[0;31mTypeError\u001b[0m: I wanted a string, not a <class 'int'>"
     ]
    }
   ],
   "source": [
    "hello(5)"
   ]
  },
  {
   "cell_type": "code",
   "execution_count": 120,
   "id": "fbf8bad5",
   "metadata": {},
   "outputs": [],
   "source": [
    "# type annotations / type hints\n",
    "\n",
    "def hello(name:str) -> str:\n",
    "    return f'Hello, {name}!'"
   ]
  },
  {
   "cell_type": "code",
   "execution_count": 121,
   "id": "b04fd695",
   "metadata": {},
   "outputs": [
    {
     "data": {
      "text/plain": [
       "'Hello, world!'"
      ]
     },
     "execution_count": 121,
     "metadata": {},
     "output_type": "execute_result"
    }
   ],
   "source": [
    "hello('world')"
   ]
  },
  {
   "cell_type": "code",
   "execution_count": 122,
   "id": "11f7a332",
   "metadata": {},
   "outputs": [
    {
     "data": {
      "text/plain": [
       "'Hello, 5!'"
      ]
     },
     "execution_count": 122,
     "metadata": {},
     "output_type": "execute_result"
    }
   ],
   "source": [
    "hello(5)"
   ]
  },
  {
   "cell_type": "code",
   "execution_count": 123,
   "id": "3ecf7b50",
   "metadata": {},
   "outputs": [
    {
     "data": {
      "text/plain": [
       "'Hello, [10, 20, 30]!'"
      ]
     },
     "execution_count": 123,
     "metadata": {},
     "output_type": "execute_result"
    }
   ],
   "source": [
    "hello([10, 20, 30])"
   ]
  },
  {
   "cell_type": "code",
   "execution_count": 124,
   "id": "34bc4811",
   "metadata": {},
   "outputs": [
    {
     "data": {
      "text/plain": [
       "'Hello, <function hello at 0x111d83ac0>!'"
      ]
     },
     "execution_count": 124,
     "metadata": {},
     "output_type": "execute_result"
    }
   ],
   "source": [
    "hello(hello)"
   ]
  },
  {
   "cell_type": "code",
   "execution_count": 125,
   "id": "971676af",
   "metadata": {},
   "outputs": [
    {
     "data": {
      "text/plain": [
       "{'name': str, 'return': str}"
      ]
     },
     "execution_count": 125,
     "metadata": {},
     "output_type": "execute_result"
    }
   ],
   "source": [
    "hello.__annotations__"
   ]
  },
  {
   "cell_type": "markdown",
   "id": "b07f9554",
   "metadata": {},
   "source": [
    "# Next up\n",
    "\n",
    "1. Scoping (LEGB)\n",
    "2. Inner functions and `nonlocal`\n",
    "\n",
    "Resume at 15:30"
   ]
  },
  {
   "cell_type": "code",
   "execution_count": 126,
   "id": "1428d564",
   "metadata": {},
   "outputs": [],
   "source": [
    "del(x)"
   ]
  },
  {
   "cell_type": "code",
   "execution_count": 127,
   "id": "25dc5a59",
   "metadata": {},
   "outputs": [
    {
     "ename": "NameError",
     "evalue": "name 'x' is not defined",
     "output_type": "error",
     "traceback": [
      "\u001b[0;31m---------------------------------------------------------------------------\u001b[0m",
      "\u001b[0;31mNameError\u001b[0m                                 Traceback (most recent call last)",
      "\u001b[0;32m/var/folders/rr/0mnyyv811fs5vyp22gf4fxk00000gn/T/ipykernel_12804/32546335.py\u001b[0m in \u001b[0;36m<module>\u001b[0;34m\u001b[0m\n\u001b[0;32m----> 1\u001b[0;31m \u001b[0mx\u001b[0m\u001b[0;34m\u001b[0m\u001b[0;34m\u001b[0m\u001b[0m\n\u001b[0m",
      "\u001b[0;31mNameError\u001b[0m: name 'x' is not defined"
     ]
    }
   ],
   "source": [
    "x"
   ]
  },
  {
   "cell_type": "code",
   "execution_count": 128,
   "id": "fdfa62ba",
   "metadata": {},
   "outputs": [
    {
     "name": "stdout",
     "output_type": "stream",
     "text": [
      "200\n"
     ]
    }
   ],
   "source": [
    "x = 100\n",
    "\n",
    "if True:\n",
    "    x = 200\n",
    "    \n",
    "print(x)"
   ]
  },
  {
   "cell_type": "code",
   "execution_count": 129,
   "id": "f9b8601d",
   "metadata": {},
   "outputs": [
    {
     "name": "stdout",
     "output_type": "stream",
     "text": [
      "81\n"
     ]
    }
   ],
   "source": [
    "x = 100\n",
    "\n",
    "for i in range(10):\n",
    "    x = i ** 2\n",
    "    \n",
    "print(x)    "
   ]
  },
  {
   "cell_type": "code",
   "execution_count": 130,
   "id": "8c7799cf",
   "metadata": {},
   "outputs": [
    {
     "name": "stdout",
     "output_type": "stream",
     "text": [
      "x = 100\n"
     ]
    }
   ],
   "source": [
    "x = 100\n",
    "\n",
    "print(f'x = {x}')"
   ]
  },
  {
   "cell_type": "markdown",
   "id": "397ed7e2",
   "metadata": {},
   "source": [
    "# Scopes in Python\n",
    "\n",
    "- `L` -- Local -- Start searching here if we're in a function body\n",
    "- `E` -- Enclosing\n",
    "- `G` -- Global -- Start searching here if we're *not* in a function body\n",
    "- `B` -- Builtin"
   ]
  },
  {
   "cell_type": "code",
   "execution_count": 131,
   "id": "4b02a177",
   "metadata": {},
   "outputs": [
    {
     "data": {
      "text/plain": [
       "True"
      ]
     },
     "execution_count": 131,
     "metadata": {},
     "output_type": "execute_result"
    }
   ],
   "source": [
    "'x' in globals()   # is x a global variable?"
   ]
  },
  {
   "cell_type": "code",
   "execution_count": 132,
   "id": "25ee4c54",
   "metadata": {},
   "outputs": [
    {
     "data": {
      "text/plain": [
       "100"
      ]
     },
     "execution_count": 132,
     "metadata": {},
     "output_type": "execute_result"
    }
   ],
   "source": [
    "globals()['x']   # what is the value of x?"
   ]
  },
  {
   "cell_type": "code",
   "execution_count": 133,
   "id": "1dad76e9",
   "metadata": {},
   "outputs": [
    {
     "name": "stdout",
     "output_type": "stream",
     "text": [
      "Before, x = 100\n",
      "In myfunc, x=100\n",
      "After, x = 100\n"
     ]
    }
   ],
   "source": [
    "x = 100\n",
    "\n",
    "def myfunc():\n",
    "    print(f'In myfunc, {x=}')  # is x local? NO. is x global? YES, 100\n",
    "    \n",
    "print(f'Before, x = {x}')  # is x global? YES, 100\n",
    "myfunc()\n",
    "print(f'After, x = {x}')   # is x global? YES, 100"
   ]
  },
  {
   "cell_type": "code",
   "execution_count": 134,
   "id": "63bb0b3b",
   "metadata": {},
   "outputs": [
    {
     "data": {
      "text/plain": [
       "False"
      ]
     },
     "execution_count": 134,
     "metadata": {},
     "output_type": "execute_result"
    }
   ],
   "source": [
    "'x' in myfunc.__code__.co_varnames"
   ]
  },
  {
   "cell_type": "code",
   "execution_count": 135,
   "id": "073922a1",
   "metadata": {},
   "outputs": [
    {
     "data": {
      "text/plain": [
       "()"
      ]
     },
     "execution_count": 135,
     "metadata": {},
     "output_type": "execute_result"
    }
   ],
   "source": [
    "myfunc.__code__.co_varnames"
   ]
  },
  {
   "cell_type": "code",
   "execution_count": 136,
   "id": "a4881157",
   "metadata": {},
   "outputs": [
    {
     "name": "stdout",
     "output_type": "stream",
     "text": [
      "Before, x = 100\n",
      "Hello!\n",
      "In myfunc, x=100\n",
      "After, x = 100\n"
     ]
    }
   ],
   "source": [
    "x = 100\n",
    "\n",
    "def hello():\n",
    "    print('Hello!')\n",
    "\n",
    "def myfunc():\n",
    "    hello()\n",
    "    print(f'In myfunc, {x=}') \n",
    "    \n",
    "print(f'Before, x = {x}')  \n",
    "myfunc()\n",
    "print(f'After, x = {x}')   "
   ]
  },
  {
   "cell_type": "code",
   "execution_count": 137,
   "id": "ab41790a",
   "metadata": {},
   "outputs": [
    {
     "name": "stdout",
     "output_type": "stream",
     "text": [
      "Before, x = 100\n",
      "In myfunc, x=200\n",
      "After, x = 100\n"
     ]
    }
   ],
   "source": [
    "x = 100\n",
    "\n",
    "def myfunc():\n",
    "    x = 200\n",
    "    print(f'In myfunc, {x=}')  # is x local? YES, 200\n",
    "    \n",
    "print(f'Before, x = {x}')  # is x global? YES, 100\n",
    "myfunc()\n",
    "print(f'After, x = {x}')   # is x global? YES, 100"
   ]
  },
  {
   "cell_type": "code",
   "execution_count": 138,
   "id": "67193f30",
   "metadata": {},
   "outputs": [
    {
     "data": {
      "text/plain": [
       "('x',)"
      ]
     },
     "execution_count": 138,
     "metadata": {},
     "output_type": "execute_result"
    }
   ],
   "source": [
    "myfunc.__code__.co_varnames"
   ]
  },
  {
   "cell_type": "code",
   "execution_count": 153,
   "id": "6a2877ef",
   "metadata": {},
   "outputs": [],
   "source": [
    "def myfunc():\n",
    "    s = 'x = 200'\n",
    "    exec(s, globals(), locals())\n",
    "    print(locals())\n",
    "    print(f'In myfunc, {x=}') # is x local? NO. is x global? YES, 100"
   ]
  },
  {
   "cell_type": "code",
   "execution_count": 154,
   "id": "647551b5",
   "metadata": {},
   "outputs": [
    {
     "data": {
      "text/plain": [
       "('s',)"
      ]
     },
     "execution_count": 154,
     "metadata": {},
     "output_type": "execute_result"
    }
   ],
   "source": [
    "myfunc.__code__.co_varnames"
   ]
  },
  {
   "cell_type": "code",
   "execution_count": 155,
   "id": "7c0f81ed",
   "metadata": {},
   "outputs": [
    {
     "name": "stdout",
     "output_type": "stream",
     "text": [
      "{'s': 'x = 200', 'x': 200}\n",
      "In myfunc, x=100\n"
     ]
    }
   ],
   "source": [
    "myfunc()"
   ]
  },
  {
   "cell_type": "code",
   "execution_count": 156,
   "id": "39bc322c",
   "metadata": {},
   "outputs": [
    {
     "name": "stdout",
     "output_type": "stream",
     "text": [
      "Help on built-in function exec in module builtins:\n",
      "\n",
      "exec(source, globals=None, locals=None, /)\n",
      "    Execute the given source in the context of globals and locals.\n",
      "    \n",
      "    The source may be a string representing one or more Python statements\n",
      "    or a code object as returned by compile().\n",
      "    The globals must be a dictionary and locals can be any mapping,\n",
      "    defaulting to the current globals and locals.\n",
      "    If only globals is given, locals defaults to it.\n",
      "\n"
     ]
    }
   ],
   "source": [
    "help(exec)"
   ]
  },
  {
   "cell_type": "code",
   "execution_count": 157,
   "id": "22578bf7",
   "metadata": {},
   "outputs": [],
   "source": [
    "def myfunc():\n",
    "    x = 10\n",
    "    y = 20\n",
    "    print(locals())\n",
    "    z = x + y\n",
    "    return z"
   ]
  },
  {
   "cell_type": "code",
   "execution_count": 158,
   "id": "5eb3bd23",
   "metadata": {},
   "outputs": [
    {
     "name": "stdout",
     "output_type": "stream",
     "text": [
      "{'x': 10, 'y': 20}\n"
     ]
    },
    {
     "data": {
      "text/plain": [
       "30"
      ]
     },
     "execution_count": 158,
     "metadata": {},
     "output_type": "execute_result"
    }
   ],
   "source": [
    "myfunc()"
   ]
  },
  {
   "cell_type": "code",
   "execution_count": 159,
   "id": "010018ac",
   "metadata": {},
   "outputs": [
    {
     "data": {
      "text/plain": [
       "('x', 'y', 'z')"
      ]
     },
     "execution_count": 159,
     "metadata": {},
     "output_type": "execute_result"
    }
   ],
   "source": [
    "myfunc.__code__.co_varnames"
   ]
  },
  {
   "cell_type": "code",
   "execution_count": 160,
   "id": "1913d78b",
   "metadata": {},
   "outputs": [
    {
     "name": "stdout",
     "output_type": "stream",
     "text": [
      "Before, x = 100\n"
     ]
    },
    {
     "ename": "UnboundLocalError",
     "evalue": "local variable 'x' referenced before assignment",
     "output_type": "error",
     "traceback": [
      "\u001b[0;31m---------------------------------------------------------------------------\u001b[0m",
      "\u001b[0;31mUnboundLocalError\u001b[0m                         Traceback (most recent call last)",
      "\u001b[0;32m/var/folders/rr/0mnyyv811fs5vyp22gf4fxk00000gn/T/ipykernel_12804/3762491054.py\u001b[0m in \u001b[0;36m<module>\u001b[0;34m\u001b[0m\n\u001b[1;32m      6\u001b[0m \u001b[0;34m\u001b[0m\u001b[0m\n\u001b[1;32m      7\u001b[0m \u001b[0mprint\u001b[0m\u001b[0;34m(\u001b[0m\u001b[0;34mf'Before, x = {x}'\u001b[0m\u001b[0;34m)\u001b[0m\u001b[0;34m\u001b[0m\u001b[0;34m\u001b[0m\u001b[0m\n\u001b[0;32m----> 8\u001b[0;31m \u001b[0mmyfunc\u001b[0m\u001b[0;34m(\u001b[0m\u001b[0;34m)\u001b[0m\u001b[0;34m\u001b[0m\u001b[0;34m\u001b[0m\u001b[0m\n\u001b[0m\u001b[1;32m      9\u001b[0m \u001b[0mprint\u001b[0m\u001b[0;34m(\u001b[0m\u001b[0;34mf'After, x = {x}'\u001b[0m\u001b[0;34m)\u001b[0m\u001b[0;34m\u001b[0m\u001b[0;34m\u001b[0m\u001b[0m\n",
      "\u001b[0;32m/var/folders/rr/0mnyyv811fs5vyp22gf4fxk00000gn/T/ipykernel_12804/3762491054.py\u001b[0m in \u001b[0;36mmyfunc\u001b[0;34m()\u001b[0m\n\u001b[1;32m      2\u001b[0m \u001b[0;34m\u001b[0m\u001b[0m\n\u001b[1;32m      3\u001b[0m \u001b[0;32mdef\u001b[0m \u001b[0mmyfunc\u001b[0m\u001b[0;34m(\u001b[0m\u001b[0;34m)\u001b[0m\u001b[0;34m:\u001b[0m\u001b[0;34m\u001b[0m\u001b[0;34m\u001b[0m\u001b[0m\n\u001b[0;32m----> 4\u001b[0;31m     \u001b[0mprint\u001b[0m\u001b[0;34m(\u001b[0m\u001b[0;34mf'In myfunc, {x=}'\u001b[0m\u001b[0;34m)\u001b[0m\u001b[0;34m\u001b[0m\u001b[0;34m\u001b[0m\u001b[0m\n\u001b[0m\u001b[1;32m      5\u001b[0m     \u001b[0mx\u001b[0m \u001b[0;34m=\u001b[0m \u001b[0;36m200\u001b[0m\u001b[0;34m\u001b[0m\u001b[0;34m\u001b[0m\u001b[0m\n\u001b[1;32m      6\u001b[0m \u001b[0;34m\u001b[0m\u001b[0m\n",
      "\u001b[0;31mUnboundLocalError\u001b[0m: local variable 'x' referenced before assignment"
     ]
    }
   ],
   "source": [
    "x = 100\n",
    "\n",
    "def myfunc():\n",
    "    print(f'In myfunc, {x=}')    # is x local?  YES....\n",
    "    x = 200   # hoisting problem\n",
    "    \n",
    "print(f'Before, x = {x}')  # is x global? YES, 100\n",
    "myfunc()\n",
    "print(f'After, x = {x}')   "
   ]
  },
  {
   "cell_type": "code",
   "execution_count": 161,
   "id": "c144eed0",
   "metadata": {},
   "outputs": [
    {
     "data": {
      "text/plain": [
       "('x',)"
      ]
     },
     "execution_count": 161,
     "metadata": {},
     "output_type": "execute_result"
    }
   ],
   "source": [
    "myfunc.__code__.co_varnames"
   ]
  },
  {
   "cell_type": "code",
   "execution_count": 162,
   "id": "7ccc8e9e",
   "metadata": {},
   "outputs": [
    {
     "name": "stdout",
     "output_type": "stream",
     "text": [
      "Before, x = 100\n"
     ]
    },
    {
     "ename": "UnboundLocalError",
     "evalue": "local variable 'x' referenced before assignment",
     "output_type": "error",
     "traceback": [
      "\u001b[0;31m---------------------------------------------------------------------------\u001b[0m",
      "\u001b[0;31mUnboundLocalError\u001b[0m                         Traceback (most recent call last)",
      "\u001b[0;32m/var/folders/rr/0mnyyv811fs5vyp22gf4fxk00000gn/T/ipykernel_12804/1058443838.py\u001b[0m in \u001b[0;36m<module>\u001b[0;34m\u001b[0m\n\u001b[1;32m      6\u001b[0m \u001b[0;34m\u001b[0m\u001b[0m\n\u001b[1;32m      7\u001b[0m \u001b[0mprint\u001b[0m\u001b[0;34m(\u001b[0m\u001b[0;34mf'Before, x = {x}'\u001b[0m\u001b[0;34m)\u001b[0m\u001b[0;34m\u001b[0m\u001b[0;34m\u001b[0m\u001b[0m\n\u001b[0;32m----> 8\u001b[0;31m \u001b[0mmyfunc\u001b[0m\u001b[0;34m(\u001b[0m\u001b[0;34m)\u001b[0m\u001b[0;34m\u001b[0m\u001b[0;34m\u001b[0m\u001b[0m\n\u001b[0m\u001b[1;32m      9\u001b[0m \u001b[0mprint\u001b[0m\u001b[0;34m(\u001b[0m\u001b[0;34mf'After, x = {x}'\u001b[0m\u001b[0;34m)\u001b[0m\u001b[0;34m\u001b[0m\u001b[0;34m\u001b[0m\u001b[0m\n",
      "\u001b[0;32m/var/folders/rr/0mnyyv811fs5vyp22gf4fxk00000gn/T/ipykernel_12804/1058443838.py\u001b[0m in \u001b[0;36mmyfunc\u001b[0;34m()\u001b[0m\n\u001b[1;32m      2\u001b[0m \u001b[0;34m\u001b[0m\u001b[0m\n\u001b[1;32m      3\u001b[0m \u001b[0;32mdef\u001b[0m \u001b[0mmyfunc\u001b[0m\u001b[0;34m(\u001b[0m\u001b[0;34m)\u001b[0m\u001b[0;34m:\u001b[0m\u001b[0;34m\u001b[0m\u001b[0;34m\u001b[0m\u001b[0m\n\u001b[0;32m----> 4\u001b[0;31m     \u001b[0mx\u001b[0m \u001b[0;34m+=\u001b[0m \u001b[0;36m1\u001b[0m\u001b[0;34m\u001b[0m\u001b[0;34m\u001b[0m\u001b[0m\n\u001b[0m\u001b[1;32m      5\u001b[0m     \u001b[0mprint\u001b[0m\u001b[0;34m(\u001b[0m\u001b[0;34mf'In myfunc, {x=}'\u001b[0m\u001b[0;34m)\u001b[0m\u001b[0;34m\u001b[0m\u001b[0;34m\u001b[0m\u001b[0m\n\u001b[1;32m      6\u001b[0m \u001b[0;34m\u001b[0m\u001b[0m\n",
      "\u001b[0;31mUnboundLocalError\u001b[0m: local variable 'x' referenced before assignment"
     ]
    }
   ],
   "source": [
    "x = 100\n",
    "\n",
    "def myfunc():\n",
    "    x += 1    # x = x + 1\n",
    "    print(f'In myfunc, {x=}')  \n",
    "    \n",
    "print(f'Before, x = {x}') \n",
    "myfunc()\n",
    "print(f'After, x = {x}')   "
   ]
  },
  {
   "cell_type": "code",
   "execution_count": 179,
   "id": "8ce8b59a",
   "metadata": {},
   "outputs": [
    {
     "name": "stdout",
     "output_type": "stream",
     "text": [
      "Before, x = 100\n",
      "In myfunc, x=200\n",
      "After, x = 200\n"
     ]
    }
   ],
   "source": [
    "# what if I want to change the global x?\n",
    "\n",
    "x = 100\n",
    "\n",
    "def myfunc():\n",
    "    global x   # declaration: don't write x as a local variable when compiling myfunc\n",
    "    x = 200    # there is no more local x!\n",
    "    print(f'In myfunc, {x=}')  \n",
    "    \n",
    "print(f'Before, x = {x}') \n",
    "myfunc()\n",
    "print(f'After, x = {x}')   "
   ]
  },
  {
   "cell_type": "code",
   "execution_count": 168,
   "id": "288f1096",
   "metadata": {},
   "outputs": [
    {
     "data": {
      "text/plain": [
       "()"
      ]
     },
     "execution_count": 168,
     "metadata": {},
     "output_type": "execute_result"
    }
   ],
   "source": [
    "myfunc.__code__.co_varnames"
   ]
  },
  {
   "cell_type": "code",
   "execution_count": 169,
   "id": "e68e34a2",
   "metadata": {},
   "outputs": [
    {
     "name": "stdout",
     "output_type": "stream",
     "text": [
      "  7           0 LOAD_CONST               1 (200)\n",
      "              2 STORE_GLOBAL             0 (x)\n",
      "\n",
      "  8           4 LOAD_GLOBAL              1 (print)\n",
      "              6 LOAD_CONST               2 ('In myfunc, x=')\n",
      "              8 LOAD_GLOBAL              0 (x)\n",
      "             10 FORMAT_VALUE             2 (repr)\n",
      "             12 BUILD_STRING             2\n",
      "             14 CALL_FUNCTION            1\n",
      "             16 POP_TOP\n",
      "             18 LOAD_CONST               0 (None)\n",
      "             20 RETURN_VALUE\n"
     ]
    }
   ],
   "source": [
    "dis.dis(myfunc)"
   ]
  },
  {
   "cell_type": "code",
   "execution_count": 174,
   "id": "4b213b81",
   "metadata": {},
   "outputs": [],
   "source": [
    "def myfunc():\n",
    "    global x\n",
    "    x = 100"
   ]
  },
  {
   "cell_type": "code",
   "execution_count": 175,
   "id": "e713880e",
   "metadata": {},
   "outputs": [
    {
     "name": "stdout",
     "output_type": "stream",
     "text": [
      "  3           0 LOAD_CONST               1 (100)\n",
      "              2 STORE_GLOBAL             0 (x)\n",
      "              4 LOAD_CONST               0 (None)\n",
      "              6 RETURN_VALUE\n"
     ]
    }
   ],
   "source": [
    "dis.dis(myfunc)"
   ]
  },
  {
   "cell_type": "code",
   "execution_count": 176,
   "id": "538dc71d",
   "metadata": {},
   "outputs": [],
   "source": [
    "def myfunc():\n",
    "    x = 100"
   ]
  },
  {
   "cell_type": "code",
   "execution_count": 177,
   "id": "34af83a6",
   "metadata": {},
   "outputs": [
    {
     "name": "stdout",
     "output_type": "stream",
     "text": [
      "  2           0 LOAD_CONST               1 (100)\n",
      "              2 STORE_FAST               0 (x)\n",
      "              4 LOAD_CONST               0 (None)\n",
      "              6 RETURN_VALUE\n"
     ]
    }
   ],
   "source": [
    "dis.dis(myfunc)"
   ]
  },
  {
   "cell_type": "code",
   "execution_count": 181,
   "id": "8650446c",
   "metadata": {},
   "outputs": [
    {
     "name": "stdout",
     "output_type": "stream",
     "text": [
      "Before, x = 100\n",
      "In myfunc, x=200\n",
      "After, x = 300\n"
     ]
    }
   ],
   "source": [
    "# what if I want to use both the global x and the local x?\n",
    "\n",
    "import __main__   # now __main__ is an alias to the global namespace\n",
    "x = 100\n",
    "\n",
    "def myfunc():\n",
    "    x = 200     # assign to local x\n",
    "    __main__.x = 300  # assign to global x\n",
    "    print(f'In myfunc, {x=}')  # local x\n",
    "    \n",
    "print(f'Before, x = {x}') \n",
    "myfunc()\n",
    "print(f'After, x = {x}')     # show the global x"
   ]
  },
  {
   "cell_type": "code",
   "execution_count": 182,
   "id": "a156a9ea",
   "metadata": {},
   "outputs": [
    {
     "data": {
      "text/plain": [
       "['ArithmeticError',\n",
       " 'AssertionError',\n",
       " 'AttributeError',\n",
       " 'BaseException',\n",
       " 'BlockingIOError',\n",
       " 'BrokenPipeError',\n",
       " 'BufferError',\n",
       " 'BytesWarning',\n",
       " 'ChildProcessError',\n",
       " 'ConnectionAbortedError',\n",
       " 'ConnectionError',\n",
       " 'ConnectionRefusedError',\n",
       " 'ConnectionResetError',\n",
       " 'DeprecationWarning',\n",
       " 'EOFError',\n",
       " 'Ellipsis',\n",
       " 'EncodingWarning',\n",
       " 'EnvironmentError',\n",
       " 'Exception',\n",
       " 'False',\n",
       " 'FileExistsError',\n",
       " 'FileNotFoundError',\n",
       " 'FloatingPointError',\n",
       " 'FutureWarning',\n",
       " 'GeneratorExit',\n",
       " 'IOError',\n",
       " 'ImportError',\n",
       " 'ImportWarning',\n",
       " 'IndentationError',\n",
       " 'IndexError',\n",
       " 'InterruptedError',\n",
       " 'IsADirectoryError',\n",
       " 'KeyError',\n",
       " 'KeyboardInterrupt',\n",
       " 'LookupError',\n",
       " 'MemoryError',\n",
       " 'ModuleNotFoundError',\n",
       " 'NameError',\n",
       " 'None',\n",
       " 'NotADirectoryError',\n",
       " 'NotImplemented',\n",
       " 'NotImplementedError',\n",
       " 'OSError',\n",
       " 'OverflowError',\n",
       " 'PendingDeprecationWarning',\n",
       " 'PermissionError',\n",
       " 'ProcessLookupError',\n",
       " 'RecursionError',\n",
       " 'ReferenceError',\n",
       " 'ResourceWarning',\n",
       " 'RuntimeError',\n",
       " 'RuntimeWarning',\n",
       " 'StopAsyncIteration',\n",
       " 'StopIteration',\n",
       " 'SyntaxError',\n",
       " 'SyntaxWarning',\n",
       " 'SystemError',\n",
       " 'SystemExit',\n",
       " 'TabError',\n",
       " 'TimeoutError',\n",
       " 'True',\n",
       " 'TypeError',\n",
       " 'UnboundLocalError',\n",
       " 'UnicodeDecodeError',\n",
       " 'UnicodeEncodeError',\n",
       " 'UnicodeError',\n",
       " 'UnicodeTranslateError',\n",
       " 'UnicodeWarning',\n",
       " 'UserWarning',\n",
       " 'ValueError',\n",
       " 'Warning',\n",
       " 'ZeroDivisionError',\n",
       " '__IPYTHON__',\n",
       " '__build_class__',\n",
       " '__debug__',\n",
       " '__doc__',\n",
       " '__import__',\n",
       " '__loader__',\n",
       " '__name__',\n",
       " '__package__',\n",
       " '__spec__',\n",
       " 'abs',\n",
       " 'aiter',\n",
       " 'all',\n",
       " 'anext',\n",
       " 'any',\n",
       " 'ascii',\n",
       " 'bin',\n",
       " 'bool',\n",
       " 'breakpoint',\n",
       " 'bytearray',\n",
       " 'bytes',\n",
       " 'callable',\n",
       " 'chr',\n",
       " 'classmethod',\n",
       " 'compile',\n",
       " 'complex',\n",
       " 'copyright',\n",
       " 'credits',\n",
       " 'delattr',\n",
       " 'dict',\n",
       " 'dir',\n",
       " 'display',\n",
       " 'divmod',\n",
       " 'enumerate',\n",
       " 'eval',\n",
       " 'exec',\n",
       " 'execfile',\n",
       " 'filter',\n",
       " 'float',\n",
       " 'format',\n",
       " 'frozenset',\n",
       " 'get_ipython',\n",
       " 'getattr',\n",
       " 'globals',\n",
       " 'hasattr',\n",
       " 'hash',\n",
       " 'help',\n",
       " 'hex',\n",
       " 'id',\n",
       " 'input',\n",
       " 'int',\n",
       " 'isinstance',\n",
       " 'issubclass',\n",
       " 'iter',\n",
       " 'len',\n",
       " 'license',\n",
       " 'list',\n",
       " 'locals',\n",
       " 'map',\n",
       " 'max',\n",
       " 'memoryview',\n",
       " 'min',\n",
       " 'next',\n",
       " 'object',\n",
       " 'oct',\n",
       " 'open',\n",
       " 'ord',\n",
       " 'pow',\n",
       " 'print',\n",
       " 'property',\n",
       " 'range',\n",
       " 'repr',\n",
       " 'reversed',\n",
       " 'round',\n",
       " 'runfile',\n",
       " 'set',\n",
       " 'setattr',\n",
       " 'slice',\n",
       " 'sorted',\n",
       " 'staticmethod',\n",
       " 'str',\n",
       " 'sum',\n",
       " 'super',\n",
       " 'tuple',\n",
       " 'type',\n",
       " 'vars',\n",
       " 'zip']"
      ]
     },
     "execution_count": 182,
     "metadata": {},
     "output_type": "execute_result"
    }
   ],
   "source": [
    "dir(__builtin__)"
   ]
  },
  {
   "cell_type": "code",
   "execution_count": 183,
   "id": "58585e2e",
   "metadata": {},
   "outputs": [
    {
     "data": {
      "text/plain": [
       "60"
      ]
     },
     "execution_count": 183,
     "metadata": {},
     "output_type": "execute_result"
    }
   ],
   "source": [
    "sum([10, 20, 30])  # local/global/builtin -- found in builtin!"
   ]
  },
  {
   "cell_type": "code",
   "execution_count": 184,
   "id": "fa8c53f9",
   "metadata": {},
   "outputs": [],
   "source": [
    "sum = 3      # defined a global"
   ]
  },
  {
   "cell_type": "code",
   "execution_count": 187,
   "id": "245d6e29",
   "metadata": {},
   "outputs": [
    {
     "ename": "TypeError",
     "evalue": "'int' object is not callable",
     "output_type": "error",
     "traceback": [
      "\u001b[0;31m---------------------------------------------------------------------------\u001b[0m",
      "\u001b[0;31mTypeError\u001b[0m                                 Traceback (most recent call last)",
      "\u001b[0;32m/var/folders/rr/0mnyyv811fs5vyp22gf4fxk00000gn/T/ipykernel_12804/2034234680.py\u001b[0m in \u001b[0;36m<module>\u001b[0;34m\u001b[0m\n\u001b[0;32m----> 1\u001b[0;31m \u001b[0msum\u001b[0m\u001b[0;34m(\u001b[0m\u001b[0;34m[\u001b[0m\u001b[0;36m10\u001b[0m\u001b[0;34m,\u001b[0m \u001b[0;36m20\u001b[0m\u001b[0;34m,\u001b[0m \u001b[0;36m30\u001b[0m\u001b[0;34m]\u001b[0m\u001b[0;34m)\u001b[0m \u001b[0;31m# local/global -- found in global!\u001b[0m\u001b[0;34m\u001b[0m\u001b[0;34m\u001b[0m\u001b[0m\n\u001b[0m",
      "\u001b[0;31mTypeError\u001b[0m: 'int' object is not callable"
     ]
    }
   ],
   "source": [
    "sum([10, 20, 30]) # local/global -- found in global!"
   ]
  },
  {
   "cell_type": "code",
   "execution_count": 188,
   "id": "3c2eaa6b",
   "metadata": {},
   "outputs": [],
   "source": [
    "del(sum)  # delete the global sum, thus getting to builtin "
   ]
  },
  {
   "cell_type": "code",
   "execution_count": 195,
   "id": "266a2255",
   "metadata": {},
   "outputs": [
    {
     "name": "stdout",
     "output_type": "stream",
     "text": [
      "globals()[\"x\"]=100, locals()[\"x\"]=200\n",
      "globals()[\"x\"]=100\n",
      "False\n"
     ]
    }
   ],
   "source": [
    "import __main__\n",
    "x = 100\n",
    "\n",
    "def myfunc():\n",
    "    x = 200\n",
    "    print(f'{globals()[\"x\"]=}, {locals()[\"x\"]=}')\n",
    "    del(x)  # erased the local x\n",
    "    print(f'{globals()[\"x\"]=}')\n",
    "    del(__main__.x)  # erased the global x\n",
    "    print(f'{\"x\" in globals()}')\n",
    "    \n",
    "myfunc()    "
   ]
  },
  {
   "cell_type": "code",
   "execution_count": 196,
   "id": "01cd2ba1",
   "metadata": {},
   "outputs": [],
   "source": [
    "def outer():\n",
    "    def inner():\n",
    "        return f'Hello from inner!'\n",
    "    return inner\n",
    "\n",
    "f = outer()"
   ]
  },
  {
   "cell_type": "code",
   "execution_count": 197,
   "id": "ed05d576",
   "metadata": {},
   "outputs": [
    {
     "data": {
      "text/plain": [
       "'Hello from inner!'"
      ]
     },
     "execution_count": 197,
     "metadata": {},
     "output_type": "execute_result"
    }
   ],
   "source": [
    "f()"
   ]
  },
  {
   "cell_type": "code",
   "execution_count": 198,
   "id": "89ddb931",
   "metadata": {},
   "outputs": [
    {
     "data": {
      "text/plain": [
       "function"
      ]
     },
     "execution_count": 198,
     "metadata": {},
     "output_type": "execute_result"
    }
   ],
   "source": [
    "type(f)"
   ]
  },
  {
   "cell_type": "code",
   "execution_count": 199,
   "id": "7e9ae903",
   "metadata": {},
   "outputs": [
    {
     "data": {
      "text/plain": [
       "('inner',)"
      ]
     },
     "execution_count": 199,
     "metadata": {},
     "output_type": "execute_result"
    }
   ],
   "source": [
    "outer.__code__.co_varnames"
   ]
  },
  {
   "cell_type": "code",
   "execution_count": 203,
   "id": "bd2e6e11",
   "metadata": {},
   "outputs": [],
   "source": [
    "def outer(x):\n",
    "    def inner(y):\n",
    "        return f'Hello from inner, {x=} and {y=}!'  # is x local? NO.  is x local in the enclosing function? YES, 10\n",
    "    return inner\n",
    "\n",
    "f = outer(10)"
   ]
  },
  {
   "cell_type": "code",
   "execution_count": 204,
   "id": "bbdb3e69",
   "metadata": {},
   "outputs": [
    {
     "data": {
      "text/plain": [
       "'Hello from inner, x=10 and y=5!'"
      ]
     },
     "execution_count": 204,
     "metadata": {},
     "output_type": "execute_result"
    }
   ],
   "source": [
    "f(5)"
   ]
  },
  {
   "cell_type": "code",
   "execution_count": 205,
   "id": "8b4c8fb3",
   "metadata": {},
   "outputs": [
    {
     "data": {
      "text/plain": [
       "'Hello from inner, x=10 and y=20!'"
      ]
     },
     "execution_count": 205,
     "metadata": {},
     "output_type": "execute_result"
    }
   ],
   "source": [
    "f(20)"
   ]
  },
  {
   "cell_type": "code",
   "execution_count": 207,
   "id": "4e6f7377",
   "metadata": {},
   "outputs": [
    {
     "data": {
      "text/plain": [
       "'Hello from inner, x=15 and y=7!'"
      ]
     },
     "execution_count": 207,
     "metadata": {},
     "output_type": "execute_result"
    }
   ],
   "source": [
    "g = outer(15)\n",
    "g(7)"
   ]
  },
  {
   "cell_type": "code",
   "execution_count": 208,
   "id": "c0a0ef55",
   "metadata": {},
   "outputs": [
    {
     "data": {
      "text/plain": [
       "'Hello from inner, x=15 and y=21!'"
      ]
     },
     "execution_count": 208,
     "metadata": {},
     "output_type": "execute_result"
    }
   ],
   "source": [
    "g(21)"
   ]
  },
  {
   "cell_type": "code",
   "execution_count": null,
   "id": "db6060f5",
   "metadata": {},
   "outputs": [],
   "source": []
  }
 ],
 "metadata": {
  "kernelspec": {
   "display_name": "Python 3 (ipykernel)",
   "language": "python",
   "name": "python3"
  },
  "language_info": {
   "codemirror_mode": {
    "name": "ipython",
    "version": 3
   },
   "file_extension": ".py",
   "mimetype": "text/x-python",
   "name": "python",
   "nbconvert_exporter": "python",
   "pygments_lexer": "ipython3",
   "version": "3.10.5"
  }
 },
 "nbformat": 4,
 "nbformat_minor": 5
}

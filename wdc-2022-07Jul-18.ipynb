{
 "cells": [
  {
   "cell_type": "markdown",
   "id": "2cf58033",
   "metadata": {},
   "source": [
    "# Agenda\n",
    "\n",
    "1. Parameters\n",
    "    - `**kwargs`\n",
    "    - Positional-only\n",
    "2. Scoping (LEGB)\n",
    "3. Inner functions and `nonlocal` and closures\n",
    "4. Type annotations"
   ]
  },
  {
   "cell_type": "markdown",
   "id": "fa4a64ad",
   "metadata": {},
   "source": [
    "# Parameters\n",
    "\n",
    "1. Mandatory parameters (can accept positional or keyword arguments)\n",
    "2. Optional parameters (can accept positional or keyword arguments), with default values in `__defaults__`\n",
    "3. `*args`\n",
    "4. Mandatory keyword-only parameters\n",
    "5. Optional keyword-only parameters"
   ]
  },
  {
   "cell_type": "code",
   "execution_count": 1,
   "id": "5e3078ae",
   "metadata": {},
   "outputs": [],
   "source": [
    "def myfunc(x, *args):\n",
    "    return f'{x=}, {args=}'"
   ]
  },
  {
   "cell_type": "code",
   "execution_count": 2,
   "id": "f3e14881",
   "metadata": {},
   "outputs": [
    {
     "data": {
      "text/plain": [
       "'x=10, args=(20, 30, 40, 50)'"
      ]
     },
     "execution_count": 2,
     "metadata": {},
     "output_type": "execute_result"
    }
   ],
   "source": [
    "myfunc(10, 20, 30, 40, 50)"
   ]
  },
  {
   "cell_type": "code",
   "execution_count": 3,
   "id": "f7b781ad",
   "metadata": {},
   "outputs": [
    {
     "ename": "TypeError",
     "evalue": "myfunc() got an unexpected keyword argument 'y'",
     "output_type": "error",
     "traceback": [
      "\u001b[0;31m---------------------------------------------------------------------------\u001b[0m",
      "\u001b[0;31mTypeError\u001b[0m                                 Traceback (most recent call last)",
      "\u001b[0;32m/var/folders/rr/0mnyyv811fs5vyp22gf4fxk00000gn/T/ipykernel_12804/3245467168.py\u001b[0m in \u001b[0;36m<module>\u001b[0;34m\u001b[0m\n\u001b[0;32m----> 1\u001b[0;31m \u001b[0mmyfunc\u001b[0m\u001b[0;34m(\u001b[0m\u001b[0mx\u001b[0m\u001b[0;34m=\u001b[0m\u001b[0;36m10\u001b[0m\u001b[0;34m,\u001b[0m \u001b[0my\u001b[0m\u001b[0;34m=\u001b[0m\u001b[0;36m20\u001b[0m\u001b[0;34m,\u001b[0m \u001b[0mz\u001b[0m\u001b[0;34m=\u001b[0m\u001b[0;36m30\u001b[0m\u001b[0;34m)\u001b[0m\u001b[0;34m\u001b[0m\u001b[0;34m\u001b[0m\u001b[0m\n\u001b[0m",
      "\u001b[0;31mTypeError\u001b[0m: myfunc() got an unexpected keyword argument 'y'"
     ]
    }
   ],
   "source": [
    "# parameters: x   args\n",
    "# arguments: 10\n",
    "\n",
    "myfunc(x=10, y=20, z=30)"
   ]
  },
  {
   "cell_type": "code",
   "execution_count": 7,
   "id": "976e6e56",
   "metadata": {},
   "outputs": [],
   "source": [
    "def myfunc(x, **kwargs):  # ** == all keyword arguments go into this dict;  kwargs == keyword arguments\n",
    "    return f'{x=}, {kwargs=}'"
   ]
  },
  {
   "cell_type": "code",
   "execution_count": 8,
   "id": "b7ba29b2",
   "metadata": {},
   "outputs": [
    {
     "data": {
      "text/plain": [
       "'x=10, kwargs={}'"
      ]
     },
     "execution_count": 8,
     "metadata": {},
     "output_type": "execute_result"
    }
   ],
   "source": [
    "myfunc(10)"
   ]
  },
  {
   "cell_type": "code",
   "execution_count": 9,
   "id": "2a428b97",
   "metadata": {},
   "outputs": [
    {
     "ename": "TypeError",
     "evalue": "myfunc() takes 1 positional argument but 3 were given",
     "output_type": "error",
     "traceback": [
      "\u001b[0;31m---------------------------------------------------------------------------\u001b[0m",
      "\u001b[0;31mTypeError\u001b[0m                                 Traceback (most recent call last)",
      "\u001b[0;32m/var/folders/rr/0mnyyv811fs5vyp22gf4fxk00000gn/T/ipykernel_12804/885864022.py\u001b[0m in \u001b[0;36m<module>\u001b[0;34m\u001b[0m\n\u001b[0;32m----> 1\u001b[0;31m \u001b[0mmyfunc\u001b[0m\u001b[0;34m(\u001b[0m\u001b[0;36m10\u001b[0m\u001b[0;34m,\u001b[0m \u001b[0;36m20\u001b[0m\u001b[0;34m,\u001b[0m \u001b[0;36m30\u001b[0m\u001b[0;34m)\u001b[0m\u001b[0;34m\u001b[0m\u001b[0;34m\u001b[0m\u001b[0m\n\u001b[0m",
      "\u001b[0;31mTypeError\u001b[0m: myfunc() takes 1 positional argument but 3 were given"
     ]
    }
   ],
   "source": [
    "myfunc(10, 20, 30)"
   ]
  },
  {
   "cell_type": "code",
   "execution_count": 10,
   "id": "b97fd287",
   "metadata": {},
   "outputs": [
    {
     "data": {
      "text/plain": [
       "\"x=10, kwargs={'y': 20, 'z': 30}\""
      ]
     },
     "execution_count": 10,
     "metadata": {},
     "output_type": "execute_result"
    }
   ],
   "source": [
    "myfunc(10, y=20, z=30)"
   ]
  },
  {
   "cell_type": "code",
   "execution_count": 11,
   "id": "1577a15c",
   "metadata": {},
   "outputs": [
    {
     "data": {
      "text/plain": [
       "\"x=10, kwargs={'k': 100, 'l': 200, 'm': 300}\""
      ]
     },
     "execution_count": 11,
     "metadata": {},
     "output_type": "execute_result"
    }
   ],
   "source": [
    "myfunc(10, k=100, l=200, m=300)"
   ]
  },
  {
   "cell_type": "code",
   "execution_count": 12,
   "id": "a9ac0efa",
   "metadata": {},
   "outputs": [],
   "source": [
    "def add_one(x=[]):\n",
    "    x.append(1)\n",
    "    return x"
   ]
  },
  {
   "cell_type": "code",
   "execution_count": 13,
   "id": "9461a2b9",
   "metadata": {},
   "outputs": [
    {
     "data": {
      "text/plain": [
       "([],)"
      ]
     },
     "execution_count": 13,
     "metadata": {},
     "output_type": "execute_result"
    }
   ],
   "source": [
    "add_one.__defaults__"
   ]
  },
  {
   "cell_type": "code",
   "execution_count": 15,
   "id": "939832ad",
   "metadata": {},
   "outputs": [
    {
     "data": {
      "text/plain": [
       "[1, 2, 3, 1]"
      ]
     },
     "execution_count": 15,
     "metadata": {},
     "output_type": "execute_result"
    }
   ],
   "source": [
    "# parameters: x\n",
    "# argument: [1,2,3]\n",
    "\n",
    "y = [1,2,3]\n",
    "add_one(y)"
   ]
  },
  {
   "cell_type": "code",
   "execution_count": 16,
   "id": "b2141bb3",
   "metadata": {},
   "outputs": [
    {
     "data": {
      "text/plain": [
       "[1, 2, 3, 1]"
      ]
     },
     "execution_count": 16,
     "metadata": {},
     "output_type": "execute_result"
    }
   ],
   "source": [
    "y"
   ]
  },
  {
   "cell_type": "code",
   "execution_count": null,
   "id": "17aa6a58",
   "metadata": {},
   "outputs": [],
   "source": [
    "# parameters: x\n",
    "# arguments: __defaults__[0]\n",
    "\n",
    "add_one()"
   ]
  },
  {
   "cell_type": "code",
   "execution_count": 17,
   "id": "c41dccb2",
   "metadata": {},
   "outputs": [],
   "source": [
    "def add_one(x=[2,4,6]):\n",
    "    x.append(1)\n",
    "    return x"
   ]
  },
  {
   "cell_type": "code",
   "execution_count": 18,
   "id": "1bbc5a50",
   "metadata": {},
   "outputs": [
    {
     "data": {
      "text/plain": [
       "[2, 4, 6, 1]"
      ]
     },
     "execution_count": 18,
     "metadata": {},
     "output_type": "execute_result"
    }
   ],
   "source": [
    "add_one()"
   ]
  },
  {
   "cell_type": "code",
   "execution_count": 19,
   "id": "cdb26053",
   "metadata": {},
   "outputs": [
    {
     "data": {
      "text/plain": [
       "[2, 4, 6, 1, 1]"
      ]
     },
     "execution_count": 19,
     "metadata": {},
     "output_type": "execute_result"
    }
   ],
   "source": [
    "add_one()"
   ]
  },
  {
   "cell_type": "code",
   "execution_count": 20,
   "id": "5e7b2367",
   "metadata": {},
   "outputs": [],
   "source": [
    "def write_config(filename, **kwargs):\n",
    "    with open(filename, 'w') as outfile:\n",
    "        for key, value in kwargs.items():\n",
    "            outfile.write(f'{key}:{value}\\n')"
   ]
  },
  {
   "cell_type": "code",
   "execution_count": 21,
   "id": "6657e6e3",
   "metadata": {},
   "outputs": [
    {
     "name": "stdout",
     "output_type": "stream",
     "text": [
      "linux-etc-passwd.txt  mini-access-log.txt  nums.txt  output.txt  shoe-data.txt\r\n"
     ]
    }
   ],
   "source": [
    "!ls *.txt"
   ]
  },
  {
   "cell_type": "code",
   "execution_count": 22,
   "id": "80d13060",
   "metadata": {},
   "outputs": [],
   "source": [
    "#                          keyword arguments -- dict\n",
    "write_config('myconf.txt', a=100, b=200, c=[10, 20, 30], d='whatever')"
   ]
  },
  {
   "cell_type": "code",
   "execution_count": 23,
   "id": "5a39096c",
   "metadata": {},
   "outputs": [
    {
     "name": "stdout",
     "output_type": "stream",
     "text": [
      "a:100\r\n",
      "b:200\r\n",
      "c:[10, 20, 30]\r\n",
      "d:whatever\r\n"
     ]
    }
   ],
   "source": [
    "!cat myconf.txt"
   ]
  },
  {
   "cell_type": "code",
   "execution_count": 24,
   "id": "c50b8e92",
   "metadata": {},
   "outputs": [],
   "source": [
    "def write_config(filename, sep=':', **kwargs):\n",
    "    with open(filename, 'w') as outfile:\n",
    "        for key, value in kwargs.items():\n",
    "            outfile.write(f'{key}{sep}{value}\\n')"
   ]
  },
  {
   "cell_type": "code",
   "execution_count": 25,
   "id": "cb9daec2",
   "metadata": {},
   "outputs": [],
   "source": [
    "# here, we use the default value of sep=':'\n",
    "write_config('myconf.txt', a=100, b=200, c=[10, 20, 30], d='whatever')"
   ]
  },
  {
   "cell_type": "code",
   "execution_count": 26,
   "id": "f5f70566",
   "metadata": {},
   "outputs": [
    {
     "name": "stdout",
     "output_type": "stream",
     "text": [
      "a:100\r\n",
      "b:200\r\n",
      "c:[10, 20, 30]\r\n",
      "d:whatever\r\n"
     ]
    }
   ],
   "source": [
    "!cat myconf.txt"
   ]
  },
  {
   "cell_type": "code",
   "execution_count": 27,
   "id": "5ffb1643",
   "metadata": {},
   "outputs": [],
   "source": [
    "# here, I pass sep='==', and we see == between keys and values\n",
    "write_config('myconf.txt', sep='==', a=100, b=200, c=[10, 20, 30], d='whatever')"
   ]
  },
  {
   "cell_type": "code",
   "execution_count": 28,
   "id": "912b39f1",
   "metadata": {},
   "outputs": [
    {
     "name": "stdout",
     "output_type": "stream",
     "text": [
      "a==100\r\n",
      "b==200\r\n",
      "c==[10, 20, 30]\r\n",
      "d==whatever\r\n"
     ]
    }
   ],
   "source": [
    "!cat myconf.txt"
   ]
  },
  {
   "cell_type": "code",
   "execution_count": 29,
   "id": "32cb306e",
   "metadata": {},
   "outputs": [],
   "source": [
    "# but sep isn't a keyword-only parameter -- it's a regular parameter with a default\n",
    "# so we don't need to provide it with a keyword argument\n",
    "write_config('myconf.txt', '==', a=100, b=200, c=[10, 20, 30], d='whatever')"
   ]
  },
  {
   "cell_type": "code",
   "execution_count": 30,
   "id": "90b52381",
   "metadata": {},
   "outputs": [
    {
     "name": "stdout",
     "output_type": "stream",
     "text": [
      "a==100\r\n",
      "b==200\r\n",
      "c==[10, 20, 30]\r\n",
      "d==whatever\r\n"
     ]
    }
   ],
   "source": [
    "!cat myconf.txt"
   ]
  },
  {
   "cell_type": "code",
   "execution_count": 31,
   "id": "1af34c8f",
   "metadata": {},
   "outputs": [
    {
     "ename": "TypeError",
     "evalue": "write_config() got multiple values for argument 'sep'",
     "output_type": "error",
     "traceback": [
      "\u001b[0;31m---------------------------------------------------------------------------\u001b[0m",
      "\u001b[0;31mTypeError\u001b[0m                                 Traceback (most recent call last)",
      "\u001b[0;32m/var/folders/rr/0mnyyv811fs5vyp22gf4fxk00000gn/T/ipykernel_12804/2551367819.py\u001b[0m in \u001b[0;36m<module>\u001b[0;34m\u001b[0m\n\u001b[0;32m----> 1\u001b[0;31m \u001b[0mwrite_config\u001b[0m\u001b[0;34m(\u001b[0m\u001b[0;34m'myconf.txt'\u001b[0m\u001b[0;34m,\u001b[0m \u001b[0;34m'=='\u001b[0m\u001b[0;34m,\u001b[0m \u001b[0ma\u001b[0m\u001b[0;34m=\u001b[0m\u001b[0;36m100\u001b[0m\u001b[0;34m,\u001b[0m \u001b[0mb\u001b[0m\u001b[0;34m=\u001b[0m\u001b[0;36m200\u001b[0m\u001b[0;34m,\u001b[0m \u001b[0mc\u001b[0m\u001b[0;34m=\u001b[0m\u001b[0;34m[\u001b[0m\u001b[0;36m10\u001b[0m\u001b[0;34m,\u001b[0m \u001b[0;36m20\u001b[0m\u001b[0;34m,\u001b[0m \u001b[0;36m30\u001b[0m\u001b[0;34m]\u001b[0m\u001b[0;34m,\u001b[0m \u001b[0md\u001b[0m\u001b[0;34m=\u001b[0m\u001b[0;34m'whatever'\u001b[0m\u001b[0;34m,\u001b[0m \u001b[0msep\u001b[0m\u001b[0;34m=\u001b[0m\u001b[0;34m'**'\u001b[0m\u001b[0;34m)\u001b[0m\u001b[0;34m\u001b[0m\u001b[0;34m\u001b[0m\u001b[0m\n\u001b[0m",
      "\u001b[0;31mTypeError\u001b[0m: write_config() got multiple values for argument 'sep'"
     ]
    }
   ],
   "source": [
    "# we cannot pass sep twice, once positional and once keyword\n",
    "write_config('myconf.txt', '==', a=100, b=200, c=[10, 20, 30], d='whatever', sep='**')"
   ]
  },
  {
   "cell_type": "code",
   "execution_count": 32,
   "id": "a8ff52db",
   "metadata": {},
   "outputs": [],
   "source": [
    "# * by itself means: after here, all parameters are keyword only\n",
    "\n",
    "def write_config(filename, *, sep=':', **kwargs):\n",
    "    with open(filename, 'w') as outfile:\n",
    "        for key, value in kwargs.items():\n",
    "            outfile.write(f'{key}{sep}{value}\\n')"
   ]
  },
  {
   "cell_type": "code",
   "execution_count": 34,
   "id": "667c071e",
   "metadata": {},
   "outputs": [],
   "source": [
    "# sep is now keyword only\n",
    "write_config('myconf.txt', sep='==', a=100, b=200)"
   ]
  },
  {
   "cell_type": "code",
   "execution_count": null,
   "id": "1b75ce7d",
   "metadata": {},
   "outputs": [],
   "source": []
  }
 ],
 "metadata": {
  "kernelspec": {
   "display_name": "Python 3 (ipykernel)",
   "language": "python",
   "name": "python3"
  },
  "language_info": {
   "codemirror_mode": {
    "name": "ipython",
    "version": 3
   },
   "file_extension": ".py",
   "mimetype": "text/x-python",
   "name": "python",
   "nbconvert_exporter": "python",
   "pygments_lexer": "ipython3",
   "version": "3.10.5"
  }
 },
 "nbformat": 4,
 "nbformat_minor": 5
}

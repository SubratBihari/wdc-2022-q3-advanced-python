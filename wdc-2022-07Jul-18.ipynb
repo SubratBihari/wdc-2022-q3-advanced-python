{
 "cells": [
  {
   "cell_type": "markdown",
   "id": "2cf58033",
   "metadata": {},
   "source": [
    "# Agenda\n",
    "\n",
    "1. Parameters\n",
    "    - `**kwargs`\n",
    "    - Positional-only\n",
    "2. Scoping (LEGB)\n",
    "3. Inner functions and `nonlocal` and closures\n",
    "4. Type annotations"
   ]
  },
  {
   "cell_type": "markdown",
   "id": "fa4a64ad",
   "metadata": {},
   "source": [
    "# Parameters\n",
    "\n",
    "1. Mandatory parameters (can accept positional or keyword arguments)\n",
    "2. Optional parameters (can accept positional or keyword arguments), with default values in `__defaults__`\n",
    "3. `*args`\n",
    "4. Mandatory keyword-only parameters\n",
    "5. Optional keyword-only parameters"
   ]
  },
  {
   "cell_type": "code",
   "execution_count": 1,
   "id": "229b083c",
   "metadata": {},
   "outputs": [],
   "source": [
    "def myfunc(x, *args):\n",
    "    return f'{x=}, {args=}'"
   ]
  },
  {
   "cell_type": "code",
   "execution_count": 2,
   "id": "f93cad14",
   "metadata": {},
   "outputs": [
    {
     "data": {
      "text/plain": [
       "'x=10, args=(20, 30, 40, 50)'"
      ]
     },
     "execution_count": 2,
     "metadata": {},
     "output_type": "execute_result"
    }
   ],
   "source": [
    "myfunc(10, 20, 30, 40, 50)"
   ]
  },
  {
   "cell_type": "code",
   "execution_count": 3,
   "id": "75fba8e0",
   "metadata": {},
   "outputs": [
    {
     "ename": "TypeError",
     "evalue": "myfunc() got an unexpected keyword argument 'y'",
     "output_type": "error",
     "traceback": [
      "\u001b[0;31m---------------------------------------------------------------------------\u001b[0m",
      "\u001b[0;31mTypeError\u001b[0m                                 Traceback (most recent call last)",
      "\u001b[0;32m/var/folders/rr/0mnyyv811fs5vyp22gf4fxk00000gn/T/ipykernel_12804/3245467168.py\u001b[0m in \u001b[0;36m<module>\u001b[0;34m\u001b[0m\n\u001b[0;32m----> 1\u001b[0;31m \u001b[0mmyfunc\u001b[0m\u001b[0;34m(\u001b[0m\u001b[0mx\u001b[0m\u001b[0;34m=\u001b[0m\u001b[0;36m10\u001b[0m\u001b[0;34m,\u001b[0m \u001b[0my\u001b[0m\u001b[0;34m=\u001b[0m\u001b[0;36m20\u001b[0m\u001b[0;34m,\u001b[0m \u001b[0mz\u001b[0m\u001b[0;34m=\u001b[0m\u001b[0;36m30\u001b[0m\u001b[0;34m)\u001b[0m\u001b[0;34m\u001b[0m\u001b[0;34m\u001b[0m\u001b[0m\n\u001b[0m",
      "\u001b[0;31mTypeError\u001b[0m: myfunc() got an unexpected keyword argument 'y'"
     ]
    }
   ],
   "source": [
    "# parameters: x   args\n",
    "# arguments: 10\n",
    "\n",
    "myfunc(x=10, y=20, z=30)"
   ]
  },
  {
   "cell_type": "code",
   "execution_count": 7,
   "id": "31c64276",
   "metadata": {},
   "outputs": [],
   "source": [
    "def myfunc(x, **kwargs):  # ** == all keyword arguments go into this dict;  kwargs == keyword arguments\n",
    "    return f'{x=}, {kwargs=}'"
   ]
  },
  {
   "cell_type": "code",
   "execution_count": 8,
   "id": "64f275ea",
   "metadata": {},
   "outputs": [
    {
     "data": {
      "text/plain": [
       "'x=10, kwargs={}'"
      ]
     },
     "execution_count": 8,
     "metadata": {},
     "output_type": "execute_result"
    }
   ],
   "source": [
    "myfunc(10)"
   ]
  },
  {
   "cell_type": "code",
   "execution_count": 9,
   "id": "89e9a419",
   "metadata": {},
   "outputs": [
    {
     "ename": "TypeError",
     "evalue": "myfunc() takes 1 positional argument but 3 were given",
     "output_type": "error",
     "traceback": [
      "\u001b[0;31m---------------------------------------------------------------------------\u001b[0m",
      "\u001b[0;31mTypeError\u001b[0m                                 Traceback (most recent call last)",
      "\u001b[0;32m/var/folders/rr/0mnyyv811fs5vyp22gf4fxk00000gn/T/ipykernel_12804/885864022.py\u001b[0m in \u001b[0;36m<module>\u001b[0;34m\u001b[0m\n\u001b[0;32m----> 1\u001b[0;31m \u001b[0mmyfunc\u001b[0m\u001b[0;34m(\u001b[0m\u001b[0;36m10\u001b[0m\u001b[0;34m,\u001b[0m \u001b[0;36m20\u001b[0m\u001b[0;34m,\u001b[0m \u001b[0;36m30\u001b[0m\u001b[0;34m)\u001b[0m\u001b[0;34m\u001b[0m\u001b[0;34m\u001b[0m\u001b[0m\n\u001b[0m",
      "\u001b[0;31mTypeError\u001b[0m: myfunc() takes 1 positional argument but 3 were given"
     ]
    }
   ],
   "source": [
    "myfunc(10, 20, 30)"
   ]
  },
  {
   "cell_type": "code",
   "execution_count": 10,
   "id": "770994a4",
   "metadata": {},
   "outputs": [
    {
     "data": {
      "text/plain": [
       "\"x=10, kwargs={'y': 20, 'z': 30}\""
      ]
     },
     "execution_count": 10,
     "metadata": {},
     "output_type": "execute_result"
    }
   ],
   "source": [
    "myfunc(10, y=20, z=30)"
   ]
  },
  {
   "cell_type": "code",
   "execution_count": 11,
   "id": "68501e24",
   "metadata": {},
   "outputs": [
    {
     "data": {
      "text/plain": [
       "\"x=10, kwargs={'k': 100, 'l': 200, 'm': 300}\""
      ]
     },
     "execution_count": 11,
     "metadata": {},
     "output_type": "execute_result"
    }
   ],
   "source": [
    "myfunc(10, k=100, l=200, m=300)"
   ]
  },
  {
   "cell_type": "code",
   "execution_count": 12,
   "id": "5192d657",
   "metadata": {},
   "outputs": [],
   "source": [
    "def add_one(x=[]):\n",
    "    x.append(1)\n",
    "    return x"
   ]
  },
  {
   "cell_type": "code",
   "execution_count": 13,
   "id": "b695abc9",
   "metadata": {},
   "outputs": [
    {
     "data": {
      "text/plain": [
       "([],)"
      ]
     },
     "execution_count": 13,
     "metadata": {},
     "output_type": "execute_result"
    }
   ],
   "source": [
    "add_one.__defaults__"
   ]
  },
  {
   "cell_type": "code",
   "execution_count": 15,
   "id": "a00d3c38",
   "metadata": {},
   "outputs": [
    {
     "data": {
      "text/plain": [
       "[1, 2, 3, 1]"
      ]
     },
     "execution_count": 15,
     "metadata": {},
     "output_type": "execute_result"
    }
   ],
   "source": [
    "# parameters: x\n",
    "# argument: [1,2,3]\n",
    "\n",
    "y = [1,2,3]\n",
    "add_one(y)"
   ]
  },
  {
   "cell_type": "code",
   "execution_count": 16,
   "id": "7911332d",
   "metadata": {},
   "outputs": [
    {
     "data": {
      "text/plain": [
       "[1, 2, 3, 1]"
      ]
     },
     "execution_count": 16,
     "metadata": {},
     "output_type": "execute_result"
    }
   ],
   "source": [
    "y"
   ]
  },
  {
   "cell_type": "code",
   "execution_count": null,
   "id": "6a753fd0",
   "metadata": {},
   "outputs": [],
   "source": [
    "# parameters: x\n",
    "# arguments: __defaults__[0]\n",
    "\n",
    "add_one()"
   ]
  },
  {
   "cell_type": "code",
   "execution_count": 17,
   "id": "b7da9a31",
   "metadata": {},
   "outputs": [],
   "source": [
    "def add_one(x=[2,4,6]):\n",
    "    x.append(1)\n",
    "    return x"
   ]
  },
  {
   "cell_type": "code",
   "execution_count": 18,
   "id": "fbaae981",
   "metadata": {},
   "outputs": [
    {
     "data": {
      "text/plain": [
       "[2, 4, 6, 1]"
      ]
     },
     "execution_count": 18,
     "metadata": {},
     "output_type": "execute_result"
    }
   ],
   "source": [
    "add_one()"
   ]
  },
  {
   "cell_type": "code",
   "execution_count": 19,
   "id": "67803366",
   "metadata": {},
   "outputs": [
    {
     "data": {
      "text/plain": [
       "[2, 4, 6, 1, 1]"
      ]
     },
     "execution_count": 19,
     "metadata": {},
     "output_type": "execute_result"
    }
   ],
   "source": [
    "add_one()"
   ]
  },
  {
   "cell_type": "code",
   "execution_count": 20,
   "id": "5b8544c7",
   "metadata": {},
   "outputs": [],
   "source": [
    "def write_config(filename, **kwargs):\n",
    "    with open(filename, 'w') as outfile:\n",
    "        for key, value in kwargs.items():\n",
    "            outfile.write(f'{key}:{value}\\n')"
   ]
  },
  {
   "cell_type": "code",
   "execution_count": 21,
   "id": "ca1e44b6",
   "metadata": {},
   "outputs": [
    {
     "name": "stdout",
     "output_type": "stream",
     "text": [
      "linux-etc-passwd.txt  mini-access-log.txt  nums.txt  output.txt  shoe-data.txt\r\n"
     ]
    }
   ],
   "source": [
    "!ls *.txt"
   ]
  },
  {
   "cell_type": "code",
   "execution_count": 22,
   "id": "cae8b139",
   "metadata": {},
   "outputs": [],
   "source": [
    "#                          keyword arguments -- dict\n",
    "write_config('myconf.txt', a=100, b=200, c=[10, 20, 30], d='whatever')"
   ]
  },
  {
   "cell_type": "code",
   "execution_count": 23,
   "id": "e7c611fa",
   "metadata": {},
   "outputs": [
    {
     "name": "stdout",
     "output_type": "stream",
     "text": [
      "a:100\r\n",
      "b:200\r\n",
      "c:[10, 20, 30]\r\n",
      "d:whatever\r\n"
     ]
    }
   ],
   "source": [
    "!cat myconf.txt"
   ]
  },
  {
   "cell_type": "code",
   "execution_count": 24,
   "id": "f9c611f5",
   "metadata": {},
   "outputs": [],
   "source": [
    "def write_config(filename, sep=':', **kwargs):\n",
    "    with open(filename, 'w') as outfile:\n",
    "        for key, value in kwargs.items():\n",
    "            outfile.write(f'{key}{sep}{value}\\n')"
   ]
  },
  {
   "cell_type": "code",
   "execution_count": 25,
   "id": "dd7c26ee",
   "metadata": {},
   "outputs": [],
   "source": [
    "# here, we use the default value of sep=':'\n",
    "write_config('myconf.txt', a=100, b=200, c=[10, 20, 30], d='whatever')"
   ]
  },
  {
   "cell_type": "code",
   "execution_count": 26,
   "id": "4066e67d",
   "metadata": {},
   "outputs": [
    {
     "name": "stdout",
     "output_type": "stream",
     "text": [
      "a:100\r\n",
      "b:200\r\n",
      "c:[10, 20, 30]\r\n",
      "d:whatever\r\n"
     ]
    }
   ],
   "source": [
    "!cat myconf.txt"
   ]
  },
  {
   "cell_type": "code",
   "execution_count": 27,
   "id": "b98923fa",
   "metadata": {},
   "outputs": [],
   "source": [
    "# here, I pass sep='==', and we see == between keys and values\n",
    "write_config('myconf.txt', sep='==', a=100, b=200, c=[10, 20, 30], d='whatever')"
   ]
  },
  {
   "cell_type": "code",
   "execution_count": 28,
   "id": "f96ef5ad",
   "metadata": {},
   "outputs": [
    {
     "name": "stdout",
     "output_type": "stream",
     "text": [
      "a==100\r\n",
      "b==200\r\n",
      "c==[10, 20, 30]\r\n",
      "d==whatever\r\n"
     ]
    }
   ],
   "source": [
    "!cat myconf.txt"
   ]
  },
  {
   "cell_type": "code",
   "execution_count": 29,
   "id": "599ef39e",
   "metadata": {},
   "outputs": [],
   "source": [
    "# but sep isn't a keyword-only parameter -- it's a regular parameter with a default\n",
    "# so we don't need to provide it with a keyword argument\n",
    "write_config('myconf.txt', '==', a=100, b=200, c=[10, 20, 30], d='whatever')"
   ]
  },
  {
   "cell_type": "code",
   "execution_count": 30,
   "id": "353ecb92",
   "metadata": {},
   "outputs": [
    {
     "name": "stdout",
     "output_type": "stream",
     "text": [
      "a==100\r\n",
      "b==200\r\n",
      "c==[10, 20, 30]\r\n",
      "d==whatever\r\n"
     ]
    }
   ],
   "source": [
    "!cat myconf.txt"
   ]
  },
  {
   "cell_type": "code",
   "execution_count": 31,
   "id": "7fdca2bb",
   "metadata": {},
   "outputs": [
    {
     "ename": "TypeError",
     "evalue": "write_config() got multiple values for argument 'sep'",
     "output_type": "error",
     "traceback": [
      "\u001b[0;31m---------------------------------------------------------------------------\u001b[0m",
      "\u001b[0;31mTypeError\u001b[0m                                 Traceback (most recent call last)",
      "\u001b[0;32m/var/folders/rr/0mnyyv811fs5vyp22gf4fxk00000gn/T/ipykernel_12804/2551367819.py\u001b[0m in \u001b[0;36m<module>\u001b[0;34m\u001b[0m\n\u001b[0;32m----> 1\u001b[0;31m \u001b[0mwrite_config\u001b[0m\u001b[0;34m(\u001b[0m\u001b[0;34m'myconf.txt'\u001b[0m\u001b[0;34m,\u001b[0m \u001b[0;34m'=='\u001b[0m\u001b[0;34m,\u001b[0m \u001b[0ma\u001b[0m\u001b[0;34m=\u001b[0m\u001b[0;36m100\u001b[0m\u001b[0;34m,\u001b[0m \u001b[0mb\u001b[0m\u001b[0;34m=\u001b[0m\u001b[0;36m200\u001b[0m\u001b[0;34m,\u001b[0m \u001b[0mc\u001b[0m\u001b[0;34m=\u001b[0m\u001b[0;34m[\u001b[0m\u001b[0;36m10\u001b[0m\u001b[0;34m,\u001b[0m \u001b[0;36m20\u001b[0m\u001b[0;34m,\u001b[0m \u001b[0;36m30\u001b[0m\u001b[0;34m]\u001b[0m\u001b[0;34m,\u001b[0m \u001b[0md\u001b[0m\u001b[0;34m=\u001b[0m\u001b[0;34m'whatever'\u001b[0m\u001b[0;34m,\u001b[0m \u001b[0msep\u001b[0m\u001b[0;34m=\u001b[0m\u001b[0;34m'**'\u001b[0m\u001b[0;34m)\u001b[0m\u001b[0;34m\u001b[0m\u001b[0;34m\u001b[0m\u001b[0m\n\u001b[0m",
      "\u001b[0;31mTypeError\u001b[0m: write_config() got multiple values for argument 'sep'"
     ]
    }
   ],
   "source": [
    "# we cannot pass sep twice, once positional and once keyword\n",
    "write_config('myconf.txt', '==', a=100, b=200, c=[10, 20, 30], d='whatever', sep='**')"
   ]
  },
  {
   "cell_type": "code",
   "execution_count": 32,
   "id": "c9f80ca2",
   "metadata": {},
   "outputs": [],
   "source": [
    "# * by itself means: after here, all parameters are keyword only\n",
    "\n",
    "def write_config(filename, *, sep=':', **kwargs):\n",
    "    with open(filename, 'w') as outfile:\n",
    "        for key, value in kwargs.items():\n",
    "            outfile.write(f'{key}{sep}{value}\\n')"
   ]
  },
  {
   "cell_type": "code",
   "execution_count": 34,
   "id": "6cb28607",
   "metadata": {},
   "outputs": [],
   "source": [
    "# sep is now keyword only\n",
    "write_config('myconf.txt', sep='==', a=100, b=200)"
   ]
  },
  {
   "cell_type": "code",
   "execution_count": 35,
   "id": "e376a114",
   "metadata": {},
   "outputs": [
    {
     "ename": "TypeError",
     "evalue": "write_config() takes 1 positional argument but 5 positional arguments (and 1 keyword-only argument) were given",
     "output_type": "error",
     "traceback": [
      "\u001b[0;31m---------------------------------------------------------------------------\u001b[0m",
      "\u001b[0;31mTypeError\u001b[0m                                 Traceback (most recent call last)",
      "\u001b[0;32m/var/folders/rr/0mnyyv811fs5vyp22gf4fxk00000gn/T/ipykernel_12804/2456528214.py\u001b[0m in \u001b[0;36m<module>\u001b[0;34m\u001b[0m\n\u001b[0;32m----> 1\u001b[0;31m \u001b[0mwrite_config\u001b[0m\u001b[0;34m(\u001b[0m\u001b[0;34m'myconf.txt'\u001b[0m\u001b[0;34m,\u001b[0m \u001b[0;36m1\u001b[0m\u001b[0;34m,\u001b[0m\u001b[0;36m2\u001b[0m\u001b[0;34m,\u001b[0m\u001b[0;36m3\u001b[0m\u001b[0;34m,\u001b[0m\u001b[0;36m4\u001b[0m\u001b[0;34m,\u001b[0m \u001b[0msep\u001b[0m\u001b[0;34m=\u001b[0m\u001b[0;34m'=='\u001b[0m\u001b[0;34m,\u001b[0m \u001b[0ma\u001b[0m\u001b[0;34m=\u001b[0m\u001b[0;36m100\u001b[0m\u001b[0;34m)\u001b[0m\u001b[0;34m\u001b[0m\u001b[0;34m\u001b[0m\u001b[0m\n\u001b[0m",
      "\u001b[0;31mTypeError\u001b[0m: write_config() takes 1 positional argument but 5 positional arguments (and 1 keyword-only argument) were given"
     ]
    }
   ],
   "source": [
    "write_config('myconf.txt', 1,2,3,4, sep='==', a=100)"
   ]
  },
  {
   "cell_type": "code",
   "execution_count": null,
   "id": "0b9cd7d9",
   "metadata": {},
   "outputs": [],
   "source": []
  },
  {
   "cell_type": "markdown",
   "id": "edbccd1b",
   "metadata": {},
   "source": [
    "# Parameters\n",
    "\n",
    "1. Mandatory parameters (can accept positional or keyword arguments)\n",
    "2. Optional parameters (can accept positional or keyword arguments), with default values in `__defaults__`\n",
    "3. `*args` (tuple with remaining positional arguments -- or `*` if there is no `*args`)\n",
    "4. Mandatory keyword-only parameters\n",
    "5. Optional keyword-only parameters (with a default argument value)\n",
    "6. `**kwargs` (dict with remaining keyword arguments)"
   ]
  },
  {
   "cell_type": "code",
   "execution_count": 36,
   "id": "ba4c58c8",
   "metadata": {},
   "outputs": [],
   "source": [
    "def myfunc(a, *, b):\n",
    "    return f'{a=}, {b=}'"
   ]
  },
  {
   "cell_type": "code",
   "execution_count": 39,
   "id": "7a2dae1b",
   "metadata": {},
   "outputs": [
    {
     "data": {
      "text/plain": [
       "'a=10, b=20'"
      ]
     },
     "execution_count": 39,
     "metadata": {},
     "output_type": "execute_result"
    }
   ],
   "source": [
    "myfunc(10, b=20)   # b is mandatory keyword-only"
   ]
  },
  {
   "cell_type": "code",
   "execution_count": 42,
   "id": "8e10a539",
   "metadata": {},
   "outputs": [],
   "source": [
    "def myfunc(a, *, b=999):    # Optional keyword-only parameter (with default argument)\n",
    "    return f'{a=}, {b=}'"
   ]
  },
  {
   "cell_type": "code",
   "execution_count": 43,
   "id": "f36232c9",
   "metadata": {},
   "outputs": [
    {
     "data": {
      "text/plain": [
       "'a=10, b=999'"
      ]
     },
     "execution_count": 43,
     "metadata": {},
     "output_type": "execute_result"
    }
   ],
   "source": [
    "myfunc(10)"
   ]
  },
  {
   "cell_type": "markdown",
   "id": "d12d9d08",
   "metadata": {},
   "source": [
    "# Exercise: XML\n",
    "\n",
    "1. Write a function, `xml`, that returns a string with XML in it:\n",
    "    - First argument (mandatory) is a string, the tag we want to create\n",
    "    - Second argument (optional) is a string, the content in the tag\n",
    "    - Additional keyword arguments will be used as attributes in the opening tag\n",
    "2. The function needs return a string    "
   ]
  },
  {
   "cell_type": "code",
   "execution_count": 45,
   "id": "ffe478ec",
   "metadata": {},
   "outputs": [
    {
     "ename": "NameError",
     "evalue": "name 'xml' is not defined",
     "output_type": "error",
     "traceback": [
      "\u001b[0;31m---------------------------------------------------------------------------\u001b[0m",
      "\u001b[0;31mNameError\u001b[0m                                 Traceback (most recent call last)",
      "\u001b[0;32m/var/folders/rr/0mnyyv811fs5vyp22gf4fxk00000gn/T/ipykernel_12804/3886501628.py\u001b[0m in \u001b[0;36m<module>\u001b[0;34m\u001b[0m\n\u001b[0;32m----> 1\u001b[0;31m \u001b[0mxml\u001b[0m\u001b[0;34m(\u001b[0m\u001b[0;34m'tagname'\u001b[0m\u001b[0;34m)\u001b[0m   \u001b[0;31m#  '<tagname></tagname>'\u001b[0m\u001b[0;34m\u001b[0m\u001b[0;34m\u001b[0m\u001b[0m\n\u001b[0m\u001b[1;32m      2\u001b[0m \u001b[0mxml\u001b[0m\u001b[0;34m(\u001b[0m\u001b[0;34m'tag'\u001b[0m\u001b[0;34m,\u001b[0m \u001b[0;34m'a'\u001b[0m\u001b[0;34m)\u001b[0m  \u001b[0;31m#  '<tag>a</tag>'\u001b[0m\u001b[0;34m\u001b[0m\u001b[0;34m\u001b[0m\u001b[0m\n\u001b[1;32m      3\u001b[0m \u001b[0mxml\u001b[0m\u001b[0;34m(\u001b[0m\u001b[0;34m'tag'\u001b[0m\u001b[0;34m,\u001b[0m \u001b[0;34m'a'\u001b[0m\u001b[0;34m,\u001b[0m \u001b[0mw\u001b[0m\u001b[0;34m=\u001b[0m\u001b[0;34m'x'\u001b[0m\u001b[0;34m,\u001b[0m \u001b[0my\u001b[0m\u001b[0;34m=\u001b[0m\u001b[0;34m'z'\u001b[0m\u001b[0;34m)\u001b[0m   \u001b[0;31m# '<tag w=\"x\" y=\"z\">a</tag>'\u001b[0m\u001b[0;34m\u001b[0m\u001b[0;34m\u001b[0m\u001b[0m\n",
      "\u001b[0;31mNameError\u001b[0m: name 'xml' is not defined"
     ]
    }
   ],
   "source": [
    "xml('tagname')   #  '<tagname></tagname>'\n",
    "xml('tag', 'a')  #  '<tag>a</tag>'\n",
    "xml('tag', 'a', w='x', y='z')   # '<tag w=\"x\" y=\"z\">a</tag>'"
   ]
  },
  {
   "cell_type": "code",
   "execution_count": 51,
   "id": "ac29c2b7",
   "metadata": {},
   "outputs": [
    {
     "name": "stdout",
     "output_type": "stream",
     "text": [
      "<tag></tag>\n",
      "<tag>a</tag>\n",
      "<tag w=\"x\" y=\"z\">a</tag>\n"
     ]
    }
   ],
   "source": [
    "def xml(tagname, text='', **kwargs):\n",
    "    attributes = ''\n",
    "    for key, value in kwargs.items():\n",
    "        attributes += f' {key}=\"{value}\"'\n",
    "\n",
    "    return f'<{tagname}{attributes}>{text}</{tagname}>'\n",
    "\n",
    "print(xml('tag'))   #  '<tag></tag>'\n",
    "print(xml('tag', 'a'))  #  '<tag>a</tag>'\n",
    "print(xml('tag', 'a', w='x', y='z'))   # '<tag w=\"x\" y=\"z\">a</tag>'"
   ]
  },
  {
   "cell_type": "code",
   "execution_count": 52,
   "id": "b41a227b",
   "metadata": {},
   "outputs": [
    {
     "data": {
      "text/plain": [
       "4"
      ]
     },
     "execution_count": 52,
     "metadata": {},
     "output_type": "execute_result"
    }
   ],
   "source": [
    "len('abcd')"
   ]
  },
  {
   "cell_type": "code",
   "execution_count": 53,
   "id": "a4ec81b6",
   "metadata": {},
   "outputs": [
    {
     "name": "stdout",
     "output_type": "stream",
     "text": [
      "Help on built-in function len in module builtins:\n",
      "\n",
      "len(obj, /)\n",
      "    Return the number of items in a container.\n",
      "\n"
     ]
    }
   ],
   "source": [
    "help(len)"
   ]
  },
  {
   "cell_type": "code",
   "execution_count": 54,
   "id": "9e84be6e",
   "metadata": {},
   "outputs": [
    {
     "ename": "TypeError",
     "evalue": "len() takes no keyword arguments",
     "output_type": "error",
     "traceback": [
      "\u001b[0;31m---------------------------------------------------------------------------\u001b[0m",
      "\u001b[0;31mTypeError\u001b[0m                                 Traceback (most recent call last)",
      "\u001b[0;32m/var/folders/rr/0mnyyv811fs5vyp22gf4fxk00000gn/T/ipykernel_12804/1652450803.py\u001b[0m in \u001b[0;36m<module>\u001b[0;34m\u001b[0m\n\u001b[0;32m----> 1\u001b[0;31m \u001b[0mlen\u001b[0m\u001b[0;34m(\u001b[0m\u001b[0mobj\u001b[0m\u001b[0;34m=\u001b[0m\u001b[0;34m'abcd'\u001b[0m\u001b[0;34m)\u001b[0m\u001b[0;34m\u001b[0m\u001b[0;34m\u001b[0m\u001b[0m\n\u001b[0m",
      "\u001b[0;31mTypeError\u001b[0m: len() takes no keyword arguments"
     ]
    }
   ],
   "source": [
    "len(obj='abcd')"
   ]
  },
  {
   "cell_type": "code",
   "execution_count": null,
   "id": "f4e6a915",
   "metadata": {},
   "outputs": [],
   "source": []
  },
  {
   "cell_type": "markdown",
   "id": "b7c35014",
   "metadata": {},
   "source": [
    "# Parameters\n",
    "\n",
    "1. Positional-only parameters (only accepts positional arguments)\n",
    "2. Mandatory parameters (can accept positional or keyword arguments)\n",
    "3. Optional parameters (can accept positional or keyword arguments), with default values in `__defaults__`\n",
    "4. `*args` (tuple with remaining positional arguments -- or `*` if there is no `*args`)\n",
    "5. Mandatory keyword-only parameters\n",
    "6. Optional keyword-only parameters (with a default argument value)\n",
    "7. `**kwargs` (dict with remaining keyword arguments)"
   ]
  },
  {
   "cell_type": "code",
   "execution_count": 55,
   "id": "20bb765a",
   "metadata": {},
   "outputs": [
    {
     "data": {
      "text/plain": [
       "15"
      ]
     },
     "execution_count": 55,
     "metadata": {},
     "output_type": "execute_result"
    }
   ],
   "source": [
    "def add(a, b):\n",
    "    return a + b\n",
    "\n",
    "add(10, 5)"
   ]
  },
  {
   "cell_type": "code",
   "execution_count": 56,
   "id": "659f4eaf",
   "metadata": {},
   "outputs": [
    {
     "data": {
      "text/plain": [
       "15"
      ]
     },
     "execution_count": 56,
     "metadata": {},
     "output_type": "execute_result"
    }
   ],
   "source": [
    "add(a=10, b=5)"
   ]
  },
  {
   "cell_type": "code",
   "execution_count": 57,
   "id": "e0fdc7b9",
   "metadata": {},
   "outputs": [],
   "source": [
    "def add(a, b, /):\n",
    "    return a + b"
   ]
  },
  {
   "cell_type": "code",
   "execution_count": 58,
   "id": "73ff0a71",
   "metadata": {},
   "outputs": [
    {
     "data": {
      "text/plain": [
       "15"
      ]
     },
     "execution_count": 58,
     "metadata": {},
     "output_type": "execute_result"
    }
   ],
   "source": [
    "add(10, 5)"
   ]
  },
  {
   "cell_type": "code",
   "execution_count": 59,
   "id": "cb9908e2",
   "metadata": {},
   "outputs": [
    {
     "ename": "TypeError",
     "evalue": "add() got some positional-only arguments passed as keyword arguments: 'a, b'",
     "output_type": "error",
     "traceback": [
      "\u001b[0;31m---------------------------------------------------------------------------\u001b[0m",
      "\u001b[0;31mTypeError\u001b[0m                                 Traceback (most recent call last)",
      "\u001b[0;32m/var/folders/rr/0mnyyv811fs5vyp22gf4fxk00000gn/T/ipykernel_12804/494668918.py\u001b[0m in \u001b[0;36m<module>\u001b[0;34m\u001b[0m\n\u001b[0;32m----> 1\u001b[0;31m \u001b[0madd\u001b[0m\u001b[0;34m(\u001b[0m\u001b[0ma\u001b[0m\u001b[0;34m=\u001b[0m\u001b[0;36m10\u001b[0m\u001b[0;34m,\u001b[0m \u001b[0mb\u001b[0m\u001b[0;34m=\u001b[0m\u001b[0;36m5\u001b[0m\u001b[0;34m)\u001b[0m\u001b[0;34m\u001b[0m\u001b[0;34m\u001b[0m\u001b[0m\n\u001b[0m",
      "\u001b[0;31mTypeError\u001b[0m: add() got some positional-only arguments passed as keyword arguments: 'a, b'"
     ]
    }
   ],
   "source": [
    "add(a=10, b=5)"
   ]
  },
  {
   "cell_type": "code",
   "execution_count": 60,
   "id": "f3c36ed1",
   "metadata": {},
   "outputs": [],
   "source": [
    "def write_config(filename, *, sep=':', **kwargs):\n",
    "    with open(filename, 'w') as outfile:\n",
    "        for key, value in kwargs.items():\n",
    "            outfile.write(f'{key}{sep}{value}\\n')\n",
    "            \n",
    "write_config('myconf.txt', a=10, b=20, c=30)"
   ]
  },
  {
   "cell_type": "code",
   "execution_count": 61,
   "id": "76996b87",
   "metadata": {},
   "outputs": [
    {
     "name": "stdout",
     "output_type": "stream",
     "text": [
      "a:10\r\n",
      "b:20\r\n",
      "c:30\r\n"
     ]
    }
   ],
   "source": [
    "!cat myconf.txt"
   ]
  },
  {
   "cell_type": "code",
   "execution_count": 62,
   "id": "f0f3558b",
   "metadata": {},
   "outputs": [
    {
     "ename": "TypeError",
     "evalue": "write_config() got multiple values for argument 'filename'",
     "output_type": "error",
     "traceback": [
      "\u001b[0;31m---------------------------------------------------------------------------\u001b[0m",
      "\u001b[0;31mTypeError\u001b[0m                                 Traceback (most recent call last)",
      "\u001b[0;32m/var/folders/rr/0mnyyv811fs5vyp22gf4fxk00000gn/T/ipykernel_12804/1198059680.py\u001b[0m in \u001b[0;36m<module>\u001b[0;34m\u001b[0m\n\u001b[1;32m      1\u001b[0m \u001b[0;31m# what will happen when we run this?\u001b[0m\u001b[0;34m\u001b[0m\u001b[0;34m\u001b[0m\u001b[0m\n\u001b[0;32m----> 2\u001b[0;31m \u001b[0mwrite_config\u001b[0m\u001b[0;34m(\u001b[0m\u001b[0;34m'myconf.txt'\u001b[0m\u001b[0;34m,\u001b[0m \u001b[0ma\u001b[0m\u001b[0;34m=\u001b[0m\u001b[0;36m10\u001b[0m\u001b[0;34m,\u001b[0m \u001b[0mb\u001b[0m\u001b[0;34m=\u001b[0m\u001b[0;36m20\u001b[0m\u001b[0;34m,\u001b[0m \u001b[0mc\u001b[0m\u001b[0;34m=\u001b[0m\u001b[0;36m30\u001b[0m\u001b[0;34m,\u001b[0m \u001b[0mfilename\u001b[0m\u001b[0;34m=\u001b[0m\u001b[0;34m'myfile.txt'\u001b[0m\u001b[0;34m)\u001b[0m\u001b[0;34m\u001b[0m\u001b[0;34m\u001b[0m\u001b[0m\n\u001b[0m",
      "\u001b[0;31mTypeError\u001b[0m: write_config() got multiple values for argument 'filename'"
     ]
    }
   ],
   "source": [
    "# what will happen when we run this?\n",
    "write_config('myconf.txt', a=10, b=20, c=30, filename='myfile.txt')"
   ]
  },
  {
   "cell_type": "code",
   "execution_count": 72,
   "id": "b3588e57",
   "metadata": {},
   "outputs": [],
   "source": [
    "#       positional-only           keyword-only\n",
    "\n",
    "def write_config(filename, /, *, sep=':', **kwargs):\n",
    "    with open(filename, 'w') as outfile:\n",
    "        for key, value in kwargs.items():\n",
    "            outfile.write(f'{key}{sep}{value}\\n')\n",
    "  "
   ]
  },
  {
   "cell_type": "code",
   "execution_count": 73,
   "id": "df5e31cd",
   "metadata": {},
   "outputs": [],
   "source": [
    "# parameters: filename,    sep,   kwargs\n",
    "# arguments:  myconf.txt    ':'   {'a':10, 'b':20, 'c':30, 'filename':'myfile.txt'}\n",
    "\n",
    "write_config('myconf.txt', a=10, b=20, c=30, filename='myfile.txt')"
   ]
  },
  {
   "cell_type": "code",
   "execution_count": 74,
   "id": "62523cc1",
   "metadata": {},
   "outputs": [
    {
     "name": "stdout",
     "output_type": "stream",
     "text": [
      "a:10\r\n",
      "b:20\r\n",
      "c:30\r\n",
      "filename:myfile.txt\r\n"
     ]
    }
   ],
   "source": [
    "!cat myconf.txt"
   ]
  },
  {
   "cell_type": "code",
   "execution_count": 75,
   "id": "d87e823f",
   "metadata": {},
   "outputs": [
    {
     "name": "stdout",
     "output_type": "stream",
     "text": [
      "Help on function write_config in module __main__:\n",
      "\n",
      "write_config(filename, /, *, sep=':', **kwargs)\n",
      "    #       positional-only           keyword-only\n",
      "\n"
     ]
    }
   ],
   "source": [
    "help(write_config)"
   ]
  },
  {
   "cell_type": "code",
   "execution_count": 77,
   "id": "6780bcea",
   "metadata": {},
   "outputs": [],
   "source": [
    "# a == positional only\n",
    "# b == positional or keyword\n",
    "# c == keyword only (mandatory)\n",
    "\n",
    "def myfunc(a, /, b, *, c):\n",
    "    return f'{a=}, {b=}, {c=}'"
   ]
  },
  {
   "cell_type": "code",
   "execution_count": 78,
   "id": "4a22d99a",
   "metadata": {},
   "outputs": [
    {
     "ename": "TypeError",
     "evalue": "myfunc() takes 2 positional arguments but 3 were given",
     "output_type": "error",
     "traceback": [
      "\u001b[0;31m---------------------------------------------------------------------------\u001b[0m",
      "\u001b[0;31mTypeError\u001b[0m                                 Traceback (most recent call last)",
      "\u001b[0;32m/var/folders/rr/0mnyyv811fs5vyp22gf4fxk00000gn/T/ipykernel_12804/885864022.py\u001b[0m in \u001b[0;36m<module>\u001b[0;34m\u001b[0m\n\u001b[0;32m----> 1\u001b[0;31m \u001b[0mmyfunc\u001b[0m\u001b[0;34m(\u001b[0m\u001b[0;36m10\u001b[0m\u001b[0;34m,\u001b[0m \u001b[0;36m20\u001b[0m\u001b[0;34m,\u001b[0m \u001b[0;36m30\u001b[0m\u001b[0;34m)\u001b[0m\u001b[0;34m\u001b[0m\u001b[0;34m\u001b[0m\u001b[0m\n\u001b[0m",
      "\u001b[0;31mTypeError\u001b[0m: myfunc() takes 2 positional arguments but 3 were given"
     ]
    }
   ],
   "source": [
    "myfunc(10, 20, 30)"
   ]
  },
  {
   "cell_type": "code",
   "execution_count": 79,
   "id": "698463aa",
   "metadata": {},
   "outputs": [
    {
     "data": {
      "text/plain": [
       "'a=10, b=20, c=30'"
      ]
     },
     "execution_count": 79,
     "metadata": {},
     "output_type": "execute_result"
    }
   ],
   "source": [
    "myfunc(10, 20, c=30)"
   ]
  },
  {
   "cell_type": "code",
   "execution_count": 80,
   "id": "80c910d4",
   "metadata": {},
   "outputs": [
    {
     "data": {
      "text/plain": [
       "'a=10, b=20, c=30'"
      ]
     },
     "execution_count": 80,
     "metadata": {},
     "output_type": "execute_result"
    }
   ],
   "source": [
    "myfunc(10, b=20, c=30)"
   ]
  },
  {
   "cell_type": "code",
   "execution_count": 81,
   "id": "2e03c458",
   "metadata": {},
   "outputs": [
    {
     "ename": "TypeError",
     "evalue": "myfunc() got some positional-only arguments passed as keyword arguments: 'a'",
     "output_type": "error",
     "traceback": [
      "\u001b[0;31m---------------------------------------------------------------------------\u001b[0m",
      "\u001b[0;31mTypeError\u001b[0m                                 Traceback (most recent call last)",
      "\u001b[0;32m/var/folders/rr/0mnyyv811fs5vyp22gf4fxk00000gn/T/ipykernel_12804/2067321119.py\u001b[0m in \u001b[0;36m<module>\u001b[0;34m\u001b[0m\n\u001b[0;32m----> 1\u001b[0;31m \u001b[0mmyfunc\u001b[0m\u001b[0;34m(\u001b[0m\u001b[0ma\u001b[0m\u001b[0;34m=\u001b[0m\u001b[0;36m10\u001b[0m\u001b[0;34m,\u001b[0m \u001b[0mb\u001b[0m\u001b[0;34m=\u001b[0m\u001b[0;36m20\u001b[0m\u001b[0;34m,\u001b[0m \u001b[0mc\u001b[0m\u001b[0;34m=\u001b[0m\u001b[0;36m30\u001b[0m\u001b[0;34m)\u001b[0m\u001b[0;34m\u001b[0m\u001b[0;34m\u001b[0m\u001b[0m\n\u001b[0m",
      "\u001b[0;31mTypeError\u001b[0m: myfunc() got some positional-only arguments passed as keyword arguments: 'a'"
     ]
    }
   ],
   "source": [
    "myfunc(a=10, b=20, c=30)"
   ]
  },
  {
   "cell_type": "code",
   "execution_count": 82,
   "id": "dcb5acdd",
   "metadata": {},
   "outputs": [],
   "source": [
    "import dis"
   ]
  },
  {
   "cell_type": "code",
   "execution_count": 83,
   "id": "1c235353",
   "metadata": {},
   "outputs": [
    {
     "name": "stdout",
     "output_type": "stream",
     "text": [
      "Name:              myfunc\n",
      "Filename:          /var/folders/rr/0mnyyv811fs5vyp22gf4fxk00000gn/T/ipykernel_12804/4243703053.py\n",
      "Argument count:    2\n",
      "Positional-only arguments: 1\n",
      "Kw-only arguments: 1\n",
      "Number of locals:  3\n",
      "Stack size:        6\n",
      "Flags:             OPTIMIZED, NEWLOCALS, NOFREE\n",
      "Constants:\n",
      "   0: None\n",
      "   1: 'a='\n",
      "   2: ', b='\n",
      "   3: ', c='\n",
      "Variable names:\n",
      "   0: a\n",
      "   1: b\n",
      "   2: c\n"
     ]
    }
   ],
   "source": [
    "dis.show_code(myfunc)"
   ]
  },
  {
   "cell_type": "code",
   "execution_count": 84,
   "id": "21381ad9",
   "metadata": {},
   "outputs": [
    {
     "ename": "SyntaxError",
     "evalue": "invalid syntax (1014213878.py, line 1)",
     "output_type": "error",
     "traceback": [
      "\u001b[0;36m  File \u001b[0;32m\"/var/folders/rr/0mnyyv811fs5vyp22gf4fxk00000gn/T/ipykernel_12804/1014213878.py\"\u001b[0;36m, line \u001b[0;32m1\u001b[0m\n\u001b[0;31m    def myfunc(a, /, b, *, c, /):\u001b[0m\n\u001b[0m                              ^\u001b[0m\n\u001b[0;31mSyntaxError\u001b[0m\u001b[0;31m:\u001b[0m invalid syntax\n"
     ]
    }
   ],
   "source": [
    "def myfunc(a, /, b, *, c):\n",
    "    return f'{a=}, {b=}, {c=}'"
   ]
  },
  {
   "cell_type": "code",
   "execution_count": 86,
   "id": "f6dcae60",
   "metadata": {},
   "outputs": [
    {
     "ename": "TypeError",
     "evalue": "write_config() takes 1 positional argument but 2 were given",
     "output_type": "error",
     "traceback": [
      "\u001b[0;31m---------------------------------------------------------------------------\u001b[0m",
      "\u001b[0;31mTypeError\u001b[0m                                 Traceback (most recent call last)",
      "\u001b[0;32m/var/folders/rr/0mnyyv811fs5vyp22gf4fxk00000gn/T/ipykernel_12804/2844570232.py\u001b[0m in \u001b[0;36m<module>\u001b[0;34m\u001b[0m\n\u001b[1;32m      7\u001b[0m \u001b[0;34m\u001b[0m\u001b[0m\n\u001b[1;32m      8\u001b[0m \u001b[0;31m# we're trying to pass a dict -- but the function wants keyword arguments\u001b[0m\u001b[0;34m\u001b[0m\u001b[0;34m\u001b[0m\u001b[0m\n\u001b[0;32m----> 9\u001b[0;31m \u001b[0mwrite_config\u001b[0m\u001b[0;34m(\u001b[0m\u001b[0;34m'myconf.txt'\u001b[0m\u001b[0;34m,\u001b[0m \u001b[0md\u001b[0m\u001b[0;34m)\u001b[0m\u001b[0;34m\u001b[0m\u001b[0;34m\u001b[0m\u001b[0m\n\u001b[0m",
      "\u001b[0;31mTypeError\u001b[0m: write_config() takes 1 positional argument but 2 were given"
     ]
    }
   ],
   "source": [
    "def write_config(filename, /, *, sep=':', **kwargs):\n",
    "    with open(filename, 'w') as outfile:\n",
    "        for key, value in kwargs.items():\n",
    "            outfile.write(f'{key}{sep}{value}\\n')\n",
    "\n",
    "d = {'a':10, 'b':20, 'c':30}            \n",
    "\n",
    "# we're trying to pass a dict -- but the function wants keyword arguments\n",
    "write_config('myconf.txt', d)"
   ]
  },
  {
   "cell_type": "code",
   "execution_count": 88,
   "id": "e1a1a908",
   "metadata": {},
   "outputs": [],
   "source": [
    "# **d in the call to the function turn d into keyword arguments\n",
    "write_config('myconf.txt', **d)"
   ]
  },
  {
   "cell_type": "code",
   "execution_count": 89,
   "id": "0531ccba",
   "metadata": {},
   "outputs": [
    {
     "name": "stdout",
     "output_type": "stream",
     "text": [
      "a:10\r\n",
      "b:20\r\n",
      "c:30\r\n"
     ]
    }
   ],
   "source": [
    "!cat myconf.txt"
   ]
  },
  {
   "cell_type": "code",
   "execution_count": 90,
   "id": "9c8f56bc",
   "metadata": {},
   "outputs": [
    {
     "name": "stdout",
     "output_type": "stream",
     "text": [
      "Help on function write_config in module __main__:\n",
      "\n",
      "write_config(filename, /, *, sep=':', **kwargs)\n",
      "\n"
     ]
    }
   ],
   "source": [
    "help(write_config)"
   ]
  },
  {
   "cell_type": "code",
   "execution_count": 92,
   "id": "67ddfa36",
   "metadata": {},
   "outputs": [],
   "source": [
    "def write_config(filename, /, *, sep=':', **kwargs):\n",
    "    \"\"\"Write keyword arguments to a file, one line at a time.\n",
    "    \n",
    "    Expects: filename, separator, kwargs\n",
    "    Modifies: nothing but the file\n",
    "    Returns: whatever\n",
    "    \"\"\"\n",
    "\n",
    "    with open(filename, 'w') as outfile:\n",
    "        for key, value in kwargs.items():\n",
    "            outfile.write(f'{key}{sep}{value}\\n')\n",
    "\n",
    "d = {'a':10, 'b':20, 'c':30}            \n",
    "\n",
    "# we're trying to pass a dict -- but the function wants keyword arguments\n",
    "write_config('myconf.txt', **d)"
   ]
  },
  {
   "cell_type": "code",
   "execution_count": 93,
   "id": "ea633060",
   "metadata": {},
   "outputs": [
    {
     "name": "stdout",
     "output_type": "stream",
     "text": [
      "Help on function write_config in module __main__:\n",
      "\n",
      "write_config(filename, /, *, sep=':', **kwargs)\n",
      "    Write keyword arguments to a file, one line at a time.\n",
      "    \n",
      "    Expects: filename, separator, kwargs\n",
      "    Modifies: nothing but the file\n",
      "    Returns: whatever\n",
      "\n"
     ]
    }
   ],
   "source": [
    "help(write_config)"
   ]
  },
  {
   "cell_type": "code",
   "execution_count": 94,
   "id": "9024ba5e",
   "metadata": {},
   "outputs": [
    {
     "name": "stdout",
     "output_type": "stream",
     "text": [
      "x = 100, y = [10, 20, 30], z = {'a': 1, 'b': 2}\n"
     ]
    }
   ],
   "source": [
    "x = 100\n",
    "y = [10, 20, 30]\n",
    "z = {'a':1, 'b':2}\n",
    "\n",
    "print(f'x = {x}, y = {y}, z = {z}')"
   ]
  },
  {
   "cell_type": "code",
   "execution_count": 95,
   "id": "f085af6a",
   "metadata": {},
   "outputs": [
    {
     "name": "stdout",
     "output_type": "stream",
     "text": [
      "x = 100, y = [10, 20, 30], z = {'a': 1, 'b': 2}\n"
     ]
    }
   ],
   "source": [
    "# before f-strings, we used str.format\n",
    "\n",
    "print('x = {0}, y = {1}, z = {2}'.format(x, y, z))"
   ]
  },
  {
   "cell_type": "code",
   "execution_count": 96,
   "id": "6bf5f033",
   "metadata": {},
   "outputs": [
    {
     "name": "stdout",
     "output_type": "stream",
     "text": [
      "Help on method_descriptor:\n",
      "\n",
      "format(...)\n",
      "    S.format(*args, **kwargs) -> str\n",
      "    \n",
      "    Return a formatted version of S, using substitutions from args and kwargs.\n",
      "    The substitutions are identified by braces ('{' and '}').\n",
      "\n"
     ]
    }
   ],
   "source": [
    "help(str.format)"
   ]
  },
  {
   "cell_type": "code",
   "execution_count": 97,
   "id": "d50a0a3d",
   "metadata": {},
   "outputs": [
    {
     "ename": "IndexError",
     "evalue": "Replacement index 20 out of range for positional args tuple",
     "output_type": "error",
     "traceback": [
      "\u001b[0;31m---------------------------------------------------------------------------\u001b[0m",
      "\u001b[0;31mIndexError\u001b[0m                                Traceback (most recent call last)",
      "\u001b[0;32m/var/folders/rr/0mnyyv811fs5vyp22gf4fxk00000gn/T/ipykernel_12804/3679732369.py\u001b[0m in \u001b[0;36m<module>\u001b[0;34m\u001b[0m\n\u001b[0;32m----> 1\u001b[0;31m \u001b[0mprint\u001b[0m\u001b[0;34m(\u001b[0m\u001b[0;34m'x = {0}, y = {1}, z = {20}'\u001b[0m\u001b[0;34m.\u001b[0m\u001b[0mformat\u001b[0m\u001b[0;34m(\u001b[0m\u001b[0mx\u001b[0m\u001b[0;34m,\u001b[0m \u001b[0my\u001b[0m\u001b[0;34m,\u001b[0m \u001b[0mz\u001b[0m\u001b[0;34m)\u001b[0m\u001b[0;34m)\u001b[0m\u001b[0;34m\u001b[0m\u001b[0;34m\u001b[0m\u001b[0m\n\u001b[0m",
      "\u001b[0;31mIndexError\u001b[0m: Replacement index 20 out of range for positional args tuple"
     ]
    }
   ],
   "source": [
    "print('x = {0}, y = {1}, z = {20}'.format(x, y, z))"
   ]
  },
  {
   "cell_type": "code",
   "execution_count": 101,
   "id": "ad45f413",
   "metadata": {},
   "outputs": [
    {
     "ename": "IndexError",
     "evalue": "Replacement index 3 out of range for positional args tuple",
     "output_type": "error",
     "traceback": [
      "\u001b[0;31m---------------------------------------------------------------------------\u001b[0m",
      "\u001b[0;31mIndexError\u001b[0m                                Traceback (most recent call last)",
      "\u001b[0;32m/var/folders/rr/0mnyyv811fs5vyp22gf4fxk00000gn/T/ipykernel_12804/1462815045.py\u001b[0m in \u001b[0;36m<module>\u001b[0;34m\u001b[0m\n\u001b[0;32m----> 1\u001b[0;31m \u001b[0mprint\u001b[0m\u001b[0;34m(\u001b[0m\u001b[0;34m'x = {}, y = {}, z = {}, x is still {}'\u001b[0m\u001b[0;34m.\u001b[0m\u001b[0mformat\u001b[0m\u001b[0;34m(\u001b[0m\u001b[0mx\u001b[0m\u001b[0;34m,\u001b[0m \u001b[0my\u001b[0m\u001b[0;34m,\u001b[0m \u001b[0mz\u001b[0m\u001b[0;34m)\u001b[0m\u001b[0;34m)\u001b[0m\u001b[0;34m\u001b[0m\u001b[0;34m\u001b[0m\u001b[0m\n\u001b[0m",
      "\u001b[0;31mIndexError\u001b[0m: Replacement index 3 out of range for positional args tuple"
     ]
    }
   ],
   "source": [
    "print('x = {}, y = {}, z = {}, x is still {}'.format(x, y, z))"
   ]
  },
  {
   "cell_type": "code",
   "execution_count": 103,
   "id": "0db07a24",
   "metadata": {},
   "outputs": [
    {
     "name": "stdout",
     "output_type": "stream",
     "text": [
      "x = 100, y = [10, 20, 30], z = {'a': 1, 'b': 2}\n"
     ]
    }
   ],
   "source": [
    "print('x = {first}, y = {middle}, z = {last}'.format(first=x, middle=y, last=z))"
   ]
  },
  {
   "cell_type": "code",
   "execution_count": 104,
   "id": "08458a36",
   "metadata": {},
   "outputs": [
    {
     "name": "stdout",
     "output_type": "stream",
     "text": [
      "Help on method_descriptor:\n",
      "\n",
      "format(...)\n",
      "    S.format(*args, **kwargs) -> str\n",
      "    \n",
      "    Return a formatted version of S, using substitutions from args and kwargs.\n",
      "    The substitutions are identified by braces ('{' and '}').\n",
      "\n"
     ]
    }
   ],
   "source": [
    "help(str.format)"
   ]
  },
  {
   "cell_type": "code",
   "execution_count": 105,
   "id": "6062cb18",
   "metadata": {},
   "outputs": [
    {
     "name": "stdout",
     "output_type": "stream",
     "text": [
      "x = 100, y = [10, 20, 30], z = {'a': 1, 'b': 2}\n"
     ]
    }
   ],
   "source": [
    "print('x = {0}, y = {middle}, z = {last}'.format(x,    # positional\n",
    "                                                 middle=y, last=z))  # keyword"
   ]
  },
  {
   "cell_type": "code",
   "execution_count": 106,
   "id": "5f698413",
   "metadata": {},
   "outputs": [],
   "source": [
    "def hello(name):\n",
    "    return f'Hello, {name}!'"
   ]
  },
  {
   "cell_type": "code",
   "execution_count": 107,
   "id": "3696dde1",
   "metadata": {},
   "outputs": [
    {
     "data": {
      "text/plain": [
       "'Hello, world!'"
      ]
     },
     "execution_count": 107,
     "metadata": {},
     "output_type": "execute_result"
    }
   ],
   "source": [
    "hello('world')"
   ]
  },
  {
   "cell_type": "code",
   "execution_count": 108,
   "id": "49cda3f2",
   "metadata": {},
   "outputs": [
    {
     "data": {
      "text/plain": [
       "'Hello, 5!'"
      ]
     },
     "execution_count": 108,
     "metadata": {},
     "output_type": "execute_result"
    }
   ],
   "source": [
    "hello(5)"
   ]
  },
  {
   "cell_type": "code",
   "execution_count": 109,
   "id": "8bada2be",
   "metadata": {},
   "outputs": [
    {
     "data": {
      "text/plain": [
       "'Hello, [10, 20, 30]!'"
      ]
     },
     "execution_count": 109,
     "metadata": {},
     "output_type": "execute_result"
    }
   ],
   "source": [
    "hello([10, 20, 30])"
   ]
  },
  {
   "cell_type": "code",
   "execution_count": 110,
   "id": "70ade392",
   "metadata": {},
   "outputs": [
    {
     "data": {
      "text/plain": [
       "'Hello, <function hello at 0x111b10820>!'"
      ]
     },
     "execution_count": 110,
     "metadata": {},
     "output_type": "execute_result"
    }
   ],
   "source": [
    "hello(hello)"
   ]
  },
  {
   "cell_type": "code",
   "execution_count": 111,
   "id": "9e00934c",
   "metadata": {},
   "outputs": [],
   "source": [
    "def hello(name):\n",
    "    if isinstance(name, str):\n",
    "        return f'Hello, {name}!'\n",
    "    \n",
    "    raise TypeError(f'I wanted a string, not a {type(name)}')"
   ]
  },
  {
   "cell_type": "code",
   "execution_count": 112,
   "id": "fb80a567",
   "metadata": {},
   "outputs": [
    {
     "data": {
      "text/plain": [
       "'Hello, world!'"
      ]
     },
     "execution_count": 112,
     "metadata": {},
     "output_type": "execute_result"
    }
   ],
   "source": [
    "hello('world')"
   ]
  },
  {
   "cell_type": "code",
   "execution_count": 113,
   "id": "46377e73",
   "metadata": {},
   "outputs": [
    {
     "ename": "TypeError",
     "evalue": "I wanted a string, not a <class 'int'>",
     "output_type": "error",
     "traceback": [
      "\u001b[0;31m---------------------------------------------------------------------------\u001b[0m",
      "\u001b[0;31mTypeError\u001b[0m                                 Traceback (most recent call last)",
      "\u001b[0;32m/var/folders/rr/0mnyyv811fs5vyp22gf4fxk00000gn/T/ipykernel_12804/3544338049.py\u001b[0m in \u001b[0;36m<module>\u001b[0;34m\u001b[0m\n\u001b[0;32m----> 1\u001b[0;31m \u001b[0mhello\u001b[0m\u001b[0;34m(\u001b[0m\u001b[0;36m5\u001b[0m\u001b[0;34m)\u001b[0m\u001b[0;34m\u001b[0m\u001b[0;34m\u001b[0m\u001b[0m\n\u001b[0m",
      "\u001b[0;32m/var/folders/rr/0mnyyv811fs5vyp22gf4fxk00000gn/T/ipykernel_12804/2690579015.py\u001b[0m in \u001b[0;36mhello\u001b[0;34m(name)\u001b[0m\n\u001b[1;32m      3\u001b[0m         \u001b[0;32mreturn\u001b[0m \u001b[0;34mf'Hello, {name}!'\u001b[0m\u001b[0;34m\u001b[0m\u001b[0;34m\u001b[0m\u001b[0m\n\u001b[1;32m      4\u001b[0m \u001b[0;34m\u001b[0m\u001b[0m\n\u001b[0;32m----> 5\u001b[0;31m     \u001b[0;32mraise\u001b[0m \u001b[0mTypeError\u001b[0m\u001b[0;34m(\u001b[0m\u001b[0;34mf'I wanted a string, not a {type(name)}'\u001b[0m\u001b[0;34m)\u001b[0m\u001b[0;34m\u001b[0m\u001b[0;34m\u001b[0m\u001b[0m\n\u001b[0m",
      "\u001b[0;31mTypeError\u001b[0m: I wanted a string, not a <class 'int'>"
     ]
    }
   ],
   "source": [
    "hello(5)"
   ]
  },
  {
   "cell_type": "code",
   "execution_count": 120,
   "id": "95328b75",
   "metadata": {},
   "outputs": [],
   "source": [
    "# type annotations / type hints\n",
    "\n",
    "def hello(name:str) -> str:\n",
    "    return f'Hello, {name}!'"
   ]
  },
  {
   "cell_type": "code",
   "execution_count": 121,
   "id": "3287b2e7",
   "metadata": {},
   "outputs": [
    {
     "data": {
      "text/plain": [
       "'Hello, world!'"
      ]
     },
     "execution_count": 121,
     "metadata": {},
     "output_type": "execute_result"
    }
   ],
   "source": [
    "hello('world')"
   ]
  },
  {
   "cell_type": "code",
   "execution_count": 122,
   "id": "5a36a6a8",
   "metadata": {},
   "outputs": [
    {
     "data": {
      "text/plain": [
       "'Hello, 5!'"
      ]
     },
     "execution_count": 122,
     "metadata": {},
     "output_type": "execute_result"
    }
   ],
   "source": [
    "hello(5)"
   ]
  },
  {
   "cell_type": "code",
   "execution_count": 123,
   "id": "b9fc1d99",
   "metadata": {},
   "outputs": [
    {
     "data": {
      "text/plain": [
       "'Hello, [10, 20, 30]!'"
      ]
     },
     "execution_count": 123,
     "metadata": {},
     "output_type": "execute_result"
    }
   ],
   "source": [
    "hello([10, 20, 30])"
   ]
  },
  {
   "cell_type": "code",
   "execution_count": 124,
   "id": "b800026b",
   "metadata": {},
   "outputs": [
    {
     "data": {
      "text/plain": [
       "'Hello, <function hello at 0x111d83ac0>!'"
      ]
     },
     "execution_count": 124,
     "metadata": {},
     "output_type": "execute_result"
    }
   ],
   "source": [
    "hello(hello)"
   ]
  },
  {
   "cell_type": "code",
   "execution_count": 125,
   "id": "7a9c210b",
   "metadata": {},
   "outputs": [
    {
     "data": {
      "text/plain": [
       "{'name': str, 'return': str}"
      ]
     },
     "execution_count": 125,
     "metadata": {},
     "output_type": "execute_result"
    }
   ],
   "source": [
    "hello.__annotations__"
   ]
  },
  {
   "cell_type": "markdown",
   "id": "bf238c0e",
   "metadata": {},
   "source": [
    "# Next up\n",
    "\n",
    "1. Scoping (LEGB)\n",
    "2. Inner functions and `nonlocal`\n",
    "\n",
    "Resume at 15:30"
   ]
  },
  {
   "cell_type": "code",
   "execution_count": 126,
   "id": "ea48ad49",
   "metadata": {},
   "outputs": [],
   "source": [
    "del(x)"
   ]
  },
  {
   "cell_type": "code",
   "execution_count": 127,
   "id": "900ce53f",
   "metadata": {},
   "outputs": [
    {
     "ename": "NameError",
     "evalue": "name 'x' is not defined",
     "output_type": "error",
     "traceback": [
      "\u001b[0;31m---------------------------------------------------------------------------\u001b[0m",
      "\u001b[0;31mNameError\u001b[0m                                 Traceback (most recent call last)",
      "\u001b[0;32m/var/folders/rr/0mnyyv811fs5vyp22gf4fxk00000gn/T/ipykernel_12804/32546335.py\u001b[0m in \u001b[0;36m<module>\u001b[0;34m\u001b[0m\n\u001b[0;32m----> 1\u001b[0;31m \u001b[0mx\u001b[0m\u001b[0;34m\u001b[0m\u001b[0;34m\u001b[0m\u001b[0m\n\u001b[0m",
      "\u001b[0;31mNameError\u001b[0m: name 'x' is not defined"
     ]
    }
   ],
   "source": [
    "x"
   ]
  },
  {
   "cell_type": "code",
   "execution_count": 128,
   "id": "6012e4e3",
   "metadata": {},
   "outputs": [
    {
     "name": "stdout",
     "output_type": "stream",
     "text": [
      "200\n"
     ]
    }
   ],
   "source": [
    "x = 100\n",
    "\n",
    "if True:\n",
    "    x = 200\n",
    "    \n",
    "print(x)"
   ]
  },
  {
   "cell_type": "code",
   "execution_count": 129,
   "id": "7f5f0eaf",
   "metadata": {},
   "outputs": [
    {
     "name": "stdout",
     "output_type": "stream",
     "text": [
      "81\n"
     ]
    }
   ],
   "source": [
    "x = 100\n",
    "\n",
    "for i in range(10):\n",
    "    x = i ** 2\n",
    "    \n",
    "print(x)    "
   ]
  },
  {
   "cell_type": "code",
   "execution_count": 130,
   "id": "a4011275",
   "metadata": {},
   "outputs": [
    {
     "name": "stdout",
     "output_type": "stream",
     "text": [
      "x = 100\n"
     ]
    }
   ],
   "source": [
    "x = 100\n",
    "\n",
    "print(f'x = {x}')"
   ]
  },
  {
   "cell_type": "markdown",
   "id": "84a1118c",
   "metadata": {},
   "source": [
    "# Scopes in Python\n",
    "\n",
    "- `L` -- Local -- Start searching here if we're in a function body\n",
    "- `E` -- Enclosing\n",
    "- `G` -- Global -- Start searching here if we're *not* in a function body\n",
    "- `B` -- Builtin"
   ]
  },
  {
   "cell_type": "code",
   "execution_count": 131,
   "id": "dcb1a532",
   "metadata": {},
   "outputs": [
    {
     "data": {
      "text/plain": [
       "True"
      ]
     },
     "execution_count": 131,
     "metadata": {},
     "output_type": "execute_result"
    }
   ],
   "source": [
    "'x' in globals()   # is x a global variable?"
   ]
  },
  {
   "cell_type": "code",
   "execution_count": 132,
   "id": "bd9ca41c",
   "metadata": {},
   "outputs": [
    {
     "data": {
      "text/plain": [
       "100"
      ]
     },
     "execution_count": 132,
     "metadata": {},
     "output_type": "execute_result"
    }
   ],
   "source": [
    "globals()['x']   # what is the value of x?"
   ]
  },
  {
   "cell_type": "code",
   "execution_count": 133,
   "id": "e35ec1d5",
   "metadata": {},
   "outputs": [
    {
     "name": "stdout",
     "output_type": "stream",
     "text": [
      "Before, x = 100\n",
      "In myfunc, x=100\n",
      "After, x = 100\n"
     ]
    }
   ],
   "source": [
    "x = 100\n",
    "\n",
    "def myfunc():\n",
    "    print(f'In myfunc, {x=}')  # is x local? NO. is x global? YES, 100\n",
    "    \n",
    "print(f'Before, x = {x}')  # is x global? YES, 100\n",
    "myfunc()\n",
    "print(f'After, x = {x}')   # is x global? YES, 100"
   ]
  },
  {
   "cell_type": "code",
   "execution_count": 134,
   "id": "13591f26",
   "metadata": {},
   "outputs": [
    {
     "data": {
      "text/plain": [
       "False"
      ]
     },
     "execution_count": 134,
     "metadata": {},
     "output_type": "execute_result"
    }
   ],
   "source": [
    "'x' in myfunc.__code__.co_varnames"
   ]
  },
  {
   "cell_type": "code",
   "execution_count": 135,
   "id": "92b5dffa",
   "metadata": {},
   "outputs": [
    {
     "data": {
      "text/plain": [
       "()"
      ]
     },
     "execution_count": 135,
     "metadata": {},
     "output_type": "execute_result"
    }
   ],
   "source": [
    "myfunc.__code__.co_varnames"
   ]
  },
  {
   "cell_type": "code",
   "execution_count": 136,
   "id": "63678039",
   "metadata": {},
   "outputs": [
    {
     "name": "stdout",
     "output_type": "stream",
     "text": [
      "Before, x = 100\n",
      "Hello!\n",
      "In myfunc, x=100\n",
      "After, x = 100\n"
     ]
    }
   ],
   "source": [
    "x = 100\n",
    "\n",
    "def hello():\n",
    "    print('Hello!')\n",
    "\n",
    "def myfunc():\n",
    "    hello()\n",
    "    print(f'In myfunc, {x=}') \n",
    "    \n",
    "print(f'Before, x = {x}')  \n",
    "myfunc()\n",
    "print(f'After, x = {x}')   "
   ]
  },
  {
   "cell_type": "code",
   "execution_count": 137,
   "id": "82456f62",
   "metadata": {},
   "outputs": [
    {
     "name": "stdout",
     "output_type": "stream",
     "text": [
      "Before, x = 100\n",
      "In myfunc, x=200\n",
      "After, x = 100\n"
     ]
    }
   ],
   "source": [
    "x = 100\n",
    "\n",
    "def myfunc():\n",
    "    x = 200\n",
    "    print(f'In myfunc, {x=}')  # is x local? YES, 200\n",
    "    \n",
    "print(f'Before, x = {x}')  # is x global? YES, 100\n",
    "myfunc()\n",
    "print(f'After, x = {x}')   # is x global? YES, 100"
   ]
  },
  {
   "cell_type": "code",
   "execution_count": 138,
   "id": "0700e619",
   "metadata": {},
   "outputs": [
    {
     "data": {
      "text/plain": [
       "('x',)"
      ]
     },
     "execution_count": 138,
     "metadata": {},
     "output_type": "execute_result"
    }
   ],
   "source": [
    "myfunc.__code__.co_varnames"
   ]
  },
  {
   "cell_type": "code",
   "execution_count": 153,
   "id": "1139913a",
   "metadata": {},
   "outputs": [],
   "source": [
    "def myfunc():\n",
    "    s = 'x = 200'\n",
    "    exec(s, globals(), locals())\n",
    "    print(locals())\n",
    "    print(f'In myfunc, {x=}') # is x local? NO. is x global? YES, 100"
   ]
  },
  {
   "cell_type": "code",
   "execution_count": 154,
   "id": "12e4cea6",
   "metadata": {},
   "outputs": [
    {
     "data": {
      "text/plain": [
       "('s',)"
      ]
     },
     "execution_count": 154,
     "metadata": {},
     "output_type": "execute_result"
    }
   ],
   "source": [
    "myfunc.__code__.co_varnames"
   ]
  },
  {
   "cell_type": "code",
   "execution_count": 155,
   "id": "aa04dd42",
   "metadata": {},
   "outputs": [
    {
     "name": "stdout",
     "output_type": "stream",
     "text": [
      "{'s': 'x = 200', 'x': 200}\n",
      "In myfunc, x=100\n"
     ]
    }
   ],
   "source": [
    "myfunc()"
   ]
  },
  {
   "cell_type": "code",
   "execution_count": 156,
   "id": "3a7f558a",
   "metadata": {},
   "outputs": [
    {
     "name": "stdout",
     "output_type": "stream",
     "text": [
      "Help on built-in function exec in module builtins:\n",
      "\n",
      "exec(source, globals=None, locals=None, /)\n",
      "    Execute the given source in the context of globals and locals.\n",
      "    \n",
      "    The source may be a string representing one or more Python statements\n",
      "    or a code object as returned by compile().\n",
      "    The globals must be a dictionary and locals can be any mapping,\n",
      "    defaulting to the current globals and locals.\n",
      "    If only globals is given, locals defaults to it.\n",
      "\n"
     ]
    }
   ],
   "source": [
    "help(exec)"
   ]
  },
  {
   "cell_type": "code",
   "execution_count": 157,
   "id": "10979c4f",
   "metadata": {},
   "outputs": [],
   "source": [
    "def myfunc():\n",
    "    x = 10\n",
    "    y = 20\n",
    "    print(locals())\n",
    "    z = x + y\n",
    "    return z"
   ]
  },
  {
   "cell_type": "code",
   "execution_count": 158,
   "id": "7cbf2bfa",
   "metadata": {},
   "outputs": [
    {
     "name": "stdout",
     "output_type": "stream",
     "text": [
      "{'x': 10, 'y': 20}\n"
     ]
    },
    {
     "data": {
      "text/plain": [
       "30"
      ]
     },
     "execution_count": 158,
     "metadata": {},
     "output_type": "execute_result"
    }
   ],
   "source": [
    "myfunc()"
   ]
  },
  {
   "cell_type": "code",
   "execution_count": 159,
   "id": "1de4daf3",
   "metadata": {},
   "outputs": [
    {
     "data": {
      "text/plain": [
       "('x', 'y', 'z')"
      ]
     },
     "execution_count": 159,
     "metadata": {},
     "output_type": "execute_result"
    }
   ],
   "source": [
    "myfunc.__code__.co_varnames"
   ]
  },
  {
   "cell_type": "code",
   "execution_count": 160,
   "id": "62fbccd1",
   "metadata": {},
   "outputs": [
    {
     "name": "stdout",
     "output_type": "stream",
     "text": [
      "Before, x = 100\n"
     ]
    },
    {
     "ename": "UnboundLocalError",
     "evalue": "local variable 'x' referenced before assignment",
     "output_type": "error",
     "traceback": [
      "\u001b[0;31m---------------------------------------------------------------------------\u001b[0m",
      "\u001b[0;31mUnboundLocalError\u001b[0m                         Traceback (most recent call last)",
      "\u001b[0;32m/var/folders/rr/0mnyyv811fs5vyp22gf4fxk00000gn/T/ipykernel_12804/3762491054.py\u001b[0m in \u001b[0;36m<module>\u001b[0;34m\u001b[0m\n\u001b[1;32m      6\u001b[0m \u001b[0;34m\u001b[0m\u001b[0m\n\u001b[1;32m      7\u001b[0m \u001b[0mprint\u001b[0m\u001b[0;34m(\u001b[0m\u001b[0;34mf'Before, x = {x}'\u001b[0m\u001b[0;34m)\u001b[0m\u001b[0;34m\u001b[0m\u001b[0;34m\u001b[0m\u001b[0m\n\u001b[0;32m----> 8\u001b[0;31m \u001b[0mmyfunc\u001b[0m\u001b[0;34m(\u001b[0m\u001b[0;34m)\u001b[0m\u001b[0;34m\u001b[0m\u001b[0;34m\u001b[0m\u001b[0m\n\u001b[0m\u001b[1;32m      9\u001b[0m \u001b[0mprint\u001b[0m\u001b[0;34m(\u001b[0m\u001b[0;34mf'After, x = {x}'\u001b[0m\u001b[0;34m)\u001b[0m\u001b[0;34m\u001b[0m\u001b[0;34m\u001b[0m\u001b[0m\n",
      "\u001b[0;32m/var/folders/rr/0mnyyv811fs5vyp22gf4fxk00000gn/T/ipykernel_12804/3762491054.py\u001b[0m in \u001b[0;36mmyfunc\u001b[0;34m()\u001b[0m\n\u001b[1;32m      2\u001b[0m \u001b[0;34m\u001b[0m\u001b[0m\n\u001b[1;32m      3\u001b[0m \u001b[0;32mdef\u001b[0m \u001b[0mmyfunc\u001b[0m\u001b[0;34m(\u001b[0m\u001b[0;34m)\u001b[0m\u001b[0;34m:\u001b[0m\u001b[0;34m\u001b[0m\u001b[0;34m\u001b[0m\u001b[0m\n\u001b[0;32m----> 4\u001b[0;31m     \u001b[0mprint\u001b[0m\u001b[0;34m(\u001b[0m\u001b[0;34mf'In myfunc, {x=}'\u001b[0m\u001b[0;34m)\u001b[0m\u001b[0;34m\u001b[0m\u001b[0;34m\u001b[0m\u001b[0m\n\u001b[0m\u001b[1;32m      5\u001b[0m     \u001b[0mx\u001b[0m \u001b[0;34m=\u001b[0m \u001b[0;36m200\u001b[0m\u001b[0;34m\u001b[0m\u001b[0;34m\u001b[0m\u001b[0m\n\u001b[1;32m      6\u001b[0m \u001b[0;34m\u001b[0m\u001b[0m\n",
      "\u001b[0;31mUnboundLocalError\u001b[0m: local variable 'x' referenced before assignment"
     ]
    }
   ],
   "source": [
    "x = 100\n",
    "\n",
    "def myfunc():\n",
    "    print(f'In myfunc, {x=}')    # is x local?  YES....\n",
    "    x = 200   # hoisting problem\n",
    "    \n",
    "print(f'Before, x = {x}')  # is x global? YES, 100\n",
    "myfunc()\n",
    "print(f'After, x = {x}')   "
   ]
  },
  {
   "cell_type": "code",
   "execution_count": 161,
   "id": "9852c4a9",
   "metadata": {},
   "outputs": [
    {
     "data": {
      "text/plain": [
       "('x',)"
      ]
     },
     "execution_count": 161,
     "metadata": {},
     "output_type": "execute_result"
    }
   ],
   "source": [
    "myfunc.__code__.co_varnames"
   ]
  },
  {
   "cell_type": "code",
   "execution_count": 162,
   "id": "f8bada18",
   "metadata": {},
   "outputs": [
    {
     "name": "stdout",
     "output_type": "stream",
     "text": [
      "Before, x = 100\n"
     ]
    },
    {
     "ename": "UnboundLocalError",
     "evalue": "local variable 'x' referenced before assignment",
     "output_type": "error",
     "traceback": [
      "\u001b[0;31m---------------------------------------------------------------------------\u001b[0m",
      "\u001b[0;31mUnboundLocalError\u001b[0m                         Traceback (most recent call last)",
      "\u001b[0;32m/var/folders/rr/0mnyyv811fs5vyp22gf4fxk00000gn/T/ipykernel_12804/1058443838.py\u001b[0m in \u001b[0;36m<module>\u001b[0;34m\u001b[0m\n\u001b[1;32m      6\u001b[0m \u001b[0;34m\u001b[0m\u001b[0m\n\u001b[1;32m      7\u001b[0m \u001b[0mprint\u001b[0m\u001b[0;34m(\u001b[0m\u001b[0;34mf'Before, x = {x}'\u001b[0m\u001b[0;34m)\u001b[0m\u001b[0;34m\u001b[0m\u001b[0;34m\u001b[0m\u001b[0m\n\u001b[0;32m----> 8\u001b[0;31m \u001b[0mmyfunc\u001b[0m\u001b[0;34m(\u001b[0m\u001b[0;34m)\u001b[0m\u001b[0;34m\u001b[0m\u001b[0;34m\u001b[0m\u001b[0m\n\u001b[0m\u001b[1;32m      9\u001b[0m \u001b[0mprint\u001b[0m\u001b[0;34m(\u001b[0m\u001b[0;34mf'After, x = {x}'\u001b[0m\u001b[0;34m)\u001b[0m\u001b[0;34m\u001b[0m\u001b[0;34m\u001b[0m\u001b[0m\n",
      "\u001b[0;32m/var/folders/rr/0mnyyv811fs5vyp22gf4fxk00000gn/T/ipykernel_12804/1058443838.py\u001b[0m in \u001b[0;36mmyfunc\u001b[0;34m()\u001b[0m\n\u001b[1;32m      2\u001b[0m \u001b[0;34m\u001b[0m\u001b[0m\n\u001b[1;32m      3\u001b[0m \u001b[0;32mdef\u001b[0m \u001b[0mmyfunc\u001b[0m\u001b[0;34m(\u001b[0m\u001b[0;34m)\u001b[0m\u001b[0;34m:\u001b[0m\u001b[0;34m\u001b[0m\u001b[0;34m\u001b[0m\u001b[0m\n\u001b[0;32m----> 4\u001b[0;31m     \u001b[0mx\u001b[0m \u001b[0;34m+=\u001b[0m \u001b[0;36m1\u001b[0m\u001b[0;34m\u001b[0m\u001b[0;34m\u001b[0m\u001b[0m\n\u001b[0m\u001b[1;32m      5\u001b[0m     \u001b[0mprint\u001b[0m\u001b[0;34m(\u001b[0m\u001b[0;34mf'In myfunc, {x=}'\u001b[0m\u001b[0;34m)\u001b[0m\u001b[0;34m\u001b[0m\u001b[0;34m\u001b[0m\u001b[0m\n\u001b[1;32m      6\u001b[0m \u001b[0;34m\u001b[0m\u001b[0m\n",
      "\u001b[0;31mUnboundLocalError\u001b[0m: local variable 'x' referenced before assignment"
     ]
    }
   ],
   "source": [
    "x = 100\n",
    "\n",
    "def myfunc():\n",
    "    x += 1    # x = x + 1\n",
    "    print(f'In myfunc, {x=}')  \n",
    "    \n",
    "print(f'Before, x = {x}') \n",
    "myfunc()\n",
    "print(f'After, x = {x}')   "
   ]
  },
  {
   "cell_type": "code",
   "execution_count": null,
   "id": "0863ef19",
   "metadata": {},
   "outputs": [],
   "source": [
    "# what if I want to change the global x?\n",
    "\n",
    "x = 100\n",
    "\n",
    "def myfunc():\n",
    "    global x\n",
    "    x = 200\n",
    "    print(f'In myfunc, {x=}')  \n",
    "    \n",
    "print(f'Before, x = {x}') \n",
    "myfunc()\n",
    "print(f'After, x = {x}')   "
   ]
  }
 ],
 "metadata": {
  "kernelspec": {
   "display_name": "Python 3 (ipykernel)",
   "language": "python",
   "name": "python3"
  },
  "language_info": {
   "codemirror_mode": {
    "name": "ipython",
    "version": 3
   },
   "file_extension": ".py",
   "mimetype": "text/x-python",
   "name": "python",
   "nbconvert_exporter": "python",
   "pygments_lexer": "ipython3",
   "version": "3.10.5"
  }
 },
 "nbformat": 4,
 "nbformat_minor": 5
}

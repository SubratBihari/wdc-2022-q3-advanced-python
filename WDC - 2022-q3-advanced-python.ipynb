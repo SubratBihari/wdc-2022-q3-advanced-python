{
 "cells": [
  {
   "cell_type": "markdown",
   "metadata": {},
   "source": [
    "# Agenda\n",
    "\n",
    "1. Data structures\n",
    "    - Implementation\n",
    "    - `Decimal`\n",
    "    - `namedtuple`\n",
    "    - Dictionary variations\n",
    "2. Functions\n",
    "    - Functions as objects\n",
    "    - Bytecodes\n",
    "    - Arguments and parameters\n",
    "    - Type hints/annotations\n",
    "    - Scoping \n",
    "    - Inner functions\n",
    "    - Dispatch tables\n",
    "3. Functional programming\n",
    "    - Comprehensions (list, dict, set, nested)\n",
    "    - Functions as arguments (`sorted`)\n",
    "    -"
   ]
  }
 ],
 "metadata": {
  "kernelspec": {
   "display_name": "Python 3 (ipykernel)",
   "language": "python",
   "name": "python3"
  },
  "language_info": {
   "codemirror_mode": {
    "name": "ipython",
    "version": 3
   },
   "file_extension": ".py",
   "mimetype": "text/x-python",
   "name": "python",
   "nbconvert_exporter": "python",
   "pygments_lexer": "ipython3",
   "version": "3.10.5"
  }
 },
 "nbformat": 4,
 "nbformat_minor": 4
}

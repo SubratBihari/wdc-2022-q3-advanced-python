{
 "cells": [
  {
   "cell_type": "markdown",
   "metadata": {},
   "source": [
    "# Agenda\n",
    "\n",
    "1. Data structures (today)\n",
    "    - Implementation\n",
    "    - `Decimal`\n",
    "    - `namedtuple`\n",
    "    - Dictionary variations\n",
    "2. Functions (1 day)\n",
    "    - Functions as objects\n",
    "    - Bytecodes\n",
    "    - Arguments and parameters\n",
    "    - Type hints/annotations\n",
    "    - Scoping \n",
    "    - Inner functions\n",
    "    - Dispatch tables\n",
    "3. Functional programming (1 day)\n",
    "    - Comprehensions (list, dict, set, nested)\n",
    "    - Functions as arguments (`sorted`)\n",
    "    - `lambda`, `map`, `filter`\n",
    "4. Modules (a little bit) (0.25 day)\n",
    "5. Objects (2 days)\n",
    "    - Classes\n",
    "    - Instances\n",
    "    - Methods\n",
    "    - Attributes\n",
    "    - Inheritance\n",
    "    - Properties\n",
    "    - Descriptors\n",
    "6. Iterators (0.75 day)\n",
    "    - Making your classes iterable\n",
    "    - Generator functions and generators\n",
    "    - Generator expressions/comprehensions\n",
    "    - Coroutines\n",
    "7. Decorators (0.75 day)\n",
    "    - Decoratorating functions\n",
    "    - Static methods, class methods\n",
    "    - Decoratorating classes\n",
    "8. Concurrency (0.5 day)\n",
    "    - Threading\n",
    "    - Multiprocessing\n",
    "    - `asyncio`"
   ]
  },
  {
   "cell_type": "code",
   "execution_count": null,
   "metadata": {},
   "outputs": [],
   "source": []
  }
 ],
 "metadata": {
  "kernelspec": {
   "display_name": "Python 3 (ipykernel)",
   "language": "python",
   "name": "python3"
  },
  "language_info": {
   "codemirror_mode": {
    "name": "ipython",
    "version": 3
   },
   "file_extension": ".py",
   "mimetype": "text/x-python",
   "name": "python",
   "nbconvert_exporter": "python",
   "pygments_lexer": "ipython3",
   "version": "3.10.5"
  }
 },
 "nbformat": 4,
 "nbformat_minor": 4
}

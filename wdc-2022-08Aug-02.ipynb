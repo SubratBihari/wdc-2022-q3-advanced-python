{
 "cells": [
  {
   "cell_type": "markdown",
   "id": "d8893e83",
   "metadata": {},
   "source": [
    "# Agenda\n",
    "\n",
    "1. Magic methods\n",
    "    - `__str__` and `__repr__`\n",
    "    - `__len__`\n",
    "    - `__eq__` and other equality operators\n",
    "    - `__add__` and other math operators\n",
    "    - `__format__`\n",
    "2. Diagram of Python objects\n",
    "3. Meta types\n",
    "4. Properties\n",
    "5. Descriptors"
   ]
  },
  {
   "cell_type": "code",
   "execution_count": 1,
   "id": "8f541055",
   "metadata": {},
   "outputs": [],
   "source": [
    "a = 1"
   ]
  },
  {
   "cell_type": "code",
   "execution_count": 3,
   "id": "d468e4a4",
   "metadata": {},
   "outputs": [
    {
     "data": {
      "text/plain": [
       "int"
      ]
     },
     "execution_count": 3,
     "metadata": {},
     "output_type": "execute_result"
    }
   ],
   "source": [
    "type(a)   # what is the type of the object that a refers to?"
   ]
  },
  {
   "cell_type": "code",
   "execution_count": 4,
   "id": "2ee61c28",
   "metadata": {},
   "outputs": [
    {
     "data": {
      "text/plain": [
       "{'__name__': '__main__',\n",
       " '__doc__': 'Automatically created module for IPython interactive environment',\n",
       " '__package__': None,\n",
       " '__loader__': None,\n",
       " '__spec__': None,\n",
       " '__builtin__': <module 'builtins' (built-in)>,\n",
       " '__builtins__': <module 'builtins' (built-in)>,\n",
       " '_ih': ['',\n",
       "  'a = 1',\n",
       "  'type(a)',\n",
       "  'type(a)   # what is the type of the object that a refers to?',\n",
       "  'globals()'],\n",
       " '_oh': {2: int, 3: int},\n",
       " '_dh': ['/Users/reuven/Courses/Current/WDC-2022-q3-advanced-python'],\n",
       " 'In': ['',\n",
       "  'a = 1',\n",
       "  'type(a)',\n",
       "  'type(a)   # what is the type of the object that a refers to?',\n",
       "  'globals()'],\n",
       " 'Out': {2: int, 3: int},\n",
       " 'get_ipython': <bound method InteractiveShell.get_ipython of <ipykernel.zmqshell.ZMQInteractiveShell object at 0x112b2cd60>>,\n",
       " 'exit': <IPython.core.autocall.ZMQExitAutocall at 0x112b2d810>,\n",
       " 'quit': <IPython.core.autocall.ZMQExitAutocall at 0x112b2d810>,\n",
       " '_': int,\n",
       " '__': int,\n",
       " '___': '',\n",
       " '_i': 'type(a)   # what is the type of the object that a refers to?',\n",
       " '_ii': 'type(a)',\n",
       " '_iii': 'a = 1',\n",
       " '_i1': 'a = 1',\n",
       " 'a': 1,\n",
       " '_i2': 'type(a)',\n",
       " '_2': int,\n",
       " '_i3': 'type(a)   # what is the type of the object that a refers to?',\n",
       " '_3': int,\n",
       " '_i4': 'globals()'}"
      ]
     },
     "execution_count": 4,
     "metadata": {},
     "output_type": "execute_result"
    }
   ],
   "source": [
    "globals()"
   ]
  },
  {
   "cell_type": "code",
   "execution_count": null,
   "id": "f2b8d0f8",
   "metadata": {},
   "outputs": [],
   "source": [
    "import a\n",
    "\n",
    "a.b   # b is an attribute in a"
   ]
  },
  {
   "cell_type": "code",
   "execution_count": 5,
   "id": "dc2cf80a",
   "metadata": {},
   "outputs": [
    {
     "data": {
      "text/plain": [
       "module"
      ]
     },
     "execution_count": 5,
     "metadata": {},
     "output_type": "execute_result"
    }
   ],
   "source": [
    "import sys\n",
    "type(sys)"
   ]
  },
  {
   "cell_type": "code",
   "execution_count": 7,
   "id": "d7aa689b",
   "metadata": {},
   "outputs": [],
   "source": [
    "# create an empty module, and assign to mymod\n",
    "\n",
    "mymod = type(sys)('mymod')"
   ]
  },
  {
   "cell_type": "code",
   "execution_count": 8,
   "id": "91eee50b",
   "metadata": {},
   "outputs": [
    {
     "data": {
      "text/plain": [
       "module"
      ]
     },
     "execution_count": 8,
     "metadata": {},
     "output_type": "execute_result"
    }
   ],
   "source": [
    "type(mymod)"
   ]
  },
  {
   "cell_type": "code",
   "execution_count": 9,
   "id": "f4c0b878",
   "metadata": {},
   "outputs": [
    {
     "data": {
      "text/plain": [
       "['__doc__', '__loader__', '__name__', '__package__', '__spec__']"
      ]
     },
     "execution_count": 9,
     "metadata": {},
     "output_type": "execute_result"
    }
   ],
   "source": [
    "dir(mymod)"
   ]
  },
  {
   "cell_type": "code",
   "execution_count": 10,
   "id": "26ef1b77",
   "metadata": {},
   "outputs": [],
   "source": [
    "# eval (expects a string with a Python expression), exec (expects a string with Python code)"
   ]
  },
  {
   "cell_type": "code",
   "execution_count": null,
   "id": "9bf1919e",
   "metadata": {},
   "outputs": [],
   "source": [
    "# We could just execute the module code, and have the variables defined in our global\n",
    "exec(open('mymod.py').read())"
   ]
  },
  {
   "cell_type": "code",
   "execution_count": 13,
   "id": "28c78921",
   "metadata": {},
   "outputs": [],
   "source": [
    "# let's instead execute the module's code, putting all of its global variables\n",
    "# into the module's __dict__, which defines its attributse\n",
    "exec(open('mymod.py').read(), \n",
    "     mymod.__dict__)"
   ]
  },
  {
   "cell_type": "code",
   "execution_count": 14,
   "id": "2d56c393",
   "metadata": {},
   "outputs": [
    {
     "data": {
      "text/plain": [
       "['__builtins__',\n",
       " '__doc__',\n",
       " '__loader__',\n",
       " '__name__',\n",
       " '__package__',\n",
       " '__spec__',\n",
       " 'hello',\n",
       " 'x',\n",
       " 'y']"
      ]
     },
     "execution_count": 14,
     "metadata": {},
     "output_type": "execute_result"
    }
   ],
   "source": [
    "dir(mymod)"
   ]
  },
  {
   "cell_type": "code",
   "execution_count": 15,
   "id": "0ac81988",
   "metadata": {},
   "outputs": [],
   "source": [
    "d = {}"
   ]
  },
  {
   "cell_type": "code",
   "execution_count": 16,
   "id": "265b7132",
   "metadata": {},
   "outputs": [],
   "source": [
    "exec(open('mymod.py').read(), d)"
   ]
  },
  {
   "cell_type": "code",
   "execution_count": 18,
   "id": "b1935990",
   "metadata": {},
   "outputs": [
    {
     "data": {
      "text/plain": [
       "dict_keys(['__builtins__', 'x', 'y', 'hello'])"
      ]
     },
     "execution_count": 18,
     "metadata": {},
     "output_type": "execute_result"
    }
   ],
   "source": [
    "d.keys()"
   ]
  },
  {
   "cell_type": "code",
   "execution_count": 20,
   "id": "ffade8c2",
   "metadata": {},
   "outputs": [
    {
     "data": {
      "text/plain": [
       "dict_keys(['__name__', '__doc__', '__package__', '__loader__', '__spec__', '__builtins__', 'x', 'y', 'hello'])"
      ]
     },
     "execution_count": 20,
     "metadata": {},
     "output_type": "execute_result"
    }
   ],
   "source": [
    "mymod.__dict__.keys()"
   ]
  },
  {
   "cell_type": "code",
   "execution_count": 21,
   "id": "baf42460",
   "metadata": {},
   "outputs": [],
   "source": [
    "mymod.abcdefg = 'hijklmnop'"
   ]
  },
  {
   "cell_type": "code",
   "execution_count": 22,
   "id": "f6a55177",
   "metadata": {},
   "outputs": [
    {
     "data": {
      "text/plain": [
       "'hijklmnop'"
      ]
     },
     "execution_count": 22,
     "metadata": {},
     "output_type": "execute_result"
    }
   ],
   "source": [
    "mymod.abcdefg"
   ]
  },
  {
   "cell_type": "code",
   "execution_count": 23,
   "id": "d3a33313",
   "metadata": {},
   "outputs": [
    {
     "data": {
      "text/plain": [
       "dict_keys(['__name__', '__doc__', '__package__', '__loader__', '__spec__', '__builtins__', 'x', 'y', 'hello', 'abcdefg'])"
      ]
     },
     "execution_count": 23,
     "metadata": {},
     "output_type": "execute_result"
    }
   ],
   "source": [
    "mymod.__dict__.keys()"
   ]
  },
  {
   "cell_type": "code",
   "execution_count": 24,
   "id": "8ad25978",
   "metadata": {},
   "outputs": [
    {
     "ename": "AttributeError",
     "evalue": "readonly attribute",
     "output_type": "error",
     "traceback": [
      "\u001b[0;31m---------------------------------------------------------------------------\u001b[0m",
      "\u001b[0;31mAttributeError\u001b[0m                            Traceback (most recent call last)",
      "\u001b[0;32m/var/folders/rr/0mnyyv811fs5vyp22gf4fxk00000gn/T/ipykernel_71742/884656927.py\u001b[0m in \u001b[0;36m<module>\u001b[0;34m\u001b[0m\n\u001b[0;32m----> 1\u001b[0;31m \u001b[0;32mdel\u001b[0m\u001b[0;34m(\u001b[0m\u001b[0mmymod\u001b[0m\u001b[0;34m.\u001b[0m\u001b[0m__dict__\u001b[0m\u001b[0;34m)\u001b[0m\u001b[0;34m\u001b[0m\u001b[0;34m\u001b[0m\u001b[0m\n\u001b[0m",
      "\u001b[0;31mAttributeError\u001b[0m: readonly attribute"
     ]
    }
   ],
   "source": [
    "del(mymod.__dict__)"
   ]
  },
  {
   "cell_type": "code",
   "execution_count": 30,
   "id": "1ac93dad",
   "metadata": {},
   "outputs": [
    {
     "data": {
      "text/plain": [
       "dict_keys(['__doc__', '__package__', '__loader__', '__spec__', '__builtins__', 'x', 'y', 'hello', 'abcdefg'])"
      ]
     },
     "execution_count": 30,
     "metadata": {},
     "output_type": "execute_result"
    }
   ],
   "source": [
    "mymod.__dict__.keys()"
   ]
  },
  {
   "cell_type": "code",
   "execution_count": 39,
   "id": "eef3e625",
   "metadata": {},
   "outputs": [],
   "source": [
    "mymod.__dict__.pop('__spec__')"
   ]
  },
  {
   "cell_type": "code",
   "execution_count": 40,
   "id": "850f6919",
   "metadata": {},
   "outputs": [
    {
     "data": {
      "text/plain": [
       "[]"
      ]
     },
     "execution_count": 40,
     "metadata": {},
     "output_type": "execute_result"
    }
   ],
   "source": [
    "dir(mymod)"
   ]
  },
  {
   "cell_type": "code",
   "execution_count": 41,
   "id": "4ed70e32",
   "metadata": {},
   "outputs": [
    {
     "data": {
      "text/plain": [
       "{}"
      ]
     },
     "execution_count": 41,
     "metadata": {},
     "output_type": "execute_result"
    }
   ],
   "source": [
    "mymod.__dict__"
   ]
  },
  {
   "cell_type": "code",
   "execution_count": 63,
   "id": "b30920c6",
   "metadata": {},
   "outputs": [],
   "source": [
    "class MyClass:\n",
    "    x = 100\n",
    "    \n",
    "    def __init__(self, y):\n",
    "        self.y = y\n",
    "        \n",
    "    def add_to_x(self, n):\n",
    "        MyClass.x += n"
   ]
  },
  {
   "cell_type": "code",
   "execution_count": 56,
   "id": "bf5a2c03",
   "metadata": {},
   "outputs": [],
   "source": [
    "m = MyClass(10)"
   ]
  },
  {
   "cell_type": "code",
   "execution_count": 57,
   "id": "1de010d1",
   "metadata": {},
   "outputs": [
    {
     "data": {
      "text/plain": [
       "{'y': 10}"
      ]
     },
     "execution_count": 57,
     "metadata": {},
     "output_type": "execute_result"
    }
   ],
   "source": [
    "vars(m)   # y is an instance attribute"
   ]
  },
  {
   "cell_type": "code",
   "execution_count": 58,
   "id": "b3b6a90f",
   "metadata": {},
   "outputs": [
    {
     "data": {
      "text/plain": [
       "mappingproxy({'__module__': '__main__',\n",
       "              'x': 100,\n",
       "              '__init__': <function __main__.MyClass.__init__(self, y)>,\n",
       "              'add_to_x': <function __main__.MyClass.add_to_x(self, n)>,\n",
       "              '__dict__': <attribute '__dict__' of 'MyClass' objects>,\n",
       "              '__weakref__': <attribute '__weakref__' of 'MyClass' objects>,\n",
       "              '__doc__': None})"
      ]
     },
     "execution_count": 58,
     "metadata": {},
     "output_type": "execute_result"
    }
   ],
   "source": [
    "vars(MyClass)"
   ]
  },
  {
   "cell_type": "code",
   "execution_count": 59,
   "id": "ea2456b8",
   "metadata": {},
   "outputs": [
    {
     "data": {
      "text/plain": [
       "100"
      ]
     },
     "execution_count": 59,
     "metadata": {},
     "output_type": "execute_result"
    }
   ],
   "source": [
    "# ICPO means that x is still available via m\n",
    "\n",
    "m.x"
   ]
  },
  {
   "cell_type": "code",
   "execution_count": 60,
   "id": "04ada28c",
   "metadata": {},
   "outputs": [],
   "source": [
    "m.add_to_x(5)"
   ]
  },
  {
   "cell_type": "code",
   "execution_count": 61,
   "id": "e6ed4844",
   "metadata": {},
   "outputs": [
    {
     "data": {
      "text/plain": [
       "105"
      ]
     },
     "execution_count": 61,
     "metadata": {},
     "output_type": "execute_result"
    }
   ],
   "source": [
    "MyClass.x"
   ]
  },
  {
   "cell_type": "code",
   "execution_count": 65,
   "id": "99926fe9",
   "metadata": {},
   "outputs": [],
   "source": [
    "class MyClass:\n",
    "    x = 100    # defining MyClass.x, int\n",
    "    \n",
    "    class InnerClass:       # defining MyClass.InnerClass, class\n",
    "        def __init__(self, z):\n",
    "            self.z = z\n",
    "    \n",
    "    def __init__(self, y):  # defining MyClass.__init__, method\n",
    "        self.y = y\n",
    "        \n",
    "    def add_to_x(self, n):  # defining MyClass.add_to_x, method\n",
    "        MyClass.x += n"
   ]
  },
  {
   "cell_type": "markdown",
   "id": "8916e046",
   "metadata": {},
   "source": [
    "# Argument vs. parameter\n",
    "\n",
    "1. Parameter is a local variable, named in the parentheses in the `def` line, right after the function name.\n",
    "        - `def hello(name)`, `name` is a parameter\n",
    "        - `def add(first, second)`, both `first` and `second` are parameters\n",
    "2. Arguments are values, placed in the parentheses when we *call* a function:\n",
    "        - `len('abcd')`, `'abcd'` is the value that we pass\n"
   ]
  },
  {
   "cell_type": "markdown",
   "id": "ec01c756",
   "metadata": {},
   "source": [
    "# \"Magic methods\" in Python\n",
    "\n",
    "\"Magic methods\" all have two underscores before and after the name, known as \"dunder\" in Python.  We don't run these methods directly -- we let Python find and then call them."
   ]
  },
  {
   "cell_type": "code",
   "execution_count": 66,
   "id": "a64e9c08",
   "metadata": {},
   "outputs": [
    {
     "ename": "TypeError",
     "evalue": "object of type 'MyClass' has no len()",
     "output_type": "error",
     "traceback": [
      "\u001b[0;31m---------------------------------------------------------------------------\u001b[0m",
      "\u001b[0;31mTypeError\u001b[0m                                 Traceback (most recent call last)",
      "\u001b[0;32m/var/folders/rr/0mnyyv811fs5vyp22gf4fxk00000gn/T/ipykernel_71742/2976027037.py\u001b[0m in \u001b[0;36m<module>\u001b[0;34m\u001b[0m\n\u001b[1;32m      5\u001b[0m \u001b[0mm\u001b[0m \u001b[0;34m=\u001b[0m \u001b[0mMyClass\u001b[0m\u001b[0;34m(\u001b[0m\u001b[0;34m'abcde'\u001b[0m\u001b[0;34m)\u001b[0m\u001b[0;34m\u001b[0m\u001b[0;34m\u001b[0m\u001b[0m\n\u001b[1;32m      6\u001b[0m \u001b[0;34m\u001b[0m\u001b[0m\n\u001b[0;32m----> 7\u001b[0;31m \u001b[0mlen\u001b[0m\u001b[0;34m(\u001b[0m\u001b[0mm\u001b[0m\u001b[0;34m)\u001b[0m\u001b[0;34m\u001b[0m\u001b[0;34m\u001b[0m\u001b[0m\n\u001b[0m",
      "\u001b[0;31mTypeError\u001b[0m: object of type 'MyClass' has no len()"
     ]
    }
   ],
   "source": [
    "class MyClass:\n",
    "    def __init__(self, x):\n",
    "        self.x = x\n",
    "        \n",
    "m = MyClass('abcde')        \n",
    "\n",
    "len(m)  # this is because len (the function) searches for __len__ (the method)"
   ]
  },
  {
   "cell_type": "code",
   "execution_count": 68,
   "id": "2efda78b",
   "metadata": {},
   "outputs": [
    {
     "data": {
      "text/plain": [
       "5"
      ]
     },
     "execution_count": 68,
     "metadata": {},
     "output_type": "execute_result"
    }
   ],
   "source": [
    "class MyClass:\n",
    "    def __init__(self, x):\n",
    "        self.x = x\n",
    "        \n",
    "    def __len__(self):\n",
    "        return len(self.x)\n",
    "        \n",
    "m = MyClass('abcde')        \n",
    "\n",
    "len(m)  "
   ]
  },
  {
   "cell_type": "code",
   "execution_count": 69,
   "id": "ab778636",
   "metadata": {},
   "outputs": [
    {
     "data": {
      "text/plain": [
       "5"
      ]
     },
     "execution_count": 69,
     "metadata": {},
     "output_type": "execute_result"
    }
   ],
   "source": [
    "m.__len__()   # works, but don't do it!"
   ]
  },
  {
   "cell_type": "code",
   "execution_count": 70,
   "id": "30538825",
   "metadata": {},
   "outputs": [
    {
     "name": "stdout",
     "output_type": "stream",
     "text": [
      "<__main__.MyClass object at 0x112c63760>\n"
     ]
    }
   ],
   "source": [
    "m = MyClass('abcde')\n",
    "print(m)  # --> print(str(m)) --> print(m.__str__()) --> print(MyClass.__str__(m)) --> print(object.__str__(m))"
   ]
  },
  {
   "cell_type": "code",
   "execution_count": 71,
   "id": "f3c13eda",
   "metadata": {},
   "outputs": [
    {
     "data": {
      "text/plain": [
       "'<__main__.MyClass object at 0x112c63760>'"
      ]
     },
     "execution_count": 71,
     "metadata": {},
     "output_type": "execute_result"
    }
   ],
   "source": [
    "object.__str__(m)"
   ]
  },
  {
   "cell_type": "code",
   "execution_count": 72,
   "id": "2cba6bd1",
   "metadata": {},
   "outputs": [
    {
     "data": {
      "text/plain": [
       "5"
      ]
     },
     "execution_count": 72,
     "metadata": {},
     "output_type": "execute_result"
    }
   ],
   "source": [
    "class MyClass:\n",
    "    def __init__(self, x):\n",
    "        self.x = x\n",
    "        \n",
    "    def __len__(self):\n",
    "        return len(self.x)\n",
    "        \n",
    "    def __str__(self):\n",
    "        return f'MyClass object, {vars(self)=}'\n",
    "    \n",
    "m = MyClass('abcde')        \n",
    "\n",
    "len(m)  "
   ]
  },
  {
   "cell_type": "code",
   "execution_count": 73,
   "id": "4faf459e",
   "metadata": {},
   "outputs": [
    {
     "name": "stdout",
     "output_type": "stream",
     "text": [
      "MyClass object, vars(self)={'x': 'abcde'}\n"
     ]
    }
   ],
   "source": [
    "print(m)"
   ]
  },
  {
   "cell_type": "code",
   "execution_count": 74,
   "id": "5da2041d",
   "metadata": {},
   "outputs": [
    {
     "data": {
      "text/plain": [
       "\"MyClass object, vars(self)={'x': 'abcde'}\""
      ]
     },
     "execution_count": 74,
     "metadata": {},
     "output_type": "execute_result"
    }
   ],
   "source": [
    "str(m)"
   ]
  },
  {
   "cell_type": "code",
   "execution_count": 75,
   "id": "0f5671a2",
   "metadata": {},
   "outputs": [],
   "source": [
    "mylist = [10, 20, 30]"
   ]
  },
  {
   "cell_type": "code",
   "execution_count": 76,
   "id": "24936c8f",
   "metadata": {},
   "outputs": [
    {
     "data": {
      "text/plain": [
       "['__add__',\n",
       " '__class__',\n",
       " '__class_getitem__',\n",
       " '__contains__',\n",
       " '__delattr__',\n",
       " '__delitem__',\n",
       " '__dir__',\n",
       " '__doc__',\n",
       " '__eq__',\n",
       " '__format__',\n",
       " '__ge__',\n",
       " '__getattribute__',\n",
       " '__getitem__',\n",
       " '__gt__',\n",
       " '__hash__',\n",
       " '__iadd__',\n",
       " '__imul__',\n",
       " '__init__',\n",
       " '__init_subclass__',\n",
       " '__iter__',\n",
       " '__le__',\n",
       " '__len__',\n",
       " '__lt__',\n",
       " '__mul__',\n",
       " '__ne__',\n",
       " '__new__',\n",
       " '__reduce__',\n",
       " '__reduce_ex__',\n",
       " '__repr__',\n",
       " '__reversed__',\n",
       " '__rmul__',\n",
       " '__setattr__',\n",
       " '__setitem__',\n",
       " '__sizeof__',\n",
       " '__str__',\n",
       " '__subclasshook__',\n",
       " 'append',\n",
       " 'clear',\n",
       " 'copy',\n",
       " 'count',\n",
       " 'extend',\n",
       " 'index',\n",
       " 'insert',\n",
       " 'pop',\n",
       " 'remove',\n",
       " 'reverse',\n",
       " 'sort']"
      ]
     },
     "execution_count": 76,
     "metadata": {},
     "output_type": "execute_result"
    }
   ],
   "source": [
    "dir(list)"
   ]
  },
  {
   "cell_type": "code",
   "execution_count": 77,
   "id": "b5309c66",
   "metadata": {},
   "outputs": [
    {
     "data": {
      "text/plain": [
       "3"
      ]
     },
     "execution_count": 77,
     "metadata": {},
     "output_type": "execute_result"
    }
   ],
   "source": [
    "mylist.__len__()"
   ]
  },
  {
   "cell_type": "code",
   "execution_count": 78,
   "id": "fb301831",
   "metadata": {},
   "outputs": [
    {
     "data": {
      "text/plain": [
       "3"
      ]
     },
     "execution_count": 78,
     "metadata": {},
     "output_type": "execute_result"
    }
   ],
   "source": [
    "list.__len__(mylist)"
   ]
  },
  {
   "cell_type": "code",
   "execution_count": 79,
   "id": "d75d2d1b",
   "metadata": {},
   "outputs": [
    {
     "name": "stdout",
     "output_type": "stream",
     "text": [
      "MyClass object, vars(self)={'x': 'abcde'}\n"
     ]
    }
   ],
   "source": [
    "print(m)"
   ]
  },
  {
   "cell_type": "code",
   "execution_count": 80,
   "id": "fa39276e",
   "metadata": {},
   "outputs": [
    {
     "data": {
      "text/plain": [
       "<__main__.MyClass at 0x112c61c60>"
      ]
     },
     "execution_count": 80,
     "metadata": {},
     "output_type": "execute_result"
    }
   ],
   "source": [
    "m"
   ]
  },
  {
   "cell_type": "code",
   "execution_count": null,
   "id": "ce8f600f",
   "metadata": {},
   "outputs": [],
   "source": [
    "class MyClass:\n",
    "    def __init__(self, x):\n",
    "        self.x = x\n",
    "        \n",
    "    def __len__(self):\n",
    "        return len(self.x)\n",
    "        \n",
    "    def __str__(self):\n",
    "        return f'MyClass object, {vars(self)=}'\n",
    "    \n",
    "m = MyClass('abcde')        \n",
    "\n",
    "len(m)  "
   ]
  },
  {
   "cell_type": "markdown",
   "id": "c8017c5d",
   "metadata": {},
   "source": [
    "# `__str__` vs. `__repr__`\n",
    "\n",
    "`__str__` returns a string, based on the object.  This method is run when we use `print` or `str` on an object.  It's meant to give a string for the end user.\n",
    "\n",
    "`__repr__` returns a string, based on the object.  This is invoked when we're in a debugger or Jupyter.  The output is meant for developers and other internal users.  The returned string should be a legal Python expression, that we can use `eval` on to get the value back.\n",
    "\n",
    "If we don't implement `__repr__`, but do implement `__str__`, then `__repr__` keeps using the default.\n",
    "\n",
    "However, if we *do* implement `__repr__`, and do **not** implement `__str__`, then `__repr__` handles everything.\n",
    "\n",
    "My advice is thus always to write `__repr__`, and only implement `__str__` when you need to have separate outputs."
   ]
  },
  {
   "cell_type": "code",
   "execution_count": 81,
   "id": "97501342",
   "metadata": {},
   "outputs": [
    {
     "data": {
      "text/plain": [
       "5"
      ]
     },
     "execution_count": 81,
     "metadata": {},
     "output_type": "execute_result"
    }
   ],
   "source": [
    "class MyClass:\n",
    "    def __init__(self, x):\n",
    "        self.x = x\n",
    "        \n",
    "    def __len__(self):\n",
    "        return len(self.x)\n",
    "        \n",
    "    def __repr__(self):\n",
    "        return f'MyClass object, {vars(self)=}'\n",
    "    \n",
    "m = MyClass('abcde')        \n",
    "\n",
    "len(m)  "
   ]
  },
  {
   "cell_type": "code",
   "execution_count": 82,
   "id": "fac6190d",
   "metadata": {},
   "outputs": [
    {
     "name": "stdout",
     "output_type": "stream",
     "text": [
      "MyClass object, vars(self)={'x': 'abcde'}\n"
     ]
    }
   ],
   "source": [
    "print(m)"
   ]
  },
  {
   "cell_type": "code",
   "execution_count": 83,
   "id": "6b6b4439",
   "metadata": {},
   "outputs": [
    {
     "data": {
      "text/plain": [
       "\"MyClass object, vars(self)={'x': 'abcde'}\""
      ]
     },
     "execution_count": 83,
     "metadata": {},
     "output_type": "execute_result"
    }
   ],
   "source": [
    "str(m)"
   ]
  },
  {
   "cell_type": "code",
   "execution_count": 84,
   "id": "a1c0e036",
   "metadata": {},
   "outputs": [
    {
     "data": {
      "text/plain": [
       "\"MyClass object, vars(self)={'x': 'abcde'}\""
      ]
     },
     "execution_count": 84,
     "metadata": {},
     "output_type": "execute_result"
    }
   ],
   "source": [
    "repr(m)"
   ]
  },
  {
   "cell_type": "code",
   "execution_count": 85,
   "id": "b77c7c9a",
   "metadata": {},
   "outputs": [
    {
     "data": {
      "text/plain": [
       "MyClass object, vars(self)={'x': 'abcde'}"
      ]
     },
     "execution_count": 85,
     "metadata": {},
     "output_type": "execute_result"
    }
   ],
   "source": [
    "m"
   ]
  },
  {
   "cell_type": "markdown",
   "id": "57aa30b8",
   "metadata": {},
   "source": [
    "# Exercise: Zoo\n",
    "\n",
    "1. Create several classes for different animals:\n",
    "\n",
    "```python\n",
    "wolf = Wolf('black')            # species, color, # legs\n",
    "sheep1 = Sheep('white')\n",
    "sheep2 = Sheep('white')\n",
    "snake = Snake('brown')\n",
    "parrot = Parrot('black')\n",
    "\n",
    "print(wolf)                      # black wolf, 4 legs\n",
    "print(sheep1)                    # white sheep, 4 legs\n",
    "print(sheep2)                    # white sheep, 4 legs\n",
    "print(snake)                     # brown snake, 0 legs\n",
    "print(parrot)                    # black parrot, 2 legs\n",
    "```\n",
    "\n",
    "2. I then want you to create a `Cage` class, into which we can add animals:\n",
    "\n",
    "```python\n",
    "c1 = Cage(1)\n",
    "c1.add_animals(wolf, sheep1, sheep2)\n",
    "print(c1)                        # cage number + animal printouts\n",
    "\n",
    "c2 = Cage(2)                    # an ID number, not that important\n",
    "c2.add_animals(snake, parrot)\n",
    "print(c2)                        # cage number + animal printouts\n",
    "```\n",
    "\n",
    "3. Then create a `Zoo` class, into which we can add cages:\n",
    "\n",
    "```python\n",
    "z.add_cages(c1, c2)\n",
    "print(z)                           # show all cages, all animals\n",
    "\n",
    "print(z.animals_by_color('black'))\n",
    "print(z.number_of_legs())\n",
    "```"
   ]
  },
  {
   "cell_type": "code",
   "execution_count": 86,
   "id": "00844965",
   "metadata": {},
   "outputs": [],
   "source": [
    "class MySubClass:\n",
    "    def a_method(self, x, y):\n",
    "        super().a_method(x)   # finds a_method in a parent class, and invokes it\n",
    "        \n",
    "        "
   ]
  },
  {
   "cell_type": "code",
   "execution_count": 87,
   "id": "63d6f7f7",
   "metadata": {},
   "outputs": [],
   "source": [
    "m = MySubClass()"
   ]
  },
  {
   "cell_type": "code",
   "execution_count": 88,
   "id": "5914745f",
   "metadata": {},
   "outputs": [
    {
     "name": "stdout",
     "output_type": "stream",
     "text": [
      "<__main__.MySubClass object at 0x112c630d0>\n"
     ]
    }
   ],
   "source": [
    "print(m)  # m.__str__() --> MySubClass.__str__ -> object.__str__"
   ]
  },
  {
   "cell_type": "code",
   "execution_count": 89,
   "id": "c080bd19",
   "metadata": {},
   "outputs": [
    {
     "data": {
      "text/plain": [
       "'MySubClass'"
      ]
     },
     "execution_count": 89,
     "metadata": {},
     "output_type": "execute_result"
    }
   ],
   "source": [
    "MySubClass.__name__ "
   ]
  },
  {
   "cell_type": "code",
   "execution_count": 91,
   "id": "955b7f4c",
   "metadata": {},
   "outputs": [
    {
     "data": {
      "text/plain": [
       "'MySubClass'"
      ]
     },
     "execution_count": 91,
     "metadata": {},
     "output_type": "execute_result"
    }
   ],
   "source": [
    "type(m).__name__"
   ]
  },
  {
   "cell_type": "code",
   "execution_count": 110,
   "id": "60da6329",
   "metadata": {},
   "outputs": [
    {
     "name": "stdout",
     "output_type": "stream",
     "text": [
      "black Wolf, 4 legs\n",
      "white Sheep, 4 legs\n",
      "white Sheep, 4 legs\n",
      "brown Snake, 0 legs\n",
      "black Parrot, 2 legs\n",
      "*** Cage ****\n",
      "Cage 1\n",
      "\tblack Wolf, 4 legs\n",
      "\twhite Sheep, 4 legs\n",
      "\twhite Sheep, 4 legs\n",
      "Cage 2\n",
      "\tbrown Snake, 0 legs\n",
      "\tblack Parrot, 2 legs\n",
      "*** Zoo ****\n",
      "Cage 1\n",
      "\tblack Wolf, 4 legs\n",
      "\twhite Sheep, 4 legs\n",
      "\twhite Sheep, 4 legs\n",
      "Cage 2\n",
      "\tbrown Snake, 0 legs\n",
      "\tblack Parrot, 2 legs\n",
      "white Sheep, 4 legs\n",
      "white Sheep, 4 legs\n",
      "14\n"
     ]
    }
   ],
   "source": [
    "class Animal:\n",
    "    number_of_legs = '(No legs; abstract!)'\n",
    "    \n",
    "    def __init__(self, color):\n",
    "        self.color = color\n",
    "        self.species = type(self).__name__\n",
    "        \n",
    "    def __repr__(self):\n",
    "        return f'{self.color} {self.species}, {self.number_of_legs} legs'\n",
    "\n",
    "class Wolf(Animal):\n",
    "    number_of_legs = 4   # Wolf.number_of_legs\n",
    "        \n",
    "class Sheep(Animal):\n",
    "    number_of_legs = 4   # Sheep.number_of_legs\n",
    "        \n",
    "class Snake(Animal):\n",
    "    number_of_legs = 0\n",
    "        \n",
    "class Parrot(Animal):\n",
    "    number_of_legs = 2\n",
    "\n",
    "wolf = Wolf('black')            # species, color, # legs\n",
    "sheep1 = Sheep('white')\n",
    "sheep2 = Sheep('white')\n",
    "snake = Snake('brown')\n",
    "parrot = Parrot('black')\n",
    "\n",
    "print(wolf)                      # black wolf, 4 legs\n",
    "print(sheep1)                    # white sheep, 4 legs\n",
    "print(sheep2)                    # white sheep, 4 legs\n",
    "print(snake)                     # brown snake, 0 legs\n",
    "print(parrot)                    # black parrot, 2 legs\n",
    "\n",
    "class Cage:\n",
    "    def __init__(self, id_number):\n",
    "        self.id_number = id_number\n",
    "        self.animals = []\n",
    "        \n",
    "    def add_animals(self, *args):\n",
    "        self.animals += args\n",
    "        \n",
    "    def __repr__(self):\n",
    "        output = f'Cage {self.id_number}\\n'\n",
    "        \n",
    "        output += '\\n'.join([f'\\t{one_animal}'\n",
    "                            for one_animal in self.animals])\n",
    "        \n",
    "        return output\n",
    "\n",
    "print('*** Cage ****')\n",
    "\n",
    "c1 = Cage(1)\n",
    "c1.add_animals(wolf, sheep1, sheep2)\n",
    "print(c1)                        # cage number + animal printouts\n",
    "\n",
    "c2 = Cage(2)                    # an ID number, not that important\n",
    "c2.add_animals(snake, parrot)\n",
    "print(c2)                        # cage number + animal printouts\n",
    "\n",
    "class Zoo:\n",
    "    def __init__(self):\n",
    "        self.cages = []\n",
    "        \n",
    "    def add_cages(self, *args):\n",
    "        self.cages += args\n",
    "        \n",
    "    def __repr__(self):\n",
    "        return '\\n'.join([str(one_cage)\n",
    "                         for one_cage in self.cages])\n",
    "    \n",
    "    def animals_by_color(self, color):\n",
    "        return '\\n'.join([str(one_animal)\n",
    "                          for one_cage in self.cages\n",
    "                          for one_animal in one_cage.animals\n",
    "                          if one_animal.color == color])\n",
    "    \n",
    "    def number_of_legs(self):\n",
    "        return sum([one_animal.number_of_legs\n",
    "                    for one_cage in self.cages\n",
    "                    for one_animal in one_cage.animals])\n",
    "\n",
    "print('*** Zoo ****')\n",
    "z = Zoo()\n",
    "z.add_cages(c1, c2)\n",
    "print(z)                           # show all cages, all animals\n",
    "\n",
    "print(z.animals_by_color('white'))\n",
    "print(z.number_of_legs())\n"
   ]
  },
  {
   "cell_type": "markdown",
   "id": "98c07e0d",
   "metadata": {},
   "source": [
    "# Next up\n",
    "\n",
    "- More magic methods (`==`, `+`)\n",
    "- Diagram of objects + classes (+ metaclasses)\n",
    "- Properties + descriptors\n",
    "\n",
    "Resume at 11:10"
   ]
  },
  {
   "cell_type": "code",
   "execution_count": 111,
   "id": "b631b022",
   "metadata": {},
   "outputs": [
    {
     "ename": "TypeError",
     "evalue": "object of type 'int' has no len()",
     "output_type": "error",
     "traceback": [
      "\u001b[0;31m---------------------------------------------------------------------------\u001b[0m",
      "\u001b[0;31mTypeError\u001b[0m                                 Traceback (most recent call last)",
      "\u001b[0;32m/var/folders/rr/0mnyyv811fs5vyp22gf4fxk00000gn/T/ipykernel_71742/4108502181.py\u001b[0m in \u001b[0;36m<module>\u001b[0;34m\u001b[0m\n\u001b[0;32m----> 1\u001b[0;31m \u001b[0mlen\u001b[0m\u001b[0;34m(\u001b[0m\u001b[0;36m5\u001b[0m\u001b[0;34m)\u001b[0m\u001b[0;34m\u001b[0m\u001b[0;34m\u001b[0m\u001b[0m\n\u001b[0m",
      "\u001b[0;31mTypeError\u001b[0m: object of type 'int' has no len()"
     ]
    }
   ],
   "source": [
    "len(5)"
   ]
  },
  {
   "cell_type": "code",
   "execution_count": 112,
   "id": "e185be9f",
   "metadata": {},
   "outputs": [],
   "source": [
    "class MyClass:\n",
    "    def __init__(self, x):\n",
    "        self.x = x\n",
    "        \n",
    "    def __repr__(self):\n",
    "        return f'MyClass object, {vars(self)=}'"
   ]
  },
  {
   "cell_type": "code",
   "execution_count": 113,
   "id": "76c84b64",
   "metadata": {},
   "outputs": [
    {
     "name": "stdout",
     "output_type": "stream",
     "text": [
      "MyClass object, vars(self)={'x': 'abcd'}\n"
     ]
    }
   ],
   "source": [
    "m = MyClass('abcd')\n",
    "print(m)"
   ]
  },
  {
   "cell_type": "code",
   "execution_count": 114,
   "id": "2fba16f5",
   "metadata": {},
   "outputs": [
    {
     "name": "stdout",
     "output_type": "stream",
     "text": [
      "MyClass object, vars(self)={'x': 'abcd'}\n"
     ]
    }
   ],
   "source": [
    "n = MyClass('abcd')\n",
    "print(n)"
   ]
  },
  {
   "cell_type": "code",
   "execution_count": 115,
   "id": "9f2d73b0",
   "metadata": {},
   "outputs": [
    {
     "data": {
      "text/plain": [
       "False"
      ]
     },
     "execution_count": 115,
     "metadata": {},
     "output_type": "execute_result"
    }
   ],
   "source": [
    "m == n    # m.__eq__(n)"
   ]
  },
  {
   "cell_type": "code",
   "execution_count": 116,
   "id": "01b1c4e7",
   "metadata": {},
   "outputs": [],
   "source": [
    "class MyClass:\n",
    "    def __init__(self, x):\n",
    "        self.x = x\n",
    "        \n",
    "    def __repr__(self):\n",
    "        return f'MyClass object, {vars(self)=}'\n",
    "    \n",
    "    def __eq__(self, other):   # duck typing\n",
    "        return vars(self) == vars(other)"
   ]
  },
  {
   "cell_type": "code",
   "execution_count": 119,
   "id": "7f3b8435",
   "metadata": {},
   "outputs": [],
   "source": [
    "m = MyClass('abcd')\n",
    "n = MyClass('abcd')"
   ]
  },
  {
   "cell_type": "code",
   "execution_count": 120,
   "id": "8f0049e9",
   "metadata": {},
   "outputs": [
    {
     "data": {
      "text/plain": [
       "True"
      ]
     },
     "execution_count": 120,
     "metadata": {},
     "output_type": "execute_result"
    }
   ],
   "source": [
    "m == n"
   ]
  },
  {
   "cell_type": "code",
   "execution_count": 127,
   "id": "71bda633",
   "metadata": {},
   "outputs": [],
   "source": [
    "# stricter interpretation\n",
    "\n",
    "class MyClass:\n",
    "    def __init__(self, x):\n",
    "        self.x = x\n",
    "        \n",
    "    def __repr__(self):\n",
    "        return f'MyClass object, {vars(self)=}'\n",
    "    \n",
    "    def __eq__(self, other):   # duck typing\n",
    "        for key, value in vars(self).items():\n",
    "            if not hasattr(other, key):  # does other have all of the attributes we have in self?\n",
    "                return False\n",
    "            \n",
    "            # does other have the same values for the same attributes?\n",
    "            if getattr(self, key) != getattr(other, key): \n",
    "                return False\n",
    "            \n",
    "        return True"
   ]
  },
  {
   "cell_type": "code",
   "execution_count": 128,
   "id": "d79f5b4f",
   "metadata": {},
   "outputs": [
    {
     "data": {
      "text/plain": [
       "True"
      ]
     },
     "execution_count": 128,
     "metadata": {},
     "output_type": "execute_result"
    }
   ],
   "source": [
    "m = MyClass('abcd')\n",
    "n = MyClass('abcd')\n",
    "\n",
    "m == n"
   ]
  },
  {
   "cell_type": "markdown",
   "id": "99f5b25f",
   "metadata": {},
   "source": [
    "# Other comparison methods\n",
    "\n",
    "- `__eq__` (`==`)\n",
    "- `__ne__` (`!=`)\n",
    "- `__lt__` (`<`)\n",
    "- `__gt__` (`>`)\n",
    "- `__le__` (`<=`)\n",
    "- `__ge__` (`>=`)\n"
   ]
  },
  {
   "cell_type": "code",
   "execution_count": 139,
   "id": "00bd1571",
   "metadata": {},
   "outputs": [],
   "source": [
    "# If I implement both __eq__ and __lt__, \n",
    "# we can use total_ordering to fill in the blanks\n",
    "\n",
    "from functools import total_ordering\n",
    "\n",
    "@total_ordering\n",
    "class MyClass:\n",
    "    def __init__(self, x):\n",
    "        self.x = x\n",
    "        \n",
    "    def __repr__(self):\n",
    "        return f'MyClass object, {vars(self)=}'\n",
    "    \n",
    "    def __eq__(self, other):   # duck typing\n",
    "        for key, value in vars(self).items():\n",
    "            if not hasattr(other, key):  # does other have all of the attributes we have in self?\n",
    "                return False\n",
    "            \n",
    "            # does other have the same values for the same attributes?\n",
    "            if getattr(self, key) != getattr(other, key): \n",
    "                return False\n",
    "            \n",
    "        return True\n",
    "    \n",
    "    def __lt__(self, other):   # with this, we can run sorted() on our objects\n",
    "        if not hasattr(other, 'x'):\n",
    "            print(f'No attribute x -- returning False')\n",
    "            return False\n",
    "\n",
    "        return self.x < other.x   # self.x.__lt__(other.x)"
   ]
  },
  {
   "cell_type": "code",
   "execution_count": 140,
   "id": "26575d74",
   "metadata": {},
   "outputs": [],
   "source": [
    "m = MyClass('abcd')\n",
    "n = MyClass('bcde')"
   ]
  },
  {
   "cell_type": "code",
   "execution_count": 141,
   "id": "115e5a2d",
   "metadata": {},
   "outputs": [
    {
     "data": {
      "text/plain": [
       "True"
      ]
     },
     "execution_count": 141,
     "metadata": {},
     "output_type": "execute_result"
    }
   ],
   "source": [
    "m < n"
   ]
  },
  {
   "cell_type": "code",
   "execution_count": 142,
   "id": "0d3183fc",
   "metadata": {},
   "outputs": [
    {
     "name": "stdout",
     "output_type": "stream",
     "text": [
      "No attribute x -- returning False\n"
     ]
    },
    {
     "data": {
      "text/plain": [
       "False"
      ]
     },
     "execution_count": 142,
     "metadata": {},
     "output_type": "execute_result"
    }
   ],
   "source": [
    "m < 5"
   ]
  },
  {
   "cell_type": "code",
   "execution_count": 143,
   "id": "4f8cb1d9",
   "metadata": {},
   "outputs": [
    {
     "data": {
      "text/plain": [
       "False"
      ]
     },
     "execution_count": 143,
     "metadata": {},
     "output_type": "execute_result"
    }
   ],
   "source": [
    "m >= n"
   ]
  },
  {
   "cell_type": "code",
   "execution_count": 144,
   "id": "c9c0ef0f",
   "metadata": {},
   "outputs": [
    {
     "ename": "TypeError",
     "evalue": "unsupported operand type(s) for +: 'MyClass' and 'MyClass'",
     "output_type": "error",
     "traceback": [
      "\u001b[0;31m---------------------------------------------------------------------------\u001b[0m",
      "\u001b[0;31mTypeError\u001b[0m                                 Traceback (most recent call last)",
      "\u001b[0;32m/var/folders/rr/0mnyyv811fs5vyp22gf4fxk00000gn/T/ipykernel_71742/3111510289.py\u001b[0m in \u001b[0;36m<module>\u001b[0;34m\u001b[0m\n\u001b[0;32m----> 1\u001b[0;31m \u001b[0mm\u001b[0m \u001b[0;34m+\u001b[0m \u001b[0mn\u001b[0m\u001b[0;34m\u001b[0m\u001b[0;34m\u001b[0m\u001b[0m\n\u001b[0m",
      "\u001b[0;31mTypeError\u001b[0m: unsupported operand type(s) for +: 'MyClass' and 'MyClass'"
     ]
    }
   ],
   "source": [
    "m + n"
   ]
  },
  {
   "cell_type": "code",
   "execution_count": 145,
   "id": "f80e94cc",
   "metadata": {},
   "outputs": [
    {
     "data": {
      "text/plain": [
       "15"
      ]
     },
     "execution_count": 145,
     "metadata": {},
     "output_type": "execute_result"
    }
   ],
   "source": [
    "10 + 5"
   ]
  },
  {
   "cell_type": "code",
   "execution_count": 146,
   "id": "36651b45",
   "metadata": {},
   "outputs": [
    {
     "data": {
      "text/plain": [
       "[10, 20, 30, 40, 50, 60]"
      ]
     },
     "execution_count": 146,
     "metadata": {},
     "output_type": "execute_result"
    }
   ],
   "source": [
    "[10, 20, 30] + [40, 50, 60]"
   ]
  },
  {
   "cell_type": "code",
   "execution_count": 147,
   "id": "8892d669",
   "metadata": {},
   "outputs": [
    {
     "ename": "TypeError",
     "evalue": "unsupported operand type(s) for +: 'MyClass' and 'MyClass'",
     "output_type": "error",
     "traceback": [
      "\u001b[0;31m---------------------------------------------------------------------------\u001b[0m",
      "\u001b[0;31mTypeError\u001b[0m                                 Traceback (most recent call last)",
      "\u001b[0;32m/var/folders/rr/0mnyyv811fs5vyp22gf4fxk00000gn/T/ipykernel_71742/2813515876.py\u001b[0m in \u001b[0;36m<module>\u001b[0;34m\u001b[0m\n\u001b[1;32m      9\u001b[0m \u001b[0mn\u001b[0m \u001b[0;34m=\u001b[0m \u001b[0mMyClass\u001b[0m\u001b[0;34m(\u001b[0m\u001b[0;34m'bcde'\u001b[0m\u001b[0;34m)\u001b[0m\u001b[0;34m\u001b[0m\u001b[0;34m\u001b[0m\u001b[0m\n\u001b[1;32m     10\u001b[0m \u001b[0;34m\u001b[0m\u001b[0m\n\u001b[0;32m---> 11\u001b[0;31m \u001b[0mm\u001b[0m \u001b[0;34m+\u001b[0m \u001b[0mn\u001b[0m\u001b[0;34m\u001b[0m\u001b[0;34m\u001b[0m\u001b[0m\n\u001b[0m",
      "\u001b[0;31mTypeError\u001b[0m: unsupported operand type(s) for +: 'MyClass' and 'MyClass'"
     ]
    }
   ],
   "source": [
    "class MyClass:\n",
    "    def __init__(self, x):\n",
    "        self.x = x\n",
    "        \n",
    "    def __repr__(self):\n",
    "        return f'MyClass object, {vars(self)=}'\n",
    "\n",
    "m = MyClass('abcd')\n",
    "n = MyClass('bcde')\n",
    "\n",
    "m + n    # m.__add__(n)"
   ]
  },
  {
   "cell_type": "code",
   "execution_count": 148,
   "id": "1ca80576",
   "metadata": {},
   "outputs": [
    {
     "ename": "TypeError",
     "evalue": "unsupported operand type(s) for +: 'int' and 'str'",
     "output_type": "error",
     "traceback": [
      "\u001b[0;31m---------------------------------------------------------------------------\u001b[0m",
      "\u001b[0;31mTypeError\u001b[0m                                 Traceback (most recent call last)",
      "\u001b[0;32m/var/folders/rr/0mnyyv811fs5vyp22gf4fxk00000gn/T/ipykernel_71742/1777484227.py\u001b[0m in \u001b[0;36m<module>\u001b[0;34m\u001b[0m\n\u001b[0;32m----> 1\u001b[0;31m \u001b[0;36m10\u001b[0m \u001b[0;34m+\u001b[0m \u001b[0;34m'abcd'\u001b[0m\u001b[0;34m\u001b[0m\u001b[0;34m\u001b[0m\u001b[0m\n\u001b[0m",
      "\u001b[0;31mTypeError\u001b[0m: unsupported operand type(s) for +: 'int' and 'str'"
     ]
    }
   ],
   "source": [
    "10 + 'abcd'  # int.__add__ fails"
   ]
  },
  {
   "cell_type": "code",
   "execution_count": 149,
   "id": "e2a179e6",
   "metadata": {},
   "outputs": [
    {
     "ename": "TypeError",
     "evalue": "can only concatenate str (not \"int\") to str",
     "output_type": "error",
     "traceback": [
      "\u001b[0;31m---------------------------------------------------------------------------\u001b[0m",
      "\u001b[0;31mTypeError\u001b[0m                                 Traceback (most recent call last)",
      "\u001b[0;32m/var/folders/rr/0mnyyv811fs5vyp22gf4fxk00000gn/T/ipykernel_71742/458877110.py\u001b[0m in \u001b[0;36m<module>\u001b[0;34m\u001b[0m\n\u001b[0;32m----> 1\u001b[0;31m \u001b[0;34m'abcd'\u001b[0m \u001b[0;34m+\u001b[0m \u001b[0;36m10\u001b[0m\u001b[0;34m\u001b[0m\u001b[0;34m\u001b[0m\u001b[0m\n\u001b[0m",
      "\u001b[0;31mTypeError\u001b[0m: can only concatenate str (not \"int\") to str"
     ]
    }
   ],
   "source": [
    "'abcd' + 10  # str.__add__ fails"
   ]
  },
  {
   "cell_type": "code",
   "execution_count": 155,
   "id": "174350f4",
   "metadata": {},
   "outputs": [
    {
     "data": {
      "text/plain": [
       "MyClass object, vars(self)={'x': 'abcdbcde'}"
      ]
     },
     "execution_count": 155,
     "metadata": {},
     "output_type": "execute_result"
    }
   ],
   "source": [
    "class MyClass:\n",
    "    def __init__(self, x):\n",
    "        self.x = x\n",
    "        \n",
    "    def __repr__(self):\n",
    "        return f'MyClass object, {vars(self)=}'\n",
    "    \n",
    "    def __add__(self, other):\n",
    "        if hasattr(other, 'x'):\n",
    "            return MyClass(self.x + other.x)\n",
    "        else:\n",
    "            return MyClass(self.x + str(other))\n",
    "\n",
    "m = MyClass('abcd')\n",
    "n = MyClass('bcde')\n",
    "\n",
    "m + n    # m.__add__(n)"
   ]
  },
  {
   "cell_type": "code",
   "execution_count": 156,
   "id": "d5b91241",
   "metadata": {},
   "outputs": [
    {
     "data": {
      "text/plain": [
       "MyClass object, vars(self)={'x': 'abcd5'}"
      ]
     },
     "execution_count": 156,
     "metadata": {},
     "output_type": "execute_result"
    }
   ],
   "source": [
    "m + 5"
   ]
  },
  {
   "cell_type": "code",
   "execution_count": 157,
   "id": "6438a180",
   "metadata": {},
   "outputs": [
    {
     "ename": "TypeError",
     "evalue": "unsupported operand type(s) for +: 'int' and 'MyClass'",
     "output_type": "error",
     "traceback": [
      "\u001b[0;31m---------------------------------------------------------------------------\u001b[0m",
      "\u001b[0;31mTypeError\u001b[0m                                 Traceback (most recent call last)",
      "\u001b[0;32m/var/folders/rr/0mnyyv811fs5vyp22gf4fxk00000gn/T/ipykernel_71742/1790696852.py\u001b[0m in \u001b[0;36m<module>\u001b[0;34m\u001b[0m\n\u001b[0;32m----> 1\u001b[0;31m \u001b[0;36m5\u001b[0m \u001b[0;34m+\u001b[0m \u001b[0mm\u001b[0m\u001b[0;34m\u001b[0m\u001b[0;34m\u001b[0m\u001b[0m\n\u001b[0m",
      "\u001b[0;31mTypeError\u001b[0m: unsupported operand type(s) for +: 'int' and 'MyClass'"
     ]
    }
   ],
   "source": [
    "5 + m"
   ]
  },
  {
   "cell_type": "code",
   "execution_count": 167,
   "id": "693c62b7",
   "metadata": {},
   "outputs": [
    {
     "data": {
      "text/plain": [
       "MyClass object, vars(self)={'x': 'abcdbcde'}"
      ]
     },
     "execution_count": 167,
     "metadata": {},
     "output_type": "execute_result"
    }
   ],
   "source": [
    "class MyClass:\n",
    "    def __init__(self, x):\n",
    "        self.x = x\n",
    "        \n",
    "    def __repr__(self):\n",
    "        return f'MyClass object, {vars(self)=}'\n",
    "    \n",
    "    def __add__(self, other):\n",
    "        if hasattr(other, 'x'):\n",
    "            return MyClass(self.x + other.x)\n",
    "        else:\n",
    "            return MyClass(self.x + str(other))\n",
    "        \n",
    "    def __iadd__(self, other):   # inplace add, aka += \n",
    "        if hasattr(other, 'x'):\n",
    "            self.x = self.x + other.x\n",
    "        else:\n",
    "            self.x = self.x + str(other)\n",
    "            \n",
    "        return self\n",
    "\n",
    "    def __radd__(self, other):  # reverse add -- \n",
    "        if hasattr(other, 'x'):\n",
    "            return MyClass(other.x + self.x)\n",
    "        else:\n",
    "            return MyClass(str(other) + self.x)\n",
    "\n",
    "m = MyClass('abcd')\n",
    "n = MyClass('bcde')\n",
    "\n",
    "m + n    # m.__add__(n)"
   ]
  },
  {
   "cell_type": "code",
   "execution_count": 168,
   "id": "34030568",
   "metadata": {},
   "outputs": [
    {
     "data": {
      "text/plain": [
       "MyClass object, vars(self)={'x': 'abcd5'}"
      ]
     },
     "execution_count": 168,
     "metadata": {},
     "output_type": "execute_result"
    }
   ],
   "source": [
    "m + 5"
   ]
  },
  {
   "cell_type": "code",
   "execution_count": 169,
   "id": "fdb2db56",
   "metadata": {},
   "outputs": [
    {
     "data": {
      "text/plain": [
       "MyClass object, vars(self)={'x': '5abcd'}"
      ]
     },
     "execution_count": 169,
     "metadata": {},
     "output_type": "execute_result"
    }
   ],
   "source": [
    "5 + m"
   ]
  },
  {
   "cell_type": "markdown",
   "id": "22e6037a",
   "metadata": {},
   "source": [
    "# Math operators, and their methods\n",
    "\n",
    "- `+` -- `__add__`, `__radd__`, `__iadd__`\n",
    "- `-` -- `__sub__`, `__rsub__`, `__isub__`\n",
    "- `*` -- `__mul__`, `__rmul__`, `__imul__`\n",
    "- `/` -- `__truediv__`, `__rtruediv__`, `__itruediv__`\n"
   ]
  },
  {
   "cell_type": "code",
   "execution_count": 170,
   "id": "b33fe5de",
   "metadata": {},
   "outputs": [
    {
     "ename": "NameError",
     "evalue": "name 'b' is not defined",
     "output_type": "error",
     "traceback": [
      "\u001b[0;31m---------------------------------------------------------------------------\u001b[0m",
      "\u001b[0;31mNameError\u001b[0m                                 Traceback (most recent call last)",
      "\u001b[0;32m/var/folders/rr/0mnyyv811fs5vyp22gf4fxk00000gn/T/ipykernel_71742/3175996266.py\u001b[0m in \u001b[0;36m<module>\u001b[0;34m\u001b[0m\n\u001b[0;32m----> 1\u001b[0;31m \u001b[0ma\u001b[0m \u001b[0;34m/\u001b[0m \u001b[0mb\u001b[0m   \u001b[0;31m# if a.__truediv__ doesn't know what to do with b, it can run b.__rtruediv__(a)\u001b[0m\u001b[0;34m\u001b[0m\u001b[0;34m\u001b[0m\u001b[0m\n\u001b[0m",
      "\u001b[0;31mNameError\u001b[0m: name 'b' is not defined"
     ]
    }
   ],
   "source": [
    "a / b   # if a.__truediv__ doesn't know what to do with b, it can run b.__rtruediv__(a)"
   ]
  },
  {
   "cell_type": "code",
   "execution_count": 171,
   "id": "335cd7b0",
   "metadata": {},
   "outputs": [
    {
     "name": "stdout",
     "output_type": "stream",
     "text": [
      "x = 10\n"
     ]
    }
   ],
   "source": [
    "# old-time way to interpolate strings\n",
    "\n",
    "x = 10\n",
    "\n",
    "print('x = %d' % x)"
   ]
  },
  {
   "cell_type": "code",
   "execution_count": 172,
   "id": "df2b945b",
   "metadata": {},
   "outputs": [
    {
     "data": {
      "text/plain": [
       "'x = 10'"
      ]
     },
     "execution_count": 172,
     "metadata": {},
     "output_type": "execute_result"
    }
   ],
   "source": [
    "'x = %d'.__mod__(x)"
   ]
  },
  {
   "cell_type": "code",
   "execution_count": 173,
   "id": "b4eeed30",
   "metadata": {},
   "outputs": [
    {
     "data": {
      "text/plain": [
       "3.3333333333333335"
      ]
     },
     "execution_count": 173,
     "metadata": {},
     "output_type": "execute_result"
    }
   ],
   "source": [
    "10 / 3 "
   ]
  },
  {
   "cell_type": "code",
   "execution_count": 174,
   "id": "a4df0aa3",
   "metadata": {},
   "outputs": [
    {
     "data": {
      "text/plain": [
       "1"
      ]
     },
     "execution_count": 174,
     "metadata": {},
     "output_type": "execute_result"
    }
   ],
   "source": [
    "10 % 3 #  modulus == remainder"
   ]
  },
  {
   "cell_type": "code",
   "execution_count": 175,
   "id": "64d623cf",
   "metadata": {},
   "outputs": [],
   "source": [
    "a = Animal('color')"
   ]
  },
  {
   "cell_type": "code",
   "execution_count": 176,
   "id": "ffcbdf9c",
   "metadata": {},
   "outputs": [
    {
     "data": {
      "text/plain": [
       "__main__.Animal"
      ]
     },
     "execution_count": 176,
     "metadata": {},
     "output_type": "execute_result"
    }
   ],
   "source": [
    "type(a)"
   ]
  },
  {
   "cell_type": "code",
   "execution_count": 177,
   "id": "77415c01",
   "metadata": {},
   "outputs": [
    {
     "data": {
      "text/plain": [
       "(object,)"
      ]
     },
     "execution_count": 177,
     "metadata": {},
     "output_type": "execute_result"
    }
   ],
   "source": [
    "Animal.__bases__"
   ]
  },
  {
   "cell_type": "code",
   "execution_count": null,
   "id": "0a6140cc",
   "metadata": {},
   "outputs": [],
   "source": []
  }
 ],
 "metadata": {
  "kernelspec": {
   "display_name": "Python 3 (ipykernel)",
   "language": "python",
   "name": "python3"
  },
  "language_info": {
   "codemirror_mode": {
    "name": "ipython",
    "version": 3
   },
   "file_extension": ".py",
   "mimetype": "text/x-python",
   "name": "python",
   "nbconvert_exporter": "python",
   "pygments_lexer": "ipython3",
   "version": "3.10.5"
  }
 },
 "nbformat": 4,
 "nbformat_minor": 5
}

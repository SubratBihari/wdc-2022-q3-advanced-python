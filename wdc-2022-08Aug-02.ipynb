{
 "cells": [
  {
   "cell_type": "markdown",
   "id": "d8893e83",
   "metadata": {},
   "source": [
    "# Agenda\n",
    "\n",
    "1. Magic methods\n",
    "    - `__str__` and `__repr__`\n",
    "    - `__len__`\n",
    "    - `__eq__` and other equality operators\n",
    "    - `__add__` and other math operators\n",
    "    - `__format__`\n",
    "2. Diagram of Python objects\n",
    "3. Meta types\n",
    "4. Properties\n",
    "5. Descriptors"
   ]
  },
  {
   "cell_type": "code",
   "execution_count": 1,
   "id": "a3386b40",
   "metadata": {},
   "outputs": [],
   "source": [
    "a = 1"
   ]
  },
  {
   "cell_type": "code",
   "execution_count": 3,
   "id": "69404767",
   "metadata": {},
   "outputs": [
    {
     "data": {
      "text/plain": [
       "int"
      ]
     },
     "execution_count": 3,
     "metadata": {},
     "output_type": "execute_result"
    }
   ],
   "source": [
    "type(a)   # what is the type of the object that a refers to?"
   ]
  },
  {
   "cell_type": "code",
   "execution_count": 4,
   "id": "93f95da6",
   "metadata": {},
   "outputs": [
    {
     "data": {
      "text/plain": [
       "{'__name__': '__main__',\n",
       " '__doc__': 'Automatically created module for IPython interactive environment',\n",
       " '__package__': None,\n",
       " '__loader__': None,\n",
       " '__spec__': None,\n",
       " '__builtin__': <module 'builtins' (built-in)>,\n",
       " '__builtins__': <module 'builtins' (built-in)>,\n",
       " '_ih': ['',\n",
       "  'a = 1',\n",
       "  'type(a)',\n",
       "  'type(a)   # what is the type of the object that a refers to?',\n",
       "  'globals()'],\n",
       " '_oh': {2: int, 3: int},\n",
       " '_dh': ['/Users/reuven/Courses/Current/WDC-2022-q3-advanced-python'],\n",
       " 'In': ['',\n",
       "  'a = 1',\n",
       "  'type(a)',\n",
       "  'type(a)   # what is the type of the object that a refers to?',\n",
       "  'globals()'],\n",
       " 'Out': {2: int, 3: int},\n",
       " 'get_ipython': <bound method InteractiveShell.get_ipython of <ipykernel.zmqshell.ZMQInteractiveShell object at 0x112b2cd60>>,\n",
       " 'exit': <IPython.core.autocall.ZMQExitAutocall at 0x112b2d810>,\n",
       " 'quit': <IPython.core.autocall.ZMQExitAutocall at 0x112b2d810>,\n",
       " '_': int,\n",
       " '__': int,\n",
       " '___': '',\n",
       " '_i': 'type(a)   # what is the type of the object that a refers to?',\n",
       " '_ii': 'type(a)',\n",
       " '_iii': 'a = 1',\n",
       " '_i1': 'a = 1',\n",
       " 'a': 1,\n",
       " '_i2': 'type(a)',\n",
       " '_2': int,\n",
       " '_i3': 'type(a)   # what is the type of the object that a refers to?',\n",
       " '_3': int,\n",
       " '_i4': 'globals()'}"
      ]
     },
     "execution_count": 4,
     "metadata": {},
     "output_type": "execute_result"
    }
   ],
   "source": [
    "globals()"
   ]
  },
  {
   "cell_type": "code",
   "execution_count": null,
   "id": "72a4f853",
   "metadata": {},
   "outputs": [],
   "source": [
    "import a\n",
    "\n",
    "a.b   # b is an attribute in a"
   ]
  },
  {
   "cell_type": "code",
   "execution_count": 5,
   "id": "d2228251",
   "metadata": {},
   "outputs": [
    {
     "data": {
      "text/plain": [
       "module"
      ]
     },
     "execution_count": 5,
     "metadata": {},
     "output_type": "execute_result"
    }
   ],
   "source": [
    "import sys\n",
    "type(sys)"
   ]
  },
  {
   "cell_type": "code",
   "execution_count": 7,
   "id": "2ba318d4",
   "metadata": {},
   "outputs": [],
   "source": [
    "# create an empty module, and assign to mymod\n",
    "\n",
    "mymod = type(sys)('mymod')"
   ]
  },
  {
   "cell_type": "code",
   "execution_count": 8,
   "id": "ece71ef2",
   "metadata": {},
   "outputs": [
    {
     "data": {
      "text/plain": [
       "module"
      ]
     },
     "execution_count": 8,
     "metadata": {},
     "output_type": "execute_result"
    }
   ],
   "source": [
    "type(mymod)"
   ]
  },
  {
   "cell_type": "code",
   "execution_count": 9,
   "id": "d2acad15",
   "metadata": {},
   "outputs": [
    {
     "data": {
      "text/plain": [
       "['__doc__', '__loader__', '__name__', '__package__', '__spec__']"
      ]
     },
     "execution_count": 9,
     "metadata": {},
     "output_type": "execute_result"
    }
   ],
   "source": [
    "dir(mymod)"
   ]
  },
  {
   "cell_type": "code",
   "execution_count": 10,
   "id": "fe0f9307",
   "metadata": {},
   "outputs": [],
   "source": [
    "# eval (expects a string with a Python expression), exec (expects a string with Python code)"
   ]
  },
  {
   "cell_type": "code",
   "execution_count": null,
   "id": "52e1b6c5",
   "metadata": {},
   "outputs": [],
   "source": [
    "# We could just execute the module code, and have the variables defined in our global\n",
    "exec(open('mymod.py').read())"
   ]
  },
  {
   "cell_type": "code",
   "execution_count": 13,
   "id": "834f125c",
   "metadata": {},
   "outputs": [],
   "source": [
    "# let's instead execute the module's code, putting all of its global variables\n",
    "# into the module's __dict__, which defines its attributse\n",
    "exec(open('mymod.py').read(), \n",
    "     mymod.__dict__)"
   ]
  },
  {
   "cell_type": "code",
   "execution_count": 14,
   "id": "de9f4809",
   "metadata": {},
   "outputs": [
    {
     "data": {
      "text/plain": [
       "['__builtins__',\n",
       " '__doc__',\n",
       " '__loader__',\n",
       " '__name__',\n",
       " '__package__',\n",
       " '__spec__',\n",
       " 'hello',\n",
       " 'x',\n",
       " 'y']"
      ]
     },
     "execution_count": 14,
     "metadata": {},
     "output_type": "execute_result"
    }
   ],
   "source": [
    "dir(mymod)"
   ]
  },
  {
   "cell_type": "code",
   "execution_count": 15,
   "id": "04fc0eec",
   "metadata": {},
   "outputs": [],
   "source": [
    "d = {}"
   ]
  },
  {
   "cell_type": "code",
   "execution_count": 16,
   "id": "34f1c53d",
   "metadata": {},
   "outputs": [],
   "source": [
    "exec(open('mymod.py').read(), d)"
   ]
  },
  {
   "cell_type": "code",
   "execution_count": 18,
   "id": "2dc7eb1e",
   "metadata": {},
   "outputs": [
    {
     "data": {
      "text/plain": [
       "dict_keys(['__builtins__', 'x', 'y', 'hello'])"
      ]
     },
     "execution_count": 18,
     "metadata": {},
     "output_type": "execute_result"
    }
   ],
   "source": [
    "d.keys()"
   ]
  },
  {
   "cell_type": "code",
   "execution_count": 20,
   "id": "7ffcd836",
   "metadata": {},
   "outputs": [
    {
     "data": {
      "text/plain": [
       "dict_keys(['__name__', '__doc__', '__package__', '__loader__', '__spec__', '__builtins__', 'x', 'y', 'hello'])"
      ]
     },
     "execution_count": 20,
     "metadata": {},
     "output_type": "execute_result"
    }
   ],
   "source": [
    "mymod.__dict__.keys()"
   ]
  },
  {
   "cell_type": "code",
   "execution_count": 21,
   "id": "11259fc8",
   "metadata": {},
   "outputs": [],
   "source": [
    "mymod.abcdefg = 'hijklmnop'"
   ]
  },
  {
   "cell_type": "code",
   "execution_count": 22,
   "id": "022108e6",
   "metadata": {},
   "outputs": [
    {
     "data": {
      "text/plain": [
       "'hijklmnop'"
      ]
     },
     "execution_count": 22,
     "metadata": {},
     "output_type": "execute_result"
    }
   ],
   "source": [
    "mymod.abcdefg"
   ]
  },
  {
   "cell_type": "code",
   "execution_count": 23,
   "id": "cbee6889",
   "metadata": {},
   "outputs": [
    {
     "data": {
      "text/plain": [
       "dict_keys(['__name__', '__doc__', '__package__', '__loader__', '__spec__', '__builtins__', 'x', 'y', 'hello', 'abcdefg'])"
      ]
     },
     "execution_count": 23,
     "metadata": {},
     "output_type": "execute_result"
    }
   ],
   "source": [
    "mymod.__dict__.keys()"
   ]
  },
  {
   "cell_type": "code",
   "execution_count": 24,
   "id": "ffe48125",
   "metadata": {},
   "outputs": [
    {
     "ename": "AttributeError",
     "evalue": "readonly attribute",
     "output_type": "error",
     "traceback": [
      "\u001b[0;31m---------------------------------------------------------------------------\u001b[0m",
      "\u001b[0;31mAttributeError\u001b[0m                            Traceback (most recent call last)",
      "\u001b[0;32m/var/folders/rr/0mnyyv811fs5vyp22gf4fxk00000gn/T/ipykernel_71742/884656927.py\u001b[0m in \u001b[0;36m<module>\u001b[0;34m\u001b[0m\n\u001b[0;32m----> 1\u001b[0;31m \u001b[0;32mdel\u001b[0m\u001b[0;34m(\u001b[0m\u001b[0mmymod\u001b[0m\u001b[0;34m.\u001b[0m\u001b[0m__dict__\u001b[0m\u001b[0;34m)\u001b[0m\u001b[0;34m\u001b[0m\u001b[0;34m\u001b[0m\u001b[0m\n\u001b[0m",
      "\u001b[0;31mAttributeError\u001b[0m: readonly attribute"
     ]
    }
   ],
   "source": [
    "del(mymod.__dict__)"
   ]
  },
  {
   "cell_type": "code",
   "execution_count": 30,
   "id": "9079ad06",
   "metadata": {},
   "outputs": [
    {
     "data": {
      "text/plain": [
       "dict_keys(['__doc__', '__package__', '__loader__', '__spec__', '__builtins__', 'x', 'y', 'hello', 'abcdefg'])"
      ]
     },
     "execution_count": 30,
     "metadata": {},
     "output_type": "execute_result"
    }
   ],
   "source": [
    "mymod.__dict__.keys()"
   ]
  },
  {
   "cell_type": "code",
   "execution_count": 39,
   "id": "e67a75ae",
   "metadata": {},
   "outputs": [],
   "source": [
    "mymod.__dict__.pop('__spec__')"
   ]
  },
  {
   "cell_type": "code",
   "execution_count": 40,
   "id": "f901ce8f",
   "metadata": {},
   "outputs": [
    {
     "data": {
      "text/plain": [
       "[]"
      ]
     },
     "execution_count": 40,
     "metadata": {},
     "output_type": "execute_result"
    }
   ],
   "source": [
    "dir(mymod)"
   ]
  },
  {
   "cell_type": "code",
   "execution_count": 41,
   "id": "a7095a4f",
   "metadata": {},
   "outputs": [
    {
     "data": {
      "text/plain": [
       "{}"
      ]
     },
     "execution_count": 41,
     "metadata": {},
     "output_type": "execute_result"
    }
   ],
   "source": [
    "mymod.__dict__"
   ]
  },
  {
   "cell_type": "code",
   "execution_count": 63,
   "id": "8973c421",
   "metadata": {},
   "outputs": [],
   "source": [
    "class MyClass:\n",
    "    x = 100\n",
    "    \n",
    "    def __init__(self, y):\n",
    "        self.y = y\n",
    "        \n",
    "    def add_to_x(self, n):\n",
    "        MyClass.x += n"
   ]
  },
  {
   "cell_type": "code",
   "execution_count": 56,
   "id": "56c4154d",
   "metadata": {},
   "outputs": [],
   "source": [
    "m = MyClass(10)"
   ]
  },
  {
   "cell_type": "code",
   "execution_count": 57,
   "id": "9053510f",
   "metadata": {},
   "outputs": [
    {
     "data": {
      "text/plain": [
       "{'y': 10}"
      ]
     },
     "execution_count": 57,
     "metadata": {},
     "output_type": "execute_result"
    }
   ],
   "source": [
    "vars(m)   # y is an instance attribute"
   ]
  },
  {
   "cell_type": "code",
   "execution_count": 58,
   "id": "7817543a",
   "metadata": {},
   "outputs": [
    {
     "data": {
      "text/plain": [
       "mappingproxy({'__module__': '__main__',\n",
       "              'x': 100,\n",
       "              '__init__': <function __main__.MyClass.__init__(self, y)>,\n",
       "              'add_to_x': <function __main__.MyClass.add_to_x(self, n)>,\n",
       "              '__dict__': <attribute '__dict__' of 'MyClass' objects>,\n",
       "              '__weakref__': <attribute '__weakref__' of 'MyClass' objects>,\n",
       "              '__doc__': None})"
      ]
     },
     "execution_count": 58,
     "metadata": {},
     "output_type": "execute_result"
    }
   ],
   "source": [
    "vars(MyClass)"
   ]
  },
  {
   "cell_type": "code",
   "execution_count": 59,
   "id": "49f76fe8",
   "metadata": {},
   "outputs": [
    {
     "data": {
      "text/plain": [
       "100"
      ]
     },
     "execution_count": 59,
     "metadata": {},
     "output_type": "execute_result"
    }
   ],
   "source": [
    "# ICPO means that x is still available via m\n",
    "\n",
    "m.x"
   ]
  },
  {
   "cell_type": "code",
   "execution_count": 60,
   "id": "8312f7b2",
   "metadata": {},
   "outputs": [],
   "source": [
    "m.add_to_x(5)"
   ]
  },
  {
   "cell_type": "code",
   "execution_count": 61,
   "id": "cc646699",
   "metadata": {},
   "outputs": [
    {
     "data": {
      "text/plain": [
       "105"
      ]
     },
     "execution_count": 61,
     "metadata": {},
     "output_type": "execute_result"
    }
   ],
   "source": [
    "MyClass.x"
   ]
  },
  {
   "cell_type": "code",
   "execution_count": 65,
   "id": "60d4c4fe",
   "metadata": {},
   "outputs": [],
   "source": [
    "class MyClass:\n",
    "    x = 100    # defining MyClass.x, int\n",
    "    \n",
    "    class InnerClass:       # defining MyClass.InnerClass, class\n",
    "        def __init__(self, z):\n",
    "            self.z = z\n",
    "    \n",
    "    def __init__(self, y):  # defining MyClass.__init__, method\n",
    "        self.y = y\n",
    "        \n",
    "    def add_to_x(self, n):  # defining MyClass.add_to_x, method\n",
    "        MyClass.x += n"
   ]
  },
  {
   "cell_type": "markdown",
   "id": "afc0576b",
   "metadata": {},
   "source": [
    "# Argument vs. parameter\n",
    "\n",
    "1. Parameter is a local variable, named in the parentheses in the `def` line, right after the function name.\n",
    "        - `def hello(name)`, `name` is a parameter\n",
    "        - `def add(first, second)`, both `first` and `second` are parameters\n",
    "2. Arguments are values, placed in the parentheses when we *call* a function:\n",
    "        - `len('abcd')`, `'abcd'` is the value that we pass\n"
   ]
  },
  {
   "cell_type": "markdown",
   "id": "cff81ad1",
   "metadata": {},
   "source": [
    "# \"Magic methods\" in Python\n",
    "\n",
    "\"Magic methods\" all have two underscores before and after the name, known as \"dunder\" in Python.  We don't run these methods directly -- we let Python find and then call them."
   ]
  },
  {
   "cell_type": "code",
   "execution_count": 66,
   "id": "f66e8574",
   "metadata": {},
   "outputs": [
    {
     "ename": "TypeError",
     "evalue": "object of type 'MyClass' has no len()",
     "output_type": "error",
     "traceback": [
      "\u001b[0;31m---------------------------------------------------------------------------\u001b[0m",
      "\u001b[0;31mTypeError\u001b[0m                                 Traceback (most recent call last)",
      "\u001b[0;32m/var/folders/rr/0mnyyv811fs5vyp22gf4fxk00000gn/T/ipykernel_71742/2976027037.py\u001b[0m in \u001b[0;36m<module>\u001b[0;34m\u001b[0m\n\u001b[1;32m      5\u001b[0m \u001b[0mm\u001b[0m \u001b[0;34m=\u001b[0m \u001b[0mMyClass\u001b[0m\u001b[0;34m(\u001b[0m\u001b[0;34m'abcde'\u001b[0m\u001b[0;34m)\u001b[0m\u001b[0;34m\u001b[0m\u001b[0;34m\u001b[0m\u001b[0m\n\u001b[1;32m      6\u001b[0m \u001b[0;34m\u001b[0m\u001b[0m\n\u001b[0;32m----> 7\u001b[0;31m \u001b[0mlen\u001b[0m\u001b[0;34m(\u001b[0m\u001b[0mm\u001b[0m\u001b[0;34m)\u001b[0m\u001b[0;34m\u001b[0m\u001b[0;34m\u001b[0m\u001b[0m\n\u001b[0m",
      "\u001b[0;31mTypeError\u001b[0m: object of type 'MyClass' has no len()"
     ]
    }
   ],
   "source": [
    "class MyClass:\n",
    "    def __init__(self, x):\n",
    "        self.x = x\n",
    "        \n",
    "m = MyClass('abcde')        \n",
    "\n",
    "len(m)  # this is because len (the function) searches for __len__ (the method)"
   ]
  },
  {
   "cell_type": "code",
   "execution_count": 68,
   "id": "a8cb4c52",
   "metadata": {},
   "outputs": [
    {
     "data": {
      "text/plain": [
       "5"
      ]
     },
     "execution_count": 68,
     "metadata": {},
     "output_type": "execute_result"
    }
   ],
   "source": [
    "class MyClass:\n",
    "    def __init__(self, x):\n",
    "        self.x = x\n",
    "        \n",
    "    def __len__(self):\n",
    "        return len(self.x)\n",
    "        \n",
    "m = MyClass('abcde')        \n",
    "\n",
    "len(m)  "
   ]
  },
  {
   "cell_type": "code",
   "execution_count": 69,
   "id": "e6f033f5",
   "metadata": {},
   "outputs": [
    {
     "data": {
      "text/plain": [
       "5"
      ]
     },
     "execution_count": 69,
     "metadata": {},
     "output_type": "execute_result"
    }
   ],
   "source": [
    "m.__len__()   # works, but don't do it!"
   ]
  },
  {
   "cell_type": "code",
   "execution_count": 70,
   "id": "24a6e9f3",
   "metadata": {},
   "outputs": [
    {
     "name": "stdout",
     "output_type": "stream",
     "text": [
      "<__main__.MyClass object at 0x112c63760>\n"
     ]
    }
   ],
   "source": [
    "m = MyClass('abcde')\n",
    "print(m)  # --> print(str(m)) --> print(m.__str__()) --> print(MyClass.__str__(m)) --> print(object.__str__(m))"
   ]
  },
  {
   "cell_type": "code",
   "execution_count": 71,
   "id": "7cdb7a18",
   "metadata": {},
   "outputs": [
    {
     "data": {
      "text/plain": [
       "'<__main__.MyClass object at 0x112c63760>'"
      ]
     },
     "execution_count": 71,
     "metadata": {},
     "output_type": "execute_result"
    }
   ],
   "source": [
    "object.__str__(m)"
   ]
  },
  {
   "cell_type": "code",
   "execution_count": 72,
   "id": "b10157e1",
   "metadata": {},
   "outputs": [
    {
     "data": {
      "text/plain": [
       "5"
      ]
     },
     "execution_count": 72,
     "metadata": {},
     "output_type": "execute_result"
    }
   ],
   "source": [
    "class MyClass:\n",
    "    def __init__(self, x):\n",
    "        self.x = x\n",
    "        \n",
    "    def __len__(self):\n",
    "        return len(self.x)\n",
    "        \n",
    "    def __str__(self):\n",
    "        return f'MyClass object, {vars(self)=}'\n",
    "    \n",
    "m = MyClass('abcde')        \n",
    "\n",
    "len(m)  "
   ]
  },
  {
   "cell_type": "code",
   "execution_count": 73,
   "id": "8761f038",
   "metadata": {},
   "outputs": [
    {
     "name": "stdout",
     "output_type": "stream",
     "text": [
      "MyClass object, vars(self)={'x': 'abcde'}\n"
     ]
    }
   ],
   "source": [
    "print(m)"
   ]
  },
  {
   "cell_type": "code",
   "execution_count": 74,
   "id": "a303e6ee",
   "metadata": {},
   "outputs": [
    {
     "data": {
      "text/plain": [
       "\"MyClass object, vars(self)={'x': 'abcde'}\""
      ]
     },
     "execution_count": 74,
     "metadata": {},
     "output_type": "execute_result"
    }
   ],
   "source": [
    "str(m)"
   ]
  },
  {
   "cell_type": "code",
   "execution_count": 75,
   "id": "9b99fc29",
   "metadata": {},
   "outputs": [],
   "source": [
    "mylist = [10, 20, 30]"
   ]
  },
  {
   "cell_type": "code",
   "execution_count": 76,
   "id": "d438c768",
   "metadata": {},
   "outputs": [
    {
     "data": {
      "text/plain": [
       "['__add__',\n",
       " '__class__',\n",
       " '__class_getitem__',\n",
       " '__contains__',\n",
       " '__delattr__',\n",
       " '__delitem__',\n",
       " '__dir__',\n",
       " '__doc__',\n",
       " '__eq__',\n",
       " '__format__',\n",
       " '__ge__',\n",
       " '__getattribute__',\n",
       " '__getitem__',\n",
       " '__gt__',\n",
       " '__hash__',\n",
       " '__iadd__',\n",
       " '__imul__',\n",
       " '__init__',\n",
       " '__init_subclass__',\n",
       " '__iter__',\n",
       " '__le__',\n",
       " '__len__',\n",
       " '__lt__',\n",
       " '__mul__',\n",
       " '__ne__',\n",
       " '__new__',\n",
       " '__reduce__',\n",
       " '__reduce_ex__',\n",
       " '__repr__',\n",
       " '__reversed__',\n",
       " '__rmul__',\n",
       " '__setattr__',\n",
       " '__setitem__',\n",
       " '__sizeof__',\n",
       " '__str__',\n",
       " '__subclasshook__',\n",
       " 'append',\n",
       " 'clear',\n",
       " 'copy',\n",
       " 'count',\n",
       " 'extend',\n",
       " 'index',\n",
       " 'insert',\n",
       " 'pop',\n",
       " 'remove',\n",
       " 'reverse',\n",
       " 'sort']"
      ]
     },
     "execution_count": 76,
     "metadata": {},
     "output_type": "execute_result"
    }
   ],
   "source": [
    "dir(list)"
   ]
  },
  {
   "cell_type": "code",
   "execution_count": 77,
   "id": "518562ae",
   "metadata": {},
   "outputs": [
    {
     "data": {
      "text/plain": [
       "3"
      ]
     },
     "execution_count": 77,
     "metadata": {},
     "output_type": "execute_result"
    }
   ],
   "source": [
    "mylist.__len__()"
   ]
  },
  {
   "cell_type": "code",
   "execution_count": 78,
   "id": "31ab7023",
   "metadata": {},
   "outputs": [
    {
     "data": {
      "text/plain": [
       "3"
      ]
     },
     "execution_count": 78,
     "metadata": {},
     "output_type": "execute_result"
    }
   ],
   "source": [
    "list.__len__(mylist)"
   ]
  },
  {
   "cell_type": "code",
   "execution_count": 79,
   "id": "f06bd906",
   "metadata": {},
   "outputs": [
    {
     "name": "stdout",
     "output_type": "stream",
     "text": [
      "MyClass object, vars(self)={'x': 'abcde'}\n"
     ]
    }
   ],
   "source": [
    "print(m)"
   ]
  },
  {
   "cell_type": "code",
   "execution_count": 80,
   "id": "fdcf0c5b",
   "metadata": {},
   "outputs": [
    {
     "data": {
      "text/plain": [
       "<__main__.MyClass at 0x112c61c60>"
      ]
     },
     "execution_count": 80,
     "metadata": {},
     "output_type": "execute_result"
    }
   ],
   "source": [
    "m"
   ]
  },
  {
   "cell_type": "code",
   "execution_count": null,
   "id": "1d33ce7c",
   "metadata": {},
   "outputs": [],
   "source": [
    "class MyClass:\n",
    "    def __init__(self, x):\n",
    "        self.x = x\n",
    "        \n",
    "    def __len__(self):\n",
    "        return len(self.x)\n",
    "        \n",
    "    def __str__(self):\n",
    "        return f'MyClass object, {vars(self)=}'\n",
    "    \n",
    "m = MyClass('abcde')        \n",
    "\n",
    "len(m)  "
   ]
  },
  {
   "cell_type": "markdown",
   "id": "e7d49f60",
   "metadata": {},
   "source": [
    "# `__str__` vs. `__repr__`\n",
    "\n",
    "`__str__` returns a string, based on the object.  This method is run when we use `print` or `str` on an object.  It's meant to give a string for the end user.\n",
    "\n",
    "`__repr__` returns a string, based on the object.  This is invoked when we're in a debugger or Jupyter.  The output is meant for developers and other internal users.  The returned string should be a legal Python expression, that we can use `eval` on to get the value back.\n",
    "\n",
    "If we don't implement `__repr__`, but do implement `__str__`, then `__repr__` keeps using the default.\n",
    "\n",
    "However, if we *do* implement `__repr__`, and do **not** implement `__str__`, then `__repr__` handles everything.\n",
    "\n",
    "My advice is thus always to write `__repr__`, and only implement `__str__` when you need to have separate outputs."
   ]
  },
  {
   "cell_type": "code",
   "execution_count": 81,
   "id": "80c271a7",
   "metadata": {},
   "outputs": [
    {
     "data": {
      "text/plain": [
       "5"
      ]
     },
     "execution_count": 81,
     "metadata": {},
     "output_type": "execute_result"
    }
   ],
   "source": [
    "class MyClass:\n",
    "    def __init__(self, x):\n",
    "        self.x = x\n",
    "        \n",
    "    def __len__(self):\n",
    "        return len(self.x)\n",
    "        \n",
    "    def __repr__(self):\n",
    "        return f'MyClass object, {vars(self)=}'\n",
    "    \n",
    "m = MyClass('abcde')        \n",
    "\n",
    "len(m)  "
   ]
  },
  {
   "cell_type": "code",
   "execution_count": 82,
   "id": "ef76460b",
   "metadata": {},
   "outputs": [
    {
     "name": "stdout",
     "output_type": "stream",
     "text": [
      "MyClass object, vars(self)={'x': 'abcde'}\n"
     ]
    }
   ],
   "source": [
    "print(m)"
   ]
  },
  {
   "cell_type": "code",
   "execution_count": 83,
   "id": "7b276ccc",
   "metadata": {},
   "outputs": [
    {
     "data": {
      "text/plain": [
       "\"MyClass object, vars(self)={'x': 'abcde'}\""
      ]
     },
     "execution_count": 83,
     "metadata": {},
     "output_type": "execute_result"
    }
   ],
   "source": [
    "str(m)"
   ]
  },
  {
   "cell_type": "code",
   "execution_count": 84,
   "id": "8c40294c",
   "metadata": {},
   "outputs": [
    {
     "data": {
      "text/plain": [
       "\"MyClass object, vars(self)={'x': 'abcde'}\""
      ]
     },
     "execution_count": 84,
     "metadata": {},
     "output_type": "execute_result"
    }
   ],
   "source": [
    "repr(m)"
   ]
  },
  {
   "cell_type": "code",
   "execution_count": 85,
   "id": "d43129ee",
   "metadata": {},
   "outputs": [
    {
     "data": {
      "text/plain": [
       "MyClass object, vars(self)={'x': 'abcde'}"
      ]
     },
     "execution_count": 85,
     "metadata": {},
     "output_type": "execute_result"
    }
   ],
   "source": [
    "m"
   ]
  },
  {
   "cell_type": "markdown",
   "id": "3981774b",
   "metadata": {},
   "source": [
    "# Exercise: Zoo\n",
    "\n",
    "1. Create several classes for different animals:\n",
    "\n",
    "```python\n",
    "wolf = Wolf('black')            # species, color, # legs\n",
    "sheep1 = Sheep('white')\n",
    "sheep2 = Sheep('white')\n",
    "snake = Snake('brown')\n",
    "parrot = Parrot('black')\n",
    "\n",
    "print(wolf)                      # black wolf, 4 legs\n",
    "print(sheep1)                    # white sheep, 4 legs\n",
    "print(sheep2)                    # white sheep, 4 legs\n",
    "print(snake)                     # brown snake, 0 legs\n",
    "print(parrot)                    # black parrot, 2 legs\n",
    "```\n",
    "\n",
    "2. I then want you to create a `Cage` class, into which we can add animals:\n",
    "\n",
    "```python\n",
    "c1 = Cage(1)\n",
    "c1.add_animals(wolf, sheep1, sheep2)\n",
    "print(c1)                        # cage number + animal printouts\n",
    "\n",
    "c2 = Cage(2)                    # an ID number, not that important\n",
    "c2.add_animals(snake, parrot)\n",
    "print(c2)                        # cage number + animal printouts\n",
    "```\n",
    "\n",
    "3. Then create a `Zoo` class, into which we can add cages:\n",
    "\n",
    "```python\n",
    "z.add_cages(c1, c2)\n",
    "print(z)                           # show all cages, all animals\n",
    "\n",
    "print(z.animals_by_color('black'))\n",
    "print(z.number_of_legs())\n",
    "```"
   ]
  },
  {
   "cell_type": "code",
   "execution_count": 86,
   "id": "69c75de3",
   "metadata": {},
   "outputs": [],
   "source": [
    "class MySubClass:\n",
    "    def a_method(self, x, y):\n",
    "        super().a_method(x)   # finds a_method in a parent class, and invokes it\n",
    "        \n",
    "        "
   ]
  },
  {
   "cell_type": "code",
   "execution_count": 87,
   "id": "2ef20895",
   "metadata": {},
   "outputs": [],
   "source": [
    "m = MySubClass()"
   ]
  },
  {
   "cell_type": "code",
   "execution_count": 88,
   "id": "66ddac70",
   "metadata": {},
   "outputs": [
    {
     "name": "stdout",
     "output_type": "stream",
     "text": [
      "<__main__.MySubClass object at 0x112c630d0>\n"
     ]
    }
   ],
   "source": [
    "print(m)  # m.__str__() --> MySubClass.__str__ -> object.__str__"
   ]
  },
  {
   "cell_type": "code",
   "execution_count": 89,
   "id": "3cfb880b",
   "metadata": {},
   "outputs": [
    {
     "data": {
      "text/plain": [
       "'MySubClass'"
      ]
     },
     "execution_count": 89,
     "metadata": {},
     "output_type": "execute_result"
    }
   ],
   "source": [
    "MySubClass.__name__ "
   ]
  },
  {
   "cell_type": "code",
   "execution_count": 91,
   "id": "f6d31c66",
   "metadata": {},
   "outputs": [
    {
     "data": {
      "text/plain": [
       "'MySubClass'"
      ]
     },
     "execution_count": 91,
     "metadata": {},
     "output_type": "execute_result"
    }
   ],
   "source": [
    "type(m).__name__"
   ]
  },
  {
   "cell_type": "code",
   "execution_count": 110,
   "id": "eda144ab",
   "metadata": {},
   "outputs": [
    {
     "name": "stdout",
     "output_type": "stream",
     "text": [
      "black Wolf, 4 legs\n",
      "white Sheep, 4 legs\n",
      "white Sheep, 4 legs\n",
      "brown Snake, 0 legs\n",
      "black Parrot, 2 legs\n",
      "*** Cage ****\n",
      "Cage 1\n",
      "\tblack Wolf, 4 legs\n",
      "\twhite Sheep, 4 legs\n",
      "\twhite Sheep, 4 legs\n",
      "Cage 2\n",
      "\tbrown Snake, 0 legs\n",
      "\tblack Parrot, 2 legs\n",
      "*** Zoo ****\n",
      "Cage 1\n",
      "\tblack Wolf, 4 legs\n",
      "\twhite Sheep, 4 legs\n",
      "\twhite Sheep, 4 legs\n",
      "Cage 2\n",
      "\tbrown Snake, 0 legs\n",
      "\tblack Parrot, 2 legs\n",
      "white Sheep, 4 legs\n",
      "white Sheep, 4 legs\n",
      "14\n"
     ]
    }
   ],
   "source": [
    "class Animal:\n",
    "    number_of_legs = '(No legs; abstract!)'\n",
    "    \n",
    "    def __init__(self, color):\n",
    "        self.color = color\n",
    "        self.species = type(self).__name__\n",
    "        \n",
    "    def __repr__(self):\n",
    "        return f'{self.color} {self.species}, {self.number_of_legs} legs'\n",
    "\n",
    "class Wolf(Animal):\n",
    "    number_of_legs = 4   # Wolf.number_of_legs\n",
    "        \n",
    "class Sheep(Animal):\n",
    "    number_of_legs = 4   # Sheep.number_of_legs\n",
    "        \n",
    "class Snake(Animal):\n",
    "    number_of_legs = 0\n",
    "        \n",
    "class Parrot(Animal):\n",
    "    number_of_legs = 2\n",
    "\n",
    "wolf = Wolf('black')            # species, color, # legs\n",
    "sheep1 = Sheep('white')\n",
    "sheep2 = Sheep('white')\n",
    "snake = Snake('brown')\n",
    "parrot = Parrot('black')\n",
    "\n",
    "print(wolf)                      # black wolf, 4 legs\n",
    "print(sheep1)                    # white sheep, 4 legs\n",
    "print(sheep2)                    # white sheep, 4 legs\n",
    "print(snake)                     # brown snake, 0 legs\n",
    "print(parrot)                    # black parrot, 2 legs\n",
    "\n",
    "class Cage:\n",
    "    def __init__(self, id_number):\n",
    "        self.id_number = id_number\n",
    "        self.animals = []\n",
    "        \n",
    "    def add_animals(self, *args):\n",
    "        self.animals += args\n",
    "        \n",
    "    def __repr__(self):\n",
    "        output = f'Cage {self.id_number}\\n'\n",
    "        \n",
    "        output += '\\n'.join([f'\\t{one_animal}'\n",
    "                            for one_animal in self.animals])\n",
    "        \n",
    "        return output\n",
    "\n",
    "print('*** Cage ****')\n",
    "\n",
    "c1 = Cage(1)\n",
    "c1.add_animals(wolf, sheep1, sheep2)\n",
    "print(c1)                        # cage number + animal printouts\n",
    "\n",
    "c2 = Cage(2)                    # an ID number, not that important\n",
    "c2.add_animals(snake, parrot)\n",
    "print(c2)                        # cage number + animal printouts\n",
    "\n",
    "class Zoo:\n",
    "    def __init__(self):\n",
    "        self.cages = []\n",
    "        \n",
    "    def add_cages(self, *args):\n",
    "        self.cages += args\n",
    "        \n",
    "    def __repr__(self):\n",
    "        return '\\n'.join([str(one_cage)\n",
    "                         for one_cage in self.cages])\n",
    "    \n",
    "    def animals_by_color(self, color):\n",
    "        return '\\n'.join([str(one_animal)\n",
    "                          for one_cage in self.cages\n",
    "                          for one_animal in one_cage.animals\n",
    "                          if one_animal.color == color])\n",
    "    \n",
    "    def number_of_legs(self):\n",
    "        return sum([one_animal.number_of_legs\n",
    "                    for one_cage in self.cages\n",
    "                    for one_animal in one_cage.animals])\n",
    "\n",
    "print('*** Zoo ****')\n",
    "z = Zoo()\n",
    "z.add_cages(c1, c2)\n",
    "print(z)                           # show all cages, all animals\n",
    "\n",
    "print(z.animals_by_color('white'))\n",
    "print(z.number_of_legs())\n"
   ]
  },
  {
   "cell_type": "markdown",
   "id": "955ba039",
   "metadata": {},
   "source": [
    "# Next up\n",
    "\n",
    "- More magic methods (`==`, `+`)\n",
    "- Diagram of objects + classes (+ metaclasses)\n",
    "- Properties + descriptors\n",
    "\n",
    "Resume at 11:10"
   ]
  },
  {
   "cell_type": "code",
   "execution_count": null,
   "id": "81a2826a",
   "metadata": {},
   "outputs": [],
   "source": []
  }
 ],
 "metadata": {
  "kernelspec": {
   "display_name": "Python 3 (ipykernel)",
   "language": "python",
   "name": "python3"
  },
  "language_info": {
   "codemirror_mode": {
    "name": "ipython",
    "version": 3
   },
   "file_extension": ".py",
   "mimetype": "text/x-python",
   "name": "python",
   "nbconvert_exporter": "python",
   "pygments_lexer": "ipython3",
   "version": "3.10.5"
  }
 },
 "nbformat": 4,
 "nbformat_minor": 5
}
